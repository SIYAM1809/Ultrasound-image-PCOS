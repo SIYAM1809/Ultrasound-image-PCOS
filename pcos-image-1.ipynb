{
 "cells": [
  {
   "cell_type": "code",
   "execution_count": 1,
   "id": "d23e7fbd",
   "metadata": {
    "_cell_guid": "b1076dfc-b9ad-4769-8c92-a6c4dae69d19",
    "_uuid": "8f2839f25d086af736a60e9eeb907d3b93b6e0e5",
    "execution": {
     "iopub.execute_input": "2025-08-23T21:56:54.441261Z",
     "iopub.status.busy": "2025-08-23T21:56:54.440708Z",
     "iopub.status.idle": "2025-08-23T21:57:02.907082Z",
     "shell.execute_reply": "2025-08-23T21:57:02.906380Z"
    },
    "papermill": {
     "duration": 8.483016,
     "end_time": "2025-08-23T21:57:02.917117",
     "exception": false,
     "start_time": "2025-08-23T21:56:54.434101",
     "status": "completed"
    },
    "tags": []
   },
   "outputs": [
    {
     "name": "stdout",
     "output_type": "stream",
     "text": [
      "/kaggle/input/pcos-picture/PCOSGen-test/images/image10876.jpg\n",
      "/kaggle/input/pcos-picture/PCOSGen-test/images/image11269.jpg\n",
      "/kaggle/input/pcos-picture/PCOSGen-test/images/image11210.jpg\n",
      "/kaggle/input/pcos-picture/PCOSGen-test/images/image10743.jpg\n",
      "/kaggle/input/pcos-picture/PCOSGen-test/images/image10247.jpg\n",
      "/kaggle/input/pcos-picture/PCOSGen-test/images/image10969.jpg\n",
      "/kaggle/input/pcos-picture/PCOSGen-test/images/image10633.jpg\n",
      "/kaggle/input/pcos-picture/PCOSGen-test/images/image10696.jpg\n",
      "/kaggle/input/pcos-picture/PCOSGen-test/images/image10052.jpg\n",
      "/kaggle/input/pcos-picture/PCOSGen-test/images/image11106.jpg\n",
      "/kaggle/input/pcos-picture/PCOSGen-test/images/image10497.jpg\n",
      "/kaggle/input/pcos-picture/PCOSGen-test/images/image10349.jpg\n",
      "/kaggle/input/pcos-picture/PCOSGen-test/images/image10425.jpg\n",
      "/kaggle/input/pcos-picture/PCOSGen-test/images/image10432.jpg\n",
      "/kaggle/input/pcos-picture/PCOSGen-test/images/image11016.jpg\n",
      "/kaggle/input/pcos-picture/PCOSGen-test/images/image10051.jpg\n",
      "/kaggle/input/pcos-picture/PCOSGen-test/images/image11144.jpg\n",
      "/kaggle/input/pcos-picture/PCOSGen-test/images/image11067.jpg\n",
      "/kaggle/input/pcos-picture/PCOSGen-test/images/image10280.jpg\n",
      "/kaggle/input/pcos-picture/PCOSGen-test/images/image11305.jpg\n",
      "/kaggle/input/pcos-picture/PCOSGen-test/images/image10327.jpg\n",
      "/kaggle/input/pcos-picture/PCOSGen-test/images/image11259.jpg\n",
      "/kaggle/input/pcos-picture/PCOSGen-test/images/image10223.jpg\n",
      "/kaggle/input/pcos-picture/PCOSGen-test/images/image10859.jpg\n",
      "/kaggle/input/pcos-picture/PCOSGen-test/images/image10226.jpg\n",
      "/kaggle/input/pcos-picture/PCOSGen-test/images/image10008.jpg\n",
      "/kaggle/input/pcos-picture/PCOSGen-test/images/image11089.jpg\n",
      "/kaggle/input/pcos-picture/PCOSGen-test/images/image10944.jpg\n",
      "/kaggle/input/pcos-picture/PCOSGen-test/images/image11327.jpg\n",
      "/kaggle/input/pcos-picture/PCOSGen-test/images/image11134.jpg\n",
      "/kaggle/input/pcos-picture/PCOSGen-test/images/image10872.jpg\n",
      "/kaggle/input/pcos-picture/PCOSGen-test/images/image11012.jpg\n",
      "/kaggle/input/pcos-picture/PCOSGen-test/images/image11095.jpg\n",
      "/kaggle/input/pcos-picture/PCOSGen-test/images/image10390.jpg\n",
      "/kaggle/input/pcos-picture/PCOSGen-test/images/image11261.jpg\n",
      "/kaggle/input/pcos-picture/PCOSGen-test/images/image10241.jpg\n",
      "/kaggle/input/pcos-picture/PCOSGen-test/images/image11289.jpg\n",
      "/kaggle/input/pcos-picture/PCOSGen-test/images/image10105.jpg\n",
      "/kaggle/input/pcos-picture/PCOSGen-test/images/image10575.jpg\n",
      "/kaggle/input/pcos-picture/PCOSGen-test/images/image10911.jpg\n",
      "/kaggle/input/pcos-picture/PCOSGen-test/images/image11053.jpg\n",
      "/kaggle/input/pcos-picture/PCOSGen-test/images/image11080.jpg\n",
      "/kaggle/input/pcos-picture/PCOSGen-test/images/image10340.jpg\n",
      "/kaggle/input/pcos-picture/PCOSGen-test/images/image10855.jpg\n",
      "/kaggle/input/pcos-picture/PCOSGen-test/images/image10617.jpg\n",
      "/kaggle/input/pcos-picture/PCOSGen-test/images/image10165.jpg\n",
      "/kaggle/input/pcos-picture/PCOSGen-test/images/image11078.jpg\n",
      "/kaggle/input/pcos-picture/PCOSGen-test/images/image10332.jpg\n",
      "/kaggle/input/pcos-picture/PCOSGen-test/images/image10464.jpg\n",
      "/kaggle/input/pcos-picture/PCOSGen-test/images/image10254.jpg\n",
      "/kaggle/input/pcos-picture/PCOSGen-test/images/image10686.jpg\n",
      "/kaggle/input/pcos-picture/PCOSGen-test/images/image10451.jpg\n",
      "/kaggle/input/pcos-picture/PCOSGen-test/images/image10952.jpg\n",
      "/kaggle/input/pcos-picture/PCOSGen-test/images/image10107.jpg\n",
      "/kaggle/input/pcos-picture/PCOSGen-test/images/image10301.jpg\n",
      "/kaggle/input/pcos-picture/PCOSGen-test/images/image10182.jpg\n",
      "/kaggle/input/pcos-picture/PCOSGen-test/images/image10342.jpg\n",
      "/kaggle/input/pcos-picture/PCOSGen-test/images/image10808.jpg\n",
      "/kaggle/input/pcos-picture/PCOSGen-test/images/image11321.jpg\n",
      "/kaggle/input/pcos-picture/PCOSGen-test/images/image10907.jpg\n",
      "/kaggle/input/pcos-picture/PCOSGen-test/images/image10667.jpg\n",
      "/kaggle/input/pcos-picture/PCOSGen-test/images/image10781.jpg\n",
      "/kaggle/input/pcos-picture/PCOSGen-test/images/image11415.jpg\n",
      "/kaggle/input/pcos-picture/PCOSGen-test/images/image10507.jpg\n",
      "/kaggle/input/pcos-picture/PCOSGen-test/images/image10676.jpg\n",
      "/kaggle/input/pcos-picture/PCOSGen-test/images/image11041.jpg\n",
      "/kaggle/input/pcos-picture/PCOSGen-test/images/image10505.jpg\n",
      "/kaggle/input/pcos-picture/PCOSGen-test/images/image10404.jpg\n",
      "/kaggle/input/pcos-picture/PCOSGen-test/images/image10365.jpg\n",
      "/kaggle/input/pcos-picture/PCOSGen-test/images/image10744.jpg\n",
      "/kaggle/input/pcos-picture/PCOSGen-test/images/image11021.jpg\n",
      "/kaggle/input/pcos-picture/PCOSGen-test/images/image11127.jpg\n",
      "/kaggle/input/pcos-picture/PCOSGen-test/images/image11143.jpg\n",
      "/kaggle/input/pcos-picture/PCOSGen-test/images/image10075.jpg\n",
      "/kaggle/input/pcos-picture/PCOSGen-test/images/image11330.jpg\n",
      "/kaggle/input/pcos-picture/PCOSGen-test/images/image10629.jpg\n",
      "/kaggle/input/pcos-picture/PCOSGen-test/images/image11356.jpg\n",
      "/kaggle/input/pcos-picture/PCOSGen-test/images/image10556.jpg\n",
      "/kaggle/input/pcos-picture/PCOSGen-test/images/image10740.jpg\n",
      "/kaggle/input/pcos-picture/PCOSGen-test/images/image10610.jpg\n",
      "/kaggle/input/pcos-picture/PCOSGen-test/images/image10086.jpg\n",
      "/kaggle/input/pcos-picture/PCOSGen-test/images/image10939.jpg\n",
      "/kaggle/input/pcos-picture/PCOSGen-test/images/image11250.jpg\n",
      "/kaggle/input/pcos-picture/PCOSGen-test/images/image11343.jpg\n",
      "/kaggle/input/pcos-picture/PCOSGen-test/images/image11215.jpg\n",
      "/kaggle/input/pcos-picture/PCOSGen-test/images/image10399.jpg\n",
      "/kaggle/input/pcos-picture/PCOSGen-test/images/image10046.jpg\n",
      "/kaggle/input/pcos-picture/PCOSGen-test/images/image11172.jpg\n",
      "/kaggle/input/pcos-picture/PCOSGen-test/images/image10700.jpg\n",
      "/kaggle/input/pcos-picture/PCOSGen-test/images/image10002.jpg\n",
      "/kaggle/input/pcos-picture/PCOSGen-test/images/image11463.jpg\n",
      "/kaggle/input/pcos-picture/PCOSGen-test/images/image10643.jpg\n",
      "/kaggle/input/pcos-picture/PCOSGen-test/images/image11115.jpg\n",
      "/kaggle/input/pcos-picture/PCOSGen-test/images/image10136.jpg\n",
      "/kaggle/input/pcos-picture/PCOSGen-test/images/image10929.jpg\n",
      "/kaggle/input/pcos-picture/PCOSGen-test/images/image11231.jpg\n",
      "/kaggle/input/pcos-picture/PCOSGen-test/images/image10218.jpg\n",
      "/kaggle/input/pcos-picture/PCOSGen-test/images/image10426.jpg\n",
      "/kaggle/input/pcos-picture/PCOSGen-test/images/image10817.jpg\n",
      "/kaggle/input/pcos-picture/PCOSGen-test/images/image10063.jpg\n",
      "/kaggle/input/pcos-picture/PCOSGen-test/images/image10492.jpg\n",
      "/kaggle/input/pcos-picture/PCOSGen-test/images/image10882.jpg\n",
      "/kaggle/input/pcos-picture/PCOSGen-test/images/image10197.jpg\n",
      "/kaggle/input/pcos-picture/PCOSGen-test/images/image10926.jpg\n",
      "/kaggle/input/pcos-picture/PCOSGen-test/images/image11109.jpg\n",
      "/kaggle/input/pcos-picture/PCOSGen-test/images/image10598.jpg\n",
      "/kaggle/input/pcos-picture/PCOSGen-test/images/image10669.jpg\n",
      "/kaggle/input/pcos-picture/PCOSGen-test/images/image10986.jpg\n",
      "/kaggle/input/pcos-picture/PCOSGen-test/images/image11189.jpg\n",
      "/kaggle/input/pcos-picture/PCOSGen-test/images/image10343.jpg\n",
      "/kaggle/input/pcos-picture/PCOSGen-test/images/image10745.jpg\n",
      "/kaggle/input/pcos-picture/PCOSGen-test/images/image10126.jpg\n",
      "/kaggle/input/pcos-picture/PCOSGen-test/images/image11071.jpg\n",
      "/kaggle/input/pcos-picture/PCOSGen-test/images/image10608.jpg\n",
      "/kaggle/input/pcos-picture/PCOSGen-test/images/image11232.jpg\n",
      "/kaggle/input/pcos-picture/PCOSGen-test/images/image11130.jpg\n",
      "/kaggle/input/pcos-picture/PCOSGen-test/images/image11247.jpg\n",
      "/kaggle/input/pcos-picture/PCOSGen-test/images/image10282.jpg\n",
      "/kaggle/input/pcos-picture/PCOSGen-test/images/image11014.jpg\n",
      "/kaggle/input/pcos-picture/PCOSGen-test/images/image10287.jpg\n",
      "/kaggle/input/pcos-picture/PCOSGen-test/images/image11223.jpg\n",
      "/kaggle/input/pcos-picture/PCOSGen-test/images/image11218.jpg\n",
      "/kaggle/input/pcos-picture/PCOSGen-test/images/image11104.jpg\n",
      "/kaggle/input/pcos-picture/PCOSGen-test/images/image10517.jpg\n",
      "/kaggle/input/pcos-picture/PCOSGen-test/images/image11248.jpg\n",
      "/kaggle/input/pcos-picture/PCOSGen-test/images/image10269.jpg\n",
      "/kaggle/input/pcos-picture/PCOSGen-test/images/image10508.jpg\n",
      "/kaggle/input/pcos-picture/PCOSGen-test/images/image10369.jpg\n",
      "/kaggle/input/pcos-picture/PCOSGen-test/images/image10888.jpg\n",
      "/kaggle/input/pcos-picture/PCOSGen-test/images/image10100.jpg\n",
      "/kaggle/input/pcos-picture/PCOSGen-test/images/image11427.jpg\n",
      "/kaggle/input/pcos-picture/PCOSGen-test/images/image10385.jpg\n",
      "/kaggle/input/pcos-picture/PCOSGen-test/images/image11155.jpg\n",
      "/kaggle/input/pcos-picture/PCOSGen-test/images/image10916.jpg\n",
      "/kaggle/input/pcos-picture/PCOSGen-test/images/image10171.jpg\n",
      "/kaggle/input/pcos-picture/PCOSGen-test/images/image11275.jpg\n",
      "/kaggle/input/pcos-picture/PCOSGen-test/images/image10539.jpg\n",
      "/kaggle/input/pcos-picture/PCOSGen-test/images/image11425.jpg\n",
      "/kaggle/input/pcos-picture/PCOSGen-test/images/image10784.jpg\n",
      "/kaggle/input/pcos-picture/PCOSGen-test/images/image10309.jpg\n",
      "/kaggle/input/pcos-picture/PCOSGen-test/images/image10427.jpg\n",
      "/kaggle/input/pcos-picture/PCOSGen-test/images/image11302.jpg\n",
      "/kaggle/input/pcos-picture/PCOSGen-test/images/image11446.jpg\n",
      "/kaggle/input/pcos-picture/PCOSGen-test/images/image10778.jpg\n",
      "/kaggle/input/pcos-picture/PCOSGen-test/images/image10094.jpg\n",
      "/kaggle/input/pcos-picture/PCOSGen-test/images/image10976.jpg\n",
      "/kaggle/input/pcos-picture/PCOSGen-test/images/image10569.jpg\n",
      "/kaggle/input/pcos-picture/PCOSGen-test/images/image11108.jpg\n",
      "/kaggle/input/pcos-picture/PCOSGen-test/images/image10200.jpg\n",
      "/kaggle/input/pcos-picture/PCOSGen-test/images/image10455.jpg\n",
      "/kaggle/input/pcos-picture/PCOSGen-test/images/image10428.jpg\n",
      "/kaggle/input/pcos-picture/PCOSGen-test/images/image10210.jpg\n",
      "/kaggle/input/pcos-picture/PCOSGen-test/images/image10960.jpg\n",
      "/kaggle/input/pcos-picture/PCOSGen-test/images/image10984.jpg\n",
      "/kaggle/input/pcos-picture/PCOSGen-test/images/image11464.jpg\n",
      "/kaggle/input/pcos-picture/PCOSGen-test/images/image10277.jpg\n",
      "/kaggle/input/pcos-picture/PCOSGen-test/images/image11297.jpg\n",
      "/kaggle/input/pcos-picture/PCOSGen-test/images/image10827.jpg\n",
      "/kaggle/input/pcos-picture/PCOSGen-test/images/image10244.jpg\n",
      "/kaggle/input/pcos-picture/PCOSGen-test/images/image10694.jpg\n",
      "/kaggle/input/pcos-picture/PCOSGen-test/images/image11312.jpg\n",
      "/kaggle/input/pcos-picture/PCOSGen-test/images/image10450.jpg\n",
      "/kaggle/input/pcos-picture/PCOSGen-test/images/image10670.jpg\n",
      "/kaggle/input/pcos-picture/PCOSGen-test/images/image10933.jpg\n",
      "/kaggle/input/pcos-picture/PCOSGen-test/images/image10134.jpg\n",
      "/kaggle/input/pcos-picture/PCOSGen-test/images/image11292.jpg\n",
      "/kaggle/input/pcos-picture/PCOSGen-test/images/image10754.jpg\n",
      "/kaggle/input/pcos-picture/PCOSGen-test/images/image11460.jpg\n",
      "/kaggle/input/pcos-picture/PCOSGen-test/images/image11328.jpg\n",
      "/kaggle/input/pcos-picture/PCOSGen-test/images/image10422.jpg\n",
      "/kaggle/input/pcos-picture/PCOSGen-test/images/image11376.jpg\n",
      "/kaggle/input/pcos-picture/PCOSGen-test/images/image10906.jpg\n",
      "/kaggle/input/pcos-picture/PCOSGen-test/images/image10368.jpg\n",
      "/kaggle/input/pcos-picture/PCOSGen-test/images/image10040.jpg\n",
      "/kaggle/input/pcos-picture/PCOSGen-test/images/image10329.jpg\n",
      "/kaggle/input/pcos-picture/PCOSGen-test/images/image10980.jpg\n",
      "/kaggle/input/pcos-picture/PCOSGen-test/images/image10910.jpg\n",
      "/kaggle/input/pcos-picture/PCOSGen-test/images/image10990.jpg\n",
      "/kaggle/input/pcos-picture/PCOSGen-test/images/image10456.jpg\n",
      "/kaggle/input/pcos-picture/PCOSGen-test/images/image10097.jpg\n",
      "/kaggle/input/pcos-picture/PCOSGen-test/images/image10770.jpg\n",
      "/kaggle/input/pcos-picture/PCOSGen-test/images/image10288.jpg\n",
      "/kaggle/input/pcos-picture/PCOSGen-test/images/image10125.jpg\n",
      "/kaggle/input/pcos-picture/PCOSGen-test/images/image11222.jpg\n",
      "/kaggle/input/pcos-picture/PCOSGen-test/images/image10015.jpg\n",
      "/kaggle/input/pcos-picture/PCOSGen-test/images/image10070.jpg\n",
      "/kaggle/input/pcos-picture/PCOSGen-test/images/image10813.jpg\n",
      "/kaggle/input/pcos-picture/PCOSGen-test/images/image10979.jpg\n",
      "/kaggle/input/pcos-picture/PCOSGen-test/images/image10769.jpg\n",
      "/kaggle/input/pcos-picture/PCOSGen-test/images/image11097.jpg\n",
      "/kaggle/input/pcos-picture/PCOSGen-test/images/image11004.jpg\n",
      "/kaggle/input/pcos-picture/PCOSGen-test/images/image11324.jpg\n",
      "/kaggle/input/pcos-picture/PCOSGen-test/images/image10727.jpg\n",
      "/kaggle/input/pcos-picture/PCOSGen-test/images/image11331.jpg\n",
      "/kaggle/input/pcos-picture/PCOSGen-test/images/image11309.jpg\n",
      "/kaggle/input/pcos-picture/PCOSGen-test/images/image10308.jpg\n",
      "/kaggle/input/pcos-picture/PCOSGen-test/images/image10793.jpg\n",
      "/kaggle/input/pcos-picture/PCOSGen-test/images/image10359.jpg\n",
      "/kaggle/input/pcos-picture/PCOSGen-test/images/image11347.jpg\n",
      "/kaggle/input/pcos-picture/PCOSGen-test/images/image10441.jpg\n",
      "/kaggle/input/pcos-picture/PCOSGen-test/images/image11186.jpg\n",
      "/kaggle/input/pcos-picture/PCOSGen-test/images/image10541.jpg\n",
      "/kaggle/input/pcos-picture/PCOSGen-test/images/image10130.jpg\n",
      "/kaggle/input/pcos-picture/PCOSGen-test/images/image11317.jpg\n",
      "/kaggle/input/pcos-picture/PCOSGen-test/images/image11151.jpg\n",
      "/kaggle/input/pcos-picture/PCOSGen-test/images/image10096.jpg\n",
      "/kaggle/input/pcos-picture/PCOSGen-test/images/image11403.jpg\n",
      "/kaggle/input/pcos-picture/PCOSGen-test/images/image10232.jpg\n",
      "/kaggle/input/pcos-picture/PCOSGen-test/images/image10767.jpg\n",
      "/kaggle/input/pcos-picture/PCOSGen-test/images/image10846.jpg\n",
      "/kaggle/input/pcos-picture/PCOSGen-test/images/image10127.jpg\n",
      "/kaggle/input/pcos-picture/PCOSGen-test/images/image10185.jpg\n",
      "/kaggle/input/pcos-picture/PCOSGen-test/images/image10476.jpg\n",
      "/kaggle/input/pcos-picture/PCOSGen-test/images/image10554.jpg\n",
      "/kaggle/input/pcos-picture/PCOSGen-test/images/image10022.jpg\n",
      "/kaggle/input/pcos-picture/PCOSGen-test/images/image11439.jpg\n",
      "/kaggle/input/pcos-picture/PCOSGen-test/images/image10472.jpg\n",
      "/kaggle/input/pcos-picture/PCOSGen-test/images/image10659.jpg\n",
      "/kaggle/input/pcos-picture/PCOSGen-test/images/image10064.jpg\n",
      "/kaggle/input/pcos-picture/PCOSGen-test/images/image11195.jpg\n",
      "/kaggle/input/pcos-picture/PCOSGen-test/images/image10191.jpg\n",
      "/kaggle/input/pcos-picture/PCOSGen-test/images/image11395.jpg\n",
      "/kaggle/input/pcos-picture/PCOSGen-test/images/image10574.jpg\n",
      "/kaggle/input/pcos-picture/PCOSGen-test/images/image10059.jpg\n",
      "/kaggle/input/pcos-picture/PCOSGen-test/images/image10482.jpg\n",
      "/kaggle/input/pcos-picture/PCOSGen-test/images/image10562.jpg\n",
      "/kaggle/input/pcos-picture/PCOSGen-test/images/image11380.jpg\n",
      "/kaggle/input/pcos-picture/PCOSGen-test/images/image10947.jpg\n",
      "/kaggle/input/pcos-picture/PCOSGen-test/images/image11332.jpg\n",
      "/kaggle/input/pcos-picture/PCOSGen-test/images/image10606.jpg\n",
      "/kaggle/input/pcos-picture/PCOSGen-test/images/image11304.jpg\n",
      "/kaggle/input/pcos-picture/PCOSGen-test/images/image10166.jpg\n",
      "/kaggle/input/pcos-picture/PCOSGen-test/images/image10090.jpg\n",
      "/kaggle/input/pcos-picture/PCOSGen-test/images/image10648.jpg\n",
      "/kaggle/input/pcos-picture/PCOSGen-test/images/image10358.jpg\n",
      "/kaggle/input/pcos-picture/PCOSGen-test/images/image10313.jpg\n",
      "/kaggle/input/pcos-picture/PCOSGen-test/images/image10527.jpg\n",
      "/kaggle/input/pcos-picture/PCOSGen-test/images/image10233.jpg\n",
      "/kaggle/input/pcos-picture/PCOSGen-test/images/image10115.jpg\n",
      "/kaggle/input/pcos-picture/PCOSGen-test/images/image11091.jpg\n",
      "/kaggle/input/pcos-picture/PCOSGen-test/images/image11059.jpg\n",
      "/kaggle/input/pcos-picture/PCOSGen-test/images/image11102.jpg\n",
      "/kaggle/input/pcos-picture/PCOSGen-test/images/image10354.jpg\n",
      "/kaggle/input/pcos-picture/PCOSGen-test/images/image10020.jpg\n",
      "/kaggle/input/pcos-picture/PCOSGen-test/images/image11025.jpg\n",
      "/kaggle/input/pcos-picture/PCOSGen-test/images/image11138.jpg\n",
      "/kaggle/input/pcos-picture/PCOSGen-test/images/image10434.jpg\n",
      "/kaggle/input/pcos-picture/PCOSGen-test/images/image10453.jpg\n",
      "/kaggle/input/pcos-picture/PCOSGen-test/images/image11273.jpg\n",
      "/kaggle/input/pcos-picture/PCOSGen-test/images/image10047.jpg\n",
      "/kaggle/input/pcos-picture/PCOSGen-test/images/image10924.jpg\n",
      "/kaggle/input/pcos-picture/PCOSGen-test/images/image10276.jpg\n",
      "/kaggle/input/pcos-picture/PCOSGen-test/images/image11038.jpg\n",
      "/kaggle/input/pcos-picture/PCOSGen-test/images/image10881.jpg\n",
      "/kaggle/input/pcos-picture/PCOSGen-test/images/image10084.jpg\n",
      "/kaggle/input/pcos-picture/PCOSGen-test/images/image11207.jpg\n",
      "/kaggle/input/pcos-picture/PCOSGen-test/images/image11411.jpg\n",
      "/kaggle/input/pcos-picture/PCOSGen-test/images/image11094.jpg\n",
      "/kaggle/input/pcos-picture/PCOSGen-test/images/image10252.jpg\n",
      "/kaggle/input/pcos-picture/PCOSGen-test/images/image10081.jpg\n",
      "/kaggle/input/pcos-picture/PCOSGen-test/images/image10630.jpg\n",
      "/kaggle/input/pcos-picture/PCOSGen-test/images/image10135.jpg\n",
      "/kaggle/input/pcos-picture/PCOSGen-test/images/image10281.jpg\n",
      "/kaggle/input/pcos-picture/PCOSGen-test/images/image10540.jpg\n",
      "/kaggle/input/pcos-picture/PCOSGen-test/images/image11046.jpg\n",
      "/kaggle/input/pcos-picture/PCOSGen-test/images/image10055.jpg\n",
      "/kaggle/input/pcos-picture/PCOSGen-test/images/image11022.jpg\n",
      "/kaggle/input/pcos-picture/PCOSGen-test/images/image10885.jpg\n",
      "/kaggle/input/pcos-picture/PCOSGen-test/images/image11420.jpg\n",
      "/kaggle/input/pcos-picture/PCOSGen-test/images/image11171.jpg\n",
      "/kaggle/input/pcos-picture/PCOSGen-test/images/image10318.jpg\n",
      "/kaggle/input/pcos-picture/PCOSGen-test/images/image11335.jpg\n",
      "/kaggle/input/pcos-picture/PCOSGen-test/images/image11260.jpg\n",
      "/kaggle/input/pcos-picture/PCOSGen-test/images/image10146.jpg\n",
      "/kaggle/input/pcos-picture/PCOSGen-test/images/image10163.jpg\n",
      "/kaggle/input/pcos-picture/PCOSGen-test/images/image10651.jpg\n",
      "/kaggle/input/pcos-picture/PCOSGen-test/images/image10516.jpg\n",
      "/kaggle/input/pcos-picture/PCOSGen-test/images/image11061.jpg\n",
      "/kaggle/input/pcos-picture/PCOSGen-test/images/image10189.jpg\n",
      "/kaggle/input/pcos-picture/PCOSGen-test/images/image10111.jpg\n",
      "/kaggle/input/pcos-picture/PCOSGen-test/images/image10262.jpg\n",
      "/kaggle/input/pcos-picture/PCOSGen-test/images/image10587.jpg\n",
      "/kaggle/input/pcos-picture/PCOSGen-test/images/image10069.jpg\n",
      "/kaggle/input/pcos-picture/PCOSGen-test/images/image10366.jpg\n",
      "/kaggle/input/pcos-picture/PCOSGen-test/images/image10927.jpg\n",
      "/kaggle/input/pcos-picture/PCOSGen-test/images/image10297.jpg\n",
      "/kaggle/input/pcos-picture/PCOSGen-test/images/image11201.jpg\n",
      "/kaggle/input/pcos-picture/PCOSGen-test/images/image10826.jpg\n",
      "/kaggle/input/pcos-picture/PCOSGen-test/images/image10704.jpg\n",
      "/kaggle/input/pcos-picture/PCOSGen-test/images/image10307.jpg\n",
      "/kaggle/input/pcos-picture/PCOSGen-test/images/image10485.jpg\n",
      "/kaggle/input/pcos-picture/PCOSGen-test/images/image10693.jpg\n",
      "/kaggle/input/pcos-picture/PCOSGen-test/images/image10473.jpg\n",
      "/kaggle/input/pcos-picture/PCOSGen-test/images/image10588.jpg\n",
      "/kaggle/input/pcos-picture/PCOSGen-test/images/image10638.jpg\n",
      "/kaggle/input/pcos-picture/PCOSGen-test/images/image10017.jpg\n",
      "/kaggle/input/pcos-picture/PCOSGen-test/images/image11069.jpg\n",
      "/kaggle/input/pcos-picture/PCOSGen-test/images/image11191.jpg\n",
      "/kaggle/input/pcos-picture/PCOSGen-test/images/image10739.jpg\n",
      "/kaggle/input/pcos-picture/PCOSGen-test/images/image10481.jpg\n",
      "/kaggle/input/pcos-picture/PCOSGen-test/images/image10897.jpg\n",
      "/kaggle/input/pcos-picture/PCOSGen-test/images/image10628.jpg\n",
      "/kaggle/input/pcos-picture/PCOSGen-test/images/image10352.jpg\n",
      "/kaggle/input/pcos-picture/PCOSGen-test/images/image11242.jpg\n",
      "/kaggle/input/pcos-picture/PCOSGen-test/images/image10504.jpg\n",
      "/kaggle/input/pcos-picture/PCOSGen-test/images/image10474.jpg\n",
      "/kaggle/input/pcos-picture/PCOSGen-test/images/image10334.jpg\n",
      "/kaggle/input/pcos-picture/PCOSGen-test/images/image11256.jpg\n",
      "/kaggle/input/pcos-picture/PCOSGen-test/images/image10835.jpg\n",
      "/kaggle/input/pcos-picture/PCOSGen-test/images/image11462.jpg\n",
      "/kaggle/input/pcos-picture/PCOSGen-test/images/image11056.jpg\n",
      "/kaggle/input/pcos-picture/PCOSGen-test/images/image11149.jpg\n",
      "/kaggle/input/pcos-picture/PCOSGen-test/images/image11238.jpg\n",
      "/kaggle/input/pcos-picture/PCOSGen-test/images/image10825.jpg\n",
      "/kaggle/input/pcos-picture/PCOSGen-test/images/image11081.jpg\n",
      "/kaggle/input/pcos-picture/PCOSGen-test/images/image11048.jpg\n",
      "/kaggle/input/pcos-picture/PCOSGen-test/images/image10419.jpg\n",
      "/kaggle/input/pcos-picture/PCOSGen-test/images/image11416.jpg\n",
      "/kaggle/input/pcos-picture/PCOSGen-test/images/image10489.jpg\n",
      "/kaggle/input/pcos-picture/PCOSGen-test/images/image10945.jpg\n",
      "/kaggle/input/pcos-picture/PCOSGen-test/images/image10862.jpg\n",
      "/kaggle/input/pcos-picture/PCOSGen-test/images/image11030.jpg\n",
      "/kaggle/input/pcos-picture/PCOSGen-test/images/image11028.jpg\n",
      "/kaggle/input/pcos-picture/PCOSGen-test/images/image10801.jpg\n",
      "/kaggle/input/pcos-picture/PCOSGen-test/images/image11058.jpg\n",
      "/kaggle/input/pcos-picture/PCOSGen-test/images/image10172.jpg\n",
      "/kaggle/input/pcos-picture/PCOSGen-test/images/image10044.jpg\n",
      "/kaggle/input/pcos-picture/PCOSGen-test/images/image10331.jpg\n",
      "/kaggle/input/pcos-picture/PCOSGen-test/images/image10034.jpg\n",
      "/kaggle/input/pcos-picture/PCOSGen-test/images/image11413.jpg\n",
      "/kaggle/input/pcos-picture/PCOSGen-test/images/image11443.jpg\n",
      "/kaggle/input/pcos-picture/PCOSGen-test/images/image10377.jpg\n",
      "/kaggle/input/pcos-picture/PCOSGen-test/images/image11068.jpg\n",
      "/kaggle/input/pcos-picture/PCOSGen-test/images/image10066.jpg\n",
      "/kaggle/input/pcos-picture/PCOSGen-test/images/image10962.jpg\n",
      "/kaggle/input/pcos-picture/PCOSGen-test/images/image10731.jpg\n",
      "/kaggle/input/pcos-picture/PCOSGen-test/images/image11156.jpg\n",
      "/kaggle/input/pcos-picture/PCOSGen-test/images/image10423.jpg\n",
      "/kaggle/input/pcos-picture/PCOSGen-test/images/image10065.jpg\n",
      "/kaggle/input/pcos-picture/PCOSGen-test/images/image10747.jpg\n",
      "/kaggle/input/pcos-picture/PCOSGen-test/images/image11047.jpg\n",
      "/kaggle/input/pcos-picture/PCOSGen-test/images/image10621.jpg\n",
      "/kaggle/input/pcos-picture/PCOSGen-test/images/image10374.jpg\n",
      "/kaggle/input/pcos-picture/PCOSGen-test/images/image10525.jpg\n",
      "/kaggle/input/pcos-picture/PCOSGen-test/images/image10654.jpg\n",
      "/kaggle/input/pcos-picture/PCOSGen-test/images/image10339.jpg\n",
      "/kaggle/input/pcos-picture/PCOSGen-test/images/image10038.jpg\n",
      "/kaggle/input/pcos-picture/PCOSGen-test/images/image11396.jpg\n",
      "/kaggle/input/pcos-picture/PCOSGen-test/images/image10083.jpg\n",
      "/kaggle/input/pcos-picture/PCOSGen-test/images/image11240.jpg\n",
      "/kaggle/input/pcos-picture/PCOSGen-test/images/image11381.jpg\n",
      "/kaggle/input/pcos-picture/PCOSGen-test/images/image10834.jpg\n",
      "/kaggle/input/pcos-picture/PCOSGen-test/images/image11139.jpg\n",
      "/kaggle/input/pcos-picture/PCOSGen-test/images/image10076.jpg\n",
      "/kaggle/input/pcos-picture/PCOSGen-test/images/image11336.jpg\n",
      "/kaggle/input/pcos-picture/PCOSGen-test/images/image10798.jpg\n",
      "/kaggle/input/pcos-picture/PCOSGen-test/images/image10591.jpg\n",
      "/kaggle/input/pcos-picture/PCOSGen-test/images/image11209.jpg\n",
      "/kaggle/input/pcos-picture/PCOSGen-test/images/image10483.jpg\n",
      "/kaggle/input/pcos-picture/PCOSGen-test/images/image11235.jpg\n",
      "/kaggle/input/pcos-picture/PCOSGen-test/images/image10732.jpg\n",
      "/kaggle/input/pcos-picture/PCOSGen-test/images/image10542.jpg\n",
      "/kaggle/input/pcos-picture/PCOSGen-test/images/image10841.jpg\n",
      "/kaggle/input/pcos-picture/PCOSGen-test/images/image10657.jpg\n",
      "/kaggle/input/pcos-picture/PCOSGen-test/images/image10270.jpg\n",
      "/kaggle/input/pcos-picture/PCOSGen-test/images/image11283.jpg\n",
      "/kaggle/input/pcos-picture/PCOSGen-test/images/image10930.jpg\n",
      "/kaggle/input/pcos-picture/PCOSGen-test/images/image10058.jpg\n",
      "/kaggle/input/pcos-picture/PCOSGen-test/images/image10260.jpg\n",
      "/kaggle/input/pcos-picture/PCOSGen-test/images/image10580.jpg\n",
      "/kaggle/input/pcos-picture/PCOSGen-test/images/image10224.jpg\n",
      "/kaggle/input/pcos-picture/PCOSGen-test/images/image10162.jpg\n",
      "/kaggle/input/pcos-picture/PCOSGen-test/images/image11351.jpg\n",
      "/kaggle/input/pcos-picture/PCOSGen-test/images/image11009.jpg\n",
      "/kaggle/input/pcos-picture/PCOSGen-test/images/image10461.jpg\n",
      "/kaggle/input/pcos-picture/PCOSGen-test/images/image10966.jpg\n",
      "/kaggle/input/pcos-picture/PCOSGen-test/images/image11200.jpg\n",
      "/kaggle/input/pcos-picture/PCOSGen-test/images/image10201.jpg\n",
      "/kaggle/input/pcos-picture/PCOSGen-test/images/image10167.jpg\n",
      "/kaggle/input/pcos-picture/PCOSGen-test/images/image10898.jpg\n",
      "/kaggle/input/pcos-picture/PCOSGen-test/images/image11074.jpg\n",
      "/kaggle/input/pcos-picture/PCOSGen-test/images/image10644.jpg\n",
      "/kaggle/input/pcos-picture/PCOSGen-test/images/image11431.jpg\n",
      "/kaggle/input/pcos-picture/PCOSGen-test/images/image10915.jpg\n",
      "/kaggle/input/pcos-picture/PCOSGen-test/images/image10073.jpg\n",
      "/kaggle/input/pcos-picture/PCOSGen-test/images/image11388.jpg\n",
      "/kaggle/input/pcos-picture/PCOSGen-test/images/image10687.jpg\n",
      "/kaggle/input/pcos-picture/PCOSGen-test/images/image10672.jpg\n",
      "/kaggle/input/pcos-picture/PCOSGen-test/images/image10211.jpg\n",
      "/kaggle/input/pcos-picture/PCOSGen-test/images/image10458.jpg\n",
      "/kaggle/input/pcos-picture/PCOSGen-test/images/image10844.jpg\n",
      "/kaggle/input/pcos-picture/PCOSGen-test/images/image10622.jpg\n",
      "/kaggle/input/pcos-picture/PCOSGen-test/images/image10294.jpg\n",
      "/kaggle/input/pcos-picture/PCOSGen-test/images/image10206.jpg\n",
      "/kaggle/input/pcos-picture/PCOSGen-test/images/image10818.jpg\n",
      "/kaggle/input/pcos-picture/PCOSGen-test/images/image10675.jpg\n",
      "/kaggle/input/pcos-picture/PCOSGen-test/images/image10433.jpg\n",
      "/kaggle/input/pcos-picture/PCOSGen-test/images/image11057.jpg\n",
      "/kaggle/input/pcos-picture/PCOSGen-test/images/image11282.jpg\n",
      "/kaggle/input/pcos-picture/PCOSGen-test/images/image10934.jpg\n",
      "/kaggle/input/pcos-picture/PCOSGen-test/images/image11228.jpg\n",
      "/kaggle/input/pcos-picture/PCOSGen-test/images/image10522.jpg\n",
      "/kaggle/input/pcos-picture/PCOSGen-test/images/image10321.jpg\n",
      "/kaggle/input/pcos-picture/PCOSGen-test/images/image11192.jpg\n",
      "/kaggle/input/pcos-picture/PCOSGen-test/images/image11406.jpg\n",
      "/kaggle/input/pcos-picture/PCOSGen-test/images/image11320.jpg\n",
      "/kaggle/input/pcos-picture/PCOSGen-test/images/image11296.jpg\n",
      "/kaggle/input/pcos-picture/PCOSGen-test/images/image10160.jpg\n",
      "/kaggle/input/pcos-picture/PCOSGen-test/images/image10699.jpg\n",
      "/kaggle/input/pcos-picture/PCOSGen-test/images/image11037.jpg\n",
      "/kaggle/input/pcos-picture/PCOSGen-test/images/image10922.jpg\n",
      "/kaggle/input/pcos-picture/PCOSGen-test/images/image11245.jpg\n",
      "/kaggle/input/pcos-picture/PCOSGen-test/images/image10312.jpg\n",
      "/kaggle/input/pcos-picture/PCOSGen-test/images/image10553.jpg\n",
      "/kaggle/input/pcos-picture/PCOSGen-test/images/image10408.jpg\n",
      "/kaggle/input/pcos-picture/PCOSGen-test/images/image10143.jpg\n",
      "/kaggle/input/pcos-picture/PCOSGen-test/images/image11318.jpg\n",
      "/kaggle/input/pcos-picture/PCOSGen-test/images/image11311.jpg\n",
      "/kaggle/input/pcos-picture/PCOSGen-test/images/image11456.jpg\n",
      "/kaggle/input/pcos-picture/PCOSGen-test/images/image10764.jpg\n",
      "/kaggle/input/pcos-picture/PCOSGen-test/images/image10763.jpg\n",
      "/kaggle/input/pcos-picture/PCOSGen-test/images/image10730.jpg\n",
      "/kaggle/input/pcos-picture/PCOSGen-test/images/image10120.jpg\n",
      "/kaggle/input/pcos-picture/PCOSGen-test/images/image10605.jpg\n",
      "/kaggle/input/pcos-picture/PCOSGen-test/images/image10757.jpg\n",
      "/kaggle/input/pcos-picture/PCOSGen-test/images/image10388.jpg\n",
      "/kaggle/input/pcos-picture/PCOSGen-test/images/image10594.jpg\n",
      "/kaggle/input/pcos-picture/PCOSGen-test/images/image11076.jpg\n",
      "/kaggle/input/pcos-picture/PCOSGen-test/images/image10016.jpg\n",
      "/kaggle/input/pcos-picture/PCOSGen-test/images/image10480.jpg\n",
      "/kaggle/input/pcos-picture/PCOSGen-test/images/image10295.jpg\n",
      "/kaggle/input/pcos-picture/PCOSGen-test/images/image10263.jpg\n",
      "/kaggle/input/pcos-picture/PCOSGen-test/images/image10293.jpg\n",
      "/kaggle/input/pcos-picture/PCOSGen-test/images/image10177.jpg\n",
      "/kaggle/input/pcos-picture/PCOSGen-test/images/image10623.jpg\n",
      "/kaggle/input/pcos-picture/PCOSGen-test/images/image10649.jpg\n",
      "/kaggle/input/pcos-picture/PCOSGen-test/images/image10421.jpg\n",
      "/kaggle/input/pcos-picture/PCOSGen-test/images/image10014.jpg\n",
      "/kaggle/input/pcos-picture/PCOSGen-test/images/image10152.jpg\n",
      "/kaggle/input/pcos-picture/PCOSGen-test/images/image11178.jpg\n",
      "/kaggle/input/pcos-picture/PCOSGen-test/images/image10417.jpg\n",
      "/kaggle/input/pcos-picture/PCOSGen-test/images/image10192.jpg\n",
      "/kaggle/input/pcos-picture/PCOSGen-test/images/image10996.jpg\n",
      "/kaggle/input/pcos-picture/PCOSGen-test/images/image11308.jpg\n",
      "/kaggle/input/pcos-picture/PCOSGen-test/images/image10774.jpg\n",
      "/kaggle/input/pcos-picture/PCOSGen-test/images/image10705.jpg\n",
      "/kaggle/input/pcos-picture/PCOSGen-test/images/image10389.jpg\n",
      "/kaggle/input/pcos-picture/PCOSGen-test/images/image10306.jpg\n",
      "/kaggle/input/pcos-picture/PCOSGen-test/images/image11158.jpg\n",
      "/kaggle/input/pcos-picture/PCOSGen-test/images/image10842.jpg\n",
      "/kaggle/input/pcos-picture/PCOSGen-test/images/image10132.jpg\n",
      "/kaggle/input/pcos-picture/PCOSGen-test/images/image10067.jpg\n",
      "/kaggle/input/pcos-picture/PCOSGen-test/images/image10410.jpg\n",
      "/kaggle/input/pcos-picture/PCOSGen-test/images/image11423.jpg\n",
      "/kaggle/input/pcos-picture/PCOSGen-test/images/image10093.jpg\n",
      "/kaggle/input/pcos-picture/PCOSGen-test/images/image10958.jpg\n",
      "/kaggle/input/pcos-picture/PCOSGen-test/images/image10848.jpg\n",
      "/kaggle/input/pcos-picture/PCOSGen-test/images/image10943.jpg\n",
      "/kaggle/input/pcos-picture/PCOSGen-test/images/image10025.jpg\n",
      "/kaggle/input/pcos-picture/PCOSGen-test/images/image11448.jpg\n",
      "/kaggle/input/pcos-picture/PCOSGen-test/images/image10715.jpg\n",
      "/kaggle/input/pcos-picture/PCOSGen-test/images/image11417.jpg\n",
      "/kaggle/input/pcos-picture/PCOSGen-test/images/image11018.jpg\n",
      "/kaggle/input/pcos-picture/PCOSGen-test/images/image10695.jpg\n",
      "/kaggle/input/pcos-picture/PCOSGen-test/images/image10092.jpg\n",
      "/kaggle/input/pcos-picture/PCOSGen-test/images/image10547.jpg\n",
      "/kaggle/input/pcos-picture/PCOSGen-test/images/image11152.jpg\n",
      "/kaggle/input/pcos-picture/PCOSGen-test/images/image10230.jpg\n",
      "/kaggle/input/pcos-picture/PCOSGen-test/images/image11092.jpg\n",
      "/kaggle/input/pcos-picture/PCOSGen-test/images/image10202.jpg\n",
      "/kaggle/input/pcos-picture/PCOSGen-test/images/image11040.jpg\n",
      "/kaggle/input/pcos-picture/PCOSGen-test/images/image10992.jpg\n",
      "/kaggle/input/pcos-picture/PCOSGen-test/images/image11371.jpg\n",
      "/kaggle/input/pcos-picture/PCOSGen-test/images/image10003.jpg\n",
      "/kaggle/input/pcos-picture/PCOSGen-test/images/image10526.jpg\n",
      "/kaggle/input/pcos-picture/PCOSGen-test/images/image11116.jpg\n",
      "/kaggle/input/pcos-picture/PCOSGen-test/images/image10802.jpg\n",
      "/kaggle/input/pcos-picture/PCOSGen-test/images/image10866.jpg\n",
      "/kaggle/input/pcos-picture/PCOSGen-test/images/image11344.jpg\n",
      "/kaggle/input/pcos-picture/PCOSGen-test/images/image11338.jpg\n",
      "/kaggle/input/pcos-picture/PCOSGen-test/images/image10495.jpg\n",
      "/kaggle/input/pcos-picture/PCOSGen-test/images/image10465.jpg\n",
      "/kaggle/input/pcos-picture/PCOSGen-test/images/image11280.jpg\n",
      "/kaggle/input/pcos-picture/PCOSGen-test/images/image10010.jpg\n",
      "/kaggle/input/pcos-picture/PCOSGen-test/images/image10856.jpg\n",
      "/kaggle/input/pcos-picture/PCOSGen-test/images/image10140.jpg\n",
      "/kaggle/input/pcos-picture/PCOSGen-test/images/image10903.jpg\n",
      "/kaggle/input/pcos-picture/PCOSGen-test/images/image11029.jpg\n",
      "/kaggle/input/pcos-picture/PCOSGen-test/images/image10265.jpg\n",
      "/kaggle/input/pcos-picture/PCOSGen-test/images/image10755.jpg\n",
      "/kaggle/input/pcos-picture/PCOSGen-test/images/image10053.jpg\n",
      "/kaggle/input/pcos-picture/PCOSGen-test/images/image11212.jpg\n",
      "/kaggle/input/pcos-picture/PCOSGen-test/images/image11180.jpg\n",
      "/kaggle/input/pcos-picture/PCOSGen-test/images/image10838.jpg\n",
      "/kaggle/input/pcos-picture/PCOSGen-test/images/image10275.jpg\n",
      "/kaggle/input/pcos-picture/PCOSGen-test/images/image10382.jpg\n",
      "/kaggle/input/pcos-picture/PCOSGen-test/images/image10977.jpg\n",
      "/kaggle/input/pcos-picture/PCOSGen-test/images/image10819.jpg\n",
      "/kaggle/input/pcos-picture/PCOSGen-test/images/image10488.jpg\n",
      "/kaggle/input/pcos-picture/PCOSGen-test/images/image11272.jpg\n",
      "/kaggle/input/pcos-picture/PCOSGen-test/images/image10725.jpg\n",
      "/kaggle/input/pcos-picture/PCOSGen-test/images/image10637.jpg\n",
      "/kaggle/input/pcos-picture/PCOSGen-test/images/image10007.jpg\n",
      "/kaggle/input/pcos-picture/PCOSGen-test/images/image10592.jpg\n",
      "/kaggle/input/pcos-picture/PCOSGen-test/images/image11013.jpg\n",
      "/kaggle/input/pcos-picture/PCOSGen-test/images/image10782.jpg\n",
      "/kaggle/input/pcos-picture/PCOSGen-test/images/image10235.jpg\n",
      "/kaggle/input/pcos-picture/PCOSGen-test/images/image10043.jpg\n",
      "/kaggle/input/pcos-picture/PCOSGen-test/images/image11197.jpg\n",
      "/kaggle/input/pcos-picture/PCOSGen-test/images/image10231.jpg\n",
      "/kaggle/input/pcos-picture/PCOSGen-test/images/image11031.jpg\n",
      "/kaggle/input/pcos-picture/PCOSGen-test/images/image10259.jpg\n",
      "/kaggle/input/pcos-picture/PCOSGen-test/images/image11088.jpg\n",
      "/kaggle/input/pcos-picture/PCOSGen-test/images/image11440.jpg\n",
      "/kaggle/input/pcos-picture/PCOSGen-test/images/image10812.jpg\n",
      "/kaggle/input/pcos-picture/PCOSGen-test/images/image10328.jpg\n",
      "/kaggle/input/pcos-picture/PCOSGen-test/images/image11137.jpg\n",
      "/kaggle/input/pcos-picture/PCOSGen-test/images/image10509.jpg\n",
      "/kaggle/input/pcos-picture/PCOSGen-test/images/image10913.jpg\n",
      "/kaggle/input/pcos-picture/PCOSGen-test/images/image11214.jpg\n",
      "/kaggle/input/pcos-picture/PCOSGen-test/images/image10619.jpg\n",
      "/kaggle/input/pcos-picture/PCOSGen-test/images/image10367.jpg\n",
      "/kaggle/input/pcos-picture/PCOSGen-test/images/image10479.jpg\n",
      "/kaggle/input/pcos-picture/PCOSGen-test/images/image11374.jpg\n",
      "/kaggle/input/pcos-picture/PCOSGen-test/images/image10031.jpg\n",
      "/kaggle/input/pcos-picture/PCOSGen-test/images/image10122.jpg\n",
      "/kaggle/input/pcos-picture/PCOSGen-test/images/image11453.jpg\n",
      "/kaggle/input/pcos-picture/PCOSGen-test/images/image10773.jpg\n",
      "/kaggle/input/pcos-picture/PCOSGen-test/images/image10756.jpg\n",
      "/kaggle/input/pcos-picture/PCOSGen-test/images/image11367.jpg\n",
      "/kaggle/input/pcos-picture/PCOSGen-test/images/image10273.jpg\n",
      "/kaggle/input/pcos-picture/PCOSGen-test/images/image10803.jpg\n",
      "/kaggle/input/pcos-picture/PCOSGen-test/images/image10577.jpg\n",
      "/kaggle/input/pcos-picture/PCOSGen-test/images/image11163.jpg\n",
      "/kaggle/input/pcos-picture/PCOSGen-test/images/image10816.jpg\n",
      "/kaggle/input/pcos-picture/PCOSGen-test/images/image10967.jpg\n",
      "/kaggle/input/pcos-picture/PCOSGen-test/images/image10625.jpg\n",
      "/kaggle/input/pcos-picture/PCOSGen-test/images/image10997.jpg\n",
      "/kaggle/input/pcos-picture/PCOSGen-test/images/image10843.jpg\n",
      "/kaggle/input/pcos-picture/PCOSGen-test/images/image11414.jpg\n",
      "/kaggle/input/pcos-picture/PCOSGen-test/images/image11450.jpg\n",
      "/kaggle/input/pcos-picture/PCOSGen-test/images/image10144.jpg\n",
      "/kaggle/input/pcos-picture/PCOSGen-test/images/image10884.jpg\n",
      "/kaggle/input/pcos-picture/PCOSGen-test/images/image10735.jpg\n",
      "/kaggle/input/pcos-picture/PCOSGen-test/images/image11082.jpg\n",
      "/kaggle/input/pcos-picture/PCOSGen-test/images/image10444.jpg\n",
      "/kaggle/input/pcos-picture/PCOSGen-test/images/image11428.jpg\n",
      "/kaggle/input/pcos-picture/PCOSGen-test/images/image10921.jpg\n",
      "/kaggle/input/pcos-picture/PCOSGen-test/images/image11383.jpg\n",
      "/kaggle/input/pcos-picture/PCOSGen-test/images/image10809.jpg\n",
      "/kaggle/input/pcos-picture/PCOSGen-test/images/image11301.jpg\n",
      "/kaggle/input/pcos-picture/PCOSGen-test/images/image11123.jpg\n",
      "/kaggle/input/pcos-picture/PCOSGen-test/images/image10583.jpg\n",
      "/kaggle/input/pcos-picture/PCOSGen-test/images/image11019.jpg\n",
      "/kaggle/input/pcos-picture/PCOSGen-test/images/image11084.jpg\n",
      "/kaggle/input/pcos-picture/PCOSGen-test/images/image11150.jpg\n",
      "/kaggle/input/pcos-picture/PCOSGen-test/images/image11350.jpg\n",
      "/kaggle/input/pcos-picture/PCOSGen-test/images/image11433.jpg\n",
      "/kaggle/input/pcos-picture/PCOSGen-test/images/image10953.jpg\n",
      "/kaggle/input/pcos-picture/PCOSGen-test/images/image11175.jpg\n",
      "/kaggle/input/pcos-picture/PCOSGen-test/images/image10475.jpg\n",
      "/kaggle/input/pcos-picture/PCOSGen-test/images/image10503.jpg\n",
      "/kaggle/input/pcos-picture/PCOSGen-test/images/image10656.jpg\n",
      "/kaggle/input/pcos-picture/PCOSGen-test/images/image11392.jpg\n",
      "/kaggle/input/pcos-picture/PCOSGen-test/images/image11257.jpg\n",
      "/kaggle/input/pcos-picture/PCOSGen-test/images/image10088.jpg\n",
      "/kaggle/input/pcos-picture/PCOSGen-test/images/image10234.jpg\n",
      "/kaggle/input/pcos-picture/PCOSGen-test/images/image10375.jpg\n",
      "/kaggle/input/pcos-picture/PCOSGen-test/images/image10771.jpg\n",
      "/kaggle/input/pcos-picture/PCOSGen-test/images/image11340.jpg\n",
      "/kaggle/input/pcos-picture/PCOSGen-test/images/image10995.jpg\n",
      "/kaggle/input/pcos-picture/PCOSGen-test/images/image10299.jpg\n",
      "/kaggle/input/pcos-picture/PCOSGen-test/images/image10620.jpg\n",
      "/kaggle/input/pcos-picture/PCOSGen-test/images/image10880.jpg\n",
      "/kaggle/input/pcos-picture/PCOSGen-test/images/image10496.jpg\n",
      "/kaggle/input/pcos-picture/PCOSGen-test/images/image10249.jpg\n",
      "/kaggle/input/pcos-picture/PCOSGen-test/images/image11239.jpg\n",
      "/kaggle/input/pcos-picture/PCOSGen-test/images/image11276.jpg\n",
      "/kaggle/input/pcos-picture/PCOSGen-test/images/image11421.jpg\n",
      "/kaggle/input/pcos-picture/PCOSGen-test/images/image11203.jpg\n",
      "/kaggle/input/pcos-picture/PCOSGen-test/images/image10412.jpg\n",
      "/kaggle/input/pcos-picture/PCOSGen-test/images/image11003.jpg\n",
      "/kaggle/input/pcos-picture/PCOSGen-test/images/image11110.jpg\n",
      "/kaggle/input/pcos-picture/PCOSGen-test/images/image11346.jpg\n",
      "/kaggle/input/pcos-picture/PCOSGen-test/images/image11054.jpg\n",
      "/kaggle/input/pcos-picture/PCOSGen-test/images/image10811.jpg\n",
      "/kaggle/input/pcos-picture/PCOSGen-test/images/image10109.jpg\n",
      "/kaggle/input/pcos-picture/PCOSGen-test/images/image11168.jpg\n",
      "/kaggle/input/pcos-picture/PCOSGen-test/images/image10518.jpg\n",
      "/kaggle/input/pcos-picture/PCOSGen-test/images/image11360.jpg\n",
      "/kaggle/input/pcos-picture/PCOSGen-test/images/image10965.jpg\n",
      "/kaggle/input/pcos-picture/PCOSGen-test/images/image10113.jpg\n",
      "/kaggle/input/pcos-picture/PCOSGen-test/images/image10350.jpg\n",
      "/kaggle/input/pcos-picture/PCOSGen-test/images/image10751.jpg\n",
      "/kaggle/input/pcos-picture/PCOSGen-test/images/image10697.jpg\n",
      "/kaggle/input/pcos-picture/PCOSGen-test/images/image10963.jpg\n",
      "/kaggle/input/pcos-picture/PCOSGen-test/images/image10018.jpg\n",
      "/kaggle/input/pcos-picture/PCOSGen-test/images/image10430.jpg\n",
      "/kaggle/input/pcos-picture/PCOSGen-test/images/image11181.jpg\n",
      "/kaggle/input/pcos-picture/PCOSGen-test/images/image10304.jpg\n",
      "/kaggle/input/pcos-picture/PCOSGen-test/images/image11419.jpg\n",
      "/kaggle/input/pcos-picture/PCOSGen-test/images/image10161.jpg\n",
      "/kaggle/input/pcos-picture/PCOSGen-test/images/image10429.jpg\n",
      "/kaggle/input/pcos-picture/PCOSGen-test/images/image10760.jpg\n",
      "/kaggle/input/pcos-picture/PCOSGen-test/images/image11274.jpg\n",
      "/kaggle/input/pcos-picture/PCOSGen-test/images/image10660.jpg\n",
      "/kaggle/input/pcos-picture/PCOSGen-test/images/image10188.jpg\n",
      "/kaggle/input/pcos-picture/PCOSGen-test/images/image10205.jpg\n",
      "/kaggle/input/pcos-picture/PCOSGen-test/images/image11045.jpg\n",
      "/kaggle/input/pcos-picture/PCOSGen-test/images/image10868.jpg\n",
      "/kaggle/input/pcos-picture/PCOSGen-test/images/image10261.jpg\n",
      "/kaggle/input/pcos-picture/PCOSGen-test/images/image10678.jpg\n",
      "/kaggle/input/pcos-picture/PCOSGen-test/images/image10394.jpg\n",
      "/kaggle/input/pcos-picture/PCOSGen-test/images/image10572.jpg\n",
      "/kaggle/input/pcos-picture/PCOSGen-test/images/image11036.jpg\n",
      "/kaggle/input/pcos-picture/PCOSGen-test/images/image10292.jpg\n",
      "/kaggle/input/pcos-picture/PCOSGen-test/images/image10322.jpg\n",
      "/kaggle/input/pcos-picture/PCOSGen-test/images/image10865.jpg\n",
      "/kaggle/input/pcos-picture/PCOSGen-test/images/image10534.jpg\n",
      "/kaggle/input/pcos-picture/PCOSGen-test/images/image10089.jpg\n",
      "/kaggle/input/pcos-picture/PCOSGen-test/images/image10783.jpg\n",
      "/kaggle/input/pcos-picture/PCOSGen-test/images/image10310.jpg\n",
      "/kaggle/input/pcos-picture/PCOSGen-test/images/image10373.jpg\n",
      "/kaggle/input/pcos-picture/PCOSGen-test/images/image10442.jpg\n",
      "/kaggle/input/pcos-picture/PCOSGen-test/images/image10615.jpg\n",
      "/kaggle/input/pcos-picture/PCOSGen-test/images/image10991.jpg\n",
      "/kaggle/input/pcos-picture/PCOSGen-test/images/image10001.jpg\n",
      "/kaggle/input/pcos-picture/PCOSGen-test/images/image10714.jpg\n",
      "/kaggle/input/pcos-picture/PCOSGen-test/images/image11064.jpg\n",
      "/kaggle/input/pcos-picture/PCOSGen-test/images/image11174.jpg\n",
      "/kaggle/input/pcos-picture/PCOSGen-test/images/image10968.jpg\n",
      "/kaggle/input/pcos-picture/PCOSGen-test/images/image10836.jpg\n",
      "/kaggle/input/pcos-picture/PCOSGen-test/images/image10683.jpg\n",
      "/kaggle/input/pcos-picture/PCOSGen-test/images/image11300.jpg\n",
      "/kaggle/input/pcos-picture/PCOSGen-test/images/image10983.jpg\n",
      "/kaggle/input/pcos-picture/PCOSGen-test/images/image10804.jpg\n",
      "/kaggle/input/pcos-picture/PCOSGen-test/images/image11334.jpg\n",
      "/kaggle/input/pcos-picture/PCOSGen-test/images/image10303.jpg\n",
      "/kaggle/input/pcos-picture/PCOSGen-test/images/image11444.jpg\n",
      "/kaggle/input/pcos-picture/PCOSGen-test/images/image11100.jpg\n",
      "/kaggle/input/pcos-picture/PCOSGen-test/images/image11122.jpg\n",
      "/kaggle/input/pcos-picture/PCOSGen-test/images/image11204.jpg\n",
      "/kaggle/input/pcos-picture/PCOSGen-test/images/image10721.jpg\n",
      "/kaggle/input/pcos-picture/PCOSGen-test/images/image11077.jpg\n",
      "/kaggle/input/pcos-picture/PCOSGen-test/images/image11128.jpg\n",
      "/kaggle/input/pcos-picture/PCOSGen-test/images/image10256.jpg\n",
      "/kaggle/input/pcos-picture/PCOSGen-test/images/image10337.jpg\n",
      "/kaggle/input/pcos-picture/PCOSGen-test/images/image10175.jpg\n",
      "/kaggle/input/pcos-picture/PCOSGen-test/images/image11132.jpg\n",
      "/kaggle/input/pcos-picture/PCOSGen-test/images/image11011.jpg\n",
      "/kaggle/input/pcos-picture/PCOSGen-test/images/image10510.jpg\n",
      "/kaggle/input/pcos-picture/PCOSGen-test/images/image11286.jpg\n",
      "/kaggle/input/pcos-picture/PCOSGen-test/images/image10028.jpg\n",
      "/kaggle/input/pcos-picture/PCOSGen-test/images/image10117.jpg\n",
      "/kaggle/input/pcos-picture/PCOSGen-test/images/image11449.jpg\n",
      "/kaggle/input/pcos-picture/PCOSGen-test/images/image11093.jpg\n",
      "/kaggle/input/pcos-picture/PCOSGen-test/images/image10128.jpg\n",
      "/kaggle/input/pcos-picture/PCOSGen-test/images/image11073.jpg\n",
      "/kaggle/input/pcos-picture/PCOSGen-test/images/image10457.jpg\n",
      "/kaggle/input/pcos-picture/PCOSGen-test/images/image10663.jpg\n",
      "/kaggle/input/pcos-picture/PCOSGen-test/images/image10609.jpg\n",
      "/kaggle/input/pcos-picture/PCOSGen-test/images/image10950.jpg\n",
      "/kaggle/input/pcos-picture/PCOSGen-test/images/image10266.jpg\n",
      "/kaggle/input/pcos-picture/PCOSGen-test/images/image11400.jpg\n",
      "/kaggle/input/pcos-picture/PCOSGen-test/images/image11196.jpg\n",
      "/kaggle/input/pcos-picture/PCOSGen-test/images/image10478.jpg\n",
      "/kaggle/input/pcos-picture/PCOSGen-test/images/image10436.jpg\n",
      "/kaggle/input/pcos-picture/PCOSGen-test/images/image11385.jpg\n",
      "/kaggle/input/pcos-picture/PCOSGen-test/images/image10452.jpg\n",
      "/kaggle/input/pcos-picture/PCOSGen-test/images/image10396.jpg\n",
      "/kaggle/input/pcos-picture/PCOSGen-test/images/image10951.jpg\n",
      "/kaggle/input/pcos-picture/PCOSGen-test/images/image10850.jpg\n",
      "/kaggle/input/pcos-picture/PCOSGen-test/images/image10533.jpg\n",
      "/kaggle/input/pcos-picture/PCOSGen-test/images/image10074.jpg\n",
      "/kaggle/input/pcos-picture/PCOSGen-test/images/image10909.jpg\n",
      "/kaggle/input/pcos-picture/PCOSGen-test/images/image10012.jpg\n",
      "/kaggle/input/pcos-picture/PCOSGen-test/images/image11430.jpg\n",
      "/kaggle/input/pcos-picture/PCOSGen-test/images/image10919.jpg\n",
      "/kaggle/input/pcos-picture/PCOSGen-test/images/image11294.jpg\n",
      "/kaggle/input/pcos-picture/PCOSGen-test/images/image10807.jpg\n",
      "/kaggle/input/pcos-picture/PCOSGen-test/images/image11295.jpg\n",
      "/kaggle/input/pcos-picture/PCOSGen-test/images/image10345.jpg\n",
      "/kaggle/input/pcos-picture/PCOSGen-test/images/image10227.jpg\n",
      "/kaggle/input/pcos-picture/PCOSGen-test/images/image10701.jpg\n",
      "/kaggle/input/pcos-picture/PCOSGen-test/images/image11329.jpg\n",
      "/kaggle/input/pcos-picture/PCOSGen-test/images/image10414.jpg\n",
      "/kaggle/input/pcos-picture/PCOSGen-test/images/image11033.jpg\n",
      "/kaggle/input/pcos-picture/PCOSGen-test/images/image10023.jpg\n",
      "/kaggle/input/pcos-picture/PCOSGen-test/images/image10558.jpg\n",
      "/kaggle/input/pcos-picture/PCOSGen-test/images/image10758.jpg\n",
      "/kaggle/input/pcos-picture/PCOSGen-test/images/image10209.jpg\n",
      "/kaggle/input/pcos-picture/PCOSGen-test/images/image11384.jpg\n",
      "/kaggle/input/pcos-picture/PCOSGen-test/images/image11369.jpg\n",
      "/kaggle/input/pcos-picture/PCOSGen-test/images/image11044.jpg\n",
      "/kaggle/input/pcos-picture/PCOSGen-test/images/image10158.jpg\n",
      "/kaggle/input/pcos-picture/PCOSGen-test/images/image10537.jpg\n",
      "/kaggle/input/pcos-picture/PCOSGen-test/images/image10186.jpg\n",
      "/kaggle/input/pcos-picture/PCOSGen-test/images/image10300.jpg\n",
      "/kaggle/input/pcos-picture/PCOSGen-test/images/image10435.jpg\n",
      "/kaggle/input/pcos-picture/PCOSGen-test/images/image11187.jpg\n",
      "/kaggle/input/pcos-picture/PCOSGen-test/images/image11086.jpg\n",
      "/kaggle/input/pcos-picture/PCOSGen-test/images/image10679.jpg\n",
      "/kaggle/input/pcos-picture/PCOSGen-test/images/image10584.jpg\n",
      "/kaggle/input/pcos-picture/PCOSGen-test/images/image11454.jpg\n",
      "/kaggle/input/pcos-picture/PCOSGen-test/images/image10356.jpg\n",
      "/kaggle/input/pcos-picture/PCOSGen-test/images/image10914.jpg\n",
      "/kaggle/input/pcos-picture/PCOSGen-test/images/image10198.jpg\n",
      "/kaggle/input/pcos-picture/PCOSGen-test/images/image10987.jpg\n",
      "/kaggle/input/pcos-picture/PCOSGen-test/images/image11006.jpg\n",
      "/kaggle/input/pcos-picture/PCOSGen-test/images/image10544.jpg\n",
      "/kaggle/input/pcos-picture/PCOSGen-test/images/image10154.jpg\n",
      "/kaggle/input/pcos-picture/PCOSGen-test/images/image11159.jpg\n",
      "/kaggle/input/pcos-picture/PCOSGen-test/images/image10225.jpg\n",
      "/kaggle/input/pcos-picture/PCOSGen-test/images/image10397.jpg\n",
      "/kaggle/input/pcos-picture/PCOSGen-test/images/image10199.jpg\n",
      "/kaggle/input/pcos-picture/PCOSGen-test/images/image11042.jpg\n",
      "/kaggle/input/pcos-picture/PCOSGen-test/images/image10438.jpg\n",
      "/kaggle/input/pcos-picture/PCOSGen-test/images/image11055.jpg\n",
      "/kaggle/input/pcos-picture/PCOSGen-test/images/image10029.jpg\n",
      "/kaggle/input/pcos-picture/PCOSGen-test/images/image10173.jpg\n",
      "/kaggle/input/pcos-picture/PCOSGen-test/images/image10454.jpg\n",
      "/kaggle/input/pcos-picture/PCOSGen-test/images/image11120.jpg\n",
      "/kaggle/input/pcos-picture/PCOSGen-test/images/image10653.jpg\n",
      "/kaggle/input/pcos-picture/PCOSGen-test/images/image10538.jpg\n",
      "/kaggle/input/pcos-picture/PCOSGen-test/images/image11063.jpg\n",
      "/kaggle/input/pcos-picture/PCOSGen-test/images/image11133.jpg\n",
      "/kaggle/input/pcos-picture/PCOSGen-test/images/image10470.jpg\n",
      "/kaggle/input/pcos-picture/PCOSGen-test/images/image11188.jpg\n",
      "/kaggle/input/pcos-picture/PCOSGen-test/images/image10041.jpg\n",
      "/kaggle/input/pcos-picture/PCOSGen-test/images/image10469.jpg\n",
      "/kaggle/input/pcos-picture/PCOSGen-test/images/image10024.jpg\n",
      "/kaggle/input/pcos-picture/PCOSGen-test/images/image10285.jpg\n",
      "/kaggle/input/pcos-picture/PCOSGen-test/images/image11251.jpg\n",
      "/kaggle/input/pcos-picture/PCOSGen-test/images/image11185.jpg\n",
      "/kaggle/input/pcos-picture/PCOSGen-test/images/image11024.jpg\n",
      "/kaggle/input/pcos-picture/PCOSGen-test/images/image10528.jpg\n",
      "/kaggle/input/pcos-picture/PCOSGen-test/images/image10487.jpg\n",
      "/kaggle/input/pcos-picture/PCOSGen-test/images/image10698.jpg\n",
      "/kaggle/input/pcos-picture/PCOSGen-test/images/image10447.jpg\n",
      "/kaggle/input/pcos-picture/PCOSGen-test/images/image10072.jpg\n",
      "/kaggle/input/pcos-picture/PCOSGen-test/images/image10283.jpg\n",
      "/kaggle/input/pcos-picture/PCOSGen-test/images/image10998.jpg\n",
      "/kaggle/input/pcos-picture/PCOSGen-test/images/image11266.jpg\n",
      "/kaggle/input/pcos-picture/PCOSGen-test/images/image11323.jpg\n",
      "/kaggle/input/pcos-picture/PCOSGen-test/images/image10787.jpg\n",
      "/kaggle/input/pcos-picture/PCOSGen-test/images/image10121.jpg\n",
      "/kaggle/input/pcos-picture/PCOSGen-test/images/image10371.jpg\n",
      "/kaggle/input/pcos-picture/PCOSGen-test/images/image10351.jpg\n",
      "/kaggle/input/pcos-picture/PCOSGen-test/images/image10296.jpg\n",
      "/kaggle/input/pcos-picture/PCOSGen-test/images/image10557.jpg\n",
      "/kaggle/input/pcos-picture/PCOSGen-test/images/image10641.jpg\n",
      "/kaggle/input/pcos-picture/PCOSGen-test/images/image10289.jpg\n",
      "/kaggle/input/pcos-picture/PCOSGen-test/images/image10286.jpg\n",
      "/kaggle/input/pcos-picture/PCOSGen-test/images/image10004.jpg\n",
      "/kaggle/input/pcos-picture/PCOSGen-test/images/image11087.jpg\n",
      "/kaggle/input/pcos-picture/PCOSGen-test/images/image10938.jpg\n",
      "/kaggle/input/pcos-picture/PCOSGen-test/images/image10849.jpg\n",
      "/kaggle/input/pcos-picture/PCOSGen-test/images/image10635.jpg\n",
      "/kaggle/input/pcos-picture/PCOSGen-test/images/image10348.jpg\n",
      "/kaggle/input/pcos-picture/PCOSGen-test/images/image10734.jpg\n",
      "/kaggle/input/pcos-picture/PCOSGen-test/images/image10742.jpg\n",
      "/kaggle/input/pcos-picture/PCOSGen-test/images/image11161.jpg\n",
      "/kaggle/input/pcos-picture/PCOSGen-test/images/image10887.jpg\n",
      "/kaggle/input/pcos-picture/PCOSGen-test/images/image10974.jpg\n",
      "/kaggle/input/pcos-picture/PCOSGen-test/images/image11229.jpg\n",
      "/kaggle/input/pcos-picture/PCOSGen-test/images/image10379.jpg\n",
      "/kaggle/input/pcos-picture/PCOSGen-test/images/image10555.jpg\n",
      "/kaggle/input/pcos-picture/PCOSGen-test/images/image11365.jpg\n",
      "/kaggle/input/pcos-picture/PCOSGen-test/images/image10405.jpg\n",
      "/kaggle/input/pcos-picture/PCOSGen-test/images/image10646.jpg\n",
      "/kaggle/input/pcos-picture/PCOSGen-test/images/image11154.jpg\n",
      "/kaggle/input/pcos-picture/PCOSGen-test/images/image10271.jpg\n",
      "/kaggle/input/pcos-picture/PCOSGen-test/images/image11394.jpg\n",
      "/kaggle/input/pcos-picture/PCOSGen-test/images/image11451.jpg\n",
      "/kaggle/input/pcos-picture/PCOSGen-test/images/image11075.jpg\n",
      "/kaggle/input/pcos-picture/PCOSGen-test/images/image10712.jpg\n",
      "/kaggle/input/pcos-picture/PCOSGen-test/images/image10912.jpg\n",
      "/kaggle/input/pcos-picture/PCOSGen-test/images/image11216.jpg\n",
      "/kaggle/input/pcos-picture/PCOSGen-test/images/image11119.jpg\n",
      "/kaggle/input/pcos-picture/PCOSGen-test/images/image10568.jpg\n",
      "/kaggle/input/pcos-picture/PCOSGen-test/images/image10550.jpg\n",
      "/kaggle/input/pcos-picture/PCOSGen-test/images/image10647.jpg\n",
      "/kaggle/input/pcos-picture/PCOSGen-test/images/image10077.jpg\n",
      "/kaggle/input/pcos-picture/PCOSGen-test/images/image11096.jpg\n",
      "/kaggle/input/pcos-picture/PCOSGen-test/images/image11389.jpg\n",
      "/kaggle/input/pcos-picture/PCOSGen-test/images/image10684.jpg\n",
      "/kaggle/input/pcos-picture/PCOSGen-test/images/image10219.jpg\n",
      "/kaggle/input/pcos-picture/PCOSGen-test/images/image10362.jpg\n",
      "/kaggle/input/pcos-picture/PCOSGen-test/images/image10752.jpg\n",
      "/kaggle/input/pcos-picture/PCOSGen-test/images/image11461.jpg\n",
      "/kaggle/input/pcos-picture/PCOSGen-test/images/image11124.jpg\n",
      "/kaggle/input/pcos-picture/PCOSGen-test/images/image11375.jpg\n",
      "/kaggle/input/pcos-picture/PCOSGen-test/images/image10931.jpg\n",
      "/kaggle/input/pcos-picture/PCOSGen-test/images/image10691.jpg\n",
      "/kaggle/input/pcos-picture/PCOSGen-test/images/image10258.jpg\n",
      "/kaggle/input/pcos-picture/PCOSGen-test/images/image10932.jpg\n",
      "/kaggle/input/pcos-picture/PCOSGen-test/images/image11234.jpg\n",
      "/kaggle/input/pcos-picture/PCOSGen-test/images/image10212.jpg\n",
      "/kaggle/input/pcos-picture/PCOSGen-test/images/image10664.jpg\n",
      "/kaggle/input/pcos-picture/PCOSGen-test/images/image10775.jpg\n",
      "/kaggle/input/pcos-picture/PCOSGen-test/images/image10376.jpg\n",
      "/kaggle/input/pcos-picture/PCOSGen-test/images/image10215.jpg\n",
      "/kaggle/input/pcos-picture/PCOSGen-test/images/image10719.jpg\n",
      "/kaggle/input/pcos-picture/PCOSGen-test/images/image11136.jpg\n",
      "/kaggle/input/pcos-picture/PCOSGen-test/images/image11146.jpg\n",
      "/kaggle/input/pcos-picture/PCOSGen-test/images/image11326.jpg\n",
      "/kaggle/input/pcos-picture/PCOSGen-test/images/image10864.jpg\n",
      "/kaggle/input/pcos-picture/PCOSGen-test/images/image10278.jpg\n",
      "/kaggle/input/pcos-picture/PCOSGen-test/images/image10797.jpg\n",
      "/kaggle/input/pcos-picture/PCOSGen-test/images/image10357.jpg\n",
      "/kaggle/input/pcos-picture/PCOSGen-test/images/image11366.jpg\n",
      "/kaggle/input/pcos-picture/PCOSGen-test/images/image11070.jpg\n",
      "/kaggle/input/pcos-picture/PCOSGen-test/images/image10386.jpg\n",
      "/kaggle/input/pcos-picture/PCOSGen-test/images/image11307.jpg\n",
      "/kaggle/input/pcos-picture/PCOSGen-test/images/image11184.jpg\n",
      "/kaggle/input/pcos-picture/PCOSGen-test/images/image11227.jpg\n",
      "/kaggle/input/pcos-picture/PCOSGen-test/images/image10268.jpg\n",
      "/kaggle/input/pcos-picture/PCOSGen-test/images/image10445.jpg\n",
      "/kaggle/input/pcos-picture/PCOSGen-test/images/image10279.jpg\n",
      "/kaggle/input/pcos-picture/PCOSGen-test/images/image11224.jpg\n",
      "/kaggle/input/pcos-picture/PCOSGen-test/images/image10098.jpg\n",
      "/kaggle/input/pcos-picture/PCOSGen-test/images/image10576.jpg\n",
      "/kaggle/input/pcos-picture/PCOSGen-test/images/image10183.jpg\n",
      "/kaggle/input/pcos-picture/PCOSGen-test/images/image10361.jpg\n",
      "/kaggle/input/pcos-picture/PCOSGen-test/images/image11263.jpg\n",
      "/kaggle/input/pcos-picture/PCOSGen-test/images/image10380.jpg\n",
      "/kaggle/input/pcos-picture/PCOSGen-test/images/image10519.jpg\n",
      "/kaggle/input/pcos-picture/PCOSGen-test/images/image10056.jpg\n",
      "/kaggle/input/pcos-picture/PCOSGen-test/images/image10360.jpg\n",
      "/kaggle/input/pcos-picture/PCOSGen-test/images/image10642.jpg\n",
      "/kaggle/input/pcos-picture/PCOSGen-test/images/image11409.jpg\n",
      "/kaggle/input/pcos-picture/PCOSGen-test/images/image11315.jpg\n",
      "/kaggle/input/pcos-picture/PCOSGen-test/images/image10530.jpg\n",
      "/kaggle/input/pcos-picture/PCOSGen-test/images/image10378.jpg\n",
      "/kaggle/input/pcos-picture/PCOSGen-test/images/image10573.jpg\n",
      "/kaggle/input/pcos-picture/PCOSGen-test/images/image10768.jpg\n",
      "/kaggle/input/pcos-picture/PCOSGen-test/images/image10972.jpg\n",
      "/kaggle/input/pcos-picture/PCOSGen-test/images/image10449.jpg\n",
      "/kaggle/input/pcos-picture/PCOSGen-test/images/image10170.jpg\n",
      "/kaggle/input/pcos-picture/PCOSGen-test/images/image10634.jpg\n",
      "/kaggle/input/pcos-picture/PCOSGen-test/images/image10578.jpg\n",
      "/kaggle/input/pcos-picture/PCOSGen-test/images/image10536.jpg\n",
      "/kaggle/input/pcos-picture/PCOSGen-test/images/image11358.jpg\n",
      "/kaggle/input/pcos-picture/PCOSGen-test/images/image11268.jpg\n",
      "/kaggle/input/pcos-picture/PCOSGen-test/images/image10753.jpg\n",
      "/kaggle/input/pcos-picture/PCOSGen-test/images/image11117.jpg\n",
      "/kaggle/input/pcos-picture/PCOSGen-test/images/image10892.jpg\n",
      "/kaggle/input/pcos-picture/PCOSGen-test/images/image11145.jpg\n",
      "/kaggle/input/pcos-picture/PCOSGen-test/images/image10298.jpg\n",
      "/kaggle/input/pcos-picture/PCOSGen-test/images/image11169.jpg\n",
      "/kaggle/input/pcos-picture/PCOSGen-test/images/image10424.jpg\n",
      "/kaggle/input/pcos-picture/PCOSGen-test/images/image11206.jpg\n",
      "/kaggle/input/pcos-picture/PCOSGen-test/images/image11287.jpg\n",
      "/kaggle/input/pcos-picture/PCOSGen-test/images/image10208.jpg\n",
      "/kaggle/input/pcos-picture/PCOSGen-test/images/image10839.jpg\n",
      "/kaggle/input/pcos-picture/PCOSGen-test/images/image11249.jpg\n",
      "/kaggle/input/pcos-picture/PCOSGen-test/images/image10400.jpg\n",
      "/kaggle/input/pcos-picture/PCOSGen-test/images/image10631.jpg\n",
      "/kaggle/input/pcos-picture/PCOSGen-test/images/image10228.jpg\n",
      "/kaggle/input/pcos-picture/PCOSGen-test/images/image10315.jpg\n",
      "/kaggle/input/pcos-picture/PCOSGen-test/images/image11322.jpg\n",
      "/kaggle/input/pcos-picture/PCOSGen-test/images/image11007.jpg\n",
      "/kaggle/input/pcos-picture/PCOSGen-test/images/image10168.jpg\n",
      "/kaggle/input/pcos-picture/PCOSGen-test/images/image11391.jpg\n",
      "/kaggle/input/pcos-picture/PCOSGen-test/images/image11424.jpg\n",
      "/kaggle/input/pcos-picture/PCOSGen-test/images/image10799.jpg\n",
      "/kaggle/input/pcos-picture/PCOSGen-test/images/image10019.jpg\n",
      "/kaggle/input/pcos-picture/PCOSGen-test/images/image11373.jpg\n",
      "/kaggle/input/pcos-picture/PCOSGen-test/images/image10978.jpg\n",
      "/kaggle/input/pcos-picture/PCOSGen-test/images/image10905.jpg\n",
      "/kaggle/input/pcos-picture/PCOSGen-test/images/image10624.jpg\n",
      "/kaggle/input/pcos-picture/PCOSGen-test/images/image10738.jpg\n",
      "/kaggle/input/pcos-picture/PCOSGen-test/images/image11035.jpg\n",
      "/kaggle/input/pcos-picture/PCOSGen-test/images/image10078.jpg\n",
      "/kaggle/input/pcos-picture/PCOSGen-test/images/image10748.jpg\n",
      "/kaggle/input/pcos-picture/PCOSGen-test/images/image11299.jpg\n",
      "/kaggle/input/pcos-picture/PCOSGen-test/images/image11066.jpg\n",
      "/kaggle/input/pcos-picture/PCOSGen-test/images/image11026.jpg\n",
      "/kaggle/input/pcos-picture/PCOSGen-test/images/image11442.jpg\n",
      "/kaggle/input/pcos-picture/PCOSGen-test/images/image10203.jpg\n",
      "/kaggle/input/pcos-picture/PCOSGen-test/images/image10737.jpg\n",
      "/kaggle/input/pcos-picture/PCOSGen-test/images/image10490.jpg\n",
      "/kaggle/input/pcos-picture/PCOSGen-test/images/image10204.jpg\n",
      "/kaggle/input/pcos-picture/PCOSGen-test/images/image11298.jpg\n",
      "/kaggle/input/pcos-picture/PCOSGen-test/images/image11438.jpg\n",
      "/kaggle/input/pcos-picture/PCOSGen-test/images/image11288.jpg\n",
      "/kaggle/input/pcos-picture/PCOSGen-test/images/image10879.jpg\n",
      "/kaggle/input/pcos-picture/PCOSGen-test/images/image10602.jpg\n",
      "/kaggle/input/pcos-picture/PCOSGen-test/images/image10959.jpg\n",
      "/kaggle/input/pcos-picture/PCOSGen-test/images/image10236.jpg\n",
      "/kaggle/input/pcos-picture/PCOSGen-test/images/image11401.jpg\n",
      "/kaggle/input/pcos-picture/PCOSGen-test/images/image10662.jpg\n",
      "/kaggle/input/pcos-picture/PCOSGen-test/images/image10416.jpg\n",
      "/kaggle/input/pcos-picture/PCOSGen-test/images/image11050.jpg\n",
      "/kaggle/input/pcos-picture/PCOSGen-test/images/image10975.jpg\n",
      "/kaggle/input/pcos-picture/PCOSGen-test/images/image10467.jpg\n",
      "/kaggle/input/pcos-picture/PCOSGen-test/images/image11290.jpg\n",
      "/kaggle/input/pcos-picture/PCOSGen-test/images/image10514.jpg\n",
      "/kaggle/input/pcos-picture/PCOSGen-test/images/image11121.jpg\n",
      "/kaggle/input/pcos-picture/PCOSGen-test/images/image10194.jpg\n",
      "/kaggle/input/pcos-picture/PCOSGen-test/images/image10291.jpg\n",
      "/kaggle/input/pcos-picture/PCOSGen-test/images/image10238.jpg\n",
      "/kaggle/input/pcos-picture/PCOSGen-test/images/image10937.jpg\n",
      "/kaggle/input/pcos-picture/PCOSGen-test/images/image10840.jpg\n",
      "/kaggle/input/pcos-picture/PCOSGen-test/images/image10824.jpg\n",
      "/kaggle/input/pcos-picture/PCOSGen-test/images/image11382.jpg\n",
      "/kaggle/input/pcos-picture/PCOSGen-test/images/image10346.jpg\n",
      "/kaggle/input/pcos-picture/PCOSGen-test/images/image10552.jpg\n",
      "/kaggle/input/pcos-picture/PCOSGen-test/images/image10772.jpg\n",
      "/kaggle/input/pcos-picture/PCOSGen-test/images/image10870.jpg\n",
      "/kaggle/input/pcos-picture/PCOSGen-test/images/image10713.jpg\n",
      "/kaggle/input/pcos-picture/PCOSGen-test/images/image10766.jpg\n",
      "/kaggle/input/pcos-picture/PCOSGen-test/images/image11370.jpg\n",
      "/kaggle/input/pcos-picture/PCOSGen-test/images/image10627.jpg\n",
      "/kaggle/input/pcos-picture/PCOSGen-test/images/image10068.jpg\n",
      "/kaggle/input/pcos-picture/PCOSGen-test/images/image11333.jpg\n",
      "/kaggle/input/pcos-picture/PCOSGen-test/images/image10391.jpg\n",
      "/kaggle/input/pcos-picture/PCOSGen-test/images/image10245.jpg\n",
      "/kaggle/input/pcos-picture/PCOSGen-test/images/image10762.jpg\n",
      "/kaggle/input/pcos-picture/PCOSGen-test/images/image11303.jpg\n",
      "/kaggle/input/pcos-picture/PCOSGen-test/images/image11314.jpg\n",
      "/kaggle/input/pcos-picture/PCOSGen-test/images/image10899.jpg\n",
      "/kaggle/input/pcos-picture/PCOSGen-test/images/image10347.jpg\n",
      "/kaggle/input/pcos-picture/PCOSGen-test/images/image10875.jpg\n",
      "/kaggle/input/pcos-picture/PCOSGen-test/images/image10110.jpg\n",
      "/kaggle/input/pcos-picture/PCOSGen-test/images/image10207.jpg\n",
      "/kaggle/input/pcos-picture/PCOSGen-test/images/image11020.jpg\n",
      "/kaggle/input/pcos-picture/PCOSGen-test/images/image11166.jpg\n",
      "/kaggle/input/pcos-picture/PCOSGen-test/images/image11410.jpg\n",
      "/kaggle/input/pcos-picture/PCOSGen-test/images/image10477.jpg\n",
      "/kaggle/input/pcos-picture/PCOSGen-test/images/image10151.jpg\n",
      "/kaggle/input/pcos-picture/PCOSGen-test/images/image10831.jpg\n",
      "/kaggle/input/pcos-picture/PCOSGen-test/images/image10973.jpg\n",
      "/kaggle/input/pcos-picture/PCOSGen-test/images/image11213.jpg\n",
      "/kaggle/input/pcos-picture/PCOSGen-test/images/image10500.jpg\n",
      "/kaggle/input/pcos-picture/PCOSGen-test/images/image10877.jpg\n",
      "/kaggle/input/pcos-picture/PCOSGen-test/images/image10013.jpg\n",
      "/kaggle/input/pcos-picture/PCOSGen-test/images/image11125.jpg\n",
      "/kaggle/input/pcos-picture/PCOSGen-test/images/image11157.jpg\n",
      "/kaggle/input/pcos-picture/PCOSGen-test/images/image10857.jpg\n",
      "/kaggle/input/pcos-picture/PCOSGen-test/images/image10786.jpg\n",
      "/kaggle/input/pcos-picture/PCOSGen-test/images/image10681.jpg\n",
      "/kaggle/input/pcos-picture/PCOSGen-test/images/image11103.jpg\n",
      "/kaggle/input/pcos-picture/PCOSGen-test/images/image10418.jpg\n",
      "/kaggle/input/pcos-picture/PCOSGen-test/images/image11043.jpg\n",
      "/kaggle/input/pcos-picture/PCOSGen-test/images/image10626.jpg\n",
      "/kaggle/input/pcos-picture/PCOSGen-test/images/image10039.jpg\n",
      "/kaggle/input/pcos-picture/PCOSGen-test/images/image11165.jpg\n",
      "/kaggle/input/pcos-picture/PCOSGen-test/images/image11342.jpg\n",
      "/kaggle/input/pcos-picture/PCOSGen-test/images/image10828.jpg\n",
      "/kaggle/input/pcos-picture/PCOSGen-test/images/image11062.jpg\n",
      "/kaggle/input/pcos-picture/PCOSGen-test/images/image10896.jpg\n",
      "/kaggle/input/pcos-picture/PCOSGen-test/images/image10250.jpg\n",
      "/kaggle/input/pcos-picture/PCOSGen-test/images/image11072.jpg\n",
      "/kaggle/input/pcos-picture/PCOSGen-test/images/image10708.jpg\n",
      "/kaggle/input/pcos-picture/PCOSGen-test/images/image11455.jpg\n",
      "/kaggle/input/pcos-picture/PCOSGen-test/images/image11264.jpg\n",
      "/kaggle/input/pcos-picture/PCOSGen-test/images/image10837.jpg\n",
      "/kaggle/input/pcos-picture/PCOSGen-test/images/image10545.jpg\n",
      "/kaggle/input/pcos-picture/PCOSGen-test/images/image10595.jpg\n",
      "/kaggle/input/pcos-picture/PCOSGen-test/images/image10498.jpg\n",
      "/kaggle/input/pcos-picture/PCOSGen-test/images/image10603.jpg\n",
      "/kaggle/input/pcos-picture/PCOSGen-test/images/image10150.jpg\n",
      "/kaggle/input/pcos-picture/PCOSGen-test/images/image11010.jpg\n",
      "/kaggle/input/pcos-picture/PCOSGen-test/images/image10246.jpg\n",
      "/kaggle/input/pcos-picture/PCOSGen-test/images/image11148.jpg\n",
      "/kaggle/input/pcos-picture/PCOSGen-test/images/image10582.jpg\n",
      "/kaggle/input/pcos-picture/PCOSGen-test/images/image11001.jpg\n",
      "/kaggle/input/pcos-picture/PCOSGen-test/images/image11167.jpg\n",
      "/kaggle/input/pcos-picture/PCOSGen-test/images/image10925.jpg\n",
      "/kaggle/input/pcos-picture/PCOSGen-test/images/image10570.jpg\n",
      "/kaggle/input/pcos-picture/PCOSGen-test/images/image10599.jpg\n",
      "/kaggle/input/pcos-picture/PCOSGen-test/images/image11372.jpg\n",
      "/kaggle/input/pcos-picture/PCOSGen-test/images/image10604.jpg\n",
      "/kaggle/input/pcos-picture/PCOSGen-test/images/image10021.jpg\n",
      "/kaggle/input/pcos-picture/PCOSGen-test/images/image10112.jpg\n",
      "/kaggle/input/pcos-picture/PCOSGen-test/images/image11341.jpg\n",
      "/kaggle/input/pcos-picture/PCOSGen-test/images/image10666.jpg\n",
      "/kaggle/input/pcos-picture/PCOSGen-test/images/image10123.jpg\n",
      "/kaggle/input/pcos-picture/PCOSGen-test/images/image11447.jpg\n",
      "/kaggle/input/pcos-picture/PCOSGen-test/images/image11164.jpg\n",
      "/kaggle/input/pcos-picture/PCOSGen-test/images/image10994.jpg\n",
      "/kaggle/input/pcos-picture/PCOSGen-test/images/image10460.jpg\n",
      "/kaggle/input/pcos-picture/PCOSGen-test/images/image10264.jpg\n",
      "/kaggle/input/pcos-picture/PCOSGen-test/images/image10042.jpg\n",
      "/kaggle/input/pcos-picture/PCOSGen-test/images/image10437.jpg\n",
      "/kaggle/input/pcos-picture/PCOSGen-test/images/image10729.jpg\n",
      "/kaggle/input/pcos-picture/PCOSGen-test/images/image10860.jpg\n",
      "/kaggle/input/pcos-picture/PCOSGen-test/images/image11202.jpg\n",
      "/kaggle/input/pcos-picture/PCOSGen-test/images/image10330.jpg\n",
      "/kaggle/input/pcos-picture/PCOSGen-test/images/image10147.jpg\n",
      "/kaggle/input/pcos-picture/PCOSGen-test/images/image11000.jpg\n",
      "/kaggle/input/pcos-picture/PCOSGen-test/images/image11432.jpg\n",
      "/kaggle/input/pcos-picture/PCOSGen-test/images/image11198.jpg\n",
      "/kaggle/input/pcos-picture/PCOSGen-test/images/image10087.jpg\n",
      "/kaggle/input/pcos-picture/PCOSGen-test/images/image10181.jpg\n",
      "/kaggle/input/pcos-picture/PCOSGen-test/images/image10190.jpg\n",
      "/kaggle/input/pcos-picture/PCOSGen-test/images/image11126.jpg\n",
      "/kaggle/input/pcos-picture/PCOSGen-test/images/image11293.jpg\n",
      "/kaggle/input/pcos-picture/PCOSGen-test/images/image10326.jpg\n",
      "/kaggle/input/pcos-picture/PCOSGen-test/images/image10521.jpg\n",
      "/kaggle/input/pcos-picture/PCOSGen-test/images/image10037.jpg\n",
      "/kaggle/input/pcos-picture/PCOSGen-test/images/image11049.jpg\n",
      "/kaggle/input/pcos-picture/PCOSGen-test/images/image11135.jpg\n",
      "/kaggle/input/pcos-picture/PCOSGen-test/images/image10101.jpg\n",
      "/kaggle/input/pcos-picture/PCOSGen-test/images/image11027.jpg\n",
      "/kaggle/input/pcos-picture/PCOSGen-test/images/image10776.jpg\n",
      "/kaggle/input/pcos-picture/PCOSGen-test/images/image10970.jpg\n",
      "/kaggle/input/pcos-picture/PCOSGen-test/images/image11426.jpg\n",
      "/kaggle/input/pcos-picture/PCOSGen-test/images/image10822.jpg\n",
      "/kaggle/input/pcos-picture/PCOSGen-test/images/image10116.jpg\n",
      "/kaggle/input/pcos-picture/PCOSGen-test/images/image10217.jpg\n",
      "/kaggle/input/pcos-picture/PCOSGen-test/images/image10607.jpg\n",
      "/kaggle/input/pcos-picture/PCOSGen-test/images/image10652.jpg\n",
      "/kaggle/input/pcos-picture/PCOSGen-test/images/image11457.jpg\n",
      "/kaggle/input/pcos-picture/PCOSGen-test/images/image10532.jpg\n",
      "/kaggle/input/pcos-picture/PCOSGen-test/images/image10640.jpg\n",
      "/kaggle/input/pcos-picture/PCOSGen-test/images/image11118.jpg\n",
      "/kaggle/input/pcos-picture/PCOSGen-test/images/image11219.jpg\n",
      "/kaggle/input/pcos-picture/PCOSGen-test/images/image10821.jpg\n",
      "/kaggle/input/pcos-picture/PCOSGen-test/images/image10685.jpg\n",
      "/kaggle/input/pcos-picture/PCOSGen-test/images/image11252.jpg\n",
      "/kaggle/input/pcos-picture/PCOSGen-test/images/image11233.jpg\n",
      "/kaggle/input/pcos-picture/PCOSGen-test/images/image10549.jpg\n",
      "/kaggle/input/pcos-picture/PCOSGen-test/images/image11205.jpg\n",
      "/kaggle/input/pcos-picture/PCOSGen-test/images/image10159.jpg\n",
      "/kaggle/input/pcos-picture/PCOSGen-test/images/image10506.jpg\n",
      "/kaggle/input/pcos-picture/PCOSGen-test/images/image11211.jpg\n",
      "/kaggle/input/pcos-picture/PCOSGen-test/images/image10805.jpg\n",
      "/kaggle/input/pcos-picture/PCOSGen-test/images/image11039.jpg\n",
      "/kaggle/input/pcos-picture/PCOSGen-test/images/image10917.jpg\n",
      "/kaggle/input/pcos-picture/PCOSGen-test/images/image10193.jpg\n",
      "/kaggle/input/pcos-picture/PCOSGen-test/images/image11441.jpg\n",
      "/kaggle/input/pcos-picture/PCOSGen-test/images/image11467.jpg\n",
      "/kaggle/input/pcos-picture/PCOSGen-test/images/image10317.jpg\n",
      "/kaggle/input/pcos-picture/PCOSGen-test/images/image10156.jpg\n",
      "/kaggle/input/pcos-picture/PCOSGen-test/images/image10720.jpg\n",
      "/kaggle/input/pcos-picture/PCOSGen-test/images/image10180.jpg\n",
      "/kaggle/input/pcos-picture/PCOSGen-test/images/image10722.jpg\n",
      "/kaggle/input/pcos-picture/PCOSGen-test/images/image10102.jpg\n",
      "/kaggle/input/pcos-picture/PCOSGen-test/images/image10863.jpg\n",
      "/kaggle/input/pcos-picture/PCOSGen-test/images/image10335.jpg\n",
      "/kaggle/input/pcos-picture/PCOSGen-test/images/image10543.jpg\n",
      "/kaggle/input/pcos-picture/PCOSGen-test/images/image10612.jpg\n",
      "/kaggle/input/pcos-picture/PCOSGen-test/images/image10639.jpg\n",
      "/kaggle/input/pcos-picture/PCOSGen-test/images/image10033.jpg\n",
      "/kaggle/input/pcos-picture/PCOSGen-test/images/image10145.jpg\n",
      "/kaggle/input/pcos-picture/PCOSGen-test/images/image10420.jpg\n",
      "/kaggle/input/pcos-picture/PCOSGen-test/images/image11225.jpg\n",
      "/kaggle/input/pcos-picture/PCOSGen-test/images/image10923.jpg\n",
      "/kaggle/input/pcos-picture/PCOSGen-test/images/image10324.jpg\n",
      "/kaggle/input/pcos-picture/PCOSGen-test/images/image11339.jpg\n",
      "/kaggle/input/pcos-picture/PCOSGen-test/images/image10716.jpg\n",
      "/kaggle/input/pcos-picture/PCOSGen-test/images/image10711.jpg\n",
      "/kaggle/input/pcos-picture/PCOSGen-test/images/image11361.jpg\n",
      "/kaggle/input/pcos-picture/PCOSGen-test/images/image10274.jpg\n",
      "/kaggle/input/pcos-picture/PCOSGen-test/images/image10571.jpg\n",
      "/kaggle/input/pcos-picture/PCOSGen-test/images/image10590.jpg\n",
      "/kaggle/input/pcos-picture/PCOSGen-test/images/image10566.jpg\n",
      "/kaggle/input/pcos-picture/PCOSGen-test/images/image10243.jpg\n",
      "/kaggle/input/pcos-picture/PCOSGen-test/images/image10529.jpg\n",
      "/kaggle/input/pcos-picture/PCOSGen-test/images/image11345.jpg\n",
      "/kaggle/input/pcos-picture/PCOSGen-test/images/image11023.jpg\n",
      "/kaggle/input/pcos-picture/PCOSGen-test/images/image10785.jpg\n",
      "/kaggle/input/pcos-picture/PCOSGen-test/images/image10494.jpg\n",
      "/kaggle/input/pcos-picture/PCOSGen-test/images/image10060.jpg\n",
      "/kaggle/input/pcos-picture/PCOSGen-test/images/image10665.jpg\n",
      "/kaggle/input/pcos-picture/PCOSGen-test/images/image10689.jpg\n",
      "/kaggle/input/pcos-picture/PCOSGen-test/images/image10535.jpg\n",
      "/kaggle/input/pcos-picture/PCOSGen-test/images/image10176.jpg\n",
      "/kaggle/input/pcos-picture/PCOSGen-test/images/image10593.jpg\n",
      "/kaggle/input/pcos-picture/PCOSGen-test/images/image10406.jpg\n",
      "/kaggle/input/pcos-picture/PCOSGen-test/images/image10710.jpg\n",
      "/kaggle/input/pcos-picture/PCOSGen-test/images/image10658.jpg\n",
      "/kaggle/input/pcos-picture/PCOSGen-test/images/image10613.jpg\n",
      "/kaggle/input/pcos-picture/PCOSGen-test/images/image10759.jpg\n",
      "/kaggle/input/pcos-picture/PCOSGen-test/images/image10050.jpg\n",
      "/kaggle/input/pcos-picture/PCOSGen-test/images/image10026.jpg\n",
      "/kaggle/input/pcos-picture/PCOSGen-test/images/image11429.jpg\n",
      "/kaggle/input/pcos-picture/PCOSGen-test/images/image11408.jpg\n",
      "/kaggle/input/pcos-picture/PCOSGen-test/images/image11237.jpg\n",
      "/kaggle/input/pcos-picture/PCOSGen-test/images/image10169.jpg\n",
      "/kaggle/input/pcos-picture/PCOSGen-test/images/image11284.jpg\n",
      "/kaggle/input/pcos-picture/PCOSGen-test/images/image10985.jpg\n",
      "/kaggle/input/pcos-picture/PCOSGen-test/images/image10791.jpg\n",
      "/kaggle/input/pcos-picture/PCOSGen-test/images/image10363.jpg\n",
      "/kaggle/input/pcos-picture/PCOSGen-test/images/image11271.jpg\n",
      "/kaggle/input/pcos-picture/PCOSGen-test/images/image10062.jpg\n",
      "/kaggle/input/pcos-picture/PCOSGen-test/images/image10048.jpg\n",
      "/kaggle/input/pcos-picture/PCOSGen-test/images/image10141.jpg\n",
      "/kaggle/input/pcos-picture/PCOSGen-test/images/image11437.jpg\n",
      "/kaggle/input/pcos-picture/PCOSGen-test/images/image10940.jpg\n",
      "/kaggle/input/pcos-picture/PCOSGen-test/images/image10936.jpg\n",
      "/kaggle/input/pcos-picture/PCOSGen-test/images/image10499.jpg\n",
      "/kaggle/input/pcos-picture/PCOSGen-test/images/image10267.jpg\n",
      "/kaggle/input/pcos-picture/PCOSGen-test/images/image10564.jpg\n",
      "/kaggle/input/pcos-picture/PCOSGen-test/images/image10900.jpg\n",
      "/kaggle/input/pcos-picture/PCOSGen-test/images/image11285.jpg\n",
      "/kaggle/input/pcos-picture/PCOSGen-test/images/image11277.jpg\n",
      "/kaggle/input/pcos-picture/PCOSGen-test/images/image11313.jpg\n",
      "/kaggle/input/pcos-picture/PCOSGen-test/images/image10561.jpg\n",
      "/kaggle/input/pcos-picture/PCOSGen-test/images/image10645.jpg\n",
      "/kaggle/input/pcos-picture/PCOSGen-test/images/image10750.jpg\n",
      "/kaggle/input/pcos-picture/PCOSGen-test/images/image10431.jpg\n",
      "/kaggle/input/pcos-picture/PCOSGen-test/images/image11357.jpg\n",
      "/kaggle/input/pcos-picture/PCOSGen-test/images/image11337.jpg\n",
      "/kaggle/input/pcos-picture/PCOSGen-test/images/image10398.jpg\n",
      "/kaggle/input/pcos-picture/PCOSGen-test/images/image10579.jpg\n",
      "/kaggle/input/pcos-picture/PCOSGen-test/images/image10949.jpg\n",
      "/kaggle/input/pcos-picture/PCOSGen-test/images/image11217.jpg\n",
      "/kaggle/input/pcos-picture/PCOSGen-test/images/image10688.jpg\n",
      "/kaggle/input/pcos-picture/PCOSGen-test/images/image10009.jpg\n",
      "/kaggle/input/pcos-picture/PCOSGen-test/images/image10242.jpg\n",
      "/kaggle/input/pcos-picture/PCOSGen-test/images/image10586.jpg\n",
      "/kaggle/input/pcos-picture/PCOSGen-test/images/image10459.jpg\n",
      "/kaggle/input/pcos-picture/PCOSGen-test/images/image10871.jpg\n",
      "/kaggle/input/pcos-picture/PCOSGen-test/images/image10511.jpg\n",
      "/kaggle/input/pcos-picture/PCOSGen-test/images/image11267.jpg\n",
      "/kaggle/input/pcos-picture/PCOSGen-test/images/image11368.jpg\n",
      "/kaggle/input/pcos-picture/PCOSGen-test/images/image10257.jpg\n",
      "/kaggle/input/pcos-picture/PCOSGen-test/images/image10325.jpg\n",
      "/kaggle/input/pcos-picture/PCOSGen-test/images/image10139.jpg\n",
      "/kaggle/input/pcos-picture/PCOSGen-test/images/image10901.jpg\n",
      "/kaggle/input/pcos-picture/PCOSGen-test/images/image11142.jpg\n",
      "/kaggle/input/pcos-picture/PCOSGen-test/images/image10674.jpg\n",
      "/kaggle/input/pcos-picture/PCOSGen-test/images/image11254.jpg\n",
      "/kaggle/input/pcos-picture/PCOSGen-test/images/image10928.jpg\n",
      "/kaggle/input/pcos-picture/PCOSGen-test/images/image10214.jpg\n",
      "/kaggle/input/pcos-picture/PCOSGen-test/images/image10409.jpg\n",
      "/kaggle/input/pcos-picture/PCOSGen-test/images/image10220.jpg\n",
      "/kaggle/input/pcos-picture/PCOSGen-test/images/image11230.jpg\n",
      "/kaggle/input/pcos-picture/PCOSGen-test/images/image10795.jpg\n",
      "/kaggle/input/pcos-picture/PCOSGen-test/images/image10709.jpg\n",
      "/kaggle/input/pcos-picture/PCOSGen-test/images/image11364.jpg\n",
      "/kaggle/input/pcos-picture/PCOSGen-test/images/image10904.jpg\n",
      "/kaggle/input/pcos-picture/PCOSGen-test/images/image10222.jpg\n",
      "/kaggle/input/pcos-picture/PCOSGen-test/images/image10878.jpg\n",
      "/kaggle/input/pcos-picture/PCOSGen-test/images/image10548.jpg\n",
      "/kaggle/input/pcos-picture/PCOSGen-test/images/image10411.jpg\n",
      "/kaggle/input/pcos-picture/PCOSGen-test/images/image10655.jpg\n",
      "/kaggle/input/pcos-picture/PCOSGen-test/images/image10829.jpg\n",
      "/kaggle/input/pcos-picture/PCOSGen-test/images/image10703.jpg\n",
      "/kaggle/input/pcos-picture/PCOSGen-test/images/image10597.jpg\n",
      "/kaggle/input/pcos-picture/PCOSGen-test/images/image10032.jpg\n",
      "/kaggle/input/pcos-picture/PCOSGen-test/images/image11452.jpg\n",
      "/kaggle/input/pcos-picture/PCOSGen-test/images/image10961.jpg\n",
      "/kaggle/input/pcos-picture/PCOSGen-test/images/image11177.jpg\n",
      "/kaggle/input/pcos-picture/PCOSGen-test/images/image10305.jpg\n",
      "/kaggle/input/pcos-picture/PCOSGen-test/images/image10045.jpg\n",
      "/kaggle/input/pcos-picture/PCOSGen-test/images/image11090.jpg\n",
      "/kaggle/input/pcos-picture/PCOSGen-test/images/image10384.jpg\n",
      "/kaggle/input/pcos-picture/PCOSGen-test/images/image11378.jpg\n",
      "/kaggle/input/pcos-picture/PCOSGen-test/images/image10000.jpg\n",
      "/kaggle/input/pcos-picture/PCOSGen-test/images/image10471.jpg\n",
      "/kaggle/input/pcos-picture/PCOSGen-test/images/image11316.jpg\n",
      "/kaggle/input/pcos-picture/PCOSGen-test/images/image10559.jpg\n",
      "/kaggle/input/pcos-picture/PCOSGen-test/images/image10815.jpg\n",
      "/kaggle/input/pcos-picture/PCOSGen-test/images/image10402.jpg\n",
      "/kaggle/input/pcos-picture/PCOSGen-test/images/image10512.jpg\n",
      "/kaggle/input/pcos-picture/PCOSGen-test/images/image11114.jpg\n",
      "/kaggle/input/pcos-picture/PCOSGen-test/images/image10971.jpg\n",
      "/kaggle/input/pcos-picture/PCOSGen-test/images/image10164.jpg\n",
      "/kaggle/input/pcos-picture/PCOSGen-test/images/image10723.jpg\n",
      "/kaggle/input/pcos-picture/PCOSGen-test/images/image11253.jpg\n",
      "/kaggle/input/pcos-picture/PCOSGen-test/images/image11179.jpg\n",
      "/kaggle/input/pcos-picture/PCOSGen-test/images/image10502.jpg\n",
      "/kaggle/input/pcos-picture/PCOSGen-test/images/image11199.jpg\n",
      "/kaggle/input/pcos-picture/PCOSGen-test/images/image10523.jpg\n",
      "/kaggle/input/pcos-picture/PCOSGen-test/images/image10079.jpg\n",
      "/kaggle/input/pcos-picture/PCOSGen-test/images/image10142.jpg\n",
      "/kaggle/input/pcos-picture/PCOSGen-test/images/image10988.jpg\n",
      "/kaggle/input/pcos-picture/PCOSGen-test/images/image10847.jpg\n",
      "/kaggle/input/pcos-picture/PCOSGen-test/images/image11141.jpg\n",
      "/kaggle/input/pcos-picture/PCOSGen-test/images/image10054.jpg\n",
      "/kaggle/input/pcos-picture/PCOSGen-test/images/image10806.jpg\n",
      "/kaggle/input/pcos-picture/PCOSGen-test/images/image11306.jpg\n",
      "/kaggle/input/pcos-picture/PCOSGen-test/images/image11182.jpg\n",
      "/kaggle/input/pcos-picture/PCOSGen-test/images/image10323.jpg\n",
      "/kaggle/input/pcos-picture/PCOSGen-test/images/image10618.jpg\n",
      "/kaggle/input/pcos-picture/PCOSGen-test/images/image11291.jpg\n",
      "/kaggle/input/pcos-picture/PCOSGen-test/images/image10353.jpg\n",
      "/kaggle/input/pcos-picture/PCOSGen-test/images/image10873.jpg\n",
      "/kaggle/input/pcos-picture/PCOSGen-test/images/image10706.jpg\n",
      "/kaggle/input/pcos-picture/PCOSGen-test/images/image10585.jpg\n",
      "/kaggle/input/pcos-picture/PCOSGen-test/images/image10777.jpg\n",
      "/kaggle/input/pcos-picture/PCOSGen-test/images/image10082.jpg\n",
      "/kaggle/input/pcos-picture/PCOSGen-test/images/image10407.jpg\n",
      "/kaggle/input/pcos-picture/PCOSGen-test/images/image10692.jpg\n",
      "/kaggle/input/pcos-picture/PCOSGen-test/images/image10515.jpg\n",
      "/kaggle/input/pcos-picture/PCOSGen-test/images/image11319.jpg\n",
      "/kaggle/input/pcos-picture/PCOSGen-test/images/image10149.jpg\n",
      "/kaggle/input/pcos-picture/PCOSGen-test/images/image10290.jpg\n",
      "/kaggle/input/pcos-picture/PCOSGen-test/images/image10124.jpg\n",
      "/kaggle/input/pcos-picture/PCOSGen-test/images/image11083.jpg\n",
      "/kaggle/input/pcos-picture/PCOSGen-test/images/image10946.jpg\n",
      "/kaggle/input/pcos-picture/PCOSGen-test/images/image10316.jpg\n",
      "/kaggle/input/pcos-picture/PCOSGen-test/images/image10833.jpg\n",
      "/kaggle/input/pcos-picture/PCOSGen-test/images/image11170.jpg\n",
      "/kaggle/input/pcos-picture/PCOSGen-test/images/image10153.jpg\n",
      "/kaggle/input/pcos-picture/PCOSGen-test/images/image11354.jpg\n",
      "/kaggle/input/pcos-picture/PCOSGen-test/images/image10148.jpg\n",
      "/kaggle/input/pcos-picture/PCOSGen-test/images/image10810.jpg\n",
      "/kaggle/input/pcos-picture/PCOSGen-test/images/image10057.jpg\n",
      "/kaggle/input/pcos-picture/PCOSGen-test/images/image10894.jpg\n",
      "/kaggle/input/pcos-picture/PCOSGen-test/images/image11017.jpg\n",
      "/kaggle/input/pcos-picture/PCOSGen-test/images/image10272.jpg\n",
      "/kaggle/input/pcos-picture/PCOSGen-test/images/image10184.jpg\n",
      "/kaggle/input/pcos-picture/PCOSGen-test/images/image11105.jpg\n",
      "/kaggle/input/pcos-picture/PCOSGen-test/images/image10999.jpg\n",
      "/kaggle/input/pcos-picture/PCOSGen-test/images/image11398.jpg\n",
      "/kaggle/input/pcos-picture/PCOSGen-test/images/image11399.jpg\n",
      "/kaggle/input/pcos-picture/PCOSGen-test/images/image10157.jpg\n",
      "/kaggle/input/pcos-picture/PCOSGen-test/images/image10006.jpg\n",
      "/kaggle/input/pcos-picture/PCOSGen-test/images/image10820.jpg\n",
      "/kaggle/input/pcos-picture/PCOSGen-test/images/image10954.jpg\n",
      "/kaggle/input/pcos-picture/PCOSGen-test/images/image10030.jpg\n",
      "/kaggle/input/pcos-picture/PCOSGen-test/images/image11262.jpg\n",
      "/kaggle/input/pcos-picture/PCOSGen-test/images/image10788.jpg\n",
      "/kaggle/input/pcos-picture/PCOSGen-test/images/image11113.jpg\n",
      "/kaggle/input/pcos-picture/PCOSGen-test/images/image11407.jpg\n",
      "/kaggle/input/pcos-picture/PCOSGen-test/images/image10942.jpg\n",
      "/kaggle/input/pcos-picture/PCOSGen-test/images/image10567.jpg\n",
      "/kaggle/input/pcos-picture/PCOSGen-test/images/image10726.jpg\n",
      "/kaggle/input/pcos-picture/PCOSGen-test/images/image10853.jpg\n",
      "/kaggle/input/pcos-picture/PCOSGen-test/images/image10011.jpg\n",
      "/kaggle/input/pcos-picture/PCOSGen-test/images/image10462.jpg\n",
      "/kaggle/input/pcos-picture/PCOSGen-test/images/image11098.jpg\n",
      "/kaggle/input/pcos-picture/PCOSGen-test/images/image10372.jpg\n",
      "/kaggle/input/pcos-picture/PCOSGen-test/images/image11190.jpg\n",
      "/kaggle/input/pcos-picture/PCOSGen-test/images/image10251.jpg\n",
      "/kaggle/input/pcos-picture/PCOSGen-test/images/image10565.jpg\n",
      "/kaggle/input/pcos-picture/PCOSGen-test/images/image10581.jpg\n",
      "/kaggle/input/pcos-picture/PCOSGen-test/images/image10948.jpg\n",
      "/kaggle/input/pcos-picture/PCOSGen-test/images/image10851.jpg\n",
      "/kaggle/input/pcos-picture/PCOSGen-test/images/image10187.jpg\n",
      "/kaggle/input/pcos-picture/PCOSGen-test/images/image10179.jpg\n",
      "/kaggle/input/pcos-picture/PCOSGen-test/images/image11281.jpg\n",
      "/kaggle/input/pcos-picture/PCOSGen-test/images/image10370.jpg\n",
      "/kaggle/input/pcos-picture/PCOSGen-test/images/image11160.jpg\n",
      "/kaggle/input/pcos-picture/PCOSGen-test/images/image10874.jpg\n",
      "/kaggle/input/pcos-picture/PCOSGen-test/images/image10401.jpg\n",
      "/kaggle/input/pcos-picture/PCOSGen-test/images/image10830.jpg\n",
      "/kaggle/input/pcos-picture/PCOSGen-test/images/image10463.jpg\n",
      "/kaggle/input/pcos-picture/PCOSGen-test/images/image11362.jpg\n",
      "/kaggle/input/pcos-picture/PCOSGen-test/images/image10491.jpg\n",
      "/kaggle/input/pcos-picture/PCOSGen-test/images/image11051.jpg\n",
      "/kaggle/input/pcos-picture/PCOSGen-test/images/image11379.jpg\n",
      "/kaggle/input/pcos-picture/PCOSGen-test/images/image10119.jpg\n",
      "/kaggle/input/pcos-picture/PCOSGen-test/images/image11436.jpg\n",
      "/kaggle/input/pcos-picture/PCOSGen-test/images/image10546.jpg\n",
      "/kaggle/input/pcos-picture/PCOSGen-test/images/image11101.jpg\n",
      "/kaggle/input/pcos-picture/PCOSGen-test/images/image11162.jpg\n",
      "/kaggle/input/pcos-picture/PCOSGen-test/images/image10982.jpg\n",
      "/kaggle/input/pcos-picture/PCOSGen-test/images/image10005.jpg\n",
      "/kaggle/input/pcos-picture/PCOSGen-test/images/image10600.jpg\n",
      "/kaggle/input/pcos-picture/PCOSGen-test/images/image10035.jpg\n",
      "/kaggle/input/pcos-picture/PCOSGen-test/images/image11434.jpg\n",
      "/kaggle/input/pcos-picture/PCOSGen-test/images/image10823.jpg\n",
      "/kaggle/input/pcos-picture/PCOSGen-test/images/image10741.jpg\n",
      "/kaggle/input/pcos-picture/PCOSGen-test/images/image10964.jpg\n",
      "/kaggle/input/pcos-picture/PCOSGen-test/images/image10237.jpg\n",
      "/kaggle/input/pcos-picture/PCOSGen-test/images/image11258.jpg\n",
      "/kaggle/input/pcos-picture/PCOSGen-test/images/image10789.jpg\n",
      "/kaggle/input/pcos-picture/PCOSGen-test/images/image11173.jpg\n",
      "/kaggle/input/pcos-picture/PCOSGen-test/images/image11387.jpg\n",
      "/kaggle/input/pcos-picture/PCOSGen-test/images/image11221.jpg\n",
      "/kaggle/input/pcos-picture/PCOSGen-test/images/image11131.jpg\n",
      "/kaggle/input/pcos-picture/PCOSGen-test/images/image11445.jpg\n",
      "/kaggle/input/pcos-picture/PCOSGen-test/images/image10889.jpg\n",
      "/kaggle/input/pcos-picture/PCOSGen-test/images/image11085.jpg\n",
      "/kaggle/input/pcos-picture/PCOSGen-test/images/image10336.jpg\n",
      "/kaggle/input/pcos-picture/PCOSGen-test/images/image11402.jpg\n",
      "/kaggle/input/pcos-picture/PCOSGen-test/images/image10956.jpg\n",
      "/kaggle/input/pcos-picture/PCOSGen-test/images/image10890.jpg\n",
      "/kaggle/input/pcos-picture/PCOSGen-test/images/image11359.jpg\n",
      "/kaggle/input/pcos-picture/PCOSGen-test/images/image10761.jpg\n",
      "/kaggle/input/pcos-picture/PCOSGen-test/images/image10794.jpg\n",
      "/kaggle/input/pcos-picture/PCOSGen-test/images/image11243.jpg\n",
      "/kaggle/input/pcos-picture/PCOSGen-test/images/image10137.jpg\n",
      "/kaggle/input/pcos-picture/PCOSGen-test/images/image10893.jpg\n",
      "/kaggle/input/pcos-picture/PCOSGen-test/images/image11107.jpg\n",
      "/kaggle/input/pcos-picture/PCOSGen-test/images/image11349.jpg\n",
      "/kaggle/input/pcos-picture/PCOSGen-test/images/image11241.jpg\n",
      "/kaggle/input/pcos-picture/PCOSGen-test/images/image11466.jpg\n",
      "/kaggle/input/pcos-picture/PCOSGen-test/images/image11208.jpg\n",
      "/kaggle/input/pcos-picture/PCOSGen-test/images/image11397.jpg\n",
      "/kaggle/input/pcos-picture/PCOSGen-test/images/image11435.jpg\n",
      "/kaggle/input/pcos-picture/PCOSGen-test/images/image10493.jpg\n",
      "/kaggle/input/pcos-picture/PCOSGen-test/images/image10668.jpg\n",
      "/kaggle/input/pcos-picture/PCOSGen-test/images/image11353.jpg\n",
      "/kaggle/input/pcos-picture/PCOSGen-test/images/image11176.jpg\n",
      "/kaggle/input/pcos-picture/PCOSGen-test/images/image11412.jpg\n",
      "/kaggle/input/pcos-picture/PCOSGen-test/images/image10869.jpg\n",
      "/kaggle/input/pcos-picture/PCOSGen-test/images/image10338.jpg\n",
      "/kaggle/input/pcos-picture/PCOSGen-test/images/image10395.jpg\n",
      "/kaggle/input/pcos-picture/PCOSGen-test/images/image11363.jpg\n",
      "/kaggle/input/pcos-picture/PCOSGen-test/images/image11348.jpg\n",
      "/kaggle/input/pcos-picture/PCOSGen-test/images/image10344.jpg\n",
      "/kaggle/input/pcos-picture/PCOSGen-test/images/image11099.jpg\n",
      "/kaggle/input/pcos-picture/PCOSGen-test/images/image10941.jpg\n",
      "/kaggle/input/pcos-picture/PCOSGen-test/images/image10133.jpg\n",
      "/kaggle/input/pcos-picture/PCOSGen-test/images/image10302.jpg\n",
      "/kaggle/input/pcos-picture/PCOSGen-test/images/image11236.jpg\n",
      "/kaggle/input/pcos-picture/PCOSGen-test/images/image10080.jpg\n",
      "/kaggle/input/pcos-picture/PCOSGen-test/images/image10611.jpg\n",
      "/kaggle/input/pcos-picture/PCOSGen-test/images/image10883.jpg\n",
      "/kaggle/input/pcos-picture/PCOSGen-test/images/image10852.jpg\n",
      "/kaggle/input/pcos-picture/PCOSGen-test/images/image11244.jpg\n",
      "/kaggle/input/pcos-picture/PCOSGen-test/images/image10486.jpg\n",
      "/kaggle/input/pcos-picture/PCOSGen-test/images/image10908.jpg\n",
      "/kaggle/input/pcos-picture/PCOSGen-test/images/image10466.jpg\n",
      "/kaggle/input/pcos-picture/PCOSGen-test/images/image10118.jpg\n",
      "/kaggle/input/pcos-picture/PCOSGen-test/images/image10682.jpg\n",
      "/kaggle/input/pcos-picture/PCOSGen-test/images/image10129.jpg\n",
      "/kaggle/input/pcos-picture/PCOSGen-test/images/image10036.jpg\n",
      "/kaggle/input/pcos-picture/PCOSGen-test/images/image10531.jpg\n",
      "/kaggle/input/pcos-picture/PCOSGen-test/images/image10155.jpg\n",
      "/kaggle/input/pcos-picture/PCOSGen-test/images/image11060.jpg\n",
      "/kaggle/input/pcos-picture/PCOSGen-test/images/image11458.jpg\n",
      "/kaggle/input/pcos-picture/PCOSGen-test/images/image10746.jpg\n",
      "/kaggle/input/pcos-picture/PCOSGen-test/images/image10027.jpg\n",
      "/kaggle/input/pcos-picture/PCOSGen-test/images/image11270.jpg\n",
      "/kaggle/input/pcos-picture/PCOSGen-test/images/image11325.jpg\n",
      "/kaggle/input/pcos-picture/PCOSGen-test/images/image10902.jpg\n",
      "/kaggle/input/pcos-picture/PCOSGen-test/images/image10616.jpg\n",
      "/kaggle/input/pcos-picture/PCOSGen-test/images/image11279.jpg\n",
      "/kaggle/input/pcos-picture/PCOSGen-test/images/image10415.jpg\n",
      "/kaggle/input/pcos-picture/PCOSGen-test/images/image10248.jpg\n",
      "/kaggle/input/pcos-picture/PCOSGen-test/images/image10736.jpg\n",
      "/kaggle/input/pcos-picture/PCOSGen-test/images/image11422.jpg\n",
      "/kaggle/input/pcos-picture/PCOSGen-test/images/image10671.jpg\n",
      "/kaggle/input/pcos-picture/PCOSGen-test/images/image10320.jpg\n",
      "/kaggle/input/pcos-picture/PCOSGen-test/images/image10728.jpg\n",
      "/kaggle/input/pcos-picture/PCOSGen-test/images/image11465.jpg\n",
      "/kaggle/input/pcos-picture/PCOSGen-test/images/image10319.jpg\n",
      "/kaggle/input/pcos-picture/PCOSGen-test/images/image10891.jpg\n",
      "/kaggle/input/pcos-picture/PCOSGen-test/images/image11405.jpg\n",
      "/kaggle/input/pcos-picture/PCOSGen-test/images/image11193.jpg\n",
      "/kaggle/input/pcos-picture/PCOSGen-test/images/image11265.jpg\n",
      "/kaggle/input/pcos-picture/PCOSGen-test/images/image10560.jpg\n",
      "/kaggle/input/pcos-picture/PCOSGen-test/images/image10707.jpg\n",
      "/kaggle/input/pcos-picture/PCOSGen-test/images/image10886.jpg\n",
      "/kaggle/input/pcos-picture/PCOSGen-test/images/image10091.jpg\n",
      "/kaggle/input/pcos-picture/PCOSGen-test/images/image10387.jpg\n",
      "/kaggle/input/pcos-picture/PCOSGen-test/images/image10845.jpg\n",
      "/kaggle/input/pcos-picture/PCOSGen-test/images/image10061.jpg\n",
      "/kaggle/input/pcos-picture/PCOSGen-test/images/image11386.jpg\n",
      "/kaggle/input/pcos-picture/PCOSGen-test/images/image10920.jpg\n",
      "/kaggle/input/pcos-picture/PCOSGen-test/images/image10195.jpg\n",
      "/kaggle/input/pcos-picture/PCOSGen-test/images/image10524.jpg\n",
      "/kaggle/input/pcos-picture/PCOSGen-test/images/image11015.jpg\n",
      "/kaggle/input/pcos-picture/PCOSGen-test/images/image10661.jpg\n",
      "/kaggle/input/pcos-picture/PCOSGen-test/images/image10814.jpg\n",
      "/kaggle/input/pcos-picture/PCOSGen-test/images/image10796.jpg\n",
      "/kaggle/input/pcos-picture/PCOSGen-test/images/image11459.jpg\n",
      "/kaggle/input/pcos-picture/PCOSGen-test/images/image10333.jpg\n",
      "/kaggle/input/pcos-picture/PCOSGen-test/images/image10993.jpg\n",
      "/kaggle/input/pcos-picture/PCOSGen-test/images/image10174.jpg\n",
      "/kaggle/input/pcos-picture/PCOSGen-test/images/image10981.jpg\n",
      "/kaggle/input/pcos-picture/PCOSGen-test/images/image10601.jpg\n",
      "/kaggle/input/pcos-picture/PCOSGen-test/images/image10749.jpg\n",
      "/kaggle/input/pcos-picture/PCOSGen-test/images/image10780.jpg\n",
      "/kaggle/input/pcos-picture/PCOSGen-test/images/image10989.jpg\n",
      "/kaggle/input/pcos-picture/PCOSGen-test/images/image10867.jpg\n",
      "/kaggle/input/pcos-picture/PCOSGen-test/images/image11393.jpg\n",
      "/kaggle/input/pcos-picture/PCOSGen-test/images/image10364.jpg\n",
      "/kaggle/input/pcos-picture/PCOSGen-test/images/image10216.jpg\n",
      "/kaggle/input/pcos-picture/PCOSGen-test/images/image10861.jpg\n",
      "/kaggle/input/pcos-picture/PCOSGen-test/images/image10779.jpg\n",
      "/kaggle/input/pcos-picture/PCOSGen-test/images/image10765.jpg\n",
      "/kaggle/input/pcos-picture/PCOSGen-test/images/image10253.jpg\n",
      "/kaggle/input/pcos-picture/PCOSGen-test/images/image10403.jpg\n",
      "/kaggle/input/pcos-picture/PCOSGen-test/images/image11220.jpg\n",
      "/kaggle/input/pcos-picture/PCOSGen-test/images/image11147.jpg\n",
      "/kaggle/input/pcos-picture/PCOSGen-test/images/image10636.jpg\n",
      "/kaggle/input/pcos-picture/PCOSGen-test/images/image10563.jpg\n",
      "/kaggle/input/pcos-picture/PCOSGen-test/images/image10702.jpg\n",
      "/kaggle/input/pcos-picture/PCOSGen-test/images/image11153.jpg\n",
      "/kaggle/input/pcos-picture/PCOSGen-test/images/image10484.jpg\n",
      "/kaggle/input/pcos-picture/PCOSGen-test/images/image11418.jpg\n",
      "/kaggle/input/pcos-picture/PCOSGen-test/images/image10381.jpg\n",
      "/kaggle/input/pcos-picture/PCOSGen-test/images/image10114.jpg\n",
      "/kaggle/input/pcos-picture/PCOSGen-test/images/image10895.jpg\n",
      "/kaggle/input/pcos-picture/PCOSGen-test/images/image10513.jpg\n",
      "/kaggle/input/pcos-picture/PCOSGen-test/images/image10443.jpg\n",
      "/kaggle/input/pcos-picture/PCOSGen-test/images/image10439.jpg\n",
      "/kaggle/input/pcos-picture/PCOSGen-test/images/image11377.jpg\n",
      "/kaggle/input/pcos-picture/PCOSGen-test/images/image10099.jpg\n",
      "/kaggle/input/pcos-picture/PCOSGen-test/images/image10717.jpg\n",
      "/kaggle/input/pcos-picture/PCOSGen-test/images/image11278.jpg\n",
      "/kaggle/input/pcos-picture/PCOSGen-test/images/image10677.jpg\n",
      "/kaggle/input/pcos-picture/PCOSGen-test/images/image10632.jpg\n",
      "/kaggle/input/pcos-picture/PCOSGen-test/images/image10108.jpg\n",
      "/kaggle/input/pcos-picture/PCOSGen-test/images/image10918.jpg\n",
      "/kaggle/input/pcos-picture/PCOSGen-test/images/image10213.jpg\n",
      "/kaggle/input/pcos-picture/PCOSGen-test/images/image10468.jpg\n",
      "/kaggle/input/pcos-picture/PCOSGen-test/images/image11079.jpg\n",
      "/kaggle/input/pcos-picture/PCOSGen-test/images/image10240.jpg\n",
      "/kaggle/input/pcos-picture/PCOSGen-test/images/image11310.jpg\n",
      "/kaggle/input/pcos-picture/PCOSGen-test/images/image11183.jpg\n",
      "/kaggle/input/pcos-picture/PCOSGen-test/images/image10790.jpg\n",
      "/kaggle/input/pcos-picture/PCOSGen-test/images/image10520.jpg\n",
      "/kaggle/input/pcos-picture/PCOSGen-test/images/image11194.jpg\n",
      "/kaggle/input/pcos-picture/PCOSGen-test/images/image10103.jpg\n",
      "/kaggle/input/pcos-picture/PCOSGen-test/images/image10733.jpg\n",
      "/kaggle/input/pcos-picture/PCOSGen-test/images/image11226.jpg\n",
      "/kaggle/input/pcos-picture/PCOSGen-test/images/image10614.jpg\n",
      "/kaggle/input/pcos-picture/PCOSGen-test/images/image10501.jpg\n",
      "/kaggle/input/pcos-picture/PCOSGen-test/images/image10724.jpg\n",
      "/kaggle/input/pcos-picture/PCOSGen-test/images/image10589.jpg\n",
      "/kaggle/input/pcos-picture/PCOSGen-test/images/image10955.jpg\n",
      "/kaggle/input/pcos-picture/PCOSGen-test/images/image10448.jpg\n",
      "/kaggle/input/pcos-picture/PCOSGen-test/images/image10854.jpg\n",
      "/kaggle/input/pcos-picture/PCOSGen-test/images/image10095.jpg\n",
      "/kaggle/input/pcos-picture/PCOSGen-test/images/image10138.jpg\n",
      "/kaggle/input/pcos-picture/PCOSGen-test/images/image10393.jpg\n",
      "/kaggle/input/pcos-picture/PCOSGen-test/images/image10446.jpg\n",
      "/kaggle/input/pcos-picture/PCOSGen-test/images/image10551.jpg\n",
      "/kaggle/input/pcos-picture/PCOSGen-test/images/image10255.jpg\n",
      "/kaggle/input/pcos-picture/PCOSGen-test/images/image11112.jpg\n",
      "/kaggle/input/pcos-picture/PCOSGen-test/images/image11355.jpg\n",
      "/kaggle/input/pcos-picture/PCOSGen-test/images/image10178.jpg\n",
      "/kaggle/input/pcos-picture/PCOSGen-test/images/image10690.jpg\n",
      "/kaggle/input/pcos-picture/PCOSGen-test/images/image10221.jpg\n",
      "/kaggle/input/pcos-picture/PCOSGen-test/images/image11140.jpg\n",
      "/kaggle/input/pcos-picture/PCOSGen-test/images/image11246.jpg\n",
      "/kaggle/input/pcos-picture/PCOSGen-test/images/image10792.jpg\n",
      "/kaggle/input/pcos-picture/PCOSGen-test/images/image10596.jpg\n",
      "/kaggle/input/pcos-picture/PCOSGen-test/images/image10229.jpg\n",
      "/kaggle/input/pcos-picture/PCOSGen-test/images/image11052.jpg\n",
      "/kaggle/input/pcos-picture/PCOSGen-test/images/image10440.jpg\n",
      "/kaggle/input/pcos-picture/PCOSGen-test/images/image10673.jpg\n",
      "/kaggle/input/pcos-picture/PCOSGen-test/images/image11034.jpg\n",
      "/kaggle/input/pcos-picture/PCOSGen-test/images/image10392.jpg\n",
      "/kaggle/input/pcos-picture/PCOSGen-test/images/image10718.jpg\n",
      "/kaggle/input/pcos-picture/PCOSGen-test/images/image10071.jpg\n",
      "/kaggle/input/pcos-picture/PCOSGen-test/images/image10341.jpg\n",
      "/kaggle/input/pcos-picture/PCOSGen-test/images/image11065.jpg\n",
      "/kaggle/input/pcos-picture/PCOSGen-test/images/image11404.jpg\n",
      "/kaggle/input/pcos-picture/PCOSGen-test/images/image10680.jpg\n",
      "/kaggle/input/pcos-picture/PCOSGen-test/images/image11032.jpg\n",
      "/kaggle/input/pcos-picture/PCOSGen-test/images/image10104.jpg\n",
      "/kaggle/input/pcos-picture/PCOSGen-test/images/image10650.jpg\n",
      "/kaggle/input/pcos-picture/PCOSGen-test/images/image10131.jpg\n",
      "/kaggle/input/pcos-picture/PCOSGen-test/images/image10311.jpg\n",
      "/kaggle/input/pcos-picture/PCOSGen-test/images/image11129.jpg\n",
      "/kaggle/input/pcos-picture/PCOSGen-test/images/image10239.jpg\n",
      "/kaggle/input/pcos-picture/PCOSGen-test/images/image10314.jpg\n",
      "/kaggle/input/pcos-picture/PCOSGen-test/images/image10383.jpg\n",
      "/kaggle/input/pcos-picture/PCOSGen-test/images/image10284.jpg\n",
      "/kaggle/input/pcos-picture/PCOSGen-test/images/image10196.jpg\n",
      "/kaggle/input/pcos-picture/PCOSGen-test/images/image10858.jpg\n",
      "/kaggle/input/pcos-picture/PCOSGen-test/images/image10106.jpg\n",
      "/kaggle/input/pcos-picture/PCOSGen-test/images/image10935.jpg\n",
      "/kaggle/input/pcos-picture/PCOSGen-test/images/image10049.jpg\n",
      "/kaggle/input/pcos-picture/PCOSGen-test/images/image11390.jpg\n",
      "/kaggle/input/pcos-picture/PCOSGen-test/images/image10413.jpg\n",
      "/kaggle/input/pcos-picture/PCOSGen-test/images/image11002.jpg\n",
      "/kaggle/input/pcos-picture/PCOSGen-test/images/image10085.jpg\n",
      "/kaggle/input/pcos-picture/PCOSGen-test/images/image10832.jpg\n",
      "/kaggle/input/pcos-picture/PCOSGen-test/images/image11255.jpg\n",
      "/kaggle/input/pcos-picture/PCOSGen-test/images/image11111.jpg\n",
      "/kaggle/input/pcos-picture/PCOSGen-test/images/image11005.jpg\n",
      "/kaggle/input/pcos-picture/PCOSGen-test/images/image11008.jpg\n",
      "/kaggle/input/pcos-picture/PCOSGen-test/images/image10957.jpg\n",
      "/kaggle/input/pcos-picture/PCOSGen-test/images/image10355.jpg\n",
      "/kaggle/input/pcos-picture/PCOSGen-test/images/image10800.jpg\n",
      "/kaggle/input/pcos-picture/PCOSGen-test/images/image11352.jpg\n",
      "/kaggle/input/pcos-picture/PCOSGen-train (1)/PCOSGen-train/class_label.xlsx\n",
      "/kaggle/input/pcos-picture/PCOSGen-train (1)/PCOSGen-train/info.txt\n",
      "/kaggle/input/pcos-picture/PCOSGen-train (1)/PCOSGen-train/images/image3202.jpg\n",
      "/kaggle/input/pcos-picture/PCOSGen-train (1)/PCOSGen-train/images/image1153.jpg\n",
      "/kaggle/input/pcos-picture/PCOSGen-train (1)/PCOSGen-train/images/image0308.jpg\n",
      "/kaggle/input/pcos-picture/PCOSGen-train (1)/PCOSGen-train/images/image1465.jpg\n",
      "/kaggle/input/pcos-picture/PCOSGen-train (1)/PCOSGen-train/images/image3561.jpg\n",
      "/kaggle/input/pcos-picture/PCOSGen-train (1)/PCOSGen-train/images/image1166.jpg\n",
      "/kaggle/input/pcos-picture/PCOSGen-train (1)/PCOSGen-train/images/image1975.jpg\n",
      "/kaggle/input/pcos-picture/PCOSGen-train (1)/PCOSGen-train/images/image0274.jpg\n",
      "/kaggle/input/pcos-picture/PCOSGen-train (1)/PCOSGen-train/images/image0530.jpg\n",
      "/kaggle/input/pcos-picture/PCOSGen-train (1)/PCOSGen-train/images/image1629.jpg\n",
      "/kaggle/input/pcos-picture/PCOSGen-train (1)/PCOSGen-train/images/2image50.jpg\n",
      "/kaggle/input/pcos-picture/PCOSGen-train (1)/PCOSGen-train/images/image3156.jpg\n",
      "/kaggle/input/pcos-picture/PCOSGen-train (1)/PCOSGen-train/images/image1220.jpg\n",
      "/kaggle/input/pcos-picture/PCOSGen-train (1)/PCOSGen-train/images/169image32.jpg\n",
      "/kaggle/input/pcos-picture/PCOSGen-train (1)/PCOSGen-train/images/image3555.jpg\n",
      "/kaggle/input/pcos-picture/PCOSGen-train (1)/PCOSGen-train/images/image2427.jpg\n",
      "/kaggle/input/pcos-picture/PCOSGen-train (1)/PCOSGen-train/images/image0549.jpg\n",
      "/kaggle/input/pcos-picture/PCOSGen-train (1)/PCOSGen-train/images/image3440.jpg\n",
      "/kaggle/input/pcos-picture/PCOSGen-train (1)/PCOSGen-train/images/image2400.jpg\n",
      "/kaggle/input/pcos-picture/PCOSGen-train (1)/PCOSGen-train/images/image3237.jpg\n",
      "/kaggle/input/pcos-picture/PCOSGen-train (1)/PCOSGen-train/images/image3573.jpg\n",
      "/kaggle/input/pcos-picture/PCOSGen-train (1)/PCOSGen-train/images/image0248.jpg\n",
      "/kaggle/input/pcos-picture/PCOSGen-train (1)/PCOSGen-train/images/99image40.jpg\n",
      "/kaggle/input/pcos-picture/PCOSGen-train (1)/PCOSGen-train/images/93image19.jpg\n",
      "/kaggle/input/pcos-picture/PCOSGen-train (1)/PCOSGen-train/images/image2915.jpg\n",
      "/kaggle/input/pcos-picture/PCOSGen-train (1)/PCOSGen-train/images/image2371.jpg\n",
      "/kaggle/input/pcos-picture/PCOSGen-train (1)/PCOSGen-train/images/image0609.jpg\n",
      "/kaggle/input/pcos-picture/PCOSGen-train (1)/PCOSGen-train/images/image1630.jpg\n",
      "/kaggle/input/pcos-picture/PCOSGen-train (1)/PCOSGen-train/images/image0696.jpg\n",
      "/kaggle/input/pcos-picture/PCOSGen-train (1)/PCOSGen-train/images/93image41.jpg\n",
      "/kaggle/input/pcos-picture/PCOSGen-train (1)/PCOSGen-train/images/image2676.jpg\n",
      "/kaggle/input/pcos-picture/PCOSGen-train (1)/PCOSGen-train/images/61image4.jpg\n",
      "/kaggle/input/pcos-picture/PCOSGen-train (1)/PCOSGen-train/images/image0732.jpg\n",
      "/kaggle/input/pcos-picture/PCOSGen-train (1)/PCOSGen-train/images/206image102.jpg\n",
      "/kaggle/input/pcos-picture/PCOSGen-train (1)/PCOSGen-train/images/image0304.jpg\n",
      "/kaggle/input/pcos-picture/PCOSGen-train (1)/PCOSGen-train/images/image0908.jpg\n",
      "/kaggle/input/pcos-picture/PCOSGen-train (1)/PCOSGen-train/images/image0992.jpg\n",
      "/kaggle/input/pcos-picture/PCOSGen-train (1)/PCOSGen-train/images/image1951.jpg\n",
      "/kaggle/input/pcos-picture/PCOSGen-train (1)/PCOSGen-train/images/106image103.jpg\n",
      "/kaggle/input/pcos-picture/PCOSGen-train (1)/PCOSGen-train/images/image3705.jpg\n",
      "/kaggle/input/pcos-picture/PCOSGen-train (1)/PCOSGen-train/images/41image0028.jpg\n",
      "/kaggle/input/pcos-picture/PCOSGen-train (1)/PCOSGen-train/images/image0452.jpg\n",
      "/kaggle/input/pcos-picture/PCOSGen-train (1)/PCOSGen-train/images/image0741.jpg\n",
      "/kaggle/input/pcos-picture/PCOSGen-train (1)/PCOSGen-train/images/image1747.jpg\n",
      "/kaggle/input/pcos-picture/PCOSGen-train (1)/PCOSGen-train/images/image3319.jpg\n",
      "/kaggle/input/pcos-picture/PCOSGen-train (1)/PCOSGen-train/images/image3481.jpg\n",
      "/kaggle/input/pcos-picture/PCOSGen-train (1)/PCOSGen-train/images/frame0-01-00.03.jpg\n",
      "/kaggle/input/pcos-picture/PCOSGen-train (1)/PCOSGen-train/images/image3684.jpg\n",
      "/kaggle/input/pcos-picture/PCOSGen-train (1)/PCOSGen-train/images/image1681.jpg\n",
      "/kaggle/input/pcos-picture/PCOSGen-train (1)/PCOSGen-train/images/image3428.jpg\n",
      "/kaggle/input/pcos-picture/PCOSGen-train (1)/PCOSGen-train/images/image3043.jpg\n",
      "/kaggle/input/pcos-picture/PCOSGen-train (1)/PCOSGen-train/images/image3248.jpg\n",
      "/kaggle/input/pcos-picture/PCOSGen-train (1)/PCOSGen-train/images/image0102.jpg\n",
      "/kaggle/input/pcos-picture/PCOSGen-train (1)/PCOSGen-train/images/image0655.jpg\n",
      "/kaggle/input/pcos-picture/PCOSGen-train (1)/PCOSGen-train/images/image2860.jpg\n",
      "/kaggle/input/pcos-picture/PCOSGen-train (1)/PCOSGen-train/images/image2442.jpg\n",
      "/kaggle/input/pcos-picture/PCOSGen-train (1)/PCOSGen-train/images/image3262.jpg\n",
      "/kaggle/input/pcos-picture/PCOSGen-train (1)/PCOSGen-train/images/image1941.jpg\n",
      "/kaggle/input/pcos-picture/PCOSGen-train (1)/PCOSGen-train/images/image3819.jpg\n",
      "/kaggle/input/pcos-picture/PCOSGen-train (1)/PCOSGen-train/images/image3569.jpg\n",
      "/kaggle/input/pcos-picture/PCOSGen-train (1)/PCOSGen-train/images/image3528.jpg\n",
      "/kaggle/input/pcos-picture/PCOSGen-train (1)/PCOSGen-train/images/27image13.jpg\n",
      "/kaggle/input/pcos-picture/PCOSGen-train (1)/PCOSGen-train/images/77image0076.jpg\n",
      "/kaggle/input/pcos-picture/PCOSGen-train (1)/PCOSGen-train/images/image2598.jpg\n",
      "/kaggle/input/pcos-picture/PCOSGen-train (1)/PCOSGen-train/images/image2771.jpg\n",
      "/kaggle/input/pcos-picture/PCOSGen-train (1)/PCOSGen-train/images/image1180.jpg\n",
      "/kaggle/input/pcos-picture/PCOSGen-train (1)/PCOSGen-train/images/image3017.jpg\n",
      "/kaggle/input/pcos-picture/PCOSGen-train (1)/PCOSGen-train/images/image3771.jpg\n",
      "/kaggle/input/pcos-picture/PCOSGen-train (1)/PCOSGen-train/images/image0408.jpg\n",
      "/kaggle/input/pcos-picture/PCOSGen-train (1)/PCOSGen-train/images/image2979.jpg\n",
      "/kaggle/input/pcos-picture/PCOSGen-train (1)/PCOSGen-train/images/image0817.jpg\n",
      "/kaggle/input/pcos-picture/PCOSGen-train (1)/PCOSGen-train/images/image2621.jpg\n",
      "/kaggle/input/pcos-picture/PCOSGen-train (1)/PCOSGen-train/images/image0279.jpg\n",
      "/kaggle/input/pcos-picture/PCOSGen-train (1)/PCOSGen-train/images/2165image0.jpg\n",
      "/kaggle/input/pcos-picture/PCOSGen-train (1)/PCOSGen-train/images/image3831.jpg\n",
      "/kaggle/input/pcos-picture/PCOSGen-train (1)/PCOSGen-train/images/image1705.jpg\n",
      "/kaggle/input/pcos-picture/PCOSGen-train (1)/PCOSGen-train/images/image0951.jpg\n",
      "/kaggle/input/pcos-picture/PCOSGen-train (1)/PCOSGen-train/images/image2605.jpg\n",
      "/kaggle/input/pcos-picture/PCOSGen-train (1)/PCOSGen-train/images/image2574.jpg\n",
      "/kaggle/input/pcos-picture/PCOSGen-train (1)/PCOSGen-train/images/image2966.jpg\n",
      "/kaggle/input/pcos-picture/PCOSGen-train (1)/PCOSGen-train/images/image0646.jpg\n",
      "/kaggle/input/pcos-picture/PCOSGen-train (1)/PCOSGen-train/images/image1049.jpg\n",
      "/kaggle/input/pcos-picture/PCOSGen-train (1)/PCOSGen-train/images/image2538.jpg\n",
      "/kaggle/input/pcos-picture/PCOSGen-train (1)/PCOSGen-train/images/image0620.jpg\n",
      "/kaggle/input/pcos-picture/PCOSGen-train (1)/PCOSGen-train/images/image1156.jpg\n",
      "/kaggle/input/pcos-picture/PCOSGen-train (1)/PCOSGen-train/images/150image17.jpg\n",
      "/kaggle/input/pcos-picture/PCOSGen-train (1)/PCOSGen-train/images/image0618.jpg\n",
      "/kaggle/input/pcos-picture/PCOSGen-train (1)/PCOSGen-train/images/image0270.jpg\n",
      "/kaggle/input/pcos-picture/PCOSGen-train (1)/PCOSGen-train/images/image3275.jpg\n",
      "/kaggle/input/pcos-picture/PCOSGen-train (1)/PCOSGen-train/images/55image16.jpg\n",
      "/kaggle/input/pcos-picture/PCOSGen-train (1)/PCOSGen-train/images/image2467.jpg\n",
      "/kaggle/input/pcos-picture/PCOSGen-train (1)/PCOSGen-train/images/336image23.jpg\n",
      "/kaggle/input/pcos-picture/PCOSGen-train (1)/PCOSGen-train/images/image3254.jpg\n",
      "/kaggle/input/pcos-picture/PCOSGen-train (1)/PCOSGen-train/images/image0738.jpg\n",
      "/kaggle/input/pcos-picture/PCOSGen-train (1)/PCOSGen-train/images/164image17.jpg\n",
      "/kaggle/input/pcos-picture/PCOSGen-train (1)/PCOSGen-train/images/image1935.jpg\n",
      "/kaggle/input/pcos-picture/PCOSGen-train (1)/PCOSGen-train/images/image0533.jpg\n",
      "/kaggle/input/pcos-picture/PCOSGen-train (1)/PCOSGen-train/images/image2572.jpg\n",
      "/kaggle/input/pcos-picture/PCOSGen-train (1)/PCOSGen-train/images/image2727.jpg\n",
      "/kaggle/input/pcos-picture/PCOSGen-train (1)/PCOSGen-train/images/image3713.jpg\n",
      "/kaggle/input/pcos-picture/PCOSGen-train (1)/PCOSGen-train/images/image0830.jpg\n",
      "/kaggle/input/pcos-picture/PCOSGen-train (1)/PCOSGen-train/images/536image28.jpg\n",
      "/kaggle/input/pcos-picture/PCOSGen-train (1)/PCOSGen-train/images/image3230.jpg\n",
      "/kaggle/input/pcos-picture/PCOSGen-train (1)/PCOSGen-train/images/image3706.jpg\n",
      "/kaggle/input/pcos-picture/PCOSGen-train (1)/PCOSGen-train/images/image0316.jpg\n",
      "/kaggle/input/pcos-picture/PCOSGen-train (1)/PCOSGen-train/images/image0376.jpg\n",
      "/kaggle/input/pcos-picture/PCOSGen-train (1)/PCOSGen-train/images/image3297.jpg\n",
      "/kaggle/input/pcos-picture/PCOSGen-train (1)/PCOSGen-train/images/image0092.jpg\n",
      "/kaggle/input/pcos-picture/PCOSGen-train (1)/PCOSGen-train/images/image3354.jpg\n",
      "/kaggle/input/pcos-picture/PCOSGen-train (1)/PCOSGen-train/images/93image33.jpg\n",
      "/kaggle/input/pcos-picture/PCOSGen-train (1)/PCOSGen-train/images/66image19.jpg\n",
      "/kaggle/input/pcos-picture/PCOSGen-train (1)/PCOSGen-train/images/image3329.jpg\n",
      "/kaggle/input/pcos-picture/PCOSGen-train (1)/PCOSGen-train/images/image0852.jpg\n",
      "/kaggle/input/pcos-picture/PCOSGen-train (1)/PCOSGen-train/images/97image54.jpg\n",
      "/kaggle/input/pcos-picture/PCOSGen-train (1)/PCOSGen-train/images/image1794.jpg\n",
      "/kaggle/input/pcos-picture/PCOSGen-train (1)/PCOSGen-train/images/91image74.jpg\n",
      "/kaggle/input/pcos-picture/PCOSGen-train (1)/PCOSGen-train/images/image0075.jpg\n",
      "/kaggle/input/pcos-picture/PCOSGen-train (1)/PCOSGen-train/images/19image23.jpg\n",
      "/kaggle/input/pcos-picture/PCOSGen-train (1)/PCOSGen-train/images/image0809.jpg\n",
      "/kaggle/input/pcos-picture/PCOSGen-train (1)/PCOSGen-train/images/image3678.jpg\n",
      "/kaggle/input/pcos-picture/PCOSGen-train (1)/PCOSGen-train/images/image3145.jpg\n",
      "/kaggle/input/pcos-picture/PCOSGen-train (1)/PCOSGen-train/images/image3345.jpg\n",
      "/kaggle/input/pcos-picture/PCOSGen-train (1)/PCOSGen-train/images/image2629.jpg\n",
      "/kaggle/input/pcos-picture/PCOSGen-train (1)/PCOSGen-train/images/image1872.jpg\n",
      "/kaggle/input/pcos-picture/PCOSGen-train (1)/PCOSGen-train/images/image1677.jpg\n",
      "/kaggle/input/pcos-picture/PCOSGen-train (1)/PCOSGen-train/images/image0946.jpg\n",
      "/kaggle/input/pcos-picture/PCOSGen-train (1)/PCOSGen-train/images/image2827.jpg\n",
      "/kaggle/input/pcos-picture/PCOSGen-train (1)/PCOSGen-train/images/146image19.jpg\n",
      "/kaggle/input/pcos-picture/PCOSGen-train (1)/PCOSGen-train/images/image2091.jpg\n",
      "/kaggle/input/pcos-picture/PCOSGen-train (1)/PCOSGen-train/images/image2649.jpg\n",
      "/kaggle/input/pcos-picture/PCOSGen-train (1)/PCOSGen-train/images/image0739.jpg\n",
      "/kaggle/input/pcos-picture/PCOSGen-train (1)/PCOSGen-train/images/image0008.jpg\n",
      "/kaggle/input/pcos-picture/PCOSGen-train (1)/PCOSGen-train/images/image3476.jpg\n",
      "/kaggle/input/pcos-picture/PCOSGen-train (1)/PCOSGen-train/images/96image69.jpg\n",
      "/kaggle/input/pcos-picture/PCOSGen-train (1)/PCOSGen-train/images/1209image17.jpg\n",
      "/kaggle/input/pcos-picture/PCOSGen-train (1)/PCOSGen-train/images/image3018.jpg\n",
      "/kaggle/input/pcos-picture/PCOSGen-train (1)/PCOSGen-train/images/image3118.jpg\n",
      "/kaggle/input/pcos-picture/PCOSGen-train (1)/PCOSGen-train/images/94image89.jpg\n",
      "/kaggle/input/pcos-picture/PCOSGen-train (1)/PCOSGen-train/images/image0971.jpg\n",
      "/kaggle/input/pcos-picture/PCOSGen-train (1)/PCOSGen-train/images/image0531.jpg\n",
      "/kaggle/input/pcos-picture/PCOSGen-train (1)/PCOSGen-train/images/image3120.jpg\n",
      "/kaggle/input/pcos-picture/PCOSGen-train (1)/PCOSGen-train/images/image0576.jpg\n",
      "/kaggle/input/pcos-picture/PCOSGen-train (1)/PCOSGen-train/images/image0101.jpg\n",
      "/kaggle/input/pcos-picture/PCOSGen-train (1)/PCOSGen-train/images/image3071.jpg\n",
      "/kaggle/input/pcos-picture/PCOSGen-train (1)/PCOSGen-train/images/image1838.jpg\n",
      "/kaggle/input/pcos-picture/PCOSGen-train (1)/PCOSGen-train/images/image2081.jpg\n",
      "/kaggle/input/pcos-picture/PCOSGen-train (1)/PCOSGen-train/images/image3046.jpg\n",
      "/kaggle/input/pcos-picture/PCOSGen-train (1)/PCOSGen-train/images/image2420.jpg\n",
      "/kaggle/input/pcos-picture/PCOSGen-train (1)/PCOSGen-train/images/image3410.jpg\n",
      "/kaggle/input/pcos-picture/PCOSGen-train (1)/PCOSGen-train/images/4image70.jpg\n",
      "/kaggle/input/pcos-picture/PCOSGen-train (1)/PCOSGen-train/images/129image0119.jpg\n",
      "/kaggle/input/pcos-picture/PCOSGen-train (1)/PCOSGen-train/images/89image6.jpg\n",
      "/kaggle/input/pcos-picture/PCOSGen-train (1)/PCOSGen-train/images/image2412.jpg\n",
      "/kaggle/input/pcos-picture/PCOSGen-train (1)/PCOSGen-train/images/206image6.jpg\n",
      "/kaggle/input/pcos-picture/PCOSGen-train (1)/PCOSGen-train/images/image2433.jpg\n",
      "/kaggle/input/pcos-picture/PCOSGen-train (1)/PCOSGen-train/images/image2736.jpg\n",
      "/kaggle/input/pcos-picture/PCOSGen-train (1)/PCOSGen-train/images/image1877.jpg\n",
      "/kaggle/input/pcos-picture/PCOSGen-train (1)/PCOSGen-train/images/image2681.jpg\n",
      "/kaggle/input/pcos-picture/PCOSGen-train (1)/PCOSGen-train/images/88image0082.jpg\n",
      "/kaggle/input/pcos-picture/PCOSGen-train (1)/PCOSGen-train/images/image0828.jpg\n",
      "/kaggle/input/pcos-picture/PCOSGen-train (1)/PCOSGen-train/images/image1029.jpg\n",
      "/kaggle/input/pcos-picture/PCOSGen-train (1)/PCOSGen-train/images/image0120.jpg\n",
      "/kaggle/input/pcos-picture/PCOSGen-train (1)/PCOSGen-train/images/image0994.jpg\n",
      "/kaggle/input/pcos-picture/PCOSGen-train (1)/PCOSGen-train/images/image0490.jpg\n",
      "/kaggle/input/pcos-picture/PCOSGen-train (1)/PCOSGen-train/images/96image70.jpg\n",
      "/kaggle/input/pcos-picture/PCOSGen-train (1)/PCOSGen-train/images/image3466.jpg\n",
      "/kaggle/input/pcos-picture/PCOSGen-train (1)/PCOSGen-train/images/image2198.jpg\n",
      "/kaggle/input/pcos-picture/PCOSGen-train (1)/PCOSGen-train/images/image1034.jpg\n",
      "/kaggle/input/pcos-picture/PCOSGen-train (1)/PCOSGen-train/images/image2618.jpg\n",
      "/kaggle/input/pcos-picture/PCOSGen-train (1)/PCOSGen-train/images/image2852.jpg\n",
      "/kaggle/input/pcos-picture/PCOSGen-train (1)/PCOSGen-train/images/99image0088.jpg\n",
      "/kaggle/input/pcos-picture/PCOSGen-train (1)/PCOSGen-train/images/image2916.jpg\n",
      "/kaggle/input/pcos-picture/PCOSGen-train (1)/PCOSGen-train/images/image3696.jpg\n",
      "/kaggle/input/pcos-picture/PCOSGen-train (1)/PCOSGen-train/images/image0942.jpg\n",
      "/kaggle/input/pcos-picture/PCOSGen-train (1)/PCOSGen-train/images/image0901.jpg\n",
      "/kaggle/input/pcos-picture/PCOSGen-train (1)/PCOSGen-train/images/image3019.jpg\n",
      "/kaggle/input/pcos-picture/PCOSGen-train (1)/PCOSGen-train/images/image1965.jpg\n",
      "/kaggle/input/pcos-picture/PCOSGen-train (1)/PCOSGen-train/images/image1666.jpg\n",
      "/kaggle/input/pcos-picture/PCOSGen-train (1)/PCOSGen-train/images/image2791.jpg\n",
      "/kaggle/input/pcos-picture/PCOSGen-train (1)/PCOSGen-train/images/image2475.jpg\n",
      "/kaggle/input/pcos-picture/PCOSGen-train (1)/PCOSGen-train/images/image0500.jpg\n",
      "/kaggle/input/pcos-picture/PCOSGen-train (1)/PCOSGen-train/images/image0444.jpg\n",
      "/kaggle/input/pcos-picture/PCOSGen-train (1)/PCOSGen-train/images/image2488.jpg\n",
      "/kaggle/input/pcos-picture/PCOSGen-train (1)/PCOSGen-train/images/image0670.jpg\n",
      "/kaggle/input/pcos-picture/PCOSGen-train (1)/PCOSGen-train/images/154image54.jpg\n",
      "/kaggle/input/pcos-picture/PCOSGen-train (1)/PCOSGen-train/images/image2983.jpg\n",
      "/kaggle/input/pcos-picture/PCOSGen-train (1)/PCOSGen-train/images/image2601.jpg\n",
      "/kaggle/input/pcos-picture/PCOSGen-train (1)/PCOSGen-train/images/96image0066.jpg\n",
      "/kaggle/input/pcos-picture/PCOSGen-train (1)/PCOSGen-train/images/image3816.jpg\n",
      "/kaggle/input/pcos-picture/PCOSGen-train (1)/PCOSGen-train/images/image3088.jpg\n",
      "/kaggle/input/pcos-picture/PCOSGen-train (1)/PCOSGen-train/images/image2820.jpg\n",
      "/kaggle/input/pcos-picture/PCOSGen-train (1)/PCOSGen-train/images/image1125.jpg\n",
      "/kaggle/input/pcos-picture/PCOSGen-train (1)/PCOSGen-train/images/image1185.jpg\n",
      "/kaggle/input/pcos-picture/PCOSGen-train (1)/PCOSGen-train/images/image3541.jpg\n",
      "/kaggle/input/pcos-picture/PCOSGen-train (1)/PCOSGen-train/images/image3790.jpg\n",
      "/kaggle/input/pcos-picture/PCOSGen-train (1)/PCOSGen-train/images/image1073.jpg\n",
      "/kaggle/input/pcos-picture/PCOSGen-train (1)/PCOSGen-train/images/image3822.jpg\n",
      "/kaggle/input/pcos-picture/PCOSGen-train (1)/PCOSGen-train/images/image3781.jpg\n",
      "/kaggle/input/pcos-picture/PCOSGen-train (1)/PCOSGen-train/images/image0251.jpg\n",
      "/kaggle/input/pcos-picture/PCOSGen-train (1)/PCOSGen-train/images/image2604.jpg\n",
      "/kaggle/input/pcos-picture/PCOSGen-train (1)/PCOSGen-train/images/image1027.jpg\n",
      "/kaggle/input/pcos-picture/PCOSGen-train (1)/PCOSGen-train/images/image3179.jpg\n",
      "/kaggle/input/pcos-picture/PCOSGen-train (1)/PCOSGen-train/images/image3474.jpg\n",
      "/kaggle/input/pcos-picture/PCOSGen-train (1)/PCOSGen-train/images/image1154.jpg\n",
      "/kaggle/input/pcos-picture/PCOSGen-train (1)/PCOSGen-train/images/image2716.jpg\n",
      "/kaggle/input/pcos-picture/PCOSGen-train (1)/PCOSGen-train/images/image0348.jpg\n",
      "/kaggle/input/pcos-picture/PCOSGen-train (1)/PCOSGen-train/images/100image94.jpg\n",
      "/kaggle/input/pcos-picture/PCOSGen-train (1)/PCOSGen-train/images/171image28.jpg\n",
      "/kaggle/input/pcos-picture/PCOSGen-train (1)/PCOSGen-train/images/image0475.jpg\n",
      "/kaggle/input/pcos-picture/PCOSGen-train (1)/PCOSGen-train/images/image1787.jpg\n",
      "/kaggle/input/pcos-picture/PCOSGen-train (1)/PCOSGen-train/images/25image0024.jpg\n",
      "/kaggle/input/pcos-picture/PCOSGen-train (1)/PCOSGen-train/images/image3075.jpg\n",
      "/kaggle/input/pcos-picture/PCOSGen-train (1)/PCOSGen-train/images/image2816.jpg\n",
      "/kaggle/input/pcos-picture/PCOSGen-train (1)/PCOSGen-train/images/image0122.jpg\n",
      "/kaggle/input/pcos-picture/PCOSGen-train (1)/PCOSGen-train/images/image2673.jpg\n",
      "/kaggle/input/pcos-picture/PCOSGen-train (1)/PCOSGen-train/images/27image30.jpg\n",
      "/kaggle/input/pcos-picture/PCOSGen-train (1)/PCOSGen-train/images/image0427.jpg\n",
      "/kaggle/input/pcos-picture/PCOSGen-train (1)/PCOSGen-train/images/image0553.jpg\n",
      "/kaggle/input/pcos-picture/PCOSGen-train (1)/PCOSGen-train/images/image3689.jpg\n",
      "/kaggle/input/pcos-picture/PCOSGen-train (1)/PCOSGen-train/images/564image8.jpg\n",
      "/kaggle/input/pcos-picture/PCOSGen-train (1)/PCOSGen-train/images/235image25.jpg\n",
      "/kaggle/input/pcos-picture/PCOSGen-train (1)/PCOSGen-train/images/image3291.jpg\n",
      "/kaggle/input/pcos-picture/PCOSGen-train (1)/PCOSGen-train/images/202image106.jpg\n",
      "/kaggle/input/pcos-picture/PCOSGen-train (1)/PCOSGen-train/images/image3395.jpg\n",
      "/kaggle/input/pcos-picture/PCOSGen-train (1)/PCOSGen-train/images/image1116.jpg\n",
      "/kaggle/input/pcos-picture/PCOSGen-train (1)/PCOSGen-train/images/image2688.jpg\n",
      "/kaggle/input/pcos-picture/PCOSGen-train (1)/PCOSGen-train/images/92image53.jpg\n",
      "/kaggle/input/pcos-picture/PCOSGen-train (1)/PCOSGen-train/images/180image44.jpg\n",
      "/kaggle/input/pcos-picture/PCOSGen-train (1)/PCOSGen-train/images/normal_4.jpg\n",
      "/kaggle/input/pcos-picture/PCOSGen-train (1)/PCOSGen-train/images/99image28.jpg\n",
      "/kaggle/input/pcos-picture/PCOSGen-train (1)/PCOSGen-train/images/image3517.jpg\n",
      "/kaggle/input/pcos-picture/PCOSGen-train (1)/PCOSGen-train/images/image3372.jpg\n",
      "/kaggle/input/pcos-picture/PCOSGen-train (1)/PCOSGen-train/images/image1653.jpg\n",
      "/kaggle/input/pcos-picture/PCOSGen-train (1)/PCOSGen-train/images/image3662.jpg\n",
      "/kaggle/input/pcos-picture/PCOSGen-train (1)/PCOSGen-train/images/image3306.jpg\n",
      "/kaggle/input/pcos-picture/PCOSGen-train (1)/PCOSGen-train/images/image0419.jpg\n",
      "/kaggle/input/pcos-picture/PCOSGen-train (1)/PCOSGen-train/images/image0280.jpg\n",
      "/kaggle/input/pcos-picture/PCOSGen-train (1)/PCOSGen-train/images/image1814.jpg\n",
      "/kaggle/input/pcos-picture/PCOSGen-train (1)/PCOSGen-train/images/image1491.jpg\n",
      "/kaggle/input/pcos-picture/PCOSGen-train (1)/PCOSGen-train/images/image0723.jpg\n",
      "/kaggle/input/pcos-picture/PCOSGen-train (1)/PCOSGen-train/images/92image22.jpg\n",
      "/kaggle/input/pcos-picture/PCOSGen-train (1)/PCOSGen-train/images/image3595.jpg\n",
      "/kaggle/input/pcos-picture/PCOSGen-train (1)/PCOSGen-train/images/image0369.jpg\n",
      "/kaggle/input/pcos-picture/PCOSGen-train (1)/PCOSGen-train/images/image0253.jpg\n",
      "/kaggle/input/pcos-picture/PCOSGen-train (1)/PCOSGen-train/images/image3584.jpg\n",
      "/kaggle/input/pcos-picture/PCOSGen-train (1)/PCOSGen-train/images/145image20.jpg\n",
      "/kaggle/input/pcos-picture/PCOSGen-train (1)/PCOSGen-train/images/255image31.jpg\n",
      "/kaggle/input/pcos-picture/PCOSGen-train (1)/PCOSGen-train/images/image3482.jpg\n",
      "/kaggle/input/pcos-picture/PCOSGen-train (1)/PCOSGen-train/images/122image10.jpg\n",
      "/kaggle/input/pcos-picture/PCOSGen-train (1)/PCOSGen-train/images/28image6.jpg\n",
      "/kaggle/input/pcos-picture/PCOSGen-train (1)/PCOSGen-train/images/image2615.jpg\n",
      "/kaggle/input/pcos-picture/PCOSGen-train (1)/PCOSGen-train/images/image1282.jpg\n",
      "/kaggle/input/pcos-picture/PCOSGen-train (1)/PCOSGen-train/images/1180image18.jpg\n",
      "/kaggle/input/pcos-picture/PCOSGen-train (1)/PCOSGen-train/images/image0496.jpg\n",
      "/kaggle/input/pcos-picture/PCOSGen-train (1)/PCOSGen-train/images/image0116.jpg\n",
      "/kaggle/input/pcos-picture/PCOSGen-train (1)/PCOSGen-train/images/normal_8.jpg\n",
      "/kaggle/input/pcos-picture/PCOSGen-train (1)/PCOSGen-train/images/67image2.jpg\n",
      "/kaggle/input/pcos-picture/PCOSGen-train (1)/PCOSGen-train/images/image3426.jpg\n",
      "/kaggle/input/pcos-picture/PCOSGen-train (1)/PCOSGen-train/images/image3593.jpg\n",
      "/kaggle/input/pcos-picture/PCOSGen-train (1)/PCOSGen-train/images/image2870.jpg\n",
      "/kaggle/input/pcos-picture/PCOSGen-train (1)/PCOSGen-train/images/image1035.jpg\n",
      "/kaggle/input/pcos-picture/PCOSGen-train (1)/PCOSGen-train/images/image0795.jpg\n",
      "/kaggle/input/pcos-picture/PCOSGen-train (1)/PCOSGen-train/images/image3536.jpg\n",
      "/kaggle/input/pcos-picture/PCOSGen-train (1)/PCOSGen-train/images/image1196.jpg\n",
      "/kaggle/input/pcos-picture/PCOSGen-train (1)/PCOSGen-train/images/image0604.jpg\n",
      "/kaggle/input/pcos-picture/PCOSGen-train (1)/PCOSGen-train/images/177image38.jpg\n",
      "/kaggle/input/pcos-picture/PCOSGen-train (1)/PCOSGen-train/images/image2510.jpg\n",
      "/kaggle/input/pcos-picture/PCOSGen-train (1)/PCOSGen-train/images/image1818.jpg\n",
      "/kaggle/input/pcos-picture/PCOSGen-train (1)/PCOSGen-train/images/119image5.jpg\n",
      "/kaggle/input/pcos-picture/PCOSGen-train (1)/PCOSGen-train/images/image2908.jpg\n",
      "/kaggle/input/pcos-picture/PCOSGen-train (1)/PCOSGen-train/images/52image0001.jpg\n",
      "/kaggle/input/pcos-picture/PCOSGen-train (1)/PCOSGen-train/images/image0706.jpg\n",
      "/kaggle/input/pcos-picture/PCOSGen-train (1)/PCOSGen-train/images/image3040.jpg\n",
      "/kaggle/input/pcos-picture/PCOSGen-train (1)/PCOSGen-train/images/image3761.jpg\n",
      "/kaggle/input/pcos-picture/PCOSGen-train (1)/PCOSGen-train/images/image0681.jpg\n",
      "/kaggle/input/pcos-picture/PCOSGen-train (1)/PCOSGen-train/images/image0379.jpg\n",
      "/kaggle/input/pcos-picture/PCOSGen-train (1)/PCOSGen-train/images/418image21.jpg\n",
      "/kaggle/input/pcos-picture/PCOSGen-train (1)/PCOSGen-train/images/image0605.jpg\n",
      "/kaggle/input/pcos-picture/PCOSGen-train (1)/PCOSGen-train/images/image3748.jpg\n",
      "/kaggle/input/pcos-picture/PCOSGen-train (1)/PCOSGen-train/images/image2683.jpg\n",
      "/kaggle/input/pcos-picture/PCOSGen-train (1)/PCOSGen-train/images/933image13.jpg\n",
      "/kaggle/input/pcos-picture/PCOSGen-train (1)/PCOSGen-train/images/image1471.jpg\n",
      "/kaggle/input/pcos-picture/PCOSGen-train (1)/PCOSGen-train/images/image3266.jpg\n",
      "/kaggle/input/pcos-picture/PCOSGen-train (1)/PCOSGen-train/images/162image41.jpg\n",
      "/kaggle/input/pcos-picture/PCOSGen-train (1)/PCOSGen-train/images/image3068.jpg\n",
      "/kaggle/input/pcos-picture/PCOSGen-train (1)/PCOSGen-train/images/110image3.jpg\n",
      "/kaggle/input/pcos-picture/PCOSGen-train (1)/PCOSGen-train/images/image3221.jpg\n",
      "/kaggle/input/pcos-picture/PCOSGen-train (1)/PCOSGen-train/images/image0944.jpg\n",
      "/kaggle/input/pcos-picture/PCOSGen-train (1)/PCOSGen-train/images/image0761.jpg\n",
      "/kaggle/input/pcos-picture/PCOSGen-train (1)/PCOSGen-train/images/image1184.jpg\n",
      "/kaggle/input/pcos-picture/PCOSGen-train (1)/PCOSGen-train/images/image3635.jpg\n",
      "/kaggle/input/pcos-picture/PCOSGen-train (1)/PCOSGen-train/images/814image1.jpg\n",
      "/kaggle/input/pcos-picture/PCOSGen-train (1)/PCOSGen-train/images/image2746.jpg\n",
      "/kaggle/input/pcos-picture/PCOSGen-train (1)/PCOSGen-train/images/image0534.jpg\n",
      "/kaggle/input/pcos-picture/PCOSGen-train (1)/PCOSGen-train/images/image2428.jpg\n",
      "/kaggle/input/pcos-picture/PCOSGen-train (1)/PCOSGen-train/images/image0076.jpg\n",
      "/kaggle/input/pcos-picture/PCOSGen-train (1)/PCOSGen-train/images/image2247.jpg\n",
      "/kaggle/input/pcos-picture/PCOSGen-train (1)/PCOSGen-train/images/122image14.jpg\n",
      "/kaggle/input/pcos-picture/PCOSGen-train (1)/PCOSGen-train/images/image3041.jpg\n",
      "/kaggle/input/pcos-picture/PCOSGen-train (1)/PCOSGen-train/images/75image0057.jpg\n",
      "/kaggle/input/pcos-picture/PCOSGen-train (1)/PCOSGen-train/images/image3701.jpg\n",
      "/kaggle/input/pcos-picture/PCOSGen-train (1)/PCOSGen-train/images/image3514.jpg\n",
      "/kaggle/input/pcos-picture/PCOSGen-train (1)/PCOSGen-train/images/image0998.jpg\n",
      "/kaggle/input/pcos-picture/PCOSGen-train (1)/PCOSGen-train/images/image2878.jpg\n",
      "/kaggle/input/pcos-picture/PCOSGen-train (1)/PCOSGen-train/images/normal_5.jpg\n",
      "/kaggle/input/pcos-picture/PCOSGen-train (1)/PCOSGen-train/images/image0404.jpg\n",
      "/kaggle/input/pcos-picture/PCOSGen-train (1)/PCOSGen-train/images/72image13.jpg\n",
      "/kaggle/input/pcos-picture/PCOSGen-train (1)/PCOSGen-train/images/image0502.jpg\n",
      "/kaggle/input/pcos-picture/PCOSGen-train (1)/PCOSGen-train/images/image2528.jpg\n",
      "/kaggle/input/pcos-picture/PCOSGen-train (1)/PCOSGen-train/images/image0505.jpg\n",
      "/kaggle/input/pcos-picture/PCOSGen-train (1)/PCOSGen-train/images/image2440.jpg\n",
      "/kaggle/input/pcos-picture/PCOSGen-train (1)/PCOSGen-train/images/69image6.jpg\n",
      "/kaggle/input/pcos-picture/PCOSGen-train (1)/PCOSGen-train/images/image2059.jpg\n",
      "/kaggle/input/pcos-picture/PCOSGen-train (1)/PCOSGen-train/images/image0347.jpg\n",
      "/kaggle/input/pcos-picture/PCOSGen-train (1)/PCOSGen-train/images/image0420.jpg\n",
      "/kaggle/input/pcos-picture/PCOSGen-train (1)/PCOSGen-train/images/2image37.jpg\n",
      "/kaggle/input/pcos-picture/PCOSGen-train (1)/PCOSGen-train/images/image3657.jpg\n",
      "/kaggle/input/pcos-picture/PCOSGen-train (1)/PCOSGen-train/images/image0518.jpg\n",
      "/kaggle/input/pcos-picture/PCOSGen-train (1)/PCOSGen-train/images/image3033.jpg\n",
      "/kaggle/input/pcos-picture/PCOSGen-train (1)/PCOSGen-train/images/image1603.jpg\n",
      "/kaggle/input/pcos-picture/PCOSGen-train (1)/PCOSGen-train/images/image1045.jpg\n",
      "/kaggle/input/pcos-picture/PCOSGen-train (1)/PCOSGen-train/images/image2095.jpg\n",
      "/kaggle/input/pcos-picture/PCOSGen-train (1)/PCOSGen-train/images/95image15.jpg\n",
      "/kaggle/input/pcos-picture/PCOSGen-train (1)/PCOSGen-train/images/image3671.jpg\n",
      "/kaggle/input/pcos-picture/PCOSGen-train (1)/PCOSGen-train/images/image1765.jpg\n",
      "/kaggle/input/pcos-picture/PCOSGen-train (1)/PCOSGen-train/images/185image11.jpg\n",
      "/kaggle/input/pcos-picture/PCOSGen-train (1)/PCOSGen-train/images/190image19.jpg\n",
      "/kaggle/input/pcos-picture/PCOSGen-train (1)/PCOSGen-train/images/image1810.jpg\n",
      "/kaggle/input/pcos-picture/PCOSGen-train (1)/PCOSGen-train/images/image0309.jpg\n",
      "/kaggle/input/pcos-picture/PCOSGen-train (1)/PCOSGen-train/images/image1821.jpg\n",
      "/kaggle/input/pcos-picture/PCOSGen-train (1)/PCOSGen-train/images/image3603.jpg\n",
      "/kaggle/input/pcos-picture/PCOSGen-train (1)/PCOSGen-train/images/image2721.jpg\n",
      "/kaggle/input/pcos-picture/PCOSGen-train (1)/PCOSGen-train/images/image2989.jpg\n",
      "/kaggle/input/pcos-picture/PCOSGen-train (1)/PCOSGen-train/images/image2140.jpg\n",
      "/kaggle/input/pcos-picture/PCOSGen-train (1)/PCOSGen-train/images/image3436.jpg\n",
      "/kaggle/input/pcos-picture/PCOSGen-train (1)/PCOSGen-train/images/image2603.jpg\n",
      "/kaggle/input/pcos-picture/PCOSGen-train (1)/PCOSGen-train/images/image1405.jpg\n",
      "/kaggle/input/pcos-picture/PCOSGen-train (1)/PCOSGen-train/images/image0489.jpg\n",
      "/kaggle/input/pcos-picture/PCOSGen-train (1)/PCOSGen-train/images/image1023.jpg\n",
      "/kaggle/input/pcos-picture/PCOSGen-train (1)/PCOSGen-train/images/104image104.jpg\n",
      "/kaggle/input/pcos-picture/PCOSGen-train (1)/PCOSGen-train/images/image3223.jpg\n",
      "/kaggle/input/pcos-picture/PCOSGen-train (1)/PCOSGen-train/images/186image30.jpg\n",
      "/kaggle/input/pcos-picture/PCOSGen-train (1)/PCOSGen-train/images/146image22.jpg\n",
      "/kaggle/input/pcos-picture/PCOSGen-train (1)/PCOSGen-train/images/113image0114.jpg\n",
      "/kaggle/input/pcos-picture/PCOSGen-train (1)/PCOSGen-train/images/image0113.jpg\n",
      "/kaggle/input/pcos-picture/PCOSGen-train (1)/PCOSGen-train/images/image0254.jpg\n",
      "/kaggle/input/pcos-picture/PCOSGen-train (1)/PCOSGen-train/images/98image48.jpg\n",
      "/kaggle/input/pcos-picture/PCOSGen-train (1)/PCOSGen-train/images/image3167.jpg\n",
      "/kaggle/input/pcos-picture/PCOSGen-train (1)/PCOSGen-train/images/image0914.jpg\n",
      "/kaggle/input/pcos-picture/PCOSGen-train (1)/PCOSGen-train/images/image0913.jpg\n",
      "/kaggle/input/pcos-picture/PCOSGen-train (1)/PCOSGen-train/images/image1419.jpg\n",
      "/kaggle/input/pcos-picture/PCOSGen-train (1)/PCOSGen-train/images/image1667.jpg\n",
      "/kaggle/input/pcos-picture/PCOSGen-train (1)/PCOSGen-train/images/image1163.jpg\n",
      "/kaggle/input/pcos-picture/PCOSGen-train (1)/PCOSGen-train/images/image0318.jpg\n",
      "/kaggle/input/pcos-picture/PCOSGen-train (1)/PCOSGen-train/images/image2584.jpg\n",
      "/kaggle/input/pcos-picture/PCOSGen-train (1)/PCOSGen-train/images/image3093.jpg\n",
      "/kaggle/input/pcos-picture/PCOSGen-train (1)/PCOSGen-train/images/image0473.jpg\n",
      "/kaggle/input/pcos-picture/PCOSGen-train (1)/PCOSGen-train/images/image0310.jpg\n",
      "/kaggle/input/pcos-picture/PCOSGen-train (1)/PCOSGen-train/images/image0642.jpg\n",
      "/kaggle/input/pcos-picture/PCOSGen-train (1)/PCOSGen-train/images/image0273.jpg\n",
      "/kaggle/input/pcos-picture/PCOSGen-train (1)/PCOSGen-train/images/image0491.jpg\n",
      "/kaggle/input/pcos-picture/PCOSGen-train (1)/PCOSGen-train/images/image0517.jpg\n",
      "/kaggle/input/pcos-picture/PCOSGen-train (1)/PCOSGen-train/images/image1817.jpg\n",
      "/kaggle/input/pcos-picture/PCOSGen-train (1)/PCOSGen-train/images/image3190.jpg\n",
      "/kaggle/input/pcos-picture/PCOSGen-train (1)/PCOSGen-train/images/595image19.jpg\n",
      "/kaggle/input/pcos-picture/PCOSGen-train (1)/PCOSGen-train/images/71image36.jpg\n",
      "/kaggle/input/pcos-picture/PCOSGen-train (1)/PCOSGen-train/images/image0978.jpg\n",
      "/kaggle/input/pcos-picture/PCOSGen-train (1)/PCOSGen-train/images/image1648.jpg\n",
      "/kaggle/input/pcos-picture/PCOSGen-train (1)/PCOSGen-train/images/157image49.jpg\n",
      "/kaggle/input/pcos-picture/PCOSGen-train (1)/PCOSGen-train/images/image0625.jpg\n",
      "/kaggle/input/pcos-picture/PCOSGen-train (1)/PCOSGen-train/images/image2627.jpg\n",
      "/kaggle/input/pcos-picture/PCOSGen-train (1)/PCOSGen-train/images/image0721.jpg\n",
      "/kaggle/input/pcos-picture/PCOSGen-train (1)/PCOSGen-train/images/image0074.jpg\n",
      "/kaggle/input/pcos-picture/PCOSGen-train (1)/PCOSGen-train/images/image2149.jpg\n",
      "/kaggle/input/pcos-picture/PCOSGen-train (1)/PCOSGen-train/images/210image89.jpg\n",
      "/kaggle/input/pcos-picture/PCOSGen-train (1)/PCOSGen-train/images/96image95.jpg\n",
      "/kaggle/input/pcos-picture/PCOSGen-train (1)/PCOSGen-train/images/image2738.jpg\n",
      "/kaggle/input/pcos-picture/PCOSGen-train (1)/PCOSGen-train/images/image0550.jpg\n",
      "/kaggle/input/pcos-picture/PCOSGen-train (1)/PCOSGen-train/images/image1748.jpg\n",
      "/kaggle/input/pcos-picture/PCOSGen-train (1)/PCOSGen-train/images/image0716.jpg\n",
      "/kaggle/input/pcos-picture/PCOSGen-train (1)/PCOSGen-train/images/image2790.jpg\n",
      "/kaggle/input/pcos-picture/PCOSGen-train (1)/PCOSGen-train/images/image2895.jpg\n",
      "/kaggle/input/pcos-picture/PCOSGen-train (1)/PCOSGen-train/images/97image17.jpg\n",
      "/kaggle/input/pcos-picture/PCOSGen-train (1)/PCOSGen-train/images/image2452.jpg\n",
      "/kaggle/input/pcos-picture/PCOSGen-train (1)/PCOSGen-train/images/image1862.jpg\n",
      "/kaggle/input/pcos-picture/PCOSGen-train (1)/PCOSGen-train/images/image3475.jpg\n",
      "/kaggle/input/pcos-picture/PCOSGen-train (1)/PCOSGen-train/images/41image0010.jpg\n",
      "/kaggle/input/pcos-picture/PCOSGen-train (1)/PCOSGen-train/images/image0247.jpg\n",
      "/kaggle/input/pcos-picture/PCOSGen-train (1)/PCOSGen-train/images/image3757.jpg\n",
      "/kaggle/input/pcos-picture/PCOSGen-train (1)/PCOSGen-train/images/image0643.jpg\n",
      "/kaggle/input/pcos-picture/PCOSGen-train (1)/PCOSGen-train/images/image2273.jpg\n",
      "/kaggle/input/pcos-picture/PCOSGen-train (1)/PCOSGen-train/images/154image86.jpg\n",
      "/kaggle/input/pcos-picture/PCOSGen-train (1)/PCOSGen-train/images/image2714.jpg\n",
      "/kaggle/input/pcos-picture/PCOSGen-train (1)/PCOSGen-train/images/22image0032.jpg\n",
      "/kaggle/input/pcos-picture/PCOSGen-train (1)/PCOSGen-train/images/image3270.jpg\n",
      "/kaggle/input/pcos-picture/PCOSGen-train (1)/PCOSGen-train/images/image0090.jpg\n",
      "/kaggle/input/pcos-picture/PCOSGen-train (1)/PCOSGen-train/images/image2657.jpg\n",
      "/kaggle/input/pcos-picture/PCOSGen-train (1)/PCOSGen-train/images/image0214.jpg\n",
      "/kaggle/input/pcos-picture/PCOSGen-train (1)/PCOSGen-train/images/image3028.jpg\n",
      "/kaggle/input/pcos-picture/PCOSGen-train (1)/PCOSGen-train/images/image2808.jpg\n",
      "/kaggle/input/pcos-picture/PCOSGen-train (1)/PCOSGen-train/images/image2849.jpg\n",
      "/kaggle/input/pcos-picture/PCOSGen-train (1)/PCOSGen-train/images/image2098.jpg\n",
      "/kaggle/input/pcos-picture/PCOSGen-train (1)/PCOSGen-train/images/image0687.jpg\n",
      "/kaggle/input/pcos-picture/PCOSGen-train (1)/PCOSGen-train/images/94image10.jpg\n",
      "/kaggle/input/pcos-picture/PCOSGen-train (1)/PCOSGen-train/images/image3694.jpg\n",
      "/kaggle/input/pcos-picture/PCOSGen-train (1)/PCOSGen-train/images/77image35.jpg\n",
      "/kaggle/input/pcos-picture/PCOSGen-train (1)/PCOSGen-train/images/image0979.jpg\n",
      "/kaggle/input/pcos-picture/PCOSGen-train (1)/PCOSGen-train/images/image2686.jpg\n",
      "/kaggle/input/pcos-picture/PCOSGen-train (1)/PCOSGen-train/images/image1017.jpg\n",
      "/kaggle/input/pcos-picture/PCOSGen-train (1)/PCOSGen-train/images/image3818.jpg\n",
      "/kaggle/input/pcos-picture/PCOSGen-train (1)/PCOSGen-train/images/image1799.jpg\n",
      "/kaggle/input/pcos-picture/PCOSGen-train (1)/PCOSGen-train/images/image1837.jpg\n",
      "/kaggle/input/pcos-picture/PCOSGen-train (1)/PCOSGen-train/images/image0268.jpg\n",
      "/kaggle/input/pcos-picture/PCOSGen-train (1)/PCOSGen-train/images/image1851.jpg\n",
      "/kaggle/input/pcos-picture/PCOSGen-train (1)/PCOSGen-train/images/image0296.jpg\n",
      "/kaggle/input/pcos-picture/PCOSGen-train (1)/PCOSGen-train/images/520image0.jpg\n",
      "/kaggle/input/pcos-picture/PCOSGen-train (1)/PCOSGen-train/images/image2901.jpg\n",
      "/kaggle/input/pcos-picture/PCOSGen-train (1)/PCOSGen-train/images/image0202.jpg\n",
      "/kaggle/input/pcos-picture/PCOSGen-train (1)/PCOSGen-train/images/150image51.jpg\n",
      "/kaggle/input/pcos-picture/PCOSGen-train (1)/PCOSGen-train/images/image3153.jpg\n",
      "/kaggle/input/pcos-picture/PCOSGen-train (1)/PCOSGen-train/images/image1135.jpg\n",
      "/kaggle/input/pcos-picture/PCOSGen-train (1)/PCOSGen-train/images/image3472.jpg\n",
      "/kaggle/input/pcos-picture/PCOSGen-train (1)/PCOSGen-train/images/image3841.jpg\n",
      "/kaggle/input/pcos-picture/PCOSGen-train (1)/PCOSGen-train/images/image1292.jpg\n",
      "/kaggle/input/pcos-picture/PCOSGen-train (1)/PCOSGen-train/images/89image0098.jpg\n",
      "/kaggle/input/pcos-picture/PCOSGen-train (1)/PCOSGen-train/images/292image0.jpg\n",
      "/kaggle/input/pcos-picture/PCOSGen-train (1)/PCOSGen-train/images/image0603.jpg\n",
      "/kaggle/input/pcos-picture/PCOSGen-train (1)/PCOSGen-train/images/image3742.jpg\n",
      "/kaggle/input/pcos-picture/PCOSGen-train (1)/PCOSGen-train/images/195image30.jpg\n",
      "/kaggle/input/pcos-picture/PCOSGen-train (1)/PCOSGen-train/images/image3180.jpg\n",
      "/kaggle/input/pcos-picture/PCOSGen-train (1)/PCOSGen-train/images/image3352.jpg\n",
      "/kaggle/input/pcos-picture/PCOSGen-train (1)/PCOSGen-train/images/image0713.jpg\n",
      "/kaggle/input/pcos-picture/PCOSGen-train (1)/PCOSGen-train/images/image0545.jpg\n",
      "/kaggle/input/pcos-picture/PCOSGen-train (1)/PCOSGen-train/images/image2248.jpg\n",
      "/kaggle/input/pcos-picture/PCOSGen-train (1)/PCOSGen-train/images/image3175.jpg\n",
      "/kaggle/input/pcos-picture/PCOSGen-train (1)/PCOSGen-train/images/image3568.jpg\n",
      "/kaggle/input/pcos-picture/PCOSGen-train (1)/PCOSGen-train/images/image1950.jpg\n",
      "/kaggle/input/pcos-picture/PCOSGen-train (1)/PCOSGen-train/images/image2722.jpg\n",
      "/kaggle/input/pcos-picture/PCOSGen-train (1)/PCOSGen-train/images/image3177.jpg\n",
      "/kaggle/input/pcos-picture/PCOSGen-train (1)/PCOSGen-train/images/pco_13.jpg\n",
      "/kaggle/input/pcos-picture/PCOSGen-train (1)/PCOSGen-train/images/image3463.jpg\n",
      "/kaggle/input/pcos-picture/PCOSGen-train (1)/PCOSGen-train/images/165image18.jpg\n",
      "/kaggle/input/pcos-picture/PCOSGen-train (1)/PCOSGen-train/images/93image50.jpg\n",
      "/kaggle/input/pcos-picture/PCOSGen-train (1)/PCOSGen-train/images/image0912.jpg\n",
      "/kaggle/input/pcos-picture/PCOSGen-train (1)/PCOSGen-train/images/image3189.jpg\n",
      "/kaggle/input/pcos-picture/PCOSGen-train (1)/PCOSGen-train/images/image3115.jpg\n",
      "/kaggle/input/pcos-picture/PCOSGen-train (1)/PCOSGen-train/images/image3621.jpg\n",
      "/kaggle/input/pcos-picture/PCOSGen-train (1)/PCOSGen-train/images/image0896.jpg\n",
      "/kaggle/input/pcos-picture/PCOSGen-train (1)/PCOSGen-train/images/image3688.jpg\n",
      "/kaggle/input/pcos-picture/PCOSGen-train (1)/PCOSGen-train/images/image2616.jpg\n",
      "/kaggle/input/pcos-picture/PCOSGen-train (1)/PCOSGen-train/images/184image16.jpg\n",
      "/kaggle/input/pcos-picture/PCOSGen-train (1)/PCOSGen-train/images/image1690.jpg\n",
      "/kaggle/input/pcos-picture/PCOSGen-train (1)/PCOSGen-train/images/image0694.jpg\n",
      "/kaggle/input/pcos-picture/PCOSGen-train (1)/PCOSGen-train/images/image2876.jpg\n",
      "/kaggle/input/pcos-picture/PCOSGen-train (1)/PCOSGen-train/images/237image7.jpg\n",
      "/kaggle/input/pcos-picture/PCOSGen-train (1)/PCOSGen-train/images/image2592.jpg\n",
      "/kaggle/input/pcos-picture/PCOSGen-train (1)/PCOSGen-train/images/image0879.jpg\n",
      "/kaggle/input/pcos-picture/PCOSGen-train (1)/PCOSGen-train/images/image3285.jpg\n",
      "/kaggle/input/pcos-picture/PCOSGen-train (1)/PCOSGen-train/images/image0895.jpg\n",
      "/kaggle/input/pcos-picture/PCOSGen-train (1)/PCOSGen-train/images/128image46.jpg\n",
      "/kaggle/input/pcos-picture/PCOSGen-train (1)/PCOSGen-train/images/image1865.jpg\n",
      "/kaggle/input/pcos-picture/PCOSGen-train (1)/PCOSGen-train/images/image2788.jpg\n",
      "/kaggle/input/pcos-picture/PCOSGen-train (1)/PCOSGen-train/images/97image67.jpg\n",
      "/kaggle/input/pcos-picture/PCOSGen-train (1)/PCOSGen-train/images/image3060.jpg\n",
      "/kaggle/input/pcos-picture/PCOSGen-train (1)/PCOSGen-train/images/image3273.jpg\n",
      "/kaggle/input/pcos-picture/PCOSGen-train (1)/PCOSGen-train/images/image2884.jpg\n",
      "/kaggle/input/pcos-picture/PCOSGen-train (1)/PCOSGen-train/images/28image5.jpg\n",
      "/kaggle/input/pcos-picture/PCOSGen-train (1)/PCOSGen-train/images/image2612.jpg\n",
      "/kaggle/input/pcos-picture/PCOSGen-train (1)/PCOSGen-train/images/image3680.jpg\n",
      "/kaggle/input/pcos-picture/PCOSGen-train (1)/PCOSGen-train/images/image0262.jpg\n",
      "/kaggle/input/pcos-picture/PCOSGen-train (1)/PCOSGen-train/images/40image0021.jpg\n",
      "/kaggle/input/pcos-picture/PCOSGen-train (1)/PCOSGen-train/images/image0617.jpg\n",
      "/kaggle/input/pcos-picture/PCOSGen-train (1)/PCOSGen-train/images/image0939.jpg\n",
      "/kaggle/input/pcos-picture/PCOSGen-train (1)/PCOSGen-train/images/image1713.jpg\n",
      "/kaggle/input/pcos-picture/PCOSGen-train (1)/PCOSGen-train/images/image2625.jpg\n",
      "/kaggle/input/pcos-picture/PCOSGen-train (1)/PCOSGen-train/images/pco_6.jpg\n",
      "/kaggle/input/pcos-picture/PCOSGen-train (1)/PCOSGen-train/images/image2694.jpg\n",
      "/kaggle/input/pcos-picture/PCOSGen-train (1)/PCOSGen-train/images/image3260.jpg\n",
      "/kaggle/input/pcos-picture/PCOSGen-train (1)/PCOSGen-train/images/image2893.jpg\n",
      "/kaggle/input/pcos-picture/PCOSGen-train (1)/PCOSGen-train/images/image1945.jpg\n",
      "/kaggle/input/pcos-picture/PCOSGen-train (1)/PCOSGen-train/images/105image100.jpg\n",
      "/kaggle/input/pcos-picture/PCOSGen-train (1)/PCOSGen-train/images/image0272.jpg\n",
      "/kaggle/input/pcos-picture/PCOSGen-train (1)/PCOSGen-train/images/image1744.jpg\n",
      "/kaggle/input/pcos-picture/PCOSGen-train (1)/PCOSGen-train/images/49image0023.jpg\n",
      "/kaggle/input/pcos-picture/PCOSGen-train (1)/PCOSGen-train/images/image1934.jpg\n",
      "/kaggle/input/pcos-picture/PCOSGen-train (1)/PCOSGen-train/images/97image55.jpg\n",
      "/kaggle/input/pcos-picture/PCOSGen-train (1)/PCOSGen-train/images/image2417.jpg\n",
      "/kaggle/input/pcos-picture/PCOSGen-train (1)/PCOSGen-train/images/image3695.jpg\n",
      "/kaggle/input/pcos-picture/PCOSGen-train (1)/PCOSGen-train/images/158image48.jpg\n",
      "/kaggle/input/pcos-picture/PCOSGen-train (1)/PCOSGen-train/images/image2706.jpg\n",
      "/kaggle/input/pcos-picture/PCOSGen-train (1)/PCOSGen-train/images/image2656.jpg\n",
      "/kaggle/input/pcos-picture/PCOSGen-train (1)/PCOSGen-train/images/image3324.jpg\n",
      "/kaggle/input/pcos-picture/PCOSGen-train (1)/PCOSGen-train/images/image2509.jpg\n",
      "/kaggle/input/pcos-picture/PCOSGen-train (1)/PCOSGen-train/images/image0221.jpg\n",
      "/kaggle/input/pcos-picture/PCOSGen-train (1)/PCOSGen-train/images/image3797.jpg\n",
      "/kaggle/input/pcos-picture/PCOSGen-train (1)/PCOSGen-train/images/image0536.jpg\n",
      "/kaggle/input/pcos-picture/PCOSGen-train (1)/PCOSGen-train/images/168image44.jpg\n",
      "/kaggle/input/pcos-picture/PCOSGen-train (1)/PCOSGen-train/images/549image29.jpg\n",
      "/kaggle/input/pcos-picture/PCOSGen-train (1)/PCOSGen-train/images/image0941.jpg\n",
      "/kaggle/input/pcos-picture/PCOSGen-train (1)/PCOSGen-train/images/image3825.jpg\n",
      "/kaggle/input/pcos-picture/PCOSGen-train (1)/PCOSGen-train/images/15image0033.jpg\n",
      "/kaggle/input/pcos-picture/PCOSGen-train (1)/PCOSGen-train/images/image2561.jpg\n",
      "/kaggle/input/pcos-picture/PCOSGen-train (1)/PCOSGen-train/images/93image79.jpg\n",
      "/kaggle/input/pcos-picture/PCOSGen-train (1)/PCOSGen-train/images/image0284.jpg\n",
      "/kaggle/input/pcos-picture/PCOSGen-train (1)/PCOSGen-train/images/139image15.jpg\n",
      "/kaggle/input/pcos-picture/PCOSGen-train (1)/PCOSGen-train/images/image2243.jpg\n",
      "/kaggle/input/pcos-picture/PCOSGen-train (1)/PCOSGen-train/images/image0808.jpg\n",
      "/kaggle/input/pcos-picture/PCOSGen-train (1)/PCOSGen-train/images/191image0.jpg\n",
      "/kaggle/input/pcos-picture/PCOSGen-train (1)/PCOSGen-train/images/image2506.jpg\n",
      "/kaggle/input/pcos-picture/PCOSGen-train (1)/PCOSGen-train/images/image0327.jpg\n",
      "/kaggle/input/pcos-picture/PCOSGen-train (1)/PCOSGen-train/images/image2104.jpg\n",
      "/kaggle/input/pcos-picture/PCOSGen-train (1)/PCOSGen-train/images/image1695.jpg\n",
      "/kaggle/input/pcos-picture/PCOSGen-train (1)/PCOSGen-train/images/189image13.jpg\n",
      "/kaggle/input/pcos-picture/PCOSGen-train (1)/PCOSGen-train/images/image0311.jpg\n",
      "/kaggle/input/pcos-picture/PCOSGen-train (1)/PCOSGen-train/images/image0915.jpg\n",
      "/kaggle/input/pcos-picture/PCOSGen-train (1)/PCOSGen-train/images/image1868.jpg\n",
      "/kaggle/input/pcos-picture/PCOSGen-train (1)/PCOSGen-train/images/290image20.jpg\n",
      "/kaggle/input/pcos-picture/PCOSGen-train (1)/PCOSGen-train/images/image3374.jpg\n",
      "/kaggle/input/pcos-picture/PCOSGen-train (1)/PCOSGen-train/images/27image64.jpg\n",
      "/kaggle/input/pcos-picture/PCOSGen-train (1)/PCOSGen-train/images/image0958.jpg\n",
      "/kaggle/input/pcos-picture/PCOSGen-train (1)/PCOSGen-train/images/image0709.jpg\n",
      "/kaggle/input/pcos-picture/PCOSGen-train (1)/PCOSGen-train/images/image3409.jpg\n",
      "/kaggle/input/pcos-picture/PCOSGen-train (1)/PCOSGen-train/images/image0292.jpg\n",
      "/kaggle/input/pcos-picture/PCOSGen-train (1)/PCOSGen-train/images/91image35.jpg\n",
      "/kaggle/input/pcos-picture/PCOSGen-train (1)/PCOSGen-train/images/101image31.jpg\n",
      "/kaggle/input/pcos-picture/PCOSGen-train (1)/PCOSGen-train/images/image0932.jpg\n",
      "/kaggle/input/pcos-picture/PCOSGen-train (1)/PCOSGen-train/images/image1022.jpg\n",
      "/kaggle/input/pcos-picture/PCOSGen-train (1)/PCOSGen-train/images/519image24.jpg\n",
      "/kaggle/input/pcos-picture/PCOSGen-train (1)/PCOSGen-train/images/24image9.jpg\n",
      "/kaggle/input/pcos-picture/PCOSGen-train (1)/PCOSGen-train/images/image3423.jpg\n",
      "/kaggle/input/pcos-picture/PCOSGen-train (1)/PCOSGen-train/images/60image1.jpg\n",
      "/kaggle/input/pcos-picture/PCOSGen-train (1)/PCOSGen-train/images/32image0025.jpg\n",
      "/kaggle/input/pcos-picture/PCOSGen-train (1)/PCOSGen-train/images/38image0005.jpg\n",
      "/kaggle/input/pcos-picture/PCOSGen-train (1)/PCOSGen-train/images/103image0064.jpg\n",
      "/kaggle/input/pcos-picture/PCOSGen-train (1)/PCOSGen-train/images/image0812.jpg\n",
      "/kaggle/input/pcos-picture/PCOSGen-train (1)/PCOSGen-train/images/image0323.jpg\n",
      "/kaggle/input/pcos-picture/PCOSGen-train (1)/PCOSGen-train/images/image2810.jpg\n",
      "/kaggle/input/pcos-picture/PCOSGen-train (1)/PCOSGen-train/images/180image56.jpg\n",
      "/kaggle/input/pcos-picture/PCOSGen-train (1)/PCOSGen-train/images/image0242.jpg\n",
      "/kaggle/input/pcos-picture/PCOSGen-train (1)/PCOSGen-train/images/image0409.jpg\n",
      "/kaggle/input/pcos-picture/PCOSGen-train (1)/PCOSGen-train/images/image2526.jpg\n",
      "/kaggle/input/pcos-picture/PCOSGen-train (1)/PCOSGen-train/images/212image10.jpg\n",
      "/kaggle/input/pcos-picture/PCOSGen-train (1)/PCOSGen-train/images/image3784.jpg\n",
      "/kaggle/input/pcos-picture/PCOSGen-train (1)/PCOSGen-train/images/9image59.jpg\n",
      "/kaggle/input/pcos-picture/PCOSGen-train (1)/PCOSGen-train/images/image2576.jpg\n",
      "/kaggle/input/pcos-picture/PCOSGen-train (1)/PCOSGen-train/images/image1012.jpg\n",
      "/kaggle/input/pcos-picture/PCOSGen-train (1)/PCOSGen-train/images/image3006.jpg\n",
      "/kaggle/input/pcos-picture/PCOSGen-train (1)/PCOSGen-train/images/image0524.jpg\n",
      "/kaggle/input/pcos-picture/PCOSGen-train (1)/PCOSGen-train/images/image3503.jpg\n",
      "/kaggle/input/pcos-picture/PCOSGen-train (1)/PCOSGen-train/images/image2587.jpg\n",
      "/kaggle/input/pcos-picture/PCOSGen-train (1)/PCOSGen-train/images/image2970.jpg\n",
      "/kaggle/input/pcos-picture/PCOSGen-train (1)/PCOSGen-train/images/image0206.jpg\n",
      "/kaggle/input/pcos-picture/PCOSGen-train (1)/PCOSGen-train/images/image1113.jpg\n",
      "/kaggle/input/pcos-picture/PCOSGen-train (1)/PCOSGen-train/images/image3702.jpg\n",
      "/kaggle/input/pcos-picture/PCOSGen-train (1)/PCOSGen-train/images/image3667.jpg\n",
      "/kaggle/input/pcos-picture/PCOSGen-train (1)/PCOSGen-train/images/image1469.jpg\n",
      "/kaggle/input/pcos-picture/PCOSGen-train (1)/PCOSGen-train/images/image1971.jpg\n",
      "/kaggle/input/pcos-picture/PCOSGen-train (1)/PCOSGen-train/images/image1057.jpg\n",
      "/kaggle/input/pcos-picture/PCOSGen-train (1)/PCOSGen-train/images/image0440.jpg\n",
      "/kaggle/input/pcos-picture/PCOSGen-train (1)/PCOSGen-train/images/image0564.jpg\n",
      "/kaggle/input/pcos-picture/PCOSGen-train (1)/PCOSGen-train/images/image1954.jpg\n",
      "/kaggle/input/pcos-picture/PCOSGen-train (1)/PCOSGen-train/images/image3415.jpg\n",
      "/kaggle/input/pcos-picture/PCOSGen-train (1)/PCOSGen-train/images/22image73.jpg\n",
      "/kaggle/input/pcos-picture/PCOSGen-train (1)/PCOSGen-train/images/image0927.jpg\n",
      "/kaggle/input/pcos-picture/PCOSGen-train (1)/PCOSGen-train/images/image0249.jpg\n",
      "/kaggle/input/pcos-picture/PCOSGen-train (1)/PCOSGen-train/images/image2735.jpg\n",
      "/kaggle/input/pcos-picture/PCOSGen-train (1)/PCOSGen-train/images/75image0097.jpg\n",
      "/kaggle/input/pcos-picture/PCOSGen-train (1)/PCOSGen-train/images/image0591.jpg\n",
      "/kaggle/input/pcos-picture/PCOSGen-train (1)/PCOSGen-train/images/image1085.jpg\n",
      "/kaggle/input/pcos-picture/PCOSGen-train (1)/PCOSGen-train/images/image0835.jpg\n",
      "/kaggle/input/pcos-picture/PCOSGen-train (1)/PCOSGen-train/images/163image53.jpg\n",
      "/kaggle/input/pcos-picture/PCOSGen-train (1)/PCOSGen-train/images/image3427.jpg\n",
      "/kaggle/input/pcos-picture/PCOSGen-train (1)/PCOSGen-train/images/image2864.jpg\n",
      "/kaggle/input/pcos-picture/PCOSGen-train (1)/PCOSGen-train/images/image0513.jpg\n",
      "/kaggle/input/pcos-picture/PCOSGen-train (1)/PCOSGen-train/images/3image38.jpg\n",
      "/kaggle/input/pcos-picture/PCOSGen-train (1)/PCOSGen-train/images/image1955.jpg\n",
      "/kaggle/input/pcos-picture/PCOSGen-train (1)/PCOSGen-train/images/image1933.jpg\n",
      "/kaggle/input/pcos-picture/PCOSGen-train (1)/PCOSGen-train/images/image0649.jpg\n",
      "/kaggle/input/pcos-picture/PCOSGen-train (1)/PCOSGen-train/images/13image56.jpg\n",
      "/kaggle/input/pcos-picture/PCOSGen-train (1)/PCOSGen-train/images/image0337.jpg\n",
      "/kaggle/input/pcos-picture/PCOSGen-train (1)/PCOSGen-train/images/101image14.jpg\n",
      "/kaggle/input/pcos-picture/PCOSGen-train (1)/PCOSGen-train/images/83image26.jpg\n",
      "/kaggle/input/pcos-picture/PCOSGen-train (1)/PCOSGen-train/images/91image43.jpg\n",
      "/kaggle/input/pcos-picture/PCOSGen-train (1)/PCOSGen-train/images/image3218.jpg\n",
      "/kaggle/input/pcos-picture/PCOSGen-train (1)/PCOSGen-train/images/image3338.jpg\n",
      "/kaggle/input/pcos-picture/PCOSGen-train (1)/PCOSGen-train/images/image1129.jpg\n",
      "/kaggle/input/pcos-picture/PCOSGen-train (1)/PCOSGen-train/images/image2975.jpg\n",
      "/kaggle/input/pcos-picture/PCOSGen-train (1)/PCOSGen-train/images/image2606.jpg\n",
      "/kaggle/input/pcos-picture/PCOSGen-train (1)/PCOSGen-train/images/image0933.jpg\n",
      "/kaggle/input/pcos-picture/PCOSGen-train (1)/PCOSGen-train/images/image0800.jpg\n",
      "/kaggle/input/pcos-picture/PCOSGen-train (1)/PCOSGen-train/images/image0766.jpg\n",
      "/kaggle/input/pcos-picture/PCOSGen-train (1)/PCOSGen-train/images/99image20.jpg\n",
      "/kaggle/input/pcos-picture/PCOSGen-train (1)/PCOSGen-train/images/28image33.jpg\n",
      "/kaggle/input/pcos-picture/PCOSGen-train (1)/PCOSGen-train/images/207image56.jpg\n",
      "/kaggle/input/pcos-picture/PCOSGen-train (1)/PCOSGen-train/images/184image101.jpg\n",
      "/kaggle/input/pcos-picture/PCOSGen-train (1)/PCOSGen-train/images/195image45.jpg\n",
      "/kaggle/input/pcos-picture/PCOSGen-train (1)/PCOSGen-train/images/image0557.jpg\n",
      "/kaggle/input/pcos-picture/PCOSGen-train (1)/PCOSGen-train/images/16image27.jpg\n",
      "/kaggle/input/pcos-picture/PCOSGen-train (1)/PCOSGen-train/images/173image52.jpg\n",
      "/kaggle/input/pcos-picture/PCOSGen-train (1)/PCOSGen-train/images/image1790.jpg\n",
      "/kaggle/input/pcos-picture/PCOSGen-train (1)/PCOSGen-train/images/image3435.jpg\n",
      "/kaggle/input/pcos-picture/PCOSGen-train (1)/PCOSGen-train/images/image0725.jpg\n",
      "/kaggle/input/pcos-picture/PCOSGen-train (1)/PCOSGen-train/images/image2805.jpg\n",
      "/kaggle/input/pcos-picture/PCOSGen-train (1)/PCOSGen-train/images/image2521.jpg\n",
      "/kaggle/input/pcos-picture/PCOSGen-train (1)/PCOSGen-train/images/image2650.jpg\n",
      "/kaggle/input/pcos-picture/PCOSGen-train (1)/PCOSGen-train/images/180image10.jpg\n",
      "/kaggle/input/pcos-picture/PCOSGen-train (1)/PCOSGen-train/images/image0066.jpg\n",
      "/kaggle/input/pcos-picture/PCOSGen-train (1)/PCOSGen-train/images/image2743.jpg\n",
      "/kaggle/input/pcos-picture/PCOSGen-train (1)/PCOSGen-train/images/image0056.jpg\n",
      "/kaggle/input/pcos-picture/PCOSGen-train (1)/PCOSGen-train/images/image0841.jpg\n",
      "/kaggle/input/pcos-picture/PCOSGen-train (1)/PCOSGen-train/images/image3024.jpg\n",
      "/kaggle/input/pcos-picture/PCOSGen-train (1)/PCOSGen-train/images/95image93.jpg\n",
      "/kaggle/input/pcos-picture/PCOSGen-train (1)/PCOSGen-train/images/image2454.jpg\n",
      "/kaggle/input/pcos-picture/PCOSGen-train (1)/PCOSGen-train/images/image2261.jpg\n",
      "/kaggle/input/pcos-picture/PCOSGen-train (1)/PCOSGen-train/images/image2250.jpg\n",
      "/kaggle/input/pcos-picture/PCOSGen-train (1)/PCOSGen-train/images/image2853.jpg\n",
      "/kaggle/input/pcos-picture/PCOSGen-train (1)/PCOSGen-train/images/image3058.jpg\n",
      "/kaggle/input/pcos-picture/PCOSGen-train (1)/PCOSGen-train/images/image3665.jpg\n",
      "/kaggle/input/pcos-picture/PCOSGen-train (1)/PCOSGen-train/images/25image7.jpg\n",
      "/kaggle/input/pcos-picture/PCOSGen-train (1)/PCOSGen-train/images/170image61.jpg\n",
      "/kaggle/input/pcos-picture/PCOSGen-train (1)/PCOSGen-train/images/image3727.jpg\n",
      "/kaggle/input/pcos-picture/PCOSGen-train (1)/PCOSGen-train/images/image1147.jpg\n",
      "/kaggle/input/pcos-picture/PCOSGen-train (1)/PCOSGen-train/images/99image32.jpg\n",
      "/kaggle/input/pcos-picture/PCOSGen-train (1)/PCOSGen-train/images/image0834.jpg\n",
      "/kaggle/input/pcos-picture/PCOSGen-train (1)/PCOSGen-train/images/53image0011.jpg\n",
      "/kaggle/input/pcos-picture/PCOSGen-train (1)/PCOSGen-train/images/109image78.jpg\n",
      "/kaggle/input/pcos-picture/PCOSGen-train (1)/PCOSGen-train/images/image1149.jpg\n",
      "/kaggle/input/pcos-picture/PCOSGen-train (1)/PCOSGen-train/images/image2944.jpg\n",
      "/kaggle/input/pcos-picture/PCOSGen-train (1)/PCOSGen-train/images/image3397.jpg\n",
      "/kaggle/input/pcos-picture/PCOSGen-train (1)/PCOSGen-train/images/image0967.jpg\n",
      "/kaggle/input/pcos-picture/PCOSGen-train (1)/PCOSGen-train/images/image3437.jpg\n",
      "/kaggle/input/pcos-picture/PCOSGen-train (1)/PCOSGen-train/images/image3272.jpg\n",
      "/kaggle/input/pcos-picture/PCOSGen-train (1)/PCOSGen-train/images/image3050.jpg\n",
      "/kaggle/input/pcos-picture/PCOSGen-train (1)/PCOSGen-train/images/image0575.jpg\n",
      "/kaggle/input/pcos-picture/PCOSGen-train (1)/PCOSGen-train/images/110image0069.jpg\n",
      "/kaggle/input/pcos-picture/PCOSGen-train (1)/PCOSGen-train/images/image0678.jpg\n",
      "/kaggle/input/pcos-picture/PCOSGen-train (1)/PCOSGen-train/images/image0493.jpg\n",
      "/kaggle/input/pcos-picture/PCOSGen-train (1)/PCOSGen-train/images/image3257.jpg\n",
      "/kaggle/input/pcos-picture/PCOSGen-train (1)/PCOSGen-train/images/image3729.jpg\n",
      "/kaggle/input/pcos-picture/PCOSGen-train (1)/PCOSGen-train/images/image1658.jpg\n",
      "/kaggle/input/pcos-picture/PCOSGen-train (1)/PCOSGen-train/images/image3358.jpg\n",
      "/kaggle/input/pcos-picture/PCOSGen-train (1)/PCOSGen-train/images/94image59.jpg\n",
      "/kaggle/input/pcos-picture/PCOSGen-train (1)/PCOSGen-train/images/8image18.jpg\n",
      "/kaggle/input/pcos-picture/PCOSGen-train (1)/PCOSGen-train/images/image3074.jpg\n",
      "/kaggle/input/pcos-picture/PCOSGen-train (1)/PCOSGen-train/images/image2835.jpg\n",
      "/kaggle/input/pcos-picture/PCOSGen-train (1)/PCOSGen-train/images/image0469.jpg\n",
      "/kaggle/input/pcos-picture/PCOSGen-train (1)/PCOSGen-train/images/image0749.jpg\n",
      "/kaggle/input/pcos-picture/PCOSGen-train (1)/PCOSGen-train/images/584image17.jpg\n",
      "/kaggle/input/pcos-picture/PCOSGen-train (1)/PCOSGen-train/images/image3407.jpg\n",
      "/kaggle/input/pcos-picture/PCOSGen-train (1)/PCOSGen-train/images/image0094.jpg\n",
      "/kaggle/input/pcos-picture/PCOSGen-train (1)/PCOSGen-train/images/image1110.jpg\n",
      "/kaggle/input/pcos-picture/PCOSGen-train (1)/PCOSGen-train/images/image2696.jpg\n",
      "/kaggle/input/pcos-picture/PCOSGen-train (1)/PCOSGen-train/images/image2419.jpg\n",
      "/kaggle/input/pcos-picture/PCOSGen-train (1)/PCOSGen-train/images/image0982.jpg\n",
      "/kaggle/input/pcos-picture/PCOSGen-train (1)/PCOSGen-train/images/image1019.jpg\n",
      "/kaggle/input/pcos-picture/PCOSGen-train (1)/PCOSGen-train/images/image0975.jpg\n",
      "/kaggle/input/pcos-picture/PCOSGen-train (1)/PCOSGen-train/images/62image0077.jpg\n",
      "/kaggle/input/pcos-picture/PCOSGen-train (1)/PCOSGen-train/images/image3203.jpg\n",
      "/kaggle/input/pcos-picture/PCOSGen-train (1)/PCOSGen-train/images/image1863.jpg\n",
      "/kaggle/input/pcos-picture/PCOSGen-train (1)/PCOSGen-train/images/image1068.jpg\n",
      "/kaggle/input/pcos-picture/PCOSGen-train (1)/PCOSGen-train/images/image3032.jpg\n",
      "/kaggle/input/pcos-picture/PCOSGen-train (1)/PCOSGen-train/images/image1894.jpg\n",
      "/kaggle/input/pcos-picture/PCOSGen-train (1)/PCOSGen-train/images/image1828.jpg\n",
      "/kaggle/input/pcos-picture/PCOSGen-train (1)/PCOSGen-train/images/image0458.jpg\n",
      "/kaggle/input/pcos-picture/PCOSGen-train (1)/PCOSGen-train/images/image1709.jpg\n",
      "/kaggle/input/pcos-picture/PCOSGen-train (1)/PCOSGen-train/images/image3314.jpg\n",
      "/kaggle/input/pcos-picture/PCOSGen-train (1)/PCOSGen-train/images/image3092.jpg\n",
      "/kaggle/input/pcos-picture/PCOSGen-train (1)/PCOSGen-train/images/image2469.jpg\n",
      "/kaggle/input/pcos-picture/PCOSGen-train (1)/PCOSGen-train/images/image2623.jpg\n",
      "/kaggle/input/pcos-picture/PCOSGen-train (1)/PCOSGen-train/images/image3031.jpg\n",
      "/kaggle/input/pcos-picture/PCOSGen-train (1)/PCOSGen-train/images/image0651.jpg\n",
      "/kaggle/input/pcos-picture/PCOSGen-train (1)/PCOSGen-train/images/image0108.jpg\n",
      "/kaggle/input/pcos-picture/PCOSGen-train (1)/PCOSGen-train/images/image3717.jpg\n",
      "/kaggle/input/pcos-picture/PCOSGen-train (1)/PCOSGen-train/images/97image0067.jpg\n",
      "/kaggle/input/pcos-picture/PCOSGen-train (1)/PCOSGen-train/images/image3506.jpg\n",
      "/kaggle/input/pcos-picture/PCOSGen-train (1)/PCOSGen-train/images/19image36.jpg\n",
      "/kaggle/input/pcos-picture/PCOSGen-train (1)/PCOSGen-train/images/image3805.jpg\n",
      "/kaggle/input/pcos-picture/PCOSGen-train (1)/PCOSGen-train/images/image3333.jpg\n",
      "/kaggle/input/pcos-picture/PCOSGen-train (1)/PCOSGen-train/images/image0336.jpg\n",
      "/kaggle/input/pcos-picture/PCOSGen-train (1)/PCOSGen-train/images/image2406.jpg\n",
      "/kaggle/input/pcos-picture/PCOSGen-train (1)/PCOSGen-train/images/image0668.jpg\n",
      "/kaggle/input/pcos-picture/PCOSGen-train (1)/PCOSGen-train/images/6image0042.jpg\n",
      "/kaggle/input/pcos-picture/PCOSGen-train (1)/PCOSGen-train/images/image2712.jpg\n",
      "/kaggle/input/pcos-picture/PCOSGen-train (1)/PCOSGen-train/images/image1143.jpg\n",
      "/kaggle/input/pcos-picture/PCOSGen-train (1)/PCOSGen-train/images/image0058.jpg\n",
      "/kaggle/input/pcos-picture/PCOSGen-train (1)/PCOSGen-train/images/image2416.jpg\n",
      "/kaggle/input/pcos-picture/PCOSGen-train (1)/PCOSGen-train/images/12image19.jpg\n",
      "/kaggle/input/pcos-picture/PCOSGen-train (1)/PCOSGen-train/images/image1467.jpg\n",
      "/kaggle/input/pcos-picture/PCOSGen-train (1)/PCOSGen-train/images/image1470.jpg\n",
      "/kaggle/input/pcos-picture/PCOSGen-train (1)/PCOSGen-train/images/image0115.jpg\n",
      "/kaggle/input/pcos-picture/PCOSGen-train (1)/PCOSGen-train/images/234image21.jpg\n",
      "/kaggle/input/pcos-picture/PCOSGen-train (1)/PCOSGen-train/images/image0856.jpg\n",
      "/kaggle/input/pcos-picture/PCOSGen-train (1)/PCOSGen-train/images/image0277.jpg\n",
      "/kaggle/input/pcos-picture/PCOSGen-train (1)/PCOSGen-train/images/image0219.jpg\n",
      "/kaggle/input/pcos-picture/PCOSGen-train (1)/PCOSGen-train/images/image3470.jpg\n",
      "/kaggle/input/pcos-picture/PCOSGen-train (1)/PCOSGen-train/images/image1050.jpg\n",
      "/kaggle/input/pcos-picture/PCOSGen-train (1)/PCOSGen-train/images/image1472.jpg\n",
      "/kaggle/input/pcos-picture/PCOSGen-train (1)/PCOSGen-train/images/146image9.jpg\n",
      "/kaggle/input/pcos-picture/PCOSGen-train (1)/PCOSGen-train/images/image3673.jpg\n",
      "/kaggle/input/pcos-picture/PCOSGen-train (1)/PCOSGen-train/images/image0822.jpg\n",
      "/kaggle/input/pcos-picture/PCOSGen-train (1)/PCOSGen-train/images/image0416.jpg\n",
      "/kaggle/input/pcos-picture/PCOSGen-train (1)/PCOSGen-train/images/image1235.jpg\n",
      "/kaggle/input/pcos-picture/PCOSGen-train (1)/PCOSGen-train/images/image1785.jpg\n",
      "/kaggle/input/pcos-picture/PCOSGen-train (1)/PCOSGen-train/images/200image11.jpg\n",
      "/kaggle/input/pcos-picture/PCOSGen-train (1)/PCOSGen-train/images/image0104.jpg\n",
      "/kaggle/input/pcos-picture/PCOSGen-train (1)/PCOSGen-train/images/image0717.jpg\n",
      "/kaggle/input/pcos-picture/PCOSGen-train (1)/PCOSGen-train/images/47image0003.jpg\n",
      "/kaggle/input/pcos-picture/PCOSGen-train (1)/PCOSGen-train/images/image3208.jpg\n",
      "/kaggle/input/pcos-picture/PCOSGen-train (1)/PCOSGen-train/images/image1801.jpg\n",
      "/kaggle/input/pcos-picture/PCOSGen-train (1)/PCOSGen-train/images/image1839.jpg\n",
      "/kaggle/input/pcos-picture/PCOSGen-train (1)/PCOSGen-train/images/image0354.jpg\n",
      "/kaggle/input/pcos-picture/PCOSGen-train (1)/PCOSGen-train/images/image3636.jpg\n",
      "/kaggle/input/pcos-picture/PCOSGen-train (1)/PCOSGen-train/images/image3226.jpg\n",
      "/kaggle/input/pcos-picture/PCOSGen-train (1)/PCOSGen-train/images/image1195.jpg\n",
      "/kaggle/input/pcos-picture/PCOSGen-train (1)/PCOSGen-train/images/55image7.jpg\n",
      "/kaggle/input/pcos-picture/PCOSGen-train (1)/PCOSGen-train/images/image0406.jpg\n",
      "/kaggle/input/pcos-picture/PCOSGen-train (1)/PCOSGen-train/images/image1966.jpg\n",
      "/kaggle/input/pcos-picture/PCOSGen-train (1)/PCOSGen-train/images/9image32.jpg\n",
      "/kaggle/input/pcos-picture/PCOSGen-train (1)/PCOSGen-train/images/image2103.jpg\n",
      "/kaggle/input/pcos-picture/PCOSGen-train (1)/PCOSGen-train/images/image0342.jpg\n",
      "/kaggle/input/pcos-picture/PCOSGen-train (1)/PCOSGen-train/images/image0771.jpg\n",
      "/kaggle/input/pcos-picture/PCOSGen-train (1)/PCOSGen-train/images/90image9.jpg\n",
      "/kaggle/input/pcos-picture/PCOSGen-train (1)/PCOSGen-train/images/image0960.jpg\n",
      "/kaggle/input/pcos-picture/PCOSGen-train (1)/PCOSGen-train/images/image1675.jpg\n",
      "/kaggle/input/pcos-picture/PCOSGen-train (1)/PCOSGen-train/images/image2644.jpg\n",
      "/kaggle/input/pcos-picture/PCOSGen-train (1)/PCOSGen-train/images/image3321.jpg\n",
      "/kaggle/input/pcos-picture/PCOSGen-train (1)/PCOSGen-train/images/74image0058.jpg\n",
      "/kaggle/input/pcos-picture/PCOSGen-train (1)/PCOSGen-train/images/image0350.jpg\n",
      "/kaggle/input/pcos-picture/PCOSGen-train (1)/PCOSGen-train/images/97image16.jpg\n",
      "/kaggle/input/pcos-picture/PCOSGen-train (1)/PCOSGen-train/images/image0100.jpg\n",
      "/kaggle/input/pcos-picture/PCOSGen-train (1)/PCOSGen-train/images/image0240.jpg\n",
      "/kaggle/input/pcos-picture/PCOSGen-train (1)/PCOSGen-train/images/image2646.jpg\n",
      "/kaggle/input/pcos-picture/PCOSGen-train (1)/PCOSGen-train/images/image2595.jpg\n",
      "/kaggle/input/pcos-picture/PCOSGen-train (1)/PCOSGen-train/images/image2674.jpg\n",
      "/kaggle/input/pcos-picture/PCOSGen-train (1)/PCOSGen-train/images/image2850.jpg\n",
      "/kaggle/input/pcos-picture/PCOSGen-train (1)/PCOSGen-train/images/image1107.jpg\n",
      "/kaggle/input/pcos-picture/PCOSGen-train (1)/PCOSGen-train/images/image0231.jpg\n",
      "/kaggle/input/pcos-picture/PCOSGen-train (1)/PCOSGen-train/images/image3633.jpg\n",
      "/kaggle/input/pcos-picture/PCOSGen-train (1)/PCOSGen-train/images/image3239.jpg\n",
      "/kaggle/input/pcos-picture/PCOSGen-train (1)/PCOSGen-train/images/image3116.jpg\n",
      "/kaggle/input/pcos-picture/PCOSGen-train (1)/PCOSGen-train/images/image0356.jpg\n",
      "/kaggle/input/pcos-picture/PCOSGen-train (1)/PCOSGen-train/images/112image91.jpg\n",
      "/kaggle/input/pcos-picture/PCOSGen-train (1)/PCOSGen-train/images/image3360.jpg\n",
      "/kaggle/input/pcos-picture/PCOSGen-train (1)/PCOSGen-train/images/image2479.jpg\n",
      "/kaggle/input/pcos-picture/PCOSGen-train (1)/PCOSGen-train/images/image3399.jpg\n",
      "/kaggle/input/pcos-picture/PCOSGen-train (1)/PCOSGen-train/images/174image13.jpg\n",
      "/kaggle/input/pcos-picture/PCOSGen-train (1)/PCOSGen-train/images/image1219.jpg\n",
      "/kaggle/input/pcos-picture/PCOSGen-train (1)/PCOSGen-train/images/image2421.jpg\n",
      "/kaggle/input/pcos-picture/PCOSGen-train (1)/PCOSGen-train/images/image3396.jpg\n",
      "/kaggle/input/pcos-picture/PCOSGen-train (1)/PCOSGen-train/images/image1940.jpg\n",
      "/kaggle/input/pcos-picture/PCOSGen-train (1)/PCOSGen-train/images/image0887.jpg\n",
      "/kaggle/input/pcos-picture/PCOSGen-train (1)/PCOSGen-train/images/image2993.jpg\n",
      "/kaggle/input/pcos-picture/PCOSGen-train (1)/PCOSGen-train/images/image0286.jpg\n",
      "/kaggle/input/pcos-picture/PCOSGen-train (1)/PCOSGen-train/images/image3310.jpg\n",
      "/kaggle/input/pcos-picture/PCOSGen-train (1)/PCOSGen-train/images/image3619.jpg\n",
      "/kaggle/input/pcos-picture/PCOSGen-train (1)/PCOSGen-train/images/image1191.jpg\n",
      "/kaggle/input/pcos-picture/PCOSGen-train (1)/PCOSGen-train/images/image3711.jpg\n",
      "/kaggle/input/pcos-picture/PCOSGen-train (1)/PCOSGen-train/images/image2954.jpg\n",
      "/kaggle/input/pcos-picture/PCOSGen-train (1)/PCOSGen-train/images/image1157.jpg\n",
      "/kaggle/input/pcos-picture/PCOSGen-train (1)/PCOSGen-train/images/image0814.jpg\n",
      "/kaggle/input/pcos-picture/PCOSGen-train (1)/PCOSGen-train/images/92image63.jpg\n",
      "/kaggle/input/pcos-picture/PCOSGen-train (1)/PCOSGen-train/images/220image19.jpg\n",
      "/kaggle/input/pcos-picture/PCOSGen-train (1)/PCOSGen-train/images/image3368.jpg\n",
      "/kaggle/input/pcos-picture/PCOSGen-train (1)/PCOSGen-train/images/image0621.jpg\n",
      "/kaggle/input/pcos-picture/PCOSGen-train (1)/PCOSGen-train/images/image3444.jpg\n",
      "/kaggle/input/pcos-picture/PCOSGen-train (1)/PCOSGen-train/images/image3142.jpg\n",
      "/kaggle/input/pcos-picture/PCOSGen-train (1)/PCOSGen-train/images/image1973.jpg\n",
      "/kaggle/input/pcos-picture/PCOSGen-train (1)/PCOSGen-train/images/image1854.jpg\n",
      "/kaggle/input/pcos-picture/PCOSGen-train (1)/PCOSGen-train/images/56image0068.jpg\n",
      "/kaggle/input/pcos-picture/PCOSGen-train (1)/PCOSGen-train/images/image0345.jpg\n",
      "/kaggle/input/pcos-picture/PCOSGen-train (1)/PCOSGen-train/images/image0855.jpg\n",
      "/kaggle/input/pcos-picture/PCOSGen-train (1)/PCOSGen-train/images/image0341.jpg\n",
      "/kaggle/input/pcos-picture/PCOSGen-train (1)/PCOSGen-train/images/image0322.jpg\n",
      "/kaggle/input/pcos-picture/PCOSGen-train (1)/PCOSGen-train/images/image0223.jpg\n",
      "/kaggle/input/pcos-picture/PCOSGen-train (1)/PCOSGen-train/images/18image4.jpg\n",
      "/kaggle/input/pcos-picture/PCOSGen-train (1)/PCOSGen-train/images/image3459.jpg\n",
      "/kaggle/input/pcos-picture/PCOSGen-train (1)/PCOSGen-train/images/image2946.jpg\n",
      "/kaggle/input/pcos-picture/PCOSGen-train (1)/PCOSGen-train/images/162image21.jpg\n",
      "/kaggle/input/pcos-picture/PCOSGen-train (1)/PCOSGen-train/images/image1140.jpg\n",
      "/kaggle/input/pcos-picture/PCOSGen-train (1)/PCOSGen-train/images/image0047.jpg\n",
      "/kaggle/input/pcos-picture/PCOSGen-train (1)/PCOSGen-train/images/image3386.jpg\n",
      "/kaggle/input/pcos-picture/PCOSGen-train (1)/PCOSGen-train/images/image3780.jpg\n",
      "/kaggle/input/pcos-picture/PCOSGen-train (1)/PCOSGen-train/images/image3334.jpg\n",
      "/kaggle/input/pcos-picture/PCOSGen-train (1)/PCOSGen-train/images/image2170.jpg\n",
      "/kaggle/input/pcos-picture/PCOSGen-train (1)/PCOSGen-train/images/image2411.jpg\n",
      "/kaggle/input/pcos-picture/PCOSGen-train (1)/PCOSGen-train/images/image3756.jpg\n",
      "/kaggle/input/pcos-picture/PCOSGen-train (1)/PCOSGen-train/images/172image32.jpg\n",
      "/kaggle/input/pcos-picture/PCOSGen-train (1)/PCOSGen-train/images/image0802.jpg\n",
      "/kaggle/input/pcos-picture/PCOSGen-train (1)/PCOSGen-train/images/image2717.jpg\n",
      "/kaggle/input/pcos-picture/PCOSGen-train (1)/PCOSGen-train/images/image3723.jpg\n",
      "/kaggle/input/pcos-picture/PCOSGen-train (1)/PCOSGen-train/images/image0527.jpg\n",
      "/kaggle/input/pcos-picture/PCOSGen-train (1)/PCOSGen-train/images/image1177.jpg\n",
      "/kaggle/input/pcos-picture/PCOSGen-train (1)/PCOSGen-train/images/image1962.jpg\n",
      "/kaggle/input/pcos-picture/PCOSGen-train (1)/PCOSGen-train/images/image2904.jpg\n",
      "/kaggle/input/pcos-picture/PCOSGen-train (1)/PCOSGen-train/images/image2171.jpg\n",
      "/kaggle/input/pcos-picture/PCOSGen-train (1)/PCOSGen-train/images/image3066.jpg\n",
      "/kaggle/input/pcos-picture/PCOSGen-train (1)/PCOSGen-train/images/33image0049.jpg\n",
      "/kaggle/input/pcos-picture/PCOSGen-train (1)/PCOSGen-train/images/30image0007.jpg\n",
      "/kaggle/input/pcos-picture/PCOSGen-train (1)/PCOSGen-train/images/image2999.jpg\n",
      "/kaggle/input/pcos-picture/PCOSGen-train (1)/PCOSGen-train/images/image3135.jpg\n",
      "/kaggle/input/pcos-picture/PCOSGen-train (1)/PCOSGen-train/images/image0497.jpg\n",
      "/kaggle/input/pcos-picture/PCOSGen-train (1)/PCOSGen-train/images/image2169.jpg\n",
      "/kaggle/input/pcos-picture/PCOSGen-train (1)/PCOSGen-train/images/image1169.jpg\n",
      "/kaggle/input/pcos-picture/PCOSGen-train (1)/PCOSGen-train/images/image0934.jpg\n",
      "/kaggle/input/pcos-picture/PCOSGen-train (1)/PCOSGen-train/images/image2687.jpg\n",
      "/kaggle/input/pcos-picture/PCOSGen-train (1)/PCOSGen-train/images/image1861.jpg\n",
      "/kaggle/input/pcos-picture/PCOSGen-train (1)/PCOSGen-train/images/image1655.jpg\n",
      "/kaggle/input/pcos-picture/PCOSGen-train (1)/PCOSGen-train/images/193image31.jpg\n",
      "/kaggle/input/pcos-picture/PCOSGen-train (1)/PCOSGen-train/images/normal_18.jpg\n",
      "/kaggle/input/pcos-picture/PCOSGen-train (1)/PCOSGen-train/images/image0423.jpg\n",
      "/kaggle/input/pcos-picture/PCOSGen-train (1)/PCOSGen-train/images/normal_35.jpg\n",
      "/kaggle/input/pcos-picture/PCOSGen-train (1)/PCOSGen-train/images/image0993.jpg\n",
      "/kaggle/input/pcos-picture/PCOSGen-train (1)/PCOSGen-train/images/image0864.jpg\n",
      "/kaggle/input/pcos-picture/PCOSGen-train (1)/PCOSGen-train/images/image0305.jpg\n",
      "/kaggle/input/pcos-picture/PCOSGen-train (1)/PCOSGen-train/images/image1086.jpg\n",
      "/kaggle/input/pcos-picture/PCOSGen-train (1)/PCOSGen-train/images/image2382.jpg\n",
      "/kaggle/input/pcos-picture/PCOSGen-train (1)/PCOSGen-train/images/163image42.jpg\n",
      "/kaggle/input/pcos-picture/PCOSGen-train (1)/PCOSGen-train/images/image0455.jpg\n",
      "/kaggle/input/pcos-picture/PCOSGen-train (1)/PCOSGen-train/images/image0691.jpg\n",
      "/kaggle/input/pcos-picture/PCOSGen-train (1)/PCOSGen-train/images/image3449.jpg\n",
      "/kaggle/input/pcos-picture/PCOSGen-train (1)/PCOSGen-train/images/97image34.jpg\n",
      "/kaggle/input/pcos-picture/PCOSGen-train (1)/PCOSGen-train/images/48image0.jpg\n",
      "/kaggle/input/pcos-picture/PCOSGen-train (1)/PCOSGen-train/images/image0701.jpg\n",
      "/kaggle/input/pcos-picture/PCOSGen-train (1)/PCOSGen-train/images/image3161.jpg\n",
      "/kaggle/input/pcos-picture/PCOSGen-train (1)/PCOSGen-train/images/image2897.jpg\n",
      "/kaggle/input/pcos-picture/PCOSGen-train (1)/PCOSGen-train/images/image3185.jpg\n",
      "/kaggle/input/pcos-picture/PCOSGen-train (1)/PCOSGen-train/images/image0012.jpg\n",
      "/kaggle/input/pcos-picture/PCOSGen-train (1)/PCOSGen-train/images/image3210.jpg\n",
      "/kaggle/input/pcos-picture/PCOSGen-train (1)/PCOSGen-train/images/image3768.jpg\n",
      "/kaggle/input/pcos-picture/PCOSGen-train (1)/PCOSGen-train/images/image1136.jpg\n",
      "/kaggle/input/pcos-picture/PCOSGen-train (1)/PCOSGen-train/images/normal_39.jpg\n",
      "/kaggle/input/pcos-picture/PCOSGen-train (1)/PCOSGen-train/images/image0652.jpg\n",
      "/kaggle/input/pcos-picture/PCOSGen-train (1)/PCOSGen-train/images/560image1.jpg\n",
      "/kaggle/input/pcos-picture/PCOSGen-train (1)/PCOSGen-train/images/image0442.jpg\n",
      "/kaggle/input/pcos-picture/PCOSGen-train (1)/PCOSGen-train/images/image3289.jpg\n",
      "/kaggle/input/pcos-picture/PCOSGen-train (1)/PCOSGen-train/images/image3770.jpg\n",
      "/kaggle/input/pcos-picture/PCOSGen-train (1)/PCOSGen-train/images/image0699.jpg\n",
      "/kaggle/input/pcos-picture/PCOSGen-train (1)/PCOSGen-train/images/image0291.jpg\n",
      "/kaggle/input/pcos-picture/PCOSGen-train (1)/PCOSGen-train/images/image1607.jpg\n",
      "/kaggle/input/pcos-picture/PCOSGen-train (1)/PCOSGen-train/images/image1224.jpg\n",
      "/kaggle/input/pcos-picture/PCOSGen-train (1)/PCOSGen-train/images/image3493.jpg\n",
      "/kaggle/input/pcos-picture/PCOSGen-train (1)/PCOSGen-train/images/image3402.jpg\n",
      "/kaggle/input/pcos-picture/PCOSGen-train (1)/PCOSGen-train/images/image3746.jpg\n",
      "/kaggle/input/pcos-picture/PCOSGen-train (1)/PCOSGen-train/images/image1490.jpg\n",
      "/kaggle/input/pcos-picture/PCOSGen-train (1)/PCOSGen-train/images/image0364.jpg\n",
      "/kaggle/input/pcos-picture/PCOSGen-train (1)/PCOSGen-train/images/image2961.jpg\n",
      "/kaggle/input/pcos-picture/PCOSGen-train (1)/PCOSGen-train/images/image3558.jpg\n",
      "/kaggle/input/pcos-picture/PCOSGen-train (1)/PCOSGen-train/images/image1194.jpg\n",
      "/kaggle/input/pcos-picture/PCOSGen-train (1)/PCOSGen-train/images/image3357.jpg\n",
      "/kaggle/input/pcos-picture/PCOSGen-train (1)/PCOSGen-train/images/image0601.jpg\n",
      "/kaggle/input/pcos-picture/PCOSGen-train (1)/PCOSGen-train/images/image3707.jpg\n",
      "/kaggle/input/pcos-picture/PCOSGen-train (1)/PCOSGen-train/images/516image16.jpg\n",
      "/kaggle/input/pcos-picture/PCOSGen-train (1)/PCOSGen-train/images/image2988.jpg\n",
      "/kaggle/input/pcos-picture/PCOSGen-train (1)/PCOSGen-train/images/image2611.jpg\n",
      "/kaggle/input/pcos-picture/PCOSGen-train (1)/PCOSGen-train/images/image1290.jpg\n",
      "/kaggle/input/pcos-picture/PCOSGen-train (1)/PCOSGen-train/images/image2930.jpg\n",
      "/kaggle/input/pcos-picture/PCOSGen-train (1)/PCOSGen-train/images/image3036.jpg\n",
      "/kaggle/input/pcos-picture/PCOSGen-train (1)/PCOSGen-train/images/44image0015.jpg\n",
      "/kaggle/input/pcos-picture/PCOSGen-train (1)/PCOSGen-train/images/image2385.jpg\n",
      "/kaggle/input/pcos-picture/PCOSGen-train (1)/PCOSGen-train/images/normal_13.jpg\n",
      "/kaggle/input/pcos-picture/PCOSGen-train (1)/PCOSGen-train/images/image0798.jpg\n",
      "/kaggle/input/pcos-picture/PCOSGen-train (1)/PCOSGen-train/images/image3468.jpg\n",
      "/kaggle/input/pcos-picture/PCOSGen-train (1)/PCOSGen-train/images/image3500.jpg\n",
      "/kaggle/input/pcos-picture/PCOSGen-train (1)/PCOSGen-train/images/image1958.jpg\n",
      "/kaggle/input/pcos-picture/PCOSGen-train (1)/PCOSGen-train/images/image0665.jpg\n",
      "/kaggle/input/pcos-picture/PCOSGen-train (1)/PCOSGen-train/images/image0363.jpg\n",
      "/kaggle/input/pcos-picture/PCOSGen-train (1)/PCOSGen-train/images/image1849.jpg\n",
      "/kaggle/input/pcos-picture/PCOSGen-train (1)/PCOSGen-train/images/90image66.jpg\n",
      "/kaggle/input/pcos-picture/PCOSGen-train (1)/PCOSGen-train/images/image0767.jpg\n",
      "/kaggle/input/pcos-picture/PCOSGen-train (1)/PCOSGen-train/images/image3488.jpg\n",
      "/kaggle/input/pcos-picture/PCOSGen-train (1)/PCOSGen-train/images/normal_34.jpg\n",
      "/kaggle/input/pcos-picture/PCOSGen-train (1)/PCOSGen-train/images/image0118.jpg\n",
      "/kaggle/input/pcos-picture/PCOSGen-train (1)/PCOSGen-train/images/image0339.jpg\n",
      "/kaggle/input/pcos-picture/PCOSGen-train (1)/PCOSGen-train/images/image2947.jpg\n",
      "/kaggle/input/pcos-picture/PCOSGen-train (1)/PCOSGen-train/images/12image51.jpg\n",
      "/kaggle/input/pcos-picture/PCOSGen-train (1)/PCOSGen-train/images/image2995.jpg\n",
      "/kaggle/input/pcos-picture/PCOSGen-train (1)/PCOSGen-train/images/image3642.jpg\n",
      "/kaggle/input/pcos-picture/PCOSGen-train (1)/PCOSGen-train/images/image0884.jpg\n",
      "/kaggle/input/pcos-picture/PCOSGen-train (1)/PCOSGen-train/images/image0285.jpg\n",
      "/kaggle/input/pcos-picture/PCOSGen-train (1)/PCOSGen-train/images/image3096.jpg\n",
      "/kaggle/input/pcos-picture/PCOSGen-train (1)/PCOSGen-train/images/image3422.jpg\n",
      "/kaggle/input/pcos-picture/PCOSGen-train (1)/PCOSGen-train/images/image3800.jpg\n",
      "/kaggle/input/pcos-picture/PCOSGen-train (1)/PCOSGen-train/images/image0595.jpg\n",
      "/kaggle/input/pcos-picture/PCOSGen-train (1)/PCOSGen-train/images/image3300.jpg\n",
      "/kaggle/input/pcos-picture/PCOSGen-train (1)/PCOSGen-train/images/image3600.jpg\n",
      "/kaggle/input/pcos-picture/PCOSGen-train (1)/PCOSGen-train/images/24image44.jpg\n",
      "/kaggle/input/pcos-picture/PCOSGen-train (1)/PCOSGen-train/images/16image55.jpg\n",
      "/kaggle/input/pcos-picture/PCOSGen-train (1)/PCOSGen-train/images/image3601.jpg\n",
      "/kaggle/input/pcos-picture/PCOSGen-train (1)/PCOSGen-train/images/image2085.jpg\n",
      "/kaggle/input/pcos-picture/PCOSGen-train (1)/PCOSGen-train/images/image0735.jpg\n",
      "/kaggle/input/pcos-picture/PCOSGen-train (1)/PCOSGen-train/images/100image71.jpg\n",
      "/kaggle/input/pcos-picture/PCOSGen-train (1)/PCOSGen-train/images/image1395.jpg\n",
      "/kaggle/input/pcos-picture/PCOSGen-train (1)/PCOSGen-train/images/image1696.jpg\n",
      "/kaggle/input/pcos-picture/PCOSGen-train (1)/PCOSGen-train/images/image3361.jpg\n",
      "/kaggle/input/pcos-picture/PCOSGen-train (1)/PCOSGen-train/images/image3504.jpg\n",
      "/kaggle/input/pcos-picture/PCOSGen-train (1)/PCOSGen-train/images/image3195.jpg\n",
      "/kaggle/input/pcos-picture/PCOSGen-train (1)/PCOSGen-train/images/pco_1.jpg\n",
      "/kaggle/input/pcos-picture/PCOSGen-train (1)/PCOSGen-train/images/image2194.jpg\n",
      "/kaggle/input/pcos-picture/PCOSGen-train (1)/PCOSGen-train/images/image0257.jpg\n",
      "/kaggle/input/pcos-picture/PCOSGen-train (1)/PCOSGen-train/images/image0312.jpg\n",
      "/kaggle/input/pcos-picture/PCOSGen-train (1)/PCOSGen-train/images/image3103.jpg\n",
      "/kaggle/input/pcos-picture/PCOSGen-train (1)/PCOSGen-train/images/image3618.jpg\n",
      "/kaggle/input/pcos-picture/PCOSGen-train (1)/PCOSGen-train/images/image0799.jpg\n",
      "/kaggle/input/pcos-picture/PCOSGen-train (1)/PCOSGen-train/images/60image0.jpg\n",
      "/kaggle/input/pcos-picture/PCOSGen-train (1)/PCOSGen-train/images/94image90.jpg\n",
      "/kaggle/input/pcos-picture/PCOSGen-train (1)/PCOSGen-train/images/image3283.jpg\n",
      "/kaggle/input/pcos-picture/PCOSGen-train (1)/PCOSGen-train/images/92image80.jpg\n",
      "/kaggle/input/pcos-picture/PCOSGen-train (1)/PCOSGen-train/images/image3090.jpg\n",
      "/kaggle/input/pcos-picture/PCOSGen-train (1)/PCOSGen-train/images/image0826.jpg\n",
      "/kaggle/input/pcos-picture/PCOSGen-train (1)/PCOSGen-train/images/image1137.jpg\n",
      "/kaggle/input/pcos-picture/PCOSGen-train (1)/PCOSGen-train/images/image3126.jpg\n",
      "/kaggle/input/pcos-picture/PCOSGen-train (1)/PCOSGen-train/images/241image8.jpg\n",
      "/kaggle/input/pcos-picture/PCOSGen-train (1)/PCOSGen-train/images/image0006.jpg\n",
      "/kaggle/input/pcos-picture/PCOSGen-train (1)/PCOSGen-train/images/pco_4.jpg\n",
      "/kaggle/input/pcos-picture/PCOSGen-train (1)/PCOSGen-train/images/164image27.jpg\n",
      "/kaggle/input/pcos-picture/PCOSGen-train (1)/PCOSGen-train/images/image3772.jpg\n",
      "/kaggle/input/pcos-picture/PCOSGen-train (1)/PCOSGen-train/images/image0377.jpg\n",
      "/kaggle/input/pcos-picture/PCOSGen-train (1)/PCOSGen-train/images/image1036.jpg\n",
      "/kaggle/input/pcos-picture/PCOSGen-train (1)/PCOSGen-train/images/158image22.jpg\n",
      "/kaggle/input/pcos-picture/PCOSGen-train (1)/PCOSGen-train/images/177image99.jpg\n",
      "/kaggle/input/pcos-picture/PCOSGen-train (1)/PCOSGen-train/images/image2920.jpg\n",
      "/kaggle/input/pcos-picture/PCOSGen-train (1)/PCOSGen-train/images/501image31.jpg\n",
      "/kaggle/input/pcos-picture/PCOSGen-train (1)/PCOSGen-train/images/image1706.jpg\n",
      "/kaggle/input/pcos-picture/PCOSGen-train (1)/PCOSGen-train/images/image0232.jpg\n",
      "/kaggle/input/pcos-picture/PCOSGen-train (1)/PCOSGen-train/images/image3278.jpg\n",
      "/kaggle/input/pcos-picture/PCOSGen-train (1)/PCOSGen-train/images/image2631.jpg\n",
      "/kaggle/input/pcos-picture/PCOSGen-train (1)/PCOSGen-train/images/image0222.jpg\n",
      "/kaggle/input/pcos-picture/PCOSGen-train (1)/PCOSGen-train/images/189image53.jpg\n",
      "/kaggle/input/pcos-picture/PCOSGen-train (1)/PCOSGen-train/images/image0059.jpg\n",
      "/kaggle/input/pcos-picture/PCOSGen-train (1)/PCOSGen-train/images/image3759.jpg\n",
      "/kaggle/input/pcos-picture/PCOSGen-train (1)/PCOSGen-train/images/image1647.jpg\n",
      "/kaggle/input/pcos-picture/PCOSGen-train (1)/PCOSGen-train/images/image3824.jpg\n",
      "/kaggle/input/pcos-picture/PCOSGen-train (1)/PCOSGen-train/images/image0501.jpg\n",
      "/kaggle/input/pcos-picture/PCOSGen-train (1)/PCOSGen-train/images/image3367.jpg\n",
      "/kaggle/input/pcos-picture/PCOSGen-train (1)/PCOSGen-train/images/image1563.jpg\n",
      "/kaggle/input/pcos-picture/PCOSGen-train (1)/PCOSGen-train/images/image3102.jpg\n",
      "/kaggle/input/pcos-picture/PCOSGen-train (1)/PCOSGen-train/images/image0538.jpg\n",
      "/kaggle/input/pcos-picture/PCOSGen-train (1)/PCOSGen-train/images/image0989.jpg\n",
      "/kaggle/input/pcos-picture/PCOSGen-train (1)/PCOSGen-train/images/image3703.jpg\n",
      "/kaggle/input/pcos-picture/PCOSGen-train (1)/PCOSGen-train/images/image0014.jpg\n",
      "/kaggle/input/pcos-picture/PCOSGen-train (1)/PCOSGen-train/images/image3184.jpg\n",
      "/kaggle/input/pcos-picture/PCOSGen-train (1)/PCOSGen-train/images/188image5.jpg\n",
      "/kaggle/input/pcos-picture/PCOSGen-train (1)/PCOSGen-train/images/17image45.jpg\n",
      "/kaggle/input/pcos-picture/PCOSGen-train (1)/PCOSGen-train/images/image0995.jpg\n",
      "/kaggle/input/pcos-picture/PCOSGen-train (1)/PCOSGen-train/images/image1021.jpg\n",
      "/kaggle/input/pcos-picture/PCOSGen-train (1)/PCOSGen-train/images/image0628.jpg\n",
      "/kaggle/input/pcos-picture/PCOSGen-train (1)/PCOSGen-train/images/image1048.jpg\n",
      "/kaggle/input/pcos-picture/PCOSGen-train (1)/PCOSGen-train/images/image1764.jpg\n",
      "/kaggle/input/pcos-picture/PCOSGen-train (1)/PCOSGen-train/images/image0824.jpg\n",
      "/kaggle/input/pcos-picture/PCOSGen-train (1)/PCOSGen-train/images/image3336.jpg\n",
      "/kaggle/input/pcos-picture/PCOSGen-train (1)/PCOSGen-train/images/image1159.jpg\n",
      "/kaggle/input/pcos-picture/PCOSGen-train (1)/PCOSGen-train/images/image3462.jpg\n",
      "/kaggle/input/pcos-picture/PCOSGen-train (1)/PCOSGen-train/images/image0615.jpg\n",
      "/kaggle/input/pcos-picture/PCOSGen-train (1)/PCOSGen-train/images/image2667.jpg\n",
      "/kaggle/input/pcos-picture/PCOSGen-train (1)/PCOSGen-train/images/91image12.jpg\n",
      "/kaggle/input/pcos-picture/PCOSGen-train (1)/PCOSGen-train/images/90image11.jpg\n",
      "/kaggle/input/pcos-picture/PCOSGen-train (1)/PCOSGen-train/images/60image0075.jpg\n",
      "/kaggle/input/pcos-picture/PCOSGen-train (1)/PCOSGen-train/images/image2952.jpg\n",
      "/kaggle/input/pcos-picture/PCOSGen-train (1)/PCOSGen-train/images/image2689.jpg\n",
      "/kaggle/input/pcos-picture/PCOSGen-train (1)/PCOSGen-train/images/image0246.jpg\n",
      "/kaggle/input/pcos-picture/PCOSGen-train (1)/PCOSGen-train/images/image1031.jpg\n",
      "/kaggle/input/pcos-picture/PCOSGen-train (1)/PCOSGen-train/images/image3284.jpg\n",
      "/kaggle/input/pcos-picture/PCOSGen-train (1)/PCOSGen-train/images/96image92.jpg\n",
      "/kaggle/input/pcos-picture/PCOSGen-train (1)/PCOSGen-train/images/96image45.jpg\n",
      "/kaggle/input/pcos-picture/PCOSGen-train (1)/PCOSGen-train/images/236image9.jpg\n",
      "/kaggle/input/pcos-picture/PCOSGen-train (1)/PCOSGen-train/images/image3637.jpg\n",
      "/kaggle/input/pcos-picture/PCOSGen-train (1)/PCOSGen-train/images/image1867.jpg\n",
      "/kaggle/input/pcos-picture/PCOSGen-train (1)/PCOSGen-train/images/image0053.jpg\n",
      "/kaggle/input/pcos-picture/PCOSGen-train (1)/PCOSGen-train/images/92image1.jpg\n",
      "/kaggle/input/pcos-picture/PCOSGen-train (1)/PCOSGen-train/images/image0886.jpg\n",
      "/kaggle/input/pcos-picture/PCOSGen-train (1)/PCOSGen-train/images/image3690.jpg\n",
      "/kaggle/input/pcos-picture/PCOSGen-train (1)/PCOSGen-train/images/116image29.jpg\n",
      "/kaggle/input/pcos-picture/PCOSGen-train (1)/PCOSGen-train/images/image1037.jpg\n",
      "/kaggle/input/pcos-picture/PCOSGen-train (1)/PCOSGen-train/images/image3330.jpg\n",
      "/kaggle/input/pcos-picture/PCOSGen-train (1)/PCOSGen-train/images/image1164.jpg\n",
      "/kaggle/input/pcos-picture/PCOSGen-train (1)/PCOSGen-train/images/image3796.jpg\n",
      "/kaggle/input/pcos-picture/PCOSGen-train (1)/PCOSGen-train/images/image3755.jpg\n",
      "/kaggle/input/pcos-picture/PCOSGen-train (1)/PCOSGen-train/images/image3132.jpg\n",
      "/kaggle/input/pcos-picture/PCOSGen-train (1)/PCOSGen-train/images/image3313.jpg\n",
      "/kaggle/input/pcos-picture/PCOSGen-train (1)/PCOSGen-train/images/237image22.jpg\n",
      "/kaggle/input/pcos-picture/PCOSGen-train (1)/PCOSGen-train/images/image0060.jpg\n",
      "/kaggle/input/pcos-picture/PCOSGen-train (1)/PCOSGen-train/images/image1964.jpg\n",
      "/kaggle/input/pcos-picture/PCOSGen-train (1)/PCOSGen-train/images/image0627.jpg\n",
      "/kaggle/input/pcos-picture/PCOSGen-train (1)/PCOSGen-train/images/image0821.jpg\n",
      "/kaggle/input/pcos-picture/PCOSGen-train (1)/PCOSGen-train/images/image2061.jpg\n",
      "/kaggle/input/pcos-picture/PCOSGen-train (1)/PCOSGen-train/images/image1917.jpg\n",
      "/kaggle/input/pcos-picture/PCOSGen-train (1)/PCOSGen-train/images/image3163.jpg\n",
      "/kaggle/input/pcos-picture/PCOSGen-train (1)/PCOSGen-train/images/image3789.jpg\n",
      "/kaggle/input/pcos-picture/PCOSGen-train (1)/PCOSGen-train/images/image3750.jpg\n",
      "/kaggle/input/pcos-picture/PCOSGen-train (1)/PCOSGen-train/images/image1122.jpg\n",
      "/kaggle/input/pcos-picture/PCOSGen-train (1)/PCOSGen-train/images/image3479.jpg\n",
      "/kaggle/input/pcos-picture/PCOSGen-train (1)/PCOSGen-train/images/image1381.jpg\n",
      "/kaggle/input/pcos-picture/PCOSGen-train (1)/PCOSGen-train/images/image2873.jpg\n",
      "/kaggle/input/pcos-picture/PCOSGen-train (1)/PCOSGen-train/images/image0451.jpg\n",
      "/kaggle/input/pcos-picture/PCOSGen-train (1)/PCOSGen-train/images/image3795.jpg\n",
      "/kaggle/input/pcos-picture/PCOSGen-train (1)/PCOSGen-train/images/529image9.jpg\n",
      "/kaggle/input/pcos-picture/PCOSGen-train (1)/PCOSGen-train/images/image1947.jpg\n",
      "/kaggle/input/pcos-picture/PCOSGen-train (1)/PCOSGen-train/images/100image87.jpg\n",
      "/kaggle/input/pcos-picture/PCOSGen-train (1)/PCOSGen-train/images/image2429.jpg\n",
      "/kaggle/input/pcos-picture/PCOSGen-train (1)/PCOSGen-train/images/image0579.jpg\n",
      "/kaggle/input/pcos-picture/PCOSGen-train (1)/PCOSGen-train/images/image0097.jpg\n",
      "/kaggle/input/pcos-picture/PCOSGen-train (1)/PCOSGen-train/images/image1162.jpg\n",
      "/kaggle/input/pcos-picture/PCOSGen-train (1)/PCOSGen-train/images/image0210.jpg\n",
      "/kaggle/input/pcos-picture/PCOSGen-train (1)/PCOSGen-train/images/image1812.jpg\n",
      "/kaggle/input/pcos-picture/PCOSGen-train (1)/PCOSGen-train/images/118image62.jpg\n",
      "/kaggle/input/pcos-picture/PCOSGen-train (1)/PCOSGen-train/images/46image10.jpg\n",
      "/kaggle/input/pcos-picture/PCOSGen-train (1)/PCOSGen-train/images/image0962.jpg\n",
      "/kaggle/input/pcos-picture/PCOSGen-train (1)/PCOSGen-train/images/image3840.jpg\n",
      "/kaggle/input/pcos-picture/PCOSGen-train (1)/PCOSGen-train/images/image2464.jpg\n",
      "/kaggle/input/pcos-picture/PCOSGen-train (1)/PCOSGen-train/images/image1120.jpg\n",
      "/kaggle/input/pcos-picture/PCOSGen-train (1)/PCOSGen-train/images/image1802.jpg\n",
      "/kaggle/input/pcos-picture/PCOSGen-train (1)/PCOSGen-train/images/image0515.jpg\n",
      "/kaggle/input/pcos-picture/PCOSGen-train (1)/PCOSGen-train/images/image2719.jpg\n",
      "/kaggle/input/pcos-picture/PCOSGen-train (1)/PCOSGen-train/images/image2668.jpg\n",
      "/kaggle/input/pcos-picture/PCOSGen-train (1)/PCOSGen-train/images/image2397.jpg\n",
      "/kaggle/input/pcos-picture/PCOSGen-train (1)/PCOSGen-train/images/image2647.jpg\n",
      "/kaggle/input/pcos-picture/PCOSGen-train (1)/PCOSGen-train/images/image2934.jpg\n",
      "/kaggle/input/pcos-picture/PCOSGen-train (1)/PCOSGen-train/images/image2831.jpg\n",
      "/kaggle/input/pcos-picture/PCOSGen-train (1)/PCOSGen-train/images/image2562.jpg\n",
      "/kaggle/input/pcos-picture/PCOSGen-train (1)/PCOSGen-train/images/image0259.jpg\n",
      "/kaggle/input/pcos-picture/PCOSGen-train (1)/PCOSGen-train/images/image3308.jpg\n",
      "/kaggle/input/pcos-picture/PCOSGen-train (1)/PCOSGen-train/images/64image0054.jpg\n",
      "/kaggle/input/pcos-picture/PCOSGen-train (1)/PCOSGen-train/images/211image3.jpg\n",
      "/kaggle/input/pcos-picture/PCOSGen-train (1)/PCOSGen-train/images/204image23.jpg\n",
      "/kaggle/input/pcos-picture/PCOSGen-train (1)/PCOSGen-train/images/image0198.jpg\n",
      "/kaggle/input/pcos-picture/PCOSGen-train (1)/PCOSGen-train/images/image3786.jpg\n",
      "/kaggle/input/pcos-picture/PCOSGen-train (1)/PCOSGen-train/images/image3065.jpg\n",
      "/kaggle/input/pcos-picture/PCOSGen-train (1)/PCOSGen-train/images/89image41.jpg\n",
      "/kaggle/input/pcos-picture/PCOSGen-train (1)/PCOSGen-train/images/image2812.jpg\n",
      "/kaggle/input/pcos-picture/PCOSGen-train (1)/PCOSGen-train/images/image3261.jpg\n",
      "/kaggle/input/pcos-picture/PCOSGen-train (1)/PCOSGen-train/images/image0520.jpg\n",
      "/kaggle/input/pcos-picture/PCOSGen-train (1)/PCOSGen-train/images/image3782.jpg\n",
      "/kaggle/input/pcos-picture/PCOSGen-train (1)/PCOSGen-train/images/image1030.jpg\n",
      "/kaggle/input/pcos-picture/PCOSGen-train (1)/PCOSGen-train/images/image0208.jpg\n",
      "/kaggle/input/pcos-picture/PCOSGen-train (1)/PCOSGen-train/images/image3061.jpg\n",
      "/kaggle/input/pcos-picture/PCOSGen-train (1)/PCOSGen-train/images/image1051.jpg\n",
      "/kaggle/input/pcos-picture/PCOSGen-train (1)/PCOSGen-train/images/13image67.jpg\n",
      "/kaggle/input/pcos-picture/PCOSGen-train (1)/PCOSGen-train/images/image0541.jpg\n",
      "/kaggle/input/pcos-picture/PCOSGen-train (1)/PCOSGen-train/images/image3687.jpg\n",
      "/kaggle/input/pcos-picture/PCOSGen-train (1)/PCOSGen-train/images/image3751.jpg\n",
      "/kaggle/input/pcos-picture/PCOSGen-train (1)/PCOSGen-train/images/45image0029.jpg\n",
      "/kaggle/input/pcos-picture/PCOSGen-train (1)/PCOSGen-train/images/image2586.jpg\n",
      "/kaggle/input/pcos-picture/PCOSGen-train (1)/PCOSGen-train/images/image2982.jpg\n",
      "/kaggle/input/pcos-picture/PCOSGen-train (1)/PCOSGen-train/images/image3620.jpg\n",
      "/kaggle/input/pcos-picture/PCOSGen-train (1)/PCOSGen-train/images/image0069.jpg\n",
      "/kaggle/input/pcos-picture/PCOSGen-train (1)/PCOSGen-train/images/image0264.jpg\n",
      "/kaggle/input/pcos-picture/PCOSGen-train (1)/PCOSGen-train/images/image1692.jpg\n",
      "/kaggle/input/pcos-picture/PCOSGen-train (1)/PCOSGen-train/images/image0786.jpg\n",
      "/kaggle/input/pcos-picture/PCOSGen-train (1)/PCOSGen-train/images/image0123.jpg\n",
      "/kaggle/input/pcos-picture/PCOSGen-train (1)/PCOSGen-train/images/image0109.jpg\n",
      "/kaggle/input/pcos-picture/PCOSGen-train (1)/PCOSGen-train/images/image0720.jpg\n",
      "/kaggle/input/pcos-picture/PCOSGen-train (1)/PCOSGen-train/images/image0623.jpg\n",
      "/kaggle/input/pcos-picture/PCOSGen-train (1)/PCOSGen-train/images/image0949.jpg\n",
      "/kaggle/input/pcos-picture/PCOSGen-train (1)/PCOSGen-train/images/image2726.jpg\n",
      "/kaggle/input/pcos-picture/PCOSGen-train (1)/PCOSGen-train/images/image0596.jpg\n",
      "/kaggle/input/pcos-picture/PCOSGen-train (1)/PCOSGen-train/images/image3799.jpg\n",
      "/kaggle/input/pcos-picture/PCOSGen-train (1)/PCOSGen-train/images/image2708.jpg\n",
      "/kaggle/input/pcos-picture/PCOSGen-train (1)/PCOSGen-train/images/image0411.jpg\n",
      "/kaggle/input/pcos-picture/PCOSGen-train (1)/PCOSGen-train/images/image3803.jpg\n",
      "/kaggle/input/pcos-picture/PCOSGen-train (1)/PCOSGen-train/images/image3326.jpg\n",
      "/kaggle/input/pcos-picture/PCOSGen-train (1)/PCOSGen-train/images/image3258.jpg\n",
      "/kaggle/input/pcos-picture/PCOSGen-train (1)/PCOSGen-train/images/image0498.jpg\n",
      "/kaggle/input/pcos-picture/PCOSGen-train (1)/PCOSGen-train/images/image0061.jpg\n",
      "/kaggle/input/pcos-picture/PCOSGen-train (1)/PCOSGen-train/images/image2680.jpg\n",
      "/kaggle/input/pcos-picture/PCOSGen-train (1)/PCOSGen-train/images/image1052.jpg\n",
      "/kaggle/input/pcos-picture/PCOSGen-train (1)/PCOSGen-train/images/image3146.jpg\n",
      "/kaggle/input/pcos-picture/PCOSGen-train (1)/PCOSGen-train/images/image0883.jpg\n",
      "/kaggle/input/pcos-picture/PCOSGen-train (1)/PCOSGen-train/images/89image14.jpg\n",
      "/kaggle/input/pcos-picture/PCOSGen-train (1)/PCOSGen-train/images/image0329.jpg\n",
      "/kaggle/input/pcos-picture/PCOSGen-train (1)/PCOSGen-train/images/image1099.jpg\n",
      "/kaggle/input/pcos-picture/PCOSGen-train (1)/PCOSGen-train/images/132image4.jpg\n",
      "/kaggle/input/pcos-picture/PCOSGen-train (1)/PCOSGen-train/images/image0715.jpg\n",
      "/kaggle/input/pcos-picture/PCOSGen-train (1)/PCOSGen-train/images/image3051.jpg\n",
      "/kaggle/input/pcos-picture/PCOSGen-train (1)/PCOSGen-train/images/image0360.jpg\n",
      "/kaggle/input/pcos-picture/PCOSGen-train (1)/PCOSGen-train/images/image2087.jpg\n",
      "/kaggle/input/pcos-picture/PCOSGen-train (1)/PCOSGen-train/images/image0869.jpg\n",
      "/kaggle/input/pcos-picture/PCOSGen-train (1)/PCOSGen-train/images/image3089.jpg\n",
      "/kaggle/input/pcos-picture/PCOSGen-train (1)/PCOSGen-train/images/image0697.jpg\n",
      "/kaggle/input/pcos-picture/PCOSGen-train (1)/PCOSGen-train/images/image3209.jpg\n",
      "/kaggle/input/pcos-picture/PCOSGen-train (1)/PCOSGen-train/images/83image0073.jpg\n",
      "/kaggle/input/pcos-picture/PCOSGen-train (1)/PCOSGen-train/images/image0689.jpg\n",
      "/kaggle/input/pcos-picture/PCOSGen-train (1)/PCOSGen-train/images/image0779.jpg\n",
      "/kaggle/input/pcos-picture/PCOSGen-train (1)/PCOSGen-train/images/image1006.jpg\n",
      "/kaggle/input/pcos-picture/PCOSGen-train (1)/PCOSGen-train/images/image3670.jpg\n",
      "/kaggle/input/pcos-picture/PCOSGen-train (1)/PCOSGen-train/images/image3587.jpg\n",
      "/kaggle/input/pcos-picture/PCOSGen-train (1)/PCOSGen-train/images/image3454.jpg\n",
      "/kaggle/input/pcos-picture/PCOSGen-train (1)/PCOSGen-train/images/image3769.jpg\n",
      "/kaggle/input/pcos-picture/PCOSGen-train (1)/PCOSGen-train/images/99image37.jpg\n",
      "/kaggle/input/pcos-picture/PCOSGen-train (1)/PCOSGen-train/images/image3812.jpg\n",
      "/kaggle/input/pcos-picture/PCOSGen-train (1)/PCOSGen-train/images/image3654.jpg\n",
      "/kaggle/input/pcos-picture/PCOSGen-train (1)/PCOSGen-train/images/image1039.jpg\n",
      "/kaggle/input/pcos-picture/PCOSGen-train (1)/PCOSGen-train/images/image3192.jpg\n",
      "/kaggle/input/pcos-picture/PCOSGen-train (1)/PCOSGen-train/images/image3140.jpg\n",
      "/kaggle/input/pcos-picture/PCOSGen-train (1)/PCOSGen-train/images/111image43.jpg\n",
      "/kaggle/input/pcos-picture/PCOSGen-train (1)/PCOSGen-train/images/image0428.jpg\n",
      "/kaggle/input/pcos-picture/PCOSGen-train (1)/PCOSGen-train/images/89image0093.jpg\n",
      "/kaggle/input/pcos-picture/PCOSGen-train (1)/PCOSGen-train/images/image2184.jpg\n",
      "/kaggle/input/pcos-picture/PCOSGen-train (1)/PCOSGen-train/images/image1112.jpg\n",
      "/kaggle/input/pcos-picture/PCOSGen-train (1)/PCOSGen-train/images/170image38.jpg\n",
      "/kaggle/input/pcos-picture/PCOSGen-train (1)/PCOSGen-train/images/image2384.jpg\n",
      "/kaggle/input/pcos-picture/PCOSGen-train (1)/PCOSGen-train/images/image1221.jpg\n",
      "/kaggle/input/pcos-picture/PCOSGen-train (1)/PCOSGen-train/images/image2190.jpg\n",
      "/kaggle/input/pcos-picture/PCOSGen-train (1)/PCOSGen-train/images/image3100.jpg\n",
      "/kaggle/input/pcos-picture/PCOSGen-train (1)/PCOSGen-train/images/260image33.jpg\n",
      "/kaggle/input/pcos-picture/PCOSGen-train (1)/PCOSGen-train/images/2image3.jpg\n",
      "/kaggle/input/pcos-picture/PCOSGen-train (1)/PCOSGen-train/images/image0769.jpg\n",
      "/kaggle/input/pcos-picture/PCOSGen-train (1)/PCOSGen-train/images/image2787.jpg\n",
      "/kaggle/input/pcos-picture/PCOSGen-train (1)/PCOSGen-train/images/image0359.jpg\n",
      "/kaggle/input/pcos-picture/PCOSGen-train (1)/PCOSGen-train/images/image0961.jpg\n",
      "/kaggle/input/pcos-picture/PCOSGen-train (1)/PCOSGen-train/images/image2767.jpg\n",
      "/kaggle/input/pcos-picture/PCOSGen-train (1)/PCOSGen-train/images/image2457.jpg\n",
      "/kaggle/input/pcos-picture/PCOSGen-train (1)/PCOSGen-train/images/image0453.jpg\n",
      "/kaggle/input/pcos-picture/PCOSGen-train (1)/PCOSGen-train/images/image3048.jpg\n",
      "/kaggle/input/pcos-picture/PCOSGen-train (1)/PCOSGen-train/images/normal_31.jpg\n",
      "/kaggle/input/pcos-picture/PCOSGen-train (1)/PCOSGen-train/images/normal_15.jpg\n",
      "/kaggle/input/pcos-picture/PCOSGen-train (1)/PCOSGen-train/images/image3298.jpg\n",
      "/kaggle/input/pcos-picture/PCOSGen-train (1)/PCOSGen-train/images/image3634.jpg\n",
      "/kaggle/input/pcos-picture/PCOSGen-train (1)/PCOSGen-train/images/image3382.jpg\n",
      "/kaggle/input/pcos-picture/PCOSGen-train (1)/PCOSGen-train/images/image0752.jpg\n",
      "/kaggle/input/pcos-picture/PCOSGen-train (1)/PCOSGen-train/images/image0997.jpg\n",
      "/kaggle/input/pcos-picture/PCOSGen-train (1)/PCOSGen-train/images/image1138.jpg\n",
      "/kaggle/input/pcos-picture/PCOSGen-train (1)/PCOSGen-train/images/image3821.jpg\n",
      "/kaggle/input/pcos-picture/PCOSGen-train (1)/PCOSGen-train/images/image2894.jpg\n",
      "/kaggle/input/pcos-picture/PCOSGen-train (1)/PCOSGen-train/images/image1560.jpg\n",
      "/kaggle/input/pcos-picture/PCOSGen-train (1)/PCOSGen-train/images/146image18.jpg\n",
      "/kaggle/input/pcos-picture/PCOSGen-train (1)/PCOSGen-train/images/image0244.jpg\n",
      "/kaggle/input/pcos-picture/PCOSGen-train (1)/PCOSGen-train/images/image2942.jpg\n",
      "/kaggle/input/pcos-picture/PCOSGen-train (1)/PCOSGen-train/images/image2560.jpg\n",
      "/kaggle/input/pcos-picture/PCOSGen-train (1)/PCOSGen-train/images/image2796.jpg\n",
      "/kaggle/input/pcos-picture/PCOSGen-train (1)/PCOSGen-train/images/image0839.jpg\n",
      "/kaggle/input/pcos-picture/PCOSGen-train (1)/PCOSGen-train/images/image1010.jpg\n",
      "/kaggle/input/pcos-picture/PCOSGen-train (1)/PCOSGen-train/images/image3666.jpg\n",
      "/kaggle/input/pcos-picture/PCOSGen-train (1)/PCOSGen-train/images/518image25.jpg\n",
      "/kaggle/input/pcos-picture/PCOSGen-train (1)/PCOSGen-train/images/image3801.jpg\n",
      "/kaggle/input/pcos-picture/PCOSGen-train (1)/PCOSGen-train/images/image1907.jpg\n",
      "/kaggle/input/pcos-picture/PCOSGen-train (1)/PCOSGen-train/images/image1646.jpg\n",
      "/kaggle/input/pcos-picture/PCOSGen-train (1)/PCOSGen-train/images/image1918.jpg\n",
      "/kaggle/input/pcos-picture/PCOSGen-train (1)/PCOSGen-train/images/image2083.jpg\n",
      "/kaggle/input/pcos-picture/PCOSGen-train (1)/PCOSGen-train/images/image0421.jpg\n",
      "/kaggle/input/pcos-picture/PCOSGen-train (1)/PCOSGen-train/images/image1956.jpg\n",
      "/kaggle/input/pcos-picture/PCOSGen-train (1)/PCOSGen-train/images/image1643.jpg\n",
      "/kaggle/input/pcos-picture/PCOSGen-train (1)/PCOSGen-train/images/image0095.jpg\n",
      "/kaggle/input/pcos-picture/PCOSGen-train (1)/PCOSGen-train/images/image0899.jpg\n",
      "/kaggle/input/pcos-picture/PCOSGen-train (1)/PCOSGen-train/images/image0805.jpg\n",
      "/kaggle/input/pcos-picture/PCOSGen-train (1)/PCOSGen-train/images/image2955.jpg\n",
      "/kaggle/input/pcos-picture/PCOSGen-train (1)/PCOSGen-train/images/109image0089.jpg\n",
      "/kaggle/input/pcos-picture/PCOSGen-train (1)/PCOSGen-train/images/image0780.jpg\n",
      "/kaggle/input/pcos-picture/PCOSGen-train (1)/PCOSGen-train/images/image0616.jpg\n",
      "/kaggle/input/pcos-picture/PCOSGen-train (1)/PCOSGen-train/images/image1634.jpg\n",
      "/kaggle/input/pcos-picture/PCOSGen-train (1)/PCOSGen-train/images/585image4.jpg\n",
      "/kaggle/input/pcos-picture/PCOSGen-train (1)/PCOSGen-train/images/image2837.jpg\n",
      "/kaggle/input/pcos-picture/PCOSGen-train (1)/PCOSGen-train/images/96image0.jpg\n",
      "/kaggle/input/pcos-picture/PCOSGen-train (1)/PCOSGen-train/images/117image33.jpg\n",
      "/kaggle/input/pcos-picture/PCOSGen-train (1)/PCOSGen-train/images/image3611.jpg\n",
      "/kaggle/input/pcos-picture/PCOSGen-train (1)/PCOSGen-train/images/image0065.jpg\n",
      "/kaggle/input/pcos-picture/PCOSGen-train (1)/PCOSGen-train/images/image1688.jpg\n",
      "/kaggle/input/pcos-picture/PCOSGen-train (1)/PCOSGen-train/images/image3606.jpg\n",
      "/kaggle/input/pcos-picture/PCOSGen-train (1)/PCOSGen-train/images/image3141.jpg\n",
      "/kaggle/input/pcos-picture/PCOSGen-train (1)/PCOSGen-train/images/image0269.jpg\n",
      "/kaggle/input/pcos-picture/PCOSGen-train (1)/PCOSGen-train/images/image3242.jpg\n",
      "/kaggle/input/pcos-picture/PCOSGen-train (1)/PCOSGen-train/images/image3364.jpg\n",
      "/kaggle/input/pcos-picture/PCOSGen-train (1)/PCOSGen-train/images/image0492.jpg\n",
      "/kaggle/input/pcos-picture/PCOSGen-train (1)/PCOSGen-train/images/96image9.jpg\n",
      "/kaggle/input/pcos-picture/PCOSGen-train (1)/PCOSGen-train/images/image0105.jpg\n",
      "/kaggle/input/pcos-picture/PCOSGen-train (1)/PCOSGen-train/images/image0923.jpg\n",
      "/kaggle/input/pcos-picture/PCOSGen-train (1)/PCOSGen-train/images/image2921.jpg\n",
      "/kaggle/input/pcos-picture/PCOSGen-train (1)/PCOSGen-train/images/image1092.jpg\n",
      "/kaggle/input/pcos-picture/PCOSGen-train (1)/PCOSGen-train/images/image3385.jpg\n",
      "/kaggle/input/pcos-picture/PCOSGen-train (1)/PCOSGen-train/images/normal_24.jpg\n",
      "/kaggle/input/pcos-picture/PCOSGen-train (1)/PCOSGen-train/images/141image0125.jpg\n",
      "/kaggle/input/pcos-picture/PCOSGen-train (1)/PCOSGen-train/images/image0920.jpg\n",
      "/kaggle/input/pcos-picture/PCOSGen-train (1)/PCOSGen-train/images/image3651.jpg\n",
      "/kaggle/input/pcos-picture/PCOSGen-train (1)/PCOSGen-train/images/image2986.jpg\n",
      "/kaggle/input/pcos-picture/PCOSGen-train (1)/PCOSGen-train/images/image1011.jpg\n",
      "/kaggle/input/pcos-picture/PCOSGen-train (1)/PCOSGen-train/images/image1712.jpg\n",
      "/kaggle/input/pcos-picture/PCOSGen-train (1)/PCOSGen-train/images/image0201.jpg\n",
      "/kaggle/input/pcos-picture/PCOSGen-train (1)/PCOSGen-train/images/pco_12.jpg\n",
      "/kaggle/input/pcos-picture/PCOSGen-train (1)/PCOSGen-train/images/217image4.jpg\n",
      "/kaggle/input/pcos-picture/PCOSGen-train (1)/PCOSGen-train/images/182image75.jpg\n",
      "/kaggle/input/pcos-picture/PCOSGen-train (1)/PCOSGen-train/images/image3762.jpg\n",
      "/kaggle/input/pcos-picture/PCOSGen-train (1)/PCOSGen-train/images/image3183.jpg\n",
      "/kaggle/input/pcos-picture/PCOSGen-train (1)/PCOSGen-train/images/image1032.jpg\n",
      "/kaggle/input/pcos-picture/PCOSGen-train (1)/PCOSGen-train/images/image0355.jpg\n",
      "/kaggle/input/pcos-picture/PCOSGen-train (1)/PCOSGen-train/images/image0220.jpg\n",
      "/kaggle/input/pcos-picture/PCOSGen-train (1)/PCOSGen-train/images/image3578.jpg\n",
      "/kaggle/input/pcos-picture/PCOSGen-train (1)/PCOSGen-train/images/image1686.jpg\n",
      "/kaggle/input/pcos-picture/PCOSGen-train (1)/PCOSGen-train/images/image0400.jpg\n",
      "/kaggle/input/pcos-picture/PCOSGen-train (1)/PCOSGen-train/images/535image32.jpg\n",
      "/kaggle/input/pcos-picture/PCOSGen-train (1)/PCOSGen-train/images/image0700.jpg\n",
      "/kaggle/input/pcos-picture/PCOSGen-train (1)/PCOSGen-train/images/571image21.jpg\n",
      "/kaggle/input/pcos-picture/PCOSGen-train (1)/PCOSGen-train/images/image3521.jpg\n",
      "/kaggle/input/pcos-picture/PCOSGen-train (1)/PCOSGen-train/images/image1938.jpg\n",
      "/kaggle/input/pcos-picture/PCOSGen-train (1)/PCOSGen-train/images/116image81.jpg\n",
      "/kaggle/input/pcos-picture/PCOSGen-train (1)/PCOSGen-train/images/190image4.jpg\n",
      "/kaggle/input/pcos-picture/PCOSGen-train (1)/PCOSGen-train/images/image3087.jpg\n",
      "/kaggle/input/pcos-picture/PCOSGen-train (1)/PCOSGen-train/images/image3660.jpg\n",
      "/kaggle/input/pcos-picture/PCOSGen-train (1)/PCOSGen-train/images/image1026.jpg\n",
      "/kaggle/input/pcos-picture/PCOSGen-train (1)/PCOSGen-train/images/image3817.jpg\n",
      "/kaggle/input/pcos-picture/PCOSGen-train (1)/PCOSGen-train/images/image3252.jpg\n",
      "/kaggle/input/pcos-picture/PCOSGen-train (1)/PCOSGen-train/images/image3123.jpg\n",
      "/kaggle/input/pcos-picture/PCOSGen-train (1)/PCOSGen-train/images/image1856.jpg\n",
      "/kaggle/input/pcos-picture/PCOSGen-train (1)/PCOSGen-train/images/image2596.jpg\n",
      "/kaggle/input/pcos-picture/PCOSGen-train (1)/PCOSGen-train/images/image2814.jpg\n",
      "/kaggle/input/pcos-picture/PCOSGen-train (1)/PCOSGen-train/images/image1832.jpg\n",
      "/kaggle/input/pcos-picture/PCOSGen-train (1)/PCOSGen-train/images/148image34.jpg\n",
      "/kaggle/input/pcos-picture/PCOSGen-train (1)/PCOSGen-train/images/image3253.jpg\n",
      "/kaggle/input/pcos-picture/PCOSGen-train (1)/PCOSGen-train/images/image0555.jpg\n",
      "/kaggle/input/pcos-picture/PCOSGen-train (1)/PCOSGen-train/images/image3225.jpg\n",
      "/kaggle/input/pcos-picture/PCOSGen-train (1)/PCOSGen-train/images/image1800.jpg\n",
      "/kaggle/input/pcos-picture/PCOSGen-train (1)/PCOSGen-train/images/image1948.jpg\n",
      "/kaggle/input/pcos-picture/PCOSGen-train (1)/PCOSGen-train/images/image3738.jpg\n",
      "/kaggle/input/pcos-picture/PCOSGen-train (1)/PCOSGen-train/images/image2987.jpg\n",
      "/kaggle/input/pcos-picture/PCOSGen-train (1)/PCOSGen-train/images/image0353.jpg\n",
      "/kaggle/input/pcos-picture/PCOSGen-train (1)/PCOSGen-train/images/image3450.jpg\n",
      "/kaggle/input/pcos-picture/PCOSGen-train (1)/PCOSGen-train/images/image1474.jpg\n",
      "/kaggle/input/pcos-picture/PCOSGen-train (1)/PCOSGen-train/images/image1649.jpg\n",
      "/kaggle/input/pcos-picture/PCOSGen-train (1)/PCOSGen-train/images/image3646.jpg\n",
      "/kaggle/input/pcos-picture/PCOSGen-train (1)/PCOSGen-train/images/image3196.jpg\n",
      "/kaggle/input/pcos-picture/PCOSGen-train (1)/PCOSGen-train/images/image3011.jpg\n",
      "/kaggle/input/pcos-picture/PCOSGen-train (1)/PCOSGen-train/images/image0587.jpg\n",
      "/kaggle/input/pcos-picture/PCOSGen-train (1)/PCOSGen-train/images/image0320.jpg\n",
      "/kaggle/input/pcos-picture/PCOSGen-train (1)/PCOSGen-train/images/46image0031.jpg\n",
      "/kaggle/input/pcos-picture/PCOSGen-train (1)/PCOSGen-train/images/image1953.jpg\n",
      "/kaggle/input/pcos-picture/PCOSGen-train (1)/PCOSGen-train/images/image1891.jpg\n",
      "/kaggle/input/pcos-picture/PCOSGen-train (1)/PCOSGen-train/images/image0526.jpg\n",
      "/kaggle/input/pcos-picture/PCOSGen-train (1)/PCOSGen-train/images/image0600.jpg\n",
      "/kaggle/input/pcos-picture/PCOSGen-train (1)/PCOSGen-train/images/image2599.jpg\n",
      "/kaggle/input/pcos-picture/PCOSGen-train (1)/PCOSGen-train/images/image3648.jpg\n",
      "/kaggle/input/pcos-picture/PCOSGen-train (1)/PCOSGen-train/images/image2802.jpg\n",
      "/kaggle/input/pcos-picture/PCOSGen-train (1)/PCOSGen-train/images/image0902.jpg\n",
      "/kaggle/input/pcos-picture/PCOSGen-train (1)/PCOSGen-train/images/image0938.jpg\n",
      "/kaggle/input/pcos-picture/PCOSGen-train (1)/PCOSGen-train/images/image2369.jpg\n",
      "/kaggle/input/pcos-picture/PCOSGen-train (1)/PCOSGen-train/images/297image28.jpg\n",
      "/kaggle/input/pcos-picture/PCOSGen-train (1)/PCOSGen-train/images/image1018.jpg\n",
      "/kaggle/input/pcos-picture/PCOSGen-train (1)/PCOSGen-train/images/image1097.jpg\n",
      "/kaggle/input/pcos-picture/PCOSGen-train (1)/PCOSGen-train/images/image3281.jpg\n",
      "/kaggle/input/pcos-picture/PCOSGen-train (1)/PCOSGen-train/images/image3317.jpg\n",
      "/kaggle/input/pcos-picture/PCOSGen-train (1)/PCOSGen-train/images/86image1.jpg\n",
      "/kaggle/input/pcos-picture/PCOSGen-train (1)/PCOSGen-train/images/image2172.jpg\n",
      "/kaggle/input/pcos-picture/PCOSGen-train (1)/PCOSGen-train/images/image3340.jpg\n",
      "/kaggle/input/pcos-picture/PCOSGen-train (1)/PCOSGen-train/images/image0737.jpg\n",
      "/kaggle/input/pcos-picture/PCOSGen-train (1)/PCOSGen-train/images/image3455.jpg\n",
      "/kaggle/input/pcos-picture/PCOSGen-train (1)/PCOSGen-train/images/image0315.jpg\n",
      "/kaggle/input/pcos-picture/PCOSGen-train (1)/PCOSGen-train/images/98image16.jpg\n",
      "/kaggle/input/pcos-picture/PCOSGen-train (1)/PCOSGen-train/images/image3370.jpg\n",
      "/kaggle/input/pcos-picture/PCOSGen-train (1)/PCOSGen-train/images/image0114.jpg\n",
      "/kaggle/input/pcos-picture/PCOSGen-train (1)/PCOSGen-train/images/normal_3.jpg\n",
      "/kaggle/input/pcos-picture/PCOSGen-train (1)/PCOSGen-train/images/151image36.jpg\n",
      "/kaggle/input/pcos-picture/PCOSGen-train (1)/PCOSGen-train/images/image3582.jpg\n",
      "/kaggle/input/pcos-picture/PCOSGen-train (1)/PCOSGen-train/images/image0203.jpg\n",
      "/kaggle/input/pcos-picture/PCOSGen-train (1)/PCOSGen-train/images/image1916.jpg\n",
      "/kaggle/input/pcos-picture/PCOSGen-train (1)/PCOSGen-train/images/image2374.jpg\n",
      "/kaggle/input/pcos-picture/PCOSGen-train (1)/PCOSGen-train/images/image3519.jpg\n",
      "/kaggle/input/pcos-picture/PCOSGen-train (1)/PCOSGen-train/images/image0667.jpg\n",
      "/kaggle/input/pcos-picture/PCOSGen-train (1)/PCOSGen-train/images/image3550.jpg\n",
      "/kaggle/input/pcos-picture/PCOSGen-train (1)/PCOSGen-train/images/image3775.jpg\n",
      "/kaggle/input/pcos-picture/PCOSGen-train (1)/PCOSGen-train/images/image1168.jpg\n",
      "/kaggle/input/pcos-picture/PCOSGen-train (1)/PCOSGen-train/images/image2711.jpg\n",
      "/kaggle/input/pcos-picture/PCOSGen-train (1)/PCOSGen-train/images/image1084.jpg\n",
      "/kaggle/input/pcos-picture/PCOSGen-train (1)/PCOSGen-train/images/image3217.jpg\n",
      "/kaggle/input/pcos-picture/PCOSGen-train (1)/PCOSGen-train/images/image1093.jpg\n",
      "/kaggle/input/pcos-picture/PCOSGen-train (1)/PCOSGen-train/images/image2914.jpg\n",
      "/kaggle/input/pcos-picture/PCOSGen-train (1)/PCOSGen-train/images/image3552.jpg\n",
      "/kaggle/input/pcos-picture/PCOSGen-train (1)/PCOSGen-train/images/image3188.jpg\n",
      "/kaggle/input/pcos-picture/PCOSGen-train (1)/PCOSGen-train/images/27image52.jpg\n",
      "/kaggle/input/pcos-picture/PCOSGen-train (1)/PCOSGen-train/images/image1635.jpg\n",
      "/kaggle/input/pcos-picture/PCOSGen-train (1)/PCOSGen-train/images/256image24.jpg\n",
      "/kaggle/input/pcos-picture/PCOSGen-train (1)/PCOSGen-train/images/image0710.jpg\n",
      "/kaggle/input/pcos-picture/PCOSGen-train (1)/PCOSGen-train/images/image3663.jpg\n",
      "/kaggle/input/pcos-picture/PCOSGen-train (1)/PCOSGen-train/images/image3486.jpg\n",
      "/kaggle/input/pcos-picture/PCOSGen-train (1)/PCOSGen-train/images/image1199.jpg\n",
      "/kaggle/input/pcos-picture/PCOSGen-train (1)/PCOSGen-train/images/image0890.jpg\n",
      "/kaggle/input/pcos-picture/PCOSGen-train (1)/PCOSGen-train/images/2481image8.jpg\n",
      "/kaggle/input/pcos-picture/PCOSGen-train (1)/PCOSGen-train/images/195image79.jpg\n",
      "/kaggle/input/pcos-picture/PCOSGen-train (1)/PCOSGen-train/images/image3394.jpg\n",
      "/kaggle/input/pcos-picture/PCOSGen-train (1)/PCOSGen-train/images/41image0006.jpg\n",
      "/kaggle/input/pcos-picture/PCOSGen-train (1)/PCOSGen-train/images/10image65.jpg\n",
      "/kaggle/input/pcos-picture/PCOSGen-train (1)/PCOSGen-train/images/image3194.jpg\n",
      "/kaggle/input/pcos-picture/PCOSGen-train (1)/PCOSGen-train/images/63image0103.jpg\n",
      "/kaggle/input/pcos-picture/PCOSGen-train (1)/PCOSGen-train/images/image1937.jpg\n",
      "/kaggle/input/pcos-picture/PCOSGen-train (1)/PCOSGen-train/images/image2116.jpg\n",
      "/kaggle/input/pcos-picture/PCOSGen-train (1)/PCOSGen-train/images/image0873.jpg\n",
      "/kaggle/input/pcos-picture/PCOSGen-train (1)/PCOSGen-train/images/image2435.jpg\n",
      "/kaggle/input/pcos-picture/PCOSGen-train (1)/PCOSGen-train/images/image0343.jpg\n",
      "/kaggle/input/pcos-picture/PCOSGen-train (1)/PCOSGen-train/images/image2906.jpg\n",
      "/kaggle/input/pcos-picture/PCOSGen-train (1)/PCOSGen-train/images/62image9.jpg\n",
      "/kaggle/input/pcos-picture/PCOSGen-train (1)/PCOSGen-train/images/image0282.jpg\n",
      "/kaggle/input/pcos-picture/PCOSGen-train (1)/PCOSGen-train/images/image2879.jpg\n",
      "/kaggle/input/pcos-picture/PCOSGen-train (1)/PCOSGen-train/images/151image55.jpg\n",
      "/kaggle/input/pcos-picture/PCOSGen-train (1)/PCOSGen-train/images/image2940.jpg\n",
      "/kaggle/input/pcos-picture/PCOSGen-train (1)/PCOSGen-train/images/image0509.jpg\n",
      "/kaggle/input/pcos-picture/PCOSGen-train (1)/PCOSGen-train/images/image3491.jpg\n",
      "/kaggle/input/pcos-picture/PCOSGen-train (1)/PCOSGen-train/images/232image1.jpg\n",
      "/kaggle/input/pcos-picture/PCOSGen-train (1)/PCOSGen-train/images/normal_36.jpg\n",
      "/kaggle/input/pcos-picture/PCOSGen-train (1)/PCOSGen-train/images/image2684.jpg\n",
      "/kaggle/input/pcos-picture/PCOSGen-train (1)/PCOSGen-train/images/image3363.jpg\n",
      "/kaggle/input/pcos-picture/PCOSGen-train (1)/PCOSGen-train/images/image1142.jpg\n",
      "/kaggle/input/pcos-picture/PCOSGen-train (1)/PCOSGen-train/images/image1198.jpg\n",
      "/kaggle/input/pcos-picture/PCOSGen-train (1)/PCOSGen-train/images/93image3.jpg\n",
      "/kaggle/input/pcos-picture/PCOSGen-train (1)/PCOSGen-train/images/107image34.jpg\n",
      "/kaggle/input/pcos-picture/PCOSGen-train (1)/PCOSGen-train/images/image3271.jpg\n",
      "/kaggle/input/pcos-picture/PCOSGen-train (1)/PCOSGen-train/images/12image0000.jpg\n",
      "/kaggle/input/pcos-picture/PCOSGen-train (1)/PCOSGen-train/images/image1278.jpg\n",
      "/kaggle/input/pcos-picture/PCOSGen-train (1)/PCOSGen-train/images/image0586.jpg\n",
      "/kaggle/input/pcos-picture/PCOSGen-train (1)/PCOSGen-train/images/image2637.jpg\n",
      "/kaggle/input/pcos-picture/PCOSGen-train (1)/PCOSGen-train/images/image3823.jpg\n",
      "/kaggle/input/pcos-picture/PCOSGen-train (1)/PCOSGen-train/images/image3124.jpg\n",
      "/kaggle/input/pcos-picture/PCOSGen-train (1)/PCOSGen-train/images/image2917.jpg\n",
      "/kaggle/input/pcos-picture/PCOSGen-train (1)/PCOSGen-train/images/1779image22.jpg\n",
      "/kaggle/input/pcos-picture/PCOSGen-train (1)/PCOSGen-train/images/image2818.jpg\n",
      "/kaggle/input/pcos-picture/PCOSGen-train (1)/PCOSGen-train/images/image0889.jpg\n",
      "/kaggle/input/pcos-picture/PCOSGen-train (1)/PCOSGen-train/images/image0200.jpg\n",
      "/kaggle/input/pcos-picture/PCOSGen-train (1)/PCOSGen-train/images/image0209.jpg\n",
      "/kaggle/input/pcos-picture/PCOSGen-train (1)/PCOSGen-train/images/image0560.jpg\n",
      "/kaggle/input/pcos-picture/PCOSGen-train (1)/PCOSGen-train/images/image1584.jpg\n",
      "/kaggle/input/pcos-picture/PCOSGen-train (1)/PCOSGen-train/images/image2720.jpg\n",
      "/kaggle/input/pcos-picture/PCOSGen-train (1)/PCOSGen-train/images/image3668.jpg\n",
      "/kaggle/input/pcos-picture/PCOSGen-train (1)/PCOSGen-train/images/image2648.jpg\n",
      "/kaggle/input/pcos-picture/PCOSGen-train (1)/PCOSGen-train/images/image3736.jpg\n",
      "/kaggle/input/pcos-picture/PCOSGen-train (1)/PCOSGen-train/images/image0537.jpg\n",
      "/kaggle/input/pcos-picture/PCOSGen-train (1)/PCOSGen-train/images/normal_6.jpg\n",
      "/kaggle/input/pcos-picture/PCOSGen-train (1)/PCOSGen-train/images/image3304.jpg\n",
      "/kaggle/input/pcos-picture/PCOSGen-train (1)/PCOSGen-train/images/image0916.jpg\n",
      "/kaggle/input/pcos-picture/PCOSGen-train (1)/PCOSGen-train/images/image3325.jpg\n",
      "/kaggle/input/pcos-picture/PCOSGen-train (1)/PCOSGen-train/images/image1660.jpg\n",
      "/kaggle/input/pcos-picture/PCOSGen-train (1)/PCOSGen-train/images/image2660.jpg\n",
      "/kaggle/input/pcos-picture/PCOSGen-train (1)/PCOSGen-train/images/image3617.jpg\n",
      "/kaggle/input/pcos-picture/PCOSGen-train (1)/PCOSGen-train/images/image3767.jpg\n",
      "/kaggle/input/pcos-picture/PCOSGen-train (1)/PCOSGen-train/images/image1089.jpg\n",
      "/kaggle/input/pcos-picture/PCOSGen-train (1)/PCOSGen-train/images/image3010.jpg\n",
      "/kaggle/input/pcos-picture/PCOSGen-train (1)/PCOSGen-train/images/image3256.jpg\n",
      "/kaggle/input/pcos-picture/PCOSGen-train (1)/PCOSGen-train/images/47image0046.jpg\n",
      "/kaggle/input/pcos-picture/PCOSGen-train (1)/PCOSGen-train/images/image0357.jpg\n",
      "/kaggle/input/pcos-picture/PCOSGen-train (1)/PCOSGen-train/images/image1244.jpg\n",
      "/kaggle/input/pcos-picture/PCOSGen-train (1)/PCOSGen-train/images/86image25.jpg\n",
      "/kaggle/input/pcos-picture/PCOSGen-train (1)/PCOSGen-train/images/86image12.jpg\n",
      "/kaggle/input/pcos-picture/PCOSGen-train (1)/PCOSGen-train/images/121image51.jpg\n",
      "/kaggle/input/pcos-picture/PCOSGen-train (1)/PCOSGen-train/images/image3152.jpg\n",
      "/kaggle/input/pcos-picture/PCOSGen-train (1)/PCOSGen-train/images/image2854.jpg\n",
      "/kaggle/input/pcos-picture/PCOSGen-train (1)/PCOSGen-train/images/image3178.jpg\n",
      "/kaggle/input/pcos-picture/PCOSGen-train (1)/PCOSGen-train/images/pco_3.jpg\n",
      "/kaggle/input/pcos-picture/PCOSGen-train (1)/PCOSGen-train/images/286image4.jpg\n",
      "/kaggle/input/pcos-picture/PCOSGen-train (1)/PCOSGen-train/images/image0874.jpg\n",
      "/kaggle/input/pcos-picture/PCOSGen-train (1)/PCOSGen-train/images/image0478.jpg\n",
      "/kaggle/input/pcos-picture/PCOSGen-train (1)/PCOSGen-train/images/image3425.jpg\n",
      "/kaggle/input/pcos-picture/PCOSGen-train (1)/PCOSGen-train/images/image1182.jpg\n",
      "/kaggle/input/pcos-picture/PCOSGen-train (1)/PCOSGen-train/images/image2745.jpg\n",
      "/kaggle/input/pcos-picture/PCOSGen-train (1)/PCOSGen-train/images/image3469.jpg\n",
      "/kaggle/input/pcos-picture/PCOSGen-train (1)/PCOSGen-train/images/image3526.jpg\n",
      "/kaggle/input/pcos-picture/PCOSGen-train (1)/PCOSGen-train/images/image0900.jpg\n",
      "/kaggle/input/pcos-picture/PCOSGen-train (1)/PCOSGen-train/images/24image11.jpg\n",
      "/kaggle/input/pcos-picture/PCOSGen-train (1)/PCOSGen-train/images/image0243.jpg\n",
      "/kaggle/input/pcos-picture/PCOSGen-train (1)/PCOSGen-train/images/image2885.jpg\n",
      "/kaggle/input/pcos-picture/PCOSGen-train (1)/PCOSGen-train/images/image3438.jpg\n",
      "/kaggle/input/pcos-picture/PCOSGen-train (1)/PCOSGen-train/images/image3834.jpg\n",
      "/kaggle/input/pcos-picture/PCOSGen-train (1)/PCOSGen-train/images/image1173.jpg\n",
      "/kaggle/input/pcos-picture/PCOSGen-train (1)/PCOSGen-train/images/508image10.jpg\n",
      "/kaggle/input/pcos-picture/PCOSGen-train (1)/PCOSGen-train/images/image2202.jpg\n",
      "/kaggle/input/pcos-picture/PCOSGen-train (1)/PCOSGen-train/images/image0658.jpg\n",
      "/kaggle/input/pcos-picture/PCOSGen-train (1)/PCOSGen-train/images/image0228.jpg\n",
      "/kaggle/input/pcos-picture/PCOSGen-train (1)/PCOSGen-train/images/image1882.jpg\n",
      "/kaggle/input/pcos-picture/PCOSGen-train (1)/PCOSGen-train/images/normal_21.jpg\n",
      "/kaggle/input/pcos-picture/PCOSGen-train (1)/PCOSGen-train/images/image2665.jpg\n",
      "/kaggle/input/pcos-picture/PCOSGen-train (1)/PCOSGen-train/images/normal_28.jpg\n",
      "/kaggle/input/pcos-picture/PCOSGen-train (1)/PCOSGen-train/images/image0252.jpg\n",
      "/kaggle/input/pcos-picture/PCOSGen-train (1)/PCOSGen-train/images/image2597.jpg\n",
      "/kaggle/input/pcos-picture/PCOSGen-train (1)/PCOSGen-train/images/103image1.jpg\n",
      "/kaggle/input/pcos-picture/PCOSGen-train (1)/PCOSGen-train/images/image2822.jpg\n",
      "/kaggle/input/pcos-picture/PCOSGen-train (1)/PCOSGen-train/images/image1283.jpg\n",
      "/kaggle/input/pcos-picture/PCOSGen-train (1)/PCOSGen-train/images/image2974.jpg\n",
      "/kaggle/input/pcos-picture/PCOSGen-train (1)/PCOSGen-train/images/image0382.jpg\n",
      "/kaggle/input/pcos-picture/PCOSGen-train (1)/PCOSGen-train/images/124image21.jpg\n",
      "/kaggle/input/pcos-picture/PCOSGen-train (1)/PCOSGen-train/images/image0395.jpg\n",
      "/kaggle/input/pcos-picture/PCOSGen-train (1)/PCOSGen-train/images/image3826.jpg\n",
      "/kaggle/input/pcos-picture/PCOSGen-train (1)/PCOSGen-train/images/image1651.jpg\n",
      "/kaggle/input/pcos-picture/PCOSGen-train (1)/PCOSGen-train/images/image3724.jpg\n",
      "/kaggle/input/pcos-picture/PCOSGen-train (1)/PCOSGen-train/images/image1386.jpg\n",
      "/kaggle/input/pcos-picture/PCOSGen-train (1)/PCOSGen-train/images/1112image12.jpg\n",
      "/kaggle/input/pcos-picture/PCOSGen-train (1)/PCOSGen-train/images/image3099.jpg\n",
      "/kaggle/input/pcos-picture/PCOSGen-train (1)/PCOSGen-train/images/image3186.jpg\n",
      "/kaggle/input/pcos-picture/PCOSGen-train (1)/PCOSGen-train/images/image1853.jpg\n",
      "/kaggle/input/pcos-picture/PCOSGen-train (1)/PCOSGen-train/images/58image31.jpg\n",
      "/kaggle/input/pcos-picture/PCOSGen-train (1)/PCOSGen-train/images/image0785.jpg\n",
      "/kaggle/input/pcos-picture/PCOSGen-train (1)/PCOSGen-train/images/image0448.jpg\n",
      "/kaggle/input/pcos-picture/PCOSGen-train (1)/PCOSGen-train/images/image1652.jpg\n",
      "/kaggle/input/pcos-picture/PCOSGen-train (1)/PCOSGen-train/images/image0578.jpg\n",
      "/kaggle/input/pcos-picture/PCOSGen-train (1)/PCOSGen-train/images/image3171.jpg\n",
      "/kaggle/input/pcos-picture/PCOSGen-train (1)/PCOSGen-train/images/image1464.jpg\n",
      "/kaggle/input/pcos-picture/PCOSGen-train (1)/PCOSGen-train/images/image1117.jpg\n",
      "/kaggle/input/pcos-picture/PCOSGen-train (1)/PCOSGen-train/images/image2187.jpg\n",
      "/kaggle/input/pcos-picture/PCOSGen-train (1)/PCOSGen-train/images/image1055.jpg\n",
      "/kaggle/input/pcos-picture/PCOSGen-train (1)/PCOSGen-train/images/image2096.jpg\n",
      "/kaggle/input/pcos-picture/PCOSGen-train (1)/PCOSGen-train/images/8image26.jpg\n",
      "/kaggle/input/pcos-picture/PCOSGen-train (1)/PCOSGen-train/images/image1789.jpg\n",
      "/kaggle/input/pcos-picture/PCOSGen-train (1)/PCOSGen-train/images/image0857.jpg\n",
      "/kaggle/input/pcos-picture/PCOSGen-train (1)/PCOSGen-train/images/image2672.jpg\n",
      "/kaggle/input/pcos-picture/PCOSGen-train (1)/PCOSGen-train/images/image3174.jpg\n",
      "/kaggle/input/pcos-picture/PCOSGen-train (1)/PCOSGen-train/images/91image30.jpg\n",
      "/kaggle/input/pcos-picture/PCOSGen-train (1)/PCOSGen-train/images/image0563.jpg\n",
      "/kaggle/input/pcos-picture/PCOSGen-train (1)/PCOSGen-train/images/image0433.jpg\n",
      "/kaggle/input/pcos-picture/PCOSGen-train (1)/PCOSGen-train/images/image3059.jpg\n",
      "/kaggle/input/pcos-picture/PCOSGen-train (1)/PCOSGen-train/images/image1803.jpg\n",
      "/kaggle/input/pcos-picture/PCOSGen-train (1)/PCOSGen-train/images/image0662.jpg\n",
      "/kaggle/input/pcos-picture/PCOSGen-train (1)/PCOSGen-train/images/image2424.jpg\n",
      "/kaggle/input/pcos-picture/PCOSGen-train (1)/PCOSGen-train/images/image3502.jpg\n",
      "/kaggle/input/pcos-picture/PCOSGen-train (1)/PCOSGen-train/images/132image95.jpg\n",
      "/kaggle/input/pcos-picture/PCOSGen-train (1)/PCOSGen-train/images/image1890.jpg\n",
      "/kaggle/input/pcos-picture/PCOSGen-train (1)/PCOSGen-train/images/image2063.jpg\n",
      "/kaggle/input/pcos-picture/PCOSGen-train (1)/PCOSGen-train/images/image2404.jpg\n",
      "/kaggle/input/pcos-picture/PCOSGen-train (1)/PCOSGen-train/images/image1819.jpg\n",
      "/kaggle/input/pcos-picture/PCOSGen-train (1)/PCOSGen-train/images/image3531.jpg\n",
      "/kaggle/input/pcos-picture/PCOSGen-train (1)/PCOSGen-train/images/23image2.jpg\n",
      "/kaggle/input/pcos-picture/PCOSGen-train (1)/PCOSGen-train/images/image1100.jpg\n",
      "/kaggle/input/pcos-picture/PCOSGen-train (1)/PCOSGen-train/images/image2762.jpg\n",
      "/kaggle/input/pcos-picture/PCOSGen-train (1)/PCOSGen-train/images/image2430.jpg\n",
      "/kaggle/input/pcos-picture/PCOSGen-train (1)/PCOSGen-train/images/image0212.jpg\n",
      "/kaggle/input/pcos-picture/PCOSGen-train (1)/PCOSGen-train/images/image0892.jpg\n",
      "/kaggle/input/pcos-picture/PCOSGen-train (1)/PCOSGen-train/images/image3432.jpg\n",
      "/kaggle/input/pcos-picture/PCOSGen-train (1)/PCOSGen-train/images/6image57.jpg\n",
      "/kaggle/input/pcos-picture/PCOSGen-train (1)/PCOSGen-train/images/image2389.jpg\n",
      "/kaggle/input/pcos-picture/PCOSGen-train (1)/PCOSGen-train/images/image2939.jpg\n",
      "/kaggle/input/pcos-picture/PCOSGen-train (1)/PCOSGen-train/images/image0333.jpg\n",
      "/kaggle/input/pcos-picture/PCOSGen-train (1)/PCOSGen-train/images/image3615.jpg\n",
      "/kaggle/input/pcos-picture/PCOSGen-train (1)/PCOSGen-train/images/image0704.jpg\n",
      "/kaggle/input/pcos-picture/PCOSGen-train (1)/PCOSGen-train/images/image0229.jpg\n",
      "/kaggle/input/pcos-picture/PCOSGen-train (1)/PCOSGen-train/images/image1708.jpg\n",
      "/kaggle/input/pcos-picture/PCOSGen-train (1)/PCOSGen-train/images/image3590.jpg\n",
      "/kaggle/input/pcos-picture/PCOSGen-train (1)/PCOSGen-train/images/27image0026.jpg\n",
      "/kaggle/input/pcos-picture/PCOSGen-train (1)/PCOSGen-train/images/image3265.jpg\n",
      "/kaggle/input/pcos-picture/PCOSGen-train (1)/PCOSGen-train/images/image2402.jpg\n",
      "/kaggle/input/pcos-picture/PCOSGen-train (1)/PCOSGen-train/images/image0211.jpg\n",
      "/kaggle/input/pcos-picture/PCOSGen-train (1)/PCOSGen-train/images/image3433.jpg\n",
      "/kaggle/input/pcos-picture/PCOSGen-train (1)/PCOSGen-train/images/image0588.jpg\n",
      "/kaggle/input/pcos-picture/PCOSGen-train (1)/PCOSGen-train/images/image2784.jpg\n",
      "/kaggle/input/pcos-picture/PCOSGen-train (1)/PCOSGen-train/images/image1399.jpg\n",
      "/kaggle/input/pcos-picture/PCOSGen-train (1)/PCOSGen-train/images/image2793.jpg\n",
      "/kaggle/input/pcos-picture/PCOSGen-train (1)/PCOSGen-train/images/image3228.jpg\n",
      "/kaggle/input/pcos-picture/PCOSGen-train (1)/PCOSGen-train/images/image2765.jpg\n",
      "/kaggle/input/pcos-picture/PCOSGen-train (1)/PCOSGen-train/images/image1379.jpg\n",
      "/kaggle/input/pcos-picture/PCOSGen-train (1)/PCOSGen-train/images/35image0016.jpg\n",
      "/kaggle/input/pcos-picture/PCOSGen-train (1)/PCOSGen-train/images/image3206.jpg\n",
      "/kaggle/input/pcos-picture/PCOSGen-train (1)/PCOSGen-train/images/image3581.jpg\n",
      "/kaggle/input/pcos-picture/PCOSGen-train (1)/PCOSGen-train/images/image3029.jpg\n",
      "/kaggle/input/pcos-picture/PCOSGen-train (1)/PCOSGen-train/images/image0853.jpg\n",
      "/kaggle/input/pcos-picture/PCOSGen-train (1)/PCOSGen-train/images/normal_7.jpg\n",
      "/kaggle/input/pcos-picture/PCOSGen-train (1)/PCOSGen-train/images/image0957.jpg\n",
      "/kaggle/input/pcos-picture/PCOSGen-train (1)/PCOSGen-train/images/image3000.jpg\n",
      "/kaggle/input/pcos-picture/PCOSGen-train (1)/PCOSGen-train/images/image3134.jpg\n",
      "/kaggle/input/pcos-picture/PCOSGen-train (1)/PCOSGen-train/images/image3658.jpg\n",
      "/kaggle/input/pcos-picture/PCOSGen-train (1)/PCOSGen-train/images/image0991.jpg\n",
      "/kaggle/input/pcos-picture/PCOSGen-train (1)/PCOSGen-train/images/image0778.jpg\n",
      "/kaggle/input/pcos-picture/PCOSGen-train (1)/PCOSGen-train/images/image0918.jpg\n",
      "/kaggle/input/pcos-picture/PCOSGen-train (1)/PCOSGen-train/images/image0321.jpg\n",
      "/kaggle/input/pcos-picture/PCOSGen-train (1)/PCOSGen-train/images/image0848.jpg\n",
      "/kaggle/input/pcos-picture/PCOSGen-train (1)/PCOSGen-train/images/image0844.jpg\n",
      "/kaggle/input/pcos-picture/PCOSGen-train (1)/PCOSGen-train/images/10image0017.jpg\n",
      "/kaggle/input/pcos-picture/PCOSGen-train (1)/PCOSGen-train/images/image3760.jpg\n",
      "/kaggle/input/pcos-picture/PCOSGen-train (1)/PCOSGen-train/images/image2663.jpg\n",
      "/kaggle/input/pcos-picture/PCOSGen-train (1)/PCOSGen-train/images/72image0096.jpg\n",
      "/kaggle/input/pcos-picture/PCOSGen-train (1)/PCOSGen-train/images/91image91.jpg\n",
      "/kaggle/input/pcos-picture/PCOSGen-train (1)/PCOSGen-train/images/image0772.jpg\n",
      "/kaggle/input/pcos-picture/PCOSGen-train (1)/PCOSGen-train/images/image2195.jpg\n",
      "/kaggle/input/pcos-picture/PCOSGen-train (1)/PCOSGen-train/images/image3567.jpg\n",
      "/kaggle/input/pcos-picture/PCOSGen-train (1)/PCOSGen-train/images/image0724.jpg\n",
      "/kaggle/input/pcos-picture/PCOSGen-train (1)/PCOSGen-train/images/image0266.jpg\n",
      "/kaggle/input/pcos-picture/PCOSGen-train (1)/PCOSGen-train/images/image3063.jpg\n",
      "/kaggle/input/pcos-picture/PCOSGen-train (1)/PCOSGen-train/images/image3652.jpg\n",
      "/kaggle/input/pcos-picture/PCOSGen-train (1)/PCOSGen-train/images/image3403.jpg\n",
      "/kaggle/input/pcos-picture/PCOSGen-train (1)/PCOSGen-train/images/97image5.jpg\n",
      "/kaggle/input/pcos-picture/PCOSGen-train (1)/PCOSGen-train/images/25image0002.jpg\n",
      "/kaggle/input/pcos-picture/PCOSGen-train (1)/PCOSGen-train/images/image0988.jpg\n",
      "/kaggle/input/pcos-picture/PCOSGen-train (1)/PCOSGen-train/images/image3716.jpg\n",
      "/kaggle/input/pcos-picture/PCOSGen-train (1)/PCOSGen-train/images/189image46.jpg\n",
      "/kaggle/input/pcos-picture/PCOSGen-train (1)/PCOSGen-train/images/image2630.jpg\n",
      "/kaggle/input/pcos-picture/PCOSGen-train (1)/PCOSGen-train/images/image3356.jpg\n",
      "/kaggle/input/pcos-picture/PCOSGen-train (1)/PCOSGen-train/images/image3117.jpg\n",
      "/kaggle/input/pcos-picture/PCOSGen-train (1)/PCOSGen-train/images/image0810.jpg\n",
      "/kaggle/input/pcos-picture/PCOSGen-train (1)/PCOSGen-train/images/image0613.jpg\n",
      "/kaggle/input/pcos-picture/PCOSGen-train (1)/PCOSGen-train/images/image1661.jpg\n",
      "/kaggle/input/pcos-picture/PCOSGen-train (1)/PCOSGen-train/images/85image5.jpg\n",
      "/kaggle/input/pcos-picture/PCOSGen-train (1)/PCOSGen-train/images/image0007.jpg\n",
      "/kaggle/input/pcos-picture/PCOSGen-train (1)/PCOSGen-train/images/image1171.jpg\n",
      "/kaggle/input/pcos-picture/PCOSGen-train (1)/PCOSGen-train/images/image2695.jpg\n",
      "/kaggle/input/pcos-picture/PCOSGen-train (1)/PCOSGen-train/images/image1858.jpg\n",
      "/kaggle/input/pcos-picture/PCOSGen-train (1)/PCOSGen-train/images/image0547.jpg\n",
      "/kaggle/input/pcos-picture/PCOSGen-train (1)/PCOSGen-train/images/image0794.jpg\n",
      "/kaggle/input/pcos-picture/PCOSGen-train (1)/PCOSGen-train/images/5image3.jpg\n",
      "/kaggle/input/pcos-picture/PCOSGen-train (1)/PCOSGen-train/images/124image0107.jpg\n",
      "/kaggle/input/pcos-picture/PCOSGen-train (1)/PCOSGen-train/images/573image15.jpg\n",
      "/kaggle/input/pcos-picture/PCOSGen-train (1)/PCOSGen-train/images/image1912.jpg\n",
      "/kaggle/input/pcos-picture/PCOSGen-train (1)/PCOSGen-train/images/image0392.jpg\n",
      "/kaggle/input/pcos-picture/PCOSGen-train (1)/PCOSGen-train/images/image0648.jpg\n",
      "/kaggle/input/pcos-picture/PCOSGen-train (1)/PCOSGen-train/images/image0199.jpg\n",
      "/kaggle/input/pcos-picture/PCOSGen-train (1)/PCOSGen-train/images/image3295.jpg\n",
      "/kaggle/input/pcos-picture/PCOSGen-train (1)/PCOSGen-train/images/image3804.jpg\n",
      "/kaggle/input/pcos-picture/PCOSGen-train (1)/PCOSGen-train/images/image3677.jpg\n",
      "/kaggle/input/pcos-picture/PCOSGen-train (1)/PCOSGen-train/images/image3151.jpg\n",
      "/kaggle/input/pcos-picture/PCOSGen-train (1)/PCOSGen-train/images/image2652.jpg\n",
      "/kaggle/input/pcos-picture/PCOSGen-train (1)/PCOSGen-train/images/normal_40.jpg\n",
      "/kaggle/input/pcos-picture/PCOSGen-train (1)/PCOSGen-train/images/image3792.jpg\n",
      "/kaggle/input/pcos-picture/PCOSGen-train (1)/PCOSGen-train/images/normal_23.jpg\n",
      "/kaggle/input/pcos-picture/PCOSGen-train (1)/PCOSGen-train/images/6image21.jpg\n",
      "/kaggle/input/pcos-picture/PCOSGen-train (1)/PCOSGen-train/images/image3571.jpg\n",
      "/kaggle/input/pcos-picture/PCOSGen-train (1)/PCOSGen-train/images/image0582.jpg\n",
      "/kaggle/input/pcos-picture/PCOSGen-train (1)/PCOSGen-train/images/image0324.jpg\n",
      "/kaggle/input/pcos-picture/PCOSGen-train (1)/PCOSGen-train/images/image2643.jpg\n",
      "/kaggle/input/pcos-picture/PCOSGen-train (1)/PCOSGen-train/images/image3383.jpg\n",
      "/kaggle/input/pcos-picture/PCOSGen-train (1)/PCOSGen-train/images/image2557.jpg\n",
      "/kaggle/input/pcos-picture/PCOSGen-train (1)/PCOSGen-train/images/image0654.jpg\n",
      "/kaggle/input/pcos-picture/PCOSGen-train (1)/PCOSGen-train/images/image0507.jpg\n",
      "/kaggle/input/pcos-picture/PCOSGen-train (1)/PCOSGen-train/images/image2880.jpg\n",
      "/kaggle/input/pcos-picture/PCOSGen-train (1)/PCOSGen-train/images/image0787.jpg\n",
      "/kaggle/input/pcos-picture/PCOSGen-train (1)/PCOSGen-train/images/image0218.jpg\n",
      "/kaggle/input/pcos-picture/PCOSGen-train (1)/PCOSGen-train/images/image2653.jpg\n",
      "/kaggle/input/pcos-picture/PCOSGen-train (1)/PCOSGen-train/images/image0968.jpg\n",
      "/kaggle/input/pcos-picture/PCOSGen-train (1)/PCOSGen-train/images/image0450.jpg\n",
      "/kaggle/input/pcos-picture/PCOSGen-train (1)/PCOSGen-train/images/image3534.jpg\n",
      "/kaggle/input/pcos-picture/PCOSGen-train (1)/PCOSGen-train/images/231image30.jpg\n",
      "/kaggle/input/pcos-picture/PCOSGen-train (1)/PCOSGen-train/images/image0332.jpg\n",
      "/kaggle/input/pcos-picture/PCOSGen-train (1)/PCOSGen-train/images/image2226.jpg\n",
      "/kaggle/input/pcos-picture/PCOSGen-train (1)/PCOSGen-train/images/image1656.jpg\n",
      "/kaggle/input/pcos-picture/PCOSGen-train (1)/PCOSGen-train/images/image1834.jpg\n",
      "/kaggle/input/pcos-picture/PCOSGen-train (1)/PCOSGen-train/images/image3622.jpg\n",
      "/kaggle/input/pcos-picture/PCOSGen-train (1)/PCOSGen-train/images/image0629.jpg\n",
      "/kaggle/input/pcos-picture/PCOSGen-train (1)/PCOSGen-train/images/image3038.jpg\n",
      "/kaggle/input/pcos-picture/PCOSGen-train (1)/PCOSGen-train/images/image0289.jpg\n",
      "/kaggle/input/pcos-picture/PCOSGen-train (1)/PCOSGen-train/images/146image63.jpg\n",
      "/kaggle/input/pcos-picture/PCOSGen-train (1)/PCOSGen-train/images/image3728.jpg\n",
      "/kaggle/input/pcos-picture/PCOSGen-train (1)/PCOSGen-train/images/image2926.jpg\n",
      "/kaggle/input/pcos-picture/PCOSGen-train (1)/PCOSGen-train/images/589image30.jpg\n",
      "/kaggle/input/pcos-picture/PCOSGen-train (1)/PCOSGen-train/images/image3076.jpg\n",
      "/kaggle/input/pcos-picture/PCOSGen-train (1)/PCOSGen-train/images/image3510.jpg\n",
      "/kaggle/input/pcos-picture/PCOSGen-train (1)/PCOSGen-train/images/image2733.jpg\n",
      "/kaggle/input/pcos-picture/PCOSGen-train (1)/PCOSGen-train/images/image2512.jpg\n",
      "/kaggle/input/pcos-picture/PCOSGen-train (1)/PCOSGen-train/images/image3807.jpg\n",
      "/kaggle/input/pcos-picture/PCOSGen-train (1)/PCOSGen-train/images/image0690.jpg\n",
      "/kaggle/input/pcos-picture/PCOSGen-train (1)/PCOSGen-train/images/image0434.jpg\n",
      "/kaggle/input/pcos-picture/PCOSGen-train (1)/PCOSGen-train/images/image3327.jpg\n",
      "/kaggle/input/pcos-picture/PCOSGen-train (1)/PCOSGen-train/images/image3441.jpg\n",
      "/kaggle/input/pcos-picture/PCOSGen-train (1)/PCOSGen-train/images/image2585.jpg\n",
      "/kaggle/input/pcos-picture/PCOSGen-train (1)/PCOSGen-train/images/image3022.jpg\n",
      "/kaggle/input/pcos-picture/PCOSGen-train (1)/PCOSGen-train/images/16image48.jpg\n",
      "/kaggle/input/pcos-picture/PCOSGen-train (1)/PCOSGen-train/images/image0438.jpg\n",
      "/kaggle/input/pcos-picture/PCOSGen-train (1)/PCOSGen-train/images/image1002.jpg\n",
      "/kaggle/input/pcos-picture/PCOSGen-train (1)/PCOSGen-train/images/image0608.jpg\n",
      "/kaggle/input/pcos-picture/PCOSGen-train (1)/PCOSGen-train/images/image2817.jpg\n",
      "/kaggle/input/pcos-picture/PCOSGen-train (1)/PCOSGen-train/images/219image12.jpg\n",
      "/kaggle/input/pcos-picture/PCOSGen-train (1)/PCOSGen-train/images/image0565.jpg\n",
      "/kaggle/input/pcos-picture/PCOSGen-train (1)/PCOSGen-train/images/image3240.jpg\n",
      "/kaggle/input/pcos-picture/PCOSGen-train (1)/PCOSGen-train/images/image0344.jpg\n",
      "/kaggle/input/pcos-picture/PCOSGen-train (1)/PCOSGen-train/images/image2867.jpg\n",
      "/kaggle/input/pcos-picture/PCOSGen-train (1)/PCOSGen-train/images/image1014.jpg\n",
      "/kaggle/input/pcos-picture/PCOSGen-train (1)/PCOSGen-train/images/image3246.jpg\n",
      "/kaggle/input/pcos-picture/PCOSGen-train (1)/PCOSGen-train/images/image0544.jpg\n",
      "/kaggle/input/pcos-picture/PCOSGen-train (1)/PCOSGen-train/images/image0540.jpg\n",
      "/kaggle/input/pcos-picture/PCOSGen-train (1)/PCOSGen-train/images/49image0041.jpg\n",
      "/kaggle/input/pcos-picture/PCOSGen-train (1)/PCOSGen-train/images/image3055.jpg\n",
      "/kaggle/input/pcos-picture/PCOSGen-train (1)/PCOSGen-train/images/image0953.jpg\n",
      "/kaggle/input/pcos-picture/PCOSGen-train (1)/PCOSGen-train/images/image0765.jpg\n",
      "/kaggle/input/pcos-picture/PCOSGen-train (1)/PCOSGen-train/images/image1782.jpg\n",
      "/kaggle/input/pcos-picture/PCOSGen-train (1)/PCOSGen-train/images/image1874.jpg\n",
      "/kaggle/input/pcos-picture/PCOSGen-train (1)/PCOSGen-train/images/image0829.jpg\n",
      "/kaggle/input/pcos-picture/PCOSGen-train (1)/PCOSGen-train/images/image3104.jpg\n",
      "/kaggle/input/pcos-picture/PCOSGen-train (1)/PCOSGen-train/images/image1119.jpg\n",
      "/kaggle/input/pcos-picture/PCOSGen-train (1)/PCOSGen-train/images/image0375.jpg\n",
      "/kaggle/input/pcos-picture/PCOSGen-train (1)/PCOSGen-train/images/image2441.jpg\n",
      "/kaggle/input/pcos-picture/PCOSGen-train (1)/PCOSGen-train/images/image1640.jpg\n",
      "/kaggle/input/pcos-picture/PCOSGen-train (1)/PCOSGen-train/images/image1004.jpg\n",
      "/kaggle/input/pcos-picture/PCOSGen-train (1)/PCOSGen-train/images/image0572.jpg\n",
      "/kaggle/input/pcos-picture/PCOSGen-train (1)/PCOSGen-train/images/87image8.jpg\n",
      "/kaggle/input/pcos-picture/PCOSGen-train (1)/PCOSGen-train/images/image3025.jpg\n",
      "/kaggle/input/pcos-picture/PCOSGen-train (1)/PCOSGen-train/images/3image8.jpg\n",
      "/kaggle/input/pcos-picture/PCOSGen-train (1)/PCOSGen-train/images/539image6.jpg\n",
      "/kaggle/input/pcos-picture/PCOSGen-train (1)/PCOSGen-train/images/image0722.jpg\n",
      "/kaggle/input/pcos-picture/PCOSGen-train (1)/PCOSGen-train/images/60image0063.jpg\n",
      "/kaggle/input/pcos-picture/PCOSGen-train (1)/PCOSGen-train/images/74image6.jpg\n",
      "/kaggle/input/pcos-picture/PCOSGen-train (1)/PCOSGen-train/images/image0546.jpg\n",
      "/kaggle/input/pcos-picture/PCOSGen-train (1)/PCOSGen-train/images/image2537.jpg\n",
      "/kaggle/input/pcos-picture/PCOSGen-train (1)/PCOSGen-train/images/image0466.jpg\n",
      "/kaggle/input/pcos-picture/PCOSGen-train (1)/PCOSGen-train/images/image0733.jpg\n",
      "/kaggle/input/pcos-picture/PCOSGen-train (1)/PCOSGen-train/images/577image7.jpg\n",
      "/kaggle/input/pcos-picture/PCOSGen-train (1)/PCOSGen-train/images/image1121.jpg\n",
      "/kaggle/input/pcos-picture/PCOSGen-train (1)/PCOSGen-train/images/image3276.jpg\n",
      "/kaggle/input/pcos-picture/PCOSGen-train (1)/PCOSGen-train/images/99image72.jpg\n",
      "/kaggle/input/pcos-picture/PCOSGen-train (1)/PCOSGen-train/images/91image78.jpg\n",
      "/kaggle/input/pcos-picture/PCOSGen-train (1)/PCOSGen-train/images/image3720.jpg\n",
      "/kaggle/input/pcos-picture/PCOSGen-train (1)/PCOSGen-train/images/image0712.jpg\n",
      "/kaggle/input/pcos-picture/PCOSGen-train (1)/PCOSGen-train/images/94image17.jpg\n",
      "/kaggle/input/pcos-picture/PCOSGen-train (1)/PCOSGen-train/images/100image13.jpg\n",
      "/kaggle/input/pcos-picture/PCOSGen-train (1)/PCOSGen-train/images/image3073.jpg\n",
      "/kaggle/input/pcos-picture/PCOSGen-train (1)/PCOSGen-train/images/image2798.jpg\n",
      "/kaggle/input/pcos-picture/PCOSGen-train (1)/PCOSGen-train/images/image0693.jpg\n",
      "/kaggle/input/pcos-picture/PCOSGen-train (1)/PCOSGen-train/images/image0641.jpg\n",
      "/kaggle/input/pcos-picture/PCOSGen-train (1)/PCOSGen-train/images/image0278.jpg\n",
      "/kaggle/input/pcos-picture/PCOSGen-train (1)/PCOSGen-train/images/image3785.jpg\n",
      "/kaggle/input/pcos-picture/PCOSGen-train (1)/PCOSGen-train/images/image0235.jpg\n",
      "/kaggle/input/pcos-picture/PCOSGen-train (1)/PCOSGen-train/images/image3747.jpg\n",
      "/kaggle/input/pcos-picture/PCOSGen-train (1)/PCOSGen-train/images/image1108.jpg\n",
      "/kaggle/input/pcos-picture/PCOSGen-train (1)/PCOSGen-train/images/image1636.jpg\n",
      "/kaggle/input/pcos-picture/PCOSGen-train (1)/PCOSGen-train/images/116image0116.jpg\n",
      "/kaggle/input/pcos-picture/PCOSGen-train (1)/PCOSGen-train/images/image0384.jpg\n",
      "/kaggle/input/pcos-picture/PCOSGen-train (1)/PCOSGen-train/images/248image11.jpg\n",
      "/kaggle/input/pcos-picture/PCOSGen-train (1)/PCOSGen-train/images/image3496.jpg\n",
      "/kaggle/input/pcos-picture/PCOSGen-train (1)/PCOSGen-train/images/image3144.jpg\n",
      "/kaggle/input/pcos-picture/PCOSGen-train (1)/PCOSGen-train/images/image0424.jpg\n",
      "/kaggle/input/pcos-picture/PCOSGen-train (1)/PCOSGen-train/images/231image27.jpg\n",
      "/kaggle/input/pcos-picture/PCOSGen-train (1)/PCOSGen-train/images/124image76.jpg\n",
      "/kaggle/input/pcos-picture/PCOSGen-train (1)/PCOSGen-train/images/168image43.jpg\n",
      "/kaggle/input/pcos-picture/PCOSGen-train (1)/PCOSGen-train/images/image1008.jpg\n",
      "/kaggle/input/pcos-picture/PCOSGen-train (1)/PCOSGen-train/images/image0859.jpg\n",
      "/kaggle/input/pcos-picture/PCOSGen-train (1)/PCOSGen-train/images/image1267.jpg\n",
      "/kaggle/input/pcos-picture/PCOSGen-train (1)/PCOSGen-train/images/248image23.jpg\n",
      "/kaggle/input/pcos-picture/PCOSGen-train (1)/PCOSGen-train/images/100image83.jpg\n",
      "/kaggle/input/pcos-picture/PCOSGen-train (1)/PCOSGen-train/images/24image0045.jpg\n",
      "/kaggle/input/pcos-picture/PCOSGen-train (1)/PCOSGen-train/images/91image0059.jpg\n",
      "/kaggle/input/pcos-picture/PCOSGen-train (1)/PCOSGen-train/images/image0931.jpg\n",
      "/kaggle/input/pcos-picture/PCOSGen-train (1)/PCOSGen-train/images/image0482.jpg\n",
      "/kaggle/input/pcos-picture/PCOSGen-train (1)/PCOSGen-train/images/image3084.jpg\n",
      "/kaggle/input/pcos-picture/PCOSGen-train (1)/PCOSGen-train/images/image3730.jpg\n",
      "/kaggle/input/pcos-picture/PCOSGen-train (1)/PCOSGen-train/images/image0922.jpg\n",
      "/kaggle/input/pcos-picture/PCOSGen-train (1)/PCOSGen-train/images/image3604.jpg\n",
      "/kaggle/input/pcos-picture/PCOSGen-train (1)/PCOSGen-train/images/image2431.jpg\n",
      "/kaggle/input/pcos-picture/PCOSGen-train (1)/PCOSGen-train/images/140image0108.jpg\n",
      "/kaggle/input/pcos-picture/PCOSGen-train (1)/PCOSGen-train/images/image0959.jpg\n",
      "/kaggle/input/pcos-picture/PCOSGen-train (1)/PCOSGen-train/images/127image57.jpg\n",
      "/kaggle/input/pcos-picture/PCOSGen-train (1)/PCOSGen-train/images/image3524.jpg\n",
      "/kaggle/input/pcos-picture/PCOSGen-train (1)/PCOSGen-train/images/image3379.jpg\n",
      "/kaggle/input/pcos-picture/PCOSGen-train (1)/PCOSGen-train/images/image1746.jpg\n",
      "/kaggle/input/pcos-picture/PCOSGen-train (1)/PCOSGen-train/images/image3566.jpg\n",
      "/kaggle/input/pcos-picture/PCOSGen-train (1)/PCOSGen-train/images/image3484.jpg\n",
      "/kaggle/input/pcos-picture/PCOSGen-train (1)/PCOSGen-train/images/image3157.jpg\n",
      "/kaggle/input/pcos-picture/PCOSGen-train (1)/PCOSGen-train/images/image3679.jpg\n",
      "/kaggle/input/pcos-picture/PCOSGen-train (1)/PCOSGen-train/images/image3080.jpg\n",
      "/kaggle/input/pcos-picture/PCOSGen-train (1)/PCOSGen-train/images/normal_32.jpg\n",
      "/kaggle/input/pcos-picture/PCOSGen-train (1)/PCOSGen-train/images/image3053.jpg\n",
      "/kaggle/input/pcos-picture/PCOSGen-train (1)/PCOSGen-train/images/image3267.jpg\n",
      "/kaggle/input/pcos-picture/PCOSGen-train (1)/PCOSGen-train/images/image3429.jpg\n",
      "/kaggle/input/pcos-picture/PCOSGen-train (1)/PCOSGen-train/images/image2276.jpg\n",
      "/kaggle/input/pcos-picture/PCOSGen-train (1)/PCOSGen-train/images/2818image10.jpg\n",
      "/kaggle/input/pcos-picture/PCOSGen-train (1)/PCOSGen-train/images/image1240.jpg\n",
      "/kaggle/input/pcos-picture/PCOSGen-train (1)/PCOSGen-train/images/image1064.jpg\n",
      "/kaggle/input/pcos-picture/PCOSGen-train (1)/PCOSGen-train/images/image1967.jpg\n",
      "/kaggle/input/pcos-picture/PCOSGen-train (1)/PCOSGen-train/images/image3232.jpg\n",
      "/kaggle/input/pcos-picture/PCOSGen-train (1)/PCOSGen-train/images/image1144.jpg\n",
      "/kaggle/input/pcos-picture/PCOSGen-train (1)/PCOSGen-train/images/image1659.jpg\n",
      "/kaggle/input/pcos-picture/PCOSGen-train (1)/PCOSGen-train/images/image2661.jpg\n",
      "/kaggle/input/pcos-picture/PCOSGen-train (1)/PCOSGen-train/images/image3323.jpg\n",
      "/kaggle/input/pcos-picture/PCOSGen-train (1)/PCOSGen-train/images/image3810.jpg\n",
      "/kaggle/input/pcos-picture/PCOSGen-train (1)/PCOSGen-train/images/image3094.jpg\n",
      "/kaggle/input/pcos-picture/PCOSGen-train (1)/PCOSGen-train/images/image3280.jpg\n",
      "/kaggle/input/pcos-picture/PCOSGen-train (1)/PCOSGen-train/images/image1383.jpg\n",
      "/kaggle/input/pcos-picture/PCOSGen-train (1)/PCOSGen-train/images/image0399.jpg\n",
      "/kaggle/input/pcos-picture/PCOSGen-train (1)/PCOSGen-train/images/image1638.jpg\n",
      "/kaggle/input/pcos-picture/PCOSGen-train (1)/PCOSGen-train/images/pco_7.jpg\n",
      "/kaggle/input/pcos-picture/PCOSGen-train (1)/PCOSGen-train/images/normal_17.jpg\n",
      "/kaggle/input/pcos-picture/PCOSGen-train (1)/PCOSGen-train/images/image2425.jpg\n",
      "/kaggle/input/pcos-picture/PCOSGen-train (1)/PCOSGen-train/images/image2392.jpg\n",
      "/kaggle/input/pcos-picture/PCOSGen-train (1)/PCOSGen-train/images/image0529.jpg\n",
      "/kaggle/input/pcos-picture/PCOSGen-train (1)/PCOSGen-train/images/110image0083.jpg\n",
      "/kaggle/input/pcos-picture/PCOSGen-train (1)/PCOSGen-train/images/95image4.jpg\n",
      "/kaggle/input/pcos-picture/PCOSGen-train (1)/PCOSGen-train/images/98image49.jpg\n",
      "/kaggle/input/pcos-picture/PCOSGen-train (1)/PCOSGen-train/images/8image16.jpg\n",
      "/kaggle/input/pcos-picture/PCOSGen-train (1)/PCOSGen-train/images/image3282.jpg\n",
      "/kaggle/input/pcos-picture/PCOSGen-train (1)/PCOSGen-train/images/image0260.jpg\n",
      "/kaggle/input/pcos-picture/PCOSGen-train (1)/PCOSGen-train/images/image3478.jpg\n",
      "/kaggle/input/pcos-picture/PCOSGen-train (1)/PCOSGen-train/images/image0987.jpg\n",
      "/kaggle/input/pcos-picture/PCOSGen-train (1)/PCOSGen-train/images/208image47.jpg\n",
      "/kaggle/input/pcos-picture/PCOSGen-train (1)/PCOSGen-train/images/image0245.jpg\n",
      "/kaggle/input/pcos-picture/PCOSGen-train (1)/PCOSGen-train/images/507image13.jpg\n",
      "/kaggle/input/pcos-picture/PCOSGen-train (1)/PCOSGen-train/images/3image0027.jpg\n",
      "/kaggle/input/pcos-picture/PCOSGen-train (1)/PCOSGen-train/images/154image6.jpg\n",
      "/kaggle/input/pcos-picture/PCOSGen-train (1)/PCOSGen-train/images/image2415.jpg\n",
      "/kaggle/input/pcos-picture/PCOSGen-train (1)/PCOSGen-train/images/146image26.jpg\n",
      "/kaggle/input/pcos-picture/PCOSGen-train (1)/PCOSGen-train/images/113image0112.jpg\n",
      "/kaggle/input/pcos-picture/PCOSGen-train (1)/PCOSGen-train/images/233image2.jpg\n",
      "/kaggle/input/pcos-picture/PCOSGen-train (1)/PCOSGen-train/images/image1468.jpg\n",
      "/kaggle/input/pcos-picture/PCOSGen-train (1)/PCOSGen-train/images/image0236.jpg\n",
      "/kaggle/input/pcos-picture/PCOSGen-train (1)/PCOSGen-train/images/image3355.jpg\n",
      "/kaggle/input/pcos-picture/PCOSGen-train (1)/PCOSGen-train/images/image2168.jpg\n",
      "/kaggle/input/pcos-picture/PCOSGen-train (1)/PCOSGen-train/images/84image20.jpg\n",
      "/kaggle/input/pcos-picture/PCOSGen-train (1)/PCOSGen-train/images/image0568.jpg\n",
      "/kaggle/input/pcos-picture/PCOSGen-train (1)/PCOSGen-train/images/image2367.jpg\n",
      "/kaggle/input/pcos-picture/PCOSGen-train (1)/PCOSGen-train/images/563image20.jpg\n",
      "/kaggle/input/pcos-picture/PCOSGen-train (1)/PCOSGen-train/images/image0581.jpg\n",
      "/kaggle/input/pcos-picture/PCOSGen-train (1)/PCOSGen-train/images/image0763.jpg\n",
      "/kaggle/input/pcos-picture/PCOSGen-train (1)/PCOSGen-train/images/image2453.jpg\n",
      "/kaggle/input/pcos-picture/PCOSGen-train (1)/PCOSGen-train/images/image3005.jpg\n",
      "/kaggle/input/pcos-picture/PCOSGen-train (1)/PCOSGen-train/images/normal_25.jpg\n",
      "/kaggle/input/pcos-picture/PCOSGen-train (1)/PCOSGen-train/images/image2875.jpg\n",
      "/kaggle/input/pcos-picture/PCOSGen-train (1)/PCOSGen-train/images/image0758.jpg\n",
      "/kaggle/input/pcos-picture/PCOSGen-train (1)/PCOSGen-train/images/image3494.jpg\n",
      "/kaggle/input/pcos-picture/PCOSGen-train (1)/PCOSGen-train/images/image2669.jpg\n",
      "/kaggle/input/pcos-picture/PCOSGen-train (1)/PCOSGen-train/images/158image54.jpg\n",
      "/kaggle/input/pcos-picture/PCOSGen-train (1)/PCOSGen-train/images/image3779.jpg\n",
      "/kaggle/input/pcos-picture/PCOSGen-train (1)/PCOSGen-train/images/image2317.jpg\n",
      "/kaggle/input/pcos-picture/PCOSGen-train (1)/PCOSGen-train/images/normal_12.jpg\n",
      "/kaggle/input/pcos-picture/PCOSGen-train (1)/PCOSGen-train/images/image0867.jpg\n",
      "/kaggle/input/pcos-picture/PCOSGen-train (1)/PCOSGen-train/images/image3485.jpg\n",
      "/kaggle/input/pcos-picture/PCOSGen-train (1)/PCOSGen-train/images/image0227.jpg\n",
      "/kaggle/input/pcos-picture/PCOSGen-train (1)/PCOSGen-train/images/image0083.jpg\n",
      "/kaggle/input/pcos-picture/PCOSGen-train (1)/PCOSGen-train/images/image1286.jpg\n",
      "/kaggle/input/pcos-picture/PCOSGen-train (1)/PCOSGen-train/images/image2877.jpg\n",
      "/kaggle/input/pcos-picture/PCOSGen-train (1)/PCOSGen-train/images/189image96.jpg\n",
      "/kaggle/input/pcos-picture/PCOSGen-train (1)/PCOSGen-train/images/image2426.jpg\n",
      "/kaggle/input/pcos-picture/PCOSGen-train (1)/PCOSGen-train/images/image0542.jpg\n",
      "/kaggle/input/pcos-picture/PCOSGen-train (1)/PCOSGen-train/images/image0711.jpg\n",
      "/kaggle/input/pcos-picture/PCOSGen-train (1)/PCOSGen-train/images/51image0034.jpg\n",
      "/kaggle/input/pcos-picture/PCOSGen-train (1)/PCOSGen-train/images/image2945.jpg\n",
      "/kaggle/input/pcos-picture/PCOSGen-train (1)/PCOSGen-train/images/image0964.jpg\n",
      "/kaggle/input/pcos-picture/PCOSGen-train (1)/PCOSGen-train/images/90image15.jpg\n",
      "/kaggle/input/pcos-picture/PCOSGen-train (1)/PCOSGen-train/images/image1869.jpg\n",
      "/kaggle/input/pcos-picture/PCOSGen-train (1)/PCOSGen-train/images/image3833.jpg\n",
      "/kaggle/input/pcos-picture/PCOSGen-train (1)/PCOSGen-train/images/image3704.jpg\n",
      "/kaggle/input/pcos-picture/PCOSGen-train (1)/PCOSGen-train/images/image3452.jpg\n",
      "/kaggle/input/pcos-picture/PCOSGen-train (1)/PCOSGen-train/images/image2800.jpg\n",
      "/kaggle/input/pcos-picture/PCOSGen-train (1)/PCOSGen-train/images/image1013.jpg\n",
      "/kaggle/input/pcos-picture/PCOSGen-train (1)/PCOSGen-train/images/image1077.jpg\n",
      "/kaggle/input/pcos-picture/PCOSGen-train (1)/PCOSGen-train/images/226image14.jpg\n",
      "/kaggle/input/pcos-picture/PCOSGen-train (1)/PCOSGen-train/images/image3166.jpg\n",
      "/kaggle/input/pcos-picture/PCOSGen-train (1)/PCOSGen-train/images/image3547.jpg\n",
      "/kaggle/input/pcos-picture/PCOSGen-train (1)/PCOSGen-train/images/image1669.jpg\n",
      "/kaggle/input/pcos-picture/PCOSGen-train (1)/PCOSGen-train/images/image0283.jpg\n",
      "/kaggle/input/pcos-picture/PCOSGen-train (1)/PCOSGen-train/images/4image0050.jpg\n",
      "/kaggle/input/pcos-picture/PCOSGen-train (1)/PCOSGen-train/images/image0205.jpg\n",
      "/kaggle/input/pcos-picture/PCOSGen-train (1)/PCOSGen-train/images/image0548.jpg\n",
      "/kaggle/input/pcos-picture/PCOSGen-train (1)/PCOSGen-train/images/image3625.jpg\n",
      "/kaggle/input/pcos-picture/PCOSGen-train (1)/PCOSGen-train/images/image2523.jpg\n",
      "/kaggle/input/pcos-picture/PCOSGen-train (1)/PCOSGen-train/images/image0528.jpg\n",
      "/kaggle/input/pcos-picture/PCOSGen-train (1)/PCOSGen-train/images/image2881.jpg\n",
      "/kaggle/input/pcos-picture/PCOSGen-train (1)/PCOSGen-train/images/image0837.jpg\n",
      "/kaggle/input/pcos-picture/PCOSGen-train (1)/PCOSGen-train/images/image0217.jpg\n",
      "/kaggle/input/pcos-picture/PCOSGen-train (1)/PCOSGen-train/images/image0598.jpg\n",
      "/kaggle/input/pcos-picture/PCOSGen-train (1)/PCOSGen-train/images/image2972.jpg\n",
      "/kaggle/input/pcos-picture/PCOSGen-train (1)/PCOSGen-train/images/image3498.jpg\n",
      "/kaggle/input/pcos-picture/PCOSGen-train (1)/PCOSGen-train/images/image0876.jpg\n",
      "/kaggle/input/pcos-picture/PCOSGen-train (1)/PCOSGen-train/images/571image14.jpg\n",
      "/kaggle/input/pcos-picture/PCOSGen-train (1)/PCOSGen-train/images/image1126.jpg\n",
      "/kaggle/input/pcos-picture/PCOSGen-train (1)/PCOSGen-train/images/image0940.jpg\n",
      "/kaggle/input/pcos-picture/PCOSGen-train (1)/PCOSGen-train/images/74image2.jpg\n",
      "/kaggle/input/pcos-picture/PCOSGen-train (1)/PCOSGen-train/images/image1836.jpg\n",
      "/kaggle/input/pcos-picture/PCOSGen-train (1)/PCOSGen-train/images/image3128.jpg\n",
      "/kaggle/input/pcos-picture/PCOSGen-train (1)/PCOSGen-train/images/image1275.jpg\n",
      "/kaggle/input/pcos-picture/PCOSGen-train (1)/PCOSGen-train/images/image3766.jpg\n",
      "/kaggle/input/pcos-picture/PCOSGen-train (1)/PCOSGen-train/images/96image23.jpg\n",
      "/kaggle/input/pcos-picture/PCOSGen-train (1)/PCOSGen-train/images/image1001.jpg\n",
      "/kaggle/input/pcos-picture/PCOSGen-train (1)/PCOSGen-train/images/image2909.jpg\n",
      "/kaggle/input/pcos-picture/PCOSGen-train (1)/PCOSGen-train/images/138image27.jpg\n",
      "/kaggle/input/pcos-picture/PCOSGen-train (1)/PCOSGen-train/images/image1172.jpg\n",
      "/kaggle/input/pcos-picture/PCOSGen-train (1)/PCOSGen-train/images/140image59.jpg\n",
      "/kaggle/input/pcos-picture/PCOSGen-train (1)/PCOSGen-train/images/image1562.jpg\n",
      "/kaggle/input/pcos-picture/PCOSGen-train (1)/PCOSGen-train/images/154image0123.jpg\n",
      "/kaggle/input/pcos-picture/PCOSGen-train (1)/PCOSGen-train/images/image2976.jpg\n",
      "/kaggle/input/pcos-picture/PCOSGen-train (1)/PCOSGen-train/images/image2728.jpg\n",
      "/kaggle/input/pcos-picture/PCOSGen-train (1)/PCOSGen-train/images/8image54.jpg\n",
      "/kaggle/input/pcos-picture/PCOSGen-train (1)/PCOSGen-train/images/image3193.jpg\n",
      "/kaggle/input/pcos-picture/PCOSGen-train (1)/PCOSGen-train/images/image3731.jpg\n",
      "/kaggle/input/pcos-picture/PCOSGen-train (1)/PCOSGen-train/images/image3344.jpg\n",
      "/kaggle/input/pcos-picture/PCOSGen-train (1)/PCOSGen-train/images/image3349.jpg\n",
      "/kaggle/input/pcos-picture/PCOSGen-train (1)/PCOSGen-train/images/normal_30.jpg\n",
      "/kaggle/input/pcos-picture/PCOSGen-train (1)/PCOSGen-train/images/image0966.jpg\n",
      "/kaggle/input/pcos-picture/PCOSGen-train (1)/PCOSGen-train/images/image2373.jpg\n",
      "/kaggle/input/pcos-picture/PCOSGen-train (1)/PCOSGen-train/images/image0705.jpg\n",
      "/kaggle/input/pcos-picture/PCOSGen-train (1)/PCOSGen-train/images/image2234.jpg\n",
      "/kaggle/input/pcos-picture/PCOSGen-train (1)/PCOSGen-train/images/image2089.jpg\n",
      "/kaggle/input/pcos-picture/PCOSGen-train (1)/PCOSGen-train/images/image3106.jpg\n",
      "/kaggle/input/pcos-picture/PCOSGen-train (1)/PCOSGen-train/images/image2185.jpg\n",
      "/kaggle/input/pcos-picture/PCOSGen-train (1)/PCOSGen-train/images/image3350.jpg\n",
      "/kaggle/input/pcos-picture/PCOSGen-train (1)/PCOSGen-train/images/image2148.jpg\n",
      "/kaggle/input/pcos-picture/PCOSGen-train (1)/PCOSGen-train/images/image0754.jpg\n",
      "/kaggle/input/pcos-picture/PCOSGen-train (1)/PCOSGen-train/images/image2062.jpg\n",
      "/kaggle/input/pcos-picture/PCOSGen-train (1)/PCOSGen-train/images/image3596.jpg\n",
      "/kaggle/input/pcos-picture/PCOSGen-train (1)/PCOSGen-train/images/image0970.jpg\n",
      "/kaggle/input/pcos-picture/PCOSGen-train (1)/PCOSGen-train/images/image0087.jpg\n",
      "/kaggle/input/pcos-picture/PCOSGen-train (1)/PCOSGen-train/images/image1188.jpg\n",
      "/kaggle/input/pcos-picture/PCOSGen-train (1)/PCOSGen-train/images/image1683.jpg\n",
      "/kaggle/input/pcos-picture/PCOSGen-train (1)/PCOSGen-train/images/94image88.jpg\n",
      "/kaggle/input/pcos-picture/PCOSGen-train (1)/PCOSGen-train/images/57image38.jpg\n",
      "/kaggle/input/pcos-picture/PCOSGen-train (1)/PCOSGen-train/images/image2825.jpg\n",
      "/kaggle/input/pcos-picture/PCOSGen-train (1)/PCOSGen-train/images/image3015.jpg\n",
      "/kaggle/input/pcos-picture/PCOSGen-train (1)/PCOSGen-train/images/image2635.jpg\n",
      "/kaggle/input/pcos-picture/PCOSGen-train (1)/PCOSGen-train/images/image0854.jpg\n",
      "/kaggle/input/pcos-picture/PCOSGen-train (1)/PCOSGen-train/images/64image0078.jpg\n",
      "/kaggle/input/pcos-picture/PCOSGen-train (1)/PCOSGen-train/images/image2556.jpg\n",
      "/kaggle/input/pcos-picture/PCOSGen-train (1)/PCOSGen-train/images/image2633.jpg\n",
      "/kaggle/input/pcos-picture/PCOSGen-train (1)/PCOSGen-train/images/image3322.jpg\n",
      "/kaggle/input/pcos-picture/PCOSGen-train (1)/PCOSGen-train/images/image0614.jpg\n",
      "/kaggle/input/pcos-picture/PCOSGen-train (1)/PCOSGen-train/images/image1694.jpg\n",
      "/kaggle/input/pcos-picture/PCOSGen-train (1)/PCOSGen-train/images/image0674.jpg\n",
      "/kaggle/input/pcos-picture/PCOSGen-train (1)/PCOSGen-train/images/image2191.jpg\n",
      "/kaggle/input/pcos-picture/PCOSGen-train (1)/PCOSGen-train/images/image1088.jpg\n",
      "/kaggle/input/pcos-picture/PCOSGen-train (1)/PCOSGen-train/images/96image86.jpg\n",
      "/kaggle/input/pcos-picture/PCOSGen-train (1)/PCOSGen-train/images/image3150.jpg\n",
      "/kaggle/input/pcos-picture/PCOSGen-train (1)/PCOSGen-train/images/image3630.jpg\n",
      "/kaggle/input/pcos-picture/PCOSGen-train (1)/PCOSGen-train/images/image3081.jpg\n",
      "/kaggle/input/pcos-picture/PCOSGen-train (1)/PCOSGen-train/images/195image17.jpg\n",
      "/kaggle/input/pcos-picture/PCOSGen-train (1)/PCOSGen-train/images/15image15.jpg\n",
      "/kaggle/input/pcos-picture/PCOSGen-train (1)/PCOSGen-train/images/image1069.jpg\n",
      "/kaggle/input/pcos-picture/PCOSGen-train (1)/PCOSGen-train/images/image0792.jpg\n",
      "/kaggle/input/pcos-picture/PCOSGen-train (1)/PCOSGen-train/images/image0744.jpg\n",
      "/kaggle/input/pcos-picture/PCOSGen-train (1)/PCOSGen-train/images/image3794.jpg\n",
      "/kaggle/input/pcos-picture/PCOSGen-train (1)/PCOSGen-train/images/image3101.jpg\n",
      "/kaggle/input/pcos-picture/PCOSGen-train (1)/PCOSGen-train/images/image3227.jpg\n",
      "/kaggle/input/pcos-picture/PCOSGen-train (1)/PCOSGen-train/images/124image42.jpg\n",
      "/kaggle/input/pcos-picture/PCOSGen-train (1)/PCOSGen-train/images/image1003.jpg\n",
      "/kaggle/input/pcos-picture/PCOSGen-train (1)/PCOSGen-train/images/image2777.jpg\n",
      "/kaggle/input/pcos-picture/PCOSGen-train (1)/PCOSGen-train/images/image2866.jpg\n",
      "/kaggle/input/pcos-picture/PCOSGen-train (1)/PCOSGen-train/images/93image62.jpg\n",
      "/kaggle/input/pcos-picture/PCOSGen-train (1)/PCOSGen-train/images/image3398.jpg\n",
      "/kaggle/input/pcos-picture/PCOSGen-train (1)/PCOSGen-train/images/image1150.jpg\n",
      "/kaggle/input/pcos-picture/PCOSGen-train (1)/PCOSGen-train/images/image1788.jpg\n",
      "/kaggle/input/pcos-picture/PCOSGen-train (1)/PCOSGen-train/images/5image42.jpg\n",
      "/kaggle/input/pcos-picture/PCOSGen-train (1)/PCOSGen-train/images/image3513.jpg\n",
      "/kaggle/input/pcos-picture/PCOSGen-train (1)/PCOSGen-train/images/image0803.jpg\n",
      "/kaggle/input/pcos-picture/PCOSGen-train (1)/PCOSGen-train/images/image0514.jpg\n",
      "/kaggle/input/pcos-picture/PCOSGen-train (1)/PCOSGen-train/images/image2143.jpg\n",
      "/kaggle/input/pcos-picture/PCOSGen-train (1)/PCOSGen-train/images/image0331.jpg\n",
      "/kaggle/input/pcos-picture/PCOSGen-train (1)/PCOSGen-train/images/image0328.jpg\n",
      "/kaggle/input/pcos-picture/PCOSGen-train (1)/PCOSGen-train/images/image2725.jpg\n",
      "/kaggle/input/pcos-picture/PCOSGen-train (1)/PCOSGen-train/images/image0747.jpg\n",
      "/kaggle/input/pcos-picture/PCOSGen-train (1)/PCOSGen-train/images/image2965.jpg\n",
      "/kaggle/input/pcos-picture/PCOSGen-train (1)/PCOSGen-train/images/image2697.jpg\n",
      "/kaggle/input/pcos-picture/PCOSGen-train (1)/PCOSGen-train/images/104image0086.jpg\n",
      "/kaggle/input/pcos-picture/PCOSGen-train (1)/PCOSGen-train/images/image1167.jpg\n",
      "/kaggle/input/pcos-picture/PCOSGen-train (1)/PCOSGen-train/images/image2953.jpg\n",
      "/kaggle/input/pcos-picture/PCOSGen-train (1)/PCOSGen-train/images/image1710.jpg\n",
      "/kaggle/input/pcos-picture/PCOSGen-train (1)/PCOSGen-train/images/image3233.jpg\n",
      "/kaggle/input/pcos-picture/PCOSGen-train (1)/PCOSGen-train/images/image2742.jpg\n",
      "/kaggle/input/pcos-picture/PCOSGen-train (1)/PCOSGen-train/images/image3540.jpg\n",
      "/kaggle/input/pcos-picture/PCOSGen-train (1)/PCOSGen-train/images/image2910.jpg\n",
      "/kaggle/input/pcos-picture/PCOSGen-train (1)/PCOSGen-train/images/180image49.jpg\n",
      "/kaggle/input/pcos-picture/PCOSGen-train (1)/PCOSGen-train/images/image0663.jpg\n",
      "/kaggle/input/pcos-picture/PCOSGen-train (1)/PCOSGen-train/images/image2807.jpg\n",
      "/kaggle/input/pcos-picture/PCOSGen-train (1)/PCOSGen-train/images/image3176.jpg\n",
      "/kaggle/input/pcos-picture/PCOSGen-train (1)/PCOSGen-train/images/image1148.jpg\n",
      "/kaggle/input/pcos-picture/PCOSGen-train (1)/PCOSGen-train/images/image2244.jpg\n",
      "/kaggle/input/pcos-picture/PCOSGen-train (1)/PCOSGen-train/images/image1033.jpg\n",
      "/kaggle/input/pcos-picture/PCOSGen-train (1)/PCOSGen-train/images/image0898.jpg\n",
      "/kaggle/input/pcos-picture/PCOSGen-train (1)/PCOSGen-train/images/image3222.jpg\n",
      "/kaggle/input/pcos-picture/PCOSGen-train (1)/PCOSGen-train/images/90image46.jpg\n",
      "/kaggle/input/pcos-picture/PCOSGen-train (1)/PCOSGen-train/images/image0117.jpg\n",
      "/kaggle/input/pcos-picture/PCOSGen-train (1)/PCOSGen-train/images/image3113.jpg\n",
      "/kaggle/input/pcos-picture/PCOSGen-train (1)/PCOSGen-train/images/image3530.jpg\n",
      "/kaggle/input/pcos-picture/PCOSGen-train (1)/PCOSGen-train/images/102image93.jpg\n",
      "/kaggle/input/pcos-picture/PCOSGen-train (1)/PCOSGen-train/images/image0306.jpg\n",
      "/kaggle/input/pcos-picture/PCOSGen-train (1)/PCOSGen-train/images/image3049.jpg\n",
      "/kaggle/input/pcos-picture/PCOSGen-train (1)/PCOSGen-train/images/image3837.jpg\n",
      "/kaggle/input/pcos-picture/PCOSGen-train (1)/PCOSGen-train/images/image2872.jpg\n",
      "/kaggle/input/pcos-picture/PCOSGen-train (1)/PCOSGen-train/images/image3655.jpg\n",
      "/kaggle/input/pcos-picture/PCOSGen-train (1)/PCOSGen-train/images/image1070.jpg\n",
      "/kaggle/input/pcos-picture/PCOSGen-train (1)/PCOSGen-train/images/image2882.jpg\n",
      "/kaggle/input/pcos-picture/PCOSGen-train (1)/PCOSGen-train/images/90image27.jpg\n",
      "/kaggle/input/pcos-picture/PCOSGen-train (1)/PCOSGen-train/images/image0893.jpg\n",
      "/kaggle/input/pcos-picture/PCOSGen-train (1)/PCOSGen-train/images/image1850.jpg\n",
      "/kaggle/input/pcos-picture/PCOSGen-train (1)/PCOSGen-train/images/image0707.jpg\n",
      "/kaggle/input/pcos-picture/PCOSGen-train (1)/PCOSGen-train/images/140image0122.jpg\n",
      "/kaggle/input/pcos-picture/PCOSGen-train (1)/PCOSGen-train/images/95image0061.jpg\n",
      "/kaggle/input/pcos-picture/PCOSGen-train (1)/PCOSGen-train/images/image2438.jpg\n",
      "/kaggle/input/pcos-picture/PCOSGen-train (1)/PCOSGen-train/images/image3718.jpg\n",
      "/kaggle/input/pcos-picture/PCOSGen-train (1)/PCOSGen-train/images/image2634.jpg\n",
      "/kaggle/input/pcos-picture/PCOSGen-train (1)/PCOSGen-train/images/image3401.jpg\n",
      "/kaggle/input/pcos-picture/PCOSGen-train (1)/PCOSGen-train/images/image1042.jpg\n",
      "/kaggle/input/pcos-picture/PCOSGen-train (1)/PCOSGen-train/images/image0656.jpg\n",
      "/kaggle/input/pcos-picture/PCOSGen-train (1)/PCOSGen-train/images/image3639.jpg\n",
      "/kaggle/input/pcos-picture/PCOSGen-train (1)/PCOSGen-train/images/image1873.jpg\n",
      "/kaggle/input/pcos-picture/PCOSGen-train (1)/PCOSGen-train/images/112image12.jpg\n",
      "/kaggle/input/pcos-picture/PCOSGen-train (1)/PCOSGen-train/images/image3447.jpg\n",
      "/kaggle/input/pcos-picture/PCOSGen-train (1)/PCOSGen-train/images/image2272.jpg\n",
      "/kaggle/input/pcos-picture/PCOSGen-train (1)/PCOSGen-train/images/image2892.jpg\n",
      "/kaggle/input/pcos-picture/PCOSGen-train (1)/PCOSGen-train/images/image2514.jpg\n",
      "/kaggle/input/pcos-picture/PCOSGen-train (1)/PCOSGen-train/images/image1229.jpg\n",
      "/kaggle/input/pcos-picture/PCOSGen-train (1)/PCOSGen-train/images/image2729.jpg\n",
      "/kaggle/input/pcos-picture/PCOSGen-train (1)/PCOSGen-train/images/image2396.jpg\n",
      "/kaggle/input/pcos-picture/PCOSGen-train (1)/PCOSGen-train/images/210image25.jpg\n",
      "/kaggle/input/pcos-picture/PCOSGen-train (1)/PCOSGen-train/images/image1155.jpg\n",
      "/kaggle/input/pcos-picture/PCOSGen-train (1)/PCOSGen-train/images/image0963.jpg\n",
      "/kaggle/input/pcos-picture/PCOSGen-train (1)/PCOSGen-train/images/152image58.jpg\n",
      "/kaggle/input/pcos-picture/PCOSGen-train (1)/PCOSGen-train/images/image1056.jpg\n",
      "/kaggle/input/pcos-picture/PCOSGen-train (1)/PCOSGen-train/images/195image33.jpg\n",
      "/kaggle/input/pcos-picture/PCOSGen-train (1)/PCOSGen-train/images/image0445.jpg\n",
      "/kaggle/input/pcos-picture/PCOSGen-train (1)/PCOSGen-train/images/image2991.jpg\n",
      "/kaggle/input/pcos-picture/PCOSGen-train (1)/PCOSGen-train/images/image2316.jpg\n",
      "/kaggle/input/pcos-picture/PCOSGen-train (1)/PCOSGen-train/images/image0790.jpg\n",
      "/kaggle/input/pcos-picture/PCOSGen-train (1)/PCOSGen-train/images/image1774.jpg\n",
      "/kaggle/input/pcos-picture/PCOSGen-train (1)/PCOSGen-train/images/image0897.jpg\n",
      "/kaggle/input/pcos-picture/PCOSGen-train (1)/PCOSGen-train/images/image3083.jpg\n",
      "/kaggle/input/pcos-picture/PCOSGen-train (1)/PCOSGen-train/images/image3182.jpg\n",
      "/kaggle/input/pcos-picture/PCOSGen-train (1)/PCOSGen-train/images/19image0039.jpg\n",
      "/kaggle/input/pcos-picture/PCOSGen-train (1)/PCOSGen-train/images/image3034.jpg\n",
      "/kaggle/input/pcos-picture/PCOSGen-train (1)/PCOSGen-train/images/image1875.jpg\n",
      "/kaggle/input/pcos-picture/PCOSGen-train (1)/PCOSGen-train/images/image3574.jpg\n",
      "/kaggle/input/pcos-picture/PCOSGen-train (1)/PCOSGen-train/images/198image23.jpg\n",
      "/kaggle/input/pcos-picture/PCOSGen-train (1)/PCOSGen-train/images/image0510.jpg\n",
      "/kaggle/input/pcos-picture/PCOSGen-train (1)/PCOSGen-train/images/image3828.jpg\n",
      "/kaggle/input/pcos-picture/PCOSGen-train (1)/PCOSGen-train/images/image3538.jpg\n",
      "/kaggle/input/pcos-picture/PCOSGen-train (1)/PCOSGen-train/images/image1829.jpg\n",
      "/kaggle/input/pcos-picture/PCOSGen-train (1)/PCOSGen-train/images/image2766.jpg\n",
      "/kaggle/input/pcos-picture/PCOSGen-train (1)/PCOSGen-train/images/image2799.jpg\n",
      "/kaggle/input/pcos-picture/PCOSGen-train (1)/PCOSGen-train/images/image0685.jpg\n",
      "/kaggle/input/pcos-picture/PCOSGen-train (1)/PCOSGen-train/images/image0806.jpg\n",
      "/kaggle/input/pcos-picture/PCOSGen-train (1)/PCOSGen-train/images/image2395.jpg\n",
      "/kaggle/input/pcos-picture/PCOSGen-train (1)/PCOSGen-train/images/image3473.jpg\n",
      "/kaggle/input/pcos-picture/PCOSGen-train (1)/PCOSGen-train/images/image2594.jpg\n",
      "/kaggle/input/pcos-picture/PCOSGen-train (1)/PCOSGen-train/images/image0659.jpg\n",
      "/kaggle/input/pcos-picture/PCOSGen-train (1)/PCOSGen-train/images/image1768.jpg\n",
      "/kaggle/input/pcos-picture/PCOSGen-train (1)/PCOSGen-train/images/image2750.jpg\n",
      "/kaggle/input/pcos-picture/PCOSGen-train (1)/PCOSGen-train/images/image0948.jpg\n",
      "/kaggle/input/pcos-picture/PCOSGen-train (1)/PCOSGen-train/images/1019image14.jpg\n",
      "/kaggle/input/pcos-picture/PCOSGen-train (1)/PCOSGen-train/images/image3659.jpg\n",
      "/kaggle/input/pcos-picture/PCOSGen-train (1)/PCOSGen-train/images/image0294.jpg\n",
      "/kaggle/input/pcos-picture/PCOSGen-train (1)/PCOSGen-train/images/image0888.jpg\n",
      "/kaggle/input/pcos-picture/PCOSGen-train (1)/PCOSGen-train/images/70image0095.jpg\n",
      "/kaggle/input/pcos-picture/PCOSGen-train (1)/PCOSGen-train/images/image0297.jpg\n",
      "/kaggle/input/pcos-picture/PCOSGen-train (1)/PCOSGen-train/images/image0731.jpg\n",
      "/kaggle/input/pcos-picture/PCOSGen-train (1)/PCOSGen-train/images/image2843.jpg\n",
      "/kaggle/input/pcos-picture/PCOSGen-train (1)/PCOSGen-train/images/image2624.jpg\n",
      "/kaggle/input/pcos-picture/PCOSGen-train (1)/PCOSGen-train/images/image0237.jpg\n",
      "/kaggle/input/pcos-picture/PCOSGen-train (1)/PCOSGen-train/images/image0777.jpg\n",
      "/kaggle/input/pcos-picture/PCOSGen-train (1)/PCOSGen-train/images/146image73.jpg\n",
      "/kaggle/input/pcos-picture/PCOSGen-train (1)/PCOSGen-train/images/image0862.jpg\n",
      "/kaggle/input/pcos-picture/PCOSGen-train (1)/PCOSGen-train/images/image0823.jpg\n",
      "/kaggle/input/pcos-picture/PCOSGen-train (1)/PCOSGen-train/images/image0562.jpg\n",
      "/kaggle/input/pcos-picture/PCOSGen-train (1)/PCOSGen-train/images/160image8.jpg\n",
      "/kaggle/input/pcos-picture/PCOSGen-train (1)/PCOSGen-train/images/198image7.jpg\n",
      "/kaggle/input/pcos-picture/PCOSGen-train (1)/PCOSGen-train/images/148image64.jpg\n",
      "/kaggle/input/pcos-picture/PCOSGen-train (1)/PCOSGen-train/images/image2387.jpg\n",
      "/kaggle/input/pcos-picture/PCOSGen-train (1)/PCOSGen-train/images/image1815.jpg\n",
      "/kaggle/input/pcos-picture/PCOSGen-train (1)/PCOSGen-train/images/image0692.jpg\n",
      "/kaggle/input/pcos-picture/PCOSGen-train (1)/PCOSGen-train/images/image1936.jpg\n",
      "/kaggle/input/pcos-picture/PCOSGen-train (1)/PCOSGen-train/images/image0503.jpg\n",
      "/kaggle/input/pcos-picture/PCOSGen-train (1)/PCOSGen-train/images/110image82.jpg\n",
      "/kaggle/input/pcos-picture/PCOSGen-train (1)/PCOSGen-train/images/image3353.jpg\n",
      "/kaggle/input/pcos-picture/PCOSGen-train (1)/PCOSGen-train/images/92image26.jpg\n",
      "/kaggle/input/pcos-picture/PCOSGen-train (1)/PCOSGen-train/images/167image14.jpg\n",
      "/kaggle/input/pcos-picture/PCOSGen-train (1)/PCOSGen-train/images/image0415.jpg\n",
      "/kaggle/input/pcos-picture/PCOSGen-train (1)/PCOSGen-train/images/image0276.jpg\n",
      "/kaggle/input/pcos-picture/PCOSGen-train (1)/PCOSGen-train/images/image0619.jpg\n",
      "/kaggle/input/pcos-picture/PCOSGen-train (1)/PCOSGen-train/images/image0429.jpg\n",
      "/kaggle/input/pcos-picture/PCOSGen-train (1)/PCOSGen-train/images/normal_27.jpg\n",
      "/kaggle/input/pcos-picture/PCOSGen-train (1)/PCOSGen-train/images/image0471.jpg\n",
      "/kaggle/input/pcos-picture/PCOSGen-train (1)/PCOSGen-train/images/image0472.jpg\n",
      "/kaggle/input/pcos-picture/PCOSGen-train (1)/PCOSGen-train/images/image3416.jpg\n",
      "/kaggle/input/pcos-picture/PCOSGen-train (1)/PCOSGen-train/images/image0300.jpg\n",
      "/kaggle/input/pcos-picture/PCOSGen-train (1)/PCOSGen-train/images/image0746.jpg\n",
      "/kaggle/input/pcos-picture/PCOSGen-train (1)/PCOSGen-train/images/image3371.jpg\n",
      "/kaggle/input/pcos-picture/PCOSGen-train (1)/PCOSGen-train/images/image2105.jpg\n",
      "/kaggle/input/pcos-picture/PCOSGen-train (1)/PCOSGen-train/images/image3369.jpg\n",
      "/kaggle/input/pcos-picture/PCOSGen-train (1)/PCOSGen-train/images/image1025.jpg\n",
      "/kaggle/input/pcos-picture/PCOSGen-train (1)/PCOSGen-train/images/154image2.jpg\n",
      "/kaggle/input/pcos-picture/PCOSGen-train (1)/PCOSGen-train/images/image3424.jpg\n",
      "/kaggle/input/pcos-picture/PCOSGen-train (1)/PCOSGen-train/images/image2176.jpg\n",
      "/kaggle/input/pcos-picture/PCOSGen-train (1)/PCOSGen-train/images/97image31.jpg\n",
      "/kaggle/input/pcos-picture/PCOSGen-train (1)/PCOSGen-train/images/image3456.jpg\n",
      "/kaggle/input/pcos-picture/PCOSGen-train (1)/PCOSGen-train/images/image2245.jpg\n",
      "/kaggle/input/pcos-picture/PCOSGen-train (1)/PCOSGen-train/images/image3591.jpg\n",
      "/kaggle/input/pcos-picture/PCOSGen-train (1)/PCOSGen-train/images/50image8.jpg\n",
      "/kaggle/input/pcos-picture/PCOSGen-train (1)/PCOSGen-train/images/image1707.jpg\n",
      "/kaggle/input/pcos-picture/PCOSGen-train (1)/PCOSGen-train/images/image0718.jpg\n",
      "/kaggle/input/pcos-picture/PCOSGen-train (1)/PCOSGen-train/images/image2981.jpg\n",
      "/kaggle/input/pcos-picture/PCOSGen-train (1)/PCOSGen-train/images/image1791.jpg\n",
      "/kaggle/input/pcos-picture/PCOSGen-train (1)/PCOSGen-train/images/image0950.jpg\n",
      "/kaggle/input/pcos-picture/PCOSGen-train (1)/PCOSGen-train/images/image0334.jpg\n",
      "/kaggle/input/pcos-picture/PCOSGen-train (1)/PCOSGen-train/images/image3836.jpg\n",
      "/kaggle/input/pcos-picture/PCOSGen-train (1)/PCOSGen-train/images/30image74.jpg\n",
      "/kaggle/input/pcos-picture/PCOSGen-train (1)/PCOSGen-train/images/154image24.jpg\n",
      "/kaggle/input/pcos-picture/PCOSGen-train (1)/PCOSGen-train/images/99image85.jpg\n",
      "/kaggle/input/pcos-picture/PCOSGen-train (1)/PCOSGen-train/images/image0788.jpg\n",
      "/kaggle/input/pcos-picture/PCOSGen-train (1)/PCOSGen-train/images/image2136.jpg\n",
      "/kaggle/input/pcos-picture/PCOSGen-train (1)/PCOSGen-train/images/image1277.jpg\n",
      "/kaggle/input/pcos-picture/PCOSGen-train (1)/PCOSGen-train/images/image0099.jpg\n",
      "/kaggle/input/pcos-picture/PCOSGen-train (1)/PCOSGen-train/images/16image34.jpg\n",
      "/kaggle/input/pcos-picture/PCOSGen-train (1)/PCOSGen-train/images/image0590.jpg\n",
      "/kaggle/input/pcos-picture/PCOSGen-train (1)/PCOSGen-train/images/image3249.jpg\n",
      "/kaggle/input/pcos-picture/PCOSGen-train (1)/PCOSGen-train/images/image1091.jpg\n",
      "/kaggle/input/pcos-picture/PCOSGen-train (1)/PCOSGen-train/images/image0872.jpg\n",
      "/kaggle/input/pcos-picture/PCOSGen-train (1)/PCOSGen-train/images/image1949.jpg\n",
      "/kaggle/input/pcos-picture/PCOSGen-train (1)/PCOSGen-train/images/image0295.jpg\n",
      "/kaggle/input/pcos-picture/PCOSGen-train (1)/PCOSGen-train/images/125image0.jpg\n",
      "/kaggle/input/pcos-picture/PCOSGen-train (1)/PCOSGen-train/images/image3250.jpg\n",
      "/kaggle/input/pcos-picture/PCOSGen-train (1)/PCOSGen-train/images/image0287.jpg\n",
      "/kaggle/input/pcos-picture/PCOSGen-train (1)/PCOSGen-train/images/image2740.jpg\n",
      "/kaggle/input/pcos-picture/PCOSGen-train (1)/PCOSGen-train/images/12image72.jpg\n",
      "/kaggle/input/pcos-picture/PCOSGen-train (1)/PCOSGen-train/images/image3726.jpg\n",
      "/kaggle/input/pcos-picture/PCOSGen-train (1)/PCOSGen-train/images/image0569.jpg\n",
      "/kaggle/input/pcos-picture/PCOSGen-train (1)/PCOSGen-train/images/image3686.jpg\n",
      "/kaggle/input/pcos-picture/PCOSGen-train (1)/PCOSGen-train/images/image0622.jpg\n",
      "/kaggle/input/pcos-picture/PCOSGen-train (1)/PCOSGen-train/images/image2334.jpg\n",
      "/kaggle/input/pcos-picture/PCOSGen-train (1)/PCOSGen-train/images/image0768.jpg\n",
      "/kaggle/input/pcos-picture/PCOSGen-train (1)/PCOSGen-train/images/image1835.jpg\n",
      "/kaggle/input/pcos-picture/PCOSGen-train (1)/PCOSGen-train/images/image0635.jpg\n",
      "/kaggle/input/pcos-picture/PCOSGen-train (1)/PCOSGen-train/images/image3549.jpg\n",
      "/kaggle/input/pcos-picture/PCOSGen-train (1)/PCOSGen-train/images/image0570.jpg\n",
      "/kaggle/input/pcos-picture/PCOSGen-train (1)/PCOSGen-train/images/image3199.jpg\n",
      "/kaggle/input/pcos-picture/PCOSGen-train (1)/PCOSGen-train/images/image0909.jpg\n",
      "/kaggle/input/pcos-picture/PCOSGen-train (1)/PCOSGen-train/images/192image7.jpg\n",
      "/kaggle/input/pcos-picture/PCOSGen-train (1)/PCOSGen-train/images/image0773.jpg\n",
      "/kaggle/input/pcos-picture/PCOSGen-train (1)/PCOSGen-train/images/image3811.jpg\n",
      "/kaggle/input/pcos-picture/PCOSGen-train (1)/PCOSGen-train/images/image0807.jpg\n",
      "/kaggle/input/pcos-picture/PCOSGen-train (1)/PCOSGen-train/images/213image15.jpg\n",
      "/kaggle/input/pcos-picture/PCOSGen-train (1)/PCOSGen-train/images/image3563.jpg\n",
      "/kaggle/input/pcos-picture/PCOSGen-train (1)/PCOSGen-train/images/image3127.jpg\n",
      "/kaggle/input/pcos-picture/PCOSGen-train (1)/PCOSGen-train/images/image0781.jpg\n",
      "/kaggle/input/pcos-picture/PCOSGen-train (1)/PCOSGen-train/images/image2957.jpg\n",
      "/kaggle/input/pcos-picture/PCOSGen-train (1)/PCOSGen-train/images/21image0014.jpg\n",
      "/kaggle/input/pcos-picture/PCOSGen-train (1)/PCOSGen-train/images/image2844.jpg\n",
      "/kaggle/input/pcos-picture/PCOSGen-train (1)/PCOSGen-train/images/image0362.jpg\n",
      "/kaggle/input/pcos-picture/PCOSGen-train (1)/PCOSGen-train/images/image0554.jpg\n",
      "/kaggle/input/pcos-picture/PCOSGen-train (1)/PCOSGen-train/images/image0361.jpg\n",
      "/kaggle/input/pcos-picture/PCOSGen-train (1)/PCOSGen-train/images/image0637.jpg\n",
      "/kaggle/input/pcos-picture/PCOSGen-train (1)/PCOSGen-train/images/image3483.jpg\n",
      "/kaggle/input/pcos-picture/PCOSGen-train (1)/PCOSGen-train/images/image2754.jpg\n",
      "/kaggle/input/pcos-picture/PCOSGen-train (1)/PCOSGen-train/images/183image35.jpg\n",
      "/kaggle/input/pcos-picture/PCOSGen-train (1)/PCOSGen-train/images/image1639.jpg\n",
      "/kaggle/input/pcos-picture/PCOSGen-train (1)/PCOSGen-train/images/image0936.jpg\n",
      "/kaggle/input/pcos-picture/PCOSGen-train (1)/PCOSGen-train/images/image0275.jpg\n",
      "/kaggle/input/pcos-picture/PCOSGen-train (1)/PCOSGen-train/images/image2436.jpg\n",
      "/kaggle/input/pcos-picture/PCOSGen-train (1)/PCOSGen-train/images/image3511.jpg\n",
      "/kaggle/input/pcos-picture/PCOSGen-train (1)/PCOSGen-train/images/image0602.jpg\n",
      "/kaggle/input/pcos-picture/PCOSGen-train (1)/PCOSGen-train/images/image0477.jpg\n",
      "/kaggle/input/pcos-picture/PCOSGen-train (1)/PCOSGen-train/images/image0657.jpg\n",
      "/kaggle/input/pcos-picture/PCOSGen-train (1)/PCOSGen-train/images/image3640.jpg\n",
      "/kaggle/input/pcos-picture/PCOSGen-train (1)/PCOSGen-train/images/237image18.jpg\n",
      "/kaggle/input/pcos-picture/PCOSGen-train (1)/PCOSGen-train/images/image0035.jpg\n",
      "/kaggle/input/pcos-picture/PCOSGen-train (1)/PCOSGen-train/images/image0239.jpg\n",
      "/kaggle/input/pcos-picture/PCOSGen-train (1)/PCOSGen-train/images/image2539.jpg\n",
      "/kaggle/input/pcos-picture/PCOSGen-train (1)/PCOSGen-train/images/image3597.jpg\n",
      "/kaggle/input/pcos-picture/PCOSGen-train (1)/PCOSGen-train/images/image1161.jpg\n",
      "/kaggle/input/pcos-picture/PCOSGen-train (1)/PCOSGen-train/images/image0965.jpg\n",
      "/kaggle/input/pcos-picture/PCOSGen-train (1)/PCOSGen-train/images/image0653.jpg\n",
      "/kaggle/input/pcos-picture/PCOSGen-train (1)/PCOSGen-train/images/image1087.jpg\n",
      "/kaggle/input/pcos-picture/PCOSGen-train (1)/PCOSGen-train/images/image1279.jpg\n",
      "/kaggle/input/pcos-picture/PCOSGen-train (1)/PCOSGen-train/images/image3305.jpg\n",
      "/kaggle/input/pcos-picture/PCOSGen-train (1)/PCOSGen-train/images/image1833.jpg\n",
      "/kaggle/input/pcos-picture/PCOSGen-train (1)/PCOSGen-train/images/image0789.jpg\n",
      "/kaggle/input/pcos-picture/PCOSGen-train (1)/PCOSGen-train/images/image2524.jpg\n",
      "/kaggle/input/pcos-picture/PCOSGen-train (1)/PCOSGen-train/images/image1827.jpg\n",
      "/kaggle/input/pcos-picture/PCOSGen-train (1)/PCOSGen-train/images/image3097.jpg\n",
      "/kaggle/input/pcos-picture/PCOSGen-train (1)/PCOSGen-train/images/image0917.jpg\n",
      "/kaggle/input/pcos-picture/PCOSGen-train (1)/PCOSGen-train/images/image0877.jpg\n",
      "/kaggle/input/pcos-picture/PCOSGen-train (1)/PCOSGen-train/images/image3754.jpg\n",
      "/kaggle/input/pcos-picture/PCOSGen-train (1)/PCOSGen-train/images/63image33.jpg\n",
      "/kaggle/input/pcos-picture/PCOSGen-train (1)/PCOSGen-train/images/image2405.jpg\n",
      "/kaggle/input/pcos-picture/PCOSGen-train (1)/PCOSGen-train/images/image3471.jpg\n",
      "/kaggle/input/pcos-picture/PCOSGen-train (1)/PCOSGen-train/images/image0976.jpg\n",
      "/kaggle/input/pcos-picture/PCOSGen-train (1)/PCOSGen-train/images/image2984.jpg\n",
      "/kaggle/input/pcos-picture/PCOSGen-train (1)/PCOSGen-train/images/image0512.jpg\n",
      "/kaggle/input/pcos-picture/PCOSGen-train (1)/PCOSGen-train/images/177image105.jpg\n",
      "/kaggle/input/pcos-picture/PCOSGen-train (1)/PCOSGen-train/images/image1118.jpg\n",
      "/kaggle/input/pcos-picture/PCOSGen-train (1)/PCOSGen-train/images/image0860.jpg\n",
      "/kaggle/input/pcos-picture/PCOSGen-train (1)/PCOSGen-train/images/image3698.jpg\n",
      "/kaggle/input/pcos-picture/PCOSGen-train (1)/PCOSGen-train/images/image0103.jpg\n",
      "/kaggle/input/pcos-picture/PCOSGen-train (1)/PCOSGen-train/images/image2783.jpg\n",
      "/kaggle/input/pcos-picture/PCOSGen-train (1)/PCOSGen-train/images/image3787.jpg\n",
      "/kaggle/input/pcos-picture/PCOSGen-train (1)/PCOSGen-train/images/image1276.jpg\n",
      "/kaggle/input/pcos-picture/PCOSGen-train (1)/PCOSGen-train/images/image2718.jpg\n",
      "/kaggle/input/pcos-picture/PCOSGen-train (1)/PCOSGen-train/images/image3091.jpg\n",
      "/kaggle/input/pcos-picture/PCOSGen-train (1)/PCOSGen-train/images/image0996.jpg\n",
      "/kaggle/input/pcos-picture/PCOSGen-train (1)/PCOSGen-train/images/image0338.jpg\n",
      "/kaggle/input/pcos-picture/PCOSGen-train (1)/PCOSGen-train/images/image3125.jpg\n",
      "/kaggle/input/pcos-picture/PCOSGen-train (1)/PCOSGen-train/images/image0401.jpg\n",
      "/kaggle/input/pcos-picture/PCOSGen-train (1)/PCOSGen-train/images/image2903.jpg\n",
      "/kaggle/input/pcos-picture/PCOSGen-train (1)/PCOSGen-train/images/image2932.jpg\n",
      "/kaggle/input/pcos-picture/PCOSGen-train (1)/PCOSGen-train/images/145image15.jpg\n",
      "/kaggle/input/pcos-picture/PCOSGen-train (1)/PCOSGen-train/images/image1963.jpg\n",
      "/kaggle/input/pcos-picture/PCOSGen-train (1)/PCOSGen-train/images/image1760.jpg\n",
      "/kaggle/input/pcos-picture/PCOSGen-train (1)/PCOSGen-train/images/image0858.jpg\n",
      "/kaggle/input/pcos-picture/PCOSGen-train (1)/PCOSGen-train/images/image2830.jpg\n",
      "/kaggle/input/pcos-picture/PCOSGen-train (1)/PCOSGen-train/images/image1642.jpg\n",
      "/kaggle/input/pcos-picture/PCOSGen-train (1)/PCOSGen-train/images/image2636.jpg\n",
      "/kaggle/input/pcos-picture/PCOSGen-train (1)/PCOSGen-train/images/image1046.jpg\n",
      "/kaggle/input/pcos-picture/PCOSGen-train (1)/PCOSGen-train/images/image2826.jpg\n",
      "/kaggle/input/pcos-picture/PCOSGen-train (1)/PCOSGen-train/images/image0523.jpg\n",
      "/kaggle/input/pcos-picture/PCOSGen-train (1)/PCOSGen-train/images/image3733.jpg\n",
      "/kaggle/input/pcos-picture/PCOSGen-train (1)/PCOSGen-train/images/94image24.jpg\n",
      "/kaggle/input/pcos-picture/PCOSGen-train (1)/PCOSGen-train/images/image0480.jpg\n",
      "/kaggle/input/pcos-picture/PCOSGen-train (1)/PCOSGen-train/images/11image49.jpg\n",
      "/kaggle/input/pcos-picture/PCOSGen-train (1)/PCOSGen-train/images/image0314.jpg\n",
      "/kaggle/input/pcos-picture/PCOSGen-train (1)/PCOSGen-train/images/81image10.jpg\n",
      "/kaggle/input/pcos-picture/PCOSGen-train (1)/PCOSGen-train/images/image2515.jpg\n",
      "/kaggle/input/pcos-picture/PCOSGen-train (1)/PCOSGen-train/images/44image0004.jpg\n",
      "/kaggle/input/pcos-picture/PCOSGen-train (1)/PCOSGen-train/images/image2414.jpg\n",
      "/kaggle/input/pcos-picture/PCOSGen-train (1)/PCOSGen-train/images/image3023.jpg\n",
      "/kaggle/input/pcos-picture/PCOSGen-train (1)/PCOSGen-train/images/image3105.jpg\n",
      "/kaggle/input/pcos-picture/PCOSGen-train (1)/PCOSGen-train/images/pco_8.jpg\n",
      "/kaggle/input/pcos-picture/PCOSGen-train (1)/PCOSGen-train/images/image0833.jpg\n",
      "/kaggle/input/pcos-picture/PCOSGen-train (1)/PCOSGen-train/images/image0626.jpg\n",
      "/kaggle/input/pcos-picture/PCOSGen-train (1)/PCOSGen-train/images/image2868.jpg\n",
      "/kaggle/input/pcos-picture/PCOSGen-train (1)/PCOSGen-train/images/image3626.jpg\n",
      "/kaggle/input/pcos-picture/PCOSGen-train (1)/PCOSGen-train/images/image1158.jpg\n",
      "/kaggle/input/pcos-picture/PCOSGen-train (1)/PCOSGen-train/images/image1824.jpg\n",
      "/kaggle/input/pcos-picture/PCOSGen-train (1)/PCOSGen-train/images/image0226.jpg\n",
      "/kaggle/input/pcos-picture/PCOSGen-train (1)/PCOSGen-train/images/image2175.jpg\n",
      "/kaggle/input/pcos-picture/PCOSGen-train (1)/PCOSGen-train/images/image1466.jpg\n",
      "/kaggle/input/pcos-picture/PCOSGen-train (1)/PCOSGen-train/images/image3054.jpg\n",
      "/kaggle/input/pcos-picture/PCOSGen-train (1)/PCOSGen-train/images/532image27.jpg\n",
      "/kaggle/input/pcos-picture/PCOSGen-train (1)/PCOSGen-train/images/image2863.jpg\n",
      "/kaggle/input/pcos-picture/PCOSGen-train (1)/PCOSGen-train/images/image0740.jpg\n",
      "/kaggle/input/pcos-picture/PCOSGen-train (1)/PCOSGen-train/images/image0414.jpg\n",
      "/kaggle/input/pcos-picture/PCOSGen-train (1)/PCOSGen-train/images/image0325.jpg\n",
      "/kaggle/input/pcos-picture/PCOSGen-train (1)/PCOSGen-train/images/image3572.jpg\n",
      "/kaggle/input/pcos-picture/PCOSGen-train (1)/PCOSGen-train/images/image2260.jpg\n",
      "/kaggle/input/pcos-picture/PCOSGen-train (1)/PCOSGen-train/images/image0825.jpg\n",
      "/kaggle/input/pcos-picture/PCOSGen-train (1)/PCOSGen-train/images/190image35.jpg\n",
      "/kaggle/input/pcos-picture/PCOSGen-train (1)/PCOSGen-train/images/image0317.jpg\n",
      "/kaggle/input/pcos-picture/PCOSGen-train (1)/PCOSGen-train/images/image3725.jpg\n",
      "/kaggle/input/pcos-picture/PCOSGen-train (1)/PCOSGen-train/images/image0250.jpg\n",
      "/kaggle/input/pcos-picture/PCOSGen-train (1)/PCOSGen-train/images/image3236.jpg\n",
      "/kaggle/input/pcos-picture/PCOSGen-train (1)/PCOSGen-train/images/image2996.jpg\n",
      "/kaggle/input/pcos-picture/PCOSGen-train (1)/PCOSGen-train/images/image2239.jpg\n",
      "/kaggle/input/pcos-picture/PCOSGen-train (1)/PCOSGen-train/images/20image0037.jpg\n",
      "/kaggle/input/pcos-picture/PCOSGen-train (1)/PCOSGen-train/images/image2734.jpg\n",
      "/kaggle/input/pcos-picture/PCOSGen-train (1)/PCOSGen-train/images/image2678.jpg\n",
      "/kaggle/input/pcos-picture/PCOSGen-train (1)/PCOSGen-train/images/image3523.jpg\n",
      "/kaggle/input/pcos-picture/PCOSGen-train (1)/PCOSGen-train/images/130image40.jpg\n",
      "/kaggle/input/pcos-picture/PCOSGen-train (1)/PCOSGen-train/images/image3378.jpg\n",
      "/kaggle/input/pcos-picture/PCOSGen-train (1)/PCOSGen-train/images/image3631.jpg\n",
      "/kaggle/input/pcos-picture/PCOSGen-train (1)/PCOSGen-train/images/53image0012.jpg\n",
      "/kaggle/input/pcos-picture/PCOSGen-train (1)/PCOSGen-train/images/image3722.jpg\n",
      "/kaggle/input/pcos-picture/PCOSGen-train (1)/PCOSGen-train/images/image1911.jpg\n",
      "/kaggle/input/pcos-picture/PCOSGen-train (1)/PCOSGen-train/images/image3147.jpg\n",
      "/kaggle/input/pcos-picture/PCOSGen-train (1)/PCOSGen-train/images/153image45.jpg\n",
      "/kaggle/input/pcos-picture/PCOSGen-train (1)/PCOSGen-train/images/image2456.jpg\n",
      "/kaggle/input/pcos-picture/PCOSGen-train (1)/PCOSGen-train/images/image3414.jpg\n",
      "/kaggle/input/pcos-picture/PCOSGen-train (1)/PCOSGen-train/images/image1384.jpg\n",
      "/kaggle/input/pcos-picture/PCOSGen-train (1)/PCOSGen-train/images/image2747.jpg\n",
      "/kaggle/input/pcos-picture/PCOSGen-train (1)/PCOSGen-train/images/image0078.jpg\n",
      "/kaggle/input/pcos-picture/PCOSGen-train (1)/PCOSGen-train/images/image3362.jpg\n",
      "/kaggle/input/pcos-picture/PCOSGen-train (1)/PCOSGen-train/images/image2769.jpg\n",
      "/kaggle/input/pcos-picture/PCOSGen-train (1)/PCOSGen-train/images/image1689.jpg\n",
      "/kaggle/input/pcos-picture/PCOSGen-train (1)/PCOSGen-train/images/190image12.jpg\n",
      "/kaggle/input/pcos-picture/PCOSGen-train (1)/PCOSGen-train/images/88image18.jpg\n",
      "/kaggle/input/pcos-picture/PCOSGen-train (1)/PCOSGen-train/images/image2564.jpg\n",
      "/kaggle/input/pcos-picture/PCOSGen-train (1)/PCOSGen-train/images/image3623.jpg\n",
      "/kaggle/input/pcos-picture/PCOSGen-train (1)/PCOSGen-train/images/image3107.jpg\n",
      "/kaggle/input/pcos-picture/PCOSGen-train (1)/PCOSGen-train/images/image1680.jpg\n",
      "/kaggle/input/pcos-picture/PCOSGen-train (1)/PCOSGen-train/images/image3320.jpg\n",
      "/kaggle/input/pcos-picture/PCOSGen-train (1)/PCOSGen-train/images/image1007.jpg\n",
      "/kaggle/input/pcos-picture/PCOSGen-train (1)/PCOSGen-train/images/image0437.jpg\n",
      "/kaggle/input/pcos-picture/PCOSGen-train (1)/PCOSGen-train/images/image3213.jpg\n",
      "/kaggle/input/pcos-picture/PCOSGen-train (1)/PCOSGen-train/images/image1943.jpg\n",
      "/kaggle/input/pcos-picture/PCOSGen-train (1)/PCOSGen-train/images/image0928.jpg\n",
      "/kaggle/input/pcos-picture/PCOSGen-train (1)/PCOSGen-train/images/image0368.jpg\n",
      "/kaggle/input/pcos-picture/PCOSGen-train (1)/PCOSGen-train/images/image0319.jpg\n",
      "/kaggle/input/pcos-picture/PCOSGen-train (1)/PCOSGen-train/images/74image0091.jpg\n",
      "/kaggle/input/pcos-picture/PCOSGen-train (1)/PCOSGen-train/images/image3570.jpg\n",
      "/kaggle/input/pcos-picture/PCOSGen-train (1)/PCOSGen-train/images/image2511.jpg\n",
      "/kaggle/input/pcos-picture/PCOSGen-train (1)/PCOSGen-train/images/image0632.jpg\n",
      "/kaggle/input/pcos-picture/PCOSGen-train (1)/PCOSGen-train/images/94image21.jpg\n",
      "/kaggle/input/pcos-picture/PCOSGen-train (1)/PCOSGen-train/images/image0119.jpg\n",
      "/kaggle/input/pcos-picture/PCOSGen-train (1)/PCOSGen-train/images/image3121.jpg\n",
      "/kaggle/input/pcos-picture/PCOSGen-train (1)/PCOSGen-train/images/image3682.jpg\n",
      "/kaggle/input/pcos-picture/PCOSGen-train (1)/PCOSGen-train/images/image3219.jpg\n",
      "/kaggle/input/pcos-picture/PCOSGen-train (1)/PCOSGen-train/images/image3501.jpg\n",
      "/kaggle/input/pcos-picture/PCOSGen-train (1)/PCOSGen-train/images/image2785.jpg\n",
      "/kaggle/input/pcos-picture/PCOSGen-train (1)/PCOSGen-train/images/image0650.jpg\n",
      "/kaggle/input/pcos-picture/PCOSGen-train (1)/PCOSGen-train/images/image3788.jpg\n",
      "/kaggle/input/pcos-picture/PCOSGen-train (1)/PCOSGen-train/images/image2394.jpg\n",
      "/kaggle/input/pcos-picture/PCOSGen-train (1)/PCOSGen-train/images/image2938.jpg\n",
      "/kaggle/input/pcos-picture/PCOSGen-train (1)/PCOSGen-train/images/image3499.jpg\n",
      "/kaggle/input/pcos-picture/PCOSGen-train (1)/PCOSGen-train/images/image3741.jpg\n",
      "/kaggle/input/pcos-picture/PCOSGen-train (1)/PCOSGen-train/images/image2786.jpg\n",
      "/kaggle/input/pcos-picture/PCOSGen-train (1)/PCOSGen-train/images/20image24.jpg\n",
      "/kaggle/input/pcos-picture/PCOSGen-train (1)/PCOSGen-train/images/23image60.jpg\n",
      "/kaggle/input/pcos-picture/PCOSGen-train (1)/PCOSGen-train/images/image3672.jpg\n",
      "/kaggle/input/pcos-picture/PCOSGen-train (1)/PCOSGen-train/images/image2968.jpg\n",
      "/kaggle/input/pcos-picture/PCOSGen-train (1)/PCOSGen-train/images/image1183.jpg\n",
      "/kaggle/input/pcos-picture/PCOSGen-train (1)/PCOSGen-train/images/image0052.jpg\n",
      "/kaggle/input/pcos-picture/PCOSGen-train (1)/PCOSGen-train/images/image3244.jpg\n",
      "/kaggle/input/pcos-picture/PCOSGen-train (1)/PCOSGen-train/images/image0521.jpg\n",
      "/kaggle/input/pcos-picture/PCOSGen-train (1)/PCOSGen-train/images/image0952.jpg\n",
      "/kaggle/input/pcos-picture/PCOSGen-train (1)/PCOSGen-train/images/image3381.jpg\n",
      "/kaggle/input/pcos-picture/PCOSGen-train (1)/PCOSGen-train/images/image2318.jpg\n",
      "/kaggle/input/pcos-picture/PCOSGen-train (1)/PCOSGen-train/images/image1687.jpg\n",
      "/kaggle/input/pcos-picture/PCOSGen-train (1)/PCOSGen-train/images/image0435.jpg\n",
      "/kaggle/input/pcos-picture/PCOSGen-train (1)/PCOSGen-train/images/image2437.jpg\n",
      "/kaggle/input/pcos-picture/PCOSGen-train (1)/PCOSGen-train/images/190image60.jpg\n",
      "/kaggle/input/pcos-picture/PCOSGen-train (1)/PCOSGen-train/images/image3778.jpg\n",
      "/kaggle/input/pcos-picture/PCOSGen-train (1)/PCOSGen-train/images/image0485.jpg\n",
      "/kaggle/input/pcos-picture/PCOSGen-train (1)/PCOSGen-train/images/28image0022.jpg\n",
      "/kaggle/input/pcos-picture/PCOSGen-train (1)/PCOSGen-train/images/image1071.jpg\n",
      "/kaggle/input/pcos-picture/PCOSGen-train (1)/PCOSGen-train/images/image3492.jpg\n",
      "/kaggle/input/pcos-picture/PCOSGen-train (1)/PCOSGen-train/images/image0584.jpg\n",
      "/kaggle/input/pcos-picture/PCOSGen-train (1)/PCOSGen-train/images/image0728.jpg\n",
      "/kaggle/input/pcos-picture/PCOSGen-train (1)/PCOSGen-train/images/image0671.jpg\n",
      "/kaggle/input/pcos-picture/PCOSGen-train (1)/PCOSGen-train/images/image2613.jpg\n",
      "/kaggle/input/pcos-picture/PCOSGen-train (1)/PCOSGen-train/images/image2407.jpg\n",
      "/kaggle/input/pcos-picture/PCOSGen-train (1)/PCOSGen-train/images/99image18.jpg\n",
      "/kaggle/input/pcos-picture/PCOSGen-train (1)/PCOSGen-train/images/3190image9.jpg\n",
      "/kaggle/input/pcos-picture/PCOSGen-train (1)/PCOSGen-train/images/image3516.jpg\n",
      "/kaggle/input/pcos-picture/PCOSGen-train (1)/PCOSGen-train/images/image3461.jpg\n",
      "/kaggle/input/pcos-picture/PCOSGen-train (1)/PCOSGen-train/images/image2700.jpg\n",
      "/kaggle/input/pcos-picture/PCOSGen-train (1)/PCOSGen-train/images/image1197.jpg\n",
      "/kaggle/input/pcos-picture/PCOSGen-train (1)/PCOSGen-train/images/95image64.jpg\n",
      "/kaggle/input/pcos-picture/PCOSGen-train (1)/PCOSGen-train/images/image0412.jpg\n",
      "/kaggle/input/pcos-picture/PCOSGen-train (1)/PCOSGen-train/images/image0630.jpg\n",
      "/kaggle/input/pcos-picture/PCOSGen-train (1)/PCOSGen-train/images/image1606.jpg\n",
      "/kaggle/input/pcos-picture/PCOSGen-train (1)/PCOSGen-train/images/image3546.jpg\n",
      "/kaggle/input/pcos-picture/PCOSGen-train (1)/PCOSGen-train/images/image3838.jpg\n",
      "/kaggle/input/pcos-picture/PCOSGen-train (1)/PCOSGen-train/images/image0351.jpg\n",
      "/kaggle/input/pcos-picture/PCOSGen-train (1)/PCOSGen-train/images/image1946.jpg\n",
      "/kaggle/input/pcos-picture/PCOSGen-train (1)/PCOSGen-train/images/image0624.jpg\n",
      "/kaggle/input/pcos-picture/PCOSGen-train (1)/PCOSGen-train/images/image3732.jpg\n",
      "/kaggle/input/pcos-picture/PCOSGen-train (1)/PCOSGen-train/images/image1816.jpg\n",
      "/kaggle/input/pcos-picture/PCOSGen-train (1)/PCOSGen-train/images/image0422.jpg\n",
      "/kaggle/input/pcos-picture/PCOSGen-train (1)/PCOSGen-train/images/image2890.jpg\n",
      "/kaggle/input/pcos-picture/PCOSGen-train (1)/PCOSGen-train/images/200image20.jpg\n",
      "/kaggle/input/pcos-picture/PCOSGen-train (1)/PCOSGen-train/images/image2670.jpg\n",
      "/kaggle/input/pcos-picture/PCOSGen-train (1)/PCOSGen-train/images/image3656.jpg\n",
      "/kaggle/input/pcos-picture/PCOSGen-train (1)/PCOSGen-train/images/image1094.jpg\n",
      "/kaggle/input/pcos-picture/PCOSGen-train (1)/PCOSGen-train/images/image1641.jpg\n",
      "/kaggle/input/pcos-picture/PCOSGen-train (1)/PCOSGen-train/images/96image56.jpg\n",
      "/kaggle/input/pcos-picture/PCOSGen-train (1)/PCOSGen-train/images/image0597.jpg\n",
      "/kaggle/input/pcos-picture/PCOSGen-train (1)/PCOSGen-train/images/image1242.jpg\n",
      "/kaggle/input/pcos-picture/PCOSGen-train (1)/PCOSGen-train/images/image0288.jpg\n",
      "/kaggle/input/pcos-picture/PCOSGen-train (1)/PCOSGen-train/images/image0849.jpg\n",
      "/kaggle/input/pcos-picture/PCOSGen-train (1)/PCOSGen-train/images/image2107.jpg\n",
      "/kaggle/input/pcos-picture/PCOSGen-train (1)/PCOSGen-train/images/image3674.jpg\n",
      "/kaggle/input/pcos-picture/PCOSGen-train (1)/PCOSGen-train/images/image2423.jpg\n",
      "/kaggle/input/pcos-picture/PCOSGen-train (1)/PCOSGen-train/images/image1083.jpg\n",
      "/kaggle/input/pcos-picture/PCOSGen-train (1)/PCOSGen-train/images/image1250.jpg\n",
      "/kaggle/input/pcos-picture/PCOSGen-train (1)/PCOSGen-train/images/529image2.jpg\n",
      "/kaggle/input/pcos-picture/PCOSGen-train (1)/PCOSGen-train/images/image2780.jpg\n",
      "/kaggle/input/pcos-picture/PCOSGen-train (1)/PCOSGen-train/images/image0366.jpg\n",
      "/kaggle/input/pcos-picture/PCOSGen-train (1)/PCOSGen-train/images/99image44.jpg\n",
      "/kaggle/input/pcos-picture/PCOSGen-train (1)/PCOSGen-train/images/image3525.jpg\n",
      "/kaggle/input/pcos-picture/PCOSGen-train (1)/PCOSGen-train/images/image0882.jpg\n",
      "/kaggle/input/pcos-picture/PCOSGen-train (1)/PCOSGen-train/images/image0071.jpg\n",
      "/kaggle/input/pcos-picture/PCOSGen-train (1)/PCOSGen-train/images/173image71.jpg\n",
      "/kaggle/input/pcos-picture/PCOSGen-train (1)/PCOSGen-train/images/image1040.jpg\n",
      "/kaggle/input/pcos-picture/PCOSGen-train (1)/PCOSGen-train/images/image0676.jpg\n",
      "/kaggle/input/pcos-picture/PCOSGen-train (1)/PCOSGen-train/images/image3830.jpg\n",
      "/kaggle/input/pcos-picture/PCOSGen-train (1)/PCOSGen-train/images/73image0092.jpg\n",
      "/kaggle/input/pcos-picture/PCOSGen-train (1)/PCOSGen-train/images/image3351.jpg\n",
      "/kaggle/input/pcos-picture/PCOSGen-train (1)/PCOSGen-train/images/image1418.jpg\n",
      "/kaggle/input/pcos-picture/PCOSGen-train (1)/PCOSGen-train/images/image2891.jpg\n",
      "/kaggle/input/pcos-picture/PCOSGen-train (1)/PCOSGen-train/images/image3434.jpg\n",
      "/kaggle/input/pcos-picture/PCOSGen-train (1)/PCOSGen-train/images/image0811.jpg\n",
      "/kaggle/input/pcos-picture/PCOSGen-train (1)/PCOSGen-train/images/78image39.jpg\n",
      "/kaggle/input/pcos-picture/PCOSGen-train (1)/PCOSGen-train/images/image3042.jpg\n",
      "/kaggle/input/pcos-picture/PCOSGen-train (1)/PCOSGen-train/images/image3229.jpg\n",
      "/kaggle/input/pcos-picture/PCOSGen-train (1)/PCOSGen-train/images/image0726.jpg\n",
      "/kaggle/input/pcos-picture/PCOSGen-train (1)/PCOSGen-train/images/595image11.jpg\n",
      "/kaggle/input/pcos-picture/PCOSGen-train (1)/PCOSGen-train/images/image1957.jpg\n",
      "/kaggle/input/pcos-picture/PCOSGen-train (1)/PCOSGen-train/images/image3467.jpg\n",
      "/kaggle/input/pcos-picture/PCOSGen-train (1)/PCOSGen-train/images/image3599.jpg\n",
      "/kaggle/input/pcos-picture/PCOSGen-train (1)/PCOSGen-train/images/23image61.jpg\n",
      "/kaggle/input/pcos-picture/PCOSGen-train (1)/PCOSGen-train/images/107image90.jpg\n",
      "/kaggle/input/pcos-picture/PCOSGen-train (1)/PCOSGen-train/images/image0349.jpg\n",
      "/kaggle/input/pcos-picture/PCOSGen-train (1)/PCOSGen-train/images/image2951.jpg\n",
      "/kaggle/input/pcos-picture/PCOSGen-train (1)/PCOSGen-train/images/94image57.jpg\n",
      "/kaggle/input/pcos-picture/PCOSGen-train (1)/PCOSGen-train/images/image1082.jpg\n",
      "/kaggle/input/pcos-picture/PCOSGen-train (1)/PCOSGen-train/images/image1133.jpg\n",
      "/kaggle/input/pcos-picture/PCOSGen-train (1)/PCOSGen-train/images/image0340.jpg\n",
      "/kaggle/input/pcos-picture/PCOSGen-train (1)/PCOSGen-train/images/image2617.jpg\n",
      "/kaggle/input/pcos-picture/PCOSGen-train (1)/PCOSGen-train/images/image3020.jpg\n",
      "/kaggle/input/pcos-picture/PCOSGen-train (1)/PCOSGen-train/images/image0389.jpg\n",
      "/kaggle/input/pcos-picture/PCOSGen-train (1)/PCOSGen-train/images/image3139.jpg\n",
      "/kaggle/input/pcos-picture/PCOSGen-train (1)/PCOSGen-train/images/image3376.jpg\n",
      "/kaggle/input/pcos-picture/PCOSGen-train (1)/PCOSGen-train/images/image1297.jpg\n",
      "/kaggle/input/pcos-picture/PCOSGen-train (1)/PCOSGen-train/images/image1654.jpg\n",
      "/kaggle/input/pcos-picture/PCOSGen-train (1)/PCOSGen-train/images/image1397.jpg\n",
      "/kaggle/input/pcos-picture/PCOSGen-train (1)/PCOSGen-train/images/image3692.jpg\n",
      "/kaggle/input/pcos-picture/PCOSGen-train (1)/PCOSGen-train/images/image2099.jpg\n",
      "/kaggle/input/pcos-picture/PCOSGen-train (1)/PCOSGen-train/images/normal_9.jpg\n",
      "/kaggle/input/pcos-picture/PCOSGen-train (1)/PCOSGen-train/images/image0672.jpg\n",
      "/kaggle/input/pcos-picture/PCOSGen-train (1)/PCOSGen-train/images/image3290.jpg\n",
      "/kaggle/input/pcos-picture/PCOSGen-train (1)/PCOSGen-train/images/91image7.jpg\n",
      "/kaggle/input/pcos-picture/PCOSGen-train (1)/PCOSGen-train/images/image3691.jpg\n",
      "/kaggle/input/pcos-picture/PCOSGen-train (1)/PCOSGen-train/images/image3287.jpg\n",
      "/kaggle/input/pcos-picture/PCOSGen-train (1)/PCOSGen-train/images/149image12.jpg\n",
      "/kaggle/input/pcos-picture/PCOSGen-train (1)/PCOSGen-train/images/image0881.jpg\n",
      "/kaggle/input/pcos-picture/PCOSGen-train (1)/PCOSGen-train/images/image1060.jpg\n",
      "/kaggle/input/pcos-picture/PCOSGen-train (1)/PCOSGen-train/images/image2840.jpg\n",
      "/kaggle/input/pcos-picture/PCOSGen-train (1)/PCOSGen-train/images/image1028.jpg\n",
      "/kaggle/input/pcos-picture/PCOSGen-train (1)/PCOSGen-train/images/image1673.jpg\n",
      "/kaggle/input/pcos-picture/PCOSGen-train (1)/PCOSGen-train/images/image3529.jpg\n",
      "/kaggle/input/pcos-picture/PCOSGen-train (1)/PCOSGen-train/images/image0265.jpg\n",
      "/kaggle/input/pcos-picture/PCOSGen-train (1)/PCOSGen-train/images/120image0105.jpg\n",
      "/kaggle/input/pcos-picture/PCOSGen-train (1)/PCOSGen-train/images/image0878.jpg\n",
      "/kaggle/input/pcos-picture/PCOSGen-train (1)/PCOSGen-train/images/132image0110.jpg\n",
      "/kaggle/input/pcos-picture/PCOSGen-train (1)/PCOSGen-train/images/image3458.jpg\n",
      "/kaggle/input/pcos-picture/PCOSGen-train (1)/PCOSGen-train/images/image2602.jpg\n",
      "/kaggle/input/pcos-picture/PCOSGen-train (1)/PCOSGen-train/images/image0680.jpg\n",
      "/kaggle/input/pcos-picture/PCOSGen-train (1)/PCOSGen-train/images/image0561.jpg\n",
      "/kaggle/input/pcos-picture/PCOSGen-train (1)/PCOSGen-train/images/image0084.jpg\n",
      "/kaggle/input/pcos-picture/PCOSGen-train (1)/PCOSGen-train/images/46image0044.jpg\n",
      "/kaggle/input/pcos-picture/PCOSGen-train (1)/PCOSGen-train/images/image3512.jpg\n",
      "/kaggle/input/pcos-picture/PCOSGen-train (1)/PCOSGen-train/images/image2137.jpg\n",
      "/kaggle/input/pcos-picture/PCOSGen-train (1)/PCOSGen-train/images/image0358.jpg\n",
      "/kaggle/input/pcos-picture/PCOSGen-train (1)/PCOSGen-train/images/image0085.jpg\n",
      "/kaggle/input/pcos-picture/PCOSGen-train (1)/PCOSGen-train/images/127image0109.jpg\n",
      "/kaggle/input/pcos-picture/PCOSGen-train (1)/PCOSGen-train/images/image3443.jpg\n",
      "/kaggle/input/pcos-picture/PCOSGen-train (1)/PCOSGen-train/images/image3699.jpg\n",
      "/kaggle/input/pcos-picture/PCOSGen-train (1)/PCOSGen-train/images/96image6.jpg\n",
      "/kaggle/input/pcos-picture/PCOSGen-train (1)/PCOSGen-train/images/137image13.jpg\n",
      "/kaggle/input/pcos-picture/PCOSGen-train (1)/PCOSGen-train/images/image2924.jpg\n",
      "/kaggle/input/pcos-picture/PCOSGen-train (1)/PCOSGen-train/images/image2704.jpg\n",
      "/kaggle/input/pcos-picture/PCOSGen-train (1)/PCOSGen-train/images/image0216.jpg\n",
      "/kaggle/input/pcos-picture/PCOSGen-train (1)/PCOSGen-train/images/image0426.jpg\n",
      "/kaggle/input/pcos-picture/PCOSGen-train (1)/PCOSGen-train/images/image0631.jpg\n",
      "/kaggle/input/pcos-picture/PCOSGen-train (1)/PCOSGen-train/images/image2481.jpg\n",
      "/kaggle/input/pcos-picture/PCOSGen-train (1)/PCOSGen-train/images/image3220.jpg\n",
      "/kaggle/input/pcos-picture/PCOSGen-train (1)/PCOSGen-train/images/83image37.jpg\n",
      "/kaggle/input/pcos-picture/PCOSGen-train (1)/PCOSGen-train/images/163image26.jpg\n",
      "/kaggle/input/pcos-picture/PCOSGen-train (1)/PCOSGen-train/images/image3598.jpg\n",
      "/kaggle/input/pcos-picture/PCOSGen-train (1)/PCOSGen-train/images/image3735.jpg\n",
      "/kaggle/input/pcos-picture/PCOSGen-train (1)/PCOSGen-train/images/image0479.jpg\n",
      "/kaggle/input/pcos-picture/PCOSGen-train (1)/PCOSGen-train/images/image3624.jpg\n",
      "/kaggle/input/pcos-picture/PCOSGen-train (1)/PCOSGen-train/images/image0956.jpg\n",
      "/kaggle/input/pcos-picture/PCOSGen-train (1)/PCOSGen-train/images/image3616.jpg\n",
      "/kaggle/input/pcos-picture/PCOSGen-train (1)/PCOSGen-train/images/image0504.jpg\n",
      "/kaggle/input/pcos-picture/PCOSGen-train (1)/PCOSGen-train/images/image3037.jpg\n",
      "/kaggle/input/pcos-picture/PCOSGen-train (1)/PCOSGen-train/images/image2060.jpg\n",
      "/kaggle/input/pcos-picture/PCOSGen-train (1)/PCOSGen-train/images/image2582.jpg\n",
      "/kaggle/input/pcos-picture/PCOSGen-train (1)/PCOSGen-train/images/image2476.jpg\n",
      "/kaggle/input/pcos-picture/PCOSGen-train (1)/PCOSGen-train/images/image2583.jpg\n",
      "/kaggle/input/pcos-picture/PCOSGen-train (1)/PCOSGen-train/images/image0636.jpg\n",
      "/kaggle/input/pcos-picture/PCOSGen-train (1)/PCOSGen-train/images/image1109.jpg\n",
      "/kaggle/input/pcos-picture/PCOSGen-train (1)/PCOSGen-train/images/image0352.jpg\n",
      "/kaggle/input/pcos-picture/PCOSGen-train (1)/PCOSGen-train/images/image3255.jpg\n",
      "/kaggle/input/pcos-picture/PCOSGen-train (1)/PCOSGen-train/images/146image57.jpg\n",
      "/kaggle/input/pcos-picture/PCOSGen-train (1)/PCOSGen-train/images/image0106.jpg\n",
      "/kaggle/input/pcos-picture/PCOSGen-train (1)/PCOSGen-train/images/image0511.jpg\n",
      "/kaggle/input/pcos-picture/PCOSGen-train (1)/PCOSGen-train/images/image0599.jpg\n",
      "/kaggle/input/pcos-picture/PCOSGen-train (1)/PCOSGen-train/images/image3238.jpg\n",
      "/kaggle/input/pcos-picture/PCOSGen-train (1)/PCOSGen-train/images/image1175.jpg\n",
      "/kaggle/input/pcos-picture/PCOSGen-train (1)/PCOSGen-train/images/image0233.jpg\n",
      "/kaggle/input/pcos-picture/PCOSGen-train (1)/PCOSGen-train/images/image1047.jpg\n",
      "/kaggle/input/pcos-picture/PCOSGen-train (1)/PCOSGen-train/images/image1796.jpg\n",
      "/kaggle/input/pcos-picture/PCOSGen-train (1)/PCOSGen-train/images/73image32.jpg\n",
      "/kaggle/input/pcos-picture/PCOSGen-train (1)/PCOSGen-train/images/image2246.jpg\n",
      "/kaggle/input/pcos-picture/PCOSGen-train (1)/PCOSGen-train/images/108image0081.jpg\n",
      "/kaggle/input/pcos-picture/PCOSGen-train (1)/PCOSGen-train/images/3003image20.jpg\n",
      "/kaggle/input/pcos-picture/PCOSGen-train (1)/PCOSGen-train/images/image0057.jpg\n",
      "/kaggle/input/pcos-picture/PCOSGen-train (1)/PCOSGen-train/images/image2732.jpg\n",
      "/kaggle/input/pcos-picture/PCOSGen-train (1)/PCOSGen-train/images/image3650.jpg\n",
      "/kaggle/input/pcos-picture/PCOSGen-train (1)/PCOSGen-train/images/image0981.jpg\n",
      "/kaggle/input/pcos-picture/PCOSGen-train (1)/PCOSGen-train/images/image1403.jpg\n",
      "/kaggle/input/pcos-picture/PCOSGen-train (1)/PCOSGen-train/images/image2851.jpg\n",
      "/kaggle/input/pcos-picture/PCOSGen-train (1)/PCOSGen-train/images/image2994.jpg\n",
      "/kaggle/input/pcos-picture/PCOSGen-train (1)/PCOSGen-train/images/image3739.jpg\n",
      "/kaggle/input/pcos-picture/PCOSGen-train (1)/PCOSGen-train/images/image0664.jpg\n",
      "/kaggle/input/pcos-picture/PCOSGen-train (1)/PCOSGen-train/images/image0639.jpg\n",
      "/kaggle/input/pcos-picture/PCOSGen-train (1)/PCOSGen-train/images/559image5.jpg\n",
      "/kaggle/input/pcos-picture/PCOSGen-train (1)/PCOSGen-train/images/176image15.jpg\n",
      "/kaggle/input/pcos-picture/PCOSGen-train (1)/PCOSGen-train/images/image2280.jpg\n",
      "/kaggle/input/pcos-picture/PCOSGen-train (1)/PCOSGen-train/images/image0068.jpg\n",
      "/kaggle/input/pcos-picture/PCOSGen-train (1)/PCOSGen-train/images/image2705.jpg\n",
      "/kaggle/input/pcos-picture/PCOSGen-train (1)/PCOSGen-train/images/image0797.jpg\n",
      "/kaggle/input/pcos-picture/PCOSGen-train (1)/PCOSGen-train/images/image0682.jpg\n",
      "/kaggle/input/pcos-picture/PCOSGen-train (1)/PCOSGen-train/images/image1090.jpg\n",
      "/kaggle/input/pcos-picture/PCOSGen-train (1)/PCOSGen-train/images/image3610.jpg\n",
      "/kaggle/input/pcos-picture/PCOSGen-train (1)/PCOSGen-train/images/image3793.jpg\n",
      "/kaggle/input/pcos-picture/PCOSGen-train (1)/PCOSGen-train/images/image0204.jpg\n",
      "/kaggle/input/pcos-picture/PCOSGen-train (1)/PCOSGen-train/images/image1200.jpg\n",
      "/kaggle/input/pcos-picture/PCOSGen-train (1)/PCOSGen-train/images/image2960.jpg\n",
      "/kaggle/input/pcos-picture/PCOSGen-train (1)/PCOSGen-train/images/87image0100.jpg\n",
      "/kaggle/input/pcos-picture/PCOSGen-train (1)/PCOSGen-train/images/41image0013.jpg\n",
      "/kaggle/input/pcos-picture/PCOSGen-train (1)/PCOSGen-train/images/image1822.jpg\n",
      "/kaggle/input/pcos-picture/PCOSGen-train (1)/PCOSGen-train/images/187image41.jpg\n",
      "/kaggle/input/pcos-picture/PCOSGen-train (1)/PCOSGen-train/images/image1111.jpg\n",
      "/kaggle/input/pcos-picture/PCOSGen-train (1)/PCOSGen-train/images/image1773.jpg\n",
      "/kaggle/input/pcos-picture/PCOSGen-train (1)/PCOSGen-train/images/image0543.jpg\n",
      "/kaggle/input/pcos-picture/PCOSGen-train (1)/PCOSGen-train/images/image2675.jpg\n",
      "/kaggle/input/pcos-picture/PCOSGen-train (1)/PCOSGen-train/images/image3373.jpg\n",
      "/kaggle/input/pcos-picture/PCOSGen-train (1)/PCOSGen-train/images/image1779.jpg\n",
      "/kaggle/input/pcos-picture/PCOSGen-train (1)/PCOSGen-train/images/image0417.jpg\n",
      "/kaggle/input/pcos-picture/PCOSGen-train (1)/PCOSGen-train/images/image0679.jpg\n",
      "/kaggle/input/pcos-picture/PCOSGen-train (1)/PCOSGen-train/images/image3288.jpg\n",
      "/kaggle/input/pcos-picture/PCOSGen-train (1)/PCOSGen-train/images/55image24.jpg\n",
      "/kaggle/input/pcos-picture/PCOSGen-train (1)/PCOSGen-train/images/image0885.jpg\n",
      "/kaggle/input/pcos-picture/PCOSGen-train (1)/PCOSGen-train/images/image1385.jpg\n",
      "/kaggle/input/pcos-picture/PCOSGen-train (1)/PCOSGen-train/images/187image87.jpg\n",
      "/kaggle/input/pcos-picture/PCOSGen-train (1)/PCOSGen-train/images/image3592.jpg\n",
      "/kaggle/input/pcos-picture/PCOSGen-train (1)/PCOSGen-train/images/image0390.jpg\n",
      "/kaggle/input/pcos-picture/PCOSGen-train (1)/PCOSGen-train/images/134image0111.jpg\n",
      "/kaggle/input/pcos-picture/PCOSGen-train (1)/PCOSGen-train/images/image1181.jpg\n",
      "/kaggle/input/pcos-picture/PCOSGen-train (1)/PCOSGen-train/images/image3070.jpg\n",
      "/kaggle/input/pcos-picture/PCOSGen-train (1)/PCOSGen-train/images/image2619.jpg\n",
      "/kaggle/input/pcos-picture/PCOSGen-train (1)/PCOSGen-train/images/image2106.jpg\n",
      "/kaggle/input/pcos-picture/PCOSGen-train (1)/PCOSGen-train/images/image2662.jpg\n",
      "/kaggle/input/pcos-picture/PCOSGen-train (1)/PCOSGen-train/images/23image0030.jpg\n",
      "/kaggle/input/pcos-picture/PCOSGen-train (1)/PCOSGen-train/images/image1879.jpg\n",
      "/kaggle/input/pcos-picture/PCOSGen-train (1)/PCOSGen-train/images/image3231.jpg\n",
      "/kaggle/input/pcos-picture/PCOSGen-train (1)/PCOSGen-train/images/image0574.jpg\n",
      "/kaggle/input/pcos-picture/PCOSGen-train (1)/PCOSGen-train/images/image3400.jpg\n",
      "/kaggle/input/pcos-picture/PCOSGen-train (1)/PCOSGen-train/images/image0748.jpg\n",
      "/kaggle/input/pcos-picture/PCOSGen-train (1)/PCOSGen-train/images/image2566.jpg\n",
      "/kaggle/input/pcos-picture/PCOSGen-train (1)/PCOSGen-train/images/image3645.jpg\n",
      "/kaggle/input/pcos-picture/PCOSGen-train (1)/PCOSGen-train/images/image0871.jpg\n",
      "/kaggle/input/pcos-picture/PCOSGen-train (1)/PCOSGen-train/images/image3207.jpg\n",
      "/kaggle/input/pcos-picture/PCOSGen-train (1)/PCOSGen-train/images/image3204.jpg\n",
      "/kaggle/input/pcos-picture/PCOSGen-train (1)/PCOSGen-train/images/image2142.jpg\n",
      "/kaggle/input/pcos-picture/PCOSGen-train (1)/PCOSGen-train/images/146image10.jpg\n",
      "/kaggle/input/pcos-picture/PCOSGen-train (1)/PCOSGen-train/images/127image0115.jpg\n",
      "/kaggle/input/pcos-picture/PCOSGen-train (1)/PCOSGen-train/images/image3408.jpg\n",
      "/kaggle/input/pcos-picture/PCOSGen-train (1)/PCOSGen-train/images/image1075.jpg\n",
      "/kaggle/input/pcos-picture/PCOSGen-train (1)/PCOSGen-train/images/290image29.jpg\n",
      "/kaggle/input/pcos-picture/PCOSGen-train (1)/PCOSGen-train/images/image3641.jpg\n",
      "/kaggle/input/pcos-picture/PCOSGen-train (1)/PCOSGen-train/images/image0487.jpg\n",
      "/kaggle/input/pcos-picture/PCOSGen-train (1)/PCOSGen-train/images/image2383.jpg\n",
      "/kaggle/input/pcos-picture/PCOSGen-train (1)/PCOSGen-train/images/image0098.jpg\n",
      "/kaggle/input/pcos-picture/PCOSGen-train (1)/PCOSGen-train/images/image2677.jpg\n",
      "/kaggle/input/pcos-picture/PCOSGen-train (1)/PCOSGen-train/images/image1605.jpg\n",
      "/kaggle/input/pcos-picture/PCOSGen-train (1)/PCOSGen-train/images/image2378.jpg\n",
      "/kaggle/input/pcos-picture/PCOSGen-train (1)/PCOSGen-train/images/image2513.jpg\n",
      "/kaggle/input/pcos-picture/PCOSGen-train (1)/PCOSGen-train/images/image3268.jpg\n",
      "/kaggle/input/pcos-picture/PCOSGen-train (1)/PCOSGen-train/images/65image0094.jpg\n",
      "/kaggle/input/pcos-picture/PCOSGen-train (1)/PCOSGen-train/images/image3136.jpg\n",
      "/kaggle/input/pcos-picture/PCOSGen-train (1)/PCOSGen-train/images/pco_5.jpg\n",
      "/kaggle/input/pcos-picture/PCOSGen-train (1)/PCOSGen-train/images/image0759.jpg\n",
      "/kaggle/input/pcos-picture/PCOSGen-train (1)/PCOSGen-train/images/92image14.jpg\n",
      "/kaggle/input/pcos-picture/PCOSGen-train (1)/PCOSGen-train/images/image1825.jpg\n",
      "/kaggle/input/pcos-picture/PCOSGen-train (1)/PCOSGen-train/images/image2525.jpg\n",
      "/kaggle/input/pcos-picture/PCOSGen-train (1)/PCOSGen-train/images/image3453.jpg\n",
      "/kaggle/input/pcos-picture/PCOSGen-train (1)/PCOSGen-train/images/image1859.jpg\n",
      "/kaggle/input/pcos-picture/PCOSGen-train (1)/PCOSGen-train/images/image1165.jpg\n",
      "/kaggle/input/pcos-picture/PCOSGen-train (1)/PCOSGen-train/images/image2655.jpg\n",
      "/kaggle/input/pcos-picture/PCOSGen-train (1)/PCOSGen-train/images/132image0118.jpg\n",
      "/kaggle/input/pcos-picture/PCOSGen-train (1)/PCOSGen-train/images/image2626.jpg\n",
      "/kaggle/input/pcos-picture/PCOSGen-train (1)/PCOSGen-train/images/image3675.jpg\n",
      "/kaggle/input/pcos-picture/PCOSGen-train (1)/PCOSGen-train/images/image2682.jpg\n",
      "/kaggle/input/pcos-picture/PCOSGen-train (1)/PCOSGen-train/images/image3411.jpg\n",
      "/kaggle/input/pcos-picture/PCOSGen-train (1)/PCOSGen-train/images/20image29.jpg\n",
      "/kaggle/input/pcos-picture/PCOSGen-train (1)/PCOSGen-train/images/image2896.jpg\n",
      "/kaggle/input/pcos-picture/PCOSGen-train (1)/PCOSGen-train/images/image2645.jpg\n",
      "/kaggle/input/pcos-picture/PCOSGen-train (1)/PCOSGen-train/images/image2388.jpg\n",
      "/kaggle/input/pcos-picture/PCOSGen-train (1)/PCOSGen-train/images/image1716.jpg\n",
      "/kaggle/input/pcos-picture/PCOSGen-train (1)/PCOSGen-train/images/image2186.jpg\n",
      "/kaggle/input/pcos-picture/PCOSGen-train (1)/PCOSGen-train/images/image0441.jpg\n",
      "/kaggle/input/pcos-picture/PCOSGen-train (1)/PCOSGen-train/images/normal_1.jpg\n",
      "/kaggle/input/pcos-picture/PCOSGen-train (1)/PCOSGen-train/images/image1127.jpg\n",
      "/kaggle/input/pcos-picture/PCOSGen-train (1)/PCOSGen-train/images/image0301.jpg\n",
      "/kaggle/input/pcos-picture/PCOSGen-train (1)/PCOSGen-train/images/image3316.jpg\n",
      "/kaggle/input/pcos-picture/PCOSGen-train (1)/PCOSGen-train/images/22image68.jpg\n",
      "/kaggle/input/pcos-picture/PCOSGen-train (1)/PCOSGen-train/images/image3339.jpg\n",
      "/kaggle/input/pcos-picture/PCOSGen-train (1)/PCOSGen-train/images/image1674.jpg\n",
      "/kaggle/input/pcos-picture/PCOSGen-train (1)/PCOSGen-train/images/image1067.jpg\n",
      "/kaggle/input/pcos-picture/PCOSGen-train (1)/PCOSGen-train/images/image2828.jpg\n",
      "/kaggle/input/pcos-picture/PCOSGen-train (1)/PCOSGen-train/images/image0558.jpg\n",
      "/kaggle/input/pcos-picture/PCOSGen-train (1)/PCOSGen-train/images/image2468.jpg\n",
      "/kaggle/input/pcos-picture/PCOSGen-train (1)/PCOSGen-train/images/image3133.jpg\n",
      "/kaggle/input/pcos-picture/PCOSGen-train (1)/PCOSGen-train/images/1image40.jpg\n",
      "/kaggle/input/pcos-picture/PCOSGen-train (1)/PCOSGen-train/images/image1145.jpg\n",
      "/kaggle/input/pcos-picture/PCOSGen-train (1)/PCOSGen-train/images/image0838.jpg\n",
      "/kaggle/input/pcos-picture/PCOSGen-train (1)/PCOSGen-train/images/25image62.jpg\n",
      "/kaggle/input/pcos-picture/PCOSGen-train (1)/PCOSGen-train/images/image1015.jpg\n",
      "/kaggle/input/pcos-picture/PCOSGen-train (1)/PCOSGen-train/images/95image23.jpg\n",
      "/kaggle/input/pcos-picture/PCOSGen-train (1)/PCOSGen-train/images/image2888.jpg\n",
      "/kaggle/input/pcos-picture/PCOSGen-train (1)/PCOSGen-train/images/image2620.jpg\n",
      "/kaggle/input/pcos-picture/PCOSGen-train (1)/PCOSGen-train/images/image1645.jpg\n",
      "/kaggle/input/pcos-picture/PCOSGen-train (1)/PCOSGen-train/images/36image0008.jpg\n",
      "/kaggle/input/pcos-picture/PCOSGen-train (1)/PCOSGen-train/images/image3294.jpg\n",
      "/kaggle/input/pcos-picture/PCOSGen-train (1)/PCOSGen-train/images/image3245.jpg\n",
      "/kaggle/input/pcos-picture/PCOSGen-train (1)/PCOSGen-train/images/image0985.jpg\n",
      "/kaggle/input/pcos-picture/PCOSGen-train (1)/PCOSGen-train/images/image0124.jpg\n",
      "/kaggle/input/pcos-picture/PCOSGen-train (1)/PCOSGen-train/images/71image11.jpg\n",
      "/kaggle/input/pcos-picture/PCOSGen-train (1)/PCOSGen-train/images/25image10.jpg\n",
      "/kaggle/input/pcos-picture/PCOSGen-train (1)/PCOSGen-train/images/image2139.jpg\n",
      "/kaggle/input/pcos-picture/PCOSGen-train (1)/PCOSGen-train/images/image0387.jpg\n",
      "/kaggle/input/pcos-picture/PCOSGen-train (1)/PCOSGen-train/images/501image3.jpg\n",
      "/kaggle/input/pcos-picture/PCOSGen-train (1)/PCOSGen-train/images/image3829.jpg\n",
      "/kaggle/input/pcos-picture/PCOSGen-train (1)/PCOSGen-train/images/image3588.jpg\n",
      "/kaggle/input/pcos-picture/PCOSGen-train (1)/PCOSGen-train/images/image3745.jpg\n",
      "/kaggle/input/pcos-picture/PCOSGen-train (1)/PCOSGen-train/images/image0776.jpg\n",
      "/kaggle/input/pcos-picture/PCOSGen-train (1)/PCOSGen-train/images/241image13.jpg\n",
      "/kaggle/input/pcos-picture/PCOSGen-train (1)/PCOSGen-train/images/image0730.jpg\n",
      "/kaggle/input/pcos-picture/PCOSGen-train (1)/PCOSGen-train/images/91image68.jpg\n",
      "/kaggle/input/pcos-picture/PCOSGen-train (1)/PCOSGen-train/images/114image74.jpg\n",
      "/kaggle/input/pcos-picture/PCOSGen-train (1)/PCOSGen-train/images/image3299.jpg\n",
      "/kaggle/input/pcos-picture/PCOSGen-train (1)/PCOSGen-train/images/image2731.jpg\n",
      "/kaggle/input/pcos-picture/PCOSGen-train (1)/PCOSGen-train/images/205image36.jpg\n",
      "/kaggle/input/pcos-picture/PCOSGen-train (1)/PCOSGen-train/images/image3629.jpg\n",
      "/kaggle/input/pcos-picture/PCOSGen-train (1)/PCOSGen-train/images/image2801.jpg\n",
      "/kaggle/input/pcos-picture/PCOSGen-train (1)/PCOSGen-train/images/image3007.jpg\n",
      "/kaggle/input/pcos-picture/PCOSGen-train (1)/PCOSGen-train/images/image0519.jpg\n",
      "/kaggle/input/pcos-picture/PCOSGen-train (1)/PCOSGen-train/images/image0088.jpg\n",
      "/kaggle/input/pcos-picture/PCOSGen-train (1)/PCOSGen-train/images/image0281.jpg\n",
      "/kaggle/input/pcos-picture/PCOSGen-train (1)/PCOSGen-train/images/image1009.jpg\n",
      "/kaggle/input/pcos-picture/PCOSGen-train (1)/PCOSGen-train/images/50image40.jpg\n",
      "/kaggle/input/pcos-picture/PCOSGen-train (1)/PCOSGen-train/images/image2589.jpg\n",
      "/kaggle/input/pcos-picture/PCOSGen-train (1)/PCOSGen-train/images/image1054.jpg\n",
      "/kaggle/input/pcos-picture/PCOSGen-train (1)/PCOSGen-train/images/image3446.jpg\n",
      "/kaggle/input/pcos-picture/PCOSGen-train (1)/PCOSGen-train/images/543image12.jpg\n",
      "/kaggle/input/pcos-picture/PCOSGen-train (1)/PCOSGen-train/images/image2753.jpg\n",
      "/kaggle/input/pcos-picture/PCOSGen-train (1)/PCOSGen-train/images/image3583.jpg\n",
      "/kaggle/input/pcos-picture/PCOSGen-train (1)/PCOSGen-train/images/image1759.jpg\n",
      "/kaggle/input/pcos-picture/PCOSGen-train (1)/PCOSGen-train/images/111image9.jpg\n",
      "/kaggle/input/pcos-picture/PCOSGen-train (1)/PCOSGen-train/images/image3543.jpg\n",
      "/kaggle/input/pcos-picture/PCOSGen-train (1)/PCOSGen-train/images/image3644.jpg\n",
      "/kaggle/input/pcos-picture/PCOSGen-train (1)/PCOSGen-train/images/15image12.jpg\n",
      "/kaggle/input/pcos-picture/PCOSGen-train (1)/PCOSGen-train/images/image2874.jpg\n",
      "/kaggle/input/pcos-picture/PCOSGen-train (1)/PCOSGen-train/images/image3548.jpg\n",
      "/kaggle/input/pcos-picture/PCOSGen-train (1)/PCOSGen-train/images/image0592.jpg\n",
      "/kaggle/input/pcos-picture/PCOSGen-train (1)/PCOSGen-train/images/image3535.jpg\n",
      "/kaggle/input/pcos-picture/PCOSGen-train (1)/PCOSGen-train/images/image0571.jpg\n",
      "/kaggle/input/pcos-picture/PCOSGen-train (1)/PCOSGen-train/images/image2956.jpg\n",
      "/kaggle/input/pcos-picture/PCOSGen-train (1)/PCOSGen-train/images/image0559.jpg\n",
      "/kaggle/input/pcos-picture/PCOSGen-train (1)/PCOSGen-train/images/image0402.jpg\n",
      "/kaggle/input/pcos-picture/PCOSGen-train (1)/PCOSGen-train/images/image1124.jpg\n",
      "/kaggle/input/pcos-picture/PCOSGen-train (1)/PCOSGen-train/images/image2770.jpg\n",
      "/kaggle/input/pcos-picture/PCOSGen-train (1)/PCOSGen-train/images/image1972.jpg\n",
      "/kaggle/input/pcos-picture/PCOSGen-train (1)/PCOSGen-train/images/image0703.jpg\n",
      "/kaggle/input/pcos-picture/PCOSGen-train (1)/PCOSGen-train/images/18image47.jpg\n",
      "/kaggle/input/pcos-picture/PCOSGen-train (1)/PCOSGen-train/images/106image7.jpg\n",
      "/kaggle/input/pcos-picture/PCOSGen-train (1)/PCOSGen-train/images/image1044.jpg\n",
      "/kaggle/input/pcos-picture/PCOSGen-train (1)/PCOSGen-train/images/image2600.jpg\n",
      "/kaggle/input/pcos-picture/PCOSGen-train (1)/PCOSGen-train/images/image1855.jpg\n",
      "/kaggle/input/pcos-picture/PCOSGen-train (1)/PCOSGen-train/images/image0346.jpg\n",
      "/kaggle/input/pcos-picture/PCOSGen-train (1)/PCOSGen-train/images/96image60.jpg\n",
      "/kaggle/input/pcos-picture/PCOSGen-train (1)/PCOSGen-train/images/image2699.jpg\n",
      "/kaggle/input/pcos-picture/PCOSGen-train (1)/PCOSGen-train/images/179image52.jpg\n",
      "/kaggle/input/pcos-picture/PCOSGen-train (1)/PCOSGen-train/images/image0840.jpg\n",
      "/kaggle/input/pcos-picture/PCOSGen-train (1)/PCOSGen-train/images/image3643.jpg\n",
      "/kaggle/input/pcos-picture/PCOSGen-train (1)/PCOSGen-train/images/image3612.jpg\n",
      "/kaggle/input/pcos-picture/PCOSGen-train (1)/PCOSGen-train/images/image0675.jpg\n",
      "/kaggle/input/pcos-picture/PCOSGen-train (1)/PCOSGen-train/images/image2520.jpg\n",
      "/kaggle/input/pcos-picture/PCOSGen-train (1)/PCOSGen-train/images/image3388.jpg\n",
      "/kaggle/input/pcos-picture/PCOSGen-train (1)/PCOSGen-train/images/image0077.jpg\n",
      "/kaggle/input/pcos-picture/PCOSGen-train (1)/PCOSGen-train/images/19image69.jpg\n",
      "/kaggle/input/pcos-picture/PCOSGen-train (1)/PCOSGen-train/images/image0522.jpg\n",
      "/kaggle/input/pcos-picture/PCOSGen-train (1)/PCOSGen-train/images/image0054.jpg\n",
      "/kaggle/input/pcos-picture/PCOSGen-train (1)/PCOSGen-train/images/image2461.jpg\n",
      "/kaggle/input/pcos-picture/PCOSGen-train (1)/PCOSGen-train/images/image2824.jpg\n",
      "/kaggle/input/pcos-picture/PCOSGen-train (1)/PCOSGen-train/images/image0796.jpg\n",
      "/kaggle/input/pcos-picture/PCOSGen-train (1)/PCOSGen-train/images/image3234.jpg\n",
      "/kaggle/input/pcos-picture/PCOSGen-train (1)/PCOSGen-train/images/image0551.jpg\n",
      "/kaggle/input/pcos-picture/PCOSGen-train (1)/PCOSGen-train/images/image3069.jpg\n",
      "/kaggle/input/pcos-picture/PCOSGen-train (1)/PCOSGen-train/images/image3269.jpg\n",
      "/kaggle/input/pcos-picture/PCOSGen-train (1)/PCOSGen-train/images/image0121.jpg\n",
      "/kaggle/input/pcos-picture/PCOSGen-train (1)/PCOSGen-train/images/image1715.jpg\n",
      "/kaggle/input/pcos-picture/PCOSGen-train (1)/PCOSGen-train/images/image1913.jpg\n",
      "/kaggle/input/pcos-picture/PCOSGen-train (1)/PCOSGen-train/images/image2959.jpg\n",
      "/kaggle/input/pcos-picture/PCOSGen-train (1)/PCOSGen-train/images/image0476.jpg\n",
      "/kaggle/input/pcos-picture/PCOSGen-train (1)/PCOSGen-train/images/image1797.jpg\n",
      "/kaggle/input/pcos-picture/PCOSGen-train (1)/PCOSGen-train/images/image1105.jpg\n",
      "/kaggle/input/pcos-picture/PCOSGen-train (1)/PCOSGen-train/images/image0851.jpg\n",
      "/kaggle/input/pcos-picture/PCOSGen-train (1)/PCOSGen-train/images/image1189.jpg\n",
      "/kaggle/input/pcos-picture/PCOSGen-train (1)/PCOSGen-train/images/658image7.jpg\n",
      "/kaggle/input/pcos-picture/PCOSGen-train (1)/PCOSGen-train/images/image0539.jpg\n",
      "/kaggle/input/pcos-picture/PCOSGen-train (1)/PCOSGen-train/images/image3431.jpg\n",
      "/kaggle/input/pcos-picture/PCOSGen-train (1)/PCOSGen-train/images/image3715.jpg\n",
      "/kaggle/input/pcos-picture/PCOSGen-train (1)/PCOSGen-train/images/image2794.jpg\n",
      "/kaggle/input/pcos-picture/PCOSGen-train (1)/PCOSGen-train/images/image0457.jpg\n",
      "/kaggle/input/pcos-picture/PCOSGen-train (1)/PCOSGen-train/images/image0481.jpg\n",
      "/kaggle/input/pcos-picture/PCOSGen-train (1)/PCOSGen-train/images/image1633.jpg\n",
      "/kaggle/input/pcos-picture/PCOSGen-train (1)/PCOSGen-train/images/174image58.jpg\n",
      "/kaggle/input/pcos-picture/PCOSGen-train (1)/PCOSGen-train/images/image0299.jpg\n",
      "/kaggle/input/pcos-picture/PCOSGen-train (1)/PCOSGen-train/images/2024image15.jpg\n",
      "/kaggle/input/pcos-picture/PCOSGen-train (1)/PCOSGen-train/images/54image30.jpg\n",
      "/kaggle/input/pcos-picture/PCOSGen-train (1)/PCOSGen-train/images/image2372.jpg\n",
      "/kaggle/input/pcos-picture/PCOSGen-train (1)/PCOSGen-train/images/image1745.jpg\n",
      "/kaggle/input/pcos-picture/PCOSGen-train (1)/PCOSGen-train/images/image0267.jpg\n",
      "/kaggle/input/pcos-picture/PCOSGen-train (1)/PCOSGen-train/images/image0050.jpg\n",
      "/kaggle/input/pcos-picture/PCOSGen-train (1)/PCOSGen-train/images/image1952.jpg\n",
      "/kaggle/input/pcos-picture/PCOSGen-train (1)/PCOSGen-train/images/553image22.jpg\n",
      "/kaggle/input/pcos-picture/PCOSGen-train (1)/PCOSGen-train/images/image3749.jpg\n",
      "/kaggle/input/pcos-picture/PCOSGen-train (1)/PCOSGen-train/images/image2937.jpg\n",
      "/kaggle/input/pcos-picture/PCOSGen-train (1)/PCOSGen-train/images/image3814.jpg\n",
      "/kaggle/input/pcos-picture/PCOSGen-train (1)/PCOSGen-train/images/image3497.jpg\n",
      "/kaggle/input/pcos-picture/PCOSGen-train (1)/PCOSGen-train/images/image1378.jpg\n",
      "/kaggle/input/pcos-picture/PCOSGen-train (1)/PCOSGen-train/images/image0225.jpg\n",
      "/kaggle/input/pcos-picture/PCOSGen-train (1)/PCOSGen-train/images/image0436.jpg\n",
      "/kaggle/input/pcos-picture/PCOSGen-train (1)/PCOSGen-train/images/image0634.jpg\n",
      "/kaggle/input/pcos-picture/PCOSGen-train (1)/PCOSGen-train/images/13image0020.jpg\n",
      "/kaggle/input/pcos-picture/PCOSGen-train (1)/PCOSGen-train/images/image3263.jpg\n",
      "/kaggle/input/pcos-picture/PCOSGen-train (1)/PCOSGen-train/images/image3813.jpg\n",
      "/kaggle/input/pcos-picture/PCOSGen-train (1)/PCOSGen-train/images/image2642.jpg\n",
      "/kaggle/input/pcos-picture/PCOSGen-train (1)/PCOSGen-train/images/image2869.jpg\n",
      "/kaggle/input/pcos-picture/PCOSGen-train (1)/PCOSGen-train/images/image3442.jpg\n",
      "/kaggle/input/pcos-picture/PCOSGen-train (1)/PCOSGen-train/images/image0263.jpg\n",
      "/kaggle/input/pcos-picture/PCOSGen-train (1)/PCOSGen-train/images/image3191.jpg\n",
      "/kaggle/input/pcos-picture/PCOSGen-train (1)/PCOSGen-train/images/image2709.jpg\n",
      "/kaggle/input/pcos-picture/PCOSGen-train (1)/PCOSGen-train/images/image2778.jpg\n",
      "/kaggle/input/pcos-picture/PCOSGen-train (1)/PCOSGen-train/images/image1766.jpg\n",
      "/kaggle/input/pcos-picture/PCOSGen-train (1)/PCOSGen-train/images/image3039.jpg\n",
      "/kaggle/input/pcos-picture/PCOSGen-train (1)/PCOSGen-train/images/image3594.jpg\n",
      "/kaggle/input/pcos-picture/PCOSGen-train (1)/PCOSGen-train/images/image3542.jpg\n",
      "/kaggle/input/pcos-picture/PCOSGen-train (1)/PCOSGen-train/images/image1793.jpg\n",
      "/kaggle/input/pcos-picture/PCOSGen-train (1)/PCOSGen-train/images/image3380.jpg\n",
      "/kaggle/input/pcos-picture/PCOSGen-train (1)/PCOSGen-train/images/image2654.jpg\n",
      "/kaggle/input/pcos-picture/PCOSGen-train (1)/PCOSGen-train/images/image1914.jpg\n",
      "/kaggle/input/pcos-picture/PCOSGen-train (1)/PCOSGen-train/images/171image9.jpg\n",
      "/kaggle/input/pcos-picture/PCOSGen-train (1)/PCOSGen-train/images/image3457.jpg\n",
      "/kaggle/input/pcos-picture/PCOSGen-train (1)/PCOSGen-train/images/4image7.jpg\n",
      "/kaggle/input/pcos-picture/PCOSGen-train (1)/PCOSGen-train/images/image0405.jpg\n",
      "/kaggle/input/pcos-picture/PCOSGen-train (1)/PCOSGen-train/images/image2950.jpg\n",
      "/kaggle/input/pcos-picture/PCOSGen-train (1)/PCOSGen-train/images/image0813.jpg\n",
      "/kaggle/input/pcos-picture/PCOSGen-train (1)/PCOSGen-train/images/image3609.jpg\n",
      "/kaggle/input/pcos-picture/PCOSGen-train (1)/PCOSGen-train/images/image0326.jpg\n",
      "/kaggle/input/pcos-picture/PCOSGen-train (1)/PCOSGen-train/images/image2809.jpg\n",
      "/kaggle/input/pcos-picture/PCOSGen-train (1)/PCOSGen-train/images/image2967.jpg\n",
      "/kaggle/input/pcos-picture/PCOSGen-train (1)/PCOSGen-train/images/95image51.jpg\n",
      "/kaggle/input/pcos-picture/PCOSGen-train (1)/PCOSGen-train/images/image1115.jpg\n",
      "/kaggle/input/pcos-picture/PCOSGen-train (1)/PCOSGen-train/images/image0847.jpg\n",
      "/kaggle/input/pcos-picture/PCOSGen-train (1)/PCOSGen-train/images/image3835.jpg\n",
      "/kaggle/input/pcos-picture/PCOSGen-train (1)/PCOSGen-train/images/63image0070.jpg\n",
      "/kaggle/input/pcos-picture/PCOSGen-train (1)/PCOSGen-train/images/image1831.jpg\n",
      "/kaggle/input/pcos-picture/PCOSGen-train (1)/PCOSGen-train/images/image0488.jpg\n",
      "/kaggle/input/pcos-picture/PCOSGen-train (1)/PCOSGen-train/images/image0413.jpg\n",
      "/kaggle/input/pcos-picture/PCOSGen-train (1)/PCOSGen-train/images/image1404.jpg\n",
      "/kaggle/input/pcos-picture/PCOSGen-train (1)/PCOSGen-train/images/image0396.jpg\n",
      "/kaggle/input/pcos-picture/PCOSGen-train (1)/PCOSGen-train/images/image3430.jpg\n",
      "/kaggle/input/pcos-picture/PCOSGen-train (1)/PCOSGen-train/images/image1081.jpg\n",
      "/kaggle/input/pcos-picture/PCOSGen-train (1)/PCOSGen-train/images/image2690.jpg\n",
      "/kaggle/input/pcos-picture/PCOSGen-train (1)/PCOSGen-train/images/image2262.jpg\n",
      "/kaggle/input/pcos-picture/PCOSGen-train (1)/PCOSGen-train/images/image2565.jpg\n",
      "/kaggle/input/pcos-picture/PCOSGen-train (1)/PCOSGen-train/images/image3002.jpg\n",
      "/kaggle/input/pcos-picture/PCOSGen-train (1)/PCOSGen-train/images/normal_33.jpg\n",
      "/kaggle/input/pcos-picture/PCOSGen-train (1)/PCOSGen-train/images/image1767.jpg\n",
      "/kaggle/input/pcos-picture/PCOSGen-train (1)/PCOSGen-train/images/image1860.jpg\n",
      "/kaggle/input/pcos-picture/PCOSGen-train (1)/PCOSGen-train/images/image1798.jpg\n",
      "/kaggle/input/pcos-picture/PCOSGen-train (1)/PCOSGen-train/images/205image48.jpg\n",
      "/kaggle/input/pcos-picture/PCOSGen-train (1)/PCOSGen-train/images/image1080.jpg\n",
      "/kaggle/input/pcos-picture/PCOSGen-train (1)/PCOSGen-train/images/202image3.jpg\n",
      "/kaggle/input/pcos-picture/PCOSGen-train (1)/PCOSGen-train/images/image0093.jpg\n",
      "/kaggle/input/pcos-picture/PCOSGen-train (1)/PCOSGen-train/images/image2883.jpg\n",
      "/kaggle/input/pcos-picture/PCOSGen-train (1)/PCOSGen-train/images/image0407.jpg\n",
      "/kaggle/input/pcos-picture/PCOSGen-train (1)/PCOSGen-train/images/92image0087.jpg\n",
      "/kaggle/input/pcos-picture/PCOSGen-train (1)/PCOSGen-train/images/image0865.jpg\n",
      "/kaggle/input/pcos-picture/PCOSGen-train (1)/PCOSGen-train/images/image0801.jpg\n",
      "/kaggle/input/pcos-picture/PCOSGen-train (1)/PCOSGen-train/images/117image39.jpg\n",
      "/kaggle/input/pcos-picture/PCOSGen-train (1)/PCOSGen-train/images/image3112.jpg\n",
      "/kaggle/input/pcos-picture/PCOSGen-train (1)/PCOSGen-train/images/112image88.jpg\n",
      "/kaggle/input/pcos-picture/PCOSGen-train (1)/PCOSGen-train/images/image2913.jpg\n",
      "/kaggle/input/pcos-picture/PCOSGen-train (1)/PCOSGen-train/images/image1398.jpg\n",
      "/kaggle/input/pcos-picture/PCOSGen-train (1)/PCOSGen-train/images/image1881.jpg\n",
      "/kaggle/input/pcos-picture/PCOSGen-train (1)/PCOSGen-train/images/image2693.jpg\n",
      "/kaggle/input/pcos-picture/PCOSGen-train (1)/PCOSGen-train/images/image1063.jpg\n",
      "/kaggle/input/pcos-picture/PCOSGen-train (1)/PCOSGen-train/images/image3343.jpg\n",
      "/kaggle/input/pcos-picture/PCOSGen-train (1)/PCOSGen-train/images/image0846.jpg\n",
      "/kaggle/input/pcos-picture/PCOSGen-train (1)/PCOSGen-train/images/170image94.jpg\n",
      "/kaggle/input/pcos-picture/PCOSGen-train (1)/PCOSGen-train/images/185image92.jpg\n",
      "/kaggle/input/pcos-picture/PCOSGen-train (1)/PCOSGen-train/images/image1020.jpg\n",
      "/kaggle/input/pcos-picture/PCOSGen-train (1)/PCOSGen-train/images/image0990.jpg\n",
      "/kaggle/input/pcos-picture/PCOSGen-train (1)/PCOSGen-train/images/70image0062.jpg\n",
      "/kaggle/input/pcos-picture/PCOSGen-train (1)/PCOSGen-train/images/image0431.jpg\n",
      "/kaggle/input/pcos-picture/PCOSGen-train (1)/PCOSGen-train/images/image1101.jpg\n",
      "/kaggle/input/pcos-picture/PCOSGen-train (1)/PCOSGen-train/images/image0443.jpg\n",
      "/kaggle/input/pcos-picture/PCOSGen-train (1)/PCOSGen-train/images/image3763.jpg\n",
      "/kaggle/input/pcos-picture/PCOSGen-train (1)/PCOSGen-train/images/217image26.jpg\n",
      "/kaggle/input/pcos-picture/PCOSGen-train (1)/PCOSGen-train/images/image0743.jpg\n",
      "/kaggle/input/pcos-picture/PCOSGen-train (1)/PCOSGen-train/images/image2685.jpg\n",
      "/kaggle/input/pcos-picture/PCOSGen-train (1)/PCOSGen-train/images/image0112.jpg\n",
      "/kaggle/input/pcos-picture/PCOSGen-train (1)/PCOSGen-train/images/image2811.jpg\n",
      "/kaggle/input/pcos-picture/PCOSGen-train (1)/PCOSGen-train/images/79image3.jpg\n",
      "/kaggle/input/pcos-picture/PCOSGen-train (1)/PCOSGen-train/images/image0729.jpg\n",
      "/kaggle/input/pcos-picture/PCOSGen-train (1)/PCOSGen-train/images/image2281.jpg\n",
      "/kaggle/input/pcos-picture/PCOSGen-train (1)/PCOSGen-train/images/image1939.jpg\n",
      "/kaggle/input/pcos-picture/PCOSGen-train (1)/PCOSGen-train/images/image0234.jpg\n",
      "/kaggle/input/pcos-picture/PCOSGen-train (1)/PCOSGen-train/images/image2628.jpg\n",
      "/kaggle/input/pcos-picture/PCOSGen-train (1)/PCOSGen-train/images/image0775.jpg\n",
      "/kaggle/input/pcos-picture/PCOSGen-train (1)/PCOSGen-train/images/image3417.jpg\n",
      "/kaggle/input/pcos-picture/PCOSGen-train (1)/PCOSGen-train/images/image0683.jpg\n",
      "/kaggle/input/pcos-picture/PCOSGen-train (1)/PCOSGen-train/images/image0474.jpg\n",
      "/kaggle/input/pcos-picture/PCOSGen-train (1)/PCOSGen-train/images/image0751.jpg\n",
      "/kaggle/input/pcos-picture/PCOSGen-train (1)/PCOSGen-train/images/image3082.jpg\n",
      "/kaggle/input/pcos-picture/PCOSGen-train (1)/PCOSGen-train/images/image2829.jpg\n",
      "/kaggle/input/pcos-picture/PCOSGen-train (1)/PCOSGen-train/images/image1176.jpg\n",
      "/kaggle/input/pcos-picture/PCOSGen-train (1)/PCOSGen-train/images/image1074.jpg\n",
      "/kaggle/input/pcos-picture/PCOSGen-train (1)/PCOSGen-train/images/image2861.jpg\n",
      "/kaggle/input/pcos-picture/PCOSGen-train (1)/PCOSGen-train/images/3309image24.jpg\n",
      "/kaggle/input/pcos-picture/PCOSGen-train (1)/PCOSGen-train/images/image2463.jpg\n",
      "/kaggle/input/pcos-picture/PCOSGen-train (1)/PCOSGen-train/images/image3277.jpg\n",
      "/kaggle/input/pcos-picture/PCOSGen-train (1)/PCOSGen-train/images/image2737.jpg\n",
      "/kaggle/input/pcos-picture/PCOSGen-train (1)/PCOSGen-train/images/image0919.jpg\n",
      "/kaggle/input/pcos-picture/PCOSGen-train (1)/PCOSGen-train/images/image3056.jpg\n",
      "/kaggle/input/pcos-picture/PCOSGen-train (1)/PCOSGen-train/images/image3445.jpg\n",
      "/kaggle/input/pcos-picture/PCOSGen-train (1)/PCOSGen-train/images/image2138.jpg\n",
      "/kaggle/input/pcos-picture/PCOSGen-train (1)/PCOSGen-train/images/image0394.jpg\n",
      "/kaggle/input/pcos-picture/PCOSGen-train (1)/PCOSGen-train/images/image3480.jpg\n",
      "/kaggle/input/pcos-picture/PCOSGen-train (1)/PCOSGen-train/images/image3553.jpg\n",
      "/kaggle/input/pcos-picture/PCOSGen-train (1)/PCOSGen-train/images/image2659.jpg\n",
      "/kaggle/input/pcos-picture/PCOSGen-train (1)/PCOSGen-train/images/image1959.jpg\n",
      "/kaggle/input/pcos-picture/PCOSGen-train (1)/PCOSGen-train/images/308image32.jpg\n",
      "/kaggle/input/pcos-picture/PCOSGen-train (1)/PCOSGen-train/images/image1883.jpg\n",
      "/kaggle/input/pcos-picture/PCOSGen-train (1)/PCOSGen-train/images/image2622.jpg\n",
      "/kaggle/input/pcos-picture/PCOSGen-train (1)/PCOSGen-train/images/image2575.jpg\n",
      "/kaggle/input/pcos-picture/PCOSGen-train (1)/PCOSGen-train/images/image0525.jpg\n",
      "/kaggle/input/pcos-picture/PCOSGen-train (1)/PCOSGen-train/images/91image28.jpg\n",
      "/kaggle/input/pcos-picture/PCOSGen-train (1)/PCOSGen-train/images/image2192.jpg\n",
      "/kaggle/input/pcos-picture/PCOSGen-train (1)/PCOSGen-train/images/image0695.jpg\n",
      "/kaggle/input/pcos-picture/PCOSGen-train (1)/PCOSGen-train/images/94image8.jpg\n",
      "/kaggle/input/pcos-picture/PCOSGen-train (1)/PCOSGen-train/images/54image0079.jpg\n",
      "/kaggle/input/pcos-picture/PCOSGen-train (1)/PCOSGen-train/images/image2923.jpg\n",
      "/kaggle/input/pcos-picture/PCOSGen-train (1)/PCOSGen-train/images/image0750.jpg\n",
      "/kaggle/input/pcos-picture/PCOSGen-train (1)/PCOSGen-train/images/image1066.jpg\n",
      "/kaggle/input/pcos-picture/PCOSGen-train (1)/PCOSGen-train/images/image3301.jpg\n",
      "/kaggle/input/pcos-picture/PCOSGen-train (1)/PCOSGen-train/images/image0686.jpg\n",
      "/kaggle/input/pcos-picture/PCOSGen-train (1)/PCOSGen-train/images/239image1.jpg\n",
      "/kaggle/input/pcos-picture/PCOSGen-train (1)/PCOSGen-train/images/image0756.jpg\n",
      "/kaggle/input/pcos-picture/PCOSGen-train (1)/PCOSGen-train/images/image0937.jpg\n",
      "/kaggle/input/pcos-picture/PCOSGen-train (1)/PCOSGen-train/images/image3181.jpg\n",
      "/kaggle/input/pcos-picture/PCOSGen-train (1)/PCOSGen-train/images/image3420.jpg\n",
      "/kaggle/input/pcos-picture/PCOSGen-train (1)/PCOSGen-train/images/189image80.jpg\n",
      "/kaggle/input/pcos-picture/PCOSGen-train (1)/PCOSGen-train/images/118image1.jpg\n",
      "/kaggle/input/pcos-picture/PCOSGen-train (1)/PCOSGen-train/images/image3109.jpg\n",
      "/kaggle/input/pcos-picture/PCOSGen-train (1)/PCOSGen-train/images/image3638.jpg\n",
      "/kaggle/input/pcos-picture/PCOSGen-train (1)/PCOSGen-train/images/image0702.jpg\n",
      "/kaggle/input/pcos-picture/PCOSGen-train (1)/PCOSGen-train/images/88image11.jpg\n",
      "/kaggle/input/pcos-picture/PCOSGen-train (1)/PCOSGen-train/images/image1684.jpg\n",
      "/kaggle/input/pcos-picture/PCOSGen-train (1)/PCOSGen-train/images/image3390.jpg\n",
      "/kaggle/input/pcos-picture/PCOSGen-train (1)/PCOSGen-train/images/image1396.jpg\n",
      "/kaggle/input/pcos-picture/PCOSGen-train (1)/PCOSGen-train/images/image3201.jpg\n",
      "/kaggle/input/pcos-picture/PCOSGen-train (1)/PCOSGen-train/images/image3215.jpg\n",
      "/kaggle/input/pcos-picture/PCOSGen-train (1)/PCOSGen-train/images/image0842.jpg\n",
      "/kaggle/input/pcos-picture/PCOSGen-train (1)/PCOSGen-train/images/image1960.jpg\n",
      "/kaggle/input/pcos-picture/PCOSGen-train (1)/PCOSGen-train/images/image2554.jpg\n",
      "/kaggle/input/pcos-picture/PCOSGen-train (1)/PCOSGen-train/images/image0983.jpg\n",
      "/kaggle/input/pcos-picture/PCOSGen-train (1)/PCOSGen-train/images/image3774.jpg\n",
      "/kaggle/input/pcos-picture/PCOSGen-train (1)/PCOSGen-train/images/image3172.jpg\n",
      "/kaggle/input/pcos-picture/PCOSGen-train (1)/PCOSGen-train/images/1394image4.jpg\n",
      "/kaggle/input/pcos-picture/PCOSGen-train (1)/PCOSGen-train/images/image0755.jpg\n",
      "/kaggle/input/pcos-picture/PCOSGen-train (1)/PCOSGen-train/images/image3576.jpg\n",
      "/kaggle/input/pcos-picture/PCOSGen-train (1)/PCOSGen-train/images/image3160.jpg\n",
      "/kaggle/input/pcos-picture/PCOSGen-train (1)/PCOSGen-train/images/64image8.jpg\n",
      "/kaggle/input/pcos-picture/PCOSGen-train (1)/PCOSGen-train/images/image2962.jpg\n",
      "/kaggle/input/pcos-picture/PCOSGen-train (1)/PCOSGen-train/images/image1114.jpg\n",
      "/kaggle/input/pcos-picture/PCOSGen-train (1)/PCOSGen-train/images/image3664.jpg\n",
      "/kaggle/input/pcos-picture/PCOSGen-train (1)/PCOSGen-train/images/image3131.jpg\n",
      "/kaggle/input/pcos-picture/PCOSGen-train (1)/PCOSGen-train/images/image2862.jpg\n",
      "/kaggle/input/pcos-picture/PCOSGen-train (1)/PCOSGen-train/images/image0638.jpg\n",
      "/kaggle/input/pcos-picture/PCOSGen-train (1)/PCOSGen-train/images/image0870.jpg\n",
      "/kaggle/input/pcos-picture/PCOSGen-train (1)/PCOSGen-train/images/image3554.jpg\n",
      "/kaggle/input/pcos-picture/PCOSGen-train (1)/PCOSGen-train/images/image2847.jpg\n",
      "/kaggle/input/pcos-picture/PCOSGen-train (1)/PCOSGen-train/images/image1413.jpg\n",
      "/kaggle/input/pcos-picture/PCOSGen-train (1)/PCOSGen-train/images/image0532.jpg\n",
      "/kaggle/input/pcos-picture/PCOSGen-train (1)/PCOSGen-train/images/90image36.jpg\n",
      "/kaggle/input/pcos-picture/PCOSGen-train (1)/PCOSGen-train/images/image3508.jpg\n",
      "/kaggle/input/pcos-picture/PCOSGen-train (1)/PCOSGen-train/images/image3001.jpg\n",
      "/kaggle/input/pcos-picture/PCOSGen-train (1)/PCOSGen-train/images/45image0051.jpg\n",
      "/kaggle/input/pcos-picture/PCOSGen-train (1)/PCOSGen-train/images/image0467.jpg\n",
      "/kaggle/input/pcos-picture/PCOSGen-train (1)/PCOSGen-train/images/image3129.jpg\n",
      "/kaggle/input/pcos-picture/PCOSGen-train (1)/PCOSGen-train/images/image2664.jpg\n",
      "/kaggle/input/pcos-picture/PCOSGen-train (1)/PCOSGen-train/images/image2928.jpg\n",
      "/kaggle/input/pcos-picture/PCOSGen-train (1)/PCOSGen-train/images/15image46.jpg\n",
      "/kaggle/input/pcos-picture/PCOSGen-train (1)/PCOSGen-train/images/image1151.jpg\n",
      "/kaggle/input/pcos-picture/PCOSGen-train (1)/PCOSGen-train/images/image3303.jpg\n",
      "/kaggle/input/pcos-picture/PCOSGen-train (1)/PCOSGen-train/images/image3057.jpg\n",
      "/kaggle/input/pcos-picture/PCOSGen-train (1)/PCOSGen-train/images/21image0035.jpg\n",
      "/kaggle/input/pcos-picture/PCOSGen-train (1)/PCOSGen-train/images/image3495.jpg\n",
      "/kaggle/input/pcos-picture/PCOSGen-train (1)/PCOSGen-train/images/106image24.jpg\n",
      "/kaggle/input/pcos-picture/PCOSGen-train (1)/PCOSGen-train/images/image3359.jpg\n",
      "/kaggle/input/pcos-picture/PCOSGen-train (1)/PCOSGen-train/images/image3460.jpg\n",
      "/kaggle/input/pcos-picture/PCOSGen-train (1)/PCOSGen-train/images/image3045.jpg\n",
      "/kaggle/input/pcos-picture/PCOSGen-train (1)/PCOSGen-train/images/109image0071.jpg\n",
      "/kaggle/input/pcos-picture/PCOSGen-train (1)/PCOSGen-train/images/21image66.jpg\n",
      "/kaggle/input/pcos-picture/PCOSGen-train (1)/PCOSGen-train/images/image2632.jpg\n",
      "/kaggle/input/pcos-picture/PCOSGen-train (1)/PCOSGen-train/images/image2590.jpg\n",
      "/kaggle/input/pcos-picture/PCOSGen-train (1)/PCOSGen-train/images/image2803.jpg\n",
      "/kaggle/input/pcos-picture/PCOSGen-train (1)/PCOSGen-train/images/image0977.jpg\n",
      "/kaggle/input/pcos-picture/PCOSGen-train (1)/PCOSGen-train/images/image2455.jpg\n",
      "/kaggle/input/pcos-picture/PCOSGen-train (1)/PCOSGen-train/images/image3014.jpg\n",
      "/kaggle/input/pcos-picture/PCOSGen-train (1)/PCOSGen-train/images/image3064.jpg\n",
      "/kaggle/input/pcos-picture/PCOSGen-train (1)/PCOSGen-train/images/image0784.jpg\n",
      "/kaggle/input/pcos-picture/PCOSGen-train (1)/PCOSGen-train/images/image3235.jpg\n",
      "/kaggle/input/pcos-picture/PCOSGen-train (1)/PCOSGen-train/images/image0256.jpg\n",
      "/kaggle/input/pcos-picture/PCOSGen-train (1)/PCOSGen-train/images/image3632.jpg\n",
      "/kaggle/input/pcos-picture/PCOSGen-train (1)/PCOSGen-train/images/image3013.jpg\n",
      "/kaggle/input/pcos-picture/PCOSGen-train (1)/PCOSGen-train/images/image2144.jpg\n",
      "/kaggle/input/pcos-picture/PCOSGen-train (1)/PCOSGen-train/images/image3122.jpg\n",
      "/kaggle/input/pcos-picture/PCOSGen-train (1)/PCOSGen-train/images/image1676.jpg\n",
      "/kaggle/input/pcos-picture/PCOSGen-train (1)/PCOSGen-train/images/240image6.jpg\n",
      "/kaggle/input/pcos-picture/PCOSGen-train (1)/PCOSGen-train/images/image1559.jpg\n",
      "/kaggle/input/pcos-picture/PCOSGen-train (1)/PCOSGen-train/images/image0499.jpg\n",
      "/kaggle/input/pcos-picture/PCOSGen-train (1)/PCOSGen-train/images/image2925.jpg\n",
      "/kaggle/input/pcos-picture/PCOSGen-train (1)/PCOSGen-train/images/image0818.jpg\n",
      "/kaggle/input/pcos-picture/PCOSGen-train (1)/PCOSGen-train/images/image2964.jpg\n",
      "/kaggle/input/pcos-picture/PCOSGen-train (1)/PCOSGen-train/images/image2806.jpg\n",
      "/kaggle/input/pcos-picture/PCOSGen-train (1)/PCOSGen-train/images/image0398.jpg\n",
      "/kaggle/input/pcos-picture/PCOSGen-train (1)/PCOSGen-train/images/image2990.jpg\n",
      "/kaggle/input/pcos-picture/PCOSGen-train (1)/PCOSGen-train/images/image1942.jpg\n",
      "/kaggle/input/pcos-picture/PCOSGen-train (1)/PCOSGen-train/images/image2064.jpg\n",
      "/kaggle/input/pcos-picture/PCOSGen-train (1)/PCOSGen-train/images/1456image5.jpg\n",
      "/kaggle/input/pcos-picture/PCOSGen-train (1)/PCOSGen-train/images/image0079.jpg\n",
      "/kaggle/input/pcos-picture/PCOSGen-train (1)/PCOSGen-train/images/310image7.jpg\n",
      "/kaggle/input/pcos-picture/PCOSGen-train (1)/PCOSGen-train/images/image3532.jpg\n",
      "/kaggle/input/pcos-picture/PCOSGen-train (1)/PCOSGen-train/images/image2691.jpg\n",
      "/kaggle/input/pcos-picture/PCOSGen-train (1)/PCOSGen-train/images/image1852.jpg\n",
      "/kaggle/input/pcos-picture/PCOSGen-train (1)/PCOSGen-train/images/image3539.jpg\n",
      "/kaggle/input/pcos-picture/PCOSGen-train (1)/PCOSGen-train/images/image0583.jpg\n",
      "/kaggle/input/pcos-picture/PCOSGen-train (1)/PCOSGen-train/images/image3613.jpg\n",
      "/kaggle/input/pcos-picture/PCOSGen-train (1)/PCOSGen-train/images/image3653.jpg\n",
      "/kaggle/input/pcos-picture/PCOSGen-train (1)/PCOSGen-train/images/image0483.jpg\n",
      "/kaggle/input/pcos-picture/PCOSGen-train (1)/PCOSGen-train/images/image2391.jpg\n",
      "/kaggle/input/pcos-picture/PCOSGen-train (1)/PCOSGen-train/images/image3162.jpg\n",
      "/kaggle/input/pcos-picture/PCOSGen-train (1)/PCOSGen-train/images/image2443.jpg\n",
      "/kaggle/input/pcos-picture/PCOSGen-train (1)/PCOSGen-train/images/116image0104.jpg\n",
      "/kaggle/input/pcos-picture/PCOSGen-train (1)/PCOSGen-train/images/image1668.jpg\n",
      "/kaggle/input/pcos-picture/PCOSGen-train (1)/PCOSGen-train/images/image2927.jpg\n",
      "/kaggle/input/pcos-picture/PCOSGen-train (1)/PCOSGen-train/images/image3377.jpg\n",
      "/kaggle/input/pcos-picture/PCOSGen-train (1)/PCOSGen-train/images/10image41.jpg\n",
      "/kaggle/input/pcos-picture/PCOSGen-train (1)/PCOSGen-train/images/image1059.jpg\n",
      "/kaggle/input/pcos-picture/PCOSGen-train (1)/PCOSGen-train/images/image1072.jpg\n",
      "/kaggle/input/pcos-picture/PCOSGen-train (1)/PCOSGen-train/images/image1000.jpg\n",
      "/kaggle/input/pcos-picture/PCOSGen-train (1)/PCOSGen-train/images/image1079.jpg\n",
      "/kaggle/input/pcos-picture/PCOSGen-train (1)/PCOSGen-train/images/image2658.jpg\n",
      "/kaggle/input/pcos-picture/PCOSGen-train (1)/PCOSGen-train/images/image2146.jpg\n",
      "/kaggle/input/pcos-picture/PCOSGen-train (1)/PCOSGen-train/images/image3697.jpg\n",
      "/kaggle/input/pcos-picture/PCOSGen-train (1)/PCOSGen-train/images/image0013.jpg\n",
      "/kaggle/input/pcos-picture/PCOSGen-train (1)/PCOSGen-train/images/image2782.jpg\n",
      "/kaggle/input/pcos-picture/PCOSGen-train (1)/PCOSGen-train/images/image3776.jpg\n",
      "/kaggle/input/pcos-picture/PCOSGen-train (1)/PCOSGen-train/images/image0907.jpg\n",
      "/kaggle/input/pcos-picture/PCOSGen-train (1)/PCOSGen-train/images/94image75.jpg\n",
      "/kaggle/input/pcos-picture/PCOSGen-train (1)/PCOSGen-train/images/image1813.jpg\n",
      "/kaggle/input/pcos-picture/PCOSGen-train (1)/PCOSGen-train/images/image2571.jpg\n",
      "/kaggle/input/pcos-picture/PCOSGen-train (1)/PCOSGen-train/images/image3315.jpg\n",
      "/kaggle/input/pcos-picture/PCOSGen-train (1)/PCOSGen-train/images/image3035.jpg\n",
      "/kaggle/input/pcos-picture/PCOSGen-train (1)/PCOSGen-train/images/image2815.jpg\n",
      "/kaggle/input/pcos-picture/PCOSGen-train (1)/PCOSGen-train/images/image1400.jpg\n",
      "/kaggle/input/pcos-picture/PCOSGen-train (1)/PCOSGen-train/images/image2486.jpg\n",
      "/kaggle/input/pcos-picture/PCOSGen-train (1)/PCOSGen-train/images/170image37.jpg\n",
      "/kaggle/input/pcos-picture/PCOSGen-train (1)/PCOSGen-train/images/image0669.jpg\n",
      "/kaggle/input/pcos-picture/PCOSGen-train (1)/PCOSGen-train/images/image0567.jpg\n",
      "/kaggle/input/pcos-picture/PCOSGen-train (1)/PCOSGen-train/images/186image1.jpg\n",
      "/kaggle/input/pcos-picture/PCOSGen-train (1)/PCOSGen-train/images/image2403.jpg\n",
      "/kaggle/input/pcos-picture/PCOSGen-train (1)/PCOSGen-train/images/image3211.jpg\n",
      "/kaggle/input/pcos-picture/PCOSGen-train (1)/PCOSGen-train/images/image3418.jpg\n",
      "/kaggle/input/pcos-picture/PCOSGen-train (1)/PCOSGen-train/images/image0832.jpg\n",
      "/kaggle/input/pcos-picture/PCOSGen-train (1)/PCOSGen-train/images/image2607.jpg\n",
      "/kaggle/input/pcos-picture/PCOSGen-train (1)/PCOSGen-train/images/image2591.jpg\n",
      "/kaggle/input/pcos-picture/PCOSGen-train (1)/PCOSGen-train/images/image3224.jpg\n",
      "/kaggle/input/pcos-picture/PCOSGen-train (1)/PCOSGen-train/images/image0258.jpg\n",
      "/kaggle/input/pcos-picture/PCOSGen-train (1)/PCOSGen-train/images/image3312.jpg\n",
      "/kaggle/input/pcos-picture/PCOSGen-train (1)/PCOSGen-train/images/image0753.jpg\n",
      "/kaggle/input/pcos-picture/PCOSGen-train (1)/PCOSGen-train/images/image3062.jpg\n",
      "/kaggle/input/pcos-picture/PCOSGen-train (1)/PCOSGen-train/images/image3148.jpg\n",
      "/kaggle/input/pcos-picture/PCOSGen-train (1)/PCOSGen-train/images/image0783.jpg\n",
      "/kaggle/input/pcos-picture/PCOSGen-train (1)/PCOSGen-train/images/image2692.jpg\n",
      "/kaggle/input/pcos-picture/PCOSGen-train (1)/PCOSGen-train/images/10image17.jpg\n",
      "/kaggle/input/pcos-picture/PCOSGen-train (1)/PCOSGen-train/images/pco_14.jpg\n",
      "/kaggle/input/pcos-picture/PCOSGen-train (1)/PCOSGen-train/images/image0418.jpg\n",
      "/kaggle/input/pcos-picture/PCOSGen-train (1)/PCOSGen-train/images/image0439.jpg\n",
      "/kaggle/input/pcos-picture/PCOSGen-train (1)/PCOSGen-train/images/9image0043.jpg\n",
      "/kaggle/input/pcos-picture/PCOSGen-train (1)/PCOSGen-train/images/image3279.jpg\n",
      "/kaggle/input/pcos-picture/PCOSGen-train (1)/PCOSGen-train/images/image0365.jpg\n",
      "/kaggle/input/pcos-picture/PCOSGen-train (1)/PCOSGen-train/images/image0494.jpg\n",
      "/kaggle/input/pcos-picture/PCOSGen-train (1)/PCOSGen-train/images/image0929.jpg\n",
      "/kaggle/input/pcos-picture/PCOSGen-train (1)/PCOSGen-train/images/67image0080.jpg\n",
      "/kaggle/input/pcos-picture/PCOSGen-train (1)/PCOSGen-train/images/image1637.jpg\n",
      "/kaggle/input/pcos-picture/PCOSGen-train (1)/PCOSGen-train/images/image1672.jpg\n",
      "/kaggle/input/pcos-picture/PCOSGen-train (1)/PCOSGen-train/images/image0589.jpg\n",
      "/kaggle/input/pcos-picture/PCOSGen-train (1)/PCOSGen-train/images/171image47.jpg\n",
      "/kaggle/input/pcos-picture/PCOSGen-train (1)/PCOSGen-train/images/image0816.jpg\n",
      "/kaggle/input/pcos-picture/PCOSGen-train (1)/PCOSGen-train/images/160image2.jpg\n",
      "/kaggle/input/pcos-picture/PCOSGen-train (1)/PCOSGen-train/images/image0836.jpg\n",
      "/kaggle/input/pcos-picture/PCOSGen-train (1)/PCOSGen-train/images/161image8.jpg\n",
      "/kaggle/input/pcos-picture/PCOSGen-train (1)/PCOSGen-train/images/image2536.jpg\n",
      "/kaggle/input/pcos-picture/PCOSGen-train (1)/PCOSGen-train/images/12image63.jpg\n",
      "/kaggle/input/pcos-picture/PCOSGen-train (1)/PCOSGen-train/images/107image11.jpg\n",
      "/kaggle/input/pcos-picture/PCOSGen-train (1)/PCOSGen-train/images/image3335.jpg\n",
      "/kaggle/input/pcos-picture/PCOSGen-train (1)/PCOSGen-train/images/image3719.jpg\n",
      "/kaggle/input/pcos-picture/PCOSGen-train (1)/PCOSGen-train/images/image1915.jpg\n",
      "/kaggle/input/pcos-picture/PCOSGen-train (1)/PCOSGen-train/images/image3078.jpg\n",
      "/kaggle/input/pcos-picture/PCOSGen-train (1)/PCOSGen-train/images/image3661.jpg\n",
      "/kaggle/input/pcos-picture/PCOSGen-train (1)/PCOSGen-train/images/image0330.jpg\n",
      "/kaggle/input/pcos-picture/PCOSGen-train (1)/PCOSGen-train/images/image1178.jpg\n",
      "/kaggle/input/pcos-picture/PCOSGen-train (1)/PCOSGen-train/images/9image20.jpg\n",
      "/kaggle/input/pcos-picture/PCOSGen-train (1)/PCOSGen-train/images/image3608.jpg\n",
      "/kaggle/input/pcos-picture/PCOSGen-train (1)/PCOSGen-train/images/image0577.jpg\n",
      "/kaggle/input/pcos-picture/PCOSGen-train (1)/PCOSGen-train/images/image2744.jpg\n",
      "/kaggle/input/pcos-picture/PCOSGen-train (1)/PCOSGen-train/images/image3647.jpg\n",
      "/kaggle/input/pcos-picture/PCOSGen-train (1)/PCOSGen-train/images/image3143.jpg\n",
      "/kaggle/input/pcos-picture/PCOSGen-train (1)/PCOSGen-train/images/image0290.jpg\n",
      "/kaggle/input/pcos-picture/PCOSGen-train (1)/PCOSGen-train/images/image2797.jpg\n",
      "/kaggle/input/pcos-picture/PCOSGen-train (1)/PCOSGen-train/images/image2115.jpg\n",
      "/kaggle/input/pcos-picture/PCOSGen-train (1)/PCOSGen-train/images/image0410.jpg\n",
      "/kaggle/input/pcos-picture/PCOSGen-train (1)/PCOSGen-train/images/image0660.jpg\n",
      "/kaggle/input/pcos-picture/PCOSGen-train (1)/PCOSGen-train/images/image2527.jpg\n",
      "/kaggle/input/pcos-picture/PCOSGen-train (1)/PCOSGen-train/images/image0585.jpg\n",
      "/kaggle/input/pcos-picture/PCOSGen-train (1)/PCOSGen-train/images/image1062.jpg\n",
      "/kaggle/input/pcos-picture/PCOSGen-train (1)/PCOSGen-train/images/image1631.jpg\n",
      "/kaggle/input/pcos-picture/PCOSGen-train (1)/PCOSGen-train/images/image3710.jpg\n",
      "/kaggle/input/pcos-picture/PCOSGen-train (1)/PCOSGen-train/images/image1944.jpg\n",
      "/kaggle/input/pcos-picture/PCOSGen-train (1)/PCOSGen-train/images/image0612.jpg\n",
      "/kaggle/input/pcos-picture/PCOSGen-train (1)/PCOSGen-train/images/2634image16.jpg\n",
      "/kaggle/input/pcos-picture/PCOSGen-train (1)/PCOSGen-train/images/image0465.jpg\n",
      "/kaggle/input/pcos-picture/PCOSGen-train (1)/PCOSGen-train/images/image0973.jpg\n",
      "/kaggle/input/pcos-picture/PCOSGen-train (1)/PCOSGen-train/images/image3337.jpg\n",
      "/kaggle/input/pcos-picture/PCOSGen-train (1)/PCOSGen-train/images/image1170.jpg\n",
      "/kaggle/input/pcos-picture/PCOSGen-train (1)/PCOSGen-train/images/image3216.jpg\n",
      "/kaggle/input/pcos-picture/PCOSGen-train (1)/PCOSGen-train/images/image1878.jpg\n",
      "/kaggle/input/pcos-picture/PCOSGen-train (1)/PCOSGen-train/images/image2410.jpg\n",
      "/kaggle/input/pcos-picture/PCOSGen-train (1)/PCOSGen-train/images/image3709.jpg\n",
      "/kaggle/input/pcos-picture/PCOSGen-train (1)/PCOSGen-train/images/image1179.jpg\n",
      "/kaggle/input/pcos-picture/PCOSGen-train (1)/PCOSGen-train/images/image1830.jpg\n",
      "/kaggle/input/pcos-picture/PCOSGen-train (1)/PCOSGen-train/images/156image84.jpg\n",
      "/kaggle/input/pcos-picture/PCOSGen-train (1)/PCOSGen-train/images/image1281.jpg\n",
      "/kaggle/input/pcos-picture/PCOSGen-train (1)/PCOSGen-train/images/image3753.jpg\n",
      "/kaggle/input/pcos-picture/PCOSGen-train (1)/PCOSGen-train/images/119image50.jpg\n",
      "/kaggle/input/pcos-picture/PCOSGen-train (1)/PCOSGen-train/images/image0819.jpg\n",
      "/kaggle/input/pcos-picture/PCOSGen-train (1)/PCOSGen-train/images/image3085.jpg\n",
      "/kaggle/input/pcos-picture/PCOSGen-train (1)/PCOSGen-train/images/image3389.jpg\n",
      "/kaggle/input/pcos-picture/PCOSGen-train (1)/PCOSGen-train/images/image2992.jpg\n",
      "/kaggle/input/pcos-picture/PCOSGen-train (1)/PCOSGen-train/images/image3138.jpg\n",
      "/kaggle/input/pcos-picture/PCOSGen-train (1)/PCOSGen-train/images/image2671.jpg\n",
      "/kaggle/input/pcos-picture/PCOSGen-train (1)/PCOSGen-train/images/image2899.jpg\n",
      "/kaggle/input/pcos-picture/PCOSGen-train (1)/PCOSGen-train/images/119image0120.jpg\n",
      "/kaggle/input/pcos-picture/PCOSGen-train (1)/PCOSGen-train/images/image3522.jpg\n",
      "/kaggle/input/pcos-picture/PCOSGen-train (1)/PCOSGen-train/images/image0684.jpg\n",
      "/kaggle/input/pcos-picture/PCOSGen-train (1)/PCOSGen-train/images/image1128.jpg\n",
      "/kaggle/input/pcos-picture/PCOSGen-train (1)/PCOSGen-train/images/image0969.jpg\n",
      "/kaggle/input/pcos-picture/PCOSGen-train (1)/PCOSGen-train/images/normal_37.jpg\n",
      "/kaggle/input/pcos-picture/PCOSGen-train (1)/PCOSGen-train/images/image0925.jpg\n",
      "/kaggle/input/pcos-picture/PCOSGen-train (1)/PCOSGen-train/images/image3575.jpg\n",
      "/kaggle/input/pcos-picture/PCOSGen-train (1)/PCOSGen-train/images/image3259.jpg\n",
      "/kaggle/input/pcos-picture/PCOSGen-train (1)/PCOSGen-train/images/91image4.jpg\n",
      "/kaggle/input/pcos-picture/PCOSGen-train (1)/PCOSGen-train/images/image3347.jpg\n",
      "/kaggle/input/pcos-picture/PCOSGen-train (1)/PCOSGen-train/images/296image16.jpg\n",
      "/kaggle/input/pcos-picture/PCOSGen-train (1)/PCOSGen-train/images/image0070.jpg\n",
      "/kaggle/input/pcos-picture/PCOSGen-train (1)/PCOSGen-train/images/image0535.jpg\n",
      "/kaggle/input/pcos-picture/PCOSGen-train (1)/PCOSGen-train/images/64image27.jpg\n",
      "/kaggle/input/pcos-picture/PCOSGen-train (1)/PCOSGen-train/images/9image25.jpg\n",
      "/kaggle/input/pcos-picture/PCOSGen-train (1)/PCOSGen-train/images/image0089.jpg\n",
      "/kaggle/input/pcos-picture/PCOSGen-train (1)/PCOSGen-train/images/image2408.jpg\n",
      "/kaggle/input/pcos-picture/PCOSGen-train (1)/PCOSGen-train/images/image3110.jpg\n",
      "/kaggle/input/pcos-picture/PCOSGen-train (1)/PCOSGen-train/images/image3649.jpg\n",
      "/kaggle/input/pcos-picture/PCOSGen-train (1)/PCOSGen-train/images/image3168.jpg\n",
      "/kaggle/input/pcos-picture/PCOSGen-train (1)/PCOSGen-train/images/123image2.jpg\n",
      "/kaggle/input/pcos-picture/PCOSGen-train (1)/PCOSGen-train/images/image0666.jpg\n",
      "/kaggle/input/pcos-picture/PCOSGen-train (1)/PCOSGen-train/images/image0207.jpg\n",
      "/kaggle/input/pcos-picture/PCOSGen-train (1)/PCOSGen-train/images/image0880.jpg\n",
      "/kaggle/input/pcos-picture/PCOSGen-train (1)/PCOSGen-train/images/image2773.jpg\n",
      "/kaggle/input/pcos-picture/PCOSGen-train (1)/PCOSGen-train/images/image3052.jpg\n",
      "/kaggle/input/pcos-picture/PCOSGen-train (1)/PCOSGen-train/images/image0096.jpg\n",
      "/kaggle/input/pcos-picture/PCOSGen-train (1)/PCOSGen-train/images/image1758.jpg\n",
      "/kaggle/input/pcos-picture/PCOSGen-train (1)/PCOSGen-train/images/image3030.jpg\n",
      "/kaggle/input/pcos-picture/PCOSGen-train (1)/PCOSGen-train/images/92image25.jpg\n",
      "/kaggle/input/pcos-picture/PCOSGen-train (1)/PCOSGen-train/images/image3158.jpg\n",
      "/kaggle/input/pcos-picture/PCOSGen-train (1)/PCOSGen-train/images/image0391.jpg\n",
      "/kaggle/input/pcos-picture/PCOSGen-train (1)/PCOSGen-train/images/image1280.jpg\n",
      "/kaggle/input/pcos-picture/PCOSGen-train (1)/PCOSGen-train/images/image1193.jpg\n",
      "/kaggle/input/pcos-picture/PCOSGen-train (1)/PCOSGen-train/images/image3387.jpg\n",
      "/kaggle/input/pcos-picture/PCOSGen-train (1)/PCOSGen-train/images/image3155.jpg\n",
      "/kaggle/input/pcos-picture/PCOSGen-train (1)/PCOSGen-train/images/image0111.jpg\n",
      "/kaggle/input/pcos-picture/PCOSGen-train (1)/PCOSGen-train/images/184image98.jpg\n",
      "/kaggle/input/pcos-picture/PCOSGen-train (1)/PCOSGen-train/images/image2344.jpg\n",
      "/kaggle/input/pcos-picture/PCOSGen-train (1)/PCOSGen-train/images/pco_2.jpg\n",
      "/kaggle/input/pcos-picture/PCOSGen-train (1)/PCOSGen-train/images/123image0117.jpg\n",
      "/kaggle/input/pcos-picture/PCOSGen-train (1)/PCOSGen-train/images/image1098.jpg\n",
      "/kaggle/input/pcos-picture/PCOSGen-train (1)/PCOSGen-train/images/image1016.jpg\n",
      "/kaggle/input/pcos-picture/PCOSGen-train (1)/PCOSGen-train/images/image2434.jpg\n",
      "/kaggle/input/pcos-picture/PCOSGen-train (1)/PCOSGen-train/images/image0861.jpg\n",
      "/kaggle/input/pcos-picture/PCOSGen-train (1)/PCOSGen-train/images/image1134.jpg\n",
      "/kaggle/input/pcos-picture/PCOSGen-train (1)/PCOSGen-train/images/image2368.jpg\n",
      "/kaggle/input/pcos-picture/PCOSGen-train (1)/PCOSGen-train/images/image0484.jpg\n",
      "/kaggle/input/pcos-picture/PCOSGen-train (1)/PCOSGen-train/images/image2834.jpg\n",
      "/kaggle/input/pcos-picture/PCOSGen-train (1)/PCOSGen-train/images/image3405.jpg\n",
      "/kaggle/input/pcos-picture/PCOSGen-train (1)/PCOSGen-train/images/image0468.jpg\n",
      "/kaggle/input/pcos-picture/PCOSGen-train (1)/PCOSGen-train/images/image3095.jpg\n",
      "/kaggle/input/pcos-picture/PCOSGen-train (1)/PCOSGen-train/images/image3764.jpg\n",
      "/kaggle/input/pcos-picture/PCOSGen-train (1)/PCOSGen-train/images/image0645.jpg\n",
      "/kaggle/input/pcos-picture/PCOSGen-train (1)/PCOSGen-train/images/image0820.jpg\n",
      "/kaggle/input/pcos-picture/PCOSGen-train (1)/PCOSGen-train/images/206image97.jpg\n",
      "/kaggle/input/pcos-picture/PCOSGen-train (1)/PCOSGen-train/images/image2409.jpg\n",
      "/kaggle/input/pcos-picture/PCOSGen-train (1)/PCOSGen-train/images/image3309.jpg\n",
      "/kaggle/input/pcos-picture/PCOSGen-train (1)/PCOSGen-train/images/image1650.jpg\n",
      "/kaggle/input/pcos-picture/PCOSGen-train (1)/PCOSGen-train/images/36image0040.jpg\n",
      "/kaggle/input/pcos-picture/PCOSGen-train (1)/PCOSGen-train/images/image1038.jpg\n",
      "/kaggle/input/pcos-picture/PCOSGen-train (1)/PCOSGen-train/images/image0091.jpg\n",
      "/kaggle/input/pcos-picture/PCOSGen-train (1)/PCOSGen-train/images/image2900.jpg\n",
      "/kaggle/input/pcos-picture/PCOSGen-train (1)/PCOSGen-train/images/image1820.jpg\n",
      "/kaggle/input/pcos-picture/PCOSGen-train (1)/PCOSGen-train/images/image2774.jpg\n",
      "/kaggle/input/pcos-picture/PCOSGen-train (1)/PCOSGen-train/images/image0742.jpg\n",
      "/kaggle/input/pcos-picture/PCOSGen-train (1)/PCOSGen-train/images/image2558.jpg\n",
      "/kaggle/input/pcos-picture/PCOSGen-train (1)/PCOSGen-train/images/image2666.jpg\n",
      "/kaggle/input/pcos-picture/PCOSGen-train (1)/PCOSGen-train/images/image2971.jpg\n",
      "/kaggle/input/pcos-picture/PCOSGen-train (1)/PCOSGen-train/images/image0449.jpg\n",
      "/kaggle/input/pcos-picture/PCOSGen-train (1)/PCOSGen-train/images/image3251.jpg\n",
      "/kaggle/input/pcos-picture/PCOSGen-train (1)/PCOSGen-train/images/image2842.jpg\n",
      "/kaggle/input/pcos-picture/PCOSGen-train (1)/PCOSGen-train/images/image3392.jpg\n",
      "/kaggle/input/pcos-picture/PCOSGen-train (1)/PCOSGen-train/images/image1961.jpg\n",
      "/kaggle/input/pcos-picture/PCOSGen-train (1)/PCOSGen-train/images/image0566.jpg\n",
      "/kaggle/input/pcos-picture/PCOSGen-train (1)/PCOSGen-train/images/image0764.jpg\n",
      "/kaggle/input/pcos-picture/PCOSGen-train (1)/PCOSGen-train/images/image0903.jpg\n",
      "/kaggle/input/pcos-picture/PCOSGen-train (1)/PCOSGen-train/images/5image28.jpg\n",
      "/kaggle/input/pcos-picture/PCOSGen-train (1)/PCOSGen-train/images/image2381.jpg\n",
      "/kaggle/input/pcos-picture/PCOSGen-train (1)/PCOSGen-train/images/image0086.jpg\n",
      "/kaggle/input/pcos-picture/PCOSGen-train (1)/PCOSGen-train/images/image2439.jpg\n",
      "/kaggle/input/pcos-picture/PCOSGen-train (1)/PCOSGen-train/images/image0303.jpg\n",
      "/kaggle/input/pcos-picture/PCOSGen-train (1)/PCOSGen-train/images/142image16.jpg\n",
      "/kaggle/input/pcos-picture/PCOSGen-train (1)/PCOSGen-train/images/90image76.jpg\n",
      "/kaggle/input/pcos-picture/PCOSGen-train (1)/PCOSGen-train/images/image3544.jpg\n",
      "/kaggle/input/pcos-picture/PCOSGen-train (1)/PCOSGen-train/images/image2997.jpg\n",
      "/kaggle/input/pcos-picture/PCOSGen-train (1)/PCOSGen-train/images/79image0065.jpg\n",
      "/kaggle/input/pcos-picture/PCOSGen-train (1)/PCOSGen-train/images/image3685.jpg\n",
      "/kaggle/input/pcos-picture/PCOSGen-train (1)/PCOSGen-train/images/image2795.jpg\n",
      "/kaggle/input/pcos-picture/PCOSGen-train (1)/PCOSGen-train/images/image0313.jpg\n",
      "/kaggle/input/pcos-picture/PCOSGen-train (1)/PCOSGen-train/images/image0067.jpg\n",
      "/kaggle/input/pcos-picture/PCOSGen-train (1)/PCOSGen-train/images/image1132.jpg\n",
      "/kaggle/input/pcos-picture/PCOSGen-train (1)/PCOSGen-train/images/image2274.jpg\n",
      "/kaggle/input/pcos-picture/PCOSGen-train (1)/PCOSGen-train/images/image2559.jpg\n",
      "/kaggle/input/pcos-picture/PCOSGen-train (1)/PCOSGen-train/images/image3676.jpg\n",
      "/kaggle/input/pcos-picture/PCOSGen-train (1)/PCOSGen-train/images/image3098.jpg\n",
      "/kaggle/input/pcos-picture/PCOSGen-train (1)/PCOSGen-train/images/image0594.jpg\n",
      "/kaggle/input/pcos-picture/PCOSGen-train (1)/PCOSGen-train/images/image3559.jpg\n",
      "/kaggle/input/pcos-picture/PCOSGen-train (1)/PCOSGen-train/images/image1192.jpg\n",
      "/kaggle/input/pcos-picture/PCOSGen-train (1)/PCOSGen-train/images/13image31.jpg\n",
      "/kaggle/input/pcos-picture/PCOSGen-train (1)/PCOSGen-train/images/image1657.jpg\n",
      "/kaggle/input/pcos-picture/PCOSGen-train (1)/PCOSGen-train/images/523image18.jpg\n",
      "/kaggle/input/pcos-picture/PCOSGen-train (1)/PCOSGen-train/images/147image37.jpg\n",
      "/kaggle/input/pcos-picture/PCOSGen-train (1)/PCOSGen-train/images/image2907.jpg\n",
      "/kaggle/input/pcos-picture/PCOSGen-train (1)/PCOSGen-train/images/image1632.jpg\n",
      "/kaggle/input/pcos-picture/PCOSGen-train (1)/PCOSGen-train/images/image0302.jpg\n",
      "/kaggle/input/pcos-picture/PCOSGen-train (1)/PCOSGen-train/images/image0647.jpg\n",
      "/kaggle/input/pcos-picture/PCOSGen-train (1)/PCOSGen-train/images/image3798.jpg\n",
      "/kaggle/input/pcos-picture/PCOSGen-train (1)/PCOSGen-train/images/image0911.jpg\n",
      "/kaggle/input/pcos-picture/PCOSGen-train (1)/PCOSGen-train/images/49image0009.jpg\n",
      "/kaggle/input/pcos-picture/PCOSGen-train (1)/PCOSGen-train/images/image0955.jpg\n",
      "/kaggle/input/pcos-picture/PCOSGen-train (1)/PCOSGen-train/images/image0460.jpg\n",
      "/kaggle/input/pcos-picture/PCOSGen-train (1)/PCOSGen-train/images/image1095.jpg\n",
      "/kaggle/input/pcos-picture/PCOSGen-train (1)/PCOSGen-train/images/86image0099.jpg\n",
      "/kaggle/input/pcos-picture/PCOSGen-train (1)/PCOSGen-train/images/89image0101.jpg\n",
      "/kaggle/input/pcos-picture/PCOSGen-train (1)/PCOSGen-train/images/normal_26.jpg\n",
      "/kaggle/input/pcos-picture/PCOSGen-train (1)/PCOSGen-train/images/image0432.jpg\n",
      "/kaggle/input/pcos-picture/PCOSGen-train (1)/PCOSGen-train/images/image3614.jpg\n",
      "/kaggle/input/pcos-picture/PCOSGen-train (1)/PCOSGen-train/images/image0770.jpg\n",
      "/kaggle/input/pcos-picture/PCOSGen-train (1)/PCOSGen-train/images/image0611.jpg\n",
      "/kaggle/input/pcos-picture/PCOSGen-train (1)/PCOSGen-train/images/image0367.jpg\n",
      "/kaggle/input/pcos-picture/PCOSGen-train (1)/PCOSGen-train/images/image2393.jpg\n",
      "/kaggle/input/pcos-picture/PCOSGen-train (1)/PCOSGen-train/images/image0688.jpg\n",
      "/kaggle/input/pcos-picture/PCOSGen-train (1)/PCOSGen-train/images/104image83.jpg\n",
      "/kaggle/input/pcos-picture/PCOSGen-train (1)/PCOSGen-train/images/image0446.jpg\n",
      "/kaggle/input/pcos-picture/PCOSGen-train (1)/PCOSGen-train/images/7image14.jpg\n",
      "/kaggle/input/pcos-picture/PCOSGen-train (1)/PCOSGen-train/images/image0072.jpg\n",
      "/kaggle/input/pcos-picture/PCOSGen-train (1)/PCOSGen-train/images/image0293.jpg\n",
      "/kaggle/input/pcos-picture/PCOSGen-train (1)/PCOSGen-train/images/54image29.jpg\n",
      "/kaggle/input/pcos-picture/PCOSGen-train (1)/PCOSGen-train/images/image1974.jpg\n",
      "/kaggle/input/pcos-picture/PCOSGen-train (1)/PCOSGen-train/images/23image0038.jpg\n",
      "/kaggle/input/pcos-picture/PCOSGen-train (1)/PCOSGen-train/images/image3286.jpg\n",
      "/kaggle/input/pcos-picture/PCOSGen-train (1)/PCOSGen-train/images/image1970.jpg\n",
      "/kaggle/input/pcos-picture/PCOSGen-train (1)/PCOSGen-train/images/image2588.jpg\n",
      "/kaggle/input/pcos-picture/PCOSGen-train (1)/PCOSGen-train/images/image0486.jpg\n",
      "/kaggle/input/pcos-picture/PCOSGen-train (1)/PCOSGen-train/images/237image0.jpg\n",
      "/kaggle/input/pcos-picture/PCOSGen-train (1)/PCOSGen-train/images/image2846.jpg\n",
      "/kaggle/input/pcos-picture/PCOSGen-train (1)/PCOSGen-train/images/image2444.jpg\n",
      "/kaggle/input/pcos-picture/PCOSGen-train (1)/PCOSGen-train/images/image3589.jpg\n",
      "/kaggle/input/pcos-picture/PCOSGen-train (1)/PCOSGen-train/images/image0110.jpg\n",
      "/kaggle/input/pcos-picture/PCOSGen-train (1)/PCOSGen-train/images/image1139.jpg\n",
      "/kaggle/input/pcos-picture/PCOSGen-train (1)/PCOSGen-train/images/image3008.jpg\n",
      "/kaggle/input/pcos-picture/PCOSGen-train (1)/PCOSGen-train/images/image1226.jpg\n",
      "/kaggle/input/pcos-picture/PCOSGen-train (1)/PCOSGen-train/images/image2370.jpg\n",
      "/kaggle/input/pcos-picture/PCOSGen-train (1)/PCOSGen-train/images/image0921.jpg\n",
      "/kaggle/input/pcos-picture/PCOSGen-train (1)/PCOSGen-train/images/image0255.jpg\n",
      "/kaggle/input/pcos-picture/PCOSGen-train (1)/PCOSGen-train/images/image3827.jpg\n",
      "/kaggle/input/pcos-picture/PCOSGen-train (1)/PCOSGen-train/images/image0607.jpg\n",
      "/kaggle/input/pcos-picture/PCOSGen-train (1)/PCOSGen-train/images/image0573.jpg\n",
      "/kaggle/input/pcos-picture/PCOSGen-train (1)/PCOSGen-train/images/100image2.jpg\n",
      "/kaggle/input/pcos-picture/PCOSGen-train (1)/PCOSGen-train/images/image1840.jpg\n",
      "/kaggle/input/pcos-picture/PCOSGen-train (1)/PCOSGen-train/images/image1880.jpg\n",
      "/kaggle/input/pcos-picture/PCOSGen-train (1)/PCOSGen-train/images/image0954.jpg\n",
      "/kaggle/input/pcos-picture/PCOSGen-train (1)/PCOSGen-train/images/image2941.jpg\n",
      "/kaggle/input/pcos-picture/PCOSGen-train (1)/PCOSGen-train/images/image3545.jpg\n",
      "/kaggle/input/pcos-picture/PCOSGen-train (1)/PCOSGen-train/images/image2432.jpg\n",
      "/kaggle/input/pcos-picture/PCOSGen-train (1)/PCOSGen-train/images/image0774.jpg\n",
      "/kaggle/input/pcos-picture/PCOSGen-train (1)/PCOSGen-train/images/image3465.jpg\n",
      "/kaggle/input/pcos-picture/PCOSGen-train (1)/PCOSGen-train/images/image0051.jpg\n",
      "/kaggle/input/pcos-picture/PCOSGen-train (1)/PCOSGen-train/images/image3740.jpg\n",
      "/kaggle/input/pcos-picture/PCOSGen-train (1)/PCOSGen-train/images/image0580.jpg\n",
      "/kaggle/input/pcos-picture/PCOSGen-train (1)/PCOSGen-train/images/270image12.jpg\n",
      "/kaggle/input/pcos-picture/PCOSGen-train (1)/PCOSGen-train/images/image3839.jpg\n",
      "/kaggle/input/pcos-picture/PCOSGen-train (1)/PCOSGen-train/images/24image35.jpg\n",
      "/kaggle/input/pcos-picture/PCOSGen-train (1)/PCOSGen-train/images/image3537.jpg\n",
      "/kaggle/input/pcos-picture/PCOSGen-train (1)/PCOSGen-train/images/image0378.jpg\n",
      "/kaggle/input/pcos-picture/PCOSGen-train (1)/PCOSGen-train/images/image1864.jpg\n",
      "/kaggle/input/pcos-picture/PCOSGen-train (1)/PCOSGen-train/images/image0224.jpg\n",
      "/kaggle/input/pcos-picture/PCOSGen-train (1)/PCOSGen-train/images/100image65.jpg\n",
      "/kaggle/input/pcos-picture/PCOSGen-train (1)/PCOSGen-train/images/image2958.jpg\n",
      "/kaggle/input/pcos-picture/PCOSGen-train (1)/PCOSGen-train/images/image1473.jpg\n",
      "/kaggle/input/pcos-picture/PCOSGen-train (1)/PCOSGen-train/images/image0213.jpg\n",
      "/kaggle/input/pcos-picture/PCOSGen-train (1)/PCOSGen-train/images/image3212.jpg\n",
      "/kaggle/input/pcos-picture/PCOSGen-train (1)/PCOSGen-train/images/image2401.jpg\n",
      "/kaggle/input/pcos-picture/PCOSGen-train (1)/PCOSGen-train/images/image0906.jpg\n",
      "/kaggle/input/pcos-picture/PCOSGen-train (1)/PCOSGen-train/images/99image84.jpg\n",
      "/kaggle/input/pcos-picture/PCOSGen-train (1)/PCOSGen-train/images/image3149.jpg\n",
      "/kaggle/input/pcos-picture/PCOSGen-train (1)/PCOSGen-train/images/image1152.jpg\n",
      "/kaggle/input/pcos-picture/PCOSGen-train (1)/PCOSGen-train/images/2image43.jpg\n",
      "/kaggle/input/pcos-picture/PCOSGen-train (1)/PCOSGen-train/images/image0335.jpg\n",
      "/kaggle/input/pcos-picture/PCOSGen-train (1)/PCOSGen-train/images/image1141.jpg\n",
      "/kaggle/input/pcos-picture/PCOSGen-train (1)/PCOSGen-train/images/84image0085.jpg\n",
      "/kaggle/input/pcos-picture/PCOSGen-train (1)/PCOSGen-train/images/171image29.jpg\n",
      "/kaggle/input/pcos-picture/PCOSGen-train (1)/PCOSGen-train/images/276image8.jpg\n",
      "/kaggle/input/pcos-picture/PCOSGen-train (1)/PCOSGen-train/images/image1823.jpg\n",
      "/kaggle/input/pcos-picture/PCOSGen-train (1)/PCOSGen-train/images/image3605.jpg\n",
      "/kaggle/input/pcos-picture/PCOSGen-train (1)/PCOSGen-train/images/image0831.jpg\n",
      "/kaggle/input/pcos-picture/PCOSGen-train (1)/PCOSGen-train/images/image1174.jpg\n",
      "/kaggle/input/pcos-picture/PCOSGen-train (1)/PCOSGen-train/images/image2698.jpg\n",
      "/kaggle/input/pcos-picture/PCOSGen-train (1)/PCOSGen-train/images/196image77.jpg\n",
      "/kaggle/input/pcos-picture/PCOSGen-train (1)/PCOSGen-train/images/16image53.jpg\n",
      "/kaggle/input/pcos-picture/PCOSGen-train (1)/PCOSGen-train/images/image3119.jpg\n",
      "/kaggle/input/pcos-picture/PCOSGen-train (1)/PCOSGen-train/images/image3214.jpg\n",
      "/kaggle/input/pcos-picture/PCOSGen-train (1)/PCOSGen-train/images/image3164.jpg\n",
      "/kaggle/input/pcos-picture/PCOSGen-train (1)/PCOSGen-train/images/image1076.jpg\n",
      "/kaggle/input/pcos-picture/PCOSGen-train (1)/PCOSGen-train/images/578image26.jpg\n",
      "/kaggle/input/pcos-picture/PCOSGen-train (1)/PCOSGen-train/images/image0633.jpg\n",
      "/kaggle/input/pcos-picture/PCOSGen-train (1)/PCOSGen-train/images/image0516.jpg\n",
      "/kaggle/input/pcos-picture/PCOSGen-train (1)/PCOSGen-train/images/image3607.jpg\n",
      "/kaggle/input/pcos-picture/PCOSGen-train (1)/PCOSGen-train/images/149image28.jpg\n",
      "/kaggle/input/pcos-picture/PCOSGen-train (1)/PCOSGen-train/images/image1685.jpg\n",
      "/kaggle/input/pcos-picture/PCOSGen-train (1)/PCOSGen-train/images/image0397.jpg\n",
      "/kaggle/input/pcos-picture/PCOSGen-train (1)/PCOSGen-train/images/image2462.jpg\n",
      "/kaggle/input/pcos-picture/PCOSGen-train (1)/PCOSGen-train/images/image0815.jpg\n",
      "/kaggle/input/pcos-picture/PCOSGen-train (1)/PCOSGen-train/images/image2833.jpg\n",
      "/kaggle/input/pcos-picture/PCOSGen-train (1)/PCOSGen-train/images/image2094.jpg\n",
      "/kaggle/input/pcos-picture/PCOSGen-train (1)/PCOSGen-train/images/image2911.jpg\n",
      "/kaggle/input/pcos-picture/PCOSGen-train (1)/PCOSGen-train/images/image1691.jpg\n",
      "/kaggle/input/pcos-picture/PCOSGen-train (1)/PCOSGen-train/images/image1096.jpg\n",
      "/kaggle/input/pcos-picture/PCOSGen-train (1)/PCOSGen-train/images/image3577.jpg\n",
      "/kaggle/input/pcos-picture/PCOSGen-train (1)/PCOSGen-train/images/143image0124.jpg\n",
      "/kaggle/input/pcos-picture/PCOSGen-train (1)/PCOSGen-train/images/304image9.jpg\n",
      "/kaggle/input/pcos-picture/PCOSGen-train (1)/PCOSGen-train/images/image0073.jpg\n",
      "/kaggle/input/pcos-picture/PCOSGen-train (1)/PCOSGen-train/images/image2563.jpg\n",
      "/kaggle/input/pcos-picture/PCOSGen-train (1)/PCOSGen-train/images/image0271.jpg\n",
      "/kaggle/input/pcos-picture/PCOSGen-train (1)/PCOSGen-train/images/89image5.jpg\n",
      "/kaggle/input/pcos-picture/PCOSGen-train (1)/PCOSGen-train/images/image2936.jpg\n",
      "/kaggle/input/pcos-picture/PCOSGen-train (1)/PCOSGen-train/images/normal_14.jpg\n",
      "/kaggle/input/pcos-picture/PCOSGen-train (1)/PCOSGen-train/images/image3170.jpg\n",
      "/kaggle/input/pcos-picture/PCOSGen-train (1)/PCOSGen-train/images/image0791.jpg\n",
      "/kaggle/input/pcos-picture/PCOSGen-train (1)/PCOSGen-train/images/image1969.jpg\n",
      "/kaggle/input/pcos-picture/PCOSGen-train (1)/PCOSGen-train/images/image3777.jpg\n",
      "/kaggle/input/pcos-picture/PCOSGen-train (1)/PCOSGen-train/images/183image40.jpg\n",
      "/kaggle/input/pcos-picture/PCOSGen-train (1)/PCOSGen-train/images/image0447.jpg\n",
      "/kaggle/input/pcos-picture/PCOSGen-train (1)/PCOSGen-train/images/59image21.jpg\n",
      "/kaggle/input/pcos-picture/PCOSGen-train (1)/PCOSGen-train/images/image0495.jpg\n",
      "/kaggle/input/pcos-picture/PCOSGen-train (1)/PCOSGen-train/images/image0593.jpg\n",
      "/kaggle/input/pcos-picture/PCOSGen-train (1)/PCOSGen-train/images/image0238.jpg\n",
      "/kaggle/input/pcos-picture/PCOSGen-train (1)/PCOSGen-train/images/image0403.jpg\n",
      "/kaggle/input/pcos-picture/PCOSGen-train (1)/PCOSGen-train/images/image1876.jpg\n",
      "/kaggle/input/pcos-picture/PCOSGen-train (1)/PCOSGen-train/images/image3744.jpg\n",
      "/kaggle/input/pcos-picture/PCOSGen-train (1)/PCOSGen-train/images/image3802.jpg\n",
      "/kaggle/input/pcos-picture/PCOSGen-train (1)/PCOSGen-train/images/image2759.jpg\n",
      "/kaggle/input/pcos-picture/PCOSGen-train (1)/PCOSGen-train/images/image3413.jpg\n",
      "/kaggle/input/pcos-picture/PCOSGen-train (1)/PCOSGen-train/images/image2471.jpg\n",
      "/kaggle/input/pcos-picture/PCOSGen-train (1)/PCOSGen-train/images/image2723.jpg\n",
      "/kaggle/input/pcos-picture/PCOSGen-train (1)/PCOSGen-train/images/image3159.jpg\n",
      "/kaggle/input/pcos-picture/PCOSGen-train (1)/PCOSGen-train/images/image0910.jpg\n",
      "/kaggle/input/pcos-picture/PCOSGen-train (1)/PCOSGen-train/images/image0904.jpg\n",
      "/kaggle/input/pcos-picture/PCOSGen-train (1)/PCOSGen-train/images/image0381.jpg\n",
      "/kaggle/input/pcos-picture/PCOSGen-train (1)/PCOSGen-train/images/image1058.jpg\n",
      "/kaggle/input/pcos-picture/PCOSGen-train (1)/PCOSGen-train/images/image3108.jpg\n",
      "/kaggle/input/pcos-picture/PCOSGen-train (1)/PCOSGen-train/images/image0708.jpg\n",
      "/kaggle/input/pcos-picture/PCOSGen-train (1)/PCOSGen-train/images/image0610.jpg\n",
      "/kaggle/input/pcos-picture/PCOSGen-train (1)/PCOSGen-train/images/99image34.jpg\n",
      "/kaggle/input/pcos-picture/PCOSGen-train (1)/PCOSGen-train/images/image2238.jpg\n",
      "/kaggle/input/pcos-picture/PCOSGen-train (1)/PCOSGen-train/images/image3487.jpg\n",
      "/kaggle/input/pcos-picture/PCOSGen-train (1)/PCOSGen-train/images/image0875.jpg\n",
      "/kaggle/input/pcos-picture/PCOSGen-train (1)/PCOSGen-train/images/image2933.jpg\n",
      "/kaggle/input/pcos-picture/PCOSGen-train (1)/PCOSGen-train/images/image2386.jpg\n",
      "/kaggle/input/pcos-picture/PCOSGen-train (1)/PCOSGen-train/images/image3198.jpg\n",
      "/kaggle/input/pcos-picture/PCOSGen-train (1)/PCOSGen-train/images/image0930.jpg\n",
      "/kaggle/input/pcos-picture/PCOSGen-train (1)/PCOSGen-train/images/image1380.jpg\n",
      "/kaggle/input/pcos-picture/PCOSGen-train (1)/PCOSGen-train/images/image3044.jpg\n",
      "/kaggle/input/pcos-picture/PCOSGen-train (1)/PCOSGen-train/images/image0757.jpg\n",
      "/kaggle/input/pcos-picture/PCOSGen-train (1)/PCOSGen-train/images/19image0036.jpg\n",
      "/kaggle/input/pcos-picture/PCOSGen-train (1)/PCOSGen-train/images/image2813.jpg\n",
      "/kaggle/input/pcos-picture/PCOSGen-train (1)/PCOSGen-train/images/image0215.jpg\n",
      "/kaggle/input/pcos-picture/PCOSGen-train (1)/PCOSGen-train/images/normal_29.jpg\n",
      "/kaggle/input/pcos-picture/PCOSGen-train (1)/PCOSGen-train/images/image2489.jpg\n",
      "/kaggle/input/pcos-picture/PCOSGen-train (1)/PCOSGen-train/images/image2508.jpg\n",
      "/kaggle/input/pcos-picture/PCOSGen-train (1)/PCOSGen-train/images/image3197.jpg\n",
      "/kaggle/input/pcos-picture/PCOSGen-train (1)/PCOSGen-train/images/image3551.jpg\n",
      "/kaggle/input/pcos-picture/PCOSGen-train (1)/PCOSGen-train/images/image1382.jpg\n",
      "/kaggle/input/pcos-picture/PCOSGen-train (1)/PCOSGen-train/images/95image47.jpg\n",
      "/kaggle/input/pcos-picture/PCOSGen-train (1)/PCOSGen-train/images/image1146.jpg\n",
      "/kaggle/input/pcos-picture/PCOSGen-train (1)/PCOSGen-train/images/image3560.jpg\n",
      "/kaggle/input/pcos-picture/PCOSGen-train (1)/PCOSGen-train/images/image3307.jpg\n",
      "/kaggle/input/pcos-picture/PCOSGen-train (1)/PCOSGen-train/images/image3562.jpg\n",
      "/kaggle/input/pcos-picture/PCOSGen-train (1)/PCOSGen-train/images/image3602.jpg\n",
      "/kaggle/input/pcos-picture/PCOSGen-train (1)/PCOSGen-train/images/image1123.jpg\n",
      "/kaggle/input/pcos-picture/PCOSGen-train (1)/PCOSGen-train/images/image0698.jpg\n",
      "/kaggle/input/pcos-picture/PCOSGen-train (1)/PCOSGen-train/images/image0307.jpg\n",
      "/kaggle/input/pcos-picture/PCOSGen-train (1)/PCOSGen-train/images/image1061.jpg\n",
      "/kaggle/input/pcos-picture/PCOSGen-train (1)/PCOSGen-train/images/image0298.jpg\n",
      "/kaggle/input/pcos-picture/PCOSGen-train (1)/PCOSGen-train/images/24image4.jpg\n",
      "/kaggle/input/pcos-picture/PCOSGen-train (1)/PCOSGen-train/images/image1976.jpg\n",
      "/kaggle/input/pcos-picture/PCOSGen-train (1)/PCOSGen-train/images/image2418.jpg\n",
      "/kaggle/input/pcos-picture/PCOSGen-train (1)/PCOSGen-train/images/image0383.jpg\n",
      "/kaggle/input/pcos-picture/PCOSGen-train (1)/PCOSGen-train/images/image0508.jpg\n",
      "/kaggle/input/pcos-picture/PCOSGen-train (1)/PCOSGen-train/images/image3404.jpg\n",
      "/kaggle/input/pcos-picture/PCOSGen-train (1)/PCOSGen-train/images/14image5.jpg\n",
      "/kaggle/input/pcos-picture/PCOSGen-train (1)/PCOSGen-train/images/image0644.jpg\n",
      "/kaggle/input/pcos-picture/PCOSGen-train (1)/PCOSGen-train/images/115image72.jpg\n",
      "/kaggle/input/pcos-picture/PCOSGen-train (1)/PCOSGen-train/images/image3721.jpg\n",
      "/kaggle/input/pcos-picture/PCOSGen-train (1)/PCOSGen-train/images/image0845.jpg\n",
      "/kaggle/input/pcos-picture/PCOSGen-train (1)/PCOSGen-train/images/image2573.jpg\n",
      "/kaggle/input/pcos-picture/PCOSGen-train (1)/PCOSGen-train/images/image1866.jpg\n",
      "/kaggle/input/pcos-picture/PCOSGen-train (1)/PCOSGen-train/images/image2470.jpg\n",
      "/kaggle/input/pcos-picture/PCOSGen-train (1)/PCOSGen-train/images/image2912.jpg\n",
      "/kaggle/input/pcos-picture/PCOSGen-train (1)/PCOSGen-train/images/image2845.jpg\n",
      "/kaggle/input/pcos-picture/PCOSGen-train (1)/PCOSGen-train/images/image3384.jpg\n",
      "/kaggle/input/pcos-picture/PCOSGen-train (1)/PCOSGen-train/images/92image29.jpg\n",
      "/kaggle/input/pcos-picture/PCOSGen-train (1)/PCOSGen-train/images/image0506.jpg\n",
      "/kaggle/input/pcos-picture/PCOSGen-train (1)/PCOSGen-train/images/image3681.jpg\n",
      "/kaggle/input/pcos-picture/PCOSGen-train (1)/PCOSGen-train/images/image1130.jpg\n",
      "/kaggle/input/pcos-picture/PCOSGen-train (1)/PCOSGen-train/images/281image17.jpg\n",
      "/kaggle/input/pcos-picture/PCOSGen-train (1)/PCOSGen-train/images/image0055.jpg\n",
      "/kaggle/input/pcos-picture/PCOSGen-train (1)/PCOSGen-train/images/image2856.jpg\n",
      "/kaggle/input/pcos-picture/PCOSGen-train (1)/PCOSGen-train/images/pco_10.jpg\n",
      "/kaggle/input/pcos-picture/PCOSGen-train (1)/PCOSGen-train/images/image0459.jpg\n",
      "/kaggle/input/pcos-picture/PCOSGen-train (1)/PCOSGen-train/images/image0107.jpg\n",
      "/kaggle/input/pcos-picture/PCOSGen-train (1)/PCOSGen-train/images/pco_11.jpg\n"
     ]
    }
   ],
   "source": [
    "# This Python 3 environment comes with many helpful analytics libraries installed\n",
    "# It is defined by the kaggle/python Docker image: https://github.com/kaggle/docker-python\n",
    "# For example, here's several helpful packages to load\n",
    "\n",
    "import numpy as np # linear algebra\n",
    "import pandas as pd # data processing, CSV file I/O (e.g. pd.read_csv)\n",
    "\n",
    "# Input data files are available in the read-only \"../input/\" directory\n",
    "# For example, running this (by clicking run or pressing Shift+Enter) will list all files under the input directory\n",
    "\n",
    "import os\n",
    "for dirname, _, filenames in os.walk('/kaggle/input'):\n",
    "    for filename in filenames:\n",
    "        print(os.path.join(dirname, filename))\n",
    "\n",
    "# You can write up to 20GB to the current directory (/kaggle/working/) that gets preserved as output when you create a version using \"Save & Run All\" \n",
    "# You can also write temporary files to /kaggle/temp/, but they won't be saved outside of the current session"
   ]
  },
  {
   "cell_type": "code",
   "execution_count": 2,
   "id": "512e1043",
   "metadata": {
    "execution": {
     "iopub.execute_input": "2025-08-23T21:57:02.945575Z",
     "iopub.status.busy": "2025-08-23T21:57:02.944878Z",
     "iopub.status.idle": "2025-08-23T21:57:02.948248Z",
     "shell.execute_reply": "2025-08-23T21:57:02.947697Z"
    },
    "papermill": {
     "duration": 0.014781,
     "end_time": "2025-08-23T21:57:02.949363",
     "exception": false,
     "start_time": "2025-08-23T21:57:02.934582",
     "status": "completed"
    },
    "tags": []
   },
   "outputs": [],
   "source": [
    "# # PCOSGen Kaggle Pipeline — Definitive Publication Version (Aug 2025)\n",
    "# **Topic:** A Comparative Analysis of ML Models for PCOS Detection: Clinical Data vs. Ultrasound Imagery  \n",
    "# **Hero Variant:** ConvNeXt‑T + Focal Loss (α=0.25, γ=2.0) + OOF calibration + TTA\n",
    "# \n",
    "# **New Add‑ons (this notebook):**\n",
    "# 1) Inference latency benchmark (per‑image, per‑batch; with & without TTA)  \n",
    "# 2) Clean cell‑by‑cell structure for publication  \n",
    "# 3) Grad‑CAM overlays for PCOS ultrasound images (conv layer auto‑detection)  \n",
    "# 4) Pre‑ vs Post‑augmentation visualization (train & valid pipelines)  \n",
    "# 5) Class imbalance plot (+ sampling weights)  \n",
    "#\n",
    "# Reproducibility preserved: training unchanged; new visuals/timing run under `eval()` and `no_grad()`.\n"
   ]
  },
  {
   "cell_type": "code",
   "execution_count": 3,
   "id": "362582be",
   "metadata": {
    "execution": {
     "iopub.execute_input": "2025-08-23T21:57:02.968551Z",
     "iopub.status.busy": "2025-08-23T21:57:02.968342Z",
     "iopub.status.idle": "2025-08-23T21:57:09.147603Z",
     "shell.execute_reply": "2025-08-23T21:57:09.146740Z"
    },
    "papermill": {
     "duration": 6.190106,
     "end_time": "2025-08-23T21:57:09.148866",
     "exception": false,
     "start_time": "2025-08-23T21:57:02.958760",
     "status": "completed"
    },
    "tags": []
   },
   "outputs": [
    {
     "name": "stdout",
     "output_type": "stream",
     "text": [
      "\u001b[2K   \u001b[90m━━━━━━━━━━━━━━━━━━━━━━━━━━━━━━━━━━━━━━━━\u001b[0m \u001b[32m214.6/214.6 kB\u001b[0m \u001b[31m8.4 MB/s\u001b[0m eta \u001b[36m0:00:00\u001b[0m\r\n",
      "\u001b[?25halbucore: 0.0.20 albumentations: 1.4.16\n"
     ]
    },
    {
     "name": "stderr",
     "output_type": "stream",
     "text": [
      "/usr/local/lib/python3.11/dist-packages/albumentations/__init__.py:13: UserWarning: A new version of Albumentations is available: 2.0.8 (you have 1.4.16). Upgrade using: pip install -U albumentations. To disable automatic update checks, set the environment variable NO_ALBUMENTATIONS_UPDATE to 1.\n",
      "  check_for_updates()\n"
     ]
    }
   ],
   "source": [
    "# ## 1) Environment & Version Locks\n",
    "\n",
    "!pip -q uninstall -y albumentations albucore\n",
    "!pip -q install --no-deps albucore==0.0.20 albumentations==1.4.16\n",
    "\n",
    "import albucore, albumentations\n",
    "print(\"albucore:\", albucore.__version__, \"albumentations:\", albumentations.__version__)"
   ]
  },
  {
   "cell_type": "code",
   "execution_count": 4,
   "id": "2c5babd0",
   "metadata": {
    "execution": {
     "iopub.execute_input": "2025-08-23T21:57:09.168756Z",
     "iopub.status.busy": "2025-08-23T21:57:09.168437Z",
     "iopub.status.idle": "2025-08-23T21:57:21.180511Z",
     "shell.execute_reply": "2025-08-23T21:57:21.179899Z"
    },
    "papermill": {
     "duration": 12.023243,
     "end_time": "2025-08-23T21:57:21.181912",
     "exception": false,
     "start_time": "2025-08-23T21:57:09.158669",
     "status": "completed"
    },
    "tags": []
   },
   "outputs": [],
   "source": [
    "\n",
    "#cell 2\n",
    "import os, gc, math, time, random, shutil, glob, json, re, hashlib, io, warnings\n",
    "from dataclasses import dataclass\n",
    "from pathlib import Path\n",
    "\n",
    "import cv2\n",
    "import numpy as np\n",
    "import pandas as pd\n",
    "import matplotlib.pyplot as plt\n",
    "from PIL import Image\n",
    "\n",
    "from sklearn.metrics import (\n",
    "    roc_auc_score, f1_score, accuracy_score, confusion_matrix, roc_curve, auc,\n",
    "    precision_recall_curve, ConfusionMatrixDisplay\n",
    ")\n",
    "from sklearn.model_selection import StratifiedKFold\n",
    "\n",
    "import torch\n",
    "import torch.nn as nn\n",
    "import torch.nn.functional as F\n",
    "from torch.utils.data import Dataset, DataLoader\n",
    "from torch.utils.data.sampler import WeightedRandomSampler\n",
    "import timm\n",
    "import albumentations as A\n",
    "from albumentations.pytorch import ToTensorV2\n",
    "from rich import print as rprint\n",
    "\n",
    "# NEW (for optional SWA)\n",
    "from torch.optim.swa_utils import AveragedModel, update_bn\n",
    "\n",
    "warnings.filterwarnings(\"ignore\")"
   ]
  },
  {
   "cell_type": "code",
   "execution_count": 5,
   "id": "883817e7",
   "metadata": {
    "execution": {
     "iopub.execute_input": "2025-08-23T21:57:21.202497Z",
     "iopub.status.busy": "2025-08-23T21:57:21.201964Z",
     "iopub.status.idle": "2025-08-23T21:57:21.211491Z",
     "shell.execute_reply": "2025-08-23T21:57:21.210497Z"
    },
    "papermill": {
     "duration": 0.020964,
     "end_time": "2025-08-23T21:57:21.212830",
     "exception": false,
     "start_time": "2025-08-23T21:57:21.191866",
     "status": "completed"
    },
    "tags": []
   },
   "outputs": [],
   "source": [
    "# ## 3) Config (CFG) — Final High-Performance Setup\n",
    "from dataclasses import dataclass\n",
    "from pathlib import Path\n",
    "import os\n",
    "\n",
    "@dataclass\n",
    "class CFG:\n",
    "    # --- Core Settings ---\n",
    "    seed: int = 42\n",
    "    num_workers: int = 4\n",
    "    folds: int = 5\n",
    "\n",
    "    # --- Model & Training Strategy ---\n",
    "    backbone: str = \"convnext_small.fb_in22k\"\n",
    "    img_size: int = 512\n",
    "    batch_size: int = 16  # Reduced for larger model/image size\n",
    "    epochs: int = 18\n",
    "    lr: float = 1.5e-4\n",
    "    weight_decay: float = 1e-5\n",
    "    warmup_epochs: int = 1\n",
    "    patience: int = 4\n",
    "    \n",
    "    # --- System & Performance ---\n",
    "    use_amp: bool = True\n",
    "    strict_determinism: bool = False\n",
    "\n",
    "    # --- Loss Function ---\n",
    "    use_focal: bool = True\n",
    "    focal_gamma: float = 2.0\n",
    "    focal_alpha: float = 0.40\n",
    "    \n",
    "    # --- Advanced Techniques ---\n",
    "    use_hnm: bool = True           # Hard-Negative Mining\n",
    "    hnm_neg_keep: float = 0.50     # Keep top 50% hardest negatives\n",
    "    use_mixup: bool = True         # MixUp Regularization\n",
    "    mixup_prob: float = 0.40\n",
    "    mixup_alpha: float = 0.20\n",
    "    ema_decay: float = 0.999\n",
    "\n",
    "    # --- Test-Time Augmentation (TTA) ---\n",
    "    tta_scales: tuple = (448, 512, 576)\n",
    "    tta_weights: tuple = (0.25, 0.50, 0.25) # Give center crop more weight\n",
    "\n",
    "    # --- Paths ---\n",
    "    BASE: str = \"/kaggle/input/pcos-picture\"\n",
    "    TRAIN_DIR: str = \"\"\n",
    "    TEST_DIR: str = \"\"\n",
    "    LABELS_FILE: str = \"\"\n",
    "    OUT_DIR: str = \"/kaggle/working/pcosgen_out\"\n",
    "\n",
    "# --- Path Construction & Directory Creation ---\n",
    "base_path = Path(CFG.BASE)\n",
    "train_path = base_path / \"PCOSGen-train (1)\" / \"PCOSGen-train\"\n",
    "test_path = base_path / \"PCOSGen-test\"\n",
    "CFG.TRAIN_DIR   = str(train_path / \"images\")\n",
    "CFG.TEST_DIR    = str(test_path / \"images\")\n",
    "CFG.LABELS_FILE = str(train_path / \"class_label.xlsx\")\n",
    "os.makedirs(CFG.OUT_DIR, exist_ok=True)"
   ]
  },
  {
   "cell_type": "code",
   "execution_count": 6,
   "id": "3ae989e1",
   "metadata": {
    "execution": {
     "iopub.execute_input": "2025-08-23T21:57:21.232557Z",
     "iopub.status.busy": "2025-08-23T21:57:21.232036Z",
     "iopub.status.idle": "2025-08-23T21:57:21.493680Z",
     "shell.execute_reply": "2025-08-23T21:57:21.492898Z"
    },
    "papermill": {
     "duration": 0.272837,
     "end_time": "2025-08-23T21:57:21.494978",
     "exception": false,
     "start_time": "2025-08-23T21:57:21.222141",
     "status": "completed"
    },
    "tags": []
   },
   "outputs": [
    {
     "data": {
      "text/html": [
       "<pre style=\"white-space:pre;overflow-x:auto;line-height:normal;font-family:Menlo,'DejaVu Sans Mono',consolas,'Courier New',monospace\"><span style=\"color: #008000; text-decoration-color: #008000; font-weight: bold\">Device:</span> cuda\n",
       "</pre>\n"
      ],
      "text/plain": [
       "\u001b[1;32mDevice:\u001b[0m cuda\n"
      ]
     },
     "metadata": {},
     "output_type": "display_data"
    },
    {
     "data": {
      "text/html": [
       "<pre style=\"white-space:pre;overflow-x:auto;line-height:normal;font-family:Menlo,'DejaVu Sans Mono',consolas,'Courier New',monospace\"><span style=\"color: #008000; text-decoration-color: #008000; font-weight: bold\">GPUs:</span> <span style=\"color: #008080; text-decoration-color: #008080; font-weight: bold\">2</span>  |  DataParallel: <span style=\"color: #00ff00; text-decoration-color: #00ff00; font-style: italic\">True</span>\n",
       "</pre>\n"
      ],
      "text/plain": [
       "\u001b[1;32mGPUs:\u001b[0m \u001b[1;36m2\u001b[0m  |  DataParallel: \u001b[3;92mTrue\u001b[0m\n"
      ]
     },
     "metadata": {},
     "output_type": "display_data"
    },
    {
     "data": {
      "text/html": [
       "<pre style=\"white-space:pre;overflow-x:auto;line-height:normal;font-family:Menlo,'DejaVu Sans Mono',consolas,'Courier New',monospace\"><span style=\"color: #008080; text-decoration-color: #008080; font-weight: bold\">Strict determinism is OFF:</span> using AMP/parallelism for speed.\n",
       "</pre>\n"
      ],
      "text/plain": [
       "\u001b[1;36mStrict determinism is OFF:\u001b[0m using AMP/parallelism for speed.\n"
      ]
     },
     "metadata": {},
     "output_type": "display_data"
    }
   ],
   "source": [
    "# ## 4) Determinism & Device Info (robust to fresh sessions)\n",
    "\n",
    "import os, random, numpy as np, torch\n",
    "from rich import print as rprint\n",
    "\n",
    "# ---- Fallbacks if CFG came from an older cell/session ----\n",
    "if not hasattr(CFG, \"strict_determinism\"): CFG.strict_determinism = False\n",
    "if not hasattr(CFG, \"use_amp\"):            CFG.use_amp = True\n",
    "if not hasattr(CFG, \"num_workers\"):        CFG.num_workers = 4\n",
    "\n",
    "def set_seed(seed=42):\n",
    "    random.seed(seed)\n",
    "    np.random.seed(seed)\n",
    "    torch.manual_seed(seed)\n",
    "    torch.cuda.manual_seed_all(seed)\n",
    "    os.environ[\"PYTHONHASHSEED\"] = str(seed)\n",
    "\n",
    "def get_device():\n",
    "    return torch.device(\"cuda\" if torch.cuda.is_available() else \"cpu\")\n",
    "\n",
    "set_seed(CFG.seed)\n",
    "\n",
    "device = get_device()\n",
    "rprint(f\"[bold green]Device:[/bold green] {device}\")\n",
    "\n",
    "n_gpus = torch.cuda.device_count()\n",
    "USE_DP = n_gpus > 1\n",
    "rprint(f\"[bold green]GPUs:[/bold green] {n_gpus}  |  DataParallel: {USE_DP}\")\n",
    "\n",
    "# cuDNN defaults (may be tightened in strict mode)\n",
    "torch.backends.cudnn.deterministic = True\n",
    "torch.backends.cudnn.benchmark = False\n",
    "\n",
    "def _seed_worker(worker_id):\n",
    "    worker_seed = CFG.seed + worker_id\n",
    "    np.random.seed(worker_seed)\n",
    "    random.seed(worker_seed)\n",
    "\n",
    "_gen = torch.Generator()\n",
    "_gen.manual_seed(CFG.seed)\n",
    "\n",
    "# ---------- Strict determinism toggle ----------\n",
    "if CFG.strict_determinism:\n",
    "    # Enforce deterministic kernels & math\n",
    "    torch.use_deterministic_algorithms(True)\n",
    "    os.environ[\"CUBLAS_WORKSPACE_CONFIG\"] = \":4096:8\"\n",
    "    torch.backends.cudnn.deterministic = True\n",
    "    torch.backends.cudnn.benchmark = False\n",
    "\n",
    "    # Disable TF32 / AMP variability\n",
    "    if hasattr(torch.backends, \"cuda\") and hasattr(torch.backends.cuda, \"matmul\"):\n",
    "        torch.backends.cuda.matmul.allow_tf32 = False\n",
    "    if hasattr(torch.backends, \"cudnn\"):\n",
    "        torch.backends.cudnn.allow_tf32 = False\n",
    "    CFG.use_amp = False  # AMP off for bit-for-bit stability\n",
    "\n",
    "    # Remove nondeterminism from parallelism\n",
    "    USE_DP = False           # force single-GPU path\n",
    "    CFG.num_workers = 0      # single-threaded data loading\n",
    "\n",
    "    rprint(\"[bold yellow]Strict determinism is ON:[/bold yellow] AMP off, TF32 off, single GPU path, num_workers=0.\")\n",
    "else:\n",
    "    rprint(\"[bold cyan]Strict determinism is OFF:[/bold cyan] using AMP/parallelism for speed.\")\n"
   ]
  },
  {
   "cell_type": "code",
   "execution_count": 7,
   "id": "e0da85fd",
   "metadata": {
    "execution": {
     "iopub.execute_input": "2025-08-23T21:57:21.520794Z",
     "iopub.status.busy": "2025-08-23T21:57:21.520555Z",
     "iopub.status.idle": "2025-08-23T21:57:22.326192Z",
     "shell.execute_reply": "2025-08-23T21:57:22.325531Z"
    },
    "papermill": {
     "duration": 0.819818,
     "end_time": "2025-08-23T21:57:22.327264",
     "exception": false,
     "start_time": "2025-08-23T21:57:21.507446",
     "status": "completed"
    },
    "tags": []
   },
   "outputs": [
    {
     "data": {
      "text/html": [
       "<pre style=\"white-space:pre;overflow-x:auto;line-height:normal;font-family:Menlo,'DejaVu Sans Mono',consolas,'Courier New',monospace\"><span style=\"font-weight: bold\">Labeled train images used:</span> <span style=\"color: #008080; text-decoration-color: #008080; font-weight: bold\">3200</span> <span style=\"color: #800080; text-decoration-color: #800080\">/</span> <span style=\"color: #008080; text-decoration-color: #008080; font-weight: bold\">3200</span>\n",
       "</pre>\n"
      ],
      "text/plain": [
       "\u001b[1mLabeled train images used:\u001b[0m \u001b[1;36m3200\u001b[0m \u001b[35m/\u001b[0m \u001b[1;36m3200\u001b[0m\n"
      ]
     },
     "metadata": {},
     "output_type": "display_data"
    },
    {
     "data": {
      "text/html": [
       "<pre style=\"white-space:pre;overflow-x:auto;line-height:normal;font-family:Menlo,'DejaVu Sans Mono',consolas,'Courier New',monospace\">y\n",
       "<span style=\"color: #008080; text-decoration-color: #008080; font-weight: bold\">0</span>    <span style=\"color: #008080; text-decoration-color: #008080; font-weight: bold\">2297</span>\n",
       "<span style=\"color: #008080; text-decoration-color: #008080; font-weight: bold\">1</span>     <span style=\"color: #008080; text-decoration-color: #008080; font-weight: bold\">903</span>\n",
       "Name: count, dtype: int64\n",
       "</pre>\n"
      ],
      "text/plain": [
       "y\n",
       "\u001b[1;36m0\u001b[0m    \u001b[1;36m2297\u001b[0m\n",
       "\u001b[1;36m1\u001b[0m     \u001b[1;36m903\u001b[0m\n",
       "Name: count, dtype: int64\n"
      ]
     },
     "metadata": {},
     "output_type": "display_data"
    }
   ],
   "source": [
    "# ## 5) Data Listing & Label Ingestion\n",
    "\n",
    "def load_labels_from_table(path):\n",
    "    ext = os.path.splitext(path)[1].lower()\n",
    "    df_lab = pd.read_excel(path, sheet_name=0) if ext in [\".xlsx\", \".xls\"] else pd.read_csv(path)\n",
    "    df_lab.columns = [str(c).strip().lower() for c in df_lab.columns]\n",
    "    img_col = next((c for c in [\"imagepath\", \"image\", \"filename\", \"file\", \"img\", \"name\"] if c in df_lab.columns), None)\n",
    "    lab_col = next((c for c in [\"healthy\", \"label\", \"class\", \"target\", \"y\"] if c in df_lab.columns), None)\n",
    "    assert img_col is not None and lab_col is not None, \"Image or Label column not found in Excel/CSV.\"\n",
    "    name = (df_lab[img_col].astype(str).str.strip().apply(os.path.basename).str.lower())\n",
    "    lab = (\n",
    "        df_lab[lab_col]\n",
    "        .astype(str).str.strip().str.lower()\n",
    "        .map({\"1\":1, \"0\":0, \"healthy\":1, \"unhealthy\":0, \"h\":1, \"u\":0})\n",
    "        .astype(int)\n",
    "    )\n",
    "    table = pd.DataFrame({\"image\": name, \"label\": lab}).dropna().drop_duplicates(\"image\", keep=\"last\")\n",
    "    return dict(zip(table[\"image\"], table[\"label\"]))\n",
    "\n",
    "\n",
    "def list_images(dir_path):\n",
    "    exts = (\".jpg\", \".jpeg\", \".png\", \".bmp\", \".tif\", \".tiff\")\n",
    "    return sorted([p for p in glob.glob(str(Path(dir_path) / \"*\")) if p.lower().endswith(exts)])\n",
    "\n",
    "train_files, test_files = list_images(CFG.TRAIN_DIR), list_images(CFG.TEST_DIR)\n",
    "bn_to_path = {os.path.basename(p).lower(): p for p in train_files}\n",
    "label_map = load_labels_from_table(CFG.LABELS_FILE)\n",
    "\n",
    "df = pd.DataFrame([(bn_to_path[bn], lab) for bn, lab in label_map.items() if bn in bn_to_path], columns=[\"path\",\"y\"])\n",
    "rprint(f\"[bold]Labeled train images used:[/bold] {len(df)} / {len(train_files)}\")\n",
    "rprint(df.y.value_counts())\n"
   ]
  },
  {
   "cell_type": "code",
   "execution_count": 8,
   "id": "147cc747",
   "metadata": {
    "execution": {
     "iopub.execute_input": "2025-08-23T21:57:22.348726Z",
     "iopub.status.busy": "2025-08-23T21:57:22.348097Z",
     "iopub.status.idle": "2025-08-23T21:57:52.318323Z",
     "shell.execute_reply": "2025-08-23T21:57:52.317713Z"
    },
    "papermill": {
     "duration": 29.982043,
     "end_time": "2025-08-23T21:57:52.319597",
     "exception": false,
     "start_time": "2025-08-23T21:57:22.337554",
     "status": "completed"
    },
    "tags": []
   },
   "outputs": [
    {
     "data": {
      "text/html": [
       "<pre style=\"white-space:pre;overflow-x:auto;line-height:normal;font-family:Menlo,'DejaVu Sans Mono',consolas,'Courier New',monospace\"><span style=\"color: #808000; text-decoration-color: #808000\">Leakage/duplicates report written to /kaggle/working/pcosgen_out/leakage_report.csv</span>\n",
       "</pre>\n"
      ],
      "text/plain": [
       "\u001b[33mLeakage/duplicates report written to \u001b[0m\u001b[33m/kaggle/working/pcosgen_out/\u001b[0m\u001b[33mleakage_report.csv\u001b[0m\n"
      ]
     },
     "metadata": {},
     "output_type": "display_data"
    }
   ],
   "source": [
    "# ## 6) Duplicate & Leakage Scan (MD5 + 8×8 aHash)\n",
    "\n",
    "def md5_bytes(fp, block=1<<20):\n",
    "    h = hashlib.md5()\n",
    "    with open(fp, \"rb\") as f:\n",
    "        for chunk in iter(lambda: f.read(block), b\"\"):\n",
    "            h.update(chunk)\n",
    "    return h.hexdigest()\n",
    "\n",
    "\n",
    "def ahash_8x8(fp):\n",
    "    try:\n",
    "        img = Image.open(fp).convert(\"L\").resize((8,8), Image.BILINEAR)\n",
    "        arr = np.asarray(img, dtype=np.float32)\n",
    "        return int((arr > arr.mean()).flatten().dot(1<<np.arange(64)))\n",
    "    except Exception:\n",
    "        return None\n",
    "\n",
    "\n",
    "def scan_duplicates(train_files, test_files):\n",
    "    out, md5_map, ah_map = [], {}, {}\n",
    "    for p in train_files:\n",
    "        md5_map.setdefault(md5_bytes(p), []).append(p)\n",
    "    for p in test_files:\n",
    "        md = md5_bytes(p)\n",
    "        if md in md5_map:\n",
    "            for t in md5_map[md]:\n",
    "                out.append((\"exact_train_test\", os.path.basename(t), os.path.basename(p)))\n",
    "    # train/train exact dupe\n",
    "    for md, lst in md5_map.items():\n",
    "        if len(lst) > 1:\n",
    "            out.append((\"exact_train_train\", os.path.basename(lst[0]), os.path.basename(lst[1])))\n",
    "    # aHash near-dup train/test\n",
    "    for p in train_files:\n",
    "        h = ahash_8x8(p)\n",
    "        if h is not None:\n",
    "            ah_map.setdefault(h, []).append(p)\n",
    "    for p in test_files:\n",
    "        h = ahash_8x8(p)\n",
    "        if h is not None and h in ah_map:\n",
    "            for t in ah_map[h]:\n",
    "                out.append((\"ahash_train_test\", os.path.basename(t), os.path.basename(p)))\n",
    "    if out:\n",
    "        leak_path = f\"{CFG.OUT_DIR}/leakage_report.csv\"\n",
    "        pd.DataFrame(out, columns=[\"type\",\"train_image\",\"test_image\"]).to_csv(leak_path, index=False)\n",
    "        rprint(f\"[yellow]Leakage/duplicates report written to {leak_path}[/yellow]\")\n",
    "    else:\n",
    "        rprint(\"[green]No exact/near-exact duplicates detected.[/green]\")\n",
    "\n",
    "scan_duplicates(train_files, test_files)\n"
   ]
  },
  {
   "cell_type": "code",
   "execution_count": 9,
   "id": "89697573",
   "metadata": {
    "execution": {
     "iopub.execute_input": "2025-08-23T21:57:52.343031Z",
     "iopub.status.busy": "2025-08-23T21:57:52.342596Z",
     "iopub.status.idle": "2025-08-23T21:57:52.352526Z",
     "shell.execute_reply": "2025-08-23T21:57:52.351798Z"
    },
    "papermill": {
     "duration": 0.023716,
     "end_time": "2025-08-23T21:57:52.353633",
     "exception": false,
     "start_time": "2025-08-23T21:57:52.329917",
     "status": "completed"
    },
    "tags": []
   },
   "outputs": [],
   "source": [
    "# ## 7) Transforms (Train & Valid)\n",
    "IMAGENET_MEAN, IMAGENET_STD = (0.485, 0.456, 0.406), (0.229, 0.224, 0.225)\n",
    "\n",
    "train_tfms = A.Compose([\n",
    "    A.LongestMaxSize(max_size=CFG.img_size),\n",
    "    A.PadIfNeeded(CFG.img_size, CFG.img_size, border_mode=cv2.BORDER_REFLECT),\n",
    "    A.CLAHE(p=0.6),\n",
    "    A.OneOf([A.GaussNoise(var_limit=(5, 25), p=1), A.ISONoise(p=1)], p=0.5),\n",
    "    A.RandomResizedCrop(CFG.img_size, CFG.img_size, scale=(0.85, 1.0), p=0.8),\n",
    "    A.HorizontalFlip(p=0.5),\n",
    "    A.VerticalFlip(p=0.2),\n",
    "    A.Rotate(limit=10, p=0.5),\n",
    "    A.OneOf([A.RandomGamma(p=1), A.Sharpen(p=1)], p=0.5),\n",
    "    A.RandomBrightnessContrast(p=0.5),\n",
    "    A.Normalize(mean=IMAGENET_MEAN, std=IMAGENET_STD),\n",
    "    ToTensorV2(),\n",
    "])\n",
    "\n",
    "# VALID: remove CLAHE to match inference distribution\n",
    "valid_tfms = A.Compose([\n",
    "    A.LongestMaxSize(max_size=CFG.img_size),\n",
    "    A.PadIfNeeded(CFG.img_size, CFG.img_size, border_mode=cv2.BORDER_REFLECT),\n",
    "    A.Normalize(mean=IMAGENET_MEAN, std=IMAGENET_STD),\n",
    "    ToTensorV2(),\n",
    "])"
   ]
  },
  {
   "cell_type": "code",
   "execution_count": 10,
   "id": "f13c0e6d",
   "metadata": {
    "execution": {
     "iopub.execute_input": "2025-08-23T21:57:52.373691Z",
     "iopub.status.busy": "2025-08-23T21:57:52.373486Z",
     "iopub.status.idle": "2025-08-23T21:57:52.399106Z",
     "shell.execute_reply": "2025-08-23T21:57:52.398434Z"
    },
    "papermill": {
     "duration": 0.037033,
     "end_time": "2025-08-23T21:57:52.400123",
     "exception": false,
     "start_time": "2025-08-23T21:57:52.363090",
     "status": "completed"
    },
    "tags": []
   },
   "outputs": [],
   "source": [
    "# ## 9) Model, Loss, Optimizer, Scheduler (+ SAM & MixUp/CutMix)\n",
    "\n",
    "class PCOSNet(nn.Module):\n",
    "    def __init__(self, backbone=CFG.backbone, pretrained=True):\n",
    "        super().__init__()\n",
    "        self.backbone = timm.create_model(\n",
    "            backbone, pretrained=pretrained, num_classes=1, in_chans=3, drop_rate=0.2\n",
    "        )\n",
    "    def forward(self, x):\n",
    "        return self.backbone(x).squeeze(1)\n",
    "\n",
    "# BCE/focal left as-is in your notebook (we're using BCE now)\n",
    "\n",
    "# Exponential Moving Average of model weights (fixed device handling)\n",
    "class ModelEMA:\n",
    "    def __init__(self, model, decay=0.999):\n",
    "        base = model.module if isinstance(model, nn.DataParallel) else model\n",
    "        dev = next(base.parameters()).device\n",
    "        self.ema = PCOSNet(CFG.backbone, pretrained=False).to(dev)\n",
    "        self.ema.load_state_dict(base.state_dict(), strict=True)\n",
    "        for p in self.ema.parameters(): p.requires_grad_(False)\n",
    "        self.decay = decay\n",
    "    @torch.no_grad()\n",
    "    def update(self, model):\n",
    "        msd = (model.module if isinstance(model, nn.DataParallel) else model).state_dict()\n",
    "        esd = self.ema.state_dict()\n",
    "        for k in esd.keys():\n",
    "            esd[k].mul_(self.decay).add_(msd[k], alpha=1.0 - self.decay)\n",
    "\n",
    "def build_cosine_with_warmup(optimizer, num_warmup_steps, num_training_steps):\n",
    "    def lr_lambda(step):\n",
    "        if step < num_warmup_steps:\n",
    "            return float(step) / float(max(1, num_warmup_steps))\n",
    "        progress = float(step - num_warmup_steps) / float(max(1, num_training_steps - num_warmup_steps))\n",
    "        return 0.5 * (1.0 + math.cos(math.pi * progress))\n",
    "    return torch.optim.lr_scheduler.LambdaLR(optimizer, lr_lambda)\n",
    "\n",
    "# ---------- SAM optimizer (sharpness-aware minimization) ----------\n",
    "class SAM(torch.optim.Optimizer):\n",
    "    def __init__(self, params, base_optimizer, rho=0.05, adaptive=True, **kwargs):\n",
    "        assert rho >= 0.0\n",
    "        defaults = dict(rho=rho, adaptive=adaptive, **kwargs)\n",
    "        self.base_optimizer = base_optimizer(params, **kwargs)\n",
    "        super().__init__(self.base_optimizer.param_groups, defaults)\n",
    "\n",
    "    @torch.no_grad()\n",
    "    def first_step(self, zero_grad=True):\n",
    "        scale = self._grad_norm()\n",
    "        for group in self.param_groups:\n",
    "            rho = group[\"rho\"]\n",
    "            adaptive = group[\"adaptive\"]\n",
    "            for p in group[\"params\"]:\n",
    "                if p.grad is None: continue\n",
    "                e_w = (torch.pow(p, 2) if adaptive else 1.0) * p.grad / (scale + 1e-12)\n",
    "                p.add_(e_w, alpha=rho)\n",
    "                self.state[p][\"e_w\"] = e_w\n",
    "        if zero_grad: self.zero_grad()\n",
    "\n",
    "    @torch.no_grad()\n",
    "    def second_step(self, zero_grad=True):\n",
    "        for group in self.param_groups:\n",
    "            for p in group[\"params\"]:\n",
    "                if p.grad is None: continue\n",
    "                p.sub_(self.state[p][\"e_w\"])\n",
    "        self.base_optimizer.step()\n",
    "        if zero_grad: self.zero_grad()\n",
    "\n",
    "    @torch.no_grad()\n",
    "    def _grad_norm(self):\n",
    "        device = self.param_groups[0][\"params\"][0].device\n",
    "        total = torch.zeros(1, device=device)\n",
    "        for group in self.param_groups:\n",
    "            adaptive = group[\"adaptive\"]\n",
    "            for p in group[\"params\"]:\n",
    "                if p.grad is None: continue\n",
    "                grad = p.grad\n",
    "                if adaptive: grad = grad * torch.abs(p)\n",
    "                total.add_(torch.sum(grad.pow(2)))\n",
    "        return torch.sqrt(total + 1e-12)\n",
    "\n",
    "    def step(self):  # guard accidental calls\n",
    "        raise RuntimeError(\"Call SAM.first_step/second_step instead of step().\")\n",
    "\n",
    "# ---------- MixUp/CutMix (light) ----------\n",
    "# ---------- MixUp/CutMix (light) ----------\n",
    "\n",
    "def _rand_beta(alpha, batch_size, device):\n",
    "    if alpha <= 0:\n",
    "        return torch.ones(batch_size, device=device)\n",
    "    return torch.distributions.Beta(alpha, alpha).sample((batch_size,)).to(device)\n",
    "\n",
    "def _rand_bbox(W, H, lam):\n",
    "    cut_w = int(W * math.sqrt(1 - lam))\n",
    "    cut_h = int(H * math.sqrt(1 - lam))\n",
    "    cx = np.random.randint(0, W)\n",
    "    cy = np.random.randint(0, H)\n",
    "    x1 = np.clip(cx - cut_w // 2, 0, W)\n",
    "    y1 = np.clip(cy - cut_h // 2, 0, H)\n",
    "    x2 = np.clip(cx + cut_w // 2, 0, W)\n",
    "    y2 = np.clip(cy + cut_h // 2, 0, H)\n",
    "    return x1, y1, x2, y2\n",
    "\n",
    "def apply_mixup_cutmix(x, y, p=1.0):\n",
    "    \"\"\"\n",
    "    x: (B,C,H,W), y: (B,) float in {0,1}\n",
    "    returns x_mix, y_mix with y_mix shape (B,)\n",
    "    \"\"\"\n",
    "    if not CFG.use_mixup or np.random.rand() > p:\n",
    "        return x, y\n",
    "\n",
    "    B, C, H, W = x.shape\n",
    "    device = x.device\n",
    "\n",
    "    # 50/50 pick between CutMix and MixUp\n",
    "    do_cutmix = (np.random.rand() < 0.5) and (CFG.cutmix_alpha > 0)\n",
    "\n",
    "    if do_cutmix:\n",
    "        # ---- CutMix ----\n",
    "        lam = float(_rand_beta(CFG.cutmix_alpha, 1, device).item())  # scalar for the batch\n",
    "        index = torch.randperm(B, device=device)\n",
    "\n",
    "        x1, y1, x2, y2 = _rand_bbox(W, H, lam)\n",
    "        x[:, :, y1:y2, x1:x2] = x[index, :, y1:y2, x1:x2]\n",
    "\n",
    "        # effective lambda after box\n",
    "        lam_eff = 1.0 - ((x2 - x1) * (y2 - y1) / (W * H + 1e-12))\n",
    "\n",
    "        # labels stay (B,)\n",
    "        y_mix = lam_eff * y + (1.0 - lam_eff) * y[index]\n",
    "        return x, y_mix\n",
    "\n",
    "    else:\n",
    "        # ---- MixUp ----\n",
    "        lam_lbl = _rand_beta(CFG.mixup_alpha, B, device)       # (B,)\n",
    "        index = torch.randperm(B, device=device)\n",
    "\n",
    "        # For images we need (B,1,1,1) to blend pixels\n",
    "        lam_img = lam_lbl.view(B, 1, 1, 1)\n",
    "        x = lam_img * x + (1.0 - lam_img) * x[index]\n",
    "\n",
    "        # For labels we keep (B,)\n",
    "        y_mix = lam_lbl * y + (1.0 - lam_lbl) * y[index]\n",
    "        return x, y_mix\n",
    "\n",
    "\n",
    "\n",
    "# ## 10) Metrics, Calibration, TTA\n",
    "\n",
    "def fit_temperature(logits, targets):\n",
    "    logits = torch.as_tensor(logits, dtype=torch.float32, device=device).unsqueeze(1)\n",
    "    targets = torch.as_tensor(targets, dtype=torch.float32, device=device).unsqueeze(1)\n",
    "    model = nn.Linear(1, 1, bias=False).to(device)\n",
    "    with torch.no_grad():\n",
    "        model.weight.fill_(1.0)\n",
    "    opt = torch.optim.LBFGS(model.parameters(), lr=0.01, max_iter=50)\n",
    "    def _closure():\n",
    "        opt.zero_grad()\n",
    "        loss = F.binary_cross_entropy_with_logits(model(logits), targets)\n",
    "        loss.backward()\n",
    "        return loss\n",
    "    opt.step(_closure)\n",
    "    return max(1e-3, 1.0 / model.weight.item())\n",
    "\n",
    "\n",
    "def compute_metrics(y_true, y_prob, thr=0.5):\n",
    "    y_pred = (y_prob >= thr).astype(int)\n",
    "    auc_v = roc_auc_score(y_true, y_prob) if len(np.unique(y_true))>1 else 0.5\n",
    "    f1, acc = f1_score(y_true, y_pred), accuracy_score(y_true, y_pred)\n",
    "    tn, fp, fn, tp = confusion_matrix(y_true, y_pred, labels=[0,1]).ravel()\n",
    "    spec, rec = tn / (tn+fp+1e-9), tp / (tp+fn+1e-9)\n",
    "    return dict(AUC=auc_v, F1=f1, ACC=acc, SPEC_unhealthy=spec, RECALL_healthy=rec, J=rec+spec-1.0)\n",
    "\n",
    "\n",
    "def best_threshold(y_true, y_prob, metric=\"J\", n=1001):\n",
    "    thrs = np.linspace(0.0, 1.0, n)\n",
    "    best_t, best_v = 0.5, -1.0\n",
    "    for t in thrs:\n",
    "        v = compute_metrics(y_true, y_prob, thr=t)[metric]\n",
    "        if v > best_v:\n",
    "            best_v, best_t = v, t\n",
    "    return float(best_t), float(best_v)\n",
    "\n",
    "\n",
    "def find_threshold_for_spec(y_true, y_prob, target_spec=0.80):\n",
    "    for t in np.linspace(0, 1, 1001):\n",
    "        if compute_metrics(y_true, y_prob, thr=t)['SPEC_unhealthy'] >= target_spec:\n",
    "            return float(t)\n",
    "    return 0.5\n",
    "\n",
    "\n",
    "def load_ckpt_into_base(ckpt, backbone, device):\n",
    "    model = PCOSNet(backbone, pretrained=False).to(device)\n",
    "    sd = ckpt[\"state_dict\"]\n",
    "    if any(k.startswith(\"module.\") for k in sd.keys()):\n",
    "        sd = {k.replace(\"module.\", \"\", 1): v for k, v in sd.items()}\n",
    "    model.load_state_dict(sd, strict=True)\n",
    "    return model\n",
    "\n",
    "\n",
    "def tta_logits(model, xb, do_transpose=True):\n",
    "    outs = []\n",
    "    outs.append(model(xb))\n",
    "    outs.append(model(torch.flip(xb, dims=[-1])))\n",
    "    outs.append(model(torch.flip(xb, dims=[-2])))\n",
    "    outs.append(model(torch.flip(torch.flip(xb, [-1]), [-2])))\n",
    "    if do_transpose:\n",
    "        xbt = xb.transpose(-1, -2).contiguous()\n",
    "        outs.append(model(xbt))\n",
    "        outs.append(model(torch.flip(xbt, dims=[-1])))\n",
    "        outs.append(model(torch.flip(xbt, dims=[-2])))\n",
    "        outs.append(model(torch.flip(torch.flip(xbt, [-1]), [-2])))\n",
    "    return sum(outs) / len(outs)\n"
   ]
  },
  {
   "cell_type": "code",
   "execution_count": 11,
   "id": "acb5fa90",
   "metadata": {
    "execution": {
     "iopub.execute_input": "2025-08-23T21:57:52.420465Z",
     "iopub.status.busy": "2025-08-23T21:57:52.420245Z",
     "iopub.status.idle": "2025-08-23T21:57:52.432537Z",
     "shell.execute_reply": "2025-08-23T21:57:52.431818Z"
    },
    "papermill": {
     "duration": 0.023703,
     "end_time": "2025-08-23T21:57:52.433580",
     "exception": false,
     "start_time": "2025-08-23T21:57:52.409877",
     "status": "completed"
    },
    "tags": []
   },
   "outputs": [
    {
     "name": "stdout",
     "output_type": "stream",
     "text": [
      "[OK] get_loaders (and dependencies) are defined and ready.\n"
     ]
    }
   ],
   "source": [
    "# === Recovery Cell (place ABOVE \"## 11) K-Fold Training\") ===\n",
    "# Defines: IMAGENET constants (if missing), train/valid transforms (if missing),\n",
    "# USDataset (if missing), _seed_worker/_gen (if missing), and get_loaders (always).\n",
    "\n",
    "import os, random, numpy as np, pandas as pd, cv2, torch\n",
    "from torch.utils.data import Dataset, DataLoader\n",
    "try:\n",
    "    from torch.utils.data.sampler import WeightedRandomSampler\n",
    "except Exception:\n",
    "    from torch.utils.data import WeightedRandomSampler\n",
    "import albumentations as A\n",
    "from albumentations.pytorch import ToTensorV2\n",
    "\n",
    "# --- Imagenet stats (only if missing) ---\n",
    "if 'IMAGENET_MEAN' not in globals() or 'IMAGENET_STD' not in globals():\n",
    "    IMAGENET_MEAN, IMAGENET_STD = (0.485, 0.456, 0.406), (0.229, 0.224, 0.225)\n",
    "\n",
    "# --- Transforms (only if missing) ---\n",
    "if 'train_tfms' not in globals() or 'valid_tfms' not in globals():\n",
    "    assert 'CFG' in globals(), \"CFG must be defined before this cell.\"\n",
    "\n",
    "    train_tfms = A.Compose([\n",
    "        A.LongestMaxSize(max_size=CFG.img_size),\n",
    "        A.PadIfNeeded(CFG.img_size, CFG.img_size, border_mode=cv2.BORDER_REFLECT),\n",
    "\n",
    "        A.CLAHE(p=0.6),\n",
    "\n",
    "        A.OneOf([\n",
    "            A.GaussNoise(var_limit=(5, 25), p=1),\n",
    "            A.ISONoise(p=1),\n",
    "        ], p=0.5),\n",
    "\n",
    "        A.RandomResizedCrop(CFG.img_size, CFG.img_size, scale=(0.85, 1.0), p=0.8),\n",
    "        A.HorizontalFlip(p=0.5),\n",
    "        A.VerticalFlip(p=0.2),\n",
    "        A.Rotate(limit=10, p=0.5),\n",
    "\n",
    "        A.OneOf([\n",
    "            A.RandomGamma(gamma_limit=(80, 120), p=1),\n",
    "            A.Sharpen(alpha=(0.1, 0.3), lightness=(0.9, 1.1), p=1),\n",
    "        ], p=0.5),\n",
    "\n",
    "        A.RandomBrightnessContrast(p=0.5),\n",
    "        A.Normalize(mean=IMAGENET_MEAN, std=IMAGENET_STD),\n",
    "        ToTensorV2(),\n",
    "    ])\n",
    "\n",
    "    valid_tfms = A.Compose([\n",
    "        A.LongestMaxSize(max_size=CFG.img_size),\n",
    "        A.PadIfNeeded(CFG.img_size, CFG.img_size, border_mode=cv2.BORDER_REFLECT),\n",
    "        A.CLAHE(p=1.0),\n",
    "        A.Normalize(mean=IMAGENET_MEAN, std=IMAGENET_STD),\n",
    "        ToTensorV2(),\n",
    "    ])\n",
    "\n",
    "# --- Worker seeding & generator (only if missing) ---\n",
    "if '_seed_worker' not in globals():\n",
    "    def _seed_worker(worker_id):\n",
    "        worker_seed = int(getattr(CFG, \"seed\", 42)) + int(worker_id)\n",
    "        np.random.seed(worker_seed)\n",
    "        random.seed(worker_seed)\n",
    "\n",
    "if '_gen' not in globals():\n",
    "    _gen = torch.Generator()\n",
    "    _gen.manual_seed(int(getattr(CFG, \"seed\", 42)))\n",
    "\n",
    "# --- Dataset (only if missing) ---\n",
    "if 'USDataset' not in globals():\n",
    "    class USDataset(Dataset):\n",
    "        def __init__(self, df, transform):\n",
    "            self.df = df.reset_index(drop=True)\n",
    "            self.transform = transform\n",
    "        def __len__(self):\n",
    "            return len(self.df)\n",
    "        def __getitem__(self, idx):\n",
    "            row = self.df.iloc[idx]\n",
    "            img = cv2.imread(row.path, cv2.IMREAD_UNCHANGED)\n",
    "            if img is None:\n",
    "                img = np.zeros((getattr(CFG, \"img_size\", 448), getattr(CFG, \"img_size\", 448)), dtype=np.uint8)\n",
    "            img = cv2.cvtColor(img, cv2.COLOR_GRAY2RGB) if img.ndim == 2 else cv2.cvtColor(img, cv2.COLOR_BGR2RGB)\n",
    "            x = self.transform(image=img)[\"image\"]\n",
    "            y = int(row.y)\n",
    "            return x, torch.tensor([y], dtype=torch.float32)\n",
    "\n",
    "# --- DataLoaders (always define to guarantee presence) ---\n",
    "def get_loaders(train_df, valid_df):\n",
    "    class_counts = train_df.y.value_counts()\n",
    "    weights = (1.0 / train_df.y.map(class_counts)).astype(float).values\n",
    "    sampler = WeightedRandomSampler(weights=weights, num_samples=len(train_df), replacement=True)\n",
    "\n",
    "    dl_train = DataLoader(\n",
    "        USDataset(train_df, train_tfms),\n",
    "        batch_size=int(getattr(CFG, \"batch_size\", 24)),\n",
    "        sampler=sampler,\n",
    "        num_workers=int(getattr(CFG, \"num_workers\", 4)),\n",
    "        pin_memory=True,\n",
    "        worker_init_fn=_seed_worker,\n",
    "        generator=_gen,\n",
    "    )\n",
    "    dl_valid = DataLoader(\n",
    "        USDataset(valid_df, valid_tfms),\n",
    "        batch_size=int(getattr(CFG, \"batch_size\", 24)) * 2,\n",
    "        shuffle=False,\n",
    "        num_workers=int(getattr(CFG, \"num_workers\", 4)),\n",
    "        pin_memory=True,\n",
    "        worker_init_fn=_seed_worker,\n",
    "        generator=_gen,\n",
    "    )\n",
    "    return dl_train, dl_valid\n",
    "\n",
    "print(\"[OK] get_loaders (and dependencies) are defined and ready.\")\n"
   ]
  },
  {
   "cell_type": "code",
   "execution_count": 12,
   "id": "24070145",
   "metadata": {
    "execution": {
     "iopub.execute_input": "2025-08-23T21:57:52.462859Z",
     "iopub.status.busy": "2025-08-23T21:57:52.462511Z",
     "iopub.status.idle": "2025-08-24T00:39:18.210787Z",
     "shell.execute_reply": "2025-08-24T00:39:18.209938Z"
    },
    "papermill": {
     "duration": 9685.798217,
     "end_time": "2025-08-24T00:39:18.241655",
     "exception": false,
     "start_time": "2025-08-23T21:57:52.443438",
     "status": "completed"
    },
    "tags": []
   },
   "outputs": [
    {
     "data": {
      "text/html": [
       "<pre style=\"white-space:pre;overflow-x:auto;line-height:normal;font-family:Menlo,'DejaVu Sans Mono',consolas,'Courier New',monospace\">\n",
       "<span style=\"color: #008080; text-decoration-color: #008080; font-weight: bold\">========= FOLD </span><span style=\"color: #008080; text-decoration-color: #008080; font-weight: bold\">1</span><span style=\"color: #008080; text-decoration-color: #008080; font-weight: bold\">/</span><span style=\"color: #008080; text-decoration-color: #008080; font-weight: bold\">5</span><span style=\"color: #008080; text-decoration-color: #008080; font-weight: bold\"> =========</span>\n",
       "</pre>\n"
      ],
      "text/plain": [
       "\n",
       "\u001b[1;36m========= FOLD \u001b[0m\u001b[1;36m1\u001b[0m\u001b[1;36m/\u001b[0m\u001b[1;36m5\u001b[0m\u001b[1;36m =========\u001b[0m\n"
      ]
     },
     "metadata": {},
     "output_type": "display_data"
    },
    {
     "data": {
      "application/vnd.jupyter.widget-view+json": {
       "model_id": "9ee3affcb0254683b79df4533817c127",
       "version_major": 2,
       "version_minor": 0
      },
      "text/plain": [
       "model.safetensors:   0%|          | 0.00/265M [00:00<?, ?B/s]"
      ]
     },
     "metadata": {},
     "output_type": "display_data"
    },
    {
     "data": {
      "text/html": [
       "<pre style=\"white-space:pre;overflow-x:auto;line-height:normal;font-family:Menlo,'DejaVu Sans Mono',consolas,'Courier New',monospace\"><span style=\"color: #808000; text-decoration-color: #808000\">Init classifier bias to prior </span><span style=\"color: #808000; text-decoration-color: #808000\">logit</span><span style=\"color: #808000; text-decoration-color: #808000\">=</span><span style=\"color: #808000; text-decoration-color: #808000; font-weight: bold\">-0.934</span><span style=\"color: #808000; text-decoration-color: #808000\"> </span><span style=\"color: #808000; text-decoration-color: #808000; font-weight: bold\">(</span><span style=\"color: #808000; text-decoration-color: #808000\">prior</span><span style=\"color: #808000; text-decoration-color: #808000\">=</span><span style=\"color: #808000; text-decoration-color: #808000; font-weight: bold\">0.282</span><span style=\"color: #808000; text-decoration-color: #808000; font-weight: bold\">)</span>\n",
       "</pre>\n"
      ],
      "text/plain": [
       "\u001b[33mInit classifier bias to prior \u001b[0m\u001b[33mlogit\u001b[0m\u001b[33m=\u001b[0m\u001b[1;33m-0.934\u001b[0m\u001b[33m \u001b[0m\u001b[1;33m(\u001b[0m\u001b[33mprior\u001b[0m\u001b[33m=\u001b[0m\u001b[1;33m0\u001b[0m\u001b[1;33m.282\u001b[0m\u001b[1;33m)\u001b[0m\n"
      ]
     },
     "metadata": {},
     "output_type": "display_data"
    },
    {
     "data": {
      "text/html": [
       "<pre style=\"white-space:pre;overflow-x:auto;line-height:normal;font-family:Menlo,'DejaVu Sans Mono',consolas,'Courier New',monospace\">Train loss: <span style=\"color: #008080; text-decoration-color: #008080; font-weight: bold\">0.0865</span>\n",
       "</pre>\n"
      ],
      "text/plain": [
       "Train loss: \u001b[1;36m0.0865\u001b[0m\n"
      ]
     },
     "metadata": {},
     "output_type": "display_data"
    },
    {
     "data": {
      "text/html": [
       "<pre style=\"white-space:pre;overflow-x:auto;line-height:normal;font-family:Menlo,'DejaVu Sans Mono',consolas,'Courier New',monospace\">Val prob stats: <span style=\"color: #808000; text-decoration-color: #808000\">min</span>=<span style=\"color: #008080; text-decoration-color: #008080; font-weight: bold\">0.311</span> <span style=\"color: #808000; text-decoration-color: #808000\">med</span>=<span style=\"color: #008080; text-decoration-color: #008080; font-weight: bold\">0.377</span> <span style=\"color: #808000; text-decoration-color: #808000\">max</span>=<span style=\"color: #008080; text-decoration-color: #008080; font-weight: bold\">0.448</span>  &gt;<span style=\"color: #008080; text-decoration-color: #008080; font-weight: bold\">0.5</span>=<span style=\"color: #008080; text-decoration-color: #008080; font-weight: bold\">0.000</span>\n",
       "</pre>\n"
      ],
      "text/plain": [
       "Val prob stats: \u001b[33mmin\u001b[0m=\u001b[1;36m0\u001b[0m\u001b[1;36m.311\u001b[0m \u001b[33mmed\u001b[0m=\u001b[1;36m0\u001b[0m\u001b[1;36m.377\u001b[0m \u001b[33mmax\u001b[0m=\u001b[1;36m0\u001b[0m\u001b[1;36m.448\u001b[0m  >\u001b[1;36m0.\u001b[0m\u001b[1;36m5\u001b[0m=\u001b[1;36m0\u001b[0m\u001b[1;36m.000\u001b[0m\n"
      ]
     },
     "metadata": {},
     "output_type": "display_data"
    },
    {
     "data": {
      "text/html": [
       "<pre style=\"white-space:pre;overflow-x:auto;line-height:normal;font-family:Menlo,'DejaVu Sans Mono',consolas,'Courier New',monospace\">E01: <span style=\"color: #800080; text-decoration-color: #800080; font-weight: bold\">AUC</span><span style=\"font-weight: bold\">(</span>EMA<span style=\"font-weight: bold\">)</span>=<span style=\"color: #008080; text-decoration-color: #008080; font-weight: bold\">0.6016</span> <span style=\"color: #808000; text-decoration-color: #808000\">F1</span>=<span style=\"color: #008080; text-decoration-color: #008080; font-weight: bold\">0.0000</span> <span style=\"color: #808000; text-decoration-color: #808000\">ACC</span>=<span style=\"color: #008080; text-decoration-color: #008080; font-weight: bold\">0.7172</span>\n",
       "</pre>\n"
      ],
      "text/plain": [
       "E01: \u001b[1;35mAUC\u001b[0m\u001b[1m(\u001b[0mEMA\u001b[1m)\u001b[0m=\u001b[1;36m0.6016\u001b[0m \u001b[33mF1\u001b[0m=\u001b[1;36m0\u001b[0m\u001b[1;36m.0000\u001b[0m \u001b[33mACC\u001b[0m=\u001b[1;36m0\u001b[0m\u001b[1;36m.7172\u001b[0m\n"
      ]
     },
     "metadata": {},
     "output_type": "display_data"
    },
    {
     "data": {
      "text/html": [
       "<pre style=\"white-space:pre;overflow-x:auto;line-height:normal;font-family:Menlo,'DejaVu Sans Mono',consolas,'Courier New',monospace\">Train loss: <span style=\"color: #008080; text-decoration-color: #008080; font-weight: bold\">0.0817</span>\n",
       "</pre>\n"
      ],
      "text/plain": [
       "Train loss: \u001b[1;36m0.0817\u001b[0m\n"
      ]
     },
     "metadata": {},
     "output_type": "display_data"
    },
    {
     "data": {
      "text/html": [
       "<pre style=\"white-space:pre;overflow-x:auto;line-height:normal;font-family:Menlo,'DejaVu Sans Mono',consolas,'Courier New',monospace\">Val prob stats: <span style=\"color: #808000; text-decoration-color: #808000\">min</span>=<span style=\"color: #008080; text-decoration-color: #008080; font-weight: bold\">0.351</span> <span style=\"color: #808000; text-decoration-color: #808000\">med</span>=<span style=\"color: #008080; text-decoration-color: #008080; font-weight: bold\">0.407</span> <span style=\"color: #808000; text-decoration-color: #808000\">max</span>=<span style=\"color: #008080; text-decoration-color: #008080; font-weight: bold\">0.475</span>  &gt;<span style=\"color: #008080; text-decoration-color: #008080; font-weight: bold\">0.5</span>=<span style=\"color: #008080; text-decoration-color: #008080; font-weight: bold\">0.000</span>\n",
       "</pre>\n"
      ],
      "text/plain": [
       "Val prob stats: \u001b[33mmin\u001b[0m=\u001b[1;36m0\u001b[0m\u001b[1;36m.351\u001b[0m \u001b[33mmed\u001b[0m=\u001b[1;36m0\u001b[0m\u001b[1;36m.407\u001b[0m \u001b[33mmax\u001b[0m=\u001b[1;36m0\u001b[0m\u001b[1;36m.475\u001b[0m  >\u001b[1;36m0.\u001b[0m\u001b[1;36m5\u001b[0m=\u001b[1;36m0\u001b[0m\u001b[1;36m.000\u001b[0m\n"
      ]
     },
     "metadata": {},
     "output_type": "display_data"
    },
    {
     "data": {
      "text/html": [
       "<pre style=\"white-space:pre;overflow-x:auto;line-height:normal;font-family:Menlo,'DejaVu Sans Mono',consolas,'Courier New',monospace\">E02: <span style=\"color: #800080; text-decoration-color: #800080; font-weight: bold\">AUC</span><span style=\"font-weight: bold\">(</span>EMA<span style=\"font-weight: bold\">)</span>=<span style=\"color: #008080; text-decoration-color: #008080; font-weight: bold\">0.7662</span> <span style=\"color: #808000; text-decoration-color: #808000\">F1</span>=<span style=\"color: #008080; text-decoration-color: #008080; font-weight: bold\">0.0000</span> <span style=\"color: #808000; text-decoration-color: #808000\">ACC</span>=<span style=\"color: #008080; text-decoration-color: #008080; font-weight: bold\">0.7172</span>\n",
       "</pre>\n"
      ],
      "text/plain": [
       "E02: \u001b[1;35mAUC\u001b[0m\u001b[1m(\u001b[0mEMA\u001b[1m)\u001b[0m=\u001b[1;36m0.7662\u001b[0m \u001b[33mF1\u001b[0m=\u001b[1;36m0\u001b[0m\u001b[1;36m.0000\u001b[0m \u001b[33mACC\u001b[0m=\u001b[1;36m0\u001b[0m\u001b[1;36m.7172\u001b[0m\n"
      ]
     },
     "metadata": {},
     "output_type": "display_data"
    },
    {
     "data": {
      "text/html": [
       "<pre style=\"white-space:pre;overflow-x:auto;line-height:normal;font-family:Menlo,'DejaVu Sans Mono',consolas,'Courier New',monospace\">Train loss: <span style=\"color: #008080; text-decoration-color: #008080; font-weight: bold\">0.0806</span>\n",
       "</pre>\n"
      ],
      "text/plain": [
       "Train loss: \u001b[1;36m0.0806\u001b[0m\n"
      ]
     },
     "metadata": {},
     "output_type": "display_data"
    },
    {
     "data": {
      "text/html": [
       "<pre style=\"white-space:pre;overflow-x:auto;line-height:normal;font-family:Menlo,'DejaVu Sans Mono',consolas,'Courier New',monospace\">Val prob stats: <span style=\"color: #808000; text-decoration-color: #808000\">min</span>=<span style=\"color: #008080; text-decoration-color: #008080; font-weight: bold\">0.333</span> <span style=\"color: #808000; text-decoration-color: #808000\">med</span>=<span style=\"color: #008080; text-decoration-color: #008080; font-weight: bold\">0.419</span> <span style=\"color: #808000; text-decoration-color: #808000\">max</span>=<span style=\"color: #008080; text-decoration-color: #008080; font-weight: bold\">0.465</span>  &gt;<span style=\"color: #008080; text-decoration-color: #008080; font-weight: bold\">0.5</span>=<span style=\"color: #008080; text-decoration-color: #008080; font-weight: bold\">0.000</span>\n",
       "</pre>\n"
      ],
      "text/plain": [
       "Val prob stats: \u001b[33mmin\u001b[0m=\u001b[1;36m0\u001b[0m\u001b[1;36m.333\u001b[0m \u001b[33mmed\u001b[0m=\u001b[1;36m0\u001b[0m\u001b[1;36m.419\u001b[0m \u001b[33mmax\u001b[0m=\u001b[1;36m0\u001b[0m\u001b[1;36m.465\u001b[0m  >\u001b[1;36m0.\u001b[0m\u001b[1;36m5\u001b[0m=\u001b[1;36m0\u001b[0m\u001b[1;36m.000\u001b[0m\n"
      ]
     },
     "metadata": {},
     "output_type": "display_data"
    },
    {
     "data": {
      "text/html": [
       "<pre style=\"white-space:pre;overflow-x:auto;line-height:normal;font-family:Menlo,'DejaVu Sans Mono',consolas,'Courier New',monospace\">E03: <span style=\"color: #800080; text-decoration-color: #800080; font-weight: bold\">AUC</span><span style=\"font-weight: bold\">(</span>EMA<span style=\"font-weight: bold\">)</span>=<span style=\"color: #008080; text-decoration-color: #008080; font-weight: bold\">0.7735</span> <span style=\"color: #808000; text-decoration-color: #808000\">F1</span>=<span style=\"color: #008080; text-decoration-color: #008080; font-weight: bold\">0.0000</span> <span style=\"color: #808000; text-decoration-color: #808000\">ACC</span>=<span style=\"color: #008080; text-decoration-color: #008080; font-weight: bold\">0.7172</span>\n",
       "</pre>\n"
      ],
      "text/plain": [
       "E03: \u001b[1;35mAUC\u001b[0m\u001b[1m(\u001b[0mEMA\u001b[1m)\u001b[0m=\u001b[1;36m0.7735\u001b[0m \u001b[33mF1\u001b[0m=\u001b[1;36m0\u001b[0m\u001b[1;36m.0000\u001b[0m \u001b[33mACC\u001b[0m=\u001b[1;36m0\u001b[0m\u001b[1;36m.7172\u001b[0m\n"
      ]
     },
     "metadata": {},
     "output_type": "display_data"
    },
    {
     "data": {
      "text/html": [
       "<pre style=\"white-space:pre;overflow-x:auto;line-height:normal;font-family:Menlo,'DejaVu Sans Mono',consolas,'Courier New',monospace\">Train loss: <span style=\"color: #008080; text-decoration-color: #008080; font-weight: bold\">0.0821</span>\n",
       "</pre>\n"
      ],
      "text/plain": [
       "Train loss: \u001b[1;36m0.0821\u001b[0m\n"
      ]
     },
     "metadata": {},
     "output_type": "display_data"
    },
    {
     "data": {
      "text/html": [
       "<pre style=\"white-space:pre;overflow-x:auto;line-height:normal;font-family:Menlo,'DejaVu Sans Mono',consolas,'Courier New',monospace\">Val prob stats: <span style=\"color: #808000; text-decoration-color: #808000\">min</span>=<span style=\"color: #008080; text-decoration-color: #008080; font-weight: bold\">0.363</span> <span style=\"color: #808000; text-decoration-color: #808000\">med</span>=<span style=\"color: #008080; text-decoration-color: #008080; font-weight: bold\">0.426</span> <span style=\"color: #808000; text-decoration-color: #808000\">max</span>=<span style=\"color: #008080; text-decoration-color: #008080; font-weight: bold\">0.459</span>  &gt;<span style=\"color: #008080; text-decoration-color: #008080; font-weight: bold\">0.5</span>=<span style=\"color: #008080; text-decoration-color: #008080; font-weight: bold\">0.000</span>\n",
       "</pre>\n"
      ],
      "text/plain": [
       "Val prob stats: \u001b[33mmin\u001b[0m=\u001b[1;36m0\u001b[0m\u001b[1;36m.363\u001b[0m \u001b[33mmed\u001b[0m=\u001b[1;36m0\u001b[0m\u001b[1;36m.426\u001b[0m \u001b[33mmax\u001b[0m=\u001b[1;36m0\u001b[0m\u001b[1;36m.459\u001b[0m  >\u001b[1;36m0.\u001b[0m\u001b[1;36m5\u001b[0m=\u001b[1;36m0\u001b[0m\u001b[1;36m.000\u001b[0m\n"
      ]
     },
     "metadata": {},
     "output_type": "display_data"
    },
    {
     "data": {
      "text/html": [
       "<pre style=\"white-space:pre;overflow-x:auto;line-height:normal;font-family:Menlo,'DejaVu Sans Mono',consolas,'Courier New',monospace\">E04: <span style=\"color: #800080; text-decoration-color: #800080; font-weight: bold\">AUC</span><span style=\"font-weight: bold\">(</span>EMA<span style=\"font-weight: bold\">)</span>=<span style=\"color: #008080; text-decoration-color: #008080; font-weight: bold\">0.7481</span> <span style=\"color: #808000; text-decoration-color: #808000\">F1</span>=<span style=\"color: #008080; text-decoration-color: #008080; font-weight: bold\">0.0000</span> <span style=\"color: #808000; text-decoration-color: #808000\">ACC</span>=<span style=\"color: #008080; text-decoration-color: #008080; font-weight: bold\">0.7172</span>\n",
       "</pre>\n"
      ],
      "text/plain": [
       "E04: \u001b[1;35mAUC\u001b[0m\u001b[1m(\u001b[0mEMA\u001b[1m)\u001b[0m=\u001b[1;36m0.7481\u001b[0m \u001b[33mF1\u001b[0m=\u001b[1;36m0\u001b[0m\u001b[1;36m.0000\u001b[0m \u001b[33mACC\u001b[0m=\u001b[1;36m0\u001b[0m\u001b[1;36m.7172\u001b[0m\n"
      ]
     },
     "metadata": {},
     "output_type": "display_data"
    },
    {
     "data": {
      "text/html": [
       "<pre style=\"white-space:pre;overflow-x:auto;line-height:normal;font-family:Menlo,'DejaVu Sans Mono',consolas,'Courier New',monospace\">Train loss: <span style=\"color: #008080; text-decoration-color: #008080; font-weight: bold\">0.0816</span>\n",
       "</pre>\n"
      ],
      "text/plain": [
       "Train loss: \u001b[1;36m0.0816\u001b[0m\n"
      ]
     },
     "metadata": {},
     "output_type": "display_data"
    },
    {
     "data": {
      "text/html": [
       "<pre style=\"white-space:pre;overflow-x:auto;line-height:normal;font-family:Menlo,'DejaVu Sans Mono',consolas,'Courier New',monospace\">Val prob stats: <span style=\"color: #808000; text-decoration-color: #808000\">min</span>=<span style=\"color: #008080; text-decoration-color: #008080; font-weight: bold\">0.392</span> <span style=\"color: #808000; text-decoration-color: #808000\">med</span>=<span style=\"color: #008080; text-decoration-color: #008080; font-weight: bold\">0.442</span> <span style=\"color: #808000; text-decoration-color: #808000\">max</span>=<span style=\"color: #008080; text-decoration-color: #008080; font-weight: bold\">0.469</span>  &gt;<span style=\"color: #008080; text-decoration-color: #008080; font-weight: bold\">0.5</span>=<span style=\"color: #008080; text-decoration-color: #008080; font-weight: bold\">0.000</span>\n",
       "</pre>\n"
      ],
      "text/plain": [
       "Val prob stats: \u001b[33mmin\u001b[0m=\u001b[1;36m0\u001b[0m\u001b[1;36m.392\u001b[0m \u001b[33mmed\u001b[0m=\u001b[1;36m0\u001b[0m\u001b[1;36m.442\u001b[0m \u001b[33mmax\u001b[0m=\u001b[1;36m0\u001b[0m\u001b[1;36m.469\u001b[0m  >\u001b[1;36m0.\u001b[0m\u001b[1;36m5\u001b[0m=\u001b[1;36m0\u001b[0m\u001b[1;36m.000\u001b[0m\n"
      ]
     },
     "metadata": {},
     "output_type": "display_data"
    },
    {
     "data": {
      "text/html": [
       "<pre style=\"white-space:pre;overflow-x:auto;line-height:normal;font-family:Menlo,'DejaVu Sans Mono',consolas,'Courier New',monospace\">E05: <span style=\"color: #800080; text-decoration-color: #800080; font-weight: bold\">AUC</span><span style=\"font-weight: bold\">(</span>EMA<span style=\"font-weight: bold\">)</span>=<span style=\"color: #008080; text-decoration-color: #008080; font-weight: bold\">0.7901</span> <span style=\"color: #808000; text-decoration-color: #808000\">F1</span>=<span style=\"color: #008080; text-decoration-color: #008080; font-weight: bold\">0.0000</span> <span style=\"color: #808000; text-decoration-color: #808000\">ACC</span>=<span style=\"color: #008080; text-decoration-color: #008080; font-weight: bold\">0.7172</span>\n",
       "</pre>\n"
      ],
      "text/plain": [
       "E05: \u001b[1;35mAUC\u001b[0m\u001b[1m(\u001b[0mEMA\u001b[1m)\u001b[0m=\u001b[1;36m0.7901\u001b[0m \u001b[33mF1\u001b[0m=\u001b[1;36m0\u001b[0m\u001b[1;36m.0000\u001b[0m \u001b[33mACC\u001b[0m=\u001b[1;36m0\u001b[0m\u001b[1;36m.7172\u001b[0m\n"
      ]
     },
     "metadata": {},
     "output_type": "display_data"
    },
    {
     "data": {
      "text/html": [
       "<pre style=\"white-space:pre;overflow-x:auto;line-height:normal;font-family:Menlo,'DejaVu Sans Mono',consolas,'Courier New',monospace\">Train loss: <span style=\"color: #008080; text-decoration-color: #008080; font-weight: bold\">0.0795</span>\n",
       "</pre>\n"
      ],
      "text/plain": [
       "Train loss: \u001b[1;36m0.0795\u001b[0m\n"
      ]
     },
     "metadata": {},
     "output_type": "display_data"
    },
    {
     "data": {
      "text/html": [
       "<pre style=\"white-space:pre;overflow-x:auto;line-height:normal;font-family:Menlo,'DejaVu Sans Mono',consolas,'Courier New',monospace\">Val prob stats: <span style=\"color: #808000; text-decoration-color: #808000\">min</span>=<span style=\"color: #008080; text-decoration-color: #008080; font-weight: bold\">0.392</span> <span style=\"color: #808000; text-decoration-color: #808000\">med</span>=<span style=\"color: #008080; text-decoration-color: #008080; font-weight: bold\">0.456</span> <span style=\"color: #808000; text-decoration-color: #808000\">max</span>=<span style=\"color: #008080; text-decoration-color: #008080; font-weight: bold\">0.487</span>  &gt;<span style=\"color: #008080; text-decoration-color: #008080; font-weight: bold\">0.5</span>=<span style=\"color: #008080; text-decoration-color: #008080; font-weight: bold\">0.000</span>\n",
       "</pre>\n"
      ],
      "text/plain": [
       "Val prob stats: \u001b[33mmin\u001b[0m=\u001b[1;36m0\u001b[0m\u001b[1;36m.392\u001b[0m \u001b[33mmed\u001b[0m=\u001b[1;36m0\u001b[0m\u001b[1;36m.456\u001b[0m \u001b[33mmax\u001b[0m=\u001b[1;36m0\u001b[0m\u001b[1;36m.487\u001b[0m  >\u001b[1;36m0.\u001b[0m\u001b[1;36m5\u001b[0m=\u001b[1;36m0\u001b[0m\u001b[1;36m.000\u001b[0m\n"
      ]
     },
     "metadata": {},
     "output_type": "display_data"
    },
    {
     "data": {
      "text/html": [
       "<pre style=\"white-space:pre;overflow-x:auto;line-height:normal;font-family:Menlo,'DejaVu Sans Mono',consolas,'Courier New',monospace\">E06: <span style=\"color: #800080; text-decoration-color: #800080; font-weight: bold\">AUC</span><span style=\"font-weight: bold\">(</span>EMA<span style=\"font-weight: bold\">)</span>=<span style=\"color: #008080; text-decoration-color: #008080; font-weight: bold\">0.8242</span> <span style=\"color: #808000; text-decoration-color: #808000\">F1</span>=<span style=\"color: #008080; text-decoration-color: #008080; font-weight: bold\">0.0000</span> <span style=\"color: #808000; text-decoration-color: #808000\">ACC</span>=<span style=\"color: #008080; text-decoration-color: #008080; font-weight: bold\">0.7172</span>\n",
       "</pre>\n"
      ],
      "text/plain": [
       "E06: \u001b[1;35mAUC\u001b[0m\u001b[1m(\u001b[0mEMA\u001b[1m)\u001b[0m=\u001b[1;36m0.8242\u001b[0m \u001b[33mF1\u001b[0m=\u001b[1;36m0\u001b[0m\u001b[1;36m.0000\u001b[0m \u001b[33mACC\u001b[0m=\u001b[1;36m0\u001b[0m\u001b[1;36m.7172\u001b[0m\n"
      ]
     },
     "metadata": {},
     "output_type": "display_data"
    },
    {
     "data": {
      "text/html": [
       "<pre style=\"white-space:pre;overflow-x:auto;line-height:normal;font-family:Menlo,'DejaVu Sans Mono',consolas,'Courier New',monospace\">Train loss: <span style=\"color: #008080; text-decoration-color: #008080; font-weight: bold\">0.0768</span>\n",
       "</pre>\n"
      ],
      "text/plain": [
       "Train loss: \u001b[1;36m0.0768\u001b[0m\n"
      ]
     },
     "metadata": {},
     "output_type": "display_data"
    },
    {
     "data": {
      "text/html": [
       "<pre style=\"white-space:pre;overflow-x:auto;line-height:normal;font-family:Menlo,'DejaVu Sans Mono',consolas,'Courier New',monospace\">Val prob stats: <span style=\"color: #808000; text-decoration-color: #808000\">min</span>=<span style=\"color: #008080; text-decoration-color: #008080; font-weight: bold\">0.373</span> <span style=\"color: #808000; text-decoration-color: #808000\">med</span>=<span style=\"color: #008080; text-decoration-color: #008080; font-weight: bold\">0.462</span> <span style=\"color: #808000; text-decoration-color: #808000\">max</span>=<span style=\"color: #008080; text-decoration-color: #008080; font-weight: bold\">0.503</span>  &gt;<span style=\"color: #008080; text-decoration-color: #008080; font-weight: bold\">0.5</span>=<span style=\"color: #008080; text-decoration-color: #008080; font-weight: bold\">0.009</span>\n",
       "</pre>\n"
      ],
      "text/plain": [
       "Val prob stats: \u001b[33mmin\u001b[0m=\u001b[1;36m0\u001b[0m\u001b[1;36m.373\u001b[0m \u001b[33mmed\u001b[0m=\u001b[1;36m0\u001b[0m\u001b[1;36m.462\u001b[0m \u001b[33mmax\u001b[0m=\u001b[1;36m0\u001b[0m\u001b[1;36m.503\u001b[0m  >\u001b[1;36m0.\u001b[0m\u001b[1;36m5\u001b[0m=\u001b[1;36m0\u001b[0m\u001b[1;36m.009\u001b[0m\n"
      ]
     },
     "metadata": {},
     "output_type": "display_data"
    },
    {
     "data": {
      "text/html": [
       "<pre style=\"white-space:pre;overflow-x:auto;line-height:normal;font-family:Menlo,'DejaVu Sans Mono',consolas,'Courier New',monospace\">E07: <span style=\"color: #800080; text-decoration-color: #800080; font-weight: bold\">AUC</span><span style=\"font-weight: bold\">(</span>EMA<span style=\"font-weight: bold\">)</span>=<span style=\"color: #008080; text-decoration-color: #008080; font-weight: bold\">0.8354</span> <span style=\"color: #808000; text-decoration-color: #808000\">F1</span>=<span style=\"color: #008080; text-decoration-color: #008080; font-weight: bold\">0.0642</span> <span style=\"color: #808000; text-decoration-color: #808000\">ACC</span>=<span style=\"color: #008080; text-decoration-color: #008080; font-weight: bold\">0.7266</span>\n",
       "</pre>\n"
      ],
      "text/plain": [
       "E07: \u001b[1;35mAUC\u001b[0m\u001b[1m(\u001b[0mEMA\u001b[1m)\u001b[0m=\u001b[1;36m0.8354\u001b[0m \u001b[33mF1\u001b[0m=\u001b[1;36m0\u001b[0m\u001b[1;36m.0642\u001b[0m \u001b[33mACC\u001b[0m=\u001b[1;36m0\u001b[0m\u001b[1;36m.7266\u001b[0m\n"
      ]
     },
     "metadata": {},
     "output_type": "display_data"
    },
    {
     "data": {
      "text/html": [
       "<pre style=\"white-space:pre;overflow-x:auto;line-height:normal;font-family:Menlo,'DejaVu Sans Mono',consolas,'Courier New',monospace\">Train loss: <span style=\"color: #008080; text-decoration-color: #008080; font-weight: bold\">0.0765</span>\n",
       "</pre>\n"
      ],
      "text/plain": [
       "Train loss: \u001b[1;36m0.0765\u001b[0m\n"
      ]
     },
     "metadata": {},
     "output_type": "display_data"
    },
    {
     "data": {
      "text/html": [
       "<pre style=\"white-space:pre;overflow-x:auto;line-height:normal;font-family:Menlo,'DejaVu Sans Mono',consolas,'Courier New',monospace\">Val prob stats: <span style=\"color: #808000; text-decoration-color: #808000\">min</span>=<span style=\"color: #008080; text-decoration-color: #008080; font-weight: bold\">0.353</span> <span style=\"color: #808000; text-decoration-color: #808000\">med</span>=<span style=\"color: #008080; text-decoration-color: #008080; font-weight: bold\">0.469</span> <span style=\"color: #808000; text-decoration-color: #808000\">max</span>=<span style=\"color: #008080; text-decoration-color: #008080; font-weight: bold\">0.518</span>  &gt;<span style=\"color: #008080; text-decoration-color: #008080; font-weight: bold\">0.5</span>=<span style=\"color: #008080; text-decoration-color: #008080; font-weight: bold\">0.039</span>\n",
       "</pre>\n"
      ],
      "text/plain": [
       "Val prob stats: \u001b[33mmin\u001b[0m=\u001b[1;36m0\u001b[0m\u001b[1;36m.353\u001b[0m \u001b[33mmed\u001b[0m=\u001b[1;36m0\u001b[0m\u001b[1;36m.469\u001b[0m \u001b[33mmax\u001b[0m=\u001b[1;36m0\u001b[0m\u001b[1;36m.518\u001b[0m  >\u001b[1;36m0.\u001b[0m\u001b[1;36m5\u001b[0m=\u001b[1;36m0\u001b[0m\u001b[1;36m.039\u001b[0m\n"
      ]
     },
     "metadata": {},
     "output_type": "display_data"
    },
    {
     "data": {
      "text/html": [
       "<pre style=\"white-space:pre;overflow-x:auto;line-height:normal;font-family:Menlo,'DejaVu Sans Mono',consolas,'Courier New',monospace\">E08: <span style=\"color: #800080; text-decoration-color: #800080; font-weight: bold\">AUC</span><span style=\"font-weight: bold\">(</span>EMA<span style=\"font-weight: bold\">)</span>=<span style=\"color: #008080; text-decoration-color: #008080; font-weight: bold\">0.8464</span> <span style=\"color: #808000; text-decoration-color: #808000\">F1</span>=<span style=\"color: #008080; text-decoration-color: #008080; font-weight: bold\">0.2233</span> <span style=\"color: #808000; text-decoration-color: #808000\">ACC</span>=<span style=\"color: #008080; text-decoration-color: #008080; font-weight: bold\">0.7500</span>\n",
       "</pre>\n"
      ],
      "text/plain": [
       "E08: \u001b[1;35mAUC\u001b[0m\u001b[1m(\u001b[0mEMA\u001b[1m)\u001b[0m=\u001b[1;36m0.8464\u001b[0m \u001b[33mF1\u001b[0m=\u001b[1;36m0\u001b[0m\u001b[1;36m.2233\u001b[0m \u001b[33mACC\u001b[0m=\u001b[1;36m0\u001b[0m\u001b[1;36m.7500\u001b[0m\n"
      ]
     },
     "metadata": {},
     "output_type": "display_data"
    },
    {
     "data": {
      "text/html": [
       "<pre style=\"white-space:pre;overflow-x:auto;line-height:normal;font-family:Menlo,'DejaVu Sans Mono',consolas,'Courier New',monospace\">Train loss: <span style=\"color: #008080; text-decoration-color: #008080; font-weight: bold\">0.0739</span>\n",
       "</pre>\n"
      ],
      "text/plain": [
       "Train loss: \u001b[1;36m0.0739\u001b[0m\n"
      ]
     },
     "metadata": {},
     "output_type": "display_data"
    },
    {
     "data": {
      "text/html": [
       "<pre style=\"white-space:pre;overflow-x:auto;line-height:normal;font-family:Menlo,'DejaVu Sans Mono',consolas,'Courier New',monospace\">Val prob stats: <span style=\"color: #808000; text-decoration-color: #808000\">min</span>=<span style=\"color: #008080; text-decoration-color: #008080; font-weight: bold\">0.334</span> <span style=\"color: #808000; text-decoration-color: #808000\">med</span>=<span style=\"color: #008080; text-decoration-color: #008080; font-weight: bold\">0.474</span> <span style=\"color: #808000; text-decoration-color: #808000\">max</span>=<span style=\"color: #008080; text-decoration-color: #008080; font-weight: bold\">0.546</span>  &gt;<span style=\"color: #008080; text-decoration-color: #008080; font-weight: bold\">0.5</span>=<span style=\"color: #008080; text-decoration-color: #008080; font-weight: bold\">0.069</span>\n",
       "</pre>\n"
      ],
      "text/plain": [
       "Val prob stats: \u001b[33mmin\u001b[0m=\u001b[1;36m0\u001b[0m\u001b[1;36m.334\u001b[0m \u001b[33mmed\u001b[0m=\u001b[1;36m0\u001b[0m\u001b[1;36m.474\u001b[0m \u001b[33mmax\u001b[0m=\u001b[1;36m0\u001b[0m\u001b[1;36m.546\u001b[0m  >\u001b[1;36m0.\u001b[0m\u001b[1;36m5\u001b[0m=\u001b[1;36m0\u001b[0m\u001b[1;36m.069\u001b[0m\n"
      ]
     },
     "metadata": {},
     "output_type": "display_data"
    },
    {
     "data": {
      "text/html": [
       "<pre style=\"white-space:pre;overflow-x:auto;line-height:normal;font-family:Menlo,'DejaVu Sans Mono',consolas,'Courier New',monospace\">E09: <span style=\"color: #800080; text-decoration-color: #800080; font-weight: bold\">AUC</span><span style=\"font-weight: bold\">(</span>EMA<span style=\"font-weight: bold\">)</span>=<span style=\"color: #008080; text-decoration-color: #008080; font-weight: bold\">0.8533</span> <span style=\"color: #808000; text-decoration-color: #808000\">F1</span>=<span style=\"color: #008080; text-decoration-color: #008080; font-weight: bold\">0.3556</span> <span style=\"color: #808000; text-decoration-color: #808000\">ACC</span>=<span style=\"color: #008080; text-decoration-color: #008080; font-weight: bold\">0.7734</span>\n",
       "</pre>\n"
      ],
      "text/plain": [
       "E09: \u001b[1;35mAUC\u001b[0m\u001b[1m(\u001b[0mEMA\u001b[1m)\u001b[0m=\u001b[1;36m0.8533\u001b[0m \u001b[33mF1\u001b[0m=\u001b[1;36m0\u001b[0m\u001b[1;36m.3556\u001b[0m \u001b[33mACC\u001b[0m=\u001b[1;36m0\u001b[0m\u001b[1;36m.7734\u001b[0m\n"
      ]
     },
     "metadata": {},
     "output_type": "display_data"
    },
    {
     "data": {
      "text/html": [
       "<pre style=\"white-space:pre;overflow-x:auto;line-height:normal;font-family:Menlo,'DejaVu Sans Mono',consolas,'Courier New',monospace\">Train loss: <span style=\"color: #008080; text-decoration-color: #008080; font-weight: bold\">0.0738</span>\n",
       "</pre>\n"
      ],
      "text/plain": [
       "Train loss: \u001b[1;36m0.0738\u001b[0m\n"
      ]
     },
     "metadata": {},
     "output_type": "display_data"
    },
    {
     "data": {
      "text/html": [
       "<pre style=\"white-space:pre;overflow-x:auto;line-height:normal;font-family:Menlo,'DejaVu Sans Mono',consolas,'Courier New',monospace\">Val prob stats: <span style=\"color: #808000; text-decoration-color: #808000\">min</span>=<span style=\"color: #008080; text-decoration-color: #008080; font-weight: bold\">0.314</span> <span style=\"color: #808000; text-decoration-color: #808000\">med</span>=<span style=\"color: #008080; text-decoration-color: #008080; font-weight: bold\">0.476</span> <span style=\"color: #808000; text-decoration-color: #808000\">max</span>=<span style=\"color: #008080; text-decoration-color: #008080; font-weight: bold\">0.589</span>  &gt;<span style=\"color: #008080; text-decoration-color: #008080; font-weight: bold\">0.5</span>=<span style=\"color: #008080; text-decoration-color: #008080; font-weight: bold\">0.098</span>\n",
       "</pre>\n"
      ],
      "text/plain": [
       "Val prob stats: \u001b[33mmin\u001b[0m=\u001b[1;36m0\u001b[0m\u001b[1;36m.314\u001b[0m \u001b[33mmed\u001b[0m=\u001b[1;36m0\u001b[0m\u001b[1;36m.476\u001b[0m \u001b[33mmax\u001b[0m=\u001b[1;36m0\u001b[0m\u001b[1;36m.589\u001b[0m  >\u001b[1;36m0.\u001b[0m\u001b[1;36m5\u001b[0m=\u001b[1;36m0\u001b[0m\u001b[1;36m.098\u001b[0m\n"
      ]
     },
     "metadata": {},
     "output_type": "display_data"
    },
    {
     "data": {
      "text/html": [
       "<pre style=\"white-space:pre;overflow-x:auto;line-height:normal;font-family:Menlo,'DejaVu Sans Mono',consolas,'Courier New',monospace\">E10: <span style=\"color: #800080; text-decoration-color: #800080; font-weight: bold\">AUC</span><span style=\"font-weight: bold\">(</span>EMA<span style=\"font-weight: bold\">)</span>=<span style=\"color: #008080; text-decoration-color: #008080; font-weight: bold\">0.8574</span> <span style=\"color: #808000; text-decoration-color: #808000\">F1</span>=<span style=\"color: #008080; text-decoration-color: #008080; font-weight: bold\">0.4262</span> <span style=\"color: #808000; text-decoration-color: #808000\">ACC</span>=<span style=\"color: #008080; text-decoration-color: #008080; font-weight: bold\">0.7812</span>\n",
       "</pre>\n"
      ],
      "text/plain": [
       "E10: \u001b[1;35mAUC\u001b[0m\u001b[1m(\u001b[0mEMA\u001b[1m)\u001b[0m=\u001b[1;36m0.8574\u001b[0m \u001b[33mF1\u001b[0m=\u001b[1;36m0\u001b[0m\u001b[1;36m.4262\u001b[0m \u001b[33mACC\u001b[0m=\u001b[1;36m0\u001b[0m\u001b[1;36m.7812\u001b[0m\n"
      ]
     },
     "metadata": {},
     "output_type": "display_data"
    },
    {
     "data": {
      "text/html": [
       "<pre style=\"white-space:pre;overflow-x:auto;line-height:normal;font-family:Menlo,'DejaVu Sans Mono',consolas,'Courier New',monospace\">Train loss: <span style=\"color: #008080; text-decoration-color: #008080; font-weight: bold\">0.0722</span>\n",
       "</pre>\n"
      ],
      "text/plain": [
       "Train loss: \u001b[1;36m0.0722\u001b[0m\n"
      ]
     },
     "metadata": {},
     "output_type": "display_data"
    },
    {
     "data": {
      "text/html": [
       "<pre style=\"white-space:pre;overflow-x:auto;line-height:normal;font-family:Menlo,'DejaVu Sans Mono',consolas,'Courier New',monospace\">Val prob stats: <span style=\"color: #808000; text-decoration-color: #808000\">min</span>=<span style=\"color: #008080; text-decoration-color: #008080; font-weight: bold\">0.288</span> <span style=\"color: #808000; text-decoration-color: #808000\">med</span>=<span style=\"color: #008080; text-decoration-color: #008080; font-weight: bold\">0.478</span> <span style=\"color: #808000; text-decoration-color: #808000\">max</span>=<span style=\"color: #008080; text-decoration-color: #008080; font-weight: bold\">0.639</span>  &gt;<span style=\"color: #008080; text-decoration-color: #008080; font-weight: bold\">0.5</span>=<span style=\"color: #008080; text-decoration-color: #008080; font-weight: bold\">0.116</span>\n",
       "</pre>\n"
      ],
      "text/plain": [
       "Val prob stats: \u001b[33mmin\u001b[0m=\u001b[1;36m0\u001b[0m\u001b[1;36m.288\u001b[0m \u001b[33mmed\u001b[0m=\u001b[1;36m0\u001b[0m\u001b[1;36m.478\u001b[0m \u001b[33mmax\u001b[0m=\u001b[1;36m0\u001b[0m\u001b[1;36m.639\u001b[0m  >\u001b[1;36m0.\u001b[0m\u001b[1;36m5\u001b[0m=\u001b[1;36m0\u001b[0m\u001b[1;36m.116\u001b[0m\n"
      ]
     },
     "metadata": {},
     "output_type": "display_data"
    },
    {
     "data": {
      "text/html": [
       "<pre style=\"white-space:pre;overflow-x:auto;line-height:normal;font-family:Menlo,'DejaVu Sans Mono',consolas,'Courier New',monospace\">E11: <span style=\"color: #800080; text-decoration-color: #800080; font-weight: bold\">AUC</span><span style=\"font-weight: bold\">(</span>EMA<span style=\"font-weight: bold\">)</span>=<span style=\"color: #008080; text-decoration-color: #008080; font-weight: bold\">0.8566</span> <span style=\"color: #808000; text-decoration-color: #808000\">F1</span>=<span style=\"color: #008080; text-decoration-color: #008080; font-weight: bold\">0.4706</span> <span style=\"color: #808000; text-decoration-color: #808000\">ACC</span>=<span style=\"color: #008080; text-decoration-color: #008080; font-weight: bold\">0.7891</span>\n",
       "</pre>\n"
      ],
      "text/plain": [
       "E11: \u001b[1;35mAUC\u001b[0m\u001b[1m(\u001b[0mEMA\u001b[1m)\u001b[0m=\u001b[1;36m0.8566\u001b[0m \u001b[33mF1\u001b[0m=\u001b[1;36m0\u001b[0m\u001b[1;36m.4706\u001b[0m \u001b[33mACC\u001b[0m=\u001b[1;36m0\u001b[0m\u001b[1;36m.7891\u001b[0m\n"
      ]
     },
     "metadata": {},
     "output_type": "display_data"
    },
    {
     "data": {
      "text/html": [
       "<pre style=\"white-space:pre;overflow-x:auto;line-height:normal;font-family:Menlo,'DejaVu Sans Mono',consolas,'Courier New',monospace\">Train loss: <span style=\"color: #008080; text-decoration-color: #008080; font-weight: bold\">0.0714</span>\n",
       "</pre>\n"
      ],
      "text/plain": [
       "Train loss: \u001b[1;36m0.0714\u001b[0m\n"
      ]
     },
     "metadata": {},
     "output_type": "display_data"
    },
    {
     "data": {
      "text/html": [
       "<pre style=\"white-space:pre;overflow-x:auto;line-height:normal;font-family:Menlo,'DejaVu Sans Mono',consolas,'Courier New',monospace\">Val prob stats: <span style=\"color: #808000; text-decoration-color: #808000\">min</span>=<span style=\"color: #008080; text-decoration-color: #008080; font-weight: bold\">0.261</span> <span style=\"color: #808000; text-decoration-color: #808000\">med</span>=<span style=\"color: #008080; text-decoration-color: #008080; font-weight: bold\">0.478</span> <span style=\"color: #808000; text-decoration-color: #808000\">max</span>=<span style=\"color: #008080; text-decoration-color: #008080; font-weight: bold\">0.683</span>  &gt;<span style=\"color: #008080; text-decoration-color: #008080; font-weight: bold\">0.5</span>=<span style=\"color: #008080; text-decoration-color: #008080; font-weight: bold\">0.142</span>\n",
       "</pre>\n"
      ],
      "text/plain": [
       "Val prob stats: \u001b[33mmin\u001b[0m=\u001b[1;36m0\u001b[0m\u001b[1;36m.261\u001b[0m \u001b[33mmed\u001b[0m=\u001b[1;36m0\u001b[0m\u001b[1;36m.478\u001b[0m \u001b[33mmax\u001b[0m=\u001b[1;36m0\u001b[0m\u001b[1;36m.683\u001b[0m  >\u001b[1;36m0.\u001b[0m\u001b[1;36m5\u001b[0m=\u001b[1;36m0\u001b[0m\u001b[1;36m.142\u001b[0m\n"
      ]
     },
     "metadata": {},
     "output_type": "display_data"
    },
    {
     "data": {
      "text/html": [
       "<pre style=\"white-space:pre;overflow-x:auto;line-height:normal;font-family:Menlo,'DejaVu Sans Mono',consolas,'Courier New',monospace\">E12: <span style=\"color: #800080; text-decoration-color: #800080; font-weight: bold\">AUC</span><span style=\"font-weight: bold\">(</span>EMA<span style=\"font-weight: bold\">)</span>=<span style=\"color: #008080; text-decoration-color: #008080; font-weight: bold\">0.8564</span> <span style=\"color: #808000; text-decoration-color: #808000\">F1</span>=<span style=\"color: #008080; text-decoration-color: #008080; font-weight: bold\">0.5074</span> <span style=\"color: #808000; text-decoration-color: #808000\">ACC</span>=<span style=\"color: #008080; text-decoration-color: #008080; font-weight: bold\">0.7906</span>\n",
       "</pre>\n"
      ],
      "text/plain": [
       "E12: \u001b[1;35mAUC\u001b[0m\u001b[1m(\u001b[0mEMA\u001b[1m)\u001b[0m=\u001b[1;36m0.8564\u001b[0m \u001b[33mF1\u001b[0m=\u001b[1;36m0\u001b[0m\u001b[1;36m.5074\u001b[0m \u001b[33mACC\u001b[0m=\u001b[1;36m0\u001b[0m\u001b[1;36m.7906\u001b[0m\n"
      ]
     },
     "metadata": {},
     "output_type": "display_data"
    },
    {
     "data": {
      "text/html": [
       "<pre style=\"white-space:pre;overflow-x:auto;line-height:normal;font-family:Menlo,'DejaVu Sans Mono',consolas,'Courier New',monospace\">Train loss: <span style=\"color: #008080; text-decoration-color: #008080; font-weight: bold\">0.0710</span>\n",
       "</pre>\n"
      ],
      "text/plain": [
       "Train loss: \u001b[1;36m0.0710\u001b[0m\n"
      ]
     },
     "metadata": {},
     "output_type": "display_data"
    },
    {
     "data": {
      "text/html": [
       "<pre style=\"white-space:pre;overflow-x:auto;line-height:normal;font-family:Menlo,'DejaVu Sans Mono',consolas,'Courier New',monospace\">Val prob stats: <span style=\"color: #808000; text-decoration-color: #808000\">min</span>=<span style=\"color: #008080; text-decoration-color: #008080; font-weight: bold\">0.241</span> <span style=\"color: #808000; text-decoration-color: #808000\">med</span>=<span style=\"color: #008080; text-decoration-color: #008080; font-weight: bold\">0.478</span> <span style=\"color: #808000; text-decoration-color: #808000\">max</span>=<span style=\"color: #008080; text-decoration-color: #008080; font-weight: bold\">0.714</span>  &gt;<span style=\"color: #008080; text-decoration-color: #008080; font-weight: bold\">0.5</span>=<span style=\"color: #008080; text-decoration-color: #008080; font-weight: bold\">0.155</span>\n",
       "</pre>\n"
      ],
      "text/plain": [
       "Val prob stats: \u001b[33mmin\u001b[0m=\u001b[1;36m0\u001b[0m\u001b[1;36m.241\u001b[0m \u001b[33mmed\u001b[0m=\u001b[1;36m0\u001b[0m\u001b[1;36m.478\u001b[0m \u001b[33mmax\u001b[0m=\u001b[1;36m0\u001b[0m\u001b[1;36m.714\u001b[0m  >\u001b[1;36m0.\u001b[0m\u001b[1;36m5\u001b[0m=\u001b[1;36m0\u001b[0m\u001b[1;36m.155\u001b[0m\n"
      ]
     },
     "metadata": {},
     "output_type": "display_data"
    },
    {
     "data": {
      "text/html": [
       "<pre style=\"white-space:pre;overflow-x:auto;line-height:normal;font-family:Menlo,'DejaVu Sans Mono',consolas,'Courier New',monospace\">E13: <span style=\"color: #800080; text-decoration-color: #800080; font-weight: bold\">AUC</span><span style=\"font-weight: bold\">(</span>EMA<span style=\"font-weight: bold\">)</span>=<span style=\"color: #008080; text-decoration-color: #008080; font-weight: bold\">0.8556</span> <span style=\"color: #808000; text-decoration-color: #808000\">F1</span>=<span style=\"color: #008080; text-decoration-color: #008080; font-weight: bold\">0.5286</span> <span style=\"color: #808000; text-decoration-color: #808000\">ACC</span>=<span style=\"color: #008080; text-decoration-color: #008080; font-weight: bold\">0.7937</span>\n",
       "</pre>\n"
      ],
      "text/plain": [
       "E13: \u001b[1;35mAUC\u001b[0m\u001b[1m(\u001b[0mEMA\u001b[1m)\u001b[0m=\u001b[1;36m0.8556\u001b[0m \u001b[33mF1\u001b[0m=\u001b[1;36m0\u001b[0m\u001b[1;36m.5286\u001b[0m \u001b[33mACC\u001b[0m=\u001b[1;36m0\u001b[0m\u001b[1;36m.7937\u001b[0m\n"
      ]
     },
     "metadata": {},
     "output_type": "display_data"
    },
    {
     "data": {
      "text/html": [
       "<pre style=\"white-space:pre;overflow-x:auto;line-height:normal;font-family:Menlo,'DejaVu Sans Mono',consolas,'Courier New',monospace\">Train loss: <span style=\"color: #008080; text-decoration-color: #008080; font-weight: bold\">0.0690</span>\n",
       "</pre>\n"
      ],
      "text/plain": [
       "Train loss: \u001b[1;36m0.0690\u001b[0m\n"
      ]
     },
     "metadata": {},
     "output_type": "display_data"
    },
    {
     "data": {
      "text/html": [
       "<pre style=\"white-space:pre;overflow-x:auto;line-height:normal;font-family:Menlo,'DejaVu Sans Mono',consolas,'Courier New',monospace\">Val prob stats: <span style=\"color: #808000; text-decoration-color: #808000\">min</span>=<span style=\"color: #008080; text-decoration-color: #008080; font-weight: bold\">0.223</span> <span style=\"color: #808000; text-decoration-color: #808000\">med</span>=<span style=\"color: #008080; text-decoration-color: #008080; font-weight: bold\">0.476</span> <span style=\"color: #808000; text-decoration-color: #808000\">max</span>=<span style=\"color: #008080; text-decoration-color: #008080; font-weight: bold\">0.743</span>  &gt;<span style=\"color: #008080; text-decoration-color: #008080; font-weight: bold\">0.5</span>=<span style=\"color: #008080; text-decoration-color: #008080; font-weight: bold\">0.159</span>\n",
       "</pre>\n"
      ],
      "text/plain": [
       "Val prob stats: \u001b[33mmin\u001b[0m=\u001b[1;36m0\u001b[0m\u001b[1;36m.223\u001b[0m \u001b[33mmed\u001b[0m=\u001b[1;36m0\u001b[0m\u001b[1;36m.476\u001b[0m \u001b[33mmax\u001b[0m=\u001b[1;36m0\u001b[0m\u001b[1;36m.743\u001b[0m  >\u001b[1;36m0.\u001b[0m\u001b[1;36m5\u001b[0m=\u001b[1;36m0\u001b[0m\u001b[1;36m.159\u001b[0m\n"
      ]
     },
     "metadata": {},
     "output_type": "display_data"
    },
    {
     "data": {
      "text/html": [
       "<pre style=\"white-space:pre;overflow-x:auto;line-height:normal;font-family:Menlo,'DejaVu Sans Mono',consolas,'Courier New',monospace\">E14: <span style=\"color: #800080; text-decoration-color: #800080; font-weight: bold\">AUC</span><span style=\"font-weight: bold\">(</span>EMA<span style=\"font-weight: bold\">)</span>=<span style=\"color: #008080; text-decoration-color: #008080; font-weight: bold\">0.8555</span> <span style=\"color: #808000; text-decoration-color: #808000\">F1</span>=<span style=\"color: #008080; text-decoration-color: #008080; font-weight: bold\">0.5371</span> <span style=\"color: #808000; text-decoration-color: #808000\">ACC</span>=<span style=\"color: #008080; text-decoration-color: #008080; font-weight: bold\">0.7953</span>\n",
       "</pre>\n"
      ],
      "text/plain": [
       "E14: \u001b[1;35mAUC\u001b[0m\u001b[1m(\u001b[0mEMA\u001b[1m)\u001b[0m=\u001b[1;36m0.8555\u001b[0m \u001b[33mF1\u001b[0m=\u001b[1;36m0\u001b[0m\u001b[1;36m.5371\u001b[0m \u001b[33mACC\u001b[0m=\u001b[1;36m0\u001b[0m\u001b[1;36m.7953\u001b[0m\n"
      ]
     },
     "metadata": {},
     "output_type": "display_data"
    },
    {
     "data": {
      "text/html": [
       "<pre style=\"white-space:pre;overflow-x:auto;line-height:normal;font-family:Menlo,'DejaVu Sans Mono',consolas,'Courier New',monospace\">Train loss: <span style=\"color: #008080; text-decoration-color: #008080; font-weight: bold\">0.0689</span>\n",
       "</pre>\n"
      ],
      "text/plain": [
       "Train loss: \u001b[1;36m0.0689\u001b[0m\n"
      ]
     },
     "metadata": {},
     "output_type": "display_data"
    },
    {
     "data": {
      "text/html": [
       "<pre style=\"white-space:pre;overflow-x:auto;line-height:normal;font-family:Menlo,'DejaVu Sans Mono',consolas,'Courier New',monospace\">Val prob stats: <span style=\"color: #808000; text-decoration-color: #808000\">min</span>=<span style=\"color: #008080; text-decoration-color: #008080; font-weight: bold\">0.210</span> <span style=\"color: #808000; text-decoration-color: #808000\">med</span>=<span style=\"color: #008080; text-decoration-color: #008080; font-weight: bold\">0.476</span> <span style=\"color: #808000; text-decoration-color: #808000\">max</span>=<span style=\"color: #008080; text-decoration-color: #008080; font-weight: bold\">0.773</span>  &gt;<span style=\"color: #008080; text-decoration-color: #008080; font-weight: bold\">0.5</span>=<span style=\"color: #008080; text-decoration-color: #008080; font-weight: bold\">0.167</span>\n",
       "</pre>\n"
      ],
      "text/plain": [
       "Val prob stats: \u001b[33mmin\u001b[0m=\u001b[1;36m0\u001b[0m\u001b[1;36m.210\u001b[0m \u001b[33mmed\u001b[0m=\u001b[1;36m0\u001b[0m\u001b[1;36m.476\u001b[0m \u001b[33mmax\u001b[0m=\u001b[1;36m0\u001b[0m\u001b[1;36m.773\u001b[0m  >\u001b[1;36m0.\u001b[0m\u001b[1;36m5\u001b[0m=\u001b[1;36m0\u001b[0m\u001b[1;36m.167\u001b[0m\n"
      ]
     },
     "metadata": {},
     "output_type": "display_data"
    },
    {
     "data": {
      "text/html": [
       "<pre style=\"white-space:pre;overflow-x:auto;line-height:normal;font-family:Menlo,'DejaVu Sans Mono',consolas,'Courier New',monospace\">E15: <span style=\"color: #800080; text-decoration-color: #800080; font-weight: bold\">AUC</span><span style=\"font-weight: bold\">(</span>EMA<span style=\"font-weight: bold\">)</span>=<span style=\"color: #008080; text-decoration-color: #008080; font-weight: bold\">0.8550</span> <span style=\"color: #808000; text-decoration-color: #808000\">F1</span>=<span style=\"color: #008080; text-decoration-color: #008080; font-weight: bold\">0.5625</span> <span style=\"color: #808000; text-decoration-color: #808000\">ACC</span>=<span style=\"color: #008080; text-decoration-color: #008080; font-weight: bold\">0.8031</span>\n",
       "</pre>\n"
      ],
      "text/plain": [
       "E15: \u001b[1;35mAUC\u001b[0m\u001b[1m(\u001b[0mEMA\u001b[1m)\u001b[0m=\u001b[1;36m0.8550\u001b[0m \u001b[33mF1\u001b[0m=\u001b[1;36m0\u001b[0m\u001b[1;36m.5625\u001b[0m \u001b[33mACC\u001b[0m=\u001b[1;36m0\u001b[0m\u001b[1;36m.8031\u001b[0m\n"
      ]
     },
     "metadata": {},
     "output_type": "display_data"
    },
    {
     "data": {
      "text/html": [
       "<pre style=\"white-space:pre;overflow-x:auto;line-height:normal;font-family:Menlo,'DejaVu Sans Mono',consolas,'Courier New',monospace\"><span style=\"color: #808000; text-decoration-color: #808000\">Early stopping</span>\n",
       "</pre>\n"
      ],
      "text/plain": [
       "\u001b[33mEarly stopping\u001b[0m\n"
      ]
     },
     "metadata": {},
     "output_type": "display_data"
    },
    {
     "data": {
      "text/html": [
       "<pre style=\"white-space:pre;overflow-x:auto;line-height:normal;font-family:Menlo,'DejaVu Sans Mono',consolas,'Courier New',monospace\"><span style=\"color: #808000; text-decoration-color: #808000; font-weight: bold\">Fold </span><span style=\"color: #808000; text-decoration-color: #808000; font-weight: bold\">1</span><span style=\"color: #808000; text-decoration-color: #808000; font-weight: bold\"> fitted T: </span><span style=\"color: #808000; text-decoration-color: #808000; font-weight: bold\">0.307</span>\n",
       "</pre>\n"
      ],
      "text/plain": [
       "\u001b[1;33mFold \u001b[0m\u001b[1;33m1\u001b[0m\u001b[1;33m fitted T: \u001b[0m\u001b[1;33m0.307\u001b[0m\n"
      ]
     },
     "metadata": {},
     "output_type": "display_data"
    },
    {
     "data": {
      "text/html": [
       "<pre style=\"white-space:pre;overflow-x:auto;line-height:normal;font-family:Menlo,'DejaVu Sans Mono',consolas,'Courier New',monospace\">\n",
       "<span style=\"color: #008080; text-decoration-color: #008080; font-weight: bold\">========= FOLD </span><span style=\"color: #008080; text-decoration-color: #008080; font-weight: bold\">2</span><span style=\"color: #008080; text-decoration-color: #008080; font-weight: bold\">/</span><span style=\"color: #008080; text-decoration-color: #008080; font-weight: bold\">5</span><span style=\"color: #008080; text-decoration-color: #008080; font-weight: bold\"> =========</span>\n",
       "</pre>\n"
      ],
      "text/plain": [
       "\n",
       "\u001b[1;36m========= FOLD \u001b[0m\u001b[1;36m2\u001b[0m\u001b[1;36m/\u001b[0m\u001b[1;36m5\u001b[0m\u001b[1;36m =========\u001b[0m\n"
      ]
     },
     "metadata": {},
     "output_type": "display_data"
    },
    {
     "data": {
      "text/html": [
       "<pre style=\"white-space:pre;overflow-x:auto;line-height:normal;font-family:Menlo,'DejaVu Sans Mono',consolas,'Courier New',monospace\"><span style=\"color: #808000; text-decoration-color: #808000\">Init classifier bias to prior </span><span style=\"color: #808000; text-decoration-color: #808000\">logit</span><span style=\"color: #808000; text-decoration-color: #808000\">=</span><span style=\"color: #808000; text-decoration-color: #808000; font-weight: bold\">-0.934</span><span style=\"color: #808000; text-decoration-color: #808000\"> </span><span style=\"color: #808000; text-decoration-color: #808000; font-weight: bold\">(</span><span style=\"color: #808000; text-decoration-color: #808000\">prior</span><span style=\"color: #808000; text-decoration-color: #808000\">=</span><span style=\"color: #808000; text-decoration-color: #808000; font-weight: bold\">0.282</span><span style=\"color: #808000; text-decoration-color: #808000; font-weight: bold\">)</span>\n",
       "</pre>\n"
      ],
      "text/plain": [
       "\u001b[33mInit classifier bias to prior \u001b[0m\u001b[33mlogit\u001b[0m\u001b[33m=\u001b[0m\u001b[1;33m-0.934\u001b[0m\u001b[33m \u001b[0m\u001b[1;33m(\u001b[0m\u001b[33mprior\u001b[0m\u001b[33m=\u001b[0m\u001b[1;33m0\u001b[0m\u001b[1;33m.282\u001b[0m\u001b[1;33m)\u001b[0m\n"
      ]
     },
     "metadata": {},
     "output_type": "display_data"
    },
    {
     "data": {
      "text/html": [
       "<pre style=\"white-space:pre;overflow-x:auto;line-height:normal;font-family:Menlo,'DejaVu Sans Mono',consolas,'Courier New',monospace\">Train loss: <span style=\"color: #008080; text-decoration-color: #008080; font-weight: bold\">0.0895</span>\n",
       "</pre>\n"
      ],
      "text/plain": [
       "Train loss: \u001b[1;36m0.0895\u001b[0m\n"
      ]
     },
     "metadata": {},
     "output_type": "display_data"
    },
    {
     "data": {
      "text/html": [
       "<pre style=\"white-space:pre;overflow-x:auto;line-height:normal;font-family:Menlo,'DejaVu Sans Mono',consolas,'Courier New',monospace\">Val prob stats: <span style=\"color: #808000; text-decoration-color: #808000\">min</span>=<span style=\"color: #008080; text-decoration-color: #008080; font-weight: bold\">0.291</span> <span style=\"color: #808000; text-decoration-color: #808000\">med</span>=<span style=\"color: #008080; text-decoration-color: #008080; font-weight: bold\">0.348</span> <span style=\"color: #808000; text-decoration-color: #808000\">max</span>=<span style=\"color: #008080; text-decoration-color: #008080; font-weight: bold\">0.394</span>  &gt;<span style=\"color: #008080; text-decoration-color: #008080; font-weight: bold\">0.5</span>=<span style=\"color: #008080; text-decoration-color: #008080; font-weight: bold\">0.000</span>\n",
       "</pre>\n"
      ],
      "text/plain": [
       "Val prob stats: \u001b[33mmin\u001b[0m=\u001b[1;36m0\u001b[0m\u001b[1;36m.291\u001b[0m \u001b[33mmed\u001b[0m=\u001b[1;36m0\u001b[0m\u001b[1;36m.348\u001b[0m \u001b[33mmax\u001b[0m=\u001b[1;36m0\u001b[0m\u001b[1;36m.394\u001b[0m  >\u001b[1;36m0.\u001b[0m\u001b[1;36m5\u001b[0m=\u001b[1;36m0\u001b[0m\u001b[1;36m.000\u001b[0m\n"
      ]
     },
     "metadata": {},
     "output_type": "display_data"
    },
    {
     "data": {
      "text/html": [
       "<pre style=\"white-space:pre;overflow-x:auto;line-height:normal;font-family:Menlo,'DejaVu Sans Mono',consolas,'Courier New',monospace\">E01: <span style=\"color: #800080; text-decoration-color: #800080; font-weight: bold\">AUC</span><span style=\"font-weight: bold\">(</span>EMA<span style=\"font-weight: bold\">)</span>=<span style=\"color: #008080; text-decoration-color: #008080; font-weight: bold\">0.5413</span> <span style=\"color: #808000; text-decoration-color: #808000\">F1</span>=<span style=\"color: #008080; text-decoration-color: #008080; font-weight: bold\">0.0000</span> <span style=\"color: #808000; text-decoration-color: #808000\">ACC</span>=<span style=\"color: #008080; text-decoration-color: #008080; font-weight: bold\">0.7172</span>\n",
       "</pre>\n"
      ],
      "text/plain": [
       "E01: \u001b[1;35mAUC\u001b[0m\u001b[1m(\u001b[0mEMA\u001b[1m)\u001b[0m=\u001b[1;36m0.5413\u001b[0m \u001b[33mF1\u001b[0m=\u001b[1;36m0\u001b[0m\u001b[1;36m.0000\u001b[0m \u001b[33mACC\u001b[0m=\u001b[1;36m0\u001b[0m\u001b[1;36m.7172\u001b[0m\n"
      ]
     },
     "metadata": {},
     "output_type": "display_data"
    },
    {
     "data": {
      "text/html": [
       "<pre style=\"white-space:pre;overflow-x:auto;line-height:normal;font-family:Menlo,'DejaVu Sans Mono',consolas,'Courier New',monospace\">Train loss: <span style=\"color: #008080; text-decoration-color: #008080; font-weight: bold\">0.0791</span>\n",
       "</pre>\n"
      ],
      "text/plain": [
       "Train loss: \u001b[1;36m0.0791\u001b[0m\n"
      ]
     },
     "metadata": {},
     "output_type": "display_data"
    },
    {
     "data": {
      "text/html": [
       "<pre style=\"white-space:pre;overflow-x:auto;line-height:normal;font-family:Menlo,'DejaVu Sans Mono',consolas,'Courier New',monospace\">Val prob stats: <span style=\"color: #808000; text-decoration-color: #808000\">min</span>=<span style=\"color: #008080; text-decoration-color: #008080; font-weight: bold\">0.323</span> <span style=\"color: #808000; text-decoration-color: #808000\">med</span>=<span style=\"color: #008080; text-decoration-color: #008080; font-weight: bold\">0.395</span> <span style=\"color: #808000; text-decoration-color: #808000\">max</span>=<span style=\"color: #008080; text-decoration-color: #008080; font-weight: bold\">0.472</span>  &gt;<span style=\"color: #008080; text-decoration-color: #008080; font-weight: bold\">0.5</span>=<span style=\"color: #008080; text-decoration-color: #008080; font-weight: bold\">0.000</span>\n",
       "</pre>\n"
      ],
      "text/plain": [
       "Val prob stats: \u001b[33mmin\u001b[0m=\u001b[1;36m0\u001b[0m\u001b[1;36m.323\u001b[0m \u001b[33mmed\u001b[0m=\u001b[1;36m0\u001b[0m\u001b[1;36m.395\u001b[0m \u001b[33mmax\u001b[0m=\u001b[1;36m0\u001b[0m\u001b[1;36m.472\u001b[0m  >\u001b[1;36m0.\u001b[0m\u001b[1;36m5\u001b[0m=\u001b[1;36m0\u001b[0m\u001b[1;36m.000\u001b[0m\n"
      ]
     },
     "metadata": {},
     "output_type": "display_data"
    },
    {
     "data": {
      "text/html": [
       "<pre style=\"white-space:pre;overflow-x:auto;line-height:normal;font-family:Menlo,'DejaVu Sans Mono',consolas,'Courier New',monospace\">E02: <span style=\"color: #800080; text-decoration-color: #800080; font-weight: bold\">AUC</span><span style=\"font-weight: bold\">(</span>EMA<span style=\"font-weight: bold\">)</span>=<span style=\"color: #008080; text-decoration-color: #008080; font-weight: bold\">0.6891</span> <span style=\"color: #808000; text-decoration-color: #808000\">F1</span>=<span style=\"color: #008080; text-decoration-color: #008080; font-weight: bold\">0.0000</span> <span style=\"color: #808000; text-decoration-color: #808000\">ACC</span>=<span style=\"color: #008080; text-decoration-color: #008080; font-weight: bold\">0.7172</span>\n",
       "</pre>\n"
      ],
      "text/plain": [
       "E02: \u001b[1;35mAUC\u001b[0m\u001b[1m(\u001b[0mEMA\u001b[1m)\u001b[0m=\u001b[1;36m0.6891\u001b[0m \u001b[33mF1\u001b[0m=\u001b[1;36m0\u001b[0m\u001b[1;36m.0000\u001b[0m \u001b[33mACC\u001b[0m=\u001b[1;36m0\u001b[0m\u001b[1;36m.7172\u001b[0m\n"
      ]
     },
     "metadata": {},
     "output_type": "display_data"
    },
    {
     "data": {
      "text/html": [
       "<pre style=\"white-space:pre;overflow-x:auto;line-height:normal;font-family:Menlo,'DejaVu Sans Mono',consolas,'Courier New',monospace\">Train loss: <span style=\"color: #008080; text-decoration-color: #008080; font-weight: bold\">0.0785</span>\n",
       "</pre>\n"
      ],
      "text/plain": [
       "Train loss: \u001b[1;36m0.0785\u001b[0m\n"
      ]
     },
     "metadata": {},
     "output_type": "display_data"
    },
    {
     "data": {
      "text/html": [
       "<pre style=\"white-space:pre;overflow-x:auto;line-height:normal;font-family:Menlo,'DejaVu Sans Mono',consolas,'Courier New',monospace\">Val prob stats: <span style=\"color: #808000; text-decoration-color: #808000\">min</span>=<span style=\"color: #008080; text-decoration-color: #008080; font-weight: bold\">0.318</span> <span style=\"color: #808000; text-decoration-color: #808000\">med</span>=<span style=\"color: #008080; text-decoration-color: #008080; font-weight: bold\">0.420</span> <span style=\"color: #808000; text-decoration-color: #808000\">max</span>=<span style=\"color: #008080; text-decoration-color: #008080; font-weight: bold\">0.530</span>  &gt;<span style=\"color: #008080; text-decoration-color: #008080; font-weight: bold\">0.5</span>=<span style=\"color: #008080; text-decoration-color: #008080; font-weight: bold\">0.005</span>\n",
       "</pre>\n"
      ],
      "text/plain": [
       "Val prob stats: \u001b[33mmin\u001b[0m=\u001b[1;36m0\u001b[0m\u001b[1;36m.318\u001b[0m \u001b[33mmed\u001b[0m=\u001b[1;36m0\u001b[0m\u001b[1;36m.420\u001b[0m \u001b[33mmax\u001b[0m=\u001b[1;36m0\u001b[0m\u001b[1;36m.530\u001b[0m  >\u001b[1;36m0.\u001b[0m\u001b[1;36m5\u001b[0m=\u001b[1;36m0\u001b[0m\u001b[1;36m.005\u001b[0m\n"
      ]
     },
     "metadata": {},
     "output_type": "display_data"
    },
    {
     "data": {
      "text/html": [
       "<pre style=\"white-space:pre;overflow-x:auto;line-height:normal;font-family:Menlo,'DejaVu Sans Mono',consolas,'Courier New',monospace\">E03: <span style=\"color: #800080; text-decoration-color: #800080; font-weight: bold\">AUC</span><span style=\"font-weight: bold\">(</span>EMA<span style=\"font-weight: bold\">)</span>=<span style=\"color: #008080; text-decoration-color: #008080; font-weight: bold\">0.7657</span> <span style=\"color: #808000; text-decoration-color: #808000\">F1</span>=<span style=\"color: #008080; text-decoration-color: #008080; font-weight: bold\">0.0326</span> <span style=\"color: #808000; text-decoration-color: #808000\">ACC</span>=<span style=\"color: #008080; text-decoration-color: #008080; font-weight: bold\">0.7219</span>\n",
       "</pre>\n"
      ],
      "text/plain": [
       "E03: \u001b[1;35mAUC\u001b[0m\u001b[1m(\u001b[0mEMA\u001b[1m)\u001b[0m=\u001b[1;36m0.7657\u001b[0m \u001b[33mF1\u001b[0m=\u001b[1;36m0\u001b[0m\u001b[1;36m.0326\u001b[0m \u001b[33mACC\u001b[0m=\u001b[1;36m0\u001b[0m\u001b[1;36m.7219\u001b[0m\n"
      ]
     },
     "metadata": {},
     "output_type": "display_data"
    },
    {
     "data": {
      "text/html": [
       "<pre style=\"white-space:pre;overflow-x:auto;line-height:normal;font-family:Menlo,'DejaVu Sans Mono',consolas,'Courier New',monospace\">Train loss: <span style=\"color: #008080; text-decoration-color: #008080; font-weight: bold\">0.0808</span>\n",
       "</pre>\n"
      ],
      "text/plain": [
       "Train loss: \u001b[1;36m0.0808\u001b[0m\n"
      ]
     },
     "metadata": {},
     "output_type": "display_data"
    },
    {
     "data": {
      "text/html": [
       "<pre style=\"white-space:pre;overflow-x:auto;line-height:normal;font-family:Menlo,'DejaVu Sans Mono',consolas,'Courier New',monospace\">Val prob stats: <span style=\"color: #808000; text-decoration-color: #808000\">min</span>=<span style=\"color: #008080; text-decoration-color: #008080; font-weight: bold\">0.332</span> <span style=\"color: #808000; text-decoration-color: #808000\">med</span>=<span style=\"color: #008080; text-decoration-color: #008080; font-weight: bold\">0.437</span> <span style=\"color: #808000; text-decoration-color: #808000\">max</span>=<span style=\"color: #008080; text-decoration-color: #008080; font-weight: bold\">0.516</span>  &gt;<span style=\"color: #008080; text-decoration-color: #008080; font-weight: bold\">0.5</span>=<span style=\"color: #008080; text-decoration-color: #008080; font-weight: bold\">0.005</span>\n",
       "</pre>\n"
      ],
      "text/plain": [
       "Val prob stats: \u001b[33mmin\u001b[0m=\u001b[1;36m0\u001b[0m\u001b[1;36m.332\u001b[0m \u001b[33mmed\u001b[0m=\u001b[1;36m0\u001b[0m\u001b[1;36m.437\u001b[0m \u001b[33mmax\u001b[0m=\u001b[1;36m0\u001b[0m\u001b[1;36m.516\u001b[0m  >\u001b[1;36m0.\u001b[0m\u001b[1;36m5\u001b[0m=\u001b[1;36m0\u001b[0m\u001b[1;36m.005\u001b[0m\n"
      ]
     },
     "metadata": {},
     "output_type": "display_data"
    },
    {
     "data": {
      "text/html": [
       "<pre style=\"white-space:pre;overflow-x:auto;line-height:normal;font-family:Menlo,'DejaVu Sans Mono',consolas,'Courier New',monospace\">E04: <span style=\"color: #800080; text-decoration-color: #800080; font-weight: bold\">AUC</span><span style=\"font-weight: bold\">(</span>EMA<span style=\"font-weight: bold\">)</span>=<span style=\"color: #008080; text-decoration-color: #008080; font-weight: bold\">0.7792</span> <span style=\"color: #808000; text-decoration-color: #808000\">F1</span>=<span style=\"color: #008080; text-decoration-color: #008080; font-weight: bold\">0.0326</span> <span style=\"color: #808000; text-decoration-color: #808000\">ACC</span>=<span style=\"color: #008080; text-decoration-color: #008080; font-weight: bold\">0.7219</span>\n",
       "</pre>\n"
      ],
      "text/plain": [
       "E04: \u001b[1;35mAUC\u001b[0m\u001b[1m(\u001b[0mEMA\u001b[1m)\u001b[0m=\u001b[1;36m0.7792\u001b[0m \u001b[33mF1\u001b[0m=\u001b[1;36m0\u001b[0m\u001b[1;36m.0326\u001b[0m \u001b[33mACC\u001b[0m=\u001b[1;36m0\u001b[0m\u001b[1;36m.7219\u001b[0m\n"
      ]
     },
     "metadata": {},
     "output_type": "display_data"
    },
    {
     "data": {
      "text/html": [
       "<pre style=\"white-space:pre;overflow-x:auto;line-height:normal;font-family:Menlo,'DejaVu Sans Mono',consolas,'Courier New',monospace\">Train loss: <span style=\"color: #008080; text-decoration-color: #008080; font-weight: bold\">0.0753</span>\n",
       "</pre>\n"
      ],
      "text/plain": [
       "Train loss: \u001b[1;36m0.0753\u001b[0m\n"
      ]
     },
     "metadata": {},
     "output_type": "display_data"
    },
    {
     "data": {
      "text/html": [
       "<pre style=\"white-space:pre;overflow-x:auto;line-height:normal;font-family:Menlo,'DejaVu Sans Mono',consolas,'Courier New',monospace\">Val prob stats: <span style=\"color: #808000; text-decoration-color: #808000\">min</span>=<span style=\"color: #008080; text-decoration-color: #008080; font-weight: bold\">0.329</span> <span style=\"color: #808000; text-decoration-color: #808000\">med</span>=<span style=\"color: #008080; text-decoration-color: #008080; font-weight: bold\">0.445</span> <span style=\"color: #808000; text-decoration-color: #808000\">max</span>=<span style=\"color: #008080; text-decoration-color: #008080; font-weight: bold\">0.548</span>  &gt;<span style=\"color: #008080; text-decoration-color: #008080; font-weight: bold\">0.5</span>=<span style=\"color: #008080; text-decoration-color: #008080; font-weight: bold\">0.030</span>\n",
       "</pre>\n"
      ],
      "text/plain": [
       "Val prob stats: \u001b[33mmin\u001b[0m=\u001b[1;36m0\u001b[0m\u001b[1;36m.329\u001b[0m \u001b[33mmed\u001b[0m=\u001b[1;36m0\u001b[0m\u001b[1;36m.445\u001b[0m \u001b[33mmax\u001b[0m=\u001b[1;36m0\u001b[0m\u001b[1;36m.548\u001b[0m  >\u001b[1;36m0.\u001b[0m\u001b[1;36m5\u001b[0m=\u001b[1;36m0\u001b[0m\u001b[1;36m.030\u001b[0m\n"
      ]
     },
     "metadata": {},
     "output_type": "display_data"
    },
    {
     "data": {
      "text/html": [
       "<pre style=\"white-space:pre;overflow-x:auto;line-height:normal;font-family:Menlo,'DejaVu Sans Mono',consolas,'Courier New',monospace\">E05: <span style=\"color: #800080; text-decoration-color: #800080; font-weight: bold\">AUC</span><span style=\"font-weight: bold\">(</span>EMA<span style=\"font-weight: bold\">)</span>=<span style=\"color: #008080; text-decoration-color: #008080; font-weight: bold\">0.7831</span> <span style=\"color: #808000; text-decoration-color: #808000\">F1</span>=<span style=\"color: #008080; text-decoration-color: #008080; font-weight: bold\">0.1700</span> <span style=\"color: #808000; text-decoration-color: #808000\">ACC</span>=<span style=\"color: #008080; text-decoration-color: #008080; font-weight: bold\">0.7406</span>\n",
       "</pre>\n"
      ],
      "text/plain": [
       "E05: \u001b[1;35mAUC\u001b[0m\u001b[1m(\u001b[0mEMA\u001b[1m)\u001b[0m=\u001b[1;36m0.7831\u001b[0m \u001b[33mF1\u001b[0m=\u001b[1;36m0\u001b[0m\u001b[1;36m.1700\u001b[0m \u001b[33mACC\u001b[0m=\u001b[1;36m0\u001b[0m\u001b[1;36m.7406\u001b[0m\n"
      ]
     },
     "metadata": {},
     "output_type": "display_data"
    },
    {
     "data": {
      "text/html": [
       "<pre style=\"white-space:pre;overflow-x:auto;line-height:normal;font-family:Menlo,'DejaVu Sans Mono',consolas,'Courier New',monospace\">Train loss: <span style=\"color: #008080; text-decoration-color: #008080; font-weight: bold\">0.0741</span>\n",
       "</pre>\n"
      ],
      "text/plain": [
       "Train loss: \u001b[1;36m0.0741\u001b[0m\n"
      ]
     },
     "metadata": {},
     "output_type": "display_data"
    },
    {
     "data": {
      "text/html": [
       "<pre style=\"white-space:pre;overflow-x:auto;line-height:normal;font-family:Menlo,'DejaVu Sans Mono',consolas,'Courier New',monospace\">Val prob stats: <span style=\"color: #808000; text-decoration-color: #808000\">min</span>=<span style=\"color: #008080; text-decoration-color: #008080; font-weight: bold\">0.315</span> <span style=\"color: #808000; text-decoration-color: #808000\">med</span>=<span style=\"color: #008080; text-decoration-color: #008080; font-weight: bold\">0.453</span> <span style=\"color: #808000; text-decoration-color: #808000\">max</span>=<span style=\"color: #008080; text-decoration-color: #008080; font-weight: bold\">0.597</span>  &gt;<span style=\"color: #008080; text-decoration-color: #008080; font-weight: bold\">0.5</span>=<span style=\"color: #008080; text-decoration-color: #008080; font-weight: bold\">0.056</span>\n",
       "</pre>\n"
      ],
      "text/plain": [
       "Val prob stats: \u001b[33mmin\u001b[0m=\u001b[1;36m0\u001b[0m\u001b[1;36m.315\u001b[0m \u001b[33mmed\u001b[0m=\u001b[1;36m0\u001b[0m\u001b[1;36m.453\u001b[0m \u001b[33mmax\u001b[0m=\u001b[1;36m0\u001b[0m\u001b[1;36m.597\u001b[0m  >\u001b[1;36m0.\u001b[0m\u001b[1;36m5\u001b[0m=\u001b[1;36m0\u001b[0m\u001b[1;36m.056\u001b[0m\n"
      ]
     },
     "metadata": {},
     "output_type": "display_data"
    },
    {
     "data": {
      "text/html": [
       "<pre style=\"white-space:pre;overflow-x:auto;line-height:normal;font-family:Menlo,'DejaVu Sans Mono',consolas,'Courier New',monospace\">E06: <span style=\"color: #800080; text-decoration-color: #800080; font-weight: bold\">AUC</span><span style=\"font-weight: bold\">(</span>EMA<span style=\"font-weight: bold\">)</span>=<span style=\"color: #008080; text-decoration-color: #008080; font-weight: bold\">0.7888</span> <span style=\"color: #808000; text-decoration-color: #808000\">F1</span>=<span style=\"color: #008080; text-decoration-color: #008080; font-weight: bold\">0.2949</span> <span style=\"color: #808000; text-decoration-color: #808000\">ACC</span>=<span style=\"color: #008080; text-decoration-color: #008080; font-weight: bold\">0.7609</span>\n",
       "</pre>\n"
      ],
      "text/plain": [
       "E06: \u001b[1;35mAUC\u001b[0m\u001b[1m(\u001b[0mEMA\u001b[1m)\u001b[0m=\u001b[1;36m0.7888\u001b[0m \u001b[33mF1\u001b[0m=\u001b[1;36m0\u001b[0m\u001b[1;36m.2949\u001b[0m \u001b[33mACC\u001b[0m=\u001b[1;36m0\u001b[0m\u001b[1;36m.7609\u001b[0m\n"
      ]
     },
     "metadata": {},
     "output_type": "display_data"
    },
    {
     "data": {
      "text/html": [
       "<pre style=\"white-space:pre;overflow-x:auto;line-height:normal;font-family:Menlo,'DejaVu Sans Mono',consolas,'Courier New',monospace\">Train loss: <span style=\"color: #008080; text-decoration-color: #008080; font-weight: bold\">0.0723</span>\n",
       "</pre>\n"
      ],
      "text/plain": [
       "Train loss: \u001b[1;36m0.0723\u001b[0m\n"
      ]
     },
     "metadata": {},
     "output_type": "display_data"
    },
    {
     "data": {
      "text/html": [
       "<pre style=\"white-space:pre;overflow-x:auto;line-height:normal;font-family:Menlo,'DejaVu Sans Mono',consolas,'Courier New',monospace\">Val prob stats: <span style=\"color: #808000; text-decoration-color: #808000\">min</span>=<span style=\"color: #008080; text-decoration-color: #008080; font-weight: bold\">0.299</span> <span style=\"color: #808000; text-decoration-color: #808000\">med</span>=<span style=\"color: #008080; text-decoration-color: #008080; font-weight: bold\">0.452</span> <span style=\"color: #808000; text-decoration-color: #808000\">max</span>=<span style=\"color: #008080; text-decoration-color: #008080; font-weight: bold\">0.647</span>  &gt;<span style=\"color: #008080; text-decoration-color: #008080; font-weight: bold\">0.5</span>=<span style=\"color: #008080; text-decoration-color: #008080; font-weight: bold\">0.080</span>\n",
       "</pre>\n"
      ],
      "text/plain": [
       "Val prob stats: \u001b[33mmin\u001b[0m=\u001b[1;36m0\u001b[0m\u001b[1;36m.299\u001b[0m \u001b[33mmed\u001b[0m=\u001b[1;36m0\u001b[0m\u001b[1;36m.452\u001b[0m \u001b[33mmax\u001b[0m=\u001b[1;36m0\u001b[0m\u001b[1;36m.647\u001b[0m  >\u001b[1;36m0.\u001b[0m\u001b[1;36m5\u001b[0m=\u001b[1;36m0\u001b[0m\u001b[1;36m.080\u001b[0m\n"
      ]
     },
     "metadata": {},
     "output_type": "display_data"
    },
    {
     "data": {
      "text/html": [
       "<pre style=\"white-space:pre;overflow-x:auto;line-height:normal;font-family:Menlo,'DejaVu Sans Mono',consolas,'Courier New',monospace\">E07: <span style=\"color: #800080; text-decoration-color: #800080; font-weight: bold\">AUC</span><span style=\"font-weight: bold\">(</span>EMA<span style=\"font-weight: bold\">)</span>=<span style=\"color: #008080; text-decoration-color: #008080; font-weight: bold\">0.7923</span> <span style=\"color: #808000; text-decoration-color: #808000\">F1</span>=<span style=\"color: #008080; text-decoration-color: #008080; font-weight: bold\">0.3707</span> <span style=\"color: #808000; text-decoration-color: #808000\">ACC</span>=<span style=\"color: #008080; text-decoration-color: #008080; font-weight: bold\">0.7719</span>\n",
       "</pre>\n"
      ],
      "text/plain": [
       "E07: \u001b[1;35mAUC\u001b[0m\u001b[1m(\u001b[0mEMA\u001b[1m)\u001b[0m=\u001b[1;36m0.7923\u001b[0m \u001b[33mF1\u001b[0m=\u001b[1;36m0\u001b[0m\u001b[1;36m.3707\u001b[0m \u001b[33mACC\u001b[0m=\u001b[1;36m0\u001b[0m\u001b[1;36m.7719\u001b[0m\n"
      ]
     },
     "metadata": {},
     "output_type": "display_data"
    },
    {
     "data": {
      "text/html": [
       "<pre style=\"white-space:pre;overflow-x:auto;line-height:normal;font-family:Menlo,'DejaVu Sans Mono',consolas,'Courier New',monospace\">Train loss: <span style=\"color: #008080; text-decoration-color: #008080; font-weight: bold\">0.0718</span>\n",
       "</pre>\n"
      ],
      "text/plain": [
       "Train loss: \u001b[1;36m0.0718\u001b[0m\n"
      ]
     },
     "metadata": {},
     "output_type": "display_data"
    },
    {
     "data": {
      "text/html": [
       "<pre style=\"white-space:pre;overflow-x:auto;line-height:normal;font-family:Menlo,'DejaVu Sans Mono',consolas,'Courier New',monospace\">Val prob stats: <span style=\"color: #808000; text-decoration-color: #808000\">min</span>=<span style=\"color: #008080; text-decoration-color: #008080; font-weight: bold\">0.276</span> <span style=\"color: #808000; text-decoration-color: #808000\">med</span>=<span style=\"color: #008080; text-decoration-color: #008080; font-weight: bold\">0.451</span> <span style=\"color: #808000; text-decoration-color: #808000\">max</span>=<span style=\"color: #008080; text-decoration-color: #008080; font-weight: bold\">0.709</span>  &gt;<span style=\"color: #008080; text-decoration-color: #008080; font-weight: bold\">0.5</span>=<span style=\"color: #008080; text-decoration-color: #008080; font-weight: bold\">0.097</span>\n",
       "</pre>\n"
      ],
      "text/plain": [
       "Val prob stats: \u001b[33mmin\u001b[0m=\u001b[1;36m0\u001b[0m\u001b[1;36m.276\u001b[0m \u001b[33mmed\u001b[0m=\u001b[1;36m0\u001b[0m\u001b[1;36m.451\u001b[0m \u001b[33mmax\u001b[0m=\u001b[1;36m0\u001b[0m\u001b[1;36m.709\u001b[0m  >\u001b[1;36m0.\u001b[0m\u001b[1;36m5\u001b[0m=\u001b[1;36m0\u001b[0m\u001b[1;36m.097\u001b[0m\n"
      ]
     },
     "metadata": {},
     "output_type": "display_data"
    },
    {
     "data": {
      "text/html": [
       "<pre style=\"white-space:pre;overflow-x:auto;line-height:normal;font-family:Menlo,'DejaVu Sans Mono',consolas,'Courier New',monospace\">E08: <span style=\"color: #800080; text-decoration-color: #800080; font-weight: bold\">AUC</span><span style=\"font-weight: bold\">(</span>EMA<span style=\"font-weight: bold\">)</span>=<span style=\"color: #008080; text-decoration-color: #008080; font-weight: bold\">0.7956</span> <span style=\"color: #808000; text-decoration-color: #808000\">F1</span>=<span style=\"color: #008080; text-decoration-color: #008080; font-weight: bold\">0.4362</span> <span style=\"color: #808000; text-decoration-color: #808000\">ACC</span>=<span style=\"color: #008080; text-decoration-color: #008080; font-weight: bold\">0.7859</span>\n",
       "</pre>\n"
      ],
      "text/plain": [
       "E08: \u001b[1;35mAUC\u001b[0m\u001b[1m(\u001b[0mEMA\u001b[1m)\u001b[0m=\u001b[1;36m0.7956\u001b[0m \u001b[33mF1\u001b[0m=\u001b[1;36m0\u001b[0m\u001b[1;36m.4362\u001b[0m \u001b[33mACC\u001b[0m=\u001b[1;36m0\u001b[0m\u001b[1;36m.7859\u001b[0m\n"
      ]
     },
     "metadata": {},
     "output_type": "display_data"
    },
    {
     "data": {
      "text/html": [
       "<pre style=\"white-space:pre;overflow-x:auto;line-height:normal;font-family:Menlo,'DejaVu Sans Mono',consolas,'Courier New',monospace\">Train loss: <span style=\"color: #008080; text-decoration-color: #008080; font-weight: bold\">0.0699</span>\n",
       "</pre>\n"
      ],
      "text/plain": [
       "Train loss: \u001b[1;36m0.0699\u001b[0m\n"
      ]
     },
     "metadata": {},
     "output_type": "display_data"
    },
    {
     "data": {
      "text/html": [
       "<pre style=\"white-space:pre;overflow-x:auto;line-height:normal;font-family:Menlo,'DejaVu Sans Mono',consolas,'Courier New',monospace\">Val prob stats: <span style=\"color: #808000; text-decoration-color: #808000\">min</span>=<span style=\"color: #008080; text-decoration-color: #008080; font-weight: bold\">0.260</span> <span style=\"color: #808000; text-decoration-color: #808000\">med</span>=<span style=\"color: #008080; text-decoration-color: #008080; font-weight: bold\">0.450</span> <span style=\"color: #808000; text-decoration-color: #808000\">max</span>=<span style=\"color: #008080; text-decoration-color: #008080; font-weight: bold\">0.760</span>  &gt;<span style=\"color: #008080; text-decoration-color: #008080; font-weight: bold\">0.5</span>=<span style=\"color: #008080; text-decoration-color: #008080; font-weight: bold\">0.100</span>\n",
       "</pre>\n"
      ],
      "text/plain": [
       "Val prob stats: \u001b[33mmin\u001b[0m=\u001b[1;36m0\u001b[0m\u001b[1;36m.260\u001b[0m \u001b[33mmed\u001b[0m=\u001b[1;36m0\u001b[0m\u001b[1;36m.450\u001b[0m \u001b[33mmax\u001b[0m=\u001b[1;36m0\u001b[0m\u001b[1;36m.760\u001b[0m  >\u001b[1;36m0.\u001b[0m\u001b[1;36m5\u001b[0m=\u001b[1;36m0\u001b[0m\u001b[1;36m.100\u001b[0m\n"
      ]
     },
     "metadata": {},
     "output_type": "display_data"
    },
    {
     "data": {
      "text/html": [
       "<pre style=\"white-space:pre;overflow-x:auto;line-height:normal;font-family:Menlo,'DejaVu Sans Mono',consolas,'Courier New',monospace\">E09: <span style=\"color: #800080; text-decoration-color: #800080; font-weight: bold\">AUC</span><span style=\"font-weight: bold\">(</span>EMA<span style=\"font-weight: bold\">)</span>=<span style=\"color: #008080; text-decoration-color: #008080; font-weight: bold\">0.7988</span> <span style=\"color: #808000; text-decoration-color: #808000\">F1</span>=<span style=\"color: #008080; text-decoration-color: #008080; font-weight: bold\">0.4408</span> <span style=\"color: #808000; text-decoration-color: #808000\">ACC</span>=<span style=\"color: #008080; text-decoration-color: #008080; font-weight: bold\">0.7859</span>\n",
       "</pre>\n"
      ],
      "text/plain": [
       "E09: \u001b[1;35mAUC\u001b[0m\u001b[1m(\u001b[0mEMA\u001b[1m)\u001b[0m=\u001b[1;36m0.7988\u001b[0m \u001b[33mF1\u001b[0m=\u001b[1;36m0\u001b[0m\u001b[1;36m.4408\u001b[0m \u001b[33mACC\u001b[0m=\u001b[1;36m0\u001b[0m\u001b[1;36m.7859\u001b[0m\n"
      ]
     },
     "metadata": {},
     "output_type": "display_data"
    },
    {
     "data": {
      "text/html": [
       "<pre style=\"white-space:pre;overflow-x:auto;line-height:normal;font-family:Menlo,'DejaVu Sans Mono',consolas,'Courier New',monospace\">Train loss: <span style=\"color: #008080; text-decoration-color: #008080; font-weight: bold\">0.0702</span>\n",
       "</pre>\n"
      ],
      "text/plain": [
       "Train loss: \u001b[1;36m0.0702\u001b[0m\n"
      ]
     },
     "metadata": {},
     "output_type": "display_data"
    },
    {
     "data": {
      "text/html": [
       "<pre style=\"white-space:pre;overflow-x:auto;line-height:normal;font-family:Menlo,'DejaVu Sans Mono',consolas,'Courier New',monospace\">Val prob stats: <span style=\"color: #808000; text-decoration-color: #808000\">min</span>=<span style=\"color: #008080; text-decoration-color: #008080; font-weight: bold\">0.246</span> <span style=\"color: #808000; text-decoration-color: #808000\">med</span>=<span style=\"color: #008080; text-decoration-color: #008080; font-weight: bold\">0.452</span> <span style=\"color: #808000; text-decoration-color: #808000\">max</span>=<span style=\"color: #008080; text-decoration-color: #008080; font-weight: bold\">0.802</span>  &gt;<span style=\"color: #008080; text-decoration-color: #008080; font-weight: bold\">0.5</span>=<span style=\"color: #008080; text-decoration-color: #008080; font-weight: bold\">0.111</span>\n",
       "</pre>\n"
      ],
      "text/plain": [
       "Val prob stats: \u001b[33mmin\u001b[0m=\u001b[1;36m0\u001b[0m\u001b[1;36m.246\u001b[0m \u001b[33mmed\u001b[0m=\u001b[1;36m0\u001b[0m\u001b[1;36m.452\u001b[0m \u001b[33mmax\u001b[0m=\u001b[1;36m0\u001b[0m\u001b[1;36m.802\u001b[0m  >\u001b[1;36m0.\u001b[0m\u001b[1;36m5\u001b[0m=\u001b[1;36m0\u001b[0m\u001b[1;36m.111\u001b[0m\n"
      ]
     },
     "metadata": {},
     "output_type": "display_data"
    },
    {
     "data": {
      "text/html": [
       "<pre style=\"white-space:pre;overflow-x:auto;line-height:normal;font-family:Menlo,'DejaVu Sans Mono',consolas,'Courier New',monospace\">E10: <span style=\"color: #800080; text-decoration-color: #800080; font-weight: bold\">AUC</span><span style=\"font-weight: bold\">(</span>EMA<span style=\"font-weight: bold\">)</span>=<span style=\"color: #008080; text-decoration-color: #008080; font-weight: bold\">0.8029</span> <span style=\"color: #808000; text-decoration-color: #808000\">F1</span>=<span style=\"color: #008080; text-decoration-color: #008080; font-weight: bold\">0.4683</span> <span style=\"color: #808000; text-decoration-color: #808000\">ACC</span>=<span style=\"color: #008080; text-decoration-color: #008080; font-weight: bold\">0.7906</span>\n",
       "</pre>\n"
      ],
      "text/plain": [
       "E10: \u001b[1;35mAUC\u001b[0m\u001b[1m(\u001b[0mEMA\u001b[1m)\u001b[0m=\u001b[1;36m0.8029\u001b[0m \u001b[33mF1\u001b[0m=\u001b[1;36m0\u001b[0m\u001b[1;36m.4683\u001b[0m \u001b[33mACC\u001b[0m=\u001b[1;36m0\u001b[0m\u001b[1;36m.7906\u001b[0m\n"
      ]
     },
     "metadata": {},
     "output_type": "display_data"
    },
    {
     "data": {
      "text/html": [
       "<pre style=\"white-space:pre;overflow-x:auto;line-height:normal;font-family:Menlo,'DejaVu Sans Mono',consolas,'Courier New',monospace\">Train loss: <span style=\"color: #008080; text-decoration-color: #008080; font-weight: bold\">0.0671</span>\n",
       "</pre>\n"
      ],
      "text/plain": [
       "Train loss: \u001b[1;36m0.0671\u001b[0m\n"
      ]
     },
     "metadata": {},
     "output_type": "display_data"
    },
    {
     "data": {
      "text/html": [
       "<pre style=\"white-space:pre;overflow-x:auto;line-height:normal;font-family:Menlo,'DejaVu Sans Mono',consolas,'Courier New',monospace\">Val prob stats: <span style=\"color: #808000; text-decoration-color: #808000\">min</span>=<span style=\"color: #008080; text-decoration-color: #008080; font-weight: bold\">0.231</span> <span style=\"color: #808000; text-decoration-color: #808000\">med</span>=<span style=\"color: #008080; text-decoration-color: #008080; font-weight: bold\">0.452</span> <span style=\"color: #808000; text-decoration-color: #808000\">max</span>=<span style=\"color: #008080; text-decoration-color: #008080; font-weight: bold\">0.840</span>  &gt;<span style=\"color: #008080; text-decoration-color: #008080; font-weight: bold\">0.5</span>=<span style=\"color: #008080; text-decoration-color: #008080; font-weight: bold\">0.117</span>\n",
       "</pre>\n"
      ],
      "text/plain": [
       "Val prob stats: \u001b[33mmin\u001b[0m=\u001b[1;36m0\u001b[0m\u001b[1;36m.231\u001b[0m \u001b[33mmed\u001b[0m=\u001b[1;36m0\u001b[0m\u001b[1;36m.452\u001b[0m \u001b[33mmax\u001b[0m=\u001b[1;36m0\u001b[0m\u001b[1;36m.840\u001b[0m  >\u001b[1;36m0.\u001b[0m\u001b[1;36m5\u001b[0m=\u001b[1;36m0\u001b[0m\u001b[1;36m.117\u001b[0m\n"
      ]
     },
     "metadata": {},
     "output_type": "display_data"
    },
    {
     "data": {
      "text/html": [
       "<pre style=\"white-space:pre;overflow-x:auto;line-height:normal;font-family:Menlo,'DejaVu Sans Mono',consolas,'Courier New',monospace\">E11: <span style=\"color: #800080; text-decoration-color: #800080; font-weight: bold\">AUC</span><span style=\"font-weight: bold\">(</span>EMA<span style=\"font-weight: bold\">)</span>=<span style=\"color: #008080; text-decoration-color: #008080; font-weight: bold\">0.8059</span> <span style=\"color: #808000; text-decoration-color: #808000\">F1</span>=<span style=\"color: #008080; text-decoration-color: #008080; font-weight: bold\">0.4766</span> <span style=\"color: #808000; text-decoration-color: #808000\">ACC</span>=<span style=\"color: #008080; text-decoration-color: #008080; font-weight: bold\">0.7906</span>\n",
       "</pre>\n"
      ],
      "text/plain": [
       "E11: \u001b[1;35mAUC\u001b[0m\u001b[1m(\u001b[0mEMA\u001b[1m)\u001b[0m=\u001b[1;36m0.8059\u001b[0m \u001b[33mF1\u001b[0m=\u001b[1;36m0\u001b[0m\u001b[1;36m.4766\u001b[0m \u001b[33mACC\u001b[0m=\u001b[1;36m0\u001b[0m\u001b[1;36m.7906\u001b[0m\n"
      ]
     },
     "metadata": {},
     "output_type": "display_data"
    },
    {
     "data": {
      "text/html": [
       "<pre style=\"white-space:pre;overflow-x:auto;line-height:normal;font-family:Menlo,'DejaVu Sans Mono',consolas,'Courier New',monospace\">Train loss: <span style=\"color: #008080; text-decoration-color: #008080; font-weight: bold\">0.0659</span>\n",
       "</pre>\n"
      ],
      "text/plain": [
       "Train loss: \u001b[1;36m0.0659\u001b[0m\n"
      ]
     },
     "metadata": {},
     "output_type": "display_data"
    },
    {
     "data": {
      "text/html": [
       "<pre style=\"white-space:pre;overflow-x:auto;line-height:normal;font-family:Menlo,'DejaVu Sans Mono',consolas,'Courier New',monospace\">Val prob stats: <span style=\"color: #808000; text-decoration-color: #808000\">min</span>=<span style=\"color: #008080; text-decoration-color: #008080; font-weight: bold\">0.215</span> <span style=\"color: #808000; text-decoration-color: #808000\">med</span>=<span style=\"color: #008080; text-decoration-color: #008080; font-weight: bold\">0.454</span> <span style=\"color: #808000; text-decoration-color: #808000\">max</span>=<span style=\"color: #008080; text-decoration-color: #008080; font-weight: bold\">0.867</span>  &gt;<span style=\"color: #008080; text-decoration-color: #008080; font-weight: bold\">0.5</span>=<span style=\"color: #008080; text-decoration-color: #008080; font-weight: bold\">0.141</span>\n",
       "</pre>\n"
      ],
      "text/plain": [
       "Val prob stats: \u001b[33mmin\u001b[0m=\u001b[1;36m0\u001b[0m\u001b[1;36m.215\u001b[0m \u001b[33mmed\u001b[0m=\u001b[1;36m0\u001b[0m\u001b[1;36m.454\u001b[0m \u001b[33mmax\u001b[0m=\u001b[1;36m0\u001b[0m\u001b[1;36m.867\u001b[0m  >\u001b[1;36m0.\u001b[0m\u001b[1;36m5\u001b[0m=\u001b[1;36m0\u001b[0m\u001b[1;36m.141\u001b[0m\n"
      ]
     },
     "metadata": {},
     "output_type": "display_data"
    },
    {
     "data": {
      "text/html": [
       "<pre style=\"white-space:pre;overflow-x:auto;line-height:normal;font-family:Menlo,'DejaVu Sans Mono',consolas,'Courier New',monospace\">E12: <span style=\"color: #800080; text-decoration-color: #800080; font-weight: bold\">AUC</span><span style=\"font-weight: bold\">(</span>EMA<span style=\"font-weight: bold\">)</span>=<span style=\"color: #008080; text-decoration-color: #008080; font-weight: bold\">0.8060</span> <span style=\"color: #808000; text-decoration-color: #808000\">F1</span>=<span style=\"color: #008080; text-decoration-color: #008080; font-weight: bold\">0.5166</span> <span style=\"color: #808000; text-decoration-color: #808000\">ACC</span>=<span style=\"color: #008080; text-decoration-color: #008080; font-weight: bold\">0.7953</span>\n",
       "</pre>\n"
      ],
      "text/plain": [
       "E12: \u001b[1;35mAUC\u001b[0m\u001b[1m(\u001b[0mEMA\u001b[1m)\u001b[0m=\u001b[1;36m0.8060\u001b[0m \u001b[33mF1\u001b[0m=\u001b[1;36m0\u001b[0m\u001b[1;36m.5166\u001b[0m \u001b[33mACC\u001b[0m=\u001b[1;36m0\u001b[0m\u001b[1;36m.7953\u001b[0m\n"
      ]
     },
     "metadata": {},
     "output_type": "display_data"
    },
    {
     "data": {
      "text/html": [
       "<pre style=\"white-space:pre;overflow-x:auto;line-height:normal;font-family:Menlo,'DejaVu Sans Mono',consolas,'Courier New',monospace\">Train loss: <span style=\"color: #008080; text-decoration-color: #008080; font-weight: bold\">0.0666</span>\n",
       "</pre>\n"
      ],
      "text/plain": [
       "Train loss: \u001b[1;36m0.0666\u001b[0m\n"
      ]
     },
     "metadata": {},
     "output_type": "display_data"
    },
    {
     "data": {
      "text/html": [
       "<pre style=\"white-space:pre;overflow-x:auto;line-height:normal;font-family:Menlo,'DejaVu Sans Mono',consolas,'Courier New',monospace\">Val prob stats: <span style=\"color: #808000; text-decoration-color: #808000\">min</span>=<span style=\"color: #008080; text-decoration-color: #008080; font-weight: bold\">0.199</span> <span style=\"color: #808000; text-decoration-color: #808000\">med</span>=<span style=\"color: #008080; text-decoration-color: #008080; font-weight: bold\">0.455</span> <span style=\"color: #808000; text-decoration-color: #808000\">max</span>=<span style=\"color: #008080; text-decoration-color: #008080; font-weight: bold\">0.881</span>  &gt;<span style=\"color: #008080; text-decoration-color: #008080; font-weight: bold\">0.5</span>=<span style=\"color: #008080; text-decoration-color: #008080; font-weight: bold\">0.170</span>\n",
       "</pre>\n"
      ],
      "text/plain": [
       "Val prob stats: \u001b[33mmin\u001b[0m=\u001b[1;36m0\u001b[0m\u001b[1;36m.199\u001b[0m \u001b[33mmed\u001b[0m=\u001b[1;36m0\u001b[0m\u001b[1;36m.455\u001b[0m \u001b[33mmax\u001b[0m=\u001b[1;36m0\u001b[0m\u001b[1;36m.881\u001b[0m  >\u001b[1;36m0.\u001b[0m\u001b[1;36m5\u001b[0m=\u001b[1;36m0\u001b[0m\u001b[1;36m.170\u001b[0m\n"
      ]
     },
     "metadata": {},
     "output_type": "display_data"
    },
    {
     "data": {
      "text/html": [
       "<pre style=\"white-space:pre;overflow-x:auto;line-height:normal;font-family:Menlo,'DejaVu Sans Mono',consolas,'Courier New',monospace\">E13: <span style=\"color: #800080; text-decoration-color: #800080; font-weight: bold\">AUC</span><span style=\"font-weight: bold\">(</span>EMA<span style=\"font-weight: bold\">)</span>=<span style=\"color: #008080; text-decoration-color: #008080; font-weight: bold\">0.8070</span> <span style=\"color: #808000; text-decoration-color: #808000\">F1</span>=<span style=\"color: #008080; text-decoration-color: #008080; font-weight: bold\">0.5172</span> <span style=\"color: #808000; text-decoration-color: #808000\">ACC</span>=<span style=\"color: #008080; text-decoration-color: #008080; font-weight: bold\">0.7812</span>\n",
       "</pre>\n"
      ],
      "text/plain": [
       "E13: \u001b[1;35mAUC\u001b[0m\u001b[1m(\u001b[0mEMA\u001b[1m)\u001b[0m=\u001b[1;36m0.8070\u001b[0m \u001b[33mF1\u001b[0m=\u001b[1;36m0\u001b[0m\u001b[1;36m.5172\u001b[0m \u001b[33mACC\u001b[0m=\u001b[1;36m0\u001b[0m\u001b[1;36m.7812\u001b[0m\n"
      ]
     },
     "metadata": {},
     "output_type": "display_data"
    },
    {
     "data": {
      "text/html": [
       "<pre style=\"white-space:pre;overflow-x:auto;line-height:normal;font-family:Menlo,'DejaVu Sans Mono',consolas,'Courier New',monospace\">Train loss: <span style=\"color: #008080; text-decoration-color: #008080; font-weight: bold\">0.0642</span>\n",
       "</pre>\n"
      ],
      "text/plain": [
       "Train loss: \u001b[1;36m0.0642\u001b[0m\n"
      ]
     },
     "metadata": {},
     "output_type": "display_data"
    },
    {
     "data": {
      "text/html": [
       "<pre style=\"white-space:pre;overflow-x:auto;line-height:normal;font-family:Menlo,'DejaVu Sans Mono',consolas,'Courier New',monospace\">Val prob stats: <span style=\"color: #808000; text-decoration-color: #808000\">min</span>=<span style=\"color: #008080; text-decoration-color: #008080; font-weight: bold\">0.182</span> <span style=\"color: #808000; text-decoration-color: #808000\">med</span>=<span style=\"color: #008080; text-decoration-color: #008080; font-weight: bold\">0.455</span> <span style=\"color: #808000; text-decoration-color: #808000\">max</span>=<span style=\"color: #008080; text-decoration-color: #008080; font-weight: bold\">0.896</span>  &gt;<span style=\"color: #008080; text-decoration-color: #008080; font-weight: bold\">0.5</span>=<span style=\"color: #008080; text-decoration-color: #008080; font-weight: bold\">0.186</span>\n",
       "</pre>\n"
      ],
      "text/plain": [
       "Val prob stats: \u001b[33mmin\u001b[0m=\u001b[1;36m0\u001b[0m\u001b[1;36m.182\u001b[0m \u001b[33mmed\u001b[0m=\u001b[1;36m0\u001b[0m\u001b[1;36m.455\u001b[0m \u001b[33mmax\u001b[0m=\u001b[1;36m0\u001b[0m\u001b[1;36m.896\u001b[0m  >\u001b[1;36m0.\u001b[0m\u001b[1;36m5\u001b[0m=\u001b[1;36m0\u001b[0m\u001b[1;36m.186\u001b[0m\n"
      ]
     },
     "metadata": {},
     "output_type": "display_data"
    },
    {
     "data": {
      "text/html": [
       "<pre style=\"white-space:pre;overflow-x:auto;line-height:normal;font-family:Menlo,'DejaVu Sans Mono',consolas,'Courier New',monospace\">E14: <span style=\"color: #800080; text-decoration-color: #800080; font-weight: bold\">AUC</span><span style=\"font-weight: bold\">(</span>EMA<span style=\"font-weight: bold\">)</span>=<span style=\"color: #008080; text-decoration-color: #008080; font-weight: bold\">0.8074</span> <span style=\"color: #808000; text-decoration-color: #808000\">F1</span>=<span style=\"color: #008080; text-decoration-color: #008080; font-weight: bold\">0.5400</span> <span style=\"color: #808000; text-decoration-color: #808000\">ACC</span>=<span style=\"color: #008080; text-decoration-color: #008080; font-weight: bold\">0.7844</span>\n",
       "</pre>\n"
      ],
      "text/plain": [
       "E14: \u001b[1;35mAUC\u001b[0m\u001b[1m(\u001b[0mEMA\u001b[1m)\u001b[0m=\u001b[1;36m0.8074\u001b[0m \u001b[33mF1\u001b[0m=\u001b[1;36m0\u001b[0m\u001b[1;36m.5400\u001b[0m \u001b[33mACC\u001b[0m=\u001b[1;36m0\u001b[0m\u001b[1;36m.7844\u001b[0m\n"
      ]
     },
     "metadata": {},
     "output_type": "display_data"
    },
    {
     "data": {
      "text/html": [
       "<pre style=\"white-space:pre;overflow-x:auto;line-height:normal;font-family:Menlo,'DejaVu Sans Mono',consolas,'Courier New',monospace\">Train loss: <span style=\"color: #008080; text-decoration-color: #008080; font-weight: bold\">0.0615</span>\n",
       "</pre>\n"
      ],
      "text/plain": [
       "Train loss: \u001b[1;36m0.0615\u001b[0m\n"
      ]
     },
     "metadata": {},
     "output_type": "display_data"
    },
    {
     "data": {
      "text/html": [
       "<pre style=\"white-space:pre;overflow-x:auto;line-height:normal;font-family:Menlo,'DejaVu Sans Mono',consolas,'Courier New',monospace\">Val prob stats: <span style=\"color: #808000; text-decoration-color: #808000\">min</span>=<span style=\"color: #008080; text-decoration-color: #008080; font-weight: bold\">0.167</span> <span style=\"color: #808000; text-decoration-color: #808000\">med</span>=<span style=\"color: #008080; text-decoration-color: #008080; font-weight: bold\">0.455</span> <span style=\"color: #808000; text-decoration-color: #808000\">max</span>=<span style=\"color: #008080; text-decoration-color: #008080; font-weight: bold\">0.909</span>  &gt;<span style=\"color: #008080; text-decoration-color: #008080; font-weight: bold\">0.5</span>=<span style=\"color: #008080; text-decoration-color: #008080; font-weight: bold\">0.222</span>\n",
       "</pre>\n"
      ],
      "text/plain": [
       "Val prob stats: \u001b[33mmin\u001b[0m=\u001b[1;36m0\u001b[0m\u001b[1;36m.167\u001b[0m \u001b[33mmed\u001b[0m=\u001b[1;36m0\u001b[0m\u001b[1;36m.455\u001b[0m \u001b[33mmax\u001b[0m=\u001b[1;36m0\u001b[0m\u001b[1;36m.909\u001b[0m  >\u001b[1;36m0.\u001b[0m\u001b[1;36m5\u001b[0m=\u001b[1;36m0\u001b[0m\u001b[1;36m.222\u001b[0m\n"
      ]
     },
     "metadata": {},
     "output_type": "display_data"
    },
    {
     "data": {
      "text/html": [
       "<pre style=\"white-space:pre;overflow-x:auto;line-height:normal;font-family:Menlo,'DejaVu Sans Mono',consolas,'Courier New',monospace\">E15: <span style=\"color: #800080; text-decoration-color: #800080; font-weight: bold\">AUC</span><span style=\"font-weight: bold\">(</span>EMA<span style=\"font-weight: bold\">)</span>=<span style=\"color: #008080; text-decoration-color: #008080; font-weight: bold\">0.8076</span> <span style=\"color: #808000; text-decoration-color: #808000\">F1</span>=<span style=\"color: #008080; text-decoration-color: #008080; font-weight: bold\">0.5449</span> <span style=\"color: #808000; text-decoration-color: #808000\">ACC</span>=<span style=\"color: #008080; text-decoration-color: #008080; font-weight: bold\">0.7703</span>\n",
       "</pre>\n"
      ],
      "text/plain": [
       "E15: \u001b[1;35mAUC\u001b[0m\u001b[1m(\u001b[0mEMA\u001b[1m)\u001b[0m=\u001b[1;36m0.8076\u001b[0m \u001b[33mF1\u001b[0m=\u001b[1;36m0\u001b[0m\u001b[1;36m.5449\u001b[0m \u001b[33mACC\u001b[0m=\u001b[1;36m0\u001b[0m\u001b[1;36m.7703\u001b[0m\n"
      ]
     },
     "metadata": {},
     "output_type": "display_data"
    },
    {
     "data": {
      "text/html": [
       "<pre style=\"white-space:pre;overflow-x:auto;line-height:normal;font-family:Menlo,'DejaVu Sans Mono',consolas,'Courier New',monospace\">Train loss: <span style=\"color: #008080; text-decoration-color: #008080; font-weight: bold\">0.0637</span>\n",
       "</pre>\n"
      ],
      "text/plain": [
       "Train loss: \u001b[1;36m0.0637\u001b[0m\n"
      ]
     },
     "metadata": {},
     "output_type": "display_data"
    },
    {
     "data": {
      "text/html": [
       "<pre style=\"white-space:pre;overflow-x:auto;line-height:normal;font-family:Menlo,'DejaVu Sans Mono',consolas,'Courier New',monospace\">Val prob stats: <span style=\"color: #808000; text-decoration-color: #808000\">min</span>=<span style=\"color: #008080; text-decoration-color: #008080; font-weight: bold\">0.154</span> <span style=\"color: #808000; text-decoration-color: #808000\">med</span>=<span style=\"color: #008080; text-decoration-color: #008080; font-weight: bold\">0.456</span> <span style=\"color: #808000; text-decoration-color: #808000\">max</span>=<span style=\"color: #008080; text-decoration-color: #008080; font-weight: bold\">0.916</span>  &gt;<span style=\"color: #008080; text-decoration-color: #008080; font-weight: bold\">0.5</span>=<span style=\"color: #008080; text-decoration-color: #008080; font-weight: bold\">0.245</span>\n",
       "</pre>\n"
      ],
      "text/plain": [
       "Val prob stats: \u001b[33mmin\u001b[0m=\u001b[1;36m0\u001b[0m\u001b[1;36m.154\u001b[0m \u001b[33mmed\u001b[0m=\u001b[1;36m0\u001b[0m\u001b[1;36m.456\u001b[0m \u001b[33mmax\u001b[0m=\u001b[1;36m0\u001b[0m\u001b[1;36m.916\u001b[0m  >\u001b[1;36m0.\u001b[0m\u001b[1;36m5\u001b[0m=\u001b[1;36m0\u001b[0m\u001b[1;36m.245\u001b[0m\n"
      ]
     },
     "metadata": {},
     "output_type": "display_data"
    },
    {
     "data": {
      "text/html": [
       "<pre style=\"white-space:pre;overflow-x:auto;line-height:normal;font-family:Menlo,'DejaVu Sans Mono',consolas,'Courier New',monospace\">E16: <span style=\"color: #800080; text-decoration-color: #800080; font-weight: bold\">AUC</span><span style=\"font-weight: bold\">(</span>EMA<span style=\"font-weight: bold\">)</span>=<span style=\"color: #008080; text-decoration-color: #008080; font-weight: bold\">0.8070</span> <span style=\"color: #808000; text-decoration-color: #808000\">F1</span>=<span style=\"color: #008080; text-decoration-color: #008080; font-weight: bold\">0.5503</span> <span style=\"color: #808000; text-decoration-color: #808000\">ACC</span>=<span style=\"color: #008080; text-decoration-color: #008080; font-weight: bold\">0.7625</span>\n",
       "</pre>\n"
      ],
      "text/plain": [
       "E16: \u001b[1;35mAUC\u001b[0m\u001b[1m(\u001b[0mEMA\u001b[1m)\u001b[0m=\u001b[1;36m0.8070\u001b[0m \u001b[33mF1\u001b[0m=\u001b[1;36m0\u001b[0m\u001b[1;36m.5503\u001b[0m \u001b[33mACC\u001b[0m=\u001b[1;36m0\u001b[0m\u001b[1;36m.7625\u001b[0m\n"
      ]
     },
     "metadata": {},
     "output_type": "display_data"
    },
    {
     "data": {
      "text/html": [
       "<pre style=\"white-space:pre;overflow-x:auto;line-height:normal;font-family:Menlo,'DejaVu Sans Mono',consolas,'Courier New',monospace\">Train loss: <span style=\"color: #008080; text-decoration-color: #008080; font-weight: bold\">0.0614</span>\n",
       "</pre>\n"
      ],
      "text/plain": [
       "Train loss: \u001b[1;36m0.0614\u001b[0m\n"
      ]
     },
     "metadata": {},
     "output_type": "display_data"
    },
    {
     "data": {
      "text/html": [
       "<pre style=\"white-space:pre;overflow-x:auto;line-height:normal;font-family:Menlo,'DejaVu Sans Mono',consolas,'Courier New',monospace\">Val prob stats: <span style=\"color: #808000; text-decoration-color: #808000\">min</span>=<span style=\"color: #008080; text-decoration-color: #008080; font-weight: bold\">0.143</span> <span style=\"color: #808000; text-decoration-color: #808000\">med</span>=<span style=\"color: #008080; text-decoration-color: #008080; font-weight: bold\">0.457</span> <span style=\"color: #808000; text-decoration-color: #808000\">max</span>=<span style=\"color: #008080; text-decoration-color: #008080; font-weight: bold\">0.922</span>  &gt;<span style=\"color: #008080; text-decoration-color: #008080; font-weight: bold\">0.5</span>=<span style=\"color: #008080; text-decoration-color: #008080; font-weight: bold\">0.261</span>\n",
       "</pre>\n"
      ],
      "text/plain": [
       "Val prob stats: \u001b[33mmin\u001b[0m=\u001b[1;36m0\u001b[0m\u001b[1;36m.143\u001b[0m \u001b[33mmed\u001b[0m=\u001b[1;36m0\u001b[0m\u001b[1;36m.457\u001b[0m \u001b[33mmax\u001b[0m=\u001b[1;36m0\u001b[0m\u001b[1;36m.922\u001b[0m  >\u001b[1;36m0.\u001b[0m\u001b[1;36m5\u001b[0m=\u001b[1;36m0\u001b[0m\u001b[1;36m.261\u001b[0m\n"
      ]
     },
     "metadata": {},
     "output_type": "display_data"
    },
    {
     "data": {
      "text/html": [
       "<pre style=\"white-space:pre;overflow-x:auto;line-height:normal;font-family:Menlo,'DejaVu Sans Mono',consolas,'Courier New',monospace\">E17: <span style=\"color: #800080; text-decoration-color: #800080; font-weight: bold\">AUC</span><span style=\"font-weight: bold\">(</span>EMA<span style=\"font-weight: bold\">)</span>=<span style=\"color: #008080; text-decoration-color: #008080; font-weight: bold\">0.8057</span> <span style=\"color: #808000; text-decoration-color: #808000\">F1</span>=<span style=\"color: #008080; text-decoration-color: #008080; font-weight: bold\">0.5345</span> <span style=\"color: #808000; text-decoration-color: #808000\">ACC</span>=<span style=\"color: #008080; text-decoration-color: #008080; font-weight: bold\">0.7469</span>\n",
       "</pre>\n"
      ],
      "text/plain": [
       "E17: \u001b[1;35mAUC\u001b[0m\u001b[1m(\u001b[0mEMA\u001b[1m)\u001b[0m=\u001b[1;36m0.8057\u001b[0m \u001b[33mF1\u001b[0m=\u001b[1;36m0\u001b[0m\u001b[1;36m.5345\u001b[0m \u001b[33mACC\u001b[0m=\u001b[1;36m0\u001b[0m\u001b[1;36m.7469\u001b[0m\n"
      ]
     },
     "metadata": {},
     "output_type": "display_data"
    },
    {
     "data": {
      "text/html": [
       "<pre style=\"white-space:pre;overflow-x:auto;line-height:normal;font-family:Menlo,'DejaVu Sans Mono',consolas,'Courier New',monospace\">Train loss: <span style=\"color: #008080; text-decoration-color: #008080; font-weight: bold\">0.0622</span>\n",
       "</pre>\n"
      ],
      "text/plain": [
       "Train loss: \u001b[1;36m0.0622\u001b[0m\n"
      ]
     },
     "metadata": {},
     "output_type": "display_data"
    },
    {
     "data": {
      "text/html": [
       "<pre style=\"white-space:pre;overflow-x:auto;line-height:normal;font-family:Menlo,'DejaVu Sans Mono',consolas,'Courier New',monospace\">Val prob stats: <span style=\"color: #808000; text-decoration-color: #808000\">min</span>=<span style=\"color: #008080; text-decoration-color: #008080; font-weight: bold\">0.133</span> <span style=\"color: #808000; text-decoration-color: #808000\">med</span>=<span style=\"color: #008080; text-decoration-color: #008080; font-weight: bold\">0.457</span> <span style=\"color: #808000; text-decoration-color: #808000\">max</span>=<span style=\"color: #008080; text-decoration-color: #008080; font-weight: bold\">0.926</span>  &gt;<span style=\"color: #008080; text-decoration-color: #008080; font-weight: bold\">0.5</span>=<span style=\"color: #008080; text-decoration-color: #008080; font-weight: bold\">0.269</span>\n",
       "</pre>\n"
      ],
      "text/plain": [
       "Val prob stats: \u001b[33mmin\u001b[0m=\u001b[1;36m0\u001b[0m\u001b[1;36m.133\u001b[0m \u001b[33mmed\u001b[0m=\u001b[1;36m0\u001b[0m\u001b[1;36m.457\u001b[0m \u001b[33mmax\u001b[0m=\u001b[1;36m0\u001b[0m\u001b[1;36m.926\u001b[0m  >\u001b[1;36m0.\u001b[0m\u001b[1;36m5\u001b[0m=\u001b[1;36m0\u001b[0m\u001b[1;36m.269\u001b[0m\n"
      ]
     },
     "metadata": {},
     "output_type": "display_data"
    },
    {
     "data": {
      "text/html": [
       "<pre style=\"white-space:pre;overflow-x:auto;line-height:normal;font-family:Menlo,'DejaVu Sans Mono',consolas,'Courier New',monospace\">E18: <span style=\"color: #800080; text-decoration-color: #800080; font-weight: bold\">AUC</span><span style=\"font-weight: bold\">(</span>EMA<span style=\"font-weight: bold\">)</span>=<span style=\"color: #008080; text-decoration-color: #008080; font-weight: bold\">0.8035</span> <span style=\"color: #808000; text-decoration-color: #808000\">F1</span>=<span style=\"color: #008080; text-decoration-color: #008080; font-weight: bold\">0.5439</span> <span style=\"color: #808000; text-decoration-color: #808000\">ACC</span>=<span style=\"color: #008080; text-decoration-color: #008080; font-weight: bold\">0.7484</span>\n",
       "</pre>\n"
      ],
      "text/plain": [
       "E18: \u001b[1;35mAUC\u001b[0m\u001b[1m(\u001b[0mEMA\u001b[1m)\u001b[0m=\u001b[1;36m0.8035\u001b[0m \u001b[33mF1\u001b[0m=\u001b[1;36m0\u001b[0m\u001b[1;36m.5439\u001b[0m \u001b[33mACC\u001b[0m=\u001b[1;36m0\u001b[0m\u001b[1;36m.7484\u001b[0m\n"
      ]
     },
     "metadata": {},
     "output_type": "display_data"
    },
    {
     "data": {
      "text/html": [
       "<pre style=\"white-space:pre;overflow-x:auto;line-height:normal;font-family:Menlo,'DejaVu Sans Mono',consolas,'Courier New',monospace\"><span style=\"color: #808000; text-decoration-color: #808000; font-weight: bold\">Fold </span><span style=\"color: #808000; text-decoration-color: #808000; font-weight: bold\">2</span><span style=\"color: #808000; text-decoration-color: #808000; font-weight: bold\"> fitted T: </span><span style=\"color: #808000; text-decoration-color: #808000; font-weight: bold\">0.655</span>\n",
       "</pre>\n"
      ],
      "text/plain": [
       "\u001b[1;33mFold \u001b[0m\u001b[1;33m2\u001b[0m\u001b[1;33m fitted T: \u001b[0m\u001b[1;33m0.655\u001b[0m\n"
      ]
     },
     "metadata": {},
     "output_type": "display_data"
    },
    {
     "data": {
      "text/html": [
       "<pre style=\"white-space:pre;overflow-x:auto;line-height:normal;font-family:Menlo,'DejaVu Sans Mono',consolas,'Courier New',monospace\">\n",
       "<span style=\"color: #008080; text-decoration-color: #008080; font-weight: bold\">========= FOLD </span><span style=\"color: #008080; text-decoration-color: #008080; font-weight: bold\">3</span><span style=\"color: #008080; text-decoration-color: #008080; font-weight: bold\">/</span><span style=\"color: #008080; text-decoration-color: #008080; font-weight: bold\">5</span><span style=\"color: #008080; text-decoration-color: #008080; font-weight: bold\"> =========</span>\n",
       "</pre>\n"
      ],
      "text/plain": [
       "\n",
       "\u001b[1;36m========= FOLD \u001b[0m\u001b[1;36m3\u001b[0m\u001b[1;36m/\u001b[0m\u001b[1;36m5\u001b[0m\u001b[1;36m =========\u001b[0m\n"
      ]
     },
     "metadata": {},
     "output_type": "display_data"
    },
    {
     "data": {
      "text/html": [
       "<pre style=\"white-space:pre;overflow-x:auto;line-height:normal;font-family:Menlo,'DejaVu Sans Mono',consolas,'Courier New',monospace\"><span style=\"color: #808000; text-decoration-color: #808000\">Init classifier bias to prior </span><span style=\"color: #808000; text-decoration-color: #808000\">logit</span><span style=\"color: #808000; text-decoration-color: #808000\">=</span><span style=\"color: #808000; text-decoration-color: #808000; font-weight: bold\">-0.934</span><span style=\"color: #808000; text-decoration-color: #808000\"> </span><span style=\"color: #808000; text-decoration-color: #808000; font-weight: bold\">(</span><span style=\"color: #808000; text-decoration-color: #808000\">prior</span><span style=\"color: #808000; text-decoration-color: #808000\">=</span><span style=\"color: #808000; text-decoration-color: #808000; font-weight: bold\">0.282</span><span style=\"color: #808000; text-decoration-color: #808000; font-weight: bold\">)</span>\n",
       "</pre>\n"
      ],
      "text/plain": [
       "\u001b[33mInit classifier bias to prior \u001b[0m\u001b[33mlogit\u001b[0m\u001b[33m=\u001b[0m\u001b[1;33m-0.934\u001b[0m\u001b[33m \u001b[0m\u001b[1;33m(\u001b[0m\u001b[33mprior\u001b[0m\u001b[33m=\u001b[0m\u001b[1;33m0\u001b[0m\u001b[1;33m.282\u001b[0m\u001b[1;33m)\u001b[0m\n"
      ]
     },
     "metadata": {},
     "output_type": "display_data"
    },
    {
     "data": {
      "text/html": [
       "<pre style=\"white-space:pre;overflow-x:auto;line-height:normal;font-family:Menlo,'DejaVu Sans Mono',consolas,'Courier New',monospace\">Train loss: <span style=\"color: #008080; text-decoration-color: #008080; font-weight: bold\">0.0910</span>\n",
       "</pre>\n"
      ],
      "text/plain": [
       "Train loss: \u001b[1;36m0.0910\u001b[0m\n"
      ]
     },
     "metadata": {},
     "output_type": "display_data"
    },
    {
     "data": {
      "text/html": [
       "<pre style=\"white-space:pre;overflow-x:auto;line-height:normal;font-family:Menlo,'DejaVu Sans Mono',consolas,'Courier New',monospace\">Val prob stats: <span style=\"color: #808000; text-decoration-color: #808000\">min</span>=<span style=\"color: #008080; text-decoration-color: #008080; font-weight: bold\">0.252</span> <span style=\"color: #808000; text-decoration-color: #808000\">med</span>=<span style=\"color: #008080; text-decoration-color: #008080; font-weight: bold\">0.339</span> <span style=\"color: #808000; text-decoration-color: #808000\">max</span>=<span style=\"color: #008080; text-decoration-color: #008080; font-weight: bold\">0.386</span>  &gt;<span style=\"color: #008080; text-decoration-color: #008080; font-weight: bold\">0.5</span>=<span style=\"color: #008080; text-decoration-color: #008080; font-weight: bold\">0.000</span>\n",
       "</pre>\n"
      ],
      "text/plain": [
       "Val prob stats: \u001b[33mmin\u001b[0m=\u001b[1;36m0\u001b[0m\u001b[1;36m.252\u001b[0m \u001b[33mmed\u001b[0m=\u001b[1;36m0\u001b[0m\u001b[1;36m.339\u001b[0m \u001b[33mmax\u001b[0m=\u001b[1;36m0\u001b[0m\u001b[1;36m.386\u001b[0m  >\u001b[1;36m0.\u001b[0m\u001b[1;36m5\u001b[0m=\u001b[1;36m0\u001b[0m\u001b[1;36m.000\u001b[0m\n"
      ]
     },
     "metadata": {},
     "output_type": "display_data"
    },
    {
     "data": {
      "text/html": [
       "<pre style=\"white-space:pre;overflow-x:auto;line-height:normal;font-family:Menlo,'DejaVu Sans Mono',consolas,'Courier New',monospace\">E01: <span style=\"color: #800080; text-decoration-color: #800080; font-weight: bold\">AUC</span><span style=\"font-weight: bold\">(</span>EMA<span style=\"font-weight: bold\">)</span>=<span style=\"color: #008080; text-decoration-color: #008080; font-weight: bold\">0.6334</span> <span style=\"color: #808000; text-decoration-color: #808000\">F1</span>=<span style=\"color: #008080; text-decoration-color: #008080; font-weight: bold\">0.0000</span> <span style=\"color: #808000; text-decoration-color: #808000\">ACC</span>=<span style=\"color: #008080; text-decoration-color: #008080; font-weight: bold\">0.7172</span>\n",
       "</pre>\n"
      ],
      "text/plain": [
       "E01: \u001b[1;35mAUC\u001b[0m\u001b[1m(\u001b[0mEMA\u001b[1m)\u001b[0m=\u001b[1;36m0.6334\u001b[0m \u001b[33mF1\u001b[0m=\u001b[1;36m0\u001b[0m\u001b[1;36m.0000\u001b[0m \u001b[33mACC\u001b[0m=\u001b[1;36m0\u001b[0m\u001b[1;36m.7172\u001b[0m\n"
      ]
     },
     "metadata": {},
     "output_type": "display_data"
    },
    {
     "data": {
      "text/html": [
       "<pre style=\"white-space:pre;overflow-x:auto;line-height:normal;font-family:Menlo,'DejaVu Sans Mono',consolas,'Courier New',monospace\">Train loss: <span style=\"color: #008080; text-decoration-color: #008080; font-weight: bold\">0.0830</span>\n",
       "</pre>\n"
      ],
      "text/plain": [
       "Train loss: \u001b[1;36m0.0830\u001b[0m\n"
      ]
     },
     "metadata": {},
     "output_type": "display_data"
    },
    {
     "data": {
      "text/html": [
       "<pre style=\"white-space:pre;overflow-x:auto;line-height:normal;font-family:Menlo,'DejaVu Sans Mono',consolas,'Courier New',monospace\">Val prob stats: <span style=\"color: #808000; text-decoration-color: #808000\">min</span>=<span style=\"color: #008080; text-decoration-color: #008080; font-weight: bold\">0.287</span> <span style=\"color: #808000; text-decoration-color: #808000\">med</span>=<span style=\"color: #008080; text-decoration-color: #008080; font-weight: bold\">0.374</span> <span style=\"color: #808000; text-decoration-color: #808000\">max</span>=<span style=\"color: #008080; text-decoration-color: #008080; font-weight: bold\">0.428</span>  &gt;<span style=\"color: #008080; text-decoration-color: #008080; font-weight: bold\">0.5</span>=<span style=\"color: #008080; text-decoration-color: #008080; font-weight: bold\">0.000</span>\n",
       "</pre>\n"
      ],
      "text/plain": [
       "Val prob stats: \u001b[33mmin\u001b[0m=\u001b[1;36m0\u001b[0m\u001b[1;36m.287\u001b[0m \u001b[33mmed\u001b[0m=\u001b[1;36m0\u001b[0m\u001b[1;36m.374\u001b[0m \u001b[33mmax\u001b[0m=\u001b[1;36m0\u001b[0m\u001b[1;36m.428\u001b[0m  >\u001b[1;36m0.\u001b[0m\u001b[1;36m5\u001b[0m=\u001b[1;36m0\u001b[0m\u001b[1;36m.000\u001b[0m\n"
      ]
     },
     "metadata": {},
     "output_type": "display_data"
    },
    {
     "data": {
      "text/html": [
       "<pre style=\"white-space:pre;overflow-x:auto;line-height:normal;font-family:Menlo,'DejaVu Sans Mono',consolas,'Courier New',monospace\">E02: <span style=\"color: #800080; text-decoration-color: #800080; font-weight: bold\">AUC</span><span style=\"font-weight: bold\">(</span>EMA<span style=\"font-weight: bold\">)</span>=<span style=\"color: #008080; text-decoration-color: #008080; font-weight: bold\">0.6991</span> <span style=\"color: #808000; text-decoration-color: #808000\">F1</span>=<span style=\"color: #008080; text-decoration-color: #008080; font-weight: bold\">0.0000</span> <span style=\"color: #808000; text-decoration-color: #808000\">ACC</span>=<span style=\"color: #008080; text-decoration-color: #008080; font-weight: bold\">0.7172</span>\n",
       "</pre>\n"
      ],
      "text/plain": [
       "E02: \u001b[1;35mAUC\u001b[0m\u001b[1m(\u001b[0mEMA\u001b[1m)\u001b[0m=\u001b[1;36m0.6991\u001b[0m \u001b[33mF1\u001b[0m=\u001b[1;36m0\u001b[0m\u001b[1;36m.0000\u001b[0m \u001b[33mACC\u001b[0m=\u001b[1;36m0\u001b[0m\u001b[1;36m.7172\u001b[0m\n"
      ]
     },
     "metadata": {},
     "output_type": "display_data"
    },
    {
     "data": {
      "text/html": [
       "<pre style=\"white-space:pre;overflow-x:auto;line-height:normal;font-family:Menlo,'DejaVu Sans Mono',consolas,'Courier New',monospace\">Train loss: <span style=\"color: #008080; text-decoration-color: #008080; font-weight: bold\">0.0815</span>\n",
       "</pre>\n"
      ],
      "text/plain": [
       "Train loss: \u001b[1;36m0.0815\u001b[0m\n"
      ]
     },
     "metadata": {},
     "output_type": "display_data"
    },
    {
     "data": {
      "text/html": [
       "<pre style=\"white-space:pre;overflow-x:auto;line-height:normal;font-family:Menlo,'DejaVu Sans Mono',consolas,'Courier New',monospace\">Val prob stats: <span style=\"color: #808000; text-decoration-color: #808000\">min</span>=<span style=\"color: #008080; text-decoration-color: #008080; font-weight: bold\">0.303</span> <span style=\"color: #808000; text-decoration-color: #808000\">med</span>=<span style=\"color: #008080; text-decoration-color: #008080; font-weight: bold\">0.390</span> <span style=\"color: #808000; text-decoration-color: #808000\">max</span>=<span style=\"color: #008080; text-decoration-color: #008080; font-weight: bold\">0.459</span>  &gt;<span style=\"color: #008080; text-decoration-color: #008080; font-weight: bold\">0.5</span>=<span style=\"color: #008080; text-decoration-color: #008080; font-weight: bold\">0.000</span>\n",
       "</pre>\n"
      ],
      "text/plain": [
       "Val prob stats: \u001b[33mmin\u001b[0m=\u001b[1;36m0\u001b[0m\u001b[1;36m.303\u001b[0m \u001b[33mmed\u001b[0m=\u001b[1;36m0\u001b[0m\u001b[1;36m.390\u001b[0m \u001b[33mmax\u001b[0m=\u001b[1;36m0\u001b[0m\u001b[1;36m.459\u001b[0m  >\u001b[1;36m0.\u001b[0m\u001b[1;36m5\u001b[0m=\u001b[1;36m0\u001b[0m\u001b[1;36m.000\u001b[0m\n"
      ]
     },
     "metadata": {},
     "output_type": "display_data"
    },
    {
     "data": {
      "text/html": [
       "<pre style=\"white-space:pre;overflow-x:auto;line-height:normal;font-family:Menlo,'DejaVu Sans Mono',consolas,'Courier New',monospace\">E03: <span style=\"color: #800080; text-decoration-color: #800080; font-weight: bold\">AUC</span><span style=\"font-weight: bold\">(</span>EMA<span style=\"font-weight: bold\">)</span>=<span style=\"color: #008080; text-decoration-color: #008080; font-weight: bold\">0.7556</span> <span style=\"color: #808000; text-decoration-color: #808000\">F1</span>=<span style=\"color: #008080; text-decoration-color: #008080; font-weight: bold\">0.0000</span> <span style=\"color: #808000; text-decoration-color: #808000\">ACC</span>=<span style=\"color: #008080; text-decoration-color: #008080; font-weight: bold\">0.7172</span>\n",
       "</pre>\n"
      ],
      "text/plain": [
       "E03: \u001b[1;35mAUC\u001b[0m\u001b[1m(\u001b[0mEMA\u001b[1m)\u001b[0m=\u001b[1;36m0.7556\u001b[0m \u001b[33mF1\u001b[0m=\u001b[1;36m0\u001b[0m\u001b[1;36m.0000\u001b[0m \u001b[33mACC\u001b[0m=\u001b[1;36m0\u001b[0m\u001b[1;36m.7172\u001b[0m\n"
      ]
     },
     "metadata": {},
     "output_type": "display_data"
    },
    {
     "data": {
      "text/html": [
       "<pre style=\"white-space:pre;overflow-x:auto;line-height:normal;font-family:Menlo,'DejaVu Sans Mono',consolas,'Courier New',monospace\">Train loss: <span style=\"color: #008080; text-decoration-color: #008080; font-weight: bold\">0.0817</span>\n",
       "</pre>\n"
      ],
      "text/plain": [
       "Train loss: \u001b[1;36m0.0817\u001b[0m\n"
      ]
     },
     "metadata": {},
     "output_type": "display_data"
    },
    {
     "data": {
      "text/html": [
       "<pre style=\"white-space:pre;overflow-x:auto;line-height:normal;font-family:Menlo,'DejaVu Sans Mono',consolas,'Courier New',monospace\">Val prob stats: <span style=\"color: #808000; text-decoration-color: #808000\">min</span>=<span style=\"color: #008080; text-decoration-color: #008080; font-weight: bold\">0.300</span> <span style=\"color: #808000; text-decoration-color: #808000\">med</span>=<span style=\"color: #008080; text-decoration-color: #008080; font-weight: bold\">0.406</span> <span style=\"color: #808000; text-decoration-color: #808000\">max</span>=<span style=\"color: #008080; text-decoration-color: #008080; font-weight: bold\">0.475</span>  &gt;<span style=\"color: #008080; text-decoration-color: #008080; font-weight: bold\">0.5</span>=<span style=\"color: #008080; text-decoration-color: #008080; font-weight: bold\">0.000</span>\n",
       "</pre>\n"
      ],
      "text/plain": [
       "Val prob stats: \u001b[33mmin\u001b[0m=\u001b[1;36m0\u001b[0m\u001b[1;36m.300\u001b[0m \u001b[33mmed\u001b[0m=\u001b[1;36m0\u001b[0m\u001b[1;36m.406\u001b[0m \u001b[33mmax\u001b[0m=\u001b[1;36m0\u001b[0m\u001b[1;36m.475\u001b[0m  >\u001b[1;36m0.\u001b[0m\u001b[1;36m5\u001b[0m=\u001b[1;36m0\u001b[0m\u001b[1;36m.000\u001b[0m\n"
      ]
     },
     "metadata": {},
     "output_type": "display_data"
    },
    {
     "data": {
      "text/html": [
       "<pre style=\"white-space:pre;overflow-x:auto;line-height:normal;font-family:Menlo,'DejaVu Sans Mono',consolas,'Courier New',monospace\">E04: <span style=\"color: #800080; text-decoration-color: #800080; font-weight: bold\">AUC</span><span style=\"font-weight: bold\">(</span>EMA<span style=\"font-weight: bold\">)</span>=<span style=\"color: #008080; text-decoration-color: #008080; font-weight: bold\">0.7733</span> <span style=\"color: #808000; text-decoration-color: #808000\">F1</span>=<span style=\"color: #008080; text-decoration-color: #008080; font-weight: bold\">0.0000</span> <span style=\"color: #808000; text-decoration-color: #808000\">ACC</span>=<span style=\"color: #008080; text-decoration-color: #008080; font-weight: bold\">0.7172</span>\n",
       "</pre>\n"
      ],
      "text/plain": [
       "E04: \u001b[1;35mAUC\u001b[0m\u001b[1m(\u001b[0mEMA\u001b[1m)\u001b[0m=\u001b[1;36m0.7733\u001b[0m \u001b[33mF1\u001b[0m=\u001b[1;36m0\u001b[0m\u001b[1;36m.0000\u001b[0m \u001b[33mACC\u001b[0m=\u001b[1;36m0\u001b[0m\u001b[1;36m.7172\u001b[0m\n"
      ]
     },
     "metadata": {},
     "output_type": "display_data"
    },
    {
     "data": {
      "text/html": [
       "<pre style=\"white-space:pre;overflow-x:auto;line-height:normal;font-family:Menlo,'DejaVu Sans Mono',consolas,'Courier New',monospace\">Train loss: <span style=\"color: #008080; text-decoration-color: #008080; font-weight: bold\">0.0770</span>\n",
       "</pre>\n"
      ],
      "text/plain": [
       "Train loss: \u001b[1;36m0.0770\u001b[0m\n"
      ]
     },
     "metadata": {},
     "output_type": "display_data"
    },
    {
     "data": {
      "text/html": [
       "<pre style=\"white-space:pre;overflow-x:auto;line-height:normal;font-family:Menlo,'DejaVu Sans Mono',consolas,'Courier New',monospace\">Val prob stats: <span style=\"color: #808000; text-decoration-color: #808000\">min</span>=<span style=\"color: #008080; text-decoration-color: #008080; font-weight: bold\">0.345</span> <span style=\"color: #808000; text-decoration-color: #808000\">med</span>=<span style=\"color: #008080; text-decoration-color: #008080; font-weight: bold\">0.436</span> <span style=\"color: #808000; text-decoration-color: #808000\">max</span>=<span style=\"color: #008080; text-decoration-color: #008080; font-weight: bold\">0.524</span>  &gt;<span style=\"color: #008080; text-decoration-color: #008080; font-weight: bold\">0.5</span>=<span style=\"color: #008080; text-decoration-color: #008080; font-weight: bold\">0.008</span>\n",
       "</pre>\n"
      ],
      "text/plain": [
       "Val prob stats: \u001b[33mmin\u001b[0m=\u001b[1;36m0\u001b[0m\u001b[1;36m.345\u001b[0m \u001b[33mmed\u001b[0m=\u001b[1;36m0\u001b[0m\u001b[1;36m.436\u001b[0m \u001b[33mmax\u001b[0m=\u001b[1;36m0\u001b[0m\u001b[1;36m.524\u001b[0m  >\u001b[1;36m0.\u001b[0m\u001b[1;36m5\u001b[0m=\u001b[1;36m0\u001b[0m\u001b[1;36m.008\u001b[0m\n"
      ]
     },
     "metadata": {},
     "output_type": "display_data"
    },
    {
     "data": {
      "text/html": [
       "<pre style=\"white-space:pre;overflow-x:auto;line-height:normal;font-family:Menlo,'DejaVu Sans Mono',consolas,'Courier New',monospace\">E05: <span style=\"color: #800080; text-decoration-color: #800080; font-weight: bold\">AUC</span><span style=\"font-weight: bold\">(</span>EMA<span style=\"font-weight: bold\">)</span>=<span style=\"color: #008080; text-decoration-color: #008080; font-weight: bold\">0.7852</span> <span style=\"color: #808000; text-decoration-color: #808000\">F1</span>=<span style=\"color: #008080; text-decoration-color: #008080; font-weight: bold\">0.0538</span> <span style=\"color: #808000; text-decoration-color: #808000\">ACC</span>=<span style=\"color: #008080; text-decoration-color: #008080; font-weight: bold\">0.7250</span>\n",
       "</pre>\n"
      ],
      "text/plain": [
       "E05: \u001b[1;35mAUC\u001b[0m\u001b[1m(\u001b[0mEMA\u001b[1m)\u001b[0m=\u001b[1;36m0.7852\u001b[0m \u001b[33mF1\u001b[0m=\u001b[1;36m0\u001b[0m\u001b[1;36m.0538\u001b[0m \u001b[33mACC\u001b[0m=\u001b[1;36m0\u001b[0m\u001b[1;36m.7250\u001b[0m\n"
      ]
     },
     "metadata": {},
     "output_type": "display_data"
    },
    {
     "data": {
      "text/html": [
       "<pre style=\"white-space:pre;overflow-x:auto;line-height:normal;font-family:Menlo,'DejaVu Sans Mono',consolas,'Courier New',monospace\">Train loss: <span style=\"color: #008080; text-decoration-color: #008080; font-weight: bold\">0.0750</span>\n",
       "</pre>\n"
      ],
      "text/plain": [
       "Train loss: \u001b[1;36m0.0750\u001b[0m\n"
      ]
     },
     "metadata": {},
     "output_type": "display_data"
    },
    {
     "data": {
      "text/html": [
       "<pre style=\"white-space:pre;overflow-x:auto;line-height:normal;font-family:Menlo,'DejaVu Sans Mono',consolas,'Courier New',monospace\">Val prob stats: <span style=\"color: #808000; text-decoration-color: #808000\">min</span>=<span style=\"color: #008080; text-decoration-color: #008080; font-weight: bold\">0.334</span> <span style=\"color: #808000; text-decoration-color: #808000\">med</span>=<span style=\"color: #008080; text-decoration-color: #008080; font-weight: bold\">0.445</span> <span style=\"color: #808000; text-decoration-color: #808000\">max</span>=<span style=\"color: #008080; text-decoration-color: #008080; font-weight: bold\">0.557</span>  &gt;<span style=\"color: #008080; text-decoration-color: #008080; font-weight: bold\">0.5</span>=<span style=\"color: #008080; text-decoration-color: #008080; font-weight: bold\">0.045</span>\n",
       "</pre>\n"
      ],
      "text/plain": [
       "Val prob stats: \u001b[33mmin\u001b[0m=\u001b[1;36m0\u001b[0m\u001b[1;36m.334\u001b[0m \u001b[33mmed\u001b[0m=\u001b[1;36m0\u001b[0m\u001b[1;36m.445\u001b[0m \u001b[33mmax\u001b[0m=\u001b[1;36m0\u001b[0m\u001b[1;36m.557\u001b[0m  >\u001b[1;36m0.\u001b[0m\u001b[1;36m5\u001b[0m=\u001b[1;36m0\u001b[0m\u001b[1;36m.045\u001b[0m\n"
      ]
     },
     "metadata": {},
     "output_type": "display_data"
    },
    {
     "data": {
      "text/html": [
       "<pre style=\"white-space:pre;overflow-x:auto;line-height:normal;font-family:Menlo,'DejaVu Sans Mono',consolas,'Courier New',monospace\">E06: <span style=\"color: #800080; text-decoration-color: #800080; font-weight: bold\">AUC</span><span style=\"font-weight: bold\">(</span>EMA<span style=\"font-weight: bold\">)</span>=<span style=\"color: #008080; text-decoration-color: #008080; font-weight: bold\">0.7964</span> <span style=\"color: #808000; text-decoration-color: #808000\">F1</span>=<span style=\"color: #008080; text-decoration-color: #008080; font-weight: bold\">0.2762</span> <span style=\"color: #808000; text-decoration-color: #808000\">ACC</span>=<span style=\"color: #008080; text-decoration-color: #008080; font-weight: bold\">0.7625</span>\n",
       "</pre>\n"
      ],
      "text/plain": [
       "E06: \u001b[1;35mAUC\u001b[0m\u001b[1m(\u001b[0mEMA\u001b[1m)\u001b[0m=\u001b[1;36m0.7964\u001b[0m \u001b[33mF1\u001b[0m=\u001b[1;36m0\u001b[0m\u001b[1;36m.2762\u001b[0m \u001b[33mACC\u001b[0m=\u001b[1;36m0\u001b[0m\u001b[1;36m.7625\u001b[0m\n"
      ]
     },
     "metadata": {},
     "output_type": "display_data"
    },
    {
     "data": {
      "text/html": [
       "<pre style=\"white-space:pre;overflow-x:auto;line-height:normal;font-family:Menlo,'DejaVu Sans Mono',consolas,'Courier New',monospace\">Train loss: <span style=\"color: #008080; text-decoration-color: #008080; font-weight: bold\">0.0746</span>\n",
       "</pre>\n"
      ],
      "text/plain": [
       "Train loss: \u001b[1;36m0.0746\u001b[0m\n"
      ]
     },
     "metadata": {},
     "output_type": "display_data"
    },
    {
     "data": {
      "text/html": [
       "<pre style=\"white-space:pre;overflow-x:auto;line-height:normal;font-family:Menlo,'DejaVu Sans Mono',consolas,'Courier New',monospace\">Val prob stats: <span style=\"color: #808000; text-decoration-color: #808000\">min</span>=<span style=\"color: #008080; text-decoration-color: #008080; font-weight: bold\">0.318</span> <span style=\"color: #808000; text-decoration-color: #808000\">med</span>=<span style=\"color: #008080; text-decoration-color: #008080; font-weight: bold\">0.450</span> <span style=\"color: #808000; text-decoration-color: #808000\">max</span>=<span style=\"color: #008080; text-decoration-color: #008080; font-weight: bold\">0.592</span>  &gt;<span style=\"color: #008080; text-decoration-color: #008080; font-weight: bold\">0.5</span>=<span style=\"color: #008080; text-decoration-color: #008080; font-weight: bold\">0.058</span>\n",
       "</pre>\n"
      ],
      "text/plain": [
       "Val prob stats: \u001b[33mmin\u001b[0m=\u001b[1;36m0\u001b[0m\u001b[1;36m.318\u001b[0m \u001b[33mmed\u001b[0m=\u001b[1;36m0\u001b[0m\u001b[1;36m.450\u001b[0m \u001b[33mmax\u001b[0m=\u001b[1;36m0\u001b[0m\u001b[1;36m.592\u001b[0m  >\u001b[1;36m0.\u001b[0m\u001b[1;36m5\u001b[0m=\u001b[1;36m0\u001b[0m\u001b[1;36m.058\u001b[0m\n"
      ]
     },
     "metadata": {},
     "output_type": "display_data"
    },
    {
     "data": {
      "text/html": [
       "<pre style=\"white-space:pre;overflow-x:auto;line-height:normal;font-family:Menlo,'DejaVu Sans Mono',consolas,'Courier New',monospace\">E07: <span style=\"color: #800080; text-decoration-color: #800080; font-weight: bold\">AUC</span><span style=\"font-weight: bold\">(</span>EMA<span style=\"font-weight: bold\">)</span>=<span style=\"color: #008080; text-decoration-color: #008080; font-weight: bold\">0.8058</span> <span style=\"color: #808000; text-decoration-color: #808000\">F1</span>=<span style=\"color: #008080; text-decoration-color: #008080; font-weight: bold\">0.3303</span> <span style=\"color: #808000; text-decoration-color: #808000\">ACC</span>=<span style=\"color: #008080; text-decoration-color: #008080; font-weight: bold\">0.7719</span>\n",
       "</pre>\n"
      ],
      "text/plain": [
       "E07: \u001b[1;35mAUC\u001b[0m\u001b[1m(\u001b[0mEMA\u001b[1m)\u001b[0m=\u001b[1;36m0.8058\u001b[0m \u001b[33mF1\u001b[0m=\u001b[1;36m0\u001b[0m\u001b[1;36m.3303\u001b[0m \u001b[33mACC\u001b[0m=\u001b[1;36m0\u001b[0m\u001b[1;36m.7719\u001b[0m\n"
      ]
     },
     "metadata": {},
     "output_type": "display_data"
    },
    {
     "data": {
      "text/html": [
       "<pre style=\"white-space:pre;overflow-x:auto;line-height:normal;font-family:Menlo,'DejaVu Sans Mono',consolas,'Courier New',monospace\">Train loss: <span style=\"color: #008080; text-decoration-color: #008080; font-weight: bold\">0.0736</span>\n",
       "</pre>\n"
      ],
      "text/plain": [
       "Train loss: \u001b[1;36m0.0736\u001b[0m\n"
      ]
     },
     "metadata": {},
     "output_type": "display_data"
    },
    {
     "data": {
      "text/html": [
       "<pre style=\"white-space:pre;overflow-x:auto;line-height:normal;font-family:Menlo,'DejaVu Sans Mono',consolas,'Courier New',monospace\">Val prob stats: <span style=\"color: #808000; text-decoration-color: #808000\">min</span>=<span style=\"color: #008080; text-decoration-color: #008080; font-weight: bold\">0.282</span> <span style=\"color: #808000; text-decoration-color: #808000\">med</span>=<span style=\"color: #008080; text-decoration-color: #008080; font-weight: bold\">0.455</span> <span style=\"color: #808000; text-decoration-color: #808000\">max</span>=<span style=\"color: #008080; text-decoration-color: #008080; font-weight: bold\">0.644</span>  &gt;<span style=\"color: #008080; text-decoration-color: #008080; font-weight: bold\">0.5</span>=<span style=\"color: #008080; text-decoration-color: #008080; font-weight: bold\">0.067</span>\n",
       "</pre>\n"
      ],
      "text/plain": [
       "Val prob stats: \u001b[33mmin\u001b[0m=\u001b[1;36m0\u001b[0m\u001b[1;36m.282\u001b[0m \u001b[33mmed\u001b[0m=\u001b[1;36m0\u001b[0m\u001b[1;36m.455\u001b[0m \u001b[33mmax\u001b[0m=\u001b[1;36m0\u001b[0m\u001b[1;36m.644\u001b[0m  >\u001b[1;36m0.\u001b[0m\u001b[1;36m5\u001b[0m=\u001b[1;36m0\u001b[0m\u001b[1;36m.067\u001b[0m\n"
      ]
     },
     "metadata": {},
     "output_type": "display_data"
    },
    {
     "data": {
      "text/html": [
       "<pre style=\"white-space:pre;overflow-x:auto;line-height:normal;font-family:Menlo,'DejaVu Sans Mono',consolas,'Courier New',monospace\">E08: <span style=\"color: #800080; text-decoration-color: #800080; font-weight: bold\">AUC</span><span style=\"font-weight: bold\">(</span>EMA<span style=\"font-weight: bold\">)</span>=<span style=\"color: #008080; text-decoration-color: #008080; font-weight: bold\">0.8176</span> <span style=\"color: #808000; text-decoration-color: #808000\">F1</span>=<span style=\"color: #008080; text-decoration-color: #008080; font-weight: bold\">0.3750</span> <span style=\"color: #808000; text-decoration-color: #808000\">ACC</span>=<span style=\"color: #008080; text-decoration-color: #008080; font-weight: bold\">0.7812</span>\n",
       "</pre>\n"
      ],
      "text/plain": [
       "E08: \u001b[1;35mAUC\u001b[0m\u001b[1m(\u001b[0mEMA\u001b[1m)\u001b[0m=\u001b[1;36m0.8176\u001b[0m \u001b[33mF1\u001b[0m=\u001b[1;36m0\u001b[0m\u001b[1;36m.3750\u001b[0m \u001b[33mACC\u001b[0m=\u001b[1;36m0\u001b[0m\u001b[1;36m.7812\u001b[0m\n"
      ]
     },
     "metadata": {},
     "output_type": "display_data"
    },
    {
     "data": {
      "text/html": [
       "<pre style=\"white-space:pre;overflow-x:auto;line-height:normal;font-family:Menlo,'DejaVu Sans Mono',consolas,'Courier New',monospace\">Train loss: <span style=\"color: #008080; text-decoration-color: #008080; font-weight: bold\">0.0726</span>\n",
       "</pre>\n"
      ],
      "text/plain": [
       "Train loss: \u001b[1;36m0.0726\u001b[0m\n"
      ]
     },
     "metadata": {},
     "output_type": "display_data"
    },
    {
     "data": {
      "text/html": [
       "<pre style=\"white-space:pre;overflow-x:auto;line-height:normal;font-family:Menlo,'DejaVu Sans Mono',consolas,'Courier New',monospace\">Val prob stats: <span style=\"color: #808000; text-decoration-color: #808000\">min</span>=<span style=\"color: #008080; text-decoration-color: #008080; font-weight: bold\">0.247</span> <span style=\"color: #808000; text-decoration-color: #808000\">med</span>=<span style=\"color: #008080; text-decoration-color: #008080; font-weight: bold\">0.458</span> <span style=\"color: #808000; text-decoration-color: #808000\">max</span>=<span style=\"color: #008080; text-decoration-color: #008080; font-weight: bold\">0.698</span>  &gt;<span style=\"color: #008080; text-decoration-color: #008080; font-weight: bold\">0.5</span>=<span style=\"color: #008080; text-decoration-color: #008080; font-weight: bold\">0.086</span>\n",
       "</pre>\n"
      ],
      "text/plain": [
       "Val prob stats: \u001b[33mmin\u001b[0m=\u001b[1;36m0\u001b[0m\u001b[1;36m.247\u001b[0m \u001b[33mmed\u001b[0m=\u001b[1;36m0\u001b[0m\u001b[1;36m.458\u001b[0m \u001b[33mmax\u001b[0m=\u001b[1;36m0\u001b[0m\u001b[1;36m.698\u001b[0m  >\u001b[1;36m0.\u001b[0m\u001b[1;36m5\u001b[0m=\u001b[1;36m0\u001b[0m\u001b[1;36m.086\u001b[0m\n"
      ]
     },
     "metadata": {},
     "output_type": "display_data"
    },
    {
     "data": {
      "text/html": [
       "<pre style=\"white-space:pre;overflow-x:auto;line-height:normal;font-family:Menlo,'DejaVu Sans Mono',consolas,'Courier New',monospace\">E09: <span style=\"color: #800080; text-decoration-color: #800080; font-weight: bold\">AUC</span><span style=\"font-weight: bold\">(</span>EMA<span style=\"font-weight: bold\">)</span>=<span style=\"color: #008080; text-decoration-color: #008080; font-weight: bold\">0.8250</span> <span style=\"color: #808000; text-decoration-color: #808000\">F1</span>=<span style=\"color: #008080; text-decoration-color: #008080; font-weight: bold\">0.4407</span> <span style=\"color: #808000; text-decoration-color: #808000\">ACC</span>=<span style=\"color: #008080; text-decoration-color: #008080; font-weight: bold\">0.7937</span>\n",
       "</pre>\n"
      ],
      "text/plain": [
       "E09: \u001b[1;35mAUC\u001b[0m\u001b[1m(\u001b[0mEMA\u001b[1m)\u001b[0m=\u001b[1;36m0.8250\u001b[0m \u001b[33mF1\u001b[0m=\u001b[1;36m0\u001b[0m\u001b[1;36m.4407\u001b[0m \u001b[33mACC\u001b[0m=\u001b[1;36m0\u001b[0m\u001b[1;36m.7937\u001b[0m\n"
      ]
     },
     "metadata": {},
     "output_type": "display_data"
    },
    {
     "data": {
      "text/html": [
       "<pre style=\"white-space:pre;overflow-x:auto;line-height:normal;font-family:Menlo,'DejaVu Sans Mono',consolas,'Courier New',monospace\">Train loss: <span style=\"color: #008080; text-decoration-color: #008080; font-weight: bold\">0.0728</span>\n",
       "</pre>\n"
      ],
      "text/plain": [
       "Train loss: \u001b[1;36m0.0728\u001b[0m\n"
      ]
     },
     "metadata": {},
     "output_type": "display_data"
    },
    {
     "data": {
      "text/html": [
       "<pre style=\"white-space:pre;overflow-x:auto;line-height:normal;font-family:Menlo,'DejaVu Sans Mono',consolas,'Courier New',monospace\">Val prob stats: <span style=\"color: #808000; text-decoration-color: #808000\">min</span>=<span style=\"color: #008080; text-decoration-color: #008080; font-weight: bold\">0.221</span> <span style=\"color: #808000; text-decoration-color: #808000\">med</span>=<span style=\"color: #008080; text-decoration-color: #008080; font-weight: bold\">0.459</span> <span style=\"color: #808000; text-decoration-color: #808000\">max</span>=<span style=\"color: #008080; text-decoration-color: #008080; font-weight: bold\">0.736</span>  &gt;<span style=\"color: #008080; text-decoration-color: #008080; font-weight: bold\">0.5</span>=<span style=\"color: #008080; text-decoration-color: #008080; font-weight: bold\">0.105</span>\n",
       "</pre>\n"
      ],
      "text/plain": [
       "Val prob stats: \u001b[33mmin\u001b[0m=\u001b[1;36m0\u001b[0m\u001b[1;36m.221\u001b[0m \u001b[33mmed\u001b[0m=\u001b[1;36m0\u001b[0m\u001b[1;36m.459\u001b[0m \u001b[33mmax\u001b[0m=\u001b[1;36m0\u001b[0m\u001b[1;36m.736\u001b[0m  >\u001b[1;36m0.\u001b[0m\u001b[1;36m5\u001b[0m=\u001b[1;36m0\u001b[0m\u001b[1;36m.105\u001b[0m\n"
      ]
     },
     "metadata": {},
     "output_type": "display_data"
    },
    {
     "data": {
      "text/html": [
       "<pre style=\"white-space:pre;overflow-x:auto;line-height:normal;font-family:Menlo,'DejaVu Sans Mono',consolas,'Courier New',monospace\">E10: <span style=\"color: #800080; text-decoration-color: #800080; font-weight: bold\">AUC</span><span style=\"font-weight: bold\">(</span>EMA<span style=\"font-weight: bold\">)</span>=<span style=\"color: #008080; text-decoration-color: #008080; font-weight: bold\">0.8320</span> <span style=\"color: #808000; text-decoration-color: #808000\">F1</span>=<span style=\"color: #008080; text-decoration-color: #008080; font-weight: bold\">0.4839</span> <span style=\"color: #808000; text-decoration-color: #808000\">ACC</span>=<span style=\"color: #008080; text-decoration-color: #008080; font-weight: bold\">0.8000</span>\n",
       "</pre>\n"
      ],
      "text/plain": [
       "E10: \u001b[1;35mAUC\u001b[0m\u001b[1m(\u001b[0mEMA\u001b[1m)\u001b[0m=\u001b[1;36m0.8320\u001b[0m \u001b[33mF1\u001b[0m=\u001b[1;36m0\u001b[0m\u001b[1;36m.4839\u001b[0m \u001b[33mACC\u001b[0m=\u001b[1;36m0\u001b[0m\u001b[1;36m.8000\u001b[0m\n"
      ]
     },
     "metadata": {},
     "output_type": "display_data"
    },
    {
     "data": {
      "text/html": [
       "<pre style=\"white-space:pre;overflow-x:auto;line-height:normal;font-family:Menlo,'DejaVu Sans Mono',consolas,'Courier New',monospace\">Train loss: <span style=\"color: #008080; text-decoration-color: #008080; font-weight: bold\">0.0670</span>\n",
       "</pre>\n"
      ],
      "text/plain": [
       "Train loss: \u001b[1;36m0.0670\u001b[0m\n"
      ]
     },
     "metadata": {},
     "output_type": "display_data"
    },
    {
     "data": {
      "text/html": [
       "<pre style=\"white-space:pre;overflow-x:auto;line-height:normal;font-family:Menlo,'DejaVu Sans Mono',consolas,'Courier New',monospace\">Val prob stats: <span style=\"color: #808000; text-decoration-color: #808000\">min</span>=<span style=\"color: #008080; text-decoration-color: #008080; font-weight: bold\">0.197</span> <span style=\"color: #808000; text-decoration-color: #808000\">med</span>=<span style=\"color: #008080; text-decoration-color: #008080; font-weight: bold\">0.462</span> <span style=\"color: #808000; text-decoration-color: #808000\">max</span>=<span style=\"color: #008080; text-decoration-color: #008080; font-weight: bold\">0.763</span>  &gt;<span style=\"color: #008080; text-decoration-color: #008080; font-weight: bold\">0.5</span>=<span style=\"color: #008080; text-decoration-color: #008080; font-weight: bold\">0.114</span>\n",
       "</pre>\n"
      ],
      "text/plain": [
       "Val prob stats: \u001b[33mmin\u001b[0m=\u001b[1;36m0\u001b[0m\u001b[1;36m.197\u001b[0m \u001b[33mmed\u001b[0m=\u001b[1;36m0\u001b[0m\u001b[1;36m.462\u001b[0m \u001b[33mmax\u001b[0m=\u001b[1;36m0\u001b[0m\u001b[1;36m.763\u001b[0m  >\u001b[1;36m0.\u001b[0m\u001b[1;36m5\u001b[0m=\u001b[1;36m0\u001b[0m\u001b[1;36m.114\u001b[0m\n"
      ]
     },
     "metadata": {},
     "output_type": "display_data"
    },
    {
     "data": {
      "text/html": [
       "<pre style=\"white-space:pre;overflow-x:auto;line-height:normal;font-family:Menlo,'DejaVu Sans Mono',consolas,'Courier New',monospace\">E11: <span style=\"color: #800080; text-decoration-color: #800080; font-weight: bold\">AUC</span><span style=\"font-weight: bold\">(</span>EMA<span style=\"font-weight: bold\">)</span>=<span style=\"color: #008080; text-decoration-color: #008080; font-weight: bold\">0.8345</span> <span style=\"color: #808000; text-decoration-color: #808000\">F1</span>=<span style=\"color: #008080; text-decoration-color: #008080; font-weight: bold\">0.5039</span> <span style=\"color: #808000; text-decoration-color: #808000\">ACC</span>=<span style=\"color: #008080; text-decoration-color: #008080; font-weight: bold\">0.8031</span>\n",
       "</pre>\n"
      ],
      "text/plain": [
       "E11: \u001b[1;35mAUC\u001b[0m\u001b[1m(\u001b[0mEMA\u001b[1m)\u001b[0m=\u001b[1;36m0.8345\u001b[0m \u001b[33mF1\u001b[0m=\u001b[1;36m0\u001b[0m\u001b[1;36m.5039\u001b[0m \u001b[33mACC\u001b[0m=\u001b[1;36m0\u001b[0m\u001b[1;36m.8031\u001b[0m\n"
      ]
     },
     "metadata": {},
     "output_type": "display_data"
    },
    {
     "data": {
      "text/html": [
       "<pre style=\"white-space:pre;overflow-x:auto;line-height:normal;font-family:Menlo,'DejaVu Sans Mono',consolas,'Courier New',monospace\">Train loss: <span style=\"color: #008080; text-decoration-color: #008080; font-weight: bold\">0.0680</span>\n",
       "</pre>\n"
      ],
      "text/plain": [
       "Train loss: \u001b[1;36m0.0680\u001b[0m\n"
      ]
     },
     "metadata": {},
     "output_type": "display_data"
    },
    {
     "data": {
      "text/html": [
       "<pre style=\"white-space:pre;overflow-x:auto;line-height:normal;font-family:Menlo,'DejaVu Sans Mono',consolas,'Courier New',monospace\">Val prob stats: <span style=\"color: #808000; text-decoration-color: #808000\">min</span>=<span style=\"color: #008080; text-decoration-color: #008080; font-weight: bold\">0.180</span> <span style=\"color: #808000; text-decoration-color: #808000\">med</span>=<span style=\"color: #008080; text-decoration-color: #008080; font-weight: bold\">0.464</span> <span style=\"color: #808000; text-decoration-color: #808000\">max</span>=<span style=\"color: #008080; text-decoration-color: #008080; font-weight: bold\">0.788</span>  &gt;<span style=\"color: #008080; text-decoration-color: #008080; font-weight: bold\">0.5</span>=<span style=\"color: #008080; text-decoration-color: #008080; font-weight: bold\">0.125</span>\n",
       "</pre>\n"
      ],
      "text/plain": [
       "Val prob stats: \u001b[33mmin\u001b[0m=\u001b[1;36m0\u001b[0m\u001b[1;36m.180\u001b[0m \u001b[33mmed\u001b[0m=\u001b[1;36m0\u001b[0m\u001b[1;36m.464\u001b[0m \u001b[33mmax\u001b[0m=\u001b[1;36m0\u001b[0m\u001b[1;36m.788\u001b[0m  >\u001b[1;36m0.\u001b[0m\u001b[1;36m5\u001b[0m=\u001b[1;36m0\u001b[0m\u001b[1;36m.125\u001b[0m\n"
      ]
     },
     "metadata": {},
     "output_type": "display_data"
    },
    {
     "data": {
      "text/html": [
       "<pre style=\"white-space:pre;overflow-x:auto;line-height:normal;font-family:Menlo,'DejaVu Sans Mono',consolas,'Courier New',monospace\">E12: <span style=\"color: #800080; text-decoration-color: #800080; font-weight: bold\">AUC</span><span style=\"font-weight: bold\">(</span>EMA<span style=\"font-weight: bold\">)</span>=<span style=\"color: #008080; text-decoration-color: #008080; font-weight: bold\">0.8381</span> <span style=\"color: #808000; text-decoration-color: #808000\">F1</span>=<span style=\"color: #008080; text-decoration-color: #008080; font-weight: bold\">0.5134</span> <span style=\"color: #808000; text-decoration-color: #808000\">ACC</span>=<span style=\"color: #008080; text-decoration-color: #008080; font-weight: bold\">0.8016</span>\n",
       "</pre>\n"
      ],
      "text/plain": [
       "E12: \u001b[1;35mAUC\u001b[0m\u001b[1m(\u001b[0mEMA\u001b[1m)\u001b[0m=\u001b[1;36m0.8381\u001b[0m \u001b[33mF1\u001b[0m=\u001b[1;36m0\u001b[0m\u001b[1;36m.5134\u001b[0m \u001b[33mACC\u001b[0m=\u001b[1;36m0\u001b[0m\u001b[1;36m.8016\u001b[0m\n"
      ]
     },
     "metadata": {},
     "output_type": "display_data"
    },
    {
     "data": {
      "text/html": [
       "<pre style=\"white-space:pre;overflow-x:auto;line-height:normal;font-family:Menlo,'DejaVu Sans Mono',consolas,'Courier New',monospace\">Train loss: <span style=\"color: #008080; text-decoration-color: #008080; font-weight: bold\">0.0654</span>\n",
       "</pre>\n"
      ],
      "text/plain": [
       "Train loss: \u001b[1;36m0.0654\u001b[0m\n"
      ]
     },
     "metadata": {},
     "output_type": "display_data"
    },
    {
     "data": {
      "text/html": [
       "<pre style=\"white-space:pre;overflow-x:auto;line-height:normal;font-family:Menlo,'DejaVu Sans Mono',consolas,'Courier New',monospace\">Val prob stats: <span style=\"color: #808000; text-decoration-color: #808000\">min</span>=<span style=\"color: #008080; text-decoration-color: #008080; font-weight: bold\">0.164</span> <span style=\"color: #808000; text-decoration-color: #808000\">med</span>=<span style=\"color: #008080; text-decoration-color: #008080; font-weight: bold\">0.466</span> <span style=\"color: #808000; text-decoration-color: #808000\">max</span>=<span style=\"color: #008080; text-decoration-color: #008080; font-weight: bold\">0.809</span>  &gt;<span style=\"color: #008080; text-decoration-color: #008080; font-weight: bold\">0.5</span>=<span style=\"color: #008080; text-decoration-color: #008080; font-weight: bold\">0.136</span>\n",
       "</pre>\n"
      ],
      "text/plain": [
       "Val prob stats: \u001b[33mmin\u001b[0m=\u001b[1;36m0\u001b[0m\u001b[1;36m.164\u001b[0m \u001b[33mmed\u001b[0m=\u001b[1;36m0\u001b[0m\u001b[1;36m.466\u001b[0m \u001b[33mmax\u001b[0m=\u001b[1;36m0\u001b[0m\u001b[1;36m.809\u001b[0m  >\u001b[1;36m0.\u001b[0m\u001b[1;36m5\u001b[0m=\u001b[1;36m0\u001b[0m\u001b[1;36m.136\u001b[0m\n"
      ]
     },
     "metadata": {},
     "output_type": "display_data"
    },
    {
     "data": {
      "text/html": [
       "<pre style=\"white-space:pre;overflow-x:auto;line-height:normal;font-family:Menlo,'DejaVu Sans Mono',consolas,'Courier New',monospace\">E13: <span style=\"color: #800080; text-decoration-color: #800080; font-weight: bold\">AUC</span><span style=\"font-weight: bold\">(</span>EMA<span style=\"font-weight: bold\">)</span>=<span style=\"color: #008080; text-decoration-color: #008080; font-weight: bold\">0.8399</span> <span style=\"color: #808000; text-decoration-color: #808000\">F1</span>=<span style=\"color: #008080; text-decoration-color: #008080; font-weight: bold\">0.5224</span> <span style=\"color: #808000; text-decoration-color: #808000\">ACC</span>=<span style=\"color: #008080; text-decoration-color: #008080; font-weight: bold\">0.8000</span>\n",
       "</pre>\n"
      ],
      "text/plain": [
       "E13: \u001b[1;35mAUC\u001b[0m\u001b[1m(\u001b[0mEMA\u001b[1m)\u001b[0m=\u001b[1;36m0.8399\u001b[0m \u001b[33mF1\u001b[0m=\u001b[1;36m0\u001b[0m\u001b[1;36m.5224\u001b[0m \u001b[33mACC\u001b[0m=\u001b[1;36m0\u001b[0m\u001b[1;36m.8000\u001b[0m\n"
      ]
     },
     "metadata": {},
     "output_type": "display_data"
    },
    {
     "data": {
      "text/html": [
       "<pre style=\"white-space:pre;overflow-x:auto;line-height:normal;font-family:Menlo,'DejaVu Sans Mono',consolas,'Courier New',monospace\">Train loss: <span style=\"color: #008080; text-decoration-color: #008080; font-weight: bold\">0.0653</span>\n",
       "</pre>\n"
      ],
      "text/plain": [
       "Train loss: \u001b[1;36m0.0653\u001b[0m\n"
      ]
     },
     "metadata": {},
     "output_type": "display_data"
    },
    {
     "data": {
      "text/html": [
       "<pre style=\"white-space:pre;overflow-x:auto;line-height:normal;font-family:Menlo,'DejaVu Sans Mono',consolas,'Courier New',monospace\">Val prob stats: <span style=\"color: #808000; text-decoration-color: #808000\">min</span>=<span style=\"color: #008080; text-decoration-color: #008080; font-weight: bold\">0.151</span> <span style=\"color: #808000; text-decoration-color: #808000\">med</span>=<span style=\"color: #008080; text-decoration-color: #008080; font-weight: bold\">0.466</span> <span style=\"color: #808000; text-decoration-color: #808000\">max</span>=<span style=\"color: #008080; text-decoration-color: #008080; font-weight: bold\">0.829</span>  &gt;<span style=\"color: #008080; text-decoration-color: #008080; font-weight: bold\">0.5</span>=<span style=\"color: #008080; text-decoration-color: #008080; font-weight: bold\">0.139</span>\n",
       "</pre>\n"
      ],
      "text/plain": [
       "Val prob stats: \u001b[33mmin\u001b[0m=\u001b[1;36m0\u001b[0m\u001b[1;36m.151\u001b[0m \u001b[33mmed\u001b[0m=\u001b[1;36m0\u001b[0m\u001b[1;36m.466\u001b[0m \u001b[33mmax\u001b[0m=\u001b[1;36m0\u001b[0m\u001b[1;36m.829\u001b[0m  >\u001b[1;36m0.\u001b[0m\u001b[1;36m5\u001b[0m=\u001b[1;36m0\u001b[0m\u001b[1;36m.139\u001b[0m\n"
      ]
     },
     "metadata": {},
     "output_type": "display_data"
    },
    {
     "data": {
      "text/html": [
       "<pre style=\"white-space:pre;overflow-x:auto;line-height:normal;font-family:Menlo,'DejaVu Sans Mono',consolas,'Courier New',monospace\">E14: <span style=\"color: #800080; text-decoration-color: #800080; font-weight: bold\">AUC</span><span style=\"font-weight: bold\">(</span>EMA<span style=\"font-weight: bold\">)</span>=<span style=\"color: #008080; text-decoration-color: #008080; font-weight: bold\">0.8405</span> <span style=\"color: #808000; text-decoration-color: #808000\">F1</span>=<span style=\"color: #008080; text-decoration-color: #008080; font-weight: bold\">0.5259</span> <span style=\"color: #808000; text-decoration-color: #808000\">ACC</span>=<span style=\"color: #008080; text-decoration-color: #008080; font-weight: bold\">0.8000</span>\n",
       "</pre>\n"
      ],
      "text/plain": [
       "E14: \u001b[1;35mAUC\u001b[0m\u001b[1m(\u001b[0mEMA\u001b[1m)\u001b[0m=\u001b[1;36m0.8405\u001b[0m \u001b[33mF1\u001b[0m=\u001b[1;36m0\u001b[0m\u001b[1;36m.5259\u001b[0m \u001b[33mACC\u001b[0m=\u001b[1;36m0\u001b[0m\u001b[1;36m.8000\u001b[0m\n"
      ]
     },
     "metadata": {},
     "output_type": "display_data"
    },
    {
     "data": {
      "text/html": [
       "<pre style=\"white-space:pre;overflow-x:auto;line-height:normal;font-family:Menlo,'DejaVu Sans Mono',consolas,'Courier New',monospace\">Train loss: <span style=\"color: #008080; text-decoration-color: #008080; font-weight: bold\">0.0671</span>\n",
       "</pre>\n"
      ],
      "text/plain": [
       "Train loss: \u001b[1;36m0.0671\u001b[0m\n"
      ]
     },
     "metadata": {},
     "output_type": "display_data"
    },
    {
     "data": {
      "text/html": [
       "<pre style=\"white-space:pre;overflow-x:auto;line-height:normal;font-family:Menlo,'DejaVu Sans Mono',consolas,'Courier New',monospace\">Val prob stats: <span style=\"color: #808000; text-decoration-color: #808000\">min</span>=<span style=\"color: #008080; text-decoration-color: #008080; font-weight: bold\">0.139</span> <span style=\"color: #808000; text-decoration-color: #808000\">med</span>=<span style=\"color: #008080; text-decoration-color: #008080; font-weight: bold\">0.466</span> <span style=\"color: #808000; text-decoration-color: #808000\">max</span>=<span style=\"color: #008080; text-decoration-color: #008080; font-weight: bold\">0.844</span>  &gt;<span style=\"color: #008080; text-decoration-color: #008080; font-weight: bold\">0.5</span>=<span style=\"color: #008080; text-decoration-color: #008080; font-weight: bold\">0.147</span>\n",
       "</pre>\n"
      ],
      "text/plain": [
       "Val prob stats: \u001b[33mmin\u001b[0m=\u001b[1;36m0\u001b[0m\u001b[1;36m.139\u001b[0m \u001b[33mmed\u001b[0m=\u001b[1;36m0\u001b[0m\u001b[1;36m.466\u001b[0m \u001b[33mmax\u001b[0m=\u001b[1;36m0\u001b[0m\u001b[1;36m.844\u001b[0m  >\u001b[1;36m0.\u001b[0m\u001b[1;36m5\u001b[0m=\u001b[1;36m0\u001b[0m\u001b[1;36m.147\u001b[0m\n"
      ]
     },
     "metadata": {},
     "output_type": "display_data"
    },
    {
     "data": {
      "text/html": [
       "<pre style=\"white-space:pre;overflow-x:auto;line-height:normal;font-family:Menlo,'DejaVu Sans Mono',consolas,'Courier New',monospace\">E15: <span style=\"color: #800080; text-decoration-color: #800080; font-weight: bold\">AUC</span><span style=\"font-weight: bold\">(</span>EMA<span style=\"font-weight: bold\">)</span>=<span style=\"color: #008080; text-decoration-color: #008080; font-weight: bold\">0.8412</span> <span style=\"color: #808000; text-decoration-color: #808000\">F1</span>=<span style=\"color: #008080; text-decoration-color: #008080; font-weight: bold\">0.5236</span> <span style=\"color: #808000; text-decoration-color: #808000\">ACC</span>=<span style=\"color: #008080; text-decoration-color: #008080; font-weight: bold\">0.7953</span>\n",
       "</pre>\n"
      ],
      "text/plain": [
       "E15: \u001b[1;35mAUC\u001b[0m\u001b[1m(\u001b[0mEMA\u001b[1m)\u001b[0m=\u001b[1;36m0.8412\u001b[0m \u001b[33mF1\u001b[0m=\u001b[1;36m0\u001b[0m\u001b[1;36m.5236\u001b[0m \u001b[33mACC\u001b[0m=\u001b[1;36m0\u001b[0m\u001b[1;36m.7953\u001b[0m\n"
      ]
     },
     "metadata": {},
     "output_type": "display_data"
    },
    {
     "data": {
      "text/html": [
       "<pre style=\"white-space:pre;overflow-x:auto;line-height:normal;font-family:Menlo,'DejaVu Sans Mono',consolas,'Courier New',monospace\">Train loss: <span style=\"color: #008080; text-decoration-color: #008080; font-weight: bold\">0.0621</span>\n",
       "</pre>\n"
      ],
      "text/plain": [
       "Train loss: \u001b[1;36m0.0621\u001b[0m\n"
      ]
     },
     "metadata": {},
     "output_type": "display_data"
    },
    {
     "data": {
      "text/html": [
       "<pre style=\"white-space:pre;overflow-x:auto;line-height:normal;font-family:Menlo,'DejaVu Sans Mono',consolas,'Courier New',monospace\">Val prob stats: <span style=\"color: #808000; text-decoration-color: #808000\">min</span>=<span style=\"color: #008080; text-decoration-color: #008080; font-weight: bold\">0.129</span> <span style=\"color: #808000; text-decoration-color: #808000\">med</span>=<span style=\"color: #008080; text-decoration-color: #008080; font-weight: bold\">0.465</span> <span style=\"color: #808000; text-decoration-color: #808000\">max</span>=<span style=\"color: #008080; text-decoration-color: #008080; font-weight: bold\">0.853</span>  &gt;<span style=\"color: #008080; text-decoration-color: #008080; font-weight: bold\">0.5</span>=<span style=\"color: #008080; text-decoration-color: #008080; font-weight: bold\">0.164</span>\n",
       "</pre>\n"
      ],
      "text/plain": [
       "Val prob stats: \u001b[33mmin\u001b[0m=\u001b[1;36m0\u001b[0m\u001b[1;36m.129\u001b[0m \u001b[33mmed\u001b[0m=\u001b[1;36m0\u001b[0m\u001b[1;36m.465\u001b[0m \u001b[33mmax\u001b[0m=\u001b[1;36m0\u001b[0m\u001b[1;36m.853\u001b[0m  >\u001b[1;36m0.\u001b[0m\u001b[1;36m5\u001b[0m=\u001b[1;36m0\u001b[0m\u001b[1;36m.164\u001b[0m\n"
      ]
     },
     "metadata": {},
     "output_type": "display_data"
    },
    {
     "data": {
      "text/html": [
       "<pre style=\"white-space:pre;overflow-x:auto;line-height:normal;font-family:Menlo,'DejaVu Sans Mono',consolas,'Courier New',monospace\">E16: <span style=\"color: #800080; text-decoration-color: #800080; font-weight: bold\">AUC</span><span style=\"font-weight: bold\">(</span>EMA<span style=\"font-weight: bold\">)</span>=<span style=\"color: #008080; text-decoration-color: #008080; font-weight: bold\">0.8402</span> <span style=\"color: #808000; text-decoration-color: #808000\">F1</span>=<span style=\"color: #008080; text-decoration-color: #008080; font-weight: bold\">0.5385</span> <span style=\"color: #808000; text-decoration-color: #808000\">ACC</span>=<span style=\"color: #008080; text-decoration-color: #008080; font-weight: bold\">0.7937</span>\n",
       "</pre>\n"
      ],
      "text/plain": [
       "E16: \u001b[1;35mAUC\u001b[0m\u001b[1m(\u001b[0mEMA\u001b[1m)\u001b[0m=\u001b[1;36m0.8402\u001b[0m \u001b[33mF1\u001b[0m=\u001b[1;36m0\u001b[0m\u001b[1;36m.5385\u001b[0m \u001b[33mACC\u001b[0m=\u001b[1;36m0\u001b[0m\u001b[1;36m.7937\u001b[0m\n"
      ]
     },
     "metadata": {},
     "output_type": "display_data"
    },
    {
     "data": {
      "text/html": [
       "<pre style=\"white-space:pre;overflow-x:auto;line-height:normal;font-family:Menlo,'DejaVu Sans Mono',consolas,'Courier New',monospace\">Train loss: <span style=\"color: #008080; text-decoration-color: #008080; font-weight: bold\">0.0620</span>\n",
       "</pre>\n"
      ],
      "text/plain": [
       "Train loss: \u001b[1;36m0.0620\u001b[0m\n"
      ]
     },
     "metadata": {},
     "output_type": "display_data"
    },
    {
     "data": {
      "text/html": [
       "<pre style=\"white-space:pre;overflow-x:auto;line-height:normal;font-family:Menlo,'DejaVu Sans Mono',consolas,'Courier New',monospace\">Val prob stats: <span style=\"color: #808000; text-decoration-color: #808000\">min</span>=<span style=\"color: #008080; text-decoration-color: #008080; font-weight: bold\">0.120</span> <span style=\"color: #808000; text-decoration-color: #808000\">med</span>=<span style=\"color: #008080; text-decoration-color: #008080; font-weight: bold\">0.465</span> <span style=\"color: #808000; text-decoration-color: #808000\">max</span>=<span style=\"color: #008080; text-decoration-color: #008080; font-weight: bold\">0.860</span>  &gt;<span style=\"color: #008080; text-decoration-color: #008080; font-weight: bold\">0.5</span>=<span style=\"color: #008080; text-decoration-color: #008080; font-weight: bold\">0.192</span>\n",
       "</pre>\n"
      ],
      "text/plain": [
       "Val prob stats: \u001b[33mmin\u001b[0m=\u001b[1;36m0\u001b[0m\u001b[1;36m.120\u001b[0m \u001b[33mmed\u001b[0m=\u001b[1;36m0\u001b[0m\u001b[1;36m.465\u001b[0m \u001b[33mmax\u001b[0m=\u001b[1;36m0\u001b[0m\u001b[1;36m.860\u001b[0m  >\u001b[1;36m0.\u001b[0m\u001b[1;36m5\u001b[0m=\u001b[1;36m0\u001b[0m\u001b[1;36m.192\u001b[0m\n"
      ]
     },
     "metadata": {},
     "output_type": "display_data"
    },
    {
     "data": {
      "text/html": [
       "<pre style=\"white-space:pre;overflow-x:auto;line-height:normal;font-family:Menlo,'DejaVu Sans Mono',consolas,'Courier New',monospace\">E17: <span style=\"color: #800080; text-decoration-color: #800080; font-weight: bold\">AUC</span><span style=\"font-weight: bold\">(</span>EMA<span style=\"font-weight: bold\">)</span>=<span style=\"color: #008080; text-decoration-color: #008080; font-weight: bold\">0.8378</span> <span style=\"color: #808000; text-decoration-color: #808000\">F1</span>=<span style=\"color: #008080; text-decoration-color: #008080; font-weight: bold\">0.5658</span> <span style=\"color: #808000; text-decoration-color: #808000\">ACC</span>=<span style=\"color: #008080; text-decoration-color: #008080; font-weight: bold\">0.7937</span>\n",
       "</pre>\n"
      ],
      "text/plain": [
       "E17: \u001b[1;35mAUC\u001b[0m\u001b[1m(\u001b[0mEMA\u001b[1m)\u001b[0m=\u001b[1;36m0.8378\u001b[0m \u001b[33mF1\u001b[0m=\u001b[1;36m0\u001b[0m\u001b[1;36m.5658\u001b[0m \u001b[33mACC\u001b[0m=\u001b[1;36m0\u001b[0m\u001b[1;36m.7937\u001b[0m\n"
      ]
     },
     "metadata": {},
     "output_type": "display_data"
    },
    {
     "data": {
      "text/html": [
       "<pre style=\"white-space:pre;overflow-x:auto;line-height:normal;font-family:Menlo,'DejaVu Sans Mono',consolas,'Courier New',monospace\">Train loss: <span style=\"color: #008080; text-decoration-color: #008080; font-weight: bold\">0.0650</span>\n",
       "</pre>\n"
      ],
      "text/plain": [
       "Train loss: \u001b[1;36m0.0650\u001b[0m\n"
      ]
     },
     "metadata": {},
     "output_type": "display_data"
    },
    {
     "data": {
      "text/html": [
       "<pre style=\"white-space:pre;overflow-x:auto;line-height:normal;font-family:Menlo,'DejaVu Sans Mono',consolas,'Courier New',monospace\">Val prob stats: <span style=\"color: #808000; text-decoration-color: #808000\">min</span>=<span style=\"color: #008080; text-decoration-color: #008080; font-weight: bold\">0.114</span> <span style=\"color: #808000; text-decoration-color: #808000\">med</span>=<span style=\"color: #008080; text-decoration-color: #008080; font-weight: bold\">0.465</span> <span style=\"color: #808000; text-decoration-color: #808000\">max</span>=<span style=\"color: #008080; text-decoration-color: #008080; font-weight: bold\">0.866</span>  &gt;<span style=\"color: #008080; text-decoration-color: #008080; font-weight: bold\">0.5</span>=<span style=\"color: #008080; text-decoration-color: #008080; font-weight: bold\">0.217</span>\n",
       "</pre>\n"
      ],
      "text/plain": [
       "Val prob stats: \u001b[33mmin\u001b[0m=\u001b[1;36m0\u001b[0m\u001b[1;36m.114\u001b[0m \u001b[33mmed\u001b[0m=\u001b[1;36m0\u001b[0m\u001b[1;36m.465\u001b[0m \u001b[33mmax\u001b[0m=\u001b[1;36m0\u001b[0m\u001b[1;36m.866\u001b[0m  >\u001b[1;36m0.\u001b[0m\u001b[1;36m5\u001b[0m=\u001b[1;36m0\u001b[0m\u001b[1;36m.217\u001b[0m\n"
      ]
     },
     "metadata": {},
     "output_type": "display_data"
    },
    {
     "data": {
      "text/html": [
       "<pre style=\"white-space:pre;overflow-x:auto;line-height:normal;font-family:Menlo,'DejaVu Sans Mono',consolas,'Courier New',monospace\">E18: <span style=\"color: #800080; text-decoration-color: #800080; font-weight: bold\">AUC</span><span style=\"font-weight: bold\">(</span>EMA<span style=\"font-weight: bold\">)</span>=<span style=\"color: #008080; text-decoration-color: #008080; font-weight: bold\">0.8353</span> <span style=\"color: #808000; text-decoration-color: #808000\">F1</span>=<span style=\"color: #008080; text-decoration-color: #008080; font-weight: bold\">0.5688</span> <span style=\"color: #808000; text-decoration-color: #808000\">ACC</span>=<span style=\"color: #008080; text-decoration-color: #008080; font-weight: bold\">0.7844</span>\n",
       "</pre>\n"
      ],
      "text/plain": [
       "E18: \u001b[1;35mAUC\u001b[0m\u001b[1m(\u001b[0mEMA\u001b[1m)\u001b[0m=\u001b[1;36m0.8353\u001b[0m \u001b[33mF1\u001b[0m=\u001b[1;36m0\u001b[0m\u001b[1;36m.5688\u001b[0m \u001b[33mACC\u001b[0m=\u001b[1;36m0\u001b[0m\u001b[1;36m.7844\u001b[0m\n"
      ]
     },
     "metadata": {},
     "output_type": "display_data"
    },
    {
     "data": {
      "text/html": [
       "<pre style=\"white-space:pre;overflow-x:auto;line-height:normal;font-family:Menlo,'DejaVu Sans Mono',consolas,'Courier New',monospace\"><span style=\"color: #808000; text-decoration-color: #808000; font-weight: bold\">Fold </span><span style=\"color: #808000; text-decoration-color: #808000; font-weight: bold\">3</span><span style=\"color: #808000; text-decoration-color: #808000; font-weight: bold\"> fitted T: </span><span style=\"color: #808000; text-decoration-color: #808000; font-weight: bold\">0.615</span>\n",
       "</pre>\n"
      ],
      "text/plain": [
       "\u001b[1;33mFold \u001b[0m\u001b[1;33m3\u001b[0m\u001b[1;33m fitted T: \u001b[0m\u001b[1;33m0.615\u001b[0m\n"
      ]
     },
     "metadata": {},
     "output_type": "display_data"
    },
    {
     "data": {
      "text/html": [
       "<pre style=\"white-space:pre;overflow-x:auto;line-height:normal;font-family:Menlo,'DejaVu Sans Mono',consolas,'Courier New',monospace\">\n",
       "<span style=\"color: #008080; text-decoration-color: #008080; font-weight: bold\">========= FOLD </span><span style=\"color: #008080; text-decoration-color: #008080; font-weight: bold\">4</span><span style=\"color: #008080; text-decoration-color: #008080; font-weight: bold\">/</span><span style=\"color: #008080; text-decoration-color: #008080; font-weight: bold\">5</span><span style=\"color: #008080; text-decoration-color: #008080; font-weight: bold\"> =========</span>\n",
       "</pre>\n"
      ],
      "text/plain": [
       "\n",
       "\u001b[1;36m========= FOLD \u001b[0m\u001b[1;36m4\u001b[0m\u001b[1;36m/\u001b[0m\u001b[1;36m5\u001b[0m\u001b[1;36m =========\u001b[0m\n"
      ]
     },
     "metadata": {},
     "output_type": "display_data"
    },
    {
     "data": {
      "text/html": [
       "<pre style=\"white-space:pre;overflow-x:auto;line-height:normal;font-family:Menlo,'DejaVu Sans Mono',consolas,'Courier New',monospace\"><span style=\"color: #808000; text-decoration-color: #808000\">Init classifier bias to prior </span><span style=\"color: #808000; text-decoration-color: #808000\">logit</span><span style=\"color: #808000; text-decoration-color: #808000\">=</span><span style=\"color: #808000; text-decoration-color: #808000; font-weight: bold\">-0.932</span><span style=\"color: #808000; text-decoration-color: #808000\"> </span><span style=\"color: #808000; text-decoration-color: #808000; font-weight: bold\">(</span><span style=\"color: #808000; text-decoration-color: #808000\">prior</span><span style=\"color: #808000; text-decoration-color: #808000\">=</span><span style=\"color: #808000; text-decoration-color: #808000; font-weight: bold\">0.282</span><span style=\"color: #808000; text-decoration-color: #808000; font-weight: bold\">)</span>\n",
       "</pre>\n"
      ],
      "text/plain": [
       "\u001b[33mInit classifier bias to prior \u001b[0m\u001b[33mlogit\u001b[0m\u001b[33m=\u001b[0m\u001b[1;33m-0.932\u001b[0m\u001b[33m \u001b[0m\u001b[1;33m(\u001b[0m\u001b[33mprior\u001b[0m\u001b[33m=\u001b[0m\u001b[1;33m0\u001b[0m\u001b[1;33m.282\u001b[0m\u001b[1;33m)\u001b[0m\n"
      ]
     },
     "metadata": {},
     "output_type": "display_data"
    },
    {
     "data": {
      "text/html": [
       "<pre style=\"white-space:pre;overflow-x:auto;line-height:normal;font-family:Menlo,'DejaVu Sans Mono',consolas,'Courier New',monospace\">Train loss: <span style=\"color: #008080; text-decoration-color: #008080; font-weight: bold\">0.0899</span>\n",
       "</pre>\n"
      ],
      "text/plain": [
       "Train loss: \u001b[1;36m0.0899\u001b[0m\n"
      ]
     },
     "metadata": {},
     "output_type": "display_data"
    },
    {
     "data": {
      "text/html": [
       "<pre style=\"white-space:pre;overflow-x:auto;line-height:normal;font-family:Menlo,'DejaVu Sans Mono',consolas,'Courier New',monospace\">Val prob stats: <span style=\"color: #808000; text-decoration-color: #808000\">min</span>=<span style=\"color: #008080; text-decoration-color: #008080; font-weight: bold\">0.275</span> <span style=\"color: #808000; text-decoration-color: #808000\">med</span>=<span style=\"color: #008080; text-decoration-color: #008080; font-weight: bold\">0.341</span> <span style=\"color: #808000; text-decoration-color: #808000\">max</span>=<span style=\"color: #008080; text-decoration-color: #008080; font-weight: bold\">0.396</span>  &gt;<span style=\"color: #008080; text-decoration-color: #008080; font-weight: bold\">0.5</span>=<span style=\"color: #008080; text-decoration-color: #008080; font-weight: bold\">0.000</span>\n",
       "</pre>\n"
      ],
      "text/plain": [
       "Val prob stats: \u001b[33mmin\u001b[0m=\u001b[1;36m0\u001b[0m\u001b[1;36m.275\u001b[0m \u001b[33mmed\u001b[0m=\u001b[1;36m0\u001b[0m\u001b[1;36m.341\u001b[0m \u001b[33mmax\u001b[0m=\u001b[1;36m0\u001b[0m\u001b[1;36m.396\u001b[0m  >\u001b[1;36m0.\u001b[0m\u001b[1;36m5\u001b[0m=\u001b[1;36m0\u001b[0m\u001b[1;36m.000\u001b[0m\n"
      ]
     },
     "metadata": {},
     "output_type": "display_data"
    },
    {
     "data": {
      "text/html": [
       "<pre style=\"white-space:pre;overflow-x:auto;line-height:normal;font-family:Menlo,'DejaVu Sans Mono',consolas,'Courier New',monospace\">E01: <span style=\"color: #800080; text-decoration-color: #800080; font-weight: bold\">AUC</span><span style=\"font-weight: bold\">(</span>EMA<span style=\"font-weight: bold\">)</span>=<span style=\"color: #008080; text-decoration-color: #008080; font-weight: bold\">0.6331</span> <span style=\"color: #808000; text-decoration-color: #808000\">F1</span>=<span style=\"color: #008080; text-decoration-color: #008080; font-weight: bold\">0.0000</span> <span style=\"color: #808000; text-decoration-color: #808000\">ACC</span>=<span style=\"color: #008080; text-decoration-color: #008080; font-weight: bold\">0.7188</span>\n",
       "</pre>\n"
      ],
      "text/plain": [
       "E01: \u001b[1;35mAUC\u001b[0m\u001b[1m(\u001b[0mEMA\u001b[1m)\u001b[0m=\u001b[1;36m0.6331\u001b[0m \u001b[33mF1\u001b[0m=\u001b[1;36m0\u001b[0m\u001b[1;36m.0000\u001b[0m \u001b[33mACC\u001b[0m=\u001b[1;36m0\u001b[0m\u001b[1;36m.7188\u001b[0m\n"
      ]
     },
     "metadata": {},
     "output_type": "display_data"
    },
    {
     "data": {
      "text/html": [
       "<pre style=\"white-space:pre;overflow-x:auto;line-height:normal;font-family:Menlo,'DejaVu Sans Mono',consolas,'Courier New',monospace\">Train loss: <span style=\"color: #008080; text-decoration-color: #008080; font-weight: bold\">0.0798</span>\n",
       "</pre>\n"
      ],
      "text/plain": [
       "Train loss: \u001b[1;36m0.0798\u001b[0m\n"
      ]
     },
     "metadata": {},
     "output_type": "display_data"
    },
    {
     "data": {
      "text/html": [
       "<pre style=\"white-space:pre;overflow-x:auto;line-height:normal;font-family:Menlo,'DejaVu Sans Mono',consolas,'Courier New',monospace\">Val prob stats: <span style=\"color: #808000; text-decoration-color: #808000\">min</span>=<span style=\"color: #008080; text-decoration-color: #008080; font-weight: bold\">0.308</span> <span style=\"color: #808000; text-decoration-color: #808000\">med</span>=<span style=\"color: #008080; text-decoration-color: #008080; font-weight: bold\">0.387</span> <span style=\"color: #808000; text-decoration-color: #808000\">max</span>=<span style=\"color: #008080; text-decoration-color: #008080; font-weight: bold\">0.452</span>  &gt;<span style=\"color: #008080; text-decoration-color: #008080; font-weight: bold\">0.5</span>=<span style=\"color: #008080; text-decoration-color: #008080; font-weight: bold\">0.000</span>\n",
       "</pre>\n"
      ],
      "text/plain": [
       "Val prob stats: \u001b[33mmin\u001b[0m=\u001b[1;36m0\u001b[0m\u001b[1;36m.308\u001b[0m \u001b[33mmed\u001b[0m=\u001b[1;36m0\u001b[0m\u001b[1;36m.387\u001b[0m \u001b[33mmax\u001b[0m=\u001b[1;36m0\u001b[0m\u001b[1;36m.452\u001b[0m  >\u001b[1;36m0.\u001b[0m\u001b[1;36m5\u001b[0m=\u001b[1;36m0\u001b[0m\u001b[1;36m.000\u001b[0m\n"
      ]
     },
     "metadata": {},
     "output_type": "display_data"
    },
    {
     "data": {
      "text/html": [
       "<pre style=\"white-space:pre;overflow-x:auto;line-height:normal;font-family:Menlo,'DejaVu Sans Mono',consolas,'Courier New',monospace\">E02: <span style=\"color: #800080; text-decoration-color: #800080; font-weight: bold\">AUC</span><span style=\"font-weight: bold\">(</span>EMA<span style=\"font-weight: bold\">)</span>=<span style=\"color: #008080; text-decoration-color: #008080; font-weight: bold\">0.7035</span> <span style=\"color: #808000; text-decoration-color: #808000\">F1</span>=<span style=\"color: #008080; text-decoration-color: #008080; font-weight: bold\">0.0000</span> <span style=\"color: #808000; text-decoration-color: #808000\">ACC</span>=<span style=\"color: #008080; text-decoration-color: #008080; font-weight: bold\">0.7188</span>\n",
       "</pre>\n"
      ],
      "text/plain": [
       "E02: \u001b[1;35mAUC\u001b[0m\u001b[1m(\u001b[0mEMA\u001b[1m)\u001b[0m=\u001b[1;36m0.7035\u001b[0m \u001b[33mF1\u001b[0m=\u001b[1;36m0\u001b[0m\u001b[1;36m.0000\u001b[0m \u001b[33mACC\u001b[0m=\u001b[1;36m0\u001b[0m\u001b[1;36m.7188\u001b[0m\n"
      ]
     },
     "metadata": {},
     "output_type": "display_data"
    },
    {
     "data": {
      "text/html": [
       "<pre style=\"white-space:pre;overflow-x:auto;line-height:normal;font-family:Menlo,'DejaVu Sans Mono',consolas,'Courier New',monospace\">Train loss: <span style=\"color: #008080; text-decoration-color: #008080; font-weight: bold\">0.0826</span>\n",
       "</pre>\n"
      ],
      "text/plain": [
       "Train loss: \u001b[1;36m0.0826\u001b[0m\n"
      ]
     },
     "metadata": {},
     "output_type": "display_data"
    },
    {
     "data": {
      "text/html": [
       "<pre style=\"white-space:pre;overflow-x:auto;line-height:normal;font-family:Menlo,'DejaVu Sans Mono',consolas,'Courier New',monospace\">Val prob stats: <span style=\"color: #808000; text-decoration-color: #808000\">min</span>=<span style=\"color: #008080; text-decoration-color: #008080; font-weight: bold\">0.333</span> <span style=\"color: #808000; text-decoration-color: #808000\">med</span>=<span style=\"color: #008080; text-decoration-color: #008080; font-weight: bold\">0.431</span> <span style=\"color: #808000; text-decoration-color: #808000\">max</span>=<span style=\"color: #008080; text-decoration-color: #008080; font-weight: bold\">0.495</span>  &gt;<span style=\"color: #008080; text-decoration-color: #008080; font-weight: bold\">0.5</span>=<span style=\"color: #008080; text-decoration-color: #008080; font-weight: bold\">0.000</span>\n",
       "</pre>\n"
      ],
      "text/plain": [
       "Val prob stats: \u001b[33mmin\u001b[0m=\u001b[1;36m0\u001b[0m\u001b[1;36m.333\u001b[0m \u001b[33mmed\u001b[0m=\u001b[1;36m0\u001b[0m\u001b[1;36m.431\u001b[0m \u001b[33mmax\u001b[0m=\u001b[1;36m0\u001b[0m\u001b[1;36m.495\u001b[0m  >\u001b[1;36m0.\u001b[0m\u001b[1;36m5\u001b[0m=\u001b[1;36m0\u001b[0m\u001b[1;36m.000\u001b[0m\n"
      ]
     },
     "metadata": {},
     "output_type": "display_data"
    },
    {
     "data": {
      "text/html": [
       "<pre style=\"white-space:pre;overflow-x:auto;line-height:normal;font-family:Menlo,'DejaVu Sans Mono',consolas,'Courier New',monospace\">E03: <span style=\"color: #800080; text-decoration-color: #800080; font-weight: bold\">AUC</span><span style=\"font-weight: bold\">(</span>EMA<span style=\"font-weight: bold\">)</span>=<span style=\"color: #008080; text-decoration-color: #008080; font-weight: bold\">0.7384</span> <span style=\"color: #808000; text-decoration-color: #808000\">F1</span>=<span style=\"color: #008080; text-decoration-color: #008080; font-weight: bold\">0.0000</span> <span style=\"color: #808000; text-decoration-color: #808000\">ACC</span>=<span style=\"color: #008080; text-decoration-color: #008080; font-weight: bold\">0.7188</span>\n",
       "</pre>\n"
      ],
      "text/plain": [
       "E03: \u001b[1;35mAUC\u001b[0m\u001b[1m(\u001b[0mEMA\u001b[1m)\u001b[0m=\u001b[1;36m0.7384\u001b[0m \u001b[33mF1\u001b[0m=\u001b[1;36m0\u001b[0m\u001b[1;36m.0000\u001b[0m \u001b[33mACC\u001b[0m=\u001b[1;36m0\u001b[0m\u001b[1;36m.7188\u001b[0m\n"
      ]
     },
     "metadata": {},
     "output_type": "display_data"
    },
    {
     "data": {
      "text/html": [
       "<pre style=\"white-space:pre;overflow-x:auto;line-height:normal;font-family:Menlo,'DejaVu Sans Mono',consolas,'Courier New',monospace\">Train loss: <span style=\"color: #008080; text-decoration-color: #008080; font-weight: bold\">0.0780</span>\n",
       "</pre>\n"
      ],
      "text/plain": [
       "Train loss: \u001b[1;36m0.0780\u001b[0m\n"
      ]
     },
     "metadata": {},
     "output_type": "display_data"
    },
    {
     "data": {
      "text/html": [
       "<pre style=\"white-space:pre;overflow-x:auto;line-height:normal;font-family:Menlo,'DejaVu Sans Mono',consolas,'Courier New',monospace\">Val prob stats: <span style=\"color: #808000; text-decoration-color: #808000\">min</span>=<span style=\"color: #008080; text-decoration-color: #008080; font-weight: bold\">0.320</span> <span style=\"color: #808000; text-decoration-color: #808000\">med</span>=<span style=\"color: #008080; text-decoration-color: #008080; font-weight: bold\">0.451</span> <span style=\"color: #808000; text-decoration-color: #808000\">max</span>=<span style=\"color: #008080; text-decoration-color: #008080; font-weight: bold\">0.557</span>  &gt;<span style=\"color: #008080; text-decoration-color: #008080; font-weight: bold\">0.5</span>=<span style=\"color: #008080; text-decoration-color: #008080; font-weight: bold\">0.041</span>\n",
       "</pre>\n"
      ],
      "text/plain": [
       "Val prob stats: \u001b[33mmin\u001b[0m=\u001b[1;36m0\u001b[0m\u001b[1;36m.320\u001b[0m \u001b[33mmed\u001b[0m=\u001b[1;36m0\u001b[0m\u001b[1;36m.451\u001b[0m \u001b[33mmax\u001b[0m=\u001b[1;36m0\u001b[0m\u001b[1;36m.557\u001b[0m  >\u001b[1;36m0.\u001b[0m\u001b[1;36m5\u001b[0m=\u001b[1;36m0\u001b[0m\u001b[1;36m.041\u001b[0m\n"
      ]
     },
     "metadata": {},
     "output_type": "display_data"
    },
    {
     "data": {
      "text/html": [
       "<pre style=\"white-space:pre;overflow-x:auto;line-height:normal;font-family:Menlo,'DejaVu Sans Mono',consolas,'Courier New',monospace\">E04: <span style=\"color: #800080; text-decoration-color: #800080; font-weight: bold\">AUC</span><span style=\"font-weight: bold\">(</span>EMA<span style=\"font-weight: bold\">)</span>=<span style=\"color: #008080; text-decoration-color: #008080; font-weight: bold\">0.7793</span> <span style=\"color: #808000; text-decoration-color: #808000\">F1</span>=<span style=\"color: #008080; text-decoration-color: #008080; font-weight: bold\">0.2039</span> <span style=\"color: #808000; text-decoration-color: #808000\">ACC</span>=<span style=\"color: #008080; text-decoration-color: #008080; font-weight: bold\">0.7438</span>\n",
       "</pre>\n"
      ],
      "text/plain": [
       "E04: \u001b[1;35mAUC\u001b[0m\u001b[1m(\u001b[0mEMA\u001b[1m)\u001b[0m=\u001b[1;36m0.7793\u001b[0m \u001b[33mF1\u001b[0m=\u001b[1;36m0\u001b[0m\u001b[1;36m.2039\u001b[0m \u001b[33mACC\u001b[0m=\u001b[1;36m0\u001b[0m\u001b[1;36m.7438\u001b[0m\n"
      ]
     },
     "metadata": {},
     "output_type": "display_data"
    },
    {
     "data": {
      "text/html": [
       "<pre style=\"white-space:pre;overflow-x:auto;line-height:normal;font-family:Menlo,'DejaVu Sans Mono',consolas,'Courier New',monospace\">Train loss: <span style=\"color: #008080; text-decoration-color: #008080; font-weight: bold\">0.0776</span>\n",
       "</pre>\n"
      ],
      "text/plain": [
       "Train loss: \u001b[1;36m0.0776\u001b[0m\n"
      ]
     },
     "metadata": {},
     "output_type": "display_data"
    },
    {
     "data": {
      "text/html": [
       "<pre style=\"white-space:pre;overflow-x:auto;line-height:normal;font-family:Menlo,'DejaVu Sans Mono',consolas,'Courier New',monospace\">Val prob stats: <span style=\"color: #808000; text-decoration-color: #808000\">min</span>=<span style=\"color: #008080; text-decoration-color: #008080; font-weight: bold\">0.297</span> <span style=\"color: #808000; text-decoration-color: #808000\">med</span>=<span style=\"color: #008080; text-decoration-color: #008080; font-weight: bold\">0.454</span> <span style=\"color: #808000; text-decoration-color: #808000\">max</span>=<span style=\"color: #008080; text-decoration-color: #008080; font-weight: bold\">0.581</span>  &gt;<span style=\"color: #008080; text-decoration-color: #008080; font-weight: bold\">0.5</span>=<span style=\"color: #008080; text-decoration-color: #008080; font-weight: bold\">0.062</span>\n",
       "</pre>\n"
      ],
      "text/plain": [
       "Val prob stats: \u001b[33mmin\u001b[0m=\u001b[1;36m0\u001b[0m\u001b[1;36m.297\u001b[0m \u001b[33mmed\u001b[0m=\u001b[1;36m0\u001b[0m\u001b[1;36m.454\u001b[0m \u001b[33mmax\u001b[0m=\u001b[1;36m0\u001b[0m\u001b[1;36m.581\u001b[0m  >\u001b[1;36m0.\u001b[0m\u001b[1;36m5\u001b[0m=\u001b[1;36m0\u001b[0m\u001b[1;36m.062\u001b[0m\n"
      ]
     },
     "metadata": {},
     "output_type": "display_data"
    },
    {
     "data": {
      "text/html": [
       "<pre style=\"white-space:pre;overflow-x:auto;line-height:normal;font-family:Menlo,'DejaVu Sans Mono',consolas,'Courier New',monospace\">E05: <span style=\"color: #800080; text-decoration-color: #800080; font-weight: bold\">AUC</span><span style=\"font-weight: bold\">(</span>EMA<span style=\"font-weight: bold\">)</span>=<span style=\"color: #008080; text-decoration-color: #008080; font-weight: bold\">0.7926</span> <span style=\"color: #808000; text-decoration-color: #808000\">F1</span>=<span style=\"color: #008080; text-decoration-color: #008080; font-weight: bold\">0.3273</span> <span style=\"color: #808000; text-decoration-color: #808000\">ACC</span>=<span style=\"color: #008080; text-decoration-color: #008080; font-weight: bold\">0.7688</span>\n",
       "</pre>\n"
      ],
      "text/plain": [
       "E05: \u001b[1;35mAUC\u001b[0m\u001b[1m(\u001b[0mEMA\u001b[1m)\u001b[0m=\u001b[1;36m0.7926\u001b[0m \u001b[33mF1\u001b[0m=\u001b[1;36m0\u001b[0m\u001b[1;36m.3273\u001b[0m \u001b[33mACC\u001b[0m=\u001b[1;36m0\u001b[0m\u001b[1;36m.7688\u001b[0m\n"
      ]
     },
     "metadata": {},
     "output_type": "display_data"
    },
    {
     "data": {
      "text/html": [
       "<pre style=\"white-space:pre;overflow-x:auto;line-height:normal;font-family:Menlo,'DejaVu Sans Mono',consolas,'Courier New',monospace\">Train loss: <span style=\"color: #008080; text-decoration-color: #008080; font-weight: bold\">0.0751</span>\n",
       "</pre>\n"
      ],
      "text/plain": [
       "Train loss: \u001b[1;36m0.0751\u001b[0m\n"
      ]
     },
     "metadata": {},
     "output_type": "display_data"
    },
    {
     "data": {
      "text/html": [
       "<pre style=\"white-space:pre;overflow-x:auto;line-height:normal;font-family:Menlo,'DejaVu Sans Mono',consolas,'Courier New',monospace\">Val prob stats: <span style=\"color: #808000; text-decoration-color: #808000\">min</span>=<span style=\"color: #008080; text-decoration-color: #008080; font-weight: bold\">0.258</span> <span style=\"color: #808000; text-decoration-color: #808000\">med</span>=<span style=\"color: #008080; text-decoration-color: #008080; font-weight: bold\">0.456</span> <span style=\"color: #808000; text-decoration-color: #808000\">max</span>=<span style=\"color: #008080; text-decoration-color: #008080; font-weight: bold\">0.606</span>  &gt;<span style=\"color: #008080; text-decoration-color: #008080; font-weight: bold\">0.5</span>=<span style=\"color: #008080; text-decoration-color: #008080; font-weight: bold\">0.084</span>\n",
       "</pre>\n"
      ],
      "text/plain": [
       "Val prob stats: \u001b[33mmin\u001b[0m=\u001b[1;36m0\u001b[0m\u001b[1;36m.258\u001b[0m \u001b[33mmed\u001b[0m=\u001b[1;36m0\u001b[0m\u001b[1;36m.456\u001b[0m \u001b[33mmax\u001b[0m=\u001b[1;36m0\u001b[0m\u001b[1;36m.606\u001b[0m  >\u001b[1;36m0.\u001b[0m\u001b[1;36m5\u001b[0m=\u001b[1;36m0\u001b[0m\u001b[1;36m.084\u001b[0m\n"
      ]
     },
     "metadata": {},
     "output_type": "display_data"
    },
    {
     "data": {
      "text/html": [
       "<pre style=\"white-space:pre;overflow-x:auto;line-height:normal;font-family:Menlo,'DejaVu Sans Mono',consolas,'Courier New',monospace\">E06: <span style=\"color: #800080; text-decoration-color: #800080; font-weight: bold\">AUC</span><span style=\"font-weight: bold\">(</span>EMA<span style=\"font-weight: bold\">)</span>=<span style=\"color: #008080; text-decoration-color: #008080; font-weight: bold\">0.8016</span> <span style=\"color: #808000; text-decoration-color: #808000\">F1</span>=<span style=\"color: #008080; text-decoration-color: #008080; font-weight: bold\">0.4274</span> <span style=\"color: #808000; text-decoration-color: #808000\">ACC</span>=<span style=\"color: #008080; text-decoration-color: #008080; font-weight: bold\">0.7906</span>\n",
       "</pre>\n"
      ],
      "text/plain": [
       "E06: \u001b[1;35mAUC\u001b[0m\u001b[1m(\u001b[0mEMA\u001b[1m)\u001b[0m=\u001b[1;36m0.8016\u001b[0m \u001b[33mF1\u001b[0m=\u001b[1;36m0\u001b[0m\u001b[1;36m.4274\u001b[0m \u001b[33mACC\u001b[0m=\u001b[1;36m0\u001b[0m\u001b[1;36m.7906\u001b[0m\n"
      ]
     },
     "metadata": {},
     "output_type": "display_data"
    },
    {
     "data": {
      "text/html": [
       "<pre style=\"white-space:pre;overflow-x:auto;line-height:normal;font-family:Menlo,'DejaVu Sans Mono',consolas,'Courier New',monospace\">Train loss: <span style=\"color: #008080; text-decoration-color: #008080; font-weight: bold\">0.0716</span>\n",
       "</pre>\n"
      ],
      "text/plain": [
       "Train loss: \u001b[1;36m0.0716\u001b[0m\n"
      ]
     },
     "metadata": {},
     "output_type": "display_data"
    },
    {
     "data": {
      "text/html": [
       "<pre style=\"white-space:pre;overflow-x:auto;line-height:normal;font-family:Menlo,'DejaVu Sans Mono',consolas,'Courier New',monospace\">Val prob stats: <span style=\"color: #808000; text-decoration-color: #808000\">min</span>=<span style=\"color: #008080; text-decoration-color: #008080; font-weight: bold\">0.237</span> <span style=\"color: #808000; text-decoration-color: #808000\">med</span>=<span style=\"color: #008080; text-decoration-color: #008080; font-weight: bold\">0.459</span> <span style=\"color: #808000; text-decoration-color: #808000\">max</span>=<span style=\"color: #008080; text-decoration-color: #008080; font-weight: bold\">0.634</span>  &gt;<span style=\"color: #008080; text-decoration-color: #008080; font-weight: bold\">0.5</span>=<span style=\"color: #008080; text-decoration-color: #008080; font-weight: bold\">0.092</span>\n",
       "</pre>\n"
      ],
      "text/plain": [
       "Val prob stats: \u001b[33mmin\u001b[0m=\u001b[1;36m0\u001b[0m\u001b[1;36m.237\u001b[0m \u001b[33mmed\u001b[0m=\u001b[1;36m0\u001b[0m\u001b[1;36m.459\u001b[0m \u001b[33mmax\u001b[0m=\u001b[1;36m0\u001b[0m\u001b[1;36m.634\u001b[0m  >\u001b[1;36m0.\u001b[0m\u001b[1;36m5\u001b[0m=\u001b[1;36m0\u001b[0m\u001b[1;36m.092\u001b[0m\n"
      ]
     },
     "metadata": {},
     "output_type": "display_data"
    },
    {
     "data": {
      "text/html": [
       "<pre style=\"white-space:pre;overflow-x:auto;line-height:normal;font-family:Menlo,'DejaVu Sans Mono',consolas,'Courier New',monospace\">E07: <span style=\"color: #800080; text-decoration-color: #800080; font-weight: bold\">AUC</span><span style=\"font-weight: bold\">(</span>EMA<span style=\"font-weight: bold\">)</span>=<span style=\"color: #008080; text-decoration-color: #008080; font-weight: bold\">0.8110</span> <span style=\"color: #808000; text-decoration-color: #808000\">F1</span>=<span style=\"color: #008080; text-decoration-color: #008080; font-weight: bold\">0.4603</span> <span style=\"color: #808000; text-decoration-color: #808000\">ACC</span>=<span style=\"color: #008080; text-decoration-color: #008080; font-weight: bold\">0.7984</span>\n",
       "</pre>\n"
      ],
      "text/plain": [
       "E07: \u001b[1;35mAUC\u001b[0m\u001b[1m(\u001b[0mEMA\u001b[1m)\u001b[0m=\u001b[1;36m0.8110\u001b[0m \u001b[33mF1\u001b[0m=\u001b[1;36m0\u001b[0m\u001b[1;36m.4603\u001b[0m \u001b[33mACC\u001b[0m=\u001b[1;36m0\u001b[0m\u001b[1;36m.7984\u001b[0m\n"
      ]
     },
     "metadata": {},
     "output_type": "display_data"
    },
    {
     "data": {
      "text/html": [
       "<pre style=\"white-space:pre;overflow-x:auto;line-height:normal;font-family:Menlo,'DejaVu Sans Mono',consolas,'Courier New',monospace\">Train loss: <span style=\"color: #008080; text-decoration-color: #008080; font-weight: bold\">0.0719</span>\n",
       "</pre>\n"
      ],
      "text/plain": [
       "Train loss: \u001b[1;36m0.0719\u001b[0m\n"
      ]
     },
     "metadata": {},
     "output_type": "display_data"
    },
    {
     "data": {
      "text/html": [
       "<pre style=\"white-space:pre;overflow-x:auto;line-height:normal;font-family:Menlo,'DejaVu Sans Mono',consolas,'Courier New',monospace\">Val prob stats: <span style=\"color: #808000; text-decoration-color: #808000\">min</span>=<span style=\"color: #008080; text-decoration-color: #008080; font-weight: bold\">0.217</span> <span style=\"color: #808000; text-decoration-color: #808000\">med</span>=<span style=\"color: #008080; text-decoration-color: #008080; font-weight: bold\">0.464</span> <span style=\"color: #808000; text-decoration-color: #808000\">max</span>=<span style=\"color: #008080; text-decoration-color: #008080; font-weight: bold\">0.664</span>  &gt;<span style=\"color: #008080; text-decoration-color: #008080; font-weight: bold\">0.5</span>=<span style=\"color: #008080; text-decoration-color: #008080; font-weight: bold\">0.116</span>\n",
       "</pre>\n"
      ],
      "text/plain": [
       "Val prob stats: \u001b[33mmin\u001b[0m=\u001b[1;36m0\u001b[0m\u001b[1;36m.217\u001b[0m \u001b[33mmed\u001b[0m=\u001b[1;36m0\u001b[0m\u001b[1;36m.464\u001b[0m \u001b[33mmax\u001b[0m=\u001b[1;36m0\u001b[0m\u001b[1;36m.664\u001b[0m  >\u001b[1;36m0.\u001b[0m\u001b[1;36m5\u001b[0m=\u001b[1;36m0\u001b[0m\u001b[1;36m.116\u001b[0m\n"
      ]
     },
     "metadata": {},
     "output_type": "display_data"
    },
    {
     "data": {
      "text/html": [
       "<pre style=\"white-space:pre;overflow-x:auto;line-height:normal;font-family:Menlo,'DejaVu Sans Mono',consolas,'Courier New',monospace\">E08: <span style=\"color: #800080; text-decoration-color: #800080; font-weight: bold\">AUC</span><span style=\"font-weight: bold\">(</span>EMA<span style=\"font-weight: bold\">)</span>=<span style=\"color: #008080; text-decoration-color: #008080; font-weight: bold\">0.8222</span> <span style=\"color: #808000; text-decoration-color: #808000\">F1</span>=<span style=\"color: #008080; text-decoration-color: #008080; font-weight: bold\">0.4724</span> <span style=\"color: #808000; text-decoration-color: #808000\">ACC</span>=<span style=\"color: #008080; text-decoration-color: #008080; font-weight: bold\">0.7906</span>\n",
       "</pre>\n"
      ],
      "text/plain": [
       "E08: \u001b[1;35mAUC\u001b[0m\u001b[1m(\u001b[0mEMA\u001b[1m)\u001b[0m=\u001b[1;36m0.8222\u001b[0m \u001b[33mF1\u001b[0m=\u001b[1;36m0\u001b[0m\u001b[1;36m.4724\u001b[0m \u001b[33mACC\u001b[0m=\u001b[1;36m0\u001b[0m\u001b[1;36m.7906\u001b[0m\n"
      ]
     },
     "metadata": {},
     "output_type": "display_data"
    },
    {
     "data": {
      "text/html": [
       "<pre style=\"white-space:pre;overflow-x:auto;line-height:normal;font-family:Menlo,'DejaVu Sans Mono',consolas,'Courier New',monospace\">Train loss: <span style=\"color: #008080; text-decoration-color: #008080; font-weight: bold\">0.0726</span>\n",
       "</pre>\n"
      ],
      "text/plain": [
       "Train loss: \u001b[1;36m0.0726\u001b[0m\n"
      ]
     },
     "metadata": {},
     "output_type": "display_data"
    },
    {
     "data": {
      "text/html": [
       "<pre style=\"white-space:pre;overflow-x:auto;line-height:normal;font-family:Menlo,'DejaVu Sans Mono',consolas,'Courier New',monospace\">Val prob stats: <span style=\"color: #808000; text-decoration-color: #808000\">min</span>=<span style=\"color: #008080; text-decoration-color: #008080; font-weight: bold\">0.193</span> <span style=\"color: #808000; text-decoration-color: #808000\">med</span>=<span style=\"color: #008080; text-decoration-color: #008080; font-weight: bold\">0.467</span> <span style=\"color: #808000; text-decoration-color: #808000\">max</span>=<span style=\"color: #008080; text-decoration-color: #008080; font-weight: bold\">0.701</span>  &gt;<span style=\"color: #008080; text-decoration-color: #008080; font-weight: bold\">0.5</span>=<span style=\"color: #008080; text-decoration-color: #008080; font-weight: bold\">0.123</span>\n",
       "</pre>\n"
      ],
      "text/plain": [
       "Val prob stats: \u001b[33mmin\u001b[0m=\u001b[1;36m0\u001b[0m\u001b[1;36m.193\u001b[0m \u001b[33mmed\u001b[0m=\u001b[1;36m0\u001b[0m\u001b[1;36m.467\u001b[0m \u001b[33mmax\u001b[0m=\u001b[1;36m0\u001b[0m\u001b[1;36m.701\u001b[0m  >\u001b[1;36m0.\u001b[0m\u001b[1;36m5\u001b[0m=\u001b[1;36m0\u001b[0m\u001b[1;36m.123\u001b[0m\n"
      ]
     },
     "metadata": {},
     "output_type": "display_data"
    },
    {
     "data": {
      "text/html": [
       "<pre style=\"white-space:pre;overflow-x:auto;line-height:normal;font-family:Menlo,'DejaVu Sans Mono',consolas,'Courier New',monospace\">E09: <span style=\"color: #800080; text-decoration-color: #800080; font-weight: bold\">AUC</span><span style=\"font-weight: bold\">(</span>EMA<span style=\"font-weight: bold\">)</span>=<span style=\"color: #008080; text-decoration-color: #008080; font-weight: bold\">0.8281</span> <span style=\"color: #808000; text-decoration-color: #808000\">F1</span>=<span style=\"color: #008080; text-decoration-color: #008080; font-weight: bold\">0.4788</span> <span style=\"color: #808000; text-decoration-color: #808000\">ACC</span>=<span style=\"color: #008080; text-decoration-color: #008080; font-weight: bold\">0.7891</span>\n",
       "</pre>\n"
      ],
      "text/plain": [
       "E09: \u001b[1;35mAUC\u001b[0m\u001b[1m(\u001b[0mEMA\u001b[1m)\u001b[0m=\u001b[1;36m0.8281\u001b[0m \u001b[33mF1\u001b[0m=\u001b[1;36m0\u001b[0m\u001b[1;36m.4788\u001b[0m \u001b[33mACC\u001b[0m=\u001b[1;36m0\u001b[0m\u001b[1;36m.7891\u001b[0m\n"
      ]
     },
     "metadata": {},
     "output_type": "display_data"
    },
    {
     "data": {
      "text/html": [
       "<pre style=\"white-space:pre;overflow-x:auto;line-height:normal;font-family:Menlo,'DejaVu Sans Mono',consolas,'Courier New',monospace\">Train loss: <span style=\"color: #008080; text-decoration-color: #008080; font-weight: bold\">0.0719</span>\n",
       "</pre>\n"
      ],
      "text/plain": [
       "Train loss: \u001b[1;36m0.0719\u001b[0m\n"
      ]
     },
     "metadata": {},
     "output_type": "display_data"
    },
    {
     "data": {
      "text/html": [
       "<pre style=\"white-space:pre;overflow-x:auto;line-height:normal;font-family:Menlo,'DejaVu Sans Mono',consolas,'Courier New',monospace\">Val prob stats: <span style=\"color: #808000; text-decoration-color: #808000\">min</span>=<span style=\"color: #008080; text-decoration-color: #008080; font-weight: bold\">0.175</span> <span style=\"color: #808000; text-decoration-color: #808000\">med</span>=<span style=\"color: #008080; text-decoration-color: #008080; font-weight: bold\">0.467</span> <span style=\"color: #808000; text-decoration-color: #808000\">max</span>=<span style=\"color: #008080; text-decoration-color: #008080; font-weight: bold\">0.739</span>  &gt;<span style=\"color: #008080; text-decoration-color: #008080; font-weight: bold\">0.5</span>=<span style=\"color: #008080; text-decoration-color: #008080; font-weight: bold\">0.127</span>\n",
       "</pre>\n"
      ],
      "text/plain": [
       "Val prob stats: \u001b[33mmin\u001b[0m=\u001b[1;36m0\u001b[0m\u001b[1;36m.175\u001b[0m \u001b[33mmed\u001b[0m=\u001b[1;36m0\u001b[0m\u001b[1;36m.467\u001b[0m \u001b[33mmax\u001b[0m=\u001b[1;36m0\u001b[0m\u001b[1;36m.739\u001b[0m  >\u001b[1;36m0.\u001b[0m\u001b[1;36m5\u001b[0m=\u001b[1;36m0\u001b[0m\u001b[1;36m.127\u001b[0m\n"
      ]
     },
     "metadata": {},
     "output_type": "display_data"
    },
    {
     "data": {
      "text/html": [
       "<pre style=\"white-space:pre;overflow-x:auto;line-height:normal;font-family:Menlo,'DejaVu Sans Mono',consolas,'Courier New',monospace\">E10: <span style=\"color: #800080; text-decoration-color: #800080; font-weight: bold\">AUC</span><span style=\"font-weight: bold\">(</span>EMA<span style=\"font-weight: bold\">)</span>=<span style=\"color: #008080; text-decoration-color: #008080; font-weight: bold\">0.8290</span> <span style=\"color: #808000; text-decoration-color: #808000\">F1</span>=<span style=\"color: #008080; text-decoration-color: #008080; font-weight: bold\">0.4751</span> <span style=\"color: #808000; text-decoration-color: #808000\">ACC</span>=<span style=\"color: #008080; text-decoration-color: #008080; font-weight: bold\">0.7859</span>\n",
       "</pre>\n"
      ],
      "text/plain": [
       "E10: \u001b[1;35mAUC\u001b[0m\u001b[1m(\u001b[0mEMA\u001b[1m)\u001b[0m=\u001b[1;36m0.8290\u001b[0m \u001b[33mF1\u001b[0m=\u001b[1;36m0\u001b[0m\u001b[1;36m.4751\u001b[0m \u001b[33mACC\u001b[0m=\u001b[1;36m0\u001b[0m\u001b[1;36m.7859\u001b[0m\n"
      ]
     },
     "metadata": {},
     "output_type": "display_data"
    },
    {
     "data": {
      "text/html": [
       "<pre style=\"white-space:pre;overflow-x:auto;line-height:normal;font-family:Menlo,'DejaVu Sans Mono',consolas,'Courier New',monospace\">Train loss: <span style=\"color: #008080; text-decoration-color: #008080; font-weight: bold\">0.0694</span>\n",
       "</pre>\n"
      ],
      "text/plain": [
       "Train loss: \u001b[1;36m0.0694\u001b[0m\n"
      ]
     },
     "metadata": {},
     "output_type": "display_data"
    },
    {
     "data": {
      "text/html": [
       "<pre style=\"white-space:pre;overflow-x:auto;line-height:normal;font-family:Menlo,'DejaVu Sans Mono',consolas,'Courier New',monospace\">Val prob stats: <span style=\"color: #808000; text-decoration-color: #808000\">min</span>=<span style=\"color: #008080; text-decoration-color: #008080; font-weight: bold\">0.160</span> <span style=\"color: #808000; text-decoration-color: #808000\">med</span>=<span style=\"color: #008080; text-decoration-color: #008080; font-weight: bold\">0.468</span> <span style=\"color: #808000; text-decoration-color: #808000\">max</span>=<span style=\"color: #008080; text-decoration-color: #008080; font-weight: bold\">0.781</span>  &gt;<span style=\"color: #008080; text-decoration-color: #008080; font-weight: bold\">0.5</span>=<span style=\"color: #008080; text-decoration-color: #008080; font-weight: bold\">0.139</span>\n",
       "</pre>\n"
      ],
      "text/plain": [
       "Val prob stats: \u001b[33mmin\u001b[0m=\u001b[1;36m0\u001b[0m\u001b[1;36m.160\u001b[0m \u001b[33mmed\u001b[0m=\u001b[1;36m0\u001b[0m\u001b[1;36m.468\u001b[0m \u001b[33mmax\u001b[0m=\u001b[1;36m0\u001b[0m\u001b[1;36m.781\u001b[0m  >\u001b[1;36m0.\u001b[0m\u001b[1;36m5\u001b[0m=\u001b[1;36m0\u001b[0m\u001b[1;36m.139\u001b[0m\n"
      ]
     },
     "metadata": {},
     "output_type": "display_data"
    },
    {
     "data": {
      "text/html": [
       "<pre style=\"white-space:pre;overflow-x:auto;line-height:normal;font-family:Menlo,'DejaVu Sans Mono',consolas,'Courier New',monospace\">E11: <span style=\"color: #800080; text-decoration-color: #800080; font-weight: bold\">AUC</span><span style=\"font-weight: bold\">(</span>EMA<span style=\"font-weight: bold\">)</span>=<span style=\"color: #008080; text-decoration-color: #008080; font-weight: bold\">0.8280</span> <span style=\"color: #808000; text-decoration-color: #808000\">F1</span>=<span style=\"color: #008080; text-decoration-color: #008080; font-weight: bold\">0.4758</span> <span style=\"color: #808000; text-decoration-color: #808000\">ACC</span>=<span style=\"color: #008080; text-decoration-color: #008080; font-weight: bold\">0.7797</span>\n",
       "</pre>\n"
      ],
      "text/plain": [
       "E11: \u001b[1;35mAUC\u001b[0m\u001b[1m(\u001b[0mEMA\u001b[1m)\u001b[0m=\u001b[1;36m0.8280\u001b[0m \u001b[33mF1\u001b[0m=\u001b[1;36m0\u001b[0m\u001b[1;36m.4758\u001b[0m \u001b[33mACC\u001b[0m=\u001b[1;36m0\u001b[0m\u001b[1;36m.7797\u001b[0m\n"
      ]
     },
     "metadata": {},
     "output_type": "display_data"
    },
    {
     "data": {
      "text/html": [
       "<pre style=\"white-space:pre;overflow-x:auto;line-height:normal;font-family:Menlo,'DejaVu Sans Mono',consolas,'Courier New',monospace\">Train loss: <span style=\"color: #008080; text-decoration-color: #008080; font-weight: bold\">0.0665</span>\n",
       "</pre>\n"
      ],
      "text/plain": [
       "Train loss: \u001b[1;36m0.0665\u001b[0m\n"
      ]
     },
     "metadata": {},
     "output_type": "display_data"
    },
    {
     "data": {
      "text/html": [
       "<pre style=\"white-space:pre;overflow-x:auto;line-height:normal;font-family:Menlo,'DejaVu Sans Mono',consolas,'Courier New',monospace\">Val prob stats: <span style=\"color: #808000; text-decoration-color: #808000\">min</span>=<span style=\"color: #008080; text-decoration-color: #008080; font-weight: bold\">0.143</span> <span style=\"color: #808000; text-decoration-color: #808000\">med</span>=<span style=\"color: #008080; text-decoration-color: #008080; font-weight: bold\">0.467</span> <span style=\"color: #808000; text-decoration-color: #808000\">max</span>=<span style=\"color: #008080; text-decoration-color: #008080; font-weight: bold\">0.814</span>  &gt;<span style=\"color: #008080; text-decoration-color: #008080; font-weight: bold\">0.5</span>=<span style=\"color: #008080; text-decoration-color: #008080; font-weight: bold\">0.147</span>\n",
       "</pre>\n"
      ],
      "text/plain": [
       "Val prob stats: \u001b[33mmin\u001b[0m=\u001b[1;36m0\u001b[0m\u001b[1;36m.143\u001b[0m \u001b[33mmed\u001b[0m=\u001b[1;36m0\u001b[0m\u001b[1;36m.467\u001b[0m \u001b[33mmax\u001b[0m=\u001b[1;36m0\u001b[0m\u001b[1;36m.814\u001b[0m  >\u001b[1;36m0.\u001b[0m\u001b[1;36m5\u001b[0m=\u001b[1;36m0\u001b[0m\u001b[1;36m.147\u001b[0m\n"
      ]
     },
     "metadata": {},
     "output_type": "display_data"
    },
    {
     "data": {
      "text/html": [
       "<pre style=\"white-space:pre;overflow-x:auto;line-height:normal;font-family:Menlo,'DejaVu Sans Mono',consolas,'Courier New',monospace\">E12: <span style=\"color: #800080; text-decoration-color: #800080; font-weight: bold\">AUC</span><span style=\"font-weight: bold\">(</span>EMA<span style=\"font-weight: bold\">)</span>=<span style=\"color: #008080; text-decoration-color: #008080; font-weight: bold\">0.8259</span> <span style=\"color: #808000; text-decoration-color: #808000\">F1</span>=<span style=\"color: #008080; text-decoration-color: #008080; font-weight: bold\">0.4745</span> <span style=\"color: #808000; text-decoration-color: #808000\">ACC</span>=<span style=\"color: #008080; text-decoration-color: #008080; font-weight: bold\">0.7750</span>\n",
       "</pre>\n"
      ],
      "text/plain": [
       "E12: \u001b[1;35mAUC\u001b[0m\u001b[1m(\u001b[0mEMA\u001b[1m)\u001b[0m=\u001b[1;36m0.8259\u001b[0m \u001b[33mF1\u001b[0m=\u001b[1;36m0\u001b[0m\u001b[1;36m.4745\u001b[0m \u001b[33mACC\u001b[0m=\u001b[1;36m0\u001b[0m\u001b[1;36m.7750\u001b[0m\n"
      ]
     },
     "metadata": {},
     "output_type": "display_data"
    },
    {
     "data": {
      "text/html": [
       "<pre style=\"white-space:pre;overflow-x:auto;line-height:normal;font-family:Menlo,'DejaVu Sans Mono',consolas,'Courier New',monospace\">Train loss: <span style=\"color: #008080; text-decoration-color: #008080; font-weight: bold\">0.0663</span>\n",
       "</pre>\n"
      ],
      "text/plain": [
       "Train loss: \u001b[1;36m0.0663\u001b[0m\n"
      ]
     },
     "metadata": {},
     "output_type": "display_data"
    },
    {
     "data": {
      "text/html": [
       "<pre style=\"white-space:pre;overflow-x:auto;line-height:normal;font-family:Menlo,'DejaVu Sans Mono',consolas,'Courier New',monospace\">Val prob stats: <span style=\"color: #808000; text-decoration-color: #808000\">min</span>=<span style=\"color: #008080; text-decoration-color: #008080; font-weight: bold\">0.123</span> <span style=\"color: #808000; text-decoration-color: #808000\">med</span>=<span style=\"color: #008080; text-decoration-color: #008080; font-weight: bold\">0.466</span> <span style=\"color: #808000; text-decoration-color: #808000\">max</span>=<span style=\"color: #008080; text-decoration-color: #008080; font-weight: bold\">0.843</span>  &gt;<span style=\"color: #008080; text-decoration-color: #008080; font-weight: bold\">0.5</span>=<span style=\"color: #008080; text-decoration-color: #008080; font-weight: bold\">0.152</span>\n",
       "</pre>\n"
      ],
      "text/plain": [
       "Val prob stats: \u001b[33mmin\u001b[0m=\u001b[1;36m0\u001b[0m\u001b[1;36m.123\u001b[0m \u001b[33mmed\u001b[0m=\u001b[1;36m0\u001b[0m\u001b[1;36m.466\u001b[0m \u001b[33mmax\u001b[0m=\u001b[1;36m0\u001b[0m\u001b[1;36m.843\u001b[0m  >\u001b[1;36m0.\u001b[0m\u001b[1;36m5\u001b[0m=\u001b[1;36m0\u001b[0m\u001b[1;36m.152\u001b[0m\n"
      ]
     },
     "metadata": {},
     "output_type": "display_data"
    },
    {
     "data": {
      "text/html": [
       "<pre style=\"white-space:pre;overflow-x:auto;line-height:normal;font-family:Menlo,'DejaVu Sans Mono',consolas,'Courier New',monospace\">E13: <span style=\"color: #800080; text-decoration-color: #800080; font-weight: bold\">AUC</span><span style=\"font-weight: bold\">(</span>EMA<span style=\"font-weight: bold\">)</span>=<span style=\"color: #008080; text-decoration-color: #008080; font-weight: bold\">0.8240</span> <span style=\"color: #808000; text-decoration-color: #808000\">F1</span>=<span style=\"color: #008080; text-decoration-color: #008080; font-weight: bold\">0.4838</span> <span style=\"color: #808000; text-decoration-color: #808000\">ACC</span>=<span style=\"color: #008080; text-decoration-color: #008080; font-weight: bold\">0.7766</span>\n",
       "</pre>\n"
      ],
      "text/plain": [
       "E13: \u001b[1;35mAUC\u001b[0m\u001b[1m(\u001b[0mEMA\u001b[1m)\u001b[0m=\u001b[1;36m0.8240\u001b[0m \u001b[33mF1\u001b[0m=\u001b[1;36m0\u001b[0m\u001b[1;36m.4838\u001b[0m \u001b[33mACC\u001b[0m=\u001b[1;36m0\u001b[0m\u001b[1;36m.7766\u001b[0m\n"
      ]
     },
     "metadata": {},
     "output_type": "display_data"
    },
    {
     "data": {
      "text/html": [
       "<pre style=\"white-space:pre;overflow-x:auto;line-height:normal;font-family:Menlo,'DejaVu Sans Mono',consolas,'Courier New',monospace\">Train loss: <span style=\"color: #008080; text-decoration-color: #008080; font-weight: bold\">0.0642</span>\n",
       "</pre>\n"
      ],
      "text/plain": [
       "Train loss: \u001b[1;36m0.0642\u001b[0m\n"
      ]
     },
     "metadata": {},
     "output_type": "display_data"
    },
    {
     "data": {
      "text/html": [
       "<pre style=\"white-space:pre;overflow-x:auto;line-height:normal;font-family:Menlo,'DejaVu Sans Mono',consolas,'Courier New',monospace\">Val prob stats: <span style=\"color: #808000; text-decoration-color: #808000\">min</span>=<span style=\"color: #008080; text-decoration-color: #008080; font-weight: bold\">0.103</span> <span style=\"color: #808000; text-decoration-color: #808000\">med</span>=<span style=\"color: #008080; text-decoration-color: #008080; font-weight: bold\">0.467</span> <span style=\"color: #808000; text-decoration-color: #808000\">max</span>=<span style=\"color: #008080; text-decoration-color: #008080; font-weight: bold\">0.865</span>  &gt;<span style=\"color: #008080; text-decoration-color: #008080; font-weight: bold\">0.5</span>=<span style=\"color: #008080; text-decoration-color: #008080; font-weight: bold\">0.164</span>\n",
       "</pre>\n"
      ],
      "text/plain": [
       "Val prob stats: \u001b[33mmin\u001b[0m=\u001b[1;36m0\u001b[0m\u001b[1;36m.103\u001b[0m \u001b[33mmed\u001b[0m=\u001b[1;36m0\u001b[0m\u001b[1;36m.467\u001b[0m \u001b[33mmax\u001b[0m=\u001b[1;36m0\u001b[0m\u001b[1;36m.865\u001b[0m  >\u001b[1;36m0.\u001b[0m\u001b[1;36m5\u001b[0m=\u001b[1;36m0\u001b[0m\u001b[1;36m.164\u001b[0m\n"
      ]
     },
     "metadata": {},
     "output_type": "display_data"
    },
    {
     "data": {
      "text/html": [
       "<pre style=\"white-space:pre;overflow-x:auto;line-height:normal;font-family:Menlo,'DejaVu Sans Mono',consolas,'Courier New',monospace\">E14: <span style=\"color: #800080; text-decoration-color: #800080; font-weight: bold\">AUC</span><span style=\"font-weight: bold\">(</span>EMA<span style=\"font-weight: bold\">)</span>=<span style=\"color: #008080; text-decoration-color: #008080; font-weight: bold\">0.8217</span> <span style=\"color: #808000; text-decoration-color: #808000\">F1</span>=<span style=\"color: #008080; text-decoration-color: #008080; font-weight: bold\">0.4982</span> <span style=\"color: #808000; text-decoration-color: #808000\">ACC</span>=<span style=\"color: #008080; text-decoration-color: #008080; font-weight: bold\">0.7766</span>\n",
       "</pre>\n"
      ],
      "text/plain": [
       "E14: \u001b[1;35mAUC\u001b[0m\u001b[1m(\u001b[0mEMA\u001b[1m)\u001b[0m=\u001b[1;36m0.8217\u001b[0m \u001b[33mF1\u001b[0m=\u001b[1;36m0\u001b[0m\u001b[1;36m.4982\u001b[0m \u001b[33mACC\u001b[0m=\u001b[1;36m0\u001b[0m\u001b[1;36m.7766\u001b[0m\n"
      ]
     },
     "metadata": {},
     "output_type": "display_data"
    },
    {
     "data": {
      "text/html": [
       "<pre style=\"white-space:pre;overflow-x:auto;line-height:normal;font-family:Menlo,'DejaVu Sans Mono',consolas,'Courier New',monospace\">Train loss: <span style=\"color: #008080; text-decoration-color: #008080; font-weight: bold\">0.0627</span>\n",
       "</pre>\n"
      ],
      "text/plain": [
       "Train loss: \u001b[1;36m0.0627\u001b[0m\n"
      ]
     },
     "metadata": {},
     "output_type": "display_data"
    },
    {
     "data": {
      "text/html": [
       "<pre style=\"white-space:pre;overflow-x:auto;line-height:normal;font-family:Menlo,'DejaVu Sans Mono',consolas,'Courier New',monospace\">Val prob stats: <span style=\"color: #808000; text-decoration-color: #808000\">min</span>=<span style=\"color: #008080; text-decoration-color: #008080; font-weight: bold\">0.087</span> <span style=\"color: #808000; text-decoration-color: #808000\">med</span>=<span style=\"color: #008080; text-decoration-color: #008080; font-weight: bold\">0.466</span> <span style=\"color: #808000; text-decoration-color: #808000\">max</span>=<span style=\"color: #008080; text-decoration-color: #008080; font-weight: bold\">0.880</span>  &gt;<span style=\"color: #008080; text-decoration-color: #008080; font-weight: bold\">0.5</span>=<span style=\"color: #008080; text-decoration-color: #008080; font-weight: bold\">0.189</span>\n",
       "</pre>\n"
      ],
      "text/plain": [
       "Val prob stats: \u001b[33mmin\u001b[0m=\u001b[1;36m0\u001b[0m\u001b[1;36m.087\u001b[0m \u001b[33mmed\u001b[0m=\u001b[1;36m0\u001b[0m\u001b[1;36m.466\u001b[0m \u001b[33mmax\u001b[0m=\u001b[1;36m0\u001b[0m\u001b[1;36m.880\u001b[0m  >\u001b[1;36m0.\u001b[0m\u001b[1;36m5\u001b[0m=\u001b[1;36m0\u001b[0m\u001b[1;36m.189\u001b[0m\n"
      ]
     },
     "metadata": {},
     "output_type": "display_data"
    },
    {
     "data": {
      "text/html": [
       "<pre style=\"white-space:pre;overflow-x:auto;line-height:normal;font-family:Menlo,'DejaVu Sans Mono',consolas,'Courier New',monospace\">E15: <span style=\"color: #800080; text-decoration-color: #800080; font-weight: bold\">AUC</span><span style=\"font-weight: bold\">(</span>EMA<span style=\"font-weight: bold\">)</span>=<span style=\"color: #008080; text-decoration-color: #008080; font-weight: bold\">0.8188</span> <span style=\"color: #808000; text-decoration-color: #808000\">F1</span>=<span style=\"color: #008080; text-decoration-color: #008080; font-weight: bold\">0.4983</span> <span style=\"color: #808000; text-decoration-color: #808000\">ACC</span>=<span style=\"color: #008080; text-decoration-color: #008080; font-weight: bold\">0.7641</span>\n",
       "</pre>\n"
      ],
      "text/plain": [
       "E15: \u001b[1;35mAUC\u001b[0m\u001b[1m(\u001b[0mEMA\u001b[1m)\u001b[0m=\u001b[1;36m0.8188\u001b[0m \u001b[33mF1\u001b[0m=\u001b[1;36m0\u001b[0m\u001b[1;36m.4983\u001b[0m \u001b[33mACC\u001b[0m=\u001b[1;36m0\u001b[0m\u001b[1;36m.7641\u001b[0m\n"
      ]
     },
     "metadata": {},
     "output_type": "display_data"
    },
    {
     "data": {
      "text/html": [
       "<pre style=\"white-space:pre;overflow-x:auto;line-height:normal;font-family:Menlo,'DejaVu Sans Mono',consolas,'Courier New',monospace\"><span style=\"color: #808000; text-decoration-color: #808000\">Early stopping</span>\n",
       "</pre>\n"
      ],
      "text/plain": [
       "\u001b[33mEarly stopping\u001b[0m\n"
      ]
     },
     "metadata": {},
     "output_type": "display_data"
    },
    {
     "data": {
      "text/html": [
       "<pre style=\"white-space:pre;overflow-x:auto;line-height:normal;font-family:Menlo,'DejaVu Sans Mono',consolas,'Courier New',monospace\"><span style=\"color: #808000; text-decoration-color: #808000; font-weight: bold\">Fold </span><span style=\"color: #808000; text-decoration-color: #808000; font-weight: bold\">4</span><span style=\"color: #808000; text-decoration-color: #808000; font-weight: bold\"> fitted T: </span><span style=\"color: #808000; text-decoration-color: #808000; font-weight: bold\">0.531</span>\n",
       "</pre>\n"
      ],
      "text/plain": [
       "\u001b[1;33mFold \u001b[0m\u001b[1;33m4\u001b[0m\u001b[1;33m fitted T: \u001b[0m\u001b[1;33m0.531\u001b[0m\n"
      ]
     },
     "metadata": {},
     "output_type": "display_data"
    },
    {
     "data": {
      "text/html": [
       "<pre style=\"white-space:pre;overflow-x:auto;line-height:normal;font-family:Menlo,'DejaVu Sans Mono',consolas,'Courier New',monospace\">\n",
       "<span style=\"color: #008080; text-decoration-color: #008080; font-weight: bold\">========= FOLD </span><span style=\"color: #008080; text-decoration-color: #008080; font-weight: bold\">5</span><span style=\"color: #008080; text-decoration-color: #008080; font-weight: bold\">/</span><span style=\"color: #008080; text-decoration-color: #008080; font-weight: bold\">5</span><span style=\"color: #008080; text-decoration-color: #008080; font-weight: bold\"> =========</span>\n",
       "</pre>\n"
      ],
      "text/plain": [
       "\n",
       "\u001b[1;36m========= FOLD \u001b[0m\u001b[1;36m5\u001b[0m\u001b[1;36m/\u001b[0m\u001b[1;36m5\u001b[0m\u001b[1;36m =========\u001b[0m\n"
      ]
     },
     "metadata": {},
     "output_type": "display_data"
    },
    {
     "data": {
      "text/html": [
       "<pre style=\"white-space:pre;overflow-x:auto;line-height:normal;font-family:Menlo,'DejaVu Sans Mono',consolas,'Courier New',monospace\"><span style=\"color: #808000; text-decoration-color: #808000\">Init classifier bias to prior </span><span style=\"color: #808000; text-decoration-color: #808000\">logit</span><span style=\"color: #808000; text-decoration-color: #808000\">=</span><span style=\"color: #808000; text-decoration-color: #808000; font-weight: bold\">-0.932</span><span style=\"color: #808000; text-decoration-color: #808000\"> </span><span style=\"color: #808000; text-decoration-color: #808000; font-weight: bold\">(</span><span style=\"color: #808000; text-decoration-color: #808000\">prior</span><span style=\"color: #808000; text-decoration-color: #808000\">=</span><span style=\"color: #808000; text-decoration-color: #808000; font-weight: bold\">0.282</span><span style=\"color: #808000; text-decoration-color: #808000; font-weight: bold\">)</span>\n",
       "</pre>\n"
      ],
      "text/plain": [
       "\u001b[33mInit classifier bias to prior \u001b[0m\u001b[33mlogit\u001b[0m\u001b[33m=\u001b[0m\u001b[1;33m-0.932\u001b[0m\u001b[33m \u001b[0m\u001b[1;33m(\u001b[0m\u001b[33mprior\u001b[0m\u001b[33m=\u001b[0m\u001b[1;33m0\u001b[0m\u001b[1;33m.282\u001b[0m\u001b[1;33m)\u001b[0m\n"
      ]
     },
     "metadata": {},
     "output_type": "display_data"
    },
    {
     "data": {
      "text/html": [
       "<pre style=\"white-space:pre;overflow-x:auto;line-height:normal;font-family:Menlo,'DejaVu Sans Mono',consolas,'Courier New',monospace\">Train loss: <span style=\"color: #008080; text-decoration-color: #008080; font-weight: bold\">0.0914</span>\n",
       "</pre>\n"
      ],
      "text/plain": [
       "Train loss: \u001b[1;36m0.0914\u001b[0m\n"
      ]
     },
     "metadata": {},
     "output_type": "display_data"
    },
    {
     "data": {
      "text/html": [
       "<pre style=\"white-space:pre;overflow-x:auto;line-height:normal;font-family:Menlo,'DejaVu Sans Mono',consolas,'Courier New',monospace\">Val prob stats: <span style=\"color: #808000; text-decoration-color: #808000\">min</span>=<span style=\"color: #008080; text-decoration-color: #008080; font-weight: bold\">0.251</span> <span style=\"color: #808000; text-decoration-color: #808000\">med</span>=<span style=\"color: #008080; text-decoration-color: #008080; font-weight: bold\">0.321</span> <span style=\"color: #808000; text-decoration-color: #808000\">max</span>=<span style=\"color: #008080; text-decoration-color: #008080; font-weight: bold\">0.378</span>  &gt;<span style=\"color: #008080; text-decoration-color: #008080; font-weight: bold\">0.5</span>=<span style=\"color: #008080; text-decoration-color: #008080; font-weight: bold\">0.000</span>\n",
       "</pre>\n"
      ],
      "text/plain": [
       "Val prob stats: \u001b[33mmin\u001b[0m=\u001b[1;36m0\u001b[0m\u001b[1;36m.251\u001b[0m \u001b[33mmed\u001b[0m=\u001b[1;36m0\u001b[0m\u001b[1;36m.321\u001b[0m \u001b[33mmax\u001b[0m=\u001b[1;36m0\u001b[0m\u001b[1;36m.378\u001b[0m  >\u001b[1;36m0.\u001b[0m\u001b[1;36m5\u001b[0m=\u001b[1;36m0\u001b[0m\u001b[1;36m.000\u001b[0m\n"
      ]
     },
     "metadata": {},
     "output_type": "display_data"
    },
    {
     "data": {
      "text/html": [
       "<pre style=\"white-space:pre;overflow-x:auto;line-height:normal;font-family:Menlo,'DejaVu Sans Mono',consolas,'Courier New',monospace\">E01: <span style=\"color: #800080; text-decoration-color: #800080; font-weight: bold\">AUC</span><span style=\"font-weight: bold\">(</span>EMA<span style=\"font-weight: bold\">)</span>=<span style=\"color: #008080; text-decoration-color: #008080; font-weight: bold\">0.6094</span> <span style=\"color: #808000; text-decoration-color: #808000\">F1</span>=<span style=\"color: #008080; text-decoration-color: #008080; font-weight: bold\">0.0000</span> <span style=\"color: #808000; text-decoration-color: #808000\">ACC</span>=<span style=\"color: #008080; text-decoration-color: #008080; font-weight: bold\">0.7188</span>\n",
       "</pre>\n"
      ],
      "text/plain": [
       "E01: \u001b[1;35mAUC\u001b[0m\u001b[1m(\u001b[0mEMA\u001b[1m)\u001b[0m=\u001b[1;36m0.6094\u001b[0m \u001b[33mF1\u001b[0m=\u001b[1;36m0\u001b[0m\u001b[1;36m.0000\u001b[0m \u001b[33mACC\u001b[0m=\u001b[1;36m0\u001b[0m\u001b[1;36m.7188\u001b[0m\n"
      ]
     },
     "metadata": {},
     "output_type": "display_data"
    },
    {
     "data": {
      "text/html": [
       "<pre style=\"white-space:pre;overflow-x:auto;line-height:normal;font-family:Menlo,'DejaVu Sans Mono',consolas,'Courier New',monospace\">Train loss: <span style=\"color: #008080; text-decoration-color: #008080; font-weight: bold\">0.0798</span>\n",
       "</pre>\n"
      ],
      "text/plain": [
       "Train loss: \u001b[1;36m0.0798\u001b[0m\n"
      ]
     },
     "metadata": {},
     "output_type": "display_data"
    },
    {
     "data": {
      "text/html": [
       "<pre style=\"white-space:pre;overflow-x:auto;line-height:normal;font-family:Menlo,'DejaVu Sans Mono',consolas,'Courier New',monospace\">Val prob stats: <span style=\"color: #808000; text-decoration-color: #808000\">min</span>=<span style=\"color: #008080; text-decoration-color: #008080; font-weight: bold\">0.303</span> <span style=\"color: #808000; text-decoration-color: #808000\">med</span>=<span style=\"color: #008080; text-decoration-color: #008080; font-weight: bold\">0.393</span> <span style=\"color: #808000; text-decoration-color: #808000\">max</span>=<span style=\"color: #008080; text-decoration-color: #008080; font-weight: bold\">0.440</span>  &gt;<span style=\"color: #008080; text-decoration-color: #008080; font-weight: bold\">0.5</span>=<span style=\"color: #008080; text-decoration-color: #008080; font-weight: bold\">0.000</span>\n",
       "</pre>\n"
      ],
      "text/plain": [
       "Val prob stats: \u001b[33mmin\u001b[0m=\u001b[1;36m0\u001b[0m\u001b[1;36m.303\u001b[0m \u001b[33mmed\u001b[0m=\u001b[1;36m0\u001b[0m\u001b[1;36m.393\u001b[0m \u001b[33mmax\u001b[0m=\u001b[1;36m0\u001b[0m\u001b[1;36m.440\u001b[0m  >\u001b[1;36m0.\u001b[0m\u001b[1;36m5\u001b[0m=\u001b[1;36m0\u001b[0m\u001b[1;36m.000\u001b[0m\n"
      ]
     },
     "metadata": {},
     "output_type": "display_data"
    },
    {
     "data": {
      "text/html": [
       "<pre style=\"white-space:pre;overflow-x:auto;line-height:normal;font-family:Menlo,'DejaVu Sans Mono',consolas,'Courier New',monospace\">E02: <span style=\"color: #800080; text-decoration-color: #800080; font-weight: bold\">AUC</span><span style=\"font-weight: bold\">(</span>EMA<span style=\"font-weight: bold\">)</span>=<span style=\"color: #008080; text-decoration-color: #008080; font-weight: bold\">0.6898</span> <span style=\"color: #808000; text-decoration-color: #808000\">F1</span>=<span style=\"color: #008080; text-decoration-color: #008080; font-weight: bold\">0.0000</span> <span style=\"color: #808000; text-decoration-color: #808000\">ACC</span>=<span style=\"color: #008080; text-decoration-color: #008080; font-weight: bold\">0.7188</span>\n",
       "</pre>\n"
      ],
      "text/plain": [
       "E02: \u001b[1;35mAUC\u001b[0m\u001b[1m(\u001b[0mEMA\u001b[1m)\u001b[0m=\u001b[1;36m0.6898\u001b[0m \u001b[33mF1\u001b[0m=\u001b[1;36m0\u001b[0m\u001b[1;36m.0000\u001b[0m \u001b[33mACC\u001b[0m=\u001b[1;36m0\u001b[0m\u001b[1;36m.7188\u001b[0m\n"
      ]
     },
     "metadata": {},
     "output_type": "display_data"
    },
    {
     "data": {
      "text/html": [
       "<pre style=\"white-space:pre;overflow-x:auto;line-height:normal;font-family:Menlo,'DejaVu Sans Mono',consolas,'Courier New',monospace\">Train loss: <span style=\"color: #008080; text-decoration-color: #008080; font-weight: bold\">0.0797</span>\n",
       "</pre>\n"
      ],
      "text/plain": [
       "Train loss: \u001b[1;36m0.0797\u001b[0m\n"
      ]
     },
     "metadata": {},
     "output_type": "display_data"
    },
    {
     "data": {
      "text/html": [
       "<pre style=\"white-space:pre;overflow-x:auto;line-height:normal;font-family:Menlo,'DejaVu Sans Mono',consolas,'Courier New',monospace\">Val prob stats: <span style=\"color: #808000; text-decoration-color: #808000\">min</span>=<span style=\"color: #008080; text-decoration-color: #008080; font-weight: bold\">0.331</span> <span style=\"color: #808000; text-decoration-color: #808000\">med</span>=<span style=\"color: #008080; text-decoration-color: #008080; font-weight: bold\">0.417</span> <span style=\"color: #808000; text-decoration-color: #808000\">max</span>=<span style=\"color: #008080; text-decoration-color: #008080; font-weight: bold\">0.480</span>  &gt;<span style=\"color: #008080; text-decoration-color: #008080; font-weight: bold\">0.5</span>=<span style=\"color: #008080; text-decoration-color: #008080; font-weight: bold\">0.000</span>\n",
       "</pre>\n"
      ],
      "text/plain": [
       "Val prob stats: \u001b[33mmin\u001b[0m=\u001b[1;36m0\u001b[0m\u001b[1;36m.331\u001b[0m \u001b[33mmed\u001b[0m=\u001b[1;36m0\u001b[0m\u001b[1;36m.417\u001b[0m \u001b[33mmax\u001b[0m=\u001b[1;36m0\u001b[0m\u001b[1;36m.480\u001b[0m  >\u001b[1;36m0.\u001b[0m\u001b[1;36m5\u001b[0m=\u001b[1;36m0\u001b[0m\u001b[1;36m.000\u001b[0m\n"
      ]
     },
     "metadata": {},
     "output_type": "display_data"
    },
    {
     "data": {
      "text/html": [
       "<pre style=\"white-space:pre;overflow-x:auto;line-height:normal;font-family:Menlo,'DejaVu Sans Mono',consolas,'Courier New',monospace\">E03: <span style=\"color: #800080; text-decoration-color: #800080; font-weight: bold\">AUC</span><span style=\"font-weight: bold\">(</span>EMA<span style=\"font-weight: bold\">)</span>=<span style=\"color: #008080; text-decoration-color: #008080; font-weight: bold\">0.7431</span> <span style=\"color: #808000; text-decoration-color: #808000\">F1</span>=<span style=\"color: #008080; text-decoration-color: #008080; font-weight: bold\">0.0000</span> <span style=\"color: #808000; text-decoration-color: #808000\">ACC</span>=<span style=\"color: #008080; text-decoration-color: #008080; font-weight: bold\">0.7188</span>\n",
       "</pre>\n"
      ],
      "text/plain": [
       "E03: \u001b[1;35mAUC\u001b[0m\u001b[1m(\u001b[0mEMA\u001b[1m)\u001b[0m=\u001b[1;36m0.7431\u001b[0m \u001b[33mF1\u001b[0m=\u001b[1;36m0\u001b[0m\u001b[1;36m.0000\u001b[0m \u001b[33mACC\u001b[0m=\u001b[1;36m0\u001b[0m\u001b[1;36m.7188\u001b[0m\n"
      ]
     },
     "metadata": {},
     "output_type": "display_data"
    },
    {
     "data": {
      "text/html": [
       "<pre style=\"white-space:pre;overflow-x:auto;line-height:normal;font-family:Menlo,'DejaVu Sans Mono',consolas,'Courier New',monospace\">Train loss: <span style=\"color: #008080; text-decoration-color: #008080; font-weight: bold\">0.0756</span>\n",
       "</pre>\n"
      ],
      "text/plain": [
       "Train loss: \u001b[1;36m0.0756\u001b[0m\n"
      ]
     },
     "metadata": {},
     "output_type": "display_data"
    },
    {
     "data": {
      "text/html": [
       "<pre style=\"white-space:pre;overflow-x:auto;line-height:normal;font-family:Menlo,'DejaVu Sans Mono',consolas,'Courier New',monospace\">Val prob stats: <span style=\"color: #808000; text-decoration-color: #808000\">min</span>=<span style=\"color: #008080; text-decoration-color: #008080; font-weight: bold\">0.338</span> <span style=\"color: #808000; text-decoration-color: #808000\">med</span>=<span style=\"color: #008080; text-decoration-color: #008080; font-weight: bold\">0.435</span> <span style=\"color: #808000; text-decoration-color: #808000\">max</span>=<span style=\"color: #008080; text-decoration-color: #008080; font-weight: bold\">0.560</span>  &gt;<span style=\"color: #008080; text-decoration-color: #008080; font-weight: bold\">0.5</span>=<span style=\"color: #008080; text-decoration-color: #008080; font-weight: bold\">0.031</span>\n",
       "</pre>\n"
      ],
      "text/plain": [
       "Val prob stats: \u001b[33mmin\u001b[0m=\u001b[1;36m0\u001b[0m\u001b[1;36m.338\u001b[0m \u001b[33mmed\u001b[0m=\u001b[1;36m0\u001b[0m\u001b[1;36m.435\u001b[0m \u001b[33mmax\u001b[0m=\u001b[1;36m0\u001b[0m\u001b[1;36m.560\u001b[0m  >\u001b[1;36m0.\u001b[0m\u001b[1;36m5\u001b[0m=\u001b[1;36m0\u001b[0m\u001b[1;36m.031\u001b[0m\n"
      ]
     },
     "metadata": {},
     "output_type": "display_data"
    },
    {
     "data": {
      "text/html": [
       "<pre style=\"white-space:pre;overflow-x:auto;line-height:normal;font-family:Menlo,'DejaVu Sans Mono',consolas,'Courier New',monospace\">E04: <span style=\"color: #800080; text-decoration-color: #800080; font-weight: bold\">AUC</span><span style=\"font-weight: bold\">(</span>EMA<span style=\"font-weight: bold\">)</span>=<span style=\"color: #008080; text-decoration-color: #008080; font-weight: bold\">0.7578</span> <span style=\"color: #808000; text-decoration-color: #808000\">F1</span>=<span style=\"color: #008080; text-decoration-color: #008080; font-weight: bold\">0.1900</span> <span style=\"color: #808000; text-decoration-color: #808000\">ACC</span>=<span style=\"color: #008080; text-decoration-color: #008080; font-weight: bold\">0.7469</span>\n",
       "</pre>\n"
      ],
      "text/plain": [
       "E04: \u001b[1;35mAUC\u001b[0m\u001b[1m(\u001b[0mEMA\u001b[1m)\u001b[0m=\u001b[1;36m0.7578\u001b[0m \u001b[33mF1\u001b[0m=\u001b[1;36m0\u001b[0m\u001b[1;36m.1900\u001b[0m \u001b[33mACC\u001b[0m=\u001b[1;36m0\u001b[0m\u001b[1;36m.7469\u001b[0m\n"
      ]
     },
     "metadata": {},
     "output_type": "display_data"
    },
    {
     "data": {
      "text/html": [
       "<pre style=\"white-space:pre;overflow-x:auto;line-height:normal;font-family:Menlo,'DejaVu Sans Mono',consolas,'Courier New',monospace\">Train loss: <span style=\"color: #008080; text-decoration-color: #008080; font-weight: bold\">0.0765</span>\n",
       "</pre>\n"
      ],
      "text/plain": [
       "Train loss: \u001b[1;36m0.0765\u001b[0m\n"
      ]
     },
     "metadata": {},
     "output_type": "display_data"
    },
    {
     "data": {
      "text/html": [
       "<pre style=\"white-space:pre;overflow-x:auto;line-height:normal;font-family:Menlo,'DejaVu Sans Mono',consolas,'Courier New',monospace\">Val prob stats: <span style=\"color: #808000; text-decoration-color: #808000\">min</span>=<span style=\"color: #008080; text-decoration-color: #008080; font-weight: bold\">0.338</span> <span style=\"color: #808000; text-decoration-color: #808000\">med</span>=<span style=\"color: #008080; text-decoration-color: #008080; font-weight: bold\">0.452</span> <span style=\"color: #808000; text-decoration-color: #808000\">max</span>=<span style=\"color: #008080; text-decoration-color: #008080; font-weight: bold\">0.629</span>  &gt;<span style=\"color: #008080; text-decoration-color: #008080; font-weight: bold\">0.5</span>=<span style=\"color: #008080; text-decoration-color: #008080; font-weight: bold\">0.041</span>\n",
       "</pre>\n"
      ],
      "text/plain": [
       "Val prob stats: \u001b[33mmin\u001b[0m=\u001b[1;36m0\u001b[0m\u001b[1;36m.338\u001b[0m \u001b[33mmed\u001b[0m=\u001b[1;36m0\u001b[0m\u001b[1;36m.452\u001b[0m \u001b[33mmax\u001b[0m=\u001b[1;36m0\u001b[0m\u001b[1;36m.629\u001b[0m  >\u001b[1;36m0.\u001b[0m\u001b[1;36m5\u001b[0m=\u001b[1;36m0\u001b[0m\u001b[1;36m.041\u001b[0m\n"
      ]
     },
     "metadata": {},
     "output_type": "display_data"
    },
    {
     "data": {
      "text/html": [
       "<pre style=\"white-space:pre;overflow-x:auto;line-height:normal;font-family:Menlo,'DejaVu Sans Mono',consolas,'Courier New',monospace\">E05: <span style=\"color: #800080; text-decoration-color: #800080; font-weight: bold\">AUC</span><span style=\"font-weight: bold\">(</span>EMA<span style=\"font-weight: bold\">)</span>=<span style=\"color: #008080; text-decoration-color: #008080; font-weight: bold\">0.7667</span> <span style=\"color: #808000; text-decoration-color: #808000\">F1</span>=<span style=\"color: #008080; text-decoration-color: #008080; font-weight: bold\">0.2330</span> <span style=\"color: #808000; text-decoration-color: #808000\">ACC</span>=<span style=\"color: #008080; text-decoration-color: #008080; font-weight: bold\">0.7531</span>\n",
       "</pre>\n"
      ],
      "text/plain": [
       "E05: \u001b[1;35mAUC\u001b[0m\u001b[1m(\u001b[0mEMA\u001b[1m)\u001b[0m=\u001b[1;36m0.7667\u001b[0m \u001b[33mF1\u001b[0m=\u001b[1;36m0\u001b[0m\u001b[1;36m.2330\u001b[0m \u001b[33mACC\u001b[0m=\u001b[1;36m0\u001b[0m\u001b[1;36m.7531\u001b[0m\n"
      ]
     },
     "metadata": {},
     "output_type": "display_data"
    },
    {
     "data": {
      "text/html": [
       "<pre style=\"white-space:pre;overflow-x:auto;line-height:normal;font-family:Menlo,'DejaVu Sans Mono',consolas,'Courier New',monospace\">Train loss: <span style=\"color: #008080; text-decoration-color: #008080; font-weight: bold\">0.0760</span>\n",
       "</pre>\n"
      ],
      "text/plain": [
       "Train loss: \u001b[1;36m0.0760\u001b[0m\n"
      ]
     },
     "metadata": {},
     "output_type": "display_data"
    },
    {
     "data": {
      "text/html": [
       "<pre style=\"white-space:pre;overflow-x:auto;line-height:normal;font-family:Menlo,'DejaVu Sans Mono',consolas,'Courier New',monospace\">Val prob stats: <span style=\"color: #808000; text-decoration-color: #808000\">min</span>=<span style=\"color: #008080; text-decoration-color: #008080; font-weight: bold\">0.351</span> <span style=\"color: #808000; text-decoration-color: #808000\">med</span>=<span style=\"color: #008080; text-decoration-color: #008080; font-weight: bold\">0.463</span> <span style=\"color: #808000; text-decoration-color: #808000\">max</span>=<span style=\"color: #008080; text-decoration-color: #008080; font-weight: bold\">0.627</span>  &gt;<span style=\"color: #008080; text-decoration-color: #008080; font-weight: bold\">0.5</span>=<span style=\"color: #008080; text-decoration-color: #008080; font-weight: bold\">0.041</span>\n",
       "</pre>\n"
      ],
      "text/plain": [
       "Val prob stats: \u001b[33mmin\u001b[0m=\u001b[1;36m0\u001b[0m\u001b[1;36m.351\u001b[0m \u001b[33mmed\u001b[0m=\u001b[1;36m0\u001b[0m\u001b[1;36m.463\u001b[0m \u001b[33mmax\u001b[0m=\u001b[1;36m0\u001b[0m\u001b[1;36m.627\u001b[0m  >\u001b[1;36m0.\u001b[0m\u001b[1;36m5\u001b[0m=\u001b[1;36m0\u001b[0m\u001b[1;36m.041\u001b[0m\n"
      ]
     },
     "metadata": {},
     "output_type": "display_data"
    },
    {
     "data": {
      "text/html": [
       "<pre style=\"white-space:pre;overflow-x:auto;line-height:normal;font-family:Menlo,'DejaVu Sans Mono',consolas,'Courier New',monospace\">E06: <span style=\"color: #800080; text-decoration-color: #800080; font-weight: bold\">AUC</span><span style=\"font-weight: bold\">(</span>EMA<span style=\"font-weight: bold\">)</span>=<span style=\"color: #008080; text-decoration-color: #008080; font-weight: bold\">0.7768</span> <span style=\"color: #808000; text-decoration-color: #808000\">F1</span>=<span style=\"color: #008080; text-decoration-color: #008080; font-weight: bold\">0.2233</span> <span style=\"color: #808000; text-decoration-color: #808000\">ACC</span>=<span style=\"color: #008080; text-decoration-color: #008080; font-weight: bold\">0.7500</span>\n",
       "</pre>\n"
      ],
      "text/plain": [
       "E06: \u001b[1;35mAUC\u001b[0m\u001b[1m(\u001b[0mEMA\u001b[1m)\u001b[0m=\u001b[1;36m0.7768\u001b[0m \u001b[33mF1\u001b[0m=\u001b[1;36m0\u001b[0m\u001b[1;36m.2233\u001b[0m \u001b[33mACC\u001b[0m=\u001b[1;36m0\u001b[0m\u001b[1;36m.7500\u001b[0m\n"
      ]
     },
     "metadata": {},
     "output_type": "display_data"
    },
    {
     "data": {
      "text/html": [
       "<pre style=\"white-space:pre;overflow-x:auto;line-height:normal;font-family:Menlo,'DejaVu Sans Mono',consolas,'Courier New',monospace\">Train loss: <span style=\"color: #008080; text-decoration-color: #008080; font-weight: bold\">0.0732</span>\n",
       "</pre>\n"
      ],
      "text/plain": [
       "Train loss: \u001b[1;36m0.0732\u001b[0m\n"
      ]
     },
     "metadata": {},
     "output_type": "display_data"
    },
    {
     "data": {
      "text/html": [
       "<pre style=\"white-space:pre;overflow-x:auto;line-height:normal;font-family:Menlo,'DejaVu Sans Mono',consolas,'Courier New',monospace\">Val prob stats: <span style=\"color: #808000; text-decoration-color: #808000\">min</span>=<span style=\"color: #008080; text-decoration-color: #008080; font-weight: bold\">0.345</span> <span style=\"color: #808000; text-decoration-color: #808000\">med</span>=<span style=\"color: #008080; text-decoration-color: #008080; font-weight: bold\">0.470</span> <span style=\"color: #808000; text-decoration-color: #808000\">max</span>=<span style=\"color: #008080; text-decoration-color: #008080; font-weight: bold\">0.645</span>  &gt;<span style=\"color: #008080; text-decoration-color: #008080; font-weight: bold\">0.5</span>=<span style=\"color: #008080; text-decoration-color: #008080; font-weight: bold\">0.062</span>\n",
       "</pre>\n"
      ],
      "text/plain": [
       "Val prob stats: \u001b[33mmin\u001b[0m=\u001b[1;36m0\u001b[0m\u001b[1;36m.345\u001b[0m \u001b[33mmed\u001b[0m=\u001b[1;36m0\u001b[0m\u001b[1;36m.470\u001b[0m \u001b[33mmax\u001b[0m=\u001b[1;36m0\u001b[0m\u001b[1;36m.645\u001b[0m  >\u001b[1;36m0.\u001b[0m\u001b[1;36m5\u001b[0m=\u001b[1;36m0\u001b[0m\u001b[1;36m.062\u001b[0m\n"
      ]
     },
     "metadata": {},
     "output_type": "display_data"
    },
    {
     "data": {
      "text/html": [
       "<pre style=\"white-space:pre;overflow-x:auto;line-height:normal;font-family:Menlo,'DejaVu Sans Mono',consolas,'Courier New',monospace\">E07: <span style=\"color: #800080; text-decoration-color: #800080; font-weight: bold\">AUC</span><span style=\"font-weight: bold\">(</span>EMA<span style=\"font-weight: bold\">)</span>=<span style=\"color: #008080; text-decoration-color: #008080; font-weight: bold\">0.7871</span> <span style=\"color: #808000; text-decoration-color: #808000\">F1</span>=<span style=\"color: #008080; text-decoration-color: #008080; font-weight: bold\">0.2818</span> <span style=\"color: #808000; text-decoration-color: #808000\">ACC</span>=<span style=\"color: #008080; text-decoration-color: #008080; font-weight: bold\">0.7531</span>\n",
       "</pre>\n"
      ],
      "text/plain": [
       "E07: \u001b[1;35mAUC\u001b[0m\u001b[1m(\u001b[0mEMA\u001b[1m)\u001b[0m=\u001b[1;36m0.7871\u001b[0m \u001b[33mF1\u001b[0m=\u001b[1;36m0\u001b[0m\u001b[1;36m.2818\u001b[0m \u001b[33mACC\u001b[0m=\u001b[1;36m0\u001b[0m\u001b[1;36m.7531\u001b[0m\n"
      ]
     },
     "metadata": {},
     "output_type": "display_data"
    },
    {
     "data": {
      "text/html": [
       "<pre style=\"white-space:pre;overflow-x:auto;line-height:normal;font-family:Menlo,'DejaVu Sans Mono',consolas,'Courier New',monospace\">Train loss: <span style=\"color: #008080; text-decoration-color: #008080; font-weight: bold\">0.0740</span>\n",
       "</pre>\n"
      ],
      "text/plain": [
       "Train loss: \u001b[1;36m0.0740\u001b[0m\n"
      ]
     },
     "metadata": {},
     "output_type": "display_data"
    },
    {
     "data": {
      "text/html": [
       "<pre style=\"white-space:pre;overflow-x:auto;line-height:normal;font-family:Menlo,'DejaVu Sans Mono',consolas,'Courier New',monospace\">Val prob stats: <span style=\"color: #808000; text-decoration-color: #808000\">min</span>=<span style=\"color: #008080; text-decoration-color: #008080; font-weight: bold\">0.314</span> <span style=\"color: #808000; text-decoration-color: #808000\">med</span>=<span style=\"color: #008080; text-decoration-color: #008080; font-weight: bold\">0.473</span> <span style=\"color: #808000; text-decoration-color: #808000\">max</span>=<span style=\"color: #008080; text-decoration-color: #008080; font-weight: bold\">0.702</span>  &gt;<span style=\"color: #008080; text-decoration-color: #008080; font-weight: bold\">0.5</span>=<span style=\"color: #008080; text-decoration-color: #008080; font-weight: bold\">0.127</span>\n",
       "</pre>\n"
      ],
      "text/plain": [
       "Val prob stats: \u001b[33mmin\u001b[0m=\u001b[1;36m0\u001b[0m\u001b[1;36m.314\u001b[0m \u001b[33mmed\u001b[0m=\u001b[1;36m0\u001b[0m\u001b[1;36m.473\u001b[0m \u001b[33mmax\u001b[0m=\u001b[1;36m0\u001b[0m\u001b[1;36m.702\u001b[0m  >\u001b[1;36m0.\u001b[0m\u001b[1;36m5\u001b[0m=\u001b[1;36m0\u001b[0m\u001b[1;36m.127\u001b[0m\n"
      ]
     },
     "metadata": {},
     "output_type": "display_data"
    },
    {
     "data": {
      "text/html": [
       "<pre style=\"white-space:pre;overflow-x:auto;line-height:normal;font-family:Menlo,'DejaVu Sans Mono',consolas,'Courier New',monospace\">E08: <span style=\"color: #800080; text-decoration-color: #800080; font-weight: bold\">AUC</span><span style=\"font-weight: bold\">(</span>EMA<span style=\"font-weight: bold\">)</span>=<span style=\"color: #008080; text-decoration-color: #008080; font-weight: bold\">0.7956</span> <span style=\"color: #808000; text-decoration-color: #808000\">F1</span>=<span style=\"color: #008080; text-decoration-color: #008080; font-weight: bold\">0.3831</span> <span style=\"color: #808000; text-decoration-color: #808000\">ACC</span>=<span style=\"color: #008080; text-decoration-color: #008080; font-weight: bold\">0.7484</span>\n",
       "</pre>\n"
      ],
      "text/plain": [
       "E08: \u001b[1;35mAUC\u001b[0m\u001b[1m(\u001b[0mEMA\u001b[1m)\u001b[0m=\u001b[1;36m0.7956\u001b[0m \u001b[33mF1\u001b[0m=\u001b[1;36m0\u001b[0m\u001b[1;36m.3831\u001b[0m \u001b[33mACC\u001b[0m=\u001b[1;36m0\u001b[0m\u001b[1;36m.7484\u001b[0m\n"
      ]
     },
     "metadata": {},
     "output_type": "display_data"
    },
    {
     "data": {
      "text/html": [
       "<pre style=\"white-space:pre;overflow-x:auto;line-height:normal;font-family:Menlo,'DejaVu Sans Mono',consolas,'Courier New',monospace\">Train loss: <span style=\"color: #008080; text-decoration-color: #008080; font-weight: bold\">0.0710</span>\n",
       "</pre>\n"
      ],
      "text/plain": [
       "Train loss: \u001b[1;36m0.0710\u001b[0m\n"
      ]
     },
     "metadata": {},
     "output_type": "display_data"
    },
    {
     "data": {
      "text/html": [
       "<pre style=\"white-space:pre;overflow-x:auto;line-height:normal;font-family:Menlo,'DejaVu Sans Mono',consolas,'Courier New',monospace\">Val prob stats: <span style=\"color: #808000; text-decoration-color: #808000\">min</span>=<span style=\"color: #008080; text-decoration-color: #008080; font-weight: bold\">0.286</span> <span style=\"color: #808000; text-decoration-color: #808000\">med</span>=<span style=\"color: #008080; text-decoration-color: #008080; font-weight: bold\">0.476</span> <span style=\"color: #808000; text-decoration-color: #808000\">max</span>=<span style=\"color: #008080; text-decoration-color: #008080; font-weight: bold\">0.761</span>  &gt;<span style=\"color: #008080; text-decoration-color: #008080; font-weight: bold\">0.5</span>=<span style=\"color: #008080; text-decoration-color: #008080; font-weight: bold\">0.177</span>\n",
       "</pre>\n"
      ],
      "text/plain": [
       "Val prob stats: \u001b[33mmin\u001b[0m=\u001b[1;36m0\u001b[0m\u001b[1;36m.286\u001b[0m \u001b[33mmed\u001b[0m=\u001b[1;36m0\u001b[0m\u001b[1;36m.476\u001b[0m \u001b[33mmax\u001b[0m=\u001b[1;36m0\u001b[0m\u001b[1;36m.761\u001b[0m  >\u001b[1;36m0.\u001b[0m\u001b[1;36m5\u001b[0m=\u001b[1;36m0\u001b[0m\u001b[1;36m.177\u001b[0m\n"
      ]
     },
     "metadata": {},
     "output_type": "display_data"
    },
    {
     "data": {
      "text/html": [
       "<pre style=\"white-space:pre;overflow-x:auto;line-height:normal;font-family:Menlo,'DejaVu Sans Mono',consolas,'Courier New',monospace\">E09: <span style=\"color: #800080; text-decoration-color: #800080; font-weight: bold\">AUC</span><span style=\"font-weight: bold\">(</span>EMA<span style=\"font-weight: bold\">)</span>=<span style=\"color: #008080; text-decoration-color: #008080; font-weight: bold\">0.7998</span> <span style=\"color: #808000; text-decoration-color: #808000\">F1</span>=<span style=\"color: #008080; text-decoration-color: #008080; font-weight: bold\">0.4710</span> <span style=\"color: #808000; text-decoration-color: #808000\">ACC</span>=<span style=\"color: #008080; text-decoration-color: #008080; font-weight: bold\">0.7578</span>\n",
       "</pre>\n"
      ],
      "text/plain": [
       "E09: \u001b[1;35mAUC\u001b[0m\u001b[1m(\u001b[0mEMA\u001b[1m)\u001b[0m=\u001b[1;36m0.7998\u001b[0m \u001b[33mF1\u001b[0m=\u001b[1;36m0\u001b[0m\u001b[1;36m.4710\u001b[0m \u001b[33mACC\u001b[0m=\u001b[1;36m0\u001b[0m\u001b[1;36m.7578\u001b[0m\n"
      ]
     },
     "metadata": {},
     "output_type": "display_data"
    },
    {
     "data": {
      "text/html": [
       "<pre style=\"white-space:pre;overflow-x:auto;line-height:normal;font-family:Menlo,'DejaVu Sans Mono',consolas,'Courier New',monospace\">Train loss: <span style=\"color: #008080; text-decoration-color: #008080; font-weight: bold\">0.0683</span>\n",
       "</pre>\n"
      ],
      "text/plain": [
       "Train loss: \u001b[1;36m0.0683\u001b[0m\n"
      ]
     },
     "metadata": {},
     "output_type": "display_data"
    },
    {
     "data": {
      "text/html": [
       "<pre style=\"white-space:pre;overflow-x:auto;line-height:normal;font-family:Menlo,'DejaVu Sans Mono',consolas,'Courier New',monospace\">Val prob stats: <span style=\"color: #808000; text-decoration-color: #808000\">min</span>=<span style=\"color: #008080; text-decoration-color: #008080; font-weight: bold\">0.260</span> <span style=\"color: #808000; text-decoration-color: #808000\">med</span>=<span style=\"color: #008080; text-decoration-color: #008080; font-weight: bold\">0.473</span> <span style=\"color: #808000; text-decoration-color: #808000\">max</span>=<span style=\"color: #008080; text-decoration-color: #008080; font-weight: bold\">0.814</span>  &gt;<span style=\"color: #008080; text-decoration-color: #008080; font-weight: bold\">0.5</span>=<span style=\"color: #008080; text-decoration-color: #008080; font-weight: bold\">0.189</span>\n",
       "</pre>\n"
      ],
      "text/plain": [
       "Val prob stats: \u001b[33mmin\u001b[0m=\u001b[1;36m0\u001b[0m\u001b[1;36m.260\u001b[0m \u001b[33mmed\u001b[0m=\u001b[1;36m0\u001b[0m\u001b[1;36m.473\u001b[0m \u001b[33mmax\u001b[0m=\u001b[1;36m0\u001b[0m\u001b[1;36m.814\u001b[0m  >\u001b[1;36m0.\u001b[0m\u001b[1;36m5\u001b[0m=\u001b[1;36m0\u001b[0m\u001b[1;36m.189\u001b[0m\n"
      ]
     },
     "metadata": {},
     "output_type": "display_data"
    },
    {
     "data": {
      "text/html": [
       "<pre style=\"white-space:pre;overflow-x:auto;line-height:normal;font-family:Menlo,'DejaVu Sans Mono',consolas,'Courier New',monospace\">E10: <span style=\"color: #800080; text-decoration-color: #800080; font-weight: bold\">AUC</span><span style=\"font-weight: bold\">(</span>EMA<span style=\"font-weight: bold\">)</span>=<span style=\"color: #008080; text-decoration-color: #008080; font-weight: bold\">0.8029</span> <span style=\"color: #808000; text-decoration-color: #808000\">F1</span>=<span style=\"color: #008080; text-decoration-color: #008080; font-weight: bold\">0.4784</span> <span style=\"color: #808000; text-decoration-color: #808000\">ACC</span>=<span style=\"color: #008080; text-decoration-color: #008080; font-weight: bold\">0.7547</span>\n",
       "</pre>\n"
      ],
      "text/plain": [
       "E10: \u001b[1;35mAUC\u001b[0m\u001b[1m(\u001b[0mEMA\u001b[1m)\u001b[0m=\u001b[1;36m0.8029\u001b[0m \u001b[33mF1\u001b[0m=\u001b[1;36m0\u001b[0m\u001b[1;36m.4784\u001b[0m \u001b[33mACC\u001b[0m=\u001b[1;36m0\u001b[0m\u001b[1;36m.7547\u001b[0m\n"
      ]
     },
     "metadata": {},
     "output_type": "display_data"
    },
    {
     "data": {
      "text/html": [
       "<pre style=\"white-space:pre;overflow-x:auto;line-height:normal;font-family:Menlo,'DejaVu Sans Mono',consolas,'Courier New',monospace\">Train loss: <span style=\"color: #008080; text-decoration-color: #008080; font-weight: bold\">0.0699</span>\n",
       "</pre>\n"
      ],
      "text/plain": [
       "Train loss: \u001b[1;36m0.0699\u001b[0m\n"
      ]
     },
     "metadata": {},
     "output_type": "display_data"
    },
    {
     "data": {
      "text/html": [
       "<pre style=\"white-space:pre;overflow-x:auto;line-height:normal;font-family:Menlo,'DejaVu Sans Mono',consolas,'Courier New',monospace\">Val prob stats: <span style=\"color: #808000; text-decoration-color: #808000\">min</span>=<span style=\"color: #008080; text-decoration-color: #008080; font-weight: bold\">0.243</span> <span style=\"color: #808000; text-decoration-color: #808000\">med</span>=<span style=\"color: #008080; text-decoration-color: #008080; font-weight: bold\">0.474</span> <span style=\"color: #808000; text-decoration-color: #808000\">max</span>=<span style=\"color: #008080; text-decoration-color: #008080; font-weight: bold\">0.844</span>  &gt;<span style=\"color: #008080; text-decoration-color: #008080; font-weight: bold\">0.5</span>=<span style=\"color: #008080; text-decoration-color: #008080; font-weight: bold\">0.212</span>\n",
       "</pre>\n"
      ],
      "text/plain": [
       "Val prob stats: \u001b[33mmin\u001b[0m=\u001b[1;36m0\u001b[0m\u001b[1;36m.243\u001b[0m \u001b[33mmed\u001b[0m=\u001b[1;36m0\u001b[0m\u001b[1;36m.474\u001b[0m \u001b[33mmax\u001b[0m=\u001b[1;36m0\u001b[0m\u001b[1;36m.844\u001b[0m  >\u001b[1;36m0.\u001b[0m\u001b[1;36m5\u001b[0m=\u001b[1;36m0\u001b[0m\u001b[1;36m.212\u001b[0m\n"
      ]
     },
     "metadata": {},
     "output_type": "display_data"
    },
    {
     "data": {
      "text/html": [
       "<pre style=\"white-space:pre;overflow-x:auto;line-height:normal;font-family:Menlo,'DejaVu Sans Mono',consolas,'Courier New',monospace\">E11: <span style=\"color: #800080; text-decoration-color: #800080; font-weight: bold\">AUC</span><span style=\"font-weight: bold\">(</span>EMA<span style=\"font-weight: bold\">)</span>=<span style=\"color: #008080; text-decoration-color: #008080; font-weight: bold\">0.8034</span> <span style=\"color: #808000; text-decoration-color: #808000\">F1</span>=<span style=\"color: #008080; text-decoration-color: #008080; font-weight: bold\">0.4873</span> <span style=\"color: #808000; text-decoration-color: #808000\">ACC</span>=<span style=\"color: #008080; text-decoration-color: #008080; font-weight: bold\">0.7469</span>\n",
       "</pre>\n"
      ],
      "text/plain": [
       "E11: \u001b[1;35mAUC\u001b[0m\u001b[1m(\u001b[0mEMA\u001b[1m)\u001b[0m=\u001b[1;36m0.8034\u001b[0m \u001b[33mF1\u001b[0m=\u001b[1;36m0\u001b[0m\u001b[1;36m.4873\u001b[0m \u001b[33mACC\u001b[0m=\u001b[1;36m0\u001b[0m\u001b[1;36m.7469\u001b[0m\n"
      ]
     },
     "metadata": {},
     "output_type": "display_data"
    },
    {
     "data": {
      "text/html": [
       "<pre style=\"white-space:pre;overflow-x:auto;line-height:normal;font-family:Menlo,'DejaVu Sans Mono',consolas,'Courier New',monospace\">Train loss: <span style=\"color: #008080; text-decoration-color: #008080; font-weight: bold\">0.0657</span>\n",
       "</pre>\n"
      ],
      "text/plain": [
       "Train loss: \u001b[1;36m0.0657\u001b[0m\n"
      ]
     },
     "metadata": {},
     "output_type": "display_data"
    },
    {
     "data": {
      "text/html": [
       "<pre style=\"white-space:pre;overflow-x:auto;line-height:normal;font-family:Menlo,'DejaVu Sans Mono',consolas,'Courier New',monospace\">Val prob stats: <span style=\"color: #808000; text-decoration-color: #808000\">min</span>=<span style=\"color: #008080; text-decoration-color: #008080; font-weight: bold\">0.222</span> <span style=\"color: #808000; text-decoration-color: #808000\">med</span>=<span style=\"color: #008080; text-decoration-color: #008080; font-weight: bold\">0.476</span> <span style=\"color: #808000; text-decoration-color: #808000\">max</span>=<span style=\"color: #008080; text-decoration-color: #008080; font-weight: bold\">0.875</span>  &gt;<span style=\"color: #008080; text-decoration-color: #008080; font-weight: bold\">0.5</span>=<span style=\"color: #008080; text-decoration-color: #008080; font-weight: bold\">0.237</span>\n",
       "</pre>\n"
      ],
      "text/plain": [
       "Val prob stats: \u001b[33mmin\u001b[0m=\u001b[1;36m0\u001b[0m\u001b[1;36m.222\u001b[0m \u001b[33mmed\u001b[0m=\u001b[1;36m0\u001b[0m\u001b[1;36m.476\u001b[0m \u001b[33mmax\u001b[0m=\u001b[1;36m0\u001b[0m\u001b[1;36m.875\u001b[0m  >\u001b[1;36m0.\u001b[0m\u001b[1;36m5\u001b[0m=\u001b[1;36m0\u001b[0m\u001b[1;36m.237\u001b[0m\n"
      ]
     },
     "metadata": {},
     "output_type": "display_data"
    },
    {
     "data": {
      "text/html": [
       "<pre style=\"white-space:pre;overflow-x:auto;line-height:normal;font-family:Menlo,'DejaVu Sans Mono',consolas,'Courier New',monospace\">E12: <span style=\"color: #800080; text-decoration-color: #800080; font-weight: bold\">AUC</span><span style=\"font-weight: bold\">(</span>EMA<span style=\"font-weight: bold\">)</span>=<span style=\"color: #008080; text-decoration-color: #008080; font-weight: bold\">0.8058</span> <span style=\"color: #808000; text-decoration-color: #808000\">F1</span>=<span style=\"color: #008080; text-decoration-color: #008080; font-weight: bold\">0.5241</span> <span style=\"color: #808000; text-decoration-color: #808000\">ACC</span>=<span style=\"color: #008080; text-decoration-color: #008080; font-weight: bold\">0.7531</span>\n",
       "</pre>\n"
      ],
      "text/plain": [
       "E12: \u001b[1;35mAUC\u001b[0m\u001b[1m(\u001b[0mEMA\u001b[1m)\u001b[0m=\u001b[1;36m0.8058\u001b[0m \u001b[33mF1\u001b[0m=\u001b[1;36m0\u001b[0m\u001b[1;36m.5241\u001b[0m \u001b[33mACC\u001b[0m=\u001b[1;36m0\u001b[0m\u001b[1;36m.7531\u001b[0m\n"
      ]
     },
     "metadata": {},
     "output_type": "display_data"
    },
    {
     "data": {
      "text/html": [
       "<pre style=\"white-space:pre;overflow-x:auto;line-height:normal;font-family:Menlo,'DejaVu Sans Mono',consolas,'Courier New',monospace\">Train loss: <span style=\"color: #008080; text-decoration-color: #008080; font-weight: bold\">0.0662</span>\n",
       "</pre>\n"
      ],
      "text/plain": [
       "Train loss: \u001b[1;36m0.0662\u001b[0m\n"
      ]
     },
     "metadata": {},
     "output_type": "display_data"
    },
    {
     "data": {
      "text/html": [
       "<pre style=\"white-space:pre;overflow-x:auto;line-height:normal;font-family:Menlo,'DejaVu Sans Mono',consolas,'Courier New',monospace\">Val prob stats: <span style=\"color: #808000; text-decoration-color: #808000\">min</span>=<span style=\"color: #008080; text-decoration-color: #008080; font-weight: bold\">0.208</span> <span style=\"color: #808000; text-decoration-color: #808000\">med</span>=<span style=\"color: #008080; text-decoration-color: #008080; font-weight: bold\">0.478</span> <span style=\"color: #808000; text-decoration-color: #808000\">max</span>=<span style=\"color: #008080; text-decoration-color: #008080; font-weight: bold\">0.895</span>  &gt;<span style=\"color: #008080; text-decoration-color: #008080; font-weight: bold\">0.5</span>=<span style=\"color: #008080; text-decoration-color: #008080; font-weight: bold\">0.252</span>\n",
       "</pre>\n"
      ],
      "text/plain": [
       "Val prob stats: \u001b[33mmin\u001b[0m=\u001b[1;36m0\u001b[0m\u001b[1;36m.208\u001b[0m \u001b[33mmed\u001b[0m=\u001b[1;36m0\u001b[0m\u001b[1;36m.478\u001b[0m \u001b[33mmax\u001b[0m=\u001b[1;36m0\u001b[0m\u001b[1;36m.895\u001b[0m  >\u001b[1;36m0.\u001b[0m\u001b[1;36m5\u001b[0m=\u001b[1;36m0\u001b[0m\u001b[1;36m.252\u001b[0m\n"
      ]
     },
     "metadata": {},
     "output_type": "display_data"
    },
    {
     "data": {
      "text/html": [
       "<pre style=\"white-space:pre;overflow-x:auto;line-height:normal;font-family:Menlo,'DejaVu Sans Mono',consolas,'Courier New',monospace\">E13: <span style=\"color: #800080; text-decoration-color: #800080; font-weight: bold\">AUC</span><span style=\"font-weight: bold\">(</span>EMA<span style=\"font-weight: bold\">)</span>=<span style=\"color: #008080; text-decoration-color: #008080; font-weight: bold\">0.8063</span> <span style=\"color: #808000; text-decoration-color: #808000\">F1</span>=<span style=\"color: #008080; text-decoration-color: #008080; font-weight: bold\">0.5337</span> <span style=\"color: #808000; text-decoration-color: #808000\">ACC</span>=<span style=\"color: #008080; text-decoration-color: #008080; font-weight: bold\">0.7516</span>\n",
       "</pre>\n"
      ],
      "text/plain": [
       "E13: \u001b[1;35mAUC\u001b[0m\u001b[1m(\u001b[0mEMA\u001b[1m)\u001b[0m=\u001b[1;36m0.8063\u001b[0m \u001b[33mF1\u001b[0m=\u001b[1;36m0\u001b[0m\u001b[1;36m.5337\u001b[0m \u001b[33mACC\u001b[0m=\u001b[1;36m0\u001b[0m\u001b[1;36m.7516\u001b[0m\n"
      ]
     },
     "metadata": {},
     "output_type": "display_data"
    },
    {
     "data": {
      "text/html": [
       "<pre style=\"white-space:pre;overflow-x:auto;line-height:normal;font-family:Menlo,'DejaVu Sans Mono',consolas,'Courier New',monospace\">Train loss: <span style=\"color: #008080; text-decoration-color: #008080; font-weight: bold\">0.0645</span>\n",
       "</pre>\n"
      ],
      "text/plain": [
       "Train loss: \u001b[1;36m0.0645\u001b[0m\n"
      ]
     },
     "metadata": {},
     "output_type": "display_data"
    },
    {
     "data": {
      "text/html": [
       "<pre style=\"white-space:pre;overflow-x:auto;line-height:normal;font-family:Menlo,'DejaVu Sans Mono',consolas,'Courier New',monospace\">Val prob stats: <span style=\"color: #808000; text-decoration-color: #808000\">min</span>=<span style=\"color: #008080; text-decoration-color: #008080; font-weight: bold\">0.198</span> <span style=\"color: #808000; text-decoration-color: #808000\">med</span>=<span style=\"color: #008080; text-decoration-color: #008080; font-weight: bold\">0.477</span> <span style=\"color: #808000; text-decoration-color: #808000\">max</span>=<span style=\"color: #008080; text-decoration-color: #008080; font-weight: bold\">0.906</span>  &gt;<span style=\"color: #008080; text-decoration-color: #008080; font-weight: bold\">0.5</span>=<span style=\"color: #008080; text-decoration-color: #008080; font-weight: bold\">0.252</span>\n",
       "</pre>\n"
      ],
      "text/plain": [
       "Val prob stats: \u001b[33mmin\u001b[0m=\u001b[1;36m0\u001b[0m\u001b[1;36m.198\u001b[0m \u001b[33mmed\u001b[0m=\u001b[1;36m0\u001b[0m\u001b[1;36m.477\u001b[0m \u001b[33mmax\u001b[0m=\u001b[1;36m0\u001b[0m\u001b[1;36m.906\u001b[0m  >\u001b[1;36m0.\u001b[0m\u001b[1;36m5\u001b[0m=\u001b[1;36m0\u001b[0m\u001b[1;36m.252\u001b[0m\n"
      ]
     },
     "metadata": {},
     "output_type": "display_data"
    },
    {
     "data": {
      "text/html": [
       "<pre style=\"white-space:pre;overflow-x:auto;line-height:normal;font-family:Menlo,'DejaVu Sans Mono',consolas,'Courier New',monospace\">E14: <span style=\"color: #800080; text-decoration-color: #800080; font-weight: bold\">AUC</span><span style=\"font-weight: bold\">(</span>EMA<span style=\"font-weight: bold\">)</span>=<span style=\"color: #008080; text-decoration-color: #008080; font-weight: bold\">0.8065</span> <span style=\"color: #808000; text-decoration-color: #808000\">F1</span>=<span style=\"color: #008080; text-decoration-color: #008080; font-weight: bold\">0.5220</span> <span style=\"color: #808000; text-decoration-color: #808000\">ACC</span>=<span style=\"color: #008080; text-decoration-color: #008080; font-weight: bold\">0.7453</span>\n",
       "</pre>\n"
      ],
      "text/plain": [
       "E14: \u001b[1;35mAUC\u001b[0m\u001b[1m(\u001b[0mEMA\u001b[1m)\u001b[0m=\u001b[1;36m0.8065\u001b[0m \u001b[33mF1\u001b[0m=\u001b[1;36m0\u001b[0m\u001b[1;36m.5220\u001b[0m \u001b[33mACC\u001b[0m=\u001b[1;36m0\u001b[0m\u001b[1;36m.7453\u001b[0m\n"
      ]
     },
     "metadata": {},
     "output_type": "display_data"
    },
    {
     "data": {
      "text/html": [
       "<pre style=\"white-space:pre;overflow-x:auto;line-height:normal;font-family:Menlo,'DejaVu Sans Mono',consolas,'Courier New',monospace\">Train loss: <span style=\"color: #008080; text-decoration-color: #008080; font-weight: bold\">0.0655</span>\n",
       "</pre>\n"
      ],
      "text/plain": [
       "Train loss: \u001b[1;36m0.0655\u001b[0m\n"
      ]
     },
     "metadata": {},
     "output_type": "display_data"
    },
    {
     "data": {
      "text/html": [
       "<pre style=\"white-space:pre;overflow-x:auto;line-height:normal;font-family:Menlo,'DejaVu Sans Mono',consolas,'Courier New',monospace\">Val prob stats: <span style=\"color: #808000; text-decoration-color: #808000\">min</span>=<span style=\"color: #008080; text-decoration-color: #008080; font-weight: bold\">0.189</span> <span style=\"color: #808000; text-decoration-color: #808000\">med</span>=<span style=\"color: #008080; text-decoration-color: #008080; font-weight: bold\">0.475</span> <span style=\"color: #808000; text-decoration-color: #808000\">max</span>=<span style=\"color: #008080; text-decoration-color: #008080; font-weight: bold\">0.908</span>  &gt;<span style=\"color: #008080; text-decoration-color: #008080; font-weight: bold\">0.5</span>=<span style=\"color: #008080; text-decoration-color: #008080; font-weight: bold\">0.241</span>\n",
       "</pre>\n"
      ],
      "text/plain": [
       "Val prob stats: \u001b[33mmin\u001b[0m=\u001b[1;36m0\u001b[0m\u001b[1;36m.189\u001b[0m \u001b[33mmed\u001b[0m=\u001b[1;36m0\u001b[0m\u001b[1;36m.475\u001b[0m \u001b[33mmax\u001b[0m=\u001b[1;36m0\u001b[0m\u001b[1;36m.908\u001b[0m  >\u001b[1;36m0.\u001b[0m\u001b[1;36m5\u001b[0m=\u001b[1;36m0\u001b[0m\u001b[1;36m.241\u001b[0m\n"
      ]
     },
     "metadata": {},
     "output_type": "display_data"
    },
    {
     "data": {
      "text/html": [
       "<pre style=\"white-space:pre;overflow-x:auto;line-height:normal;font-family:Menlo,'DejaVu Sans Mono',consolas,'Courier New',monospace\">E15: <span style=\"color: #800080; text-decoration-color: #800080; font-weight: bold\">AUC</span><span style=\"font-weight: bold\">(</span>EMA<span style=\"font-weight: bold\">)</span>=<span style=\"color: #008080; text-decoration-color: #008080; font-weight: bold\">0.8068</span> <span style=\"color: #808000; text-decoration-color: #808000\">F1</span>=<span style=\"color: #008080; text-decoration-color: #008080; font-weight: bold\">0.5150</span> <span style=\"color: #808000; text-decoration-color: #808000\">ACC</span>=<span style=\"color: #008080; text-decoration-color: #008080; font-weight: bold\">0.7469</span>\n",
       "</pre>\n"
      ],
      "text/plain": [
       "E15: \u001b[1;35mAUC\u001b[0m\u001b[1m(\u001b[0mEMA\u001b[1m)\u001b[0m=\u001b[1;36m0.8068\u001b[0m \u001b[33mF1\u001b[0m=\u001b[1;36m0\u001b[0m\u001b[1;36m.5150\u001b[0m \u001b[33mACC\u001b[0m=\u001b[1;36m0\u001b[0m\u001b[1;36m.7469\u001b[0m\n"
      ]
     },
     "metadata": {},
     "output_type": "display_data"
    },
    {
     "data": {
      "text/html": [
       "<pre style=\"white-space:pre;overflow-x:auto;line-height:normal;font-family:Menlo,'DejaVu Sans Mono',consolas,'Courier New',monospace\">Train loss: <span style=\"color: #008080; text-decoration-color: #008080; font-weight: bold\">0.0628</span>\n",
       "</pre>\n"
      ],
      "text/plain": [
       "Train loss: \u001b[1;36m0.0628\u001b[0m\n"
      ]
     },
     "metadata": {},
     "output_type": "display_data"
    },
    {
     "data": {
      "text/html": [
       "<pre style=\"white-space:pre;overflow-x:auto;line-height:normal;font-family:Menlo,'DejaVu Sans Mono',consolas,'Courier New',monospace\">Val prob stats: <span style=\"color: #808000; text-decoration-color: #808000\">min</span>=<span style=\"color: #008080; text-decoration-color: #008080; font-weight: bold\">0.183</span> <span style=\"color: #808000; text-decoration-color: #808000\">med</span>=<span style=\"color: #008080; text-decoration-color: #008080; font-weight: bold\">0.475</span> <span style=\"color: #808000; text-decoration-color: #808000\">max</span>=<span style=\"color: #008080; text-decoration-color: #008080; font-weight: bold\">0.911</span>  &gt;<span style=\"color: #008080; text-decoration-color: #008080; font-weight: bold\">0.5</span>=<span style=\"color: #008080; text-decoration-color: #008080; font-weight: bold\">0.241</span>\n",
       "</pre>\n"
      ],
      "text/plain": [
       "Val prob stats: \u001b[33mmin\u001b[0m=\u001b[1;36m0\u001b[0m\u001b[1;36m.183\u001b[0m \u001b[33mmed\u001b[0m=\u001b[1;36m0\u001b[0m\u001b[1;36m.475\u001b[0m \u001b[33mmax\u001b[0m=\u001b[1;36m0\u001b[0m\u001b[1;36m.911\u001b[0m  >\u001b[1;36m0.\u001b[0m\u001b[1;36m5\u001b[0m=\u001b[1;36m0\u001b[0m\u001b[1;36m.241\u001b[0m\n"
      ]
     },
     "metadata": {},
     "output_type": "display_data"
    },
    {
     "data": {
      "text/html": [
       "<pre style=\"white-space:pre;overflow-x:auto;line-height:normal;font-family:Menlo,'DejaVu Sans Mono',consolas,'Courier New',monospace\">E16: <span style=\"color: #800080; text-decoration-color: #800080; font-weight: bold\">AUC</span><span style=\"font-weight: bold\">(</span>EMA<span style=\"font-weight: bold\">)</span>=<span style=\"color: #008080; text-decoration-color: #008080; font-weight: bold\">0.8060</span> <span style=\"color: #808000; text-decoration-color: #808000\">F1</span>=<span style=\"color: #008080; text-decoration-color: #008080; font-weight: bold\">0.5150</span> <span style=\"color: #808000; text-decoration-color: #808000\">ACC</span>=<span style=\"color: #008080; text-decoration-color: #008080; font-weight: bold\">0.7469</span>\n",
       "</pre>\n"
      ],
      "text/plain": [
       "E16: \u001b[1;35mAUC\u001b[0m\u001b[1m(\u001b[0mEMA\u001b[1m)\u001b[0m=\u001b[1;36m0.8060\u001b[0m \u001b[33mF1\u001b[0m=\u001b[1;36m0\u001b[0m\u001b[1;36m.5150\u001b[0m \u001b[33mACC\u001b[0m=\u001b[1;36m0\u001b[0m\u001b[1;36m.7469\u001b[0m\n"
      ]
     },
     "metadata": {},
     "output_type": "display_data"
    },
    {
     "data": {
      "text/html": [
       "<pre style=\"white-space:pre;overflow-x:auto;line-height:normal;font-family:Menlo,'DejaVu Sans Mono',consolas,'Courier New',monospace\">Train loss: <span style=\"color: #008080; text-decoration-color: #008080; font-weight: bold\">0.0631</span>\n",
       "</pre>\n"
      ],
      "text/plain": [
       "Train loss: \u001b[1;36m0.0631\u001b[0m\n"
      ]
     },
     "metadata": {},
     "output_type": "display_data"
    },
    {
     "data": {
      "text/html": [
       "<pre style=\"white-space:pre;overflow-x:auto;line-height:normal;font-family:Menlo,'DejaVu Sans Mono',consolas,'Courier New',monospace\">Val prob stats: <span style=\"color: #808000; text-decoration-color: #808000\">min</span>=<span style=\"color: #008080; text-decoration-color: #008080; font-weight: bold\">0.177</span> <span style=\"color: #808000; text-decoration-color: #808000\">med</span>=<span style=\"color: #008080; text-decoration-color: #008080; font-weight: bold\">0.474</span> <span style=\"color: #808000; text-decoration-color: #808000\">max</span>=<span style=\"color: #008080; text-decoration-color: #008080; font-weight: bold\">0.915</span>  &gt;<span style=\"color: #008080; text-decoration-color: #008080; font-weight: bold\">0.5</span>=<span style=\"color: #008080; text-decoration-color: #008080; font-weight: bold\">0.245</span>\n",
       "</pre>\n"
      ],
      "text/plain": [
       "Val prob stats: \u001b[33mmin\u001b[0m=\u001b[1;36m0\u001b[0m\u001b[1;36m.177\u001b[0m \u001b[33mmed\u001b[0m=\u001b[1;36m0\u001b[0m\u001b[1;36m.474\u001b[0m \u001b[33mmax\u001b[0m=\u001b[1;36m0\u001b[0m\u001b[1;36m.915\u001b[0m  >\u001b[1;36m0.\u001b[0m\u001b[1;36m5\u001b[0m=\u001b[1;36m0\u001b[0m\u001b[1;36m.245\u001b[0m\n"
      ]
     },
     "metadata": {},
     "output_type": "display_data"
    },
    {
     "data": {
      "text/html": [
       "<pre style=\"white-space:pre;overflow-x:auto;line-height:normal;font-family:Menlo,'DejaVu Sans Mono',consolas,'Courier New',monospace\">E17: <span style=\"color: #800080; text-decoration-color: #800080; font-weight: bold\">AUC</span><span style=\"font-weight: bold\">(</span>EMA<span style=\"font-weight: bold\">)</span>=<span style=\"color: #008080; text-decoration-color: #008080; font-weight: bold\">0.8049</span> <span style=\"color: #808000; text-decoration-color: #808000\">F1</span>=<span style=\"color: #008080; text-decoration-color: #008080; font-weight: bold\">0.5163</span> <span style=\"color: #808000; text-decoration-color: #808000\">ACC</span>=<span style=\"color: #008080; text-decoration-color: #008080; font-weight: bold\">0.7453</span>\n",
       "</pre>\n"
      ],
      "text/plain": [
       "E17: \u001b[1;35mAUC\u001b[0m\u001b[1m(\u001b[0mEMA\u001b[1m)\u001b[0m=\u001b[1;36m0.8049\u001b[0m \u001b[33mF1\u001b[0m=\u001b[1;36m0\u001b[0m\u001b[1;36m.5163\u001b[0m \u001b[33mACC\u001b[0m=\u001b[1;36m0\u001b[0m\u001b[1;36m.7453\u001b[0m\n"
      ]
     },
     "metadata": {},
     "output_type": "display_data"
    },
    {
     "data": {
      "text/html": [
       "<pre style=\"white-space:pre;overflow-x:auto;line-height:normal;font-family:Menlo,'DejaVu Sans Mono',consolas,'Courier New',monospace\">Train loss: <span style=\"color: #008080; text-decoration-color: #008080; font-weight: bold\">0.0634</span>\n",
       "</pre>\n"
      ],
      "text/plain": [
       "Train loss: \u001b[1;36m0.0634\u001b[0m\n"
      ]
     },
     "metadata": {},
     "output_type": "display_data"
    },
    {
     "data": {
      "text/html": [
       "<pre style=\"white-space:pre;overflow-x:auto;line-height:normal;font-family:Menlo,'DejaVu Sans Mono',consolas,'Courier New',monospace\">Val prob stats: <span style=\"color: #808000; text-decoration-color: #808000\">min</span>=<span style=\"color: #008080; text-decoration-color: #008080; font-weight: bold\">0.168</span> <span style=\"color: #808000; text-decoration-color: #808000\">med</span>=<span style=\"color: #008080; text-decoration-color: #008080; font-weight: bold\">0.475</span> <span style=\"color: #808000; text-decoration-color: #808000\">max</span>=<span style=\"color: #008080; text-decoration-color: #008080; font-weight: bold\">0.919</span>  &gt;<span style=\"color: #008080; text-decoration-color: #008080; font-weight: bold\">0.5</span>=<span style=\"color: #008080; text-decoration-color: #008080; font-weight: bold\">0.250</span>\n",
       "</pre>\n"
      ],
      "text/plain": [
       "Val prob stats: \u001b[33mmin\u001b[0m=\u001b[1;36m0\u001b[0m\u001b[1;36m.168\u001b[0m \u001b[33mmed\u001b[0m=\u001b[1;36m0\u001b[0m\u001b[1;36m.475\u001b[0m \u001b[33mmax\u001b[0m=\u001b[1;36m0\u001b[0m\u001b[1;36m.919\u001b[0m  >\u001b[1;36m0.\u001b[0m\u001b[1;36m5\u001b[0m=\u001b[1;36m0\u001b[0m\u001b[1;36m.250\u001b[0m\n"
      ]
     },
     "metadata": {},
     "output_type": "display_data"
    },
    {
     "data": {
      "text/html": [
       "<pre style=\"white-space:pre;overflow-x:auto;line-height:normal;font-family:Menlo,'DejaVu Sans Mono',consolas,'Courier New',monospace\">E18: <span style=\"color: #800080; text-decoration-color: #800080; font-weight: bold\">AUC</span><span style=\"font-weight: bold\">(</span>EMA<span style=\"font-weight: bold\">)</span>=<span style=\"color: #008080; text-decoration-color: #008080; font-weight: bold\">0.8037</span> <span style=\"color: #808000; text-decoration-color: #808000\">F1</span>=<span style=\"color: #008080; text-decoration-color: #008080; font-weight: bold\">0.5235</span> <span style=\"color: #808000; text-decoration-color: #808000\">ACC</span>=<span style=\"color: #008080; text-decoration-color: #008080; font-weight: bold\">0.7469</span>\n",
       "</pre>\n"
      ],
      "text/plain": [
       "E18: \u001b[1;35mAUC\u001b[0m\u001b[1m(\u001b[0mEMA\u001b[1m)\u001b[0m=\u001b[1;36m0.8037\u001b[0m \u001b[33mF1\u001b[0m=\u001b[1;36m0\u001b[0m\u001b[1;36m.5235\u001b[0m \u001b[33mACC\u001b[0m=\u001b[1;36m0\u001b[0m\u001b[1;36m.7469\u001b[0m\n"
      ]
     },
     "metadata": {},
     "output_type": "display_data"
    },
    {
     "data": {
      "text/html": [
       "<pre style=\"white-space:pre;overflow-x:auto;line-height:normal;font-family:Menlo,'DejaVu Sans Mono',consolas,'Courier New',monospace\"><span style=\"color: #808000; text-decoration-color: #808000; font-weight: bold\">Fold </span><span style=\"color: #808000; text-decoration-color: #808000; font-weight: bold\">5</span><span style=\"color: #808000; text-decoration-color: #808000; font-weight: bold\"> fitted T: </span><span style=\"color: #808000; text-decoration-color: #808000; font-weight: bold\">0.605</span>\n",
       "</pre>\n"
      ],
      "text/plain": [
       "\u001b[1;33mFold \u001b[0m\u001b[1;33m5\u001b[0m\u001b[1;33m fitted T: \u001b[0m\u001b[1;33m0.605\u001b[0m\n"
      ]
     },
     "metadata": {},
     "output_type": "display_data"
    }
   ],
   "source": [
    "# ## 11) K-Fold Training (Focal + EMA + Hard-Negative Mining + light MixUp)\n",
    "\n",
    "from sklearn.model_selection import StratifiedKFold\n",
    "import math, warnings\n",
    "\n",
    "# --- Safety defaults if a fresh session is missing new flags ---\n",
    "USE_HNM       = getattr(CFG, \"use_hnm\", False)\n",
    "HNM_NEG_KEEP  = float(getattr(CFG, \"hnm_neg_keep\", 0.50))\n",
    "USE_MIXUP     = getattr(CFG, \"use_mixup\", True)\n",
    "MIXUP_PROB    = float(getattr(CFG, \"mixup_prob\", 0.40))\n",
    "MIXUP_ALPHA   = float(getattr(CFG, \"mixup_alpha\", 0.20))\n",
    "EMA_DECAY     = float(getattr(CFG, \"ema_decay\", 0.999))\n",
    "\n",
    "skf = StratifiedKFold(n_splits=CFG.folds, shuffle=True, random_state=CFG.seed)\n",
    "df = df.sample(frac=1.0, random_state=CFG.seed).reset_index(drop=True)\n",
    "\n",
    "oof_logits = np.zeros(len(df), dtype=np.float32)\n",
    "oof_y = df.y.values.astype(int)\n",
    "fold_Ts = []\n",
    "\n",
    "# --- helpers: MixUp & Focal (per-sample) ---\n",
    "def mixup_batch(x, y, alpha=0.2):\n",
    "    if alpha <= 0: return x, y\n",
    "    lam = np.random.beta(alpha, alpha)\n",
    "    idx = torch.randperm(x.size(0), device=x.device)\n",
    "    x = lam * x + (1 - lam) * x[idx]\n",
    "    y = lam * y + (1 - lam) * y[idx]\n",
    "    return x, y\n",
    "\n",
    "def focal_per_sample(logits, targets, alpha=0.4, gamma=2.0):\n",
    "    bce = F.binary_cross_entropy_with_logits(logits, targets, reduction=\"none\")\n",
    "    p_t = torch.exp(-bce)\n",
    "    alpha_t = alpha * targets + (1 - alpha) * (1 - targets)\n",
    "    loss = alpha_t * (1 - p_t).pow(gamma) * bce\n",
    "    return loss\n",
    "\n",
    "def set_classifier_prior_bias(model, prior):\n",
    "    base = model.module if isinstance(model, nn.DataParallel) else model\n",
    "    last_linear = None\n",
    "    for m in base.modules():\n",
    "        if isinstance(m, nn.Linear) and m.out_features == 1: last_linear = m\n",
    "    if last_linear is not None and last_linear.bias is not None:\n",
    "        with torch.no_grad():\n",
    "            b = math.log(prior / max(1e-6, 1 - prior))\n",
    "            last_linear.bias.fill_(b)\n",
    "        rprint(f\"[yellow]Init classifier bias to prior logit={b:.3f} (prior={prior:.3f})[/yellow]\")\n",
    "\n",
    "for fold, (tr_idx, va_idx) in enumerate(skf.split(df, df.y), 1):\n",
    "    rprint(f\"[bold cyan]\\n========= FOLD {fold}/{CFG.folds} =========[/bold cyan]\")\n",
    "    tr_df, va_df = df.iloc[tr_idx], df.iloc[va_idx]\n",
    "    dl_train, dl_valid = get_loaders(tr_df, va_df)\n",
    "\n",
    "    model = PCOSNet(CFG.backbone).to(device)\n",
    "    if USE_DP: model = nn.DataParallel(model)\n",
    "\n",
    "    prior = float((tr_df.y == 1).mean())\n",
    "    set_classifier_prior_bias(model, prior)\n",
    "\n",
    "    ema = ModelEMA(model, decay=EMA_DECAY)\n",
    "    optimizer = torch.optim.AdamW(model.parameters(), lr=CFG.lr, weight_decay=CFG.weight_decay)\n",
    "    scheduler = build_cosine_with_warmup(optimizer, len(dl_train)*CFG.warmup_epochs, len(dl_train)*CFG.epochs)\n",
    "    scaler = torch.amp.GradScaler('cuda', enabled=CFG.use_amp)\n",
    "    best_auc, best_path, patience = -1.0, f\"{CFG.OUT_DIR}/model_fold{fold}.pt\", CFG.patience\n",
    "\n",
    "    for epoch in range(1, CFG.epochs + 1):\n",
    "        model.train()\n",
    "        train_losses = []\n",
    "        for xb, yb in dl_train:\n",
    "            xb, yb = xb.to(device, non_blocking=True), yb.to(device, non_blocking=True).squeeze(1)\n",
    "\n",
    "            if USE_MIXUP and np.random.rand() < MIXUP_PROB:\n",
    "                xb, yb = mixup_batch(xb, yb, alpha=MIXUP_ALPHA)\n",
    "                yb = yb.clamp_(0.0, 1.0)\n",
    "\n",
    "            optimizer.zero_grad(set_to_none=True)\n",
    "            with torch.amp.autocast('cuda', enabled=CFG.use_amp):\n",
    "                logits = model(xb)\n",
    "                per_loss = focal_per_sample(logits, yb, alpha=CFG.focal_alpha, gamma=CFG.focal_gamma)\n",
    "\n",
    "                if USE_HNM:\n",
    "                    with torch.no_grad():\n",
    "                        neg_mask = (yb < 0.5)\n",
    "                        pos_mask = ~neg_mask\n",
    "                        n_neg = int(neg_mask.sum().item())\n",
    "                        k = max(1, int(math.ceil(HNM_NEG_KEEP * max(1, n_neg))))\n",
    "                        \n",
    "                        if n_neg > 0 and k < n_neg:\n",
    "                            neg_idx = neg_mask.nonzero(as_tuple=False).squeeze(1)\n",
    "                            _, topk_idx_local = per_loss[neg_mask].topk(k, largest=True)\n",
    "                            keep_idx = torch.cat([pos_mask.nonzero(as_tuple=False).squeeze(1), neg_idx[topk_idx_local]], dim=0)\n",
    "                        else:\n",
    "                            keep_idx = torch.arange(per_loss.size(0), device=per_loss.device)\n",
    "                    loss = per_loss[keep_idx].mean()\n",
    "                else:\n",
    "                    loss = per_loss.mean()\n",
    "\n",
    "            scaler.scale(loss).backward()\n",
    "            scaler.unscale_(optimizer)\n",
    "            torch.nn.utils.clip_grad_norm_(model.parameters(), max_norm=5.0)\n",
    "            scaler.step(optimizer)\n",
    "            scaler.update()\n",
    "            scheduler.step()\n",
    "            train_losses.append(loss.detach().float().item())\n",
    "            ema.update(model)\n",
    "\n",
    "        rprint(f\"Train loss: {np.mean(train_losses):.4f}\")\n",
    "\n",
    "        ema.ema.eval()\n",
    "        with torch.no_grad():\n",
    "            val_logits_epoch = np.concatenate([(ema.ema(xb.to(device))).detach().cpu().numpy() for xb, _ in dl_valid])\n",
    "        probs = 1/(1+np.exp(-val_logits_epoch))\n",
    "        rprint(f\"Val prob stats: min={probs.min():.3f} med={np.median(probs):.3f} max={probs.max():.3f}  >0.5={(probs>=0.5).mean():.3f}\")\n",
    "        m = compute_metrics(va_df.y.values, probs)\n",
    "        rprint(f\"E{epoch:02d}: AUC(EMA)={m['AUC']:.4f} F1={m['F1']:.4f} ACC={m['ACC']:.4f}\")\n",
    "\n",
    "        if m[\"AUC\"] > best_auc:\n",
    "            best_auc, patience = m[\"AUC\"], CFG.patience\n",
    "            torch.save({\"state_dict\": ema.ema.state_dict(), \"auc\": float(best_auc), \"backbone\": CFG.backbone}, best_path)\n",
    "        elif patience < 1:\n",
    "            rprint(\"[yellow]Early stopping[/yellow]\"); break\n",
    "        else:\n",
    "            patience -= 1\n",
    "            \n",
    "    # OOF with TTA\n",
    "    ckpt = torch.load(best_path, map_location=\"cpu\", weights_only=False)\n",
    "    model_best = load_ckpt_into_base(ckpt, ckpt[\"backbone\"], device)\n",
    "    model_best.eval()\n",
    "    with torch.no_grad():\n",
    "        oof_logits[va_idx] = np.concatenate([tta_logits(model_best, xb.to(device)).detach().cpu().numpy() for xb, _ in dl_valid])\n",
    "    fold_T = fit_temperature(oof_logits[va_idx], oof_y[va_idx])\n",
    "    fold_Ts.append(fold_T)\n",
    "    rprint(f\"[bold yellow]Fold {fold} fitted T: {fold_T:.3f}[/bold yellow]\")"
   ]
  },
  {
   "cell_type": "code",
   "execution_count": 13,
   "id": "b3d4e0db",
   "metadata": {
    "execution": {
     "iopub.execute_input": "2025-08-24T00:39:18.304022Z",
     "iopub.status.busy": "2025-08-24T00:39:18.303414Z",
     "iopub.status.idle": "2025-08-24T00:39:18.317589Z",
     "shell.execute_reply": "2025-08-24T00:39:18.316815Z"
    },
    "papermill": {
     "duration": 0.047331,
     "end_time": "2025-08-24T00:39:18.318661",
     "exception": false,
     "start_time": "2025-08-24T00:39:18.271330",
     "status": "completed"
    },
    "tags": []
   },
   "outputs": [
    {
     "name": "stdout",
     "output_type": "stream",
     "text": [
      "Python: 3.11.13 (main, Jun  4 2025, 08:57:29) [GCC 11.4.0]\n",
      "PyTorch: 2.6.0+cu124 | CUDA available: True | GPUs: 2\n",
      "  - GPU0: Tesla T4\n",
      "  - GPU1: Tesla T4\n",
      "scikit-learn: 1.2.2\n",
      "timm: 1.0.15\n",
      "albumentations: 1.4.16\n",
      "[OK] Preflight checks passed.\n"
     ]
    }
   ],
   "source": [
    "# === Cell 11.9R: Final Preflight Guards ===\n",
    "import os, sys, platform, json\n",
    "import torch, sklearn, timm, albumentations as A\n",
    "\n",
    "# 1) Basic env\n",
    "print(\"Python:\", sys.version)\n",
    "print(\"PyTorch:\", torch.__version__, \"| CUDA available:\", torch.cuda.is_available(), \"| GPUs:\", torch.cuda.device_count())\n",
    "if torch.cuda.is_available():\n",
    "    for i in range(torch.cuda.device_count()):\n",
    "        print(f\"  - GPU{i}:\", torch.cuda.get_device_name(i))\n",
    "print(\"scikit-learn:\", sklearn.__version__)\n",
    "print(\"timm:\", timm.__version__)\n",
    "print(\"albumentations:\", A.__version__)\n",
    "\n",
    "# 2) CFG sanity (ensure not MockCFG)\n",
    "assert \"CFG\" in globals(), \"CFG is not defined.\"\n",
    "assert type(CFG).__name__ != \"MockCFG\", \"Remove the old MockCFG/dummy OOF cell.\"\n",
    "for k in [\"BASE\",\"TRAIN_DIR\",\"TEST_DIR\",\"LABELS_FILE\",\"OUT_DIR\",\"img_size\",\"folds\",\"batch_size\"]:\n",
    "    assert hasattr(CFG, k), f\"CFG.{k} missing.\"\n",
    "\n",
    "# 3) Path sanity\n",
    "assert os.path.isdir(CFG.TRAIN_DIR), f\"TRAIN_DIR not found: {CFG.TRAIN_DIR}\"\n",
    "if not os.path.isdir(CFG.TEST_DIR):\n",
    "    print(f\"[warn] TEST_DIR not found: {CFG.TEST_DIR} (latency/test inference will fallback to train set)\")\n",
    "os.makedirs(CFG.OUT_DIR, exist_ok=True)\n",
    "\n",
    "# 4) DataFrame & splits present\n",
    "assert \"df\" in globals() and len(df)>0 and {\"path\",\"y\"}.issubset(df.columns), \"Training dataframe `df` not ready.\"\n",
    "\n",
    "# 5) OOF pre-check (must exist after training, before Cell 12R)\n",
    "assert \"oof_logits\" in globals() and \"oof_y\" in globals(), \"Run training to populate oof_logits and oof_y.\"\n",
    "assert len(oof_logits)==len(oof_y)==len(df), \"Length mismatch between OOF arrays and df; ensure no dummy OOF cell remains.\"\n",
    "\n",
    "print(\"[OK] Preflight checks passed.\")\n"
   ]
  },
  {
   "cell_type": "code",
   "execution_count": 14,
   "id": "6894d83c",
   "metadata": {
    "execution": {
     "iopub.execute_input": "2025-08-24T00:39:18.378487Z",
     "iopub.status.busy": "2025-08-24T00:39:18.378277Z",
     "iopub.status.idle": "2025-08-24T01:44:15.753219Z",
     "shell.execute_reply": "2025-08-24T01:44:15.752596Z"
    },
    "papermill": {
     "duration": 3897.407011,
     "end_time": "2025-08-24T01:44:15.754643",
     "exception": false,
     "start_time": "2025-08-24T00:39:18.347632",
     "status": "completed"
    },
    "tags": []
   },
   "outputs": [
    {
     "data": {
      "text/html": [
       "<pre style=\"white-space:pre;overflow-x:auto;line-height:normal;font-family:Menlo,'DejaVu Sans Mono',consolas,'Courier New',monospace\"><span style=\"color: #008000; text-decoration-color: #008000\">OOF analysis complete. Plots + CIs + thresholds saved in /kaggle/working/pcosgen_out</span>\n",
       "</pre>\n"
      ],
      "text/plain": [
       "\u001b[32mOOF analysis complete. Plots + CIs + thresholds saved in \u001b[0m\u001b[32m/kaggle/working/\u001b[0m\u001b[32mpcosgen_out\u001b[0m\n"
      ]
     },
     "metadata": {},
     "output_type": "display_data"
    },
    {
     "data": {
      "image/png": "[encoded data removed]",
      "text/plain": [
       "<Figure size 640x480 with 1 Axes>"
      ]
     },
     "metadata": {},
     "output_type": "display_data"
    }
   ],
   "source": [
    "# === Cell 12R (FINAL): OOF Analysis + Calibration + CIs + Core Plots ===\n",
    "# Final-run knobs (camera-ready)\n",
    "FAST_MODE = False                                # full bootstrap\n",
    "N_BOOT = 2000                                    # bootstrap resamples\n",
    "THR_GRID_STEPS = 20001                           # only used if USE_UNIQUE_THRESHOLDS=False\n",
    "USE_UNIQUE_THRESHOLDS = True                     # exact thresholds at your score values\n",
    "\n",
    "import os, json, numpy as np, pandas as pd, matplotlib.pyplot as plt\n",
    "from sklearn.metrics import (\n",
    "    roc_auc_score, roc_curve, auc,\n",
    "    precision_recall_curve, average_precision_score,\n",
    "    ConfusionMatrixDisplay\n",
    ")\n",
    "try:\n",
    "    from sklearn.metrics import DetCurveDisplay  # available in sklearn >= 1.0\n",
    "    _HAS_DET = True\n",
    "except Exception:\n",
    "    _HAS_DET = False\n",
    "\n",
    "# --------- Guards: require real training outputs and config ---------\n",
    "try:\n",
    "    from rich import print as rprint\n",
    "except Exception:\n",
    "    rprint = print\n",
    "\n",
    "assert 'CFG' in globals(), \"CFG not found. Run earlier config cells.\"\n",
    "assert 'oof_logits' in globals() and 'oof_y' in globals(), \"Run K-Fold training first to populate oof_logits and oof_y.\"\n",
    "assert isinstance(oof_logits, np.ndarray) and isinstance(oof_y, np.ndarray), \"oof arrays must be numpy.\"\n",
    "assert len(oof_logits) == len(oof_y), \"oof_logits and oof_y length mismatch.\"\n",
    "os.makedirs(CFG.OUT_DIR, exist_ok=True)\n",
    "\n",
    "# --------- Calibration (temperature scaling) ---------\n",
    "global_t_temp = fit_temperature(oof_logits, oof_y)   # uses your function from earlier cells\n",
    "oof_probs     = 1.0 / (1.0 + np.exp(-oof_logits))\n",
    "oof_probs_cal = 1.0 / (1.0 + np.exp(-(oof_logits / max(1e-3, global_t_temp))))\n",
    "\n",
    "# --------- Threshold helpers ---------\n",
    "def best_thr_with_constraints(y_true, y_prob, min_rec=0.85, min_spec=0.85):\n",
    "    \"\"\"\n",
    "    Find threshold maximizing F1 under constraints:\n",
    "    recall_healthy >= min_rec AND spec_unhealthy >= min_spec.\n",
    "    Falls back to closest-by-shortfall if no feasible threshold.\n",
    "    Uses unique-score thresholds if USE_UNIQUE_THRESHOLDS else dense grid.\n",
    "    \"\"\"\n",
    "    y = y_true.astype(int)\n",
    "    p = y_prob.astype(float)\n",
    "\n",
    "    if USE_UNIQUE_THRESHOLDS:\n",
    "        thrs = np.r_[0.0, np.sort(np.unique(p)), 1.0]\n",
    "    else:\n",
    "        thrs = np.linspace(0.0, 1.0, THR_GRID_STEPS)\n",
    "\n",
    "    feasible = []\n",
    "    best_t, best_m, best_gap = None, None, 1e9\n",
    "    for t in thrs:\n",
    "        m = compute_metrics(y, p, thr=float(t))\n",
    "        gap = max(0.0, min_rec - m[\"RECALL_healthy\"]) + max(0.0, min_spec - m[\"SPEC_unhealthy\"])\n",
    "        if gap <= 0:\n",
    "            feasible.append((float(t), m))\n",
    "        elif (gap < best_gap) or (abs(gap - best_gap) < 1e-12 and (best_m is None or m[\"F1\"] > best_m[\"F1\"])):\n",
    "            best_t, best_m, best_gap = float(t), m, gap\n",
    "\n",
    "    if feasible:\n",
    "        t, m = max(feasible, key=lambda z: z[1][\"F1\"])\n",
    "        return float(t), {k: float(v) for k, v in m.items()}, True\n",
    "    return float(best_t), {k: float(v) for k, v in best_m.items()}, False\n",
    "\n",
    "# Primary thresholds\n",
    "thr_j, _   = best_threshold(oof_y, oof_probs_cal, metric=\"J\")           # Youden's J\n",
    "thr_s80    = find_threshold_for_spec(oof_y, oof_probs_cal, 0.80)        # Spec >= 0.80\n",
    "thr_85, m_85, feasible_85 = best_thr_with_constraints(oof_y, oof_probs_cal, 0.85, 0.85)\n",
    "\n",
    "# --------- Bootstrap CIs ---------\n",
    "def _bootstrap_metric_ci(y, p, fn, n=N_BOOT, alpha=0.95, seed=42, show_progress=False):\n",
    "    rng = np.random.default_rng(seed)\n",
    "    vals = []\n",
    "    N = len(y)\n",
    "    step = max(50, n // 10)\n",
    "    for i in range(n):\n",
    "        idx = rng.integers(0, N, N)\n",
    "        try:\n",
    "            vals.append(fn(y[idx], p[idx]))\n",
    "        except Exception:\n",
    "            continue\n",
    "        if show_progress and (i + 1) % step == 0:\n",
    "            rprint(f\"[bootstrap] {i+1}/{n}\")\n",
    "    vals = np.asarray(vals, dtype=float)\n",
    "    lo = np.nanpercentile(vals, (1 - alpha) / 2 * 100)\n",
    "    hi = np.nanpercentile(vals, (1 + alpha) / 2 * 100)\n",
    "    return float(np.nanmean(vals)), float(lo), float(hi)\n",
    "\n",
    "def _sens_at_spec(y, p, spec_target=0.80):\n",
    "    t = find_threshold_for_spec(y, p, spec_target)\n",
    "    m = compute_metrics(y, p, thr=t)\n",
    "    return m[\"RECALL_healthy\"]\n",
    "\n",
    "def _brier(y, p):\n",
    "    y = y.astype(float)\n",
    "    return float(np.mean((p - y)**2))\n",
    "\n",
    "auc_roc, ci_roc_lo, ci_roc_hi = _bootstrap_metric_ci(oof_y, oof_probs_cal, roc_auc_score, n=N_BOOT)\n",
    "ap_mean, ci_ap_lo, ci_ap_hi   = _bootstrap_metric_ci(oof_y, oof_probs_cal, average_precision_score, n=N_BOOT)\n",
    "brier,  ci_br_lo, ci_br_hi    = _bootstrap_metric_ci(oof_y, oof_probs_cal, _brier, n=N_BOOT)\n",
    "sens_s80, ci_s_lo, ci_s_hi    = _bootstrap_metric_ci(oof_y, oof_probs_cal, lambda y,p: _sens_at_spec(y,p,0.80), n=N_BOOT)\n",
    "\n",
    "metrics_ci = {\n",
    "    \"AUC_ROC\": {\"mean\": auc_roc, \"ci95\": [ci_roc_lo, ci_roc_hi]},\n",
    "    \"AP\":      {\"mean\": ap_mean, \"ci95\": [ci_ap_lo, ci_ap_hi]},\n",
    "    \"Brier\":   {\"mean\": brier,   \"ci95\": [ci_br_lo, ci_br_hi]},\n",
    "    \"Sens@Spec80\": {\"mean\": sens_s80, \"ci95\": [ci_s_lo, ci_s_hi]},\n",
    "}\n",
    "with open(f\"{CFG.OUT_DIR}/oof_metrics_ci.json\", \"w\") as f:\n",
    "    json.dump(metrics_ci, f, indent=2)\n",
    "\n",
    "# --------- Core plots ---------\n",
    "def save_core_plots(y, p, thr_j, thr_s80):\n",
    "    # ROC\n",
    "    fpr, tpr, _ = roc_curve(y, p)\n",
    "    plt.figure(); plt.plot(fpr, tpr, label=f\"AUC={auc(fpr,tpr):.3f}\")\n",
    "    plt.plot([0,1],[0,1],'--'); plt.xlabel(\"FPR\"); plt.ylabel(\"TPR\")\n",
    "    plt.title(\"OOF ROC Curve\"); plt.legend(); plt.tight_layout()\n",
    "    plt.savefig(f\"{CFG.OUT_DIR}/oof_roc.png\", dpi=150); plt.close()\n",
    "\n",
    "    # PR\n",
    "    prec, rec, _ = precision_recall_curve(y, p)\n",
    "    ap = average_precision_score(y, p)\n",
    "    plt.figure(); plt.plot(rec, prec, label=f\"AP={ap:.3f}\")\n",
    "    plt.xlabel(\"Recall\"); plt.ylabel(\"Precision\"); plt.title(\"OOF PR Curve\"); plt.legend()\n",
    "    plt.tight_layout(); plt.savefig(f\"{CFG.OUT_DIR}/oof_pr.png\", dpi=150); plt.close()\n",
    "\n",
    "    # Reliability (15 bins)\n",
    "    bins = np.linspace(0,1,16); xs, ys = [], []\n",
    "    for i in range(15):\n",
    "        sel = (p>=bins[i]) & (p<bins[i+1])\n",
    "        if sel.sum() > 0:\n",
    "            xs.append(float(p[sel].mean())); ys.append(float((y[sel]==1).mean()))\n",
    "    plt.figure(figsize=(4.2,4.2))\n",
    "    plt.plot([0,1],[0,1],'--'); plt.scatter(xs, ys)\n",
    "    plt.xlabel(\"Confidence\"); plt.ylabel(\"Empirical Positive Rate\")\n",
    "    plt.title(\"Reliability Diagram\")\n",
    "    plt.tight_layout(); plt.savefig(f\"{CFG.OUT_DIR}/oof_reliability.png\", dpi=150); plt.close()\n",
    "\n",
    "    # Confusion matrices\n",
    "    for thr, name in [(thr_j, \"cm_J_star\"), (thr_s80, \"cm_spec80\")]:\n",
    "        fig = ConfusionMatrixDisplay.from_predictions(\n",
    "            y, (p >= thr).astype(int), labels=[0,1], display_labels=[\"Unhealthy\",\"Healthy\"], cmap=\"Blues\"\n",
    "        ).figure_\n",
    "        plt.title(name); fig.savefig(f\"{CFG.OUT_DIR}/{name}.png\", dpi=150); plt.close(fig)\n",
    "\n",
    "    # DET curve\n",
    "    if _HAS_DET:\n",
    "        fig = DetCurveDisplay.from_predictions(y, p).plot().figure_\n",
    "        plt.title(\"OOF DET Curve\")\n",
    "        fig.savefig(f\"{CFG.OUT_DIR}/oof_det.png\", dpi=150); plt.close(fig)\n",
    "    else:\n",
    "        fpr, tpr, _ = roc_curve(y, p)\n",
    "        fnr = 1 - tpr\n",
    "        plt.figure(); plt.plot(fpr, fnr)\n",
    "        plt.xlabel(\"FPR\"); plt.ylabel(\"FNR\"); plt.title(\"OOF DET Curve (fallback)\")\n",
    "        plt.tight_layout(); plt.savefig(f\"{CFG.OUT_DIR}/oof_det.png\", dpi=150); plt.close()\n",
    "\n",
    "    # Score distribution (per class)\n",
    "    plt.figure(figsize=(6,4))\n",
    "    plt.hist(p[y==0], bins=30, alpha=0.65, density=True, label=\"Unhealthy (0)\")\n",
    "    plt.hist(p[y==1], bins=30, alpha=0.65, density=True, label=\"Healthy (1)\")\n",
    "    plt.axvline(thr_j,   ls='--', label=f\"J*={thr_j:.3f}\")\n",
    "    plt.axvline(thr_s80, ls='-.', label=f\"Spec80={thr_s80:.3f}\")\n",
    "    plt.xlabel(\"Calibrated probability of Healthy (1)\"); plt.ylabel(\"Density\")\n",
    "    plt.title(\"OOF Score Distribution by Class\"); plt.legend()\n",
    "    plt.tight_layout(); plt.savefig(f\"{CFG.OUT_DIR}/oof_score_hist.png\", dpi=150); plt.close()\n",
    "\n",
    "save_core_plots(oof_y, oof_probs_cal, thr_j, thr_s80)\n",
    "\n",
    "# --------- Save thresholds (JSON) ---------\n",
    "meta = {\n",
    "    \"global_t_temp\": float(global_t_temp),\n",
    "    \"thr_j\": float(thr_j),\n",
    "    \"thr_s80\": float(thr_s80),\n",
    "    \"thr_85\": float(thr_85),\n",
    "    \"m_85\": {k: float(v) for k, v in m_85.items()},\n",
    "    \"feasible_85\": bool(feasible_85),\n",
    "    \"fast_mode\": bool(FAST_MODE),\n",
    "    \"n_boot\": int(N_BOOT),\n",
    "    \"thr_grid_steps\": int(THR_GRID_STEPS),\n",
    "    \"use_unique_thresholds\": bool(USE_UNIQUE_THRESHOLDS),\n",
    "}\n",
    "with open(f\"{CFG.OUT_DIR}/thresholds.json\", \"w\") as f:\n",
    "    json.dump(meta, f, indent=2)\n",
    "\n",
    "rprint(f\"[green]OOF analysis complete. Plots + CIs + thresholds saved in {CFG.OUT_DIR}[/green]\")\n"
   ]
  },
  {
   "cell_type": "code",
   "execution_count": 15,
   "id": "94843db1",
   "metadata": {
    "execution": {
     "iopub.execute_input": "2025-08-24T01:44:15.820076Z",
     "iopub.status.busy": "2025-08-24T01:44:15.819849Z",
     "iopub.status.idle": "2025-08-24T01:44:16.703629Z",
     "shell.execute_reply": "2025-08-24T01:44:16.702901Z"
    },
    "papermill": {
     "duration": 0.916852,
     "end_time": "2025-08-24T01:44:16.704830",
     "exception": false,
     "start_time": "2025-08-24T01:44:15.787978",
     "status": "completed"
    },
    "tags": []
   },
   "outputs": [
    {
     "name": "stdout",
     "output_type": "stream",
     "text": [
      "[DCA] Saved decision curve plot and data -> /kaggle/working/pcosgen_out\n"
     ]
    }
   ],
   "source": [
    "# === Cell 22R: Decision Curve Analysis (DCA) ===\n",
    "import os, json, numpy as np, pandas as pd, matplotlib.pyplot as plt\n",
    "\n",
    "# Guards\n",
    "assert 'oof_y' in globals() and 'oof_probs_cal' in globals(), \"Run Cell 12R first to produce oof_y and oof_probs_cal.\"\n",
    "os.makedirs(CFG.OUT_DIR, exist_ok=True)\n",
    "\n",
    "def decision_curve(y_true: np.ndarray, probs: np.ndarray, thresholds=None):\n",
    "    \"\"\"\n",
    "    Compute decision curve (net benefit) across thresholds for a single model.\n",
    "    NB_model(t) = TP/N - FP/N * (t / (1 - t))\n",
    "    NB_treat_all(t) = prevalence - (1 - prevalence) * (t / (1 - t))\n",
    "    NB_treat_none(t) = 0\n",
    "    \"\"\"\n",
    "    y = y_true.astype(int)\n",
    "    p = probs.astype(float)\n",
    "    assert y.shape[0] == p.shape[0] and y.ndim == 1\n",
    "\n",
    "    if thresholds is None:\n",
    "        thresholds = np.linspace(0.01, 0.99, 99)  # avoid 0 and 1 to prevent division issues\n",
    "    N = len(y)\n",
    "    prev = y.mean()\n",
    "\n",
    "    nb_model = []\n",
    "    nb_all   = []\n",
    "    nb_none  = np.zeros_like(thresholds)\n",
    "\n",
    "    # Vectorized-enough loop (99 thresholds)\n",
    "    y_pos = (y == 1)\n",
    "    y_neg = ~y_pos\n",
    "    for t in thresholds:\n",
    "        pred_pos = (p >= t)\n",
    "        tp = np.sum(pred_pos & y_pos) / N\n",
    "        fp = np.sum(pred_pos & y_neg) / N\n",
    "        odds = t / (1.0 - t)\n",
    "        nb_model.append(tp - fp * odds)\n",
    "        nb_all.append(prev - (1.0 - prev) * odds)\n",
    "\n",
    "    out = pd.DataFrame({\n",
    "        \"threshold\": thresholds,\n",
    "        \"nb_model\": np.array(nb_model, dtype=float),\n",
    "        \"nb_all\":   np.array(nb_all, dtype=float),\n",
    "        \"nb_none\":  nb_none.astype(float)\n",
    "    })\n",
    "    return out\n",
    "\n",
    "def bootstrap_nb_ci(y_true, probs, thresholds, n_boot=300, seed=42):\n",
    "    \"\"\"\n",
    "    Bootstrap 95% CI for net benefit at each threshold.\n",
    "    Keeps it moderate (n_boot=300) to be Kaggle-friendly.\n",
    "    Returns: (lo, hi) arrays for model NB.\n",
    "    \"\"\"\n",
    "    rng = np.random.default_rng(seed)\n",
    "    N = len(y_true)\n",
    "    nb_boot = np.zeros((n_boot, len(thresholds)), dtype=float)\n",
    "    for b in range(n_boot):\n",
    "        idx = rng.integers(0, N, N)\n",
    "        d = decision_curve(y_true[idx], probs[idx], thresholds)\n",
    "        nb_boot[b, :] = d[\"nb_model\"].values\n",
    "    lo = np.percentile(nb_boot, 2.5, axis=0)\n",
    "    hi = np.percentile(nb_boot, 97.5, axis=0)\n",
    "    return lo, hi\n",
    "\n",
    "# --- Image model (current project) ---\n",
    "img_dca = decision_curve(oof_y, oof_probs_cal)\n",
    "thr = img_dca[\"threshold\"].values\n",
    "\n",
    "# Optional: add bootstrap CI band for image model\n",
    "img_lo, img_hi = bootstrap_nb_ci(oof_y, oof_probs_cal, thr, n_boot=300, seed=42)\n",
    "img_dca[\"nb_img_lo95\"] = img_lo\n",
    "img_dca[\"nb_img_hi95\"] = img_hi\n",
    "\n",
    "# --- Optional: Clinical model curve if a compatible file exists ---\n",
    "# We’ll auto-detect a clinical .npz at a common path; if present and y_true matches oof_y, we’ll plot it.\n",
    "clinical_added = False\n",
    "possible_paths = [\n",
    "    \"/content/drive/MyDrive/clinical_predictions.npz\",\n",
    "    \"/kaggle/input/clinical_predictions/clinical_predictions.npz\"\n",
    "]\n",
    "for cpath in possible_paths:\n",
    "    if os.path.exists(cpath):\n",
    "        try:\n",
    "            cl = np.load(cpath)\n",
    "            y_c = cl[\"y_true\"].astype(int)\n",
    "            p_c = cl[\"y_proba\"].astype(float)\n",
    "            if y_c.shape == oof_y.shape and np.array_equal(y_c, oof_y):\n",
    "                clin_dca = decision_curve(y_c, p_c, thresholds=thr)\n",
    "                # Optional CI for clinical as well (light to save time)\n",
    "                clin_lo, clin_hi = bootstrap_nb_ci(y_c, p_c, thr, n_boot=300, seed=123)\n",
    "                clin_dca[\"nb_clin_lo95\"] = clin_lo\n",
    "                clin_dca[\"nb_clin_hi95\"] = clin_hi\n",
    "                clinical_added = True\n",
    "                break\n",
    "            else:\n",
    "                print(f\"[DCA] Found {cpath}, but y_true does not match current OOF labels. Skipping clinical overlay.\")\n",
    "        except Exception as e:\n",
    "            print(f\"[DCA] Failed to read clinical predictions from {cpath}: {e}\")\n",
    "\n",
    "# --- Save CSV/JSON ---\n",
    "dca_out = img_dca.copy()\n",
    "dca_out.rename(columns={\"nb_model\": \"nb_image\"}, inplace=True)\n",
    "if clinical_added:\n",
    "    dca_out[\"nb_clinical\"]     = clin_dca[\"nb_model\"].values\n",
    "    dca_out[\"nb_clin_lo95\"]    = clin_dca[\"nb_clin_lo95\"].values\n",
    "    dca_out[\"nb_clin_hi95\"]    = clin_dca[\"nb_clin_hi95\"].values\n",
    "dca_out.to_csv(f\"{CFG.OUT_DIR}/decision_curve.csv\", index=False)\n",
    "\n",
    "with open(f\"{CFG.OUT_DIR}/decision_curve.json\", \"w\") as f:\n",
    "    json.dump({\n",
    "        \"threshold\": dca_out[\"threshold\"].tolist(),\n",
    "        \"nb_none\":   dca_out[\"nb_none\"].tolist(),\n",
    "        \"nb_all\":    dca_out[\"nb_all\"].tolist(),\n",
    "        \"nb_image\":  dca_out[\"nb_image\"].tolist(),\n",
    "        \"nb_img_lo95\": dca_out.get(\"nb_img_lo95\", pd.Series([np.nan]*len(thr))).fillna(np.nan).tolist(),\n",
    "        \"nb_img_hi95\": dca_out.get(\"nb_img_hi95\", pd.Series([np.nan]*len(thr))).fillna(np.nan).tolist(),\n",
    "        \"nb_clinical\": dca_out.get(\"nb_clinical\", pd.Series([np.nan]*len(thr))).fillna(np.nan).tolist(),\n",
    "        \"nb_clin_lo95\": dca_out.get(\"nb_clin_lo95\", pd.Series([np.nan]*len(thr))).fillna(np.nan).tolist(),\n",
    "        \"nb_clin_hi95\": dca_out.get(\"nb_clin_hi95\", pd.Series([np.nan]*len(thr))).fillna(np.nan).tolist(),\n",
    "        \"clinical_added\": bool(clinical_added)\n",
    "    }, f, indent=2)\n",
    "\n",
    "# --- Plot ---\n",
    "plt.figure(figsize=(7,5))\n",
    "plt.plot(thr, dca_out[\"nb_none\"],  label=\"Treat None\", linestyle=\"--\")\n",
    "plt.plot(thr, dca_out[\"nb_all\"],   label=\"Treat All\",  linestyle=\"--\")\n",
    "plt.plot(thr, dca_out[\"nb_image\"], label=\"Image Model\")\n",
    "\n",
    "# CI band for image model\n",
    "plt.fill_between(thr, dca_out[\"nb_img_lo95\"], dca_out[\"nb_img_hi95\"], alpha=0.15, label=\"Image 95% CI\")\n",
    "\n",
    "if clinical_added:\n",
    "    plt.plot(thr, dca_out[\"nb_clinical\"], label=\"Clinical Model\")\n",
    "    plt.fill_between(thr, dca_out[\"nb_clin_lo95\"], dca_out[\"nb_clin_hi95\"], alpha=0.15, label=\"Clinical 95% CI\")\n",
    "\n",
    "plt.axhline(0, color='black', linewidth=0.8)\n",
    "plt.xlabel(\"Threshold probability (risk of PCOS = 'Healthy' class prob)\")\n",
    "plt.ylabel(\"Net Benefit\")\n",
    "plt.title(\"Decision Curve Analysis\")\n",
    "plt.legend()\n",
    "plt.tight_layout()\n",
    "plt.savefig(f\"{CFG.OUT_DIR}/decision_curve.png\", dpi=150)\n",
    "plt.close()\n",
    "\n",
    "print(f\"[DCA] Saved decision curve plot and data -> {CFG.OUT_DIR}\")\n"
   ]
  },
  {
   "cell_type": "code",
   "execution_count": 16,
   "id": "77876521",
   "metadata": {
    "execution": {
     "iopub.execute_input": "2025-08-24T01:44:16.768138Z",
     "iopub.status.busy": "2025-08-24T01:44:16.767928Z",
     "iopub.status.idle": "2025-08-24T01:44:21.954785Z",
     "shell.execute_reply": "2025-08-24T01:44:21.953999Z"
    },
    "papermill": {
     "duration": 5.219981,
     "end_time": "2025-08-24T01:44:21.956075",
     "exception": false,
     "start_time": "2025-08-24T01:44:16.736094",
     "status": "completed"
    },
    "tags": []
   },
   "outputs": [
    {
     "data": {
      "text/html": [
       "<pre style=\"white-space:pre;overflow-x:auto;line-height:normal;font-family:Menlo,'DejaVu Sans Mono',consolas,'Courier New',monospace\"><span style=\"color: #008000; text-decoration-color: #008000\">Saved augmentation preview -&gt; /kaggle/working/pcosgen_out/aug_preview_grid.png</span>\n",
       "</pre>\n"
      ],
      "text/plain": [
       "\u001b[32mSaved augmentation preview -> \u001b[0m\u001b[32m/kaggle/working/pcosgen_out/\u001b[0m\u001b[32maug_preview_grid.png\u001b[0m\n"
      ]
     },
     "metadata": {},
     "output_type": "display_data"
    }
   ],
   "source": [
    "# ## 13) Augmentation Preview (Original vs Train/Valid Pipelines)\n",
    "\n",
    "def _denorm(img_t):\n",
    "    # img_t: torch tensor CxHxW normalized\n",
    "    mean = torch.tensor(IMAGENET_MEAN, device=img_t.device)[:, None, None]\n",
    "    std = torch.tensor(IMAGENET_STD, device=img_t.device)[:, None, None]\n",
    "    x = img_t * std + mean\n",
    "    x = (x.clamp(0,1) * 255).byte().permute(1,2,0).cpu().numpy()\n",
    "    return x\n",
    "\n",
    "\n",
    "def preview_augmentations(sample_paths, out_path, n_aug=4):\n",
    "    rows = len(sample_paths)\n",
    "    cols = 2 + n_aug  # Original + n_aug (train) + 1 (valid)\n",
    "    fig, axes = plt.subplots(rows, cols, figsize=(3.2*cols, 3.2*rows))\n",
    "    if rows == 1:\n",
    "        axes = np.expand_dims(axes, 0)\n",
    "\n",
    "    for r, p in enumerate(sample_paths):\n",
    "        img = cv2.imread(p, cv2.IMREAD_UNCHANGED)\n",
    "        if img is None:\n",
    "            continue\n",
    "        img = cv2.cvtColor(img, cv2.COLOR_GRAY2RGB) if img.ndim == 2 else cv2.cvtColor(img, cv2.COLOR_BGR2RGB)\n",
    "        # Original\n",
    "        axes[r,0].imshow(img); axes[r,0].set_title(\"Original\"); axes[r,0].axis('off')\n",
    "        # Train aug variants\n",
    "        for i in range(n_aug):\n",
    "            xi = train_tfms(image=img)[\"image\"]\n",
    "            axes[r,1+i].imshow(_denorm(xi)); axes[r,1+i].set_title(f\"Train aug {i+1}\"); axes[r,1+i].axis('off')\n",
    "        # Valid pipeline\n",
    "        xv = valid_tfms(image=img)[\"image\"]\n",
    "        axes[r,1+n_aug].imshow(_denorm(xv)); axes[r,1+n_aug].set_title(\"Valid pipeline\"); axes[r,1+n_aug].axis('off')\n",
    "\n",
    "    plt.tight_layout(); plt.savefig(out_path, dpi=150); plt.close()\n",
    "    rprint(f\"[green]Saved augmentation preview -> {out_path}[/green]\")\n",
    "\n",
    "sample_for_preview = [p for p,_ in zip(df.path.values, range(min(4, len(df))))]\n",
    "preview_augmentations(sample_for_preview, f\"{CFG.OUT_DIR}/aug_preview_grid.png\", n_aug=4)\n"
   ]
  },
  {
   "cell_type": "code",
   "execution_count": 17,
   "id": "0a1f1887",
   "metadata": {
    "execution": {
     "iopub.execute_input": "2025-08-24T01:44:22.018292Z",
     "iopub.status.busy": "2025-08-24T01:44:22.018030Z",
     "iopub.status.idle": "2025-08-24T01:44:22.149839Z",
     "shell.execute_reply": "2025-08-24T01:44:22.149229Z"
    },
    "papermill": {
     "duration": 0.163908,
     "end_time": "2025-08-24T01:44:22.150971",
     "exception": false,
     "start_time": "2025-08-24T01:44:21.987063",
     "status": "completed"
    },
    "tags": []
   },
   "outputs": [
    {
     "data": {
      "text/html": [
       "<pre style=\"white-space:pre;overflow-x:auto;line-height:normal;font-family:Menlo,'DejaVu Sans Mono',consolas,'Courier New',monospace\"><span style=\"color: #008000; text-decoration-color: #008000\">Saved class balance plot -&gt; /kaggle/working/pcosgen_out/class_balance.png</span>\n",
       "</pre>\n"
      ],
      "text/plain": [
       "\u001b[32mSaved class balance plot -> \u001b[0m\u001b[32m/kaggle/working/pcosgen_out/\u001b[0m\u001b[32mclass_balance.png\u001b[0m\n"
      ]
     },
     "metadata": {},
     "output_type": "display_data"
    }
   ],
   "source": [
    "# ## 14) Class Imbalance Plot (+ Weights)\n",
    "\n",
    "def plot_class_balance(df, out_path):\n",
    "    vc = df.y.value_counts().sort_index()\n",
    "    labels = [\"Unhealthy (0)\", \"Healthy (1)\"]\n",
    "    counts = [vc.get(0,0), vc.get(1,0)]\n",
    "    total = sum(counts) if sum(counts)>0 else 1\n",
    "    pct = [c/total*100 for c in counts]\n",
    "\n",
    "    plt.figure(figsize=(6,4))\n",
    "    bars = plt.bar(labels, counts)\n",
    "    for b, p in zip(bars, pct):\n",
    "        plt.text(b.get_x() + b.get_width()/2, b.get_height(), f\"{int(b.get_height())}\\n({p:.1f}%)\", ha='center', va='bottom')\n",
    "    plt.title(\"Class Balance (Train Labels)\"); plt.ylabel(\"Count\")\n",
    "    plt.tight_layout(); plt.savefig(out_path, dpi=150); plt.close()\n",
    "\n",
    "    # Save stats JSON\n",
    "    stats = {\n",
    "        # FIX: Explicitly cast NumPy int64 to Python int for JSON serialization\n",
    "        \"counts\": {\"0_unhealthy\": int(counts[0]), \"1_healthy\": int(counts[1])},\n",
    "        \"percent\": {\"0_unhealthy\": pct[0], \"1_healthy\": pct[1]},\n",
    "    }\n",
    "    with open(out_path.replace('.png', '.json'), 'w') as f:\n",
    "        json.dump(stats, f, indent=2)\n",
    "    rprint(f\"[green]Saved class balance plot -> {out_path}[/green]\")\n",
    "\n",
    "plot_class_balance(df, f\"{CFG.OUT_DIR}/class_balance.png\")"
   ]
  },
  {
   "cell_type": "code",
   "execution_count": 18,
   "id": "f9a6019d",
   "metadata": {
    "execution": {
     "iopub.execute_input": "2025-08-24T01:44:22.212001Z",
     "iopub.status.busy": "2025-08-24T01:44:22.211563Z",
     "iopub.status.idle": "2025-08-24T01:44:25.735768Z",
     "shell.execute_reply": "2025-08-24T01:44:25.735170Z"
    },
    "papermill": {
     "duration": 3.555514,
     "end_time": "2025-08-24T01:44:25.736918",
     "exception": false,
     "start_time": "2025-08-24T01:44:22.181404",
     "status": "completed"
    },
    "tags": []
   },
   "outputs": [
    {
     "data": {
      "text/html": [
       "<pre style=\"white-space:pre;overflow-x:auto;line-height:normal;font-family:Menlo,'DejaVu Sans Mono',consolas,'Courier New',monospace\"><span style=\"color: #800080; text-decoration-color: #800080\">Running Grad-CAM on </span><span style=\"color: #800080; text-decoration-color: #800080; font-weight: bold\">8</span><span style=\"color: #800080; text-decoration-color: #800080\"> examples </span><span style=\"color: #800080; text-decoration-color: #800080; font-weight: bold\">(</span><span style=\"color: #800080; text-decoration-color: #800080\">correct &amp; mistakes</span><span style=\"color: #800080; text-decoration-color: #800080; font-weight: bold\">)</span><span style=\"color: #800080; text-decoration-color: #800080\">.</span>\n",
       "</pre>\n"
      ],
      "text/plain": [
       "\u001b[35mRunning Grad-CAM on \u001b[0m\u001b[1;35m8\u001b[0m\u001b[35m examples \u001b[0m\u001b[1;35m(\u001b[0m\u001b[35mcorrect & mistakes\u001b[0m\u001b[1;35m)\u001b[0m\u001b[35m.\u001b[0m\n"
      ]
     },
     "metadata": {},
     "output_type": "display_data"
    },
    {
     "data": {
      "text/html": [
       "<pre style=\"white-space:pre;overflow-x:auto;line-height:normal;font-family:Menlo,'DejaVu Sans Mono',consolas,'Courier New',monospace\"><span style=\"color: #008000; text-decoration-color: #008000\">Saved Grad-CAM overlays -&gt; /kaggle/working/pcosgen_out/gradcam</span>\n",
       "</pre>\n"
      ],
      "text/plain": [
       "\u001b[32mSaved Grad-CAM overlays -> \u001b[0m\u001b[32m/kaggle/working/pcosgen_out/\u001b[0m\u001b[32mgradcam\u001b[0m\n"
      ]
     },
     "metadata": {},
     "output_type": "display_data"
    }
   ],
   "source": [
    "# ## 15) Grad-CAM (Analyzing Correct Predictions & Mistakes) — robust checkpoint pick\n",
    "\n",
    "@torch.no_grad()\n",
    "def _to_uint8_rgb(xb):\n",
    "    mean = torch.tensor(IMAGENET_MEAN, device=xb.device)[None,:,None,None]\n",
    "    std  = torch.tensor(IMAGENET_STD,  device=xb.device)[None,:,None,None]\n",
    "    x = xb * std + mean\n",
    "    return (x.clamp(0,1)*255).byte().permute(0,2,3,1).cpu().numpy()\n",
    "\n",
    "def _find_last_conv_module(model: nn.Module):\n",
    "    last = None\n",
    "    for m in model.modules():\n",
    "        if isinstance(m, nn.Conv2d): last = m\n",
    "    return last\n",
    "\n",
    "def _pick_gradcam_ckpt():\n",
    "    # Prefer fold1; otherwise pick the best by stored AUC; otherwise first one.\n",
    "    import glob, os\n",
    "    p1 = f\"{CFG.OUT_DIR}/model_fold1.pt\"\n",
    "    if os.path.exists(p1): return p1\n",
    "    ckpts = sorted(glob.glob(f\"{CFG.OUT_DIR}/model_fold*.pt\"))\n",
    "    if not ckpts: return None\n",
    "    \n",
    "    best_ckpt, best_auc = ckpts[0], -1.0\n",
    "    for p in ckpts:\n",
    "        try:\n",
    "            meta = torch.load(p, map_location='cpu', weights_only=False)\n",
    "            auc = float(meta.get('auc', -1.0))\n",
    "            if auc > best_auc:\n",
    "                best_ckpt, best_auc = p, auc\n",
    "        except Exception:\n",
    "            pass # Ignore corrupted files\n",
    "    rprint(f\"[green]Grad-CAM auto-selected checkpoint: {os.path.basename(best_ckpt)} (AUC={best_auc:.4f})[/green]\")\n",
    "    return best_ckpt\n",
    "\n",
    "def gradcam_single(model, x):\n",
    "    base = model.module if isinstance(model, nn.DataParallel) else model\n",
    "    conv = _find_last_conv_module(base.backbone if hasattr(base, 'backbone') else base)\n",
    "    assert conv is not None, \"No Conv2d layer found.\"\n",
    "\n",
    "    feats, grads = [], []\n",
    "    def fwd_hook(_, __, output): feats.append(output)\n",
    "    def bwd_hook(_, __, grad_out): grads.append(grad_out[0])\n",
    "\n",
    "    h1 = conv.register_forward_hook(fwd_hook)\n",
    "    h2 = conv.register_full_backward_hook(bwd_hook)\n",
    "\n",
    "    model.zero_grad(set_to_none=True); model.eval(); x = x.requires_grad_(True)\n",
    "    logits = model(x)\n",
    "    logits.backward() # Grad-CAM works on the gradient of the output logit\n",
    "\n",
    "    feat, grad = feats[-1], grads[-1]\n",
    "    h1.remove(); h2.remove()\n",
    "\n",
    "    weights = grad.mean(dim=(2,3), keepdim=True)\n",
    "    cam = F.relu((weights * feat).sum(dim=1, keepdim=True))\n",
    "    cam = F.interpolate(cam, size=x.shape[2:], mode='bilinear', align_corners=False).squeeze()\n",
    "    return ((cam - cam.min()) / (cam.max() - cam.min() + 1e-8)).detach().cpu().numpy(), logits.detach()\n",
    "\n",
    "def overlay_heatmap(img_rgb_uint8, cam, alpha=0.45):\n",
    "    heat = cv2.applyColorMap((cam*255).astype(np.uint8), cv2.COLORMAP_JET)\n",
    "    heat = cv2.cvtColor(heat, cv2.COLOR_BGR2RGB)\n",
    "    return (alpha*heat + (1-alpha)*img_rgb_uint8).clip(0,255).astype(np.uint8)\n",
    "\n",
    "def run_gradcam_on_validation(df, oof_y, oof_probs, n_examples=8, out_dir=f\"{CFG.OUT_DIR}/gradcam\"):\n",
    "    os.makedirs(out_dir, exist_ok=True)\n",
    "    ckpt_path = _pick_gradcam_ckpt()\n",
    "    if ckpt_path is None:\n",
    "        rprint(\"[red]No fold checkpoints found for Grad-CAM. Train first or restore models.[/red]\")\n",
    "        return\n",
    "\n",
    "    ckpt = torch.load(ckpt_path, map_location=device, weights_only=False)\n",
    "    model = load_ckpt_into_base(ckpt, ckpt[\"backbone\"], device)\n",
    "    model.eval()\n",
    "\n",
    "    is_correct = ((oof_probs > 0.5).astype(int) == oof_y)\n",
    "    conf = np.abs(oof_probs - 0.5)\n",
    "    k = max(1, n_examples//2)\n",
    "    top_correct = np.where(is_correct)[0][np.argsort(-conf[is_correct])][:k]\n",
    "    top_wrong   = np.where(~is_correct)[0][np.argsort(-conf[~is_correct])][:k]\n",
    "    chosen_indices = np.unique(np.concatenate([top_correct, top_wrong]))\n",
    "    \n",
    "    rprint(f\"[magenta]Running Grad-CAM on {len(chosen_indices)} examples (correct & mistakes).[/magenta]\")\n",
    "    for i in chosen_indices:\n",
    "        row = df.iloc[i]\n",
    "        img = cv2.cvtColor(cv2.imread(row.path), cv2.COLOR_BGR2RGB)\n",
    "        x = valid_tfms(image=img)[\"image\"].unsqueeze(0).to(device)\n",
    "        cam, logits = gradcam_single(model, x)\n",
    "        prob = torch.sigmoid(logits).item()\n",
    "        status = \"CORRECT\" if is_correct[i] else \"MISTAKE\"\n",
    "        fname = f\"gradcam_{status}_idx{i}_true{row.y}_pred{prob:.3f}.png\"\n",
    "        overlay = overlay_heatmap(_to_uint8_rgb(x)[0], cam)\n",
    "        Image.fromarray(overlay).save(os.path.join(out_dir, fname))\n",
    "\n",
    "    rprint(f\"[green]Saved Grad-CAM overlays -> {out_dir}[/green]\")\n",
    "\n",
    "# Note: This cell should be run after Cell 12, which generates the oof_probs_cal variable.\n",
    "if 'oof_probs_cal' in locals():\n",
    "    run_gradcam_on_validation(df, oof_y, oof_probs_cal, n_examples=8)\n",
    "else:\n",
    "    rprint(\"[yellow]Skipping Grad-CAM: `oof_probs_cal` not defined. Run Cell 12 first.[/yellow]\")"
   ]
  },
  {
   "cell_type": "code",
   "execution_count": 19,
   "id": "d5595abf",
   "metadata": {
    "execution": {
     "iopub.execute_input": "2025-08-24T01:44:25.800483Z",
     "iopub.status.busy": "2025-08-24T01:44:25.799987Z",
     "iopub.status.idle": "2025-08-24T03:52:51.284316Z",
     "shell.execute_reply": "2025-08-24T03:52:51.282975Z"
    },
    "papermill": {
     "duration": 7705.552644,
     "end_time": "2025-08-24T03:52:51.320513",
     "exception": true,
     "start_time": "2025-08-24T01:44:25.767869",
     "status": "failed"
    },
    "tags": []
   },
   "outputs": [
    {
     "ename": "AttributeError",
     "evalue": "module 'albumentations' has no attribute 'RandomBrightness'",
     "output_type": "error",
     "traceback": [
      "\u001b[0;31m---------------------------------------------------------------------------\u001b[0m",
      "\u001b[0;31mAttributeError\u001b[0m                            Traceback (most recent call last)",
      "\u001b[0;32m/tmp/ipykernel_19/2541694162.py\u001b[0m in \u001b[0;36m<cell line: 0>\u001b[0;34m()\u001b[0m\n\u001b[1;32m     92\u001b[0m     \u001b[0;32mfor\u001b[0m \u001b[0mkind\u001b[0m\u001b[0;34m,\u001b[0m \u001b[0mlevels\u001b[0m \u001b[0;32min\u001b[0m \u001b[0mSTRESS\u001b[0m\u001b[0;34m:\u001b[0m\u001b[0;34m\u001b[0m\u001b[0;34m\u001b[0m\u001b[0m\n\u001b[1;32m     93\u001b[0m         \u001b[0;32mfor\u001b[0m \u001b[0mlv\u001b[0m \u001b[0;32min\u001b[0m \u001b[0mlevels\u001b[0m\u001b[0;34m:\u001b[0m\u001b[0;34m\u001b[0m\u001b[0;34m\u001b[0m\u001b[0m\n\u001b[0;32m---> 94\u001b[0;31m             \u001b[0mtfms\u001b[0m \u001b[0;34m=\u001b[0m \u001b[0mbuild_stress_tfms\u001b[0m\u001b[0;34m(\u001b[0m\u001b[0mkind\u001b[0m\u001b[0;34m,\u001b[0m \u001b[0mlv\u001b[0m\u001b[0;34m,\u001b[0m \u001b[0mCFG\u001b[0m\u001b[0;34m.\u001b[0m\u001b[0mimg_size\u001b[0m\u001b[0;34m)\u001b[0m\u001b[0;34m\u001b[0m\u001b[0;34m\u001b[0m\u001b[0m\n\u001b[0m\u001b[1;32m     95\u001b[0m             \u001b[0mdl\u001b[0m   \u001b[0;34m=\u001b[0m \u001b[0mbuild_loader_for_df\u001b[0m\u001b[0;34m(\u001b[0m\u001b[0mdf\u001b[0m\u001b[0;34m,\u001b[0m \u001b[0mtfms\u001b[0m\u001b[0;34m)\u001b[0m\u001b[0;34m\u001b[0m\u001b[0;34m\u001b[0m\u001b[0m\n\u001b[1;32m     96\u001b[0m             \u001b[0mprobs\u001b[0m\u001b[0;34m=\u001b[0m \u001b[0meval_model_on_loader\u001b[0m\u001b[0;34m(\u001b[0m\u001b[0mmodel_rb\u001b[0m\u001b[0;34m,\u001b[0m \u001b[0mdl\u001b[0m\u001b[0;34m)\u001b[0m\u001b[0;34m\u001b[0m\u001b[0;34m\u001b[0m\u001b[0m\n",
      "\u001b[0;32m/tmp/ipykernel_19/2541694162.py\u001b[0m in \u001b[0;36mbuild_stress_tfms\u001b[0;34m(kind, level, size)\u001b[0m\n\u001b[1;32m     23\u001b[0m         \u001b[0mops\u001b[0m\u001b[0;34m.\u001b[0m\u001b[0mappend\u001b[0m\u001b[0;34m(\u001b[0m\u001b[0mA\u001b[0m\u001b[0;34m.\u001b[0m\u001b[0mGaussianBlur\u001b[0m\u001b[0;34m(\u001b[0m\u001b[0mblur_limit\u001b[0m\u001b[0;34m=\u001b[0m\u001b[0;34m(\u001b[0m\u001b[0mk\u001b[0m\u001b[0;34m,\u001b[0m \u001b[0mk\u001b[0m\u001b[0;34m)\u001b[0m\u001b[0;34m,\u001b[0m \u001b[0mp\u001b[0m\u001b[0;34m=\u001b[0m\u001b[0;36m1.0\u001b[0m\u001b[0;34m)\u001b[0m\u001b[0;34m)\u001b[0m\u001b[0;34m\u001b[0m\u001b[0;34m\u001b[0m\u001b[0m\n\u001b[1;32m     24\u001b[0m     \u001b[0;32melif\u001b[0m \u001b[0mkind\u001b[0m \u001b[0;34m==\u001b[0m \u001b[0;34m\"brightness\"\u001b[0m\u001b[0;34m:\u001b[0m\u001b[0;34m\u001b[0m\u001b[0;34m\u001b[0m\u001b[0m\n\u001b[0;32m---> 25\u001b[0;31m         \u001b[0mops\u001b[0m\u001b[0;34m.\u001b[0m\u001b[0mappend\u001b[0m\u001b[0;34m(\u001b[0m\u001b[0mA\u001b[0m\u001b[0;34m.\u001b[0m\u001b[0mRandomBrightness\u001b[0m\u001b[0;34m(\u001b[0m\u001b[0mlimit\u001b[0m\u001b[0;34m=\u001b[0m\u001b[0mlevel\u001b[0m\u001b[0;34m,\u001b[0m \u001b[0mp\u001b[0m\u001b[0;34m=\u001b[0m\u001b[0;36m1.0\u001b[0m\u001b[0;34m)\u001b[0m\u001b[0;34m)\u001b[0m\u001b[0;34m\u001b[0m\u001b[0;34m\u001b[0m\u001b[0m\n\u001b[0m\u001b[1;32m     26\u001b[0m     \u001b[0;32melif\u001b[0m \u001b[0mkind\u001b[0m \u001b[0;34m==\u001b[0m \u001b[0;34m\"contrast\"\u001b[0m\u001b[0;34m:\u001b[0m\u001b[0;34m\u001b[0m\u001b[0;34m\u001b[0m\u001b[0m\n\u001b[1;32m     27\u001b[0m         \u001b[0mops\u001b[0m\u001b[0;34m.\u001b[0m\u001b[0mappend\u001b[0m\u001b[0;34m(\u001b[0m\u001b[0mA\u001b[0m\u001b[0;34m.\u001b[0m\u001b[0mRandomContrast\u001b[0m\u001b[0;34m(\u001b[0m\u001b[0mlimit\u001b[0m\u001b[0;34m=\u001b[0m\u001b[0mlevel\u001b[0m\u001b[0;34m,\u001b[0m \u001b[0mp\u001b[0m\u001b[0;34m=\u001b[0m\u001b[0;36m1.0\u001b[0m\u001b[0;34m)\u001b[0m\u001b[0;34m)\u001b[0m\u001b[0;34m\u001b[0m\u001b[0;34m\u001b[0m\u001b[0m\n",
      "\u001b[0;31mAttributeError\u001b[0m: module 'albumentations' has no attribute 'RandomBrightness'"
     ]
    }
   ],
   "source": [
    "# === Cell 16R: Robustness / Stress Tests (eval-only) ===\n",
    "import glob  # <— add this\n",
    "import numpy as np, pandas as pd, matplotlib.pyplot as plt, json, os, math, warnings\n",
    "import albumentations as A\n",
    "from albumentations.pytorch import ToTensorV2\n",
    "from torch.utils.data import DataLoader\n",
    "\n",
    "os.makedirs(CFG.OUT_DIR, exist_ok=True)\n",
    "\n",
    "def build_stress_tfms(kind: str, level: float, size: int):\n",
    "    # Base = your valid pipeline\n",
    "    ops = [\n",
    "        A.LongestMaxSize(max_size=size),\n",
    "        A.PadIfNeeded(size, size, border_mode=cv2.BORDER_REFLECT),\n",
    "        A.CLAHE(p=1.0),\n",
    "    ]\n",
    "    if kind == \"gauss_noise\":\n",
    "        ops.append(A.GaussNoise(var_limit=(level, level), p=1.0))\n",
    "    elif kind == \"iso_noise\":\n",
    "        ops.append(A.ISONoise(intensity=(0.0, level), p=1.0))\n",
    "    elif kind == \"blur\":\n",
    "        k = int(level) if int(level)%2==1 else int(level)+1\n",
    "        ops.append(A.GaussianBlur(blur_limit=(k, k), p=1.0))\n",
    "    elif kind == \"brightness\":\n",
    "        ops.append(A.RandomBrightness(limit=level, p=1.0))\n",
    "    elif kind == \"contrast\":\n",
    "        ops.append(A.RandomContrast(limit=level, p=1.0))\n",
    "    elif kind == \"rotate\":\n",
    "        ops.append(A.Rotate(limit=level, p=1.0))\n",
    "    elif kind == \"crop\":\n",
    "        # simulate random zoom/crop keeping aspect; level is min scale\n",
    "        ops.append(A.RandomResizedCrop(size, size, scale=(level, 1.0), p=1.0))\n",
    "    # Normalize last\n",
    "    ops += [A.Normalize(mean=IMAGENET_MEAN, std=IMAGENET_STD), ToTensorV2()]\n",
    "    return A.Compose(ops)\n",
    "\n",
    "@torch.no_grad()\n",
    "def eval_model_on_loader(model, loader):\n",
    "    model.eval()\n",
    "    logits = []\n",
    "    for xb, _ in loader:\n",
    "        xb = xb.to(device, non_blocking=True)\n",
    "        logits.append(tta_logits(model, xb).detach().cpu().numpy())\n",
    "    logits = np.concatenate(logits)\n",
    "    probs  = 1.0 / (1.0 + np.exp(-(logits / max(1e-3, global_t_temp))))\n",
    "    return probs\n",
    "\n",
    "def build_loader_for_df(df_in, tfms, bs=None, nw=None):\n",
    "    ds = USDataset(df_in, tfms)\n",
    "    dl = DataLoader(ds, batch_size=bs or CFG.batch_size*2, shuffle=False,\n",
    "                    num_workers=nw or CFG.num_workers, pin_memory=True)\n",
    "    return dl\n",
    "\n",
    "# Load the single best checkpoint for robustness (same selector used in Grad-CAM)\n",
    "ckpt_path = None\n",
    "try:\n",
    "    ckpt_path = [p for p in sorted(glob.glob(f\"{CFG.OUT_DIR}/model_fold*.pt\")) if os.path.exists(p)]\n",
    "    assert len(ckpt_path) > 0\n",
    "    # choose by best stored AUC\n",
    "    best_auc, best_p = -1.0, None\n",
    "    for p in ckpt_path:\n",
    "        meta = torch.load(p, map_location='cpu', weights_only=False)\n",
    "        auc_v = float(meta.get(\"auc\", -1.0))\n",
    "        if auc_v > best_auc: best_auc, best_p = auc_v, p\n",
    "    ckpt_path = best_p\n",
    "except Exception as e:\n",
    "    from rich import print as rprint\n",
    "    rprint(f\"[red]No checkpoints found for robustness test: {e}[/red]\")\n",
    "    ckpt_path = None\n",
    "\n",
    "if ckpt_path is not None:\n",
    "    ckpt = torch.load(ckpt_path, map_location=device, weights_only=False)\n",
    "    model_rb = load_ckpt_into_base(ckpt, ckpt[\"backbone\"], device)\n",
    "\n",
    "    # Baseline on valid tfms\n",
    "    base_dl = build_loader_for_df(df, valid_tfms)\n",
    "    base_probs = eval_model_on_loader(model_rb, base_dl)\n",
    "    base_m = compute_metrics(df.y.values, base_probs, thr=best_threshold(df.y.values, base_probs)[0])\n",
    "\n",
    "    # Define stressors (kind, level list)\n",
    "    STRESS = [\n",
    "        (\"gauss_noise\",  [5, 15, 25]),\n",
    "        (\"blur\",         [3, 5, 7]),\n",
    "        (\"brightness\",   [0.1, 0.2]),\n",
    "        (\"contrast\",     [0.1, 0.2]),\n",
    "        (\"rotate\",       [5, 10]),\n",
    "        (\"crop\",         [0.95, 0.90]),\n",
    "        (\"iso_noise\",    [0.2, 0.4]),\n",
    "    ]\n",
    "\n",
    "    rows = []\n",
    "    for kind, levels in STRESS:\n",
    "        for lv in levels:\n",
    "            tfms = build_stress_tfms(kind, lv, CFG.img_size)\n",
    "            dl   = build_loader_for_df(df, tfms)\n",
    "            probs= eval_model_on_loader(model_rb, dl)\n",
    "            m    = compute_metrics(df.y.values, probs, thr=best_threshold(df.y.values, probs)[0])\n",
    "            rows.append({\n",
    "                \"stressor\": kind, \"level\": float(lv),\n",
    "                \"AUC\": float(roc_auc_score(df.y.values, probs)),\n",
    "                \"F1\": float(m[\"F1\"]),\n",
    "                \"RECALL_healthy\": float(m[\"RECALL_healthy\"]),\n",
    "                \"SPEC_unhealthy\": float(m[\"SPEC_unhealthy\"])\n",
    "            })\n",
    "\n",
    "    rob_df = pd.DataFrame(rows)\n",
    "    rob_df.to_csv(f\"{CFG.OUT_DIR}/robustness_raw.csv\", index=False)\n",
    "\n",
    "    # Δ relative to baseline (AUC & Sens at Spec80)\n",
    "    # Compute sens@spec80 for baseline and stressors consistently\n",
    "    base_thr_s80 = find_threshold_for_spec(df.y.values, base_probs, 0.80)\n",
    "    base_sens    = compute_metrics(df.y.values, base_probs, thr=base_thr_s80)[\"RECALL_healthy\"]\n",
    "\n",
    "    deltas = []\n",
    "    for _, r in rob_df.iterrows():\n",
    "        # recompute sens@spec80 at each condition\n",
    "        tfms = build_stress_tfms(r[\"stressor\"], r[\"level\"], CFG.img_size)\n",
    "        dl   = build_loader_for_df(df, tfms)\n",
    "        probs= eval_model_on_loader(model_rb, dl)\n",
    "        thr_s80 = find_threshold_for_spec(df.y.values, probs, 0.80)\n",
    "        sens    = compute_metrics(df.y.values, probs, thr=thr_s80)[\"RECALL_healthy\"]\n",
    "        deltas.append({\n",
    "            \"stressor\": r[\"stressor\"], \"level\": r[\"level\"],\n",
    "            \"delta_AUC\": r[\"AUC\"] - float(roc_auc_score(df.y.values, base_probs)),\n",
    "            \"delta_Sens@Spec80\": sens - base_sens\n",
    "        })\n",
    "    delta_df = pd.DataFrame(deltas)\n",
    "    delta_df.to_csv(f\"{CFG.OUT_DIR}/robustness_deltas.csv\", index=False)\n",
    "\n",
    "    # Plot Δ bars (grouped by stressor)\n",
    "    plt.figure(figsize=(9,5))\n",
    "    for i, met in enumerate([\"delta_AUC\", \"delta_Sens@Spec80\"]):\n",
    "        plt.subplot(1,2,i+1)\n",
    "        for kind in delta_df[\"stressor\"].unique():\n",
    "            sub = delta_df[delta_df[\"stressor\"]==kind].sort_values(\"level\")\n",
    "            xs  = np.arange(len(sub)) + (list(delta_df[\"stressor\"].unique()).tolist().index(kind))*0.0\n",
    "            plt.plot(sub[\"level\"], sub[met], marker='o', label=kind)\n",
    "        plt.axhline(0, ls='--', lw=1)\n",
    "        plt.xlabel(\"Level\"); plt.ylabel(met); plt.title(f\"Robustness: {met}\")\n",
    "        if i==1: plt.legend(bbox_to_anchor=(1.05,1), loc='upper left')\n",
    "    plt.tight_layout(); plt.savefig(f\"{CFG.OUT_DIR}/robustness_deltas.png\", dpi=150); plt.close()\n",
    "\n",
    "    from rich import print as rprint\n",
    "    rprint(f\"[green]Robustness eval saved to {CFG.OUT_DIR} (CSV + PNG).[/green]\")\n"
   ]
  },
  {
   "cell_type": "code",
   "execution_count": null,
   "id": "b343a9da",
   "metadata": {
    "execution": {
     "iopub.status.busy": "2025-08-23T17:53:06.149393Z",
     "iopub.status.idle": "2025-08-23T17:53:06.149752Z",
     "shell.execute_reply": "2025-08-23T17:53:06.149600Z",
     "shell.execute_reply.started": "2025-08-23T17:53:06.149581Z"
    },
    "papermill": {
     "duration": null,
     "end_time": null,
     "exception": null,
     "start_time": null,
     "status": "pending"
    },
    "tags": []
   },
   "outputs": [],
   "source": [
    "# === Cell 17R: Inference Latency Benchmark (safe) ===\n",
    "import time, json, numpy as np, pandas as pd, os, glob\n",
    "from torch.utils.data import DataLoader\n",
    "\n",
    "@torch.no_grad()\n",
    "def _time_one_pass(model, xb, use_tta=False):\n",
    "    if device.type == 'cuda':\n",
    "        torch.cuda.synchronize()\n",
    "    t0 = time.perf_counter()\n",
    "    _ = tta_logits(model, xb) if use_tta else model(xb)\n",
    "    if device.type == 'cuda':\n",
    "        torch.cuda.synchronize()\n",
    "    return time.perf_counter() - t0\n",
    "\n",
    "def _bench_loader():\n",
    "    # prefer test_files; if empty, fallback to a sample of train df for speed\n",
    "    paths = []\n",
    "    if \"test_files\" in globals() and len(test_files) > 0:\n",
    "        paths = test_files\n",
    "    else:\n",
    "        print(\"[bench] TEST_FILES empty. Falling back to train set for timing.\")\n",
    "        paths = df.path.values.tolist()\n",
    "    if len(paths) > 512:  # keep it quick\n",
    "        paths = paths[:512]\n",
    "    tfm = build_valid_tfms_for(getattr(CFG, \"img_size\", 448)) if \"build_valid_tfms_for\" in globals() else valid_tfms\n",
    "    ds = USDataset(pd.DataFrame({\"path\": paths, \"y\": 0}), tfm)\n",
    "    return DataLoader(ds, batch_size=getattr(CFG, \"batch_size\", 16)*2,\n",
    "                      shuffle=False, num_workers=getattr(CFG, \"num_workers\", 4), pin_memory=True)\n",
    "\n",
    "@torch.no_grad()\n",
    "def benchmark_latency(dataloader, model_paths, warmup_batches=5, timed_batches=20,\n",
    "                      report_path_json=f\"{CFG.OUT_DIR}/latency_report.json\",\n",
    "                      per_batch_csv=f\"{CFG.OUT_DIR}/latency_batches.csv\"):\n",
    "    if len(model_paths)==0:\n",
    "        print(\"No checkpoints found for latency.\")\n",
    "        return\n",
    "    ckpt = torch.load(model_paths[0], map_location=device, weights_only=False)\n",
    "    model = load_ckpt_into_base(ckpt, ckpt[\"backbone\"], device).eval()\n",
    "\n",
    "    it = iter(dataloader)\n",
    "    for _ in range(warmup_batches):\n",
    "        try: xb,_ = next(it)\n",
    "        except StopIteration:\n",
    "            it = iter(dataloader); xb,_ = next(it)\n",
    "        xb = xb.to(device, non_blocking=True)\n",
    "        _ = model(xb); _ = tta_logits(model, xb)\n",
    "\n",
    "    it = iter(dataloader); rec = []; count = 0\n",
    "    for _ in range(timed_batches):\n",
    "        try: xb,_ = next(it)\n",
    "        except StopIteration:\n",
    "            if count==0:\n",
    "                print(\"No images available for benchmarking.\"); return\n",
    "            break\n",
    "        xb = xb.to(device, non_blocking=True)\n",
    "        t_no  = _time_one_pass(model, xb, use_tta=False)\n",
    "        t_tta = _time_one_pass(model, xb, use_tta=True)\n",
    "        bsz   = int(xb.shape[0])\n",
    "        rec.append({\n",
    "            'batch_index': count, 'batch_size': bsz,\n",
    "            'sec_no_tta': t_no, 'sec_tta': t_tta,\n",
    "            'per_img_ms_no_tta': (t_no/bsz)*1000.0,\n",
    "            'per_img_ms_tta':    (t_tta/bsz)*1000.0,\n",
    "        }); count += 1\n",
    "\n",
    "    if not rec:\n",
    "        print(\"No timing records written.\"); return\n",
    "\n",
    "    pd.DataFrame(rec).to_csv(per_batch_csv, index=False)\n",
    "    per_no  = np.array([r['per_img_ms_no_tta'] for r in rec])\n",
    "    per_tta = np.array([r['per_img_ms_tta']    for r in rec])\n",
    "    summary = {\n",
    "        'num_batches': len(rec),\n",
    "        'batch_size_mean': float(np.mean([r['batch_size'] for r in rec])),\n",
    "        'per_img_ms_no_tta': {'mean': float(per_no.mean()), 'median': float(np.median(per_no)),\n",
    "                              'p90': float(np.percentile(per_no, 90)), 'p99': float(np.percentile(per_no, 99))},\n",
    "        'per_img_ms_tta':    {'mean': float(per_tta.mean()), 'median': float(np.median(per_tta)),\n",
    "                              'p90': float(np.percentile(per_tta, 90)), 'p99': float(np.percentile(per_tta, 99))},\n",
    "        'throughput_imgs_per_sec_no_tta': float(1000.0 / per_no.mean()),\n",
    "        'throughput_imgs_per_sec_tta':    float(1000.0 / per_tta.mean()),\n",
    "    }\n",
    "    with open(report_path_json, 'w') as f: json.dump(summary, f, indent=2)\n",
    "    with open(report_path_json.replace('.json', '.txt'), 'w') as f: f.write(json.dumps(summary, indent=2))\n",
    "    print(f\"Latency report -> {report_path_json}; batches -> {per_batch_csv}\")\n",
    "\n",
    "model_paths = sorted(glob.glob(f\"{CFG.OUT_DIR}/model_fold*.pt\"))\n",
    "bench_loader = _bench_loader()\n",
    "benchmark_latency(bench_loader, model_paths)\n"
   ]
  },
  {
   "cell_type": "code",
   "execution_count": null,
   "id": "a06800f0",
   "metadata": {
    "execution": {
     "iopub.status.busy": "2025-08-23T17:53:06.150827Z",
     "iopub.status.idle": "2025-08-23T17:53:06.151099Z",
     "shell.execute_reply": "2025-08-23T17:53:06.150993Z",
     "shell.execute_reply.started": "2025-08-23T17:53:06.150981Z"
    },
    "papermill": {
     "duration": null,
     "end_time": null,
     "exception": null,
     "start_time": null,
     "status": "pending"
    },
    "tags": []
   },
   "outputs": [],
   "source": [
    "# ## 18) Cleanup\n",
    "gc.collect(); torch.cuda.empty_cache()\n",
    "print(\"Done.\")\n"
   ]
  },
  {
   "cell_type": "code",
   "execution_count": null,
   "id": "552b8262",
   "metadata": {
    "execution": {
     "iopub.status.busy": "2025-08-23T17:53:06.152309Z",
     "iopub.status.idle": "2025-08-23T17:53:06.152674Z",
     "shell.execute_reply": "2025-08-23T17:53:06.152486Z",
     "shell.execute_reply.started": "2025-08-23T17:53:06.152471Z"
    },
    "papermill": {
     "duration": null,
     "end_time": null,
     "exception": null,
     "start_time": null,
     "status": "pending"
    },
    "tags": []
   },
   "outputs": [],
   "source": [
    "# === Cell 19R2: Rebuild Appendix to include Decision Curve ===\n",
    "import base64, json, os, glob\n",
    "from datetime import datetime\n",
    "from rich import print as rprint\n",
    "\n",
    "def _img_data_uri(p):\n",
    "    try:\n",
    "        with open(p, 'rb') as f: return 'data:image/png;base64,' + base64.b64encode(f.read()).decode('ascii')\n",
    "    except Exception: return None\n",
    "\n",
    "def build_html_appendix(out_html=f\"{CFG.OUT_DIR}/appendix.html\"):\n",
    "    imgs = {\n",
    "        'ROC Curve':        f\"{CFG.OUT_DIR}/oof_roc.png\",\n",
    "        'PR Curve':         f\"{CFG.OUT_DIR}/oof_pr.png\",\n",
    "        'Reliability':      f\"{CFG.OUT_DIR}/oof_reliability.png\",\n",
    "        'DET Curve':        f\"{CFG.OUT_DIR}/oof_det.png\",\n",
    "        'Score Histogram':  f\"{CFG.OUT_DIR}/oof_score_hist.png\",\n",
    "        'Decision Curve':   f\"{CFG.OUT_DIR}/decision_curve.png\",   # NEW\n",
    "        'Class Balance':    f\"{CFG.OUT_DIR}/class_balance.png\",\n",
    "        'Augmentations':    f\"{CFG.OUT_DIR}/aug_preview_grid.png\",\n",
    "        'CM @ J*':          f\"{CFG.OUT_DIR}/cm_J_star.png\",\n",
    "        'CM @ Spec80':      f\"{CFG.OUT_DIR}/cm_spec80.png\",\n",
    "        'Robustness Δ':     f\"{CFG.OUT_DIR}/robustness_deltas.png\",\n",
    "    }\n",
    "    gradcams = sorted(glob.glob(f\"{CFG.OUT_DIR}/gradcam/*.png\"))[:24]\n",
    "\n",
    "    # Load metrics + latency if present\n",
    "    metrics_ci, rep = {}, {}\n",
    "    try:\n",
    "        with open(f\"{CFG.OUT_DIR}/oof_metrics_ci.json\") as f: metrics_ci = json.load(f)\n",
    "    except Exception: pass\n",
    "    try:\n",
    "        with open(f\"{CFG.OUT_DIR}/latency_report.json\") as f: rep = json.load(f)\n",
    "    except Exception: pass\n",
    "\n",
    "    # KPI panel\n",
    "    kpis = {}\n",
    "    if 'AUC_ROC' in metrics_ci:\n",
    "        kpis['OOF AUC (95% CI)'] = f\"{metrics_ci['AUC_ROC']['mean']:.4f} [{metrics_ci['AUC_ROC']['ci95'][0]:.4f}, {metrics_ci['AUC_ROC']['ci95'][1]:.4f}]\"\n",
    "    if 'AP' in metrics_ci:\n",
    "        kpis['AP (95% CI)'] = f\"{metrics_ci['AP']['mean']:.4f} [{metrics_ci['AP']['ci95'][0]:.4f}, {metrics_ci['AP']['ci95'][1]:.4f}]\"\n",
    "    if 'Brier' in metrics_ci:\n",
    "        kpis['Brier (95% CI)'] = f\"{metrics_ci['Brier']['mean']:.4f} [{metrics_ci['Brier']['ci95'][0]:.4f}, {metrics_ci['Brier']['ci95'][1]:.4f}]\"\n",
    "    if 'per_img_ms_tta' in rep:\n",
    "        kpis['Latency (TTA) mean'] = f\"{rep['per_img_ms_tta']['mean']:.2f} ms/img\"\n",
    "        kpis['Throughput (TTA)']   = f\"{rep['throughput_imgs_per_sec_tta']:.1f} img/s\"\n",
    "\n",
    "    styles = \"<style>body{font-family:system-ui,sans-serif;margin:2rem}h1,h2{margin-bottom:0.5rem}.grid{display:grid;grid-template-columns:repeat(auto-fit,minmax(300px,1fr));gap:1rem}.card{border:1px solid #ddd;border-radius:8px;padding:1rem;box-shadow:0 2px 4px #0001}table{border-collapse:collapse;width:100%;margin-top:1rem}th,td{border:1px solid #ddd;padding:8px;text-align:left}th{background-color:#f2f2f2}</style>\"\n",
    "    kpi_html = \"\".join([f\"<div class='card'><b>{k}</b><br>{v}</div>\" for k, v in kpis.items()])\n",
    "    plots_html = \"\".join([f\"<div class='card'><h3>{k}</h3><img src='{_img_data_uri(v)}' style='width:100%'></div>\" for k, v in imgs.items() if os.path.exists(v)])\n",
    "    gradcam_html = \"\".join([f\"<div class='card'><b>{os.path.basename(p)}</b><img src='{_img_data_uri(p)}' style='width:100%'></div>\" for p in gradcams])\n",
    "\n",
    "    html = f\"<!DOCTYPE html><html><head>{styles}<title>PCOSGen Appendix</title></head><body>\"\n",
    "    html += f\"<h1>PCOSGen Appendix</h1><p>Generated: {datetime.now().strftime('%Y-%m-%d %H:%M:%S')}</p>\"\n",
    "    html += f\"<h2>Key Metrics</h2><div class='grid'>{kpi_html}</div>\"\n",
    "    if rep:\n",
    "        html += (\"<h2>Latency</h2>\"\n",
    "                 f\"<table><tr><th>Mode</th><th>Mean (ms/img)</th><th>Throughput (img/s)</th></tr>\"\n",
    "                 f\"<tr><td>No-TTA</td><td>{rep.get('per_img_ms_no_tta',{}).get('mean','')}</td><td>{rep.get('throughput_imgs_per_sec_no_tta','')}</td></tr>\"\n",
    "                 f\"<tr><td>TTA</td><td>{rep.get('per_img_ms_tta',{}).get('mean','')}</td><td>{rep.get('throughput_imgs_per_sec_tta','')}</td></tr></table>\")\n",
    "    html += f\"<h2>Core Plots</h2><div class='grid'>{plots_html}</div>\"\n",
    "    html += f\"<h2>Grad-CAM Examples</h2><div class='grid'>{gradcam_html}</div>\"\n",
    "    html += \"</body></html>\"\n",
    "\n",
    "    with open(out_html, 'w') as f: f.write(html)\n",
    "    rprint(f\"[green]HTML appendix updated with Decision Curve -> {out_html}[/green]\")\n",
    "\n",
    "build_html_appendix()\n"
   ]
  },
  {
   "cell_type": "code",
   "execution_count": null,
   "id": "8b455b0e",
   "metadata": {
    "execution": {
     "iopub.status.busy": "2025-08-23T17:53:06.153615Z",
     "iopub.status.idle": "2025-08-23T17:53:06.153925Z",
     "shell.execute_reply": "2025-08-23T17:53:06.153789Z",
     "shell.execute_reply.started": "2025-08-23T17:53:06.153775Z"
    },
    "papermill": {
     "duration": null,
     "end_time": null,
     "exception": null,
     "start_time": null,
     "status": "pending"
    },
    "tags": []
   },
   "outputs": [],
   "source": [
    "# === Cell 21: Model Card JSON ===\n",
    "import json, os, platform, torch, time\n",
    "\n",
    "card = {\n",
    "    \"project\": \"PCOS ultrasound classification (ConvNeXt-T)\",\n",
    "    \"created_utc\": int(time.time()),\n",
    "    \"data\": {\n",
    "        \"train_dir\": CFG.TRAIN_DIR,\n",
    "        \"test_dir\": CFG.TEST_DIR,\n",
    "        \"labels_file\": CFG.LABELS_FILE,\n",
    "        \"num_train_images\": int(len(df)),\n",
    "        \"class_balance\": df.y.value_counts().to_dict()\n",
    "    },\n",
    "    \"training\": {\n",
    "        \"folds\": CFG.folds,\n",
    "        \"img_size\": CFG.img_size,\n",
    "        \"epochs\": CFG.epochs,\n",
    "        \"lr\": CFG.lr,\n",
    "        \"weight_decay\": CFG.weight_decay,\n",
    "        \"optimizer\": \"AdamW\",\n",
    "        \"scheduler\": \"Cosine w/ warmup\",\n",
    "        \"use_amp\": bool(CFG.use_amp),\n",
    "        \"mixup\": {\"enabled\": bool(getattr(CFG, \"use_mixup\", True)), \"alpha\": float(getattr(CFG, \"mixup_alpha\", 0.2))},\n",
    "        \"focal\": {\"enabled\": bool(getattr(CFG, \"use_focal\", True)), \"alpha\": float(CFG.focal_alpha), \"gamma\": float(CFG.focal_gamma)},\n",
    "        \"ema_decay\": float(getattr(CFG, \"ema_decay\", 0.999))\n",
    "    },\n",
    "    \"hardware\": {\n",
    "        \"cuda_available\": torch.cuda.is_available(),\n",
    "        \"num_gpus\": torch.cuda.device_count(),\n",
    "        \"gpus\": [torch.cuda.get_device_name(i) for i in range(torch.cuda.device_count())],\n",
    "        \"platform\": platform.platform()\n",
    "    },\n",
    "    \"calibration\": {\n",
    "        \"temperature\": float(global_t_temp)\n",
    "    },\n",
    "    \"artifacts\": {\n",
    "        \"out_dir\": CFG.OUT_DIR,\n",
    "        \"thresholds_json\": f\"{CFG.OUT_DIR}/thresholds.json\",\n",
    "        \"metrics_ci_json\": f\"{CFG.OUT_DIR}/oof_metrics_ci.json\",\n",
    "        \"latency_json\": f\"{CFG.OUT_DIR}/latency_report.json\",\n",
    "        \"appendix_html\": f\"{CFG.OUT_DIR}/appendix.html\"\n",
    "    },\n",
    "    \"notes\": \"Patient-level grouping not available; stratified label splits used. Evaluate external site/device if possible.\"\n",
    "}\n",
    "\n",
    "with open(f\"{CFG.OUT_DIR}/model_card.json\", \"w\") as f:\n",
    "    json.dump(card, f, indent=2)\n",
    "print(f\"Model card saved -> {CFG.OUT_DIR}/model_card.json\")\n"
   ]
  },
  {
   "cell_type": "code",
   "execution_count": null,
   "id": "ceb67113",
   "metadata": {
    "execution": {
     "iopub.status.busy": "2025-08-23T17:53:06.155452Z",
     "iopub.status.idle": "2025-08-23T17:53:06.155719Z",
     "shell.execute_reply": "2025-08-23T17:53:06.155612Z",
     "shell.execute_reply.started": "2025-08-23T17:53:06.155601Z"
    },
    "papermill": {
     "duration": null,
     "end_time": null,
     "exception": null,
     "start_time": null,
     "status": "pending"
    },
    "tags": []
   },
   "outputs": [],
   "source": [
    "!zip -qr /kaggle/working/pcosgen_artifacts.zip /kaggle/working/pcosgen_out\n",
    "\n",
    "\n",
    "\n",
    "\n"
   ]
  }
 ],
 "metadata": {
  "kaggle": {
   "accelerator": "nvidiaTeslaT4",
   "dataSources": [
    {
     "datasetId": 8106764,
     "sourceId": 12819776,
     "sourceType": "datasetVersion"
    }
   ],
   "dockerImageVersionId": 31090,
   "isGpuEnabled": true,
   "isInternetEnabled": true,
   "language": "python",
   "sourceType": "notebook"
  },
  "kernelspec": {
   "display_name": "Python 3",
   "language": "python",
   "name": "python3"
  },
  "language_info": {
   "codemirror_mode": {
    "name": "ipython",
    "version": 3
   },
   "file_extension": ".py",
   "mimetype": "text/x-python",
   "name": "python",
   "nbconvert_exporter": "python",
   "pygments_lexer": "ipython3",
   "version": "3.11.13"
  },
  "papermill": {
   "default_parameters": {},
   "duration": 21364.835254,
   "end_time": "2025-08-24T03:52:55.400040",
   "environment_variables": {},
   "exception": true,
   "input_path": "__notebook__.ipynb",
   "output_path": "__notebook__.ipynb",
   "parameters": {},
   "start_time": "2025-08-23T21:56:50.564786",
   "version": "2.6.0"
  },
  "widgets": {
   "application/vnd.jupyter.widget-state+json": {
    "state": {
     "24d11a0f835c4bde91a1ccd285c63f69": {
      "model_module": "@jupyter-widgets/controls",
      "model_module_version": "2.0.0",
      "model_name": "HTMLModel",
      "state": {
       "_dom_classes": [],
       "_model_module": "@jupyter-widgets/controls",
       "_model_module_version": "2.0.0",
       "_model_name": "HTMLModel",
       "_view_count": null,
       "_view_module": "@jupyter-widgets/controls",
       "_view_module_version": "2.0.0",
       "_view_name": "HTMLView",
       "description": "",
       "description_allow_html": false,
       "layout": "IPY_MODEL_2f3dfa73f4054b0ca393830b74b6091c",
       "placeholder": "​",
       "style": "IPY_MODEL_5c8b17cd67ae40fd99191a1d44d45884",
       "tabbable": null,
       "tooltip": null,
       "value": " 265M/265M [00:01&lt;00:00, 241MB/s]"
      }
     },
     "2f3dfa73f4054b0ca393830b74b6091c": {
      "model_module": "@jupyter-widgets/base",
      "model_module_version": "2.0.0",
      "model_name": "LayoutModel",
      "state": {
       "_model_module": "@jupyter-widgets/base",
       "_model_module_version": "2.0.0",
       "_model_name": "LayoutModel",
       "_view_count": null,
       "_view_module": "@jupyter-widgets/base",
       "_view_module_version": "2.0.0",
       "_view_name": "LayoutView",
       "align_content": null,
       "align_items": null,
       "align_self": null,
       "border_bottom": null,
       "border_left": null,
       "border_right": null,
       "border_top": null,
       "bottom": null,
       "display": null,
       "flex": null,
       "flex_flow": null,
       "grid_area": null,
       "grid_auto_columns": null,
       "grid_auto_flow": null,
       "grid_auto_rows": null,
       "grid_column": null,
       "grid_gap": null,
       "grid_row": null,
       "grid_template_areas": null,
       "grid_template_columns": null,
       "grid_template_rows": null,
       "height": null,
       "justify_content": null,
       "justify_items": null,
       "left": null,
       "margin": null,
       "max_height": null,
       "max_width": null,
       "min_height": null,
       "min_width": null,
       "object_fit": null,
       "object_position": null,
       "order": null,
       "overflow": null,
       "padding": null,
       "right": null,
       "top": null,
       "visibility": null,
       "width": null
      }
     },
     "4ee5f31d90754a328c103e013821c04e": {
      "model_module": "@jupyter-widgets/base",
      "model_module_version": "2.0.0",
      "model_name": "LayoutModel",
      "state": {
       "_model_module": "@jupyter-widgets/base",
       "_model_module_version": "2.0.0",
       "_model_name": "LayoutModel",
       "_view_count": null,
       "_view_module": "@jupyter-widgets/base",
       "_view_module_version": "2.0.0",
       "_view_name": "LayoutView",
       "align_content": null,
       "align_items": null,
       "align_self": null,
       "border_bottom": null,
       "border_left": null,
       "border_right": null,
       "border_top": null,
       "bottom": null,
       "display": null,
       "flex": null,
       "flex_flow": null,
       "grid_area": null,
       "grid_auto_columns": null,
       "grid_auto_flow": null,
       "grid_auto_rows": null,
       "grid_column": null,
       "grid_gap": null,
       "grid_row": null,
       "grid_template_areas": null,
       "grid_template_columns": null,
       "grid_template_rows": null,
       "height": null,
       "justify_content": null,
       "justify_items": null,
       "left": null,
       "margin": null,
       "max_height": null,
       "max_width": null,
       "min_height": null,
       "min_width": null,
       "object_fit": null,
       "object_position": null,
       "order": null,
       "overflow": null,
       "padding": null,
       "right": null,
       "top": null,
       "visibility": null,
       "width": null
      }
     },
     "5c8b17cd67ae40fd99191a1d44d45884": {
      "model_module": "@jupyter-widgets/controls",
      "model_module_version": "2.0.0",
      "model_name": "HTMLStyleModel",
      "state": {
       "_model_module": "@jupyter-widgets/controls",
       "_model_module_version": "2.0.0",
       "_model_name": "HTMLStyleModel",
       "_view_count": null,
       "_view_module": "@jupyter-widgets/base",
       "_view_module_version": "2.0.0",
       "_view_name": "StyleView",
       "background": null,
       "description_width": "",
       "font_size": null,
       "text_color": null
      }
     },
     "8a07633e32144822bb99de949b2a104c": {
      "model_module": "@jupyter-widgets/controls",
      "model_module_version": "2.0.0",
      "model_name": "FloatProgressModel",
      "state": {
       "_dom_classes": [],
       "_model_module": "@jupyter-widgets/controls",
       "_model_module_version": "2.0.0",
       "_model_name": "FloatProgressModel",
       "_view_count": null,
       "_view_module": "@jupyter-widgets/controls",
       "_view_module_version": "2.0.0",
       "_view_name": "ProgressView",
       "bar_style": "success",
       "description": "",
       "description_allow_html": false,
       "layout": "IPY_MODEL_4ee5f31d90754a328c103e013821c04e",
       "max": 265036242.0,
       "min": 0.0,
       "orientation": "horizontal",
       "style": "IPY_MODEL_ea7e2a94294b49499113a49bec1acf61",
       "tabbable": null,
       "tooltip": null,
       "value": 265036242.0
      }
     },
     "90efdc81b93f41969f17968d6e468299": {
      "model_module": "@jupyter-widgets/base",
      "model_module_version": "2.0.0",
      "model_name": "LayoutModel",
      "state": {
       "_model_module": "@jupyter-widgets/base",
       "_model_module_version": "2.0.0",
       "_model_name": "LayoutModel",
       "_view_count": null,
       "_view_module": "@jupyter-widgets/base",
       "_view_module_version": "2.0.0",
       "_view_name": "LayoutView",
       "align_content": null,
       "align_items": null,
       "align_self": null,
       "border_bottom": null,
       "border_left": null,
       "border_right": null,
       "border_top": null,
       "bottom": null,
       "display": null,
       "flex": null,
       "flex_flow": null,
       "grid_area": null,
       "grid_auto_columns": null,
       "grid_auto_flow": null,
       "grid_auto_rows": null,
       "grid_column": null,
       "grid_gap": null,
       "grid_row": null,
       "grid_template_areas": null,
       "grid_template_columns": null,
       "grid_template_rows": null,
       "height": null,
       "justify_content": null,
       "justify_items": null,
       "left": null,
       "margin": null,
       "max_height": null,
       "max_width": null,
       "min_height": null,
       "min_width": null,
       "object_fit": null,
       "object_position": null,
       "order": null,
       "overflow": null,
       "padding": null,
       "right": null,
       "top": null,
       "visibility": null,
       "width": null
      }
     },
     "91a0f2e1c07544c9937122fc737d4158": {
      "model_module": "@jupyter-widgets/base",
      "model_module_version": "2.0.0",
      "model_name": "LayoutModel",
      "state": {
       "_model_module": "@jupyter-widgets/base",
       "_model_module_version": "2.0.0",
       "_model_name": "LayoutModel",
       "_view_count": null,
       "_view_module": "@jupyter-widgets/base",
       "_view_module_version": "2.0.0",
       "_view_name": "LayoutView",
       "align_content": null,
       "align_items": null,
       "align_self": null,
       "border_bottom": null,
       "border_left": null,
       "border_right": null,
       "border_top": null,
       "bottom": null,
       "display": null,
       "flex": null,
       "flex_flow": null,
       "grid_area": null,
       "grid_auto_columns": null,
       "grid_auto_flow": null,
       "grid_auto_rows": null,
       "grid_column": null,
       "grid_gap": null,
       "grid_row": null,
       "grid_template_areas": null,
       "grid_template_columns": null,
       "grid_template_rows": null,
       "height": null,
       "justify_content": null,
       "justify_items": null,
       "left": null,
       "margin": null,
       "max_height": null,
       "max_width": null,
       "min_height": null,
       "min_width": null,
       "object_fit": null,
       "object_position": null,
       "order": null,
       "overflow": null,
       "padding": null,
       "right": null,
       "top": null,
       "visibility": null,
       "width": null
      }
     },
     "9ee3affcb0254683b79df4533817c127": {
      "model_module": "@jupyter-widgets/controls",
      "model_module_version": "2.0.0",
      "model_name": "HBoxModel",
      "state": {
       "_dom_classes": [],
       "_model_module": "@jupyter-widgets/controls",
       "_model_module_version": "2.0.0",
       "_model_name": "HBoxModel",
       "_view_count": null,
       "_view_module": "@jupyter-widgets/controls",
       "_view_module_version": "2.0.0",
       "_view_name": "HBoxView",
       "box_style": "",
       "children": [
        "IPY_MODEL_a403fcc7aa7a4488adc5e91c277358f9",
        "IPY_MODEL_8a07633e32144822bb99de949b2a104c",
        "IPY_MODEL_24d11a0f835c4bde91a1ccd285c63f69"
       ],
       "layout": "IPY_MODEL_90efdc81b93f41969f17968d6e468299",
       "tabbable": null,
       "tooltip": null
      }
     },
     "a403fcc7aa7a4488adc5e91c277358f9": {
      "model_module": "@jupyter-widgets/controls",
      "model_module_version": "2.0.0",
      "model_name": "HTMLModel",
      "state": {
       "_dom_classes": [],
       "_model_module": "@jupyter-widgets/controls",
       "_model_module_version": "2.0.0",
       "_model_name": "HTMLModel",
       "_view_count": null,
       "_view_module": "@jupyter-widgets/controls",
       "_view_module_version": "2.0.0",
       "_view_name": "HTMLView",
       "description": "",
       "description_allow_html": false,
       "layout": "IPY_MODEL_91a0f2e1c07544c9937122fc737d4158",
       "placeholder": "​",
       "style": "IPY_MODEL_bc2dfeadd9134457ac31a4ba12e5ccab",
       "tabbable": null,
       "tooltip": null,
       "value": "model.safetensors: 100%"
      }
     },
     "bc2dfeadd9134457ac31a4ba12e5ccab": {
      "model_module": "@jupyter-widgets/controls",
      "model_module_version": "2.0.0",
      "model_name": "HTMLStyleModel",
      "state": {
       "_model_module": "@jupyter-widgets/controls",
       "_model_module_version": "2.0.0",
       "_model_name": "HTMLStyleModel",
       "_view_count": null,
       "_view_module": "@jupyter-widgets/base",
       "_view_module_version": "2.0.0",
       "_view_name": "StyleView",
       "background": null,
       "description_width": "",
       "font_size": null,
       "text_color": null
      }
     },
     "ea7e2a94294b49499113a49bec1acf61": {
      "model_module": "@jupyter-widgets/controls",
      "model_module_version": "2.0.0",
      "model_name": "ProgressStyleModel",
      "state": {
       "_model_module": "@jupyter-widgets/controls",
       "_model_module_version": "2.0.0",
       "_model_name": "ProgressStyleModel",
       "_view_count": null,
       "_view_module": "@jupyter-widgets/base",
       "_view_module_version": "2.0.0",
       "_view_name": "StyleView",
       "bar_color": null,
       "description_width": ""
      }
     }
    },
    "version_major": 2,
    "version_minor": 0
   }
  }
 },
 "nbformat": 4,
 "nbformat_minor": 5
}
